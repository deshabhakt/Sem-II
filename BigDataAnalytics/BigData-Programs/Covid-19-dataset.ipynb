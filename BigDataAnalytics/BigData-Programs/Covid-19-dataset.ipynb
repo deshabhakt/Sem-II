{
 "metadata": {
  "language_info": {
   "codemirror_mode": {
    "name": "ipython",
    "version": 3
   },
   "file_extension": ".py",
   "mimetype": "text/x-python",
   "name": "python",
   "nbconvert_exporter": "python",
   "pygments_lexer": "ipython3",
   "version": "3.9.2"
  },
  "orig_nbformat": 2,
  "kernelspec": {
   "name": "python3",
   "display_name": "Python 3",
   "language": "python"
  }
 },
 "nbformat": 4,
 "nbformat_minor": 2,
 "cells": [
  {
   "cell_type": "code",
   "execution_count": 1,
   "metadata": {},
   "outputs": [],
   "source": [
    "import pandas as pd\n",
    "import numpy as np\n",
    "import matplotlib.pyplot as plt"
   ]
  },
  {
   "cell_type": "code",
   "execution_count": 2,
   "metadata": {},
   "outputs": [],
   "source": [
    "df = pd.read_csv('./covid 19 data.csv')"
   ]
  },
  {
   "cell_type": "code",
   "execution_count": 3,
   "metadata": {},
   "outputs": [],
   "source": [
    "df['NewDate'] = pd.to_datetime(df['Date'], dayfirst = True)"
   ]
  },
  {
   "cell_type": "code",
   "execution_count": 4,
   "metadata": {},
   "outputs": [
    {
     "output_type": "execute_result",
     "data": {
      "text/plain": [
       "   Sno      Date     Time State/UnionTerritory ConfirmedIndianNational  \\\n",
       "0    1  30/01/20  6:00 PM               Kerala                       1   \n",
       "1    2  31/01/20  6:00 PM               Kerala                       1   \n",
       "2    3  01/02/20  6:00 PM               Kerala                       2   \n",
       "3    4  02/02/20  6:00 PM               Kerala                       3   \n",
       "4    5  03/02/20  6:00 PM               Kerala                       3   \n",
       "\n",
       "  ConfirmedForeignNational  Cured  Deaths  Confirmed    NewDate  \n",
       "0                        0      0       0          1 2020-01-30  \n",
       "1                        0      0       0          1 2020-01-31  \n",
       "2                        0      0       0          2 2020-02-01  \n",
       "3                        0      0       0          3 2020-02-02  \n",
       "4                        0      0       0          3 2020-02-03  "
      ],
      "text/html": "<div>\n<style scoped>\n    .dataframe tbody tr th:only-of-type {\n        vertical-align: middle;\n    }\n\n    .dataframe tbody tr th {\n        vertical-align: top;\n    }\n\n    .dataframe thead th {\n        text-align: right;\n    }\n</style>\n<table border=\"1\" class=\"dataframe\">\n  <thead>\n    <tr style=\"text-align: right;\">\n      <th></th>\n      <th>Sno</th>\n      <th>Date</th>\n      <th>Time</th>\n      <th>State/UnionTerritory</th>\n      <th>ConfirmedIndianNational</th>\n      <th>ConfirmedForeignNational</th>\n      <th>Cured</th>\n      <th>Deaths</th>\n      <th>Confirmed</th>\n      <th>NewDate</th>\n    </tr>\n  </thead>\n  <tbody>\n    <tr>\n      <th>0</th>\n      <td>1</td>\n      <td>30/01/20</td>\n      <td>6:00 PM</td>\n      <td>Kerala</td>\n      <td>1</td>\n      <td>0</td>\n      <td>0</td>\n      <td>0</td>\n      <td>1</td>\n      <td>2020-01-30</td>\n    </tr>\n    <tr>\n      <th>1</th>\n      <td>2</td>\n      <td>31/01/20</td>\n      <td>6:00 PM</td>\n      <td>Kerala</td>\n      <td>1</td>\n      <td>0</td>\n      <td>0</td>\n      <td>0</td>\n      <td>1</td>\n      <td>2020-01-31</td>\n    </tr>\n    <tr>\n      <th>2</th>\n      <td>3</td>\n      <td>01/02/20</td>\n      <td>6:00 PM</td>\n      <td>Kerala</td>\n      <td>2</td>\n      <td>0</td>\n      <td>0</td>\n      <td>0</td>\n      <td>2</td>\n      <td>2020-02-01</td>\n    </tr>\n    <tr>\n      <th>3</th>\n      <td>4</td>\n      <td>02/02/20</td>\n      <td>6:00 PM</td>\n      <td>Kerala</td>\n      <td>3</td>\n      <td>0</td>\n      <td>0</td>\n      <td>0</td>\n      <td>3</td>\n      <td>2020-02-02</td>\n    </tr>\n    <tr>\n      <th>4</th>\n      <td>5</td>\n      <td>03/02/20</td>\n      <td>6:00 PM</td>\n      <td>Kerala</td>\n      <td>3</td>\n      <td>0</td>\n      <td>0</td>\n      <td>0</td>\n      <td>3</td>\n      <td>2020-02-03</td>\n    </tr>\n  </tbody>\n</table>\n</div>"
     },
     "metadata": {},
     "execution_count": 4
    }
   ],
   "source": [
    "df.head()"
   ]
  },
  {
   "cell_type": "code",
   "execution_count": 5,
   "metadata": {},
   "outputs": [],
   "source": [
    "df['Month'] = pd.DatetimeIndex(df['NewDate']).month"
   ]
  },
  {
   "cell_type": "code",
   "execution_count": 6,
   "metadata": {},
   "outputs": [
    {
     "output_type": "execute_result",
     "data": {
      "text/plain": [
       "       Sno      Date     Time State/UnionTerritory ConfirmedIndianNational  \\\n",
       "0        1  30/01/20  6:00 PM               Kerala                       1   \n",
       "1        2  31/01/20  6:00 PM               Kerala                       1   \n",
       "2        3  01/02/20  6:00 PM               Kerala                       2   \n",
       "3        4  02/02/20  6:00 PM               Kerala                       3   \n",
       "4        5  03/02/20  6:00 PM               Kerala                       3   \n",
       "...    ...       ...      ...                  ...                     ...   \n",
       "9286  9287  09/12/20  8:00 AM            Telengana                       -   \n",
       "9287  9288  09/12/20  8:00 AM              Tripura                       -   \n",
       "9288  9289  09/12/20  8:00 AM          Uttarakhand                       -   \n",
       "9289  9290  09/12/20  8:00 AM        Uttar Pradesh                       -   \n",
       "9290  9291  09/12/20  8:00 AM          West Bengal                       -   \n",
       "\n",
       "     ConfirmedForeignNational   Cured  Deaths  Confirmed    NewDate  Month  \n",
       "0                           0       0       0          1 2020-01-30      1  \n",
       "1                           0       0       0          1 2020-01-31      1  \n",
       "2                           0       0       0          2 2020-02-01      2  \n",
       "3                           0       0       0          3 2020-02-02      2  \n",
       "4                           0       0       0          3 2020-02-03      2  \n",
       "...                       ...     ...     ...        ...        ...    ...  \n",
       "9286                        -  266120    1480     275261 2020-12-09     12  \n",
       "9287                        -   32169     373      32945 2020-12-09     12  \n",
       "9288                        -   72435    1307      79141 2020-12-09     12  \n",
       "9289                        -  528832    7967     558173 2020-12-09     12  \n",
       "9290                        -  475425    8820     507995 2020-12-09     12  \n",
       "\n",
       "[9291 rows x 11 columns]"
      ],
      "text/html": "<div>\n<style scoped>\n    .dataframe tbody tr th:only-of-type {\n        vertical-align: middle;\n    }\n\n    .dataframe tbody tr th {\n        vertical-align: top;\n    }\n\n    .dataframe thead th {\n        text-align: right;\n    }\n</style>\n<table border=\"1\" class=\"dataframe\">\n  <thead>\n    <tr style=\"text-align: right;\">\n      <th></th>\n      <th>Sno</th>\n      <th>Date</th>\n      <th>Time</th>\n      <th>State/UnionTerritory</th>\n      <th>ConfirmedIndianNational</th>\n      <th>ConfirmedForeignNational</th>\n      <th>Cured</th>\n      <th>Deaths</th>\n      <th>Confirmed</th>\n      <th>NewDate</th>\n      <th>Month</th>\n    </tr>\n  </thead>\n  <tbody>\n    <tr>\n      <th>0</th>\n      <td>1</td>\n      <td>30/01/20</td>\n      <td>6:00 PM</td>\n      <td>Kerala</td>\n      <td>1</td>\n      <td>0</td>\n      <td>0</td>\n      <td>0</td>\n      <td>1</td>\n      <td>2020-01-30</td>\n      <td>1</td>\n    </tr>\n    <tr>\n      <th>1</th>\n      <td>2</td>\n      <td>31/01/20</td>\n      <td>6:00 PM</td>\n      <td>Kerala</td>\n      <td>1</td>\n      <td>0</td>\n      <td>0</td>\n      <td>0</td>\n      <td>1</td>\n      <td>2020-01-31</td>\n      <td>1</td>\n    </tr>\n    <tr>\n      <th>2</th>\n      <td>3</td>\n      <td>01/02/20</td>\n      <td>6:00 PM</td>\n      <td>Kerala</td>\n      <td>2</td>\n      <td>0</td>\n      <td>0</td>\n      <td>0</td>\n      <td>2</td>\n      <td>2020-02-01</td>\n      <td>2</td>\n    </tr>\n    <tr>\n      <th>3</th>\n      <td>4</td>\n      <td>02/02/20</td>\n      <td>6:00 PM</td>\n      <td>Kerala</td>\n      <td>3</td>\n      <td>0</td>\n      <td>0</td>\n      <td>0</td>\n      <td>3</td>\n      <td>2020-02-02</td>\n      <td>2</td>\n    </tr>\n    <tr>\n      <th>4</th>\n      <td>5</td>\n      <td>03/02/20</td>\n      <td>6:00 PM</td>\n      <td>Kerala</td>\n      <td>3</td>\n      <td>0</td>\n      <td>0</td>\n      <td>0</td>\n      <td>3</td>\n      <td>2020-02-03</td>\n      <td>2</td>\n    </tr>\n    <tr>\n      <th>...</th>\n      <td>...</td>\n      <td>...</td>\n      <td>...</td>\n      <td>...</td>\n      <td>...</td>\n      <td>...</td>\n      <td>...</td>\n      <td>...</td>\n      <td>...</td>\n      <td>...</td>\n      <td>...</td>\n    </tr>\n    <tr>\n      <th>9286</th>\n      <td>9287</td>\n      <td>09/12/20</td>\n      <td>8:00 AM</td>\n      <td>Telengana</td>\n      <td>-</td>\n      <td>-</td>\n      <td>266120</td>\n      <td>1480</td>\n      <td>275261</td>\n      <td>2020-12-09</td>\n      <td>12</td>\n    </tr>\n    <tr>\n      <th>9287</th>\n      <td>9288</td>\n      <td>09/12/20</td>\n      <td>8:00 AM</td>\n      <td>Tripura</td>\n      <td>-</td>\n      <td>-</td>\n      <td>32169</td>\n      <td>373</td>\n      <td>32945</td>\n      <td>2020-12-09</td>\n      <td>12</td>\n    </tr>\n    <tr>\n      <th>9288</th>\n      <td>9289</td>\n      <td>09/12/20</td>\n      <td>8:00 AM</td>\n      <td>Uttarakhand</td>\n      <td>-</td>\n      <td>-</td>\n      <td>72435</td>\n      <td>1307</td>\n      <td>79141</td>\n      <td>2020-12-09</td>\n      <td>12</td>\n    </tr>\n    <tr>\n      <th>9289</th>\n      <td>9290</td>\n      <td>09/12/20</td>\n      <td>8:00 AM</td>\n      <td>Uttar Pradesh</td>\n      <td>-</td>\n      <td>-</td>\n      <td>528832</td>\n      <td>7967</td>\n      <td>558173</td>\n      <td>2020-12-09</td>\n      <td>12</td>\n    </tr>\n    <tr>\n      <th>9290</th>\n      <td>9291</td>\n      <td>09/12/20</td>\n      <td>8:00 AM</td>\n      <td>West Bengal</td>\n      <td>-</td>\n      <td>-</td>\n      <td>475425</td>\n      <td>8820</td>\n      <td>507995</td>\n      <td>2020-12-09</td>\n      <td>12</td>\n    </tr>\n  </tbody>\n</table>\n<p>9291 rows × 11 columns</p>\n</div>"
     },
     "metadata": {},
     "execution_count": 6
    }
   ],
   "source": [
    "df"
   ]
  },
  {
   "cell_type": "code",
   "execution_count": 7,
   "metadata": {},
   "outputs": [
    {
     "output_type": "execute_result",
     "data": {
      "text/plain": [
       "       Sno      Date     Time State/UnionTerritory ConfirmedIndianNational  \\\n",
       "0        1  30/01/20  6:00 PM               Kerala                       1   \n",
       "1        2  31/01/20  6:00 PM               Kerala                       1   \n",
       "2        3  01/02/20  6:00 PM               Kerala                       2   \n",
       "3        4  02/02/20  6:00 PM               Kerala                       3   \n",
       "4        5  03/02/20  6:00 PM               Kerala                       3   \n",
       "...    ...       ...      ...                  ...                     ...   \n",
       "9286  9287  09/12/20  8:00 AM            Telengana                       -   \n",
       "9287  9288  09/12/20  8:00 AM              Tripura                       -   \n",
       "9288  9289  09/12/20  8:00 AM          Uttarakhand                       -   \n",
       "9289  9290  09/12/20  8:00 AM        Uttar Pradesh                       -   \n",
       "9290  9291  09/12/20  8:00 AM          West Bengal                       -   \n",
       "\n",
       "     ConfirmedForeignNational   Cured  Deaths  Confirmed    NewDate  Month  \n",
       "0                           0       0       0          1 2020-01-30      1  \n",
       "1                           0       0       0          1 2020-01-31      1  \n",
       "2                           0       0       0          2 2020-02-01      2  \n",
       "3                           0       0       0          3 2020-02-02      2  \n",
       "4                           0       0       0          3 2020-02-03      2  \n",
       "...                       ...     ...     ...        ...        ...    ...  \n",
       "9286                        -  266120    1480     275261 2020-12-09     12  \n",
       "9287                        -   32169     373      32945 2020-12-09     12  \n",
       "9288                        -   72435    1307      79141 2020-12-09     12  \n",
       "9289                        -  528832    7967     558173 2020-12-09     12  \n",
       "9290                        -  475425    8820     507995 2020-12-09     12  \n",
       "\n",
       "[9291 rows x 11 columns]"
      ],
      "text/html": "<div>\n<style scoped>\n    .dataframe tbody tr th:only-of-type {\n        vertical-align: middle;\n    }\n\n    .dataframe tbody tr th {\n        vertical-align: top;\n    }\n\n    .dataframe thead th {\n        text-align: right;\n    }\n</style>\n<table border=\"1\" class=\"dataframe\">\n  <thead>\n    <tr style=\"text-align: right;\">\n      <th></th>\n      <th>Sno</th>\n      <th>Date</th>\n      <th>Time</th>\n      <th>State/UnionTerritory</th>\n      <th>ConfirmedIndianNational</th>\n      <th>ConfirmedForeignNational</th>\n      <th>Cured</th>\n      <th>Deaths</th>\n      <th>Confirmed</th>\n      <th>NewDate</th>\n      <th>Month</th>\n    </tr>\n  </thead>\n  <tbody>\n    <tr>\n      <th>0</th>\n      <td>1</td>\n      <td>30/01/20</td>\n      <td>6:00 PM</td>\n      <td>Kerala</td>\n      <td>1</td>\n      <td>0</td>\n      <td>0</td>\n      <td>0</td>\n      <td>1</td>\n      <td>2020-01-30</td>\n      <td>1</td>\n    </tr>\n    <tr>\n      <th>1</th>\n      <td>2</td>\n      <td>31/01/20</td>\n      <td>6:00 PM</td>\n      <td>Kerala</td>\n      <td>1</td>\n      <td>0</td>\n      <td>0</td>\n      <td>0</td>\n      <td>1</td>\n      <td>2020-01-31</td>\n      <td>1</td>\n    </tr>\n    <tr>\n      <th>2</th>\n      <td>3</td>\n      <td>01/02/20</td>\n      <td>6:00 PM</td>\n      <td>Kerala</td>\n      <td>2</td>\n      <td>0</td>\n      <td>0</td>\n      <td>0</td>\n      <td>2</td>\n      <td>2020-02-01</td>\n      <td>2</td>\n    </tr>\n    <tr>\n      <th>3</th>\n      <td>4</td>\n      <td>02/02/20</td>\n      <td>6:00 PM</td>\n      <td>Kerala</td>\n      <td>3</td>\n      <td>0</td>\n      <td>0</td>\n      <td>0</td>\n      <td>3</td>\n      <td>2020-02-02</td>\n      <td>2</td>\n    </tr>\n    <tr>\n      <th>4</th>\n      <td>5</td>\n      <td>03/02/20</td>\n      <td>6:00 PM</td>\n      <td>Kerala</td>\n      <td>3</td>\n      <td>0</td>\n      <td>0</td>\n      <td>0</td>\n      <td>3</td>\n      <td>2020-02-03</td>\n      <td>2</td>\n    </tr>\n    <tr>\n      <th>...</th>\n      <td>...</td>\n      <td>...</td>\n      <td>...</td>\n      <td>...</td>\n      <td>...</td>\n      <td>...</td>\n      <td>...</td>\n      <td>...</td>\n      <td>...</td>\n      <td>...</td>\n      <td>...</td>\n    </tr>\n    <tr>\n      <th>9286</th>\n      <td>9287</td>\n      <td>09/12/20</td>\n      <td>8:00 AM</td>\n      <td>Telengana</td>\n      <td>-</td>\n      <td>-</td>\n      <td>266120</td>\n      <td>1480</td>\n      <td>275261</td>\n      <td>2020-12-09</td>\n      <td>12</td>\n    </tr>\n    <tr>\n      <th>9287</th>\n      <td>9288</td>\n      <td>09/12/20</td>\n      <td>8:00 AM</td>\n      <td>Tripura</td>\n      <td>-</td>\n      <td>-</td>\n      <td>32169</td>\n      <td>373</td>\n      <td>32945</td>\n      <td>2020-12-09</td>\n      <td>12</td>\n    </tr>\n    <tr>\n      <th>9288</th>\n      <td>9289</td>\n      <td>09/12/20</td>\n      <td>8:00 AM</td>\n      <td>Uttarakhand</td>\n      <td>-</td>\n      <td>-</td>\n      <td>72435</td>\n      <td>1307</td>\n      <td>79141</td>\n      <td>2020-12-09</td>\n      <td>12</td>\n    </tr>\n    <tr>\n      <th>9289</th>\n      <td>9290</td>\n      <td>09/12/20</td>\n      <td>8:00 AM</td>\n      <td>Uttar Pradesh</td>\n      <td>-</td>\n      <td>-</td>\n      <td>528832</td>\n      <td>7967</td>\n      <td>558173</td>\n      <td>2020-12-09</td>\n      <td>12</td>\n    </tr>\n    <tr>\n      <th>9290</th>\n      <td>9291</td>\n      <td>09/12/20</td>\n      <td>8:00 AM</td>\n      <td>West Bengal</td>\n      <td>-</td>\n      <td>-</td>\n      <td>475425</td>\n      <td>8820</td>\n      <td>507995</td>\n      <td>2020-12-09</td>\n      <td>12</td>\n    </tr>\n  </tbody>\n</table>\n<p>9291 rows × 11 columns</p>\n</div>"
     },
     "metadata": {},
     "execution_count": 7
    }
   ],
   "source": [
    "df"
   ]
  },
  {
   "source": [
    "df = df['Date'].dt.strftime(\"%d/%m/%y\")"
   ],
   "cell_type": "markdown",
   "metadata": {}
  },
  {
   "cell_type": "code",
   "execution_count": 8,
   "metadata": {},
   "outputs": [],
   "source": [
    "df['NewData'] = pd.to_datetime(df['Date'])"
   ]
  },
  {
   "cell_type": "code",
   "execution_count": 9,
   "metadata": {},
   "outputs": [
    {
     "output_type": "execute_result",
     "data": {
      "text/plain": [
       "       Sno      Date     Time State/UnionTerritory ConfirmedIndianNational  \\\n",
       "0        1  30/01/20  6:00 PM               Kerala                       1   \n",
       "1        2  31/01/20  6:00 PM               Kerala                       1   \n",
       "2        3  01/02/20  6:00 PM               Kerala                       2   \n",
       "3        4  02/02/20  6:00 PM               Kerala                       3   \n",
       "4        5  03/02/20  6:00 PM               Kerala                       3   \n",
       "...    ...       ...      ...                  ...                     ...   \n",
       "9286  9287  09/12/20  8:00 AM            Telengana                       -   \n",
       "9287  9288  09/12/20  8:00 AM              Tripura                       -   \n",
       "9288  9289  09/12/20  8:00 AM          Uttarakhand                       -   \n",
       "9289  9290  09/12/20  8:00 AM        Uttar Pradesh                       -   \n",
       "9290  9291  09/12/20  8:00 AM          West Bengal                       -   \n",
       "\n",
       "     ConfirmedForeignNational   Cured  Deaths  Confirmed    NewDate  Month  \\\n",
       "0                           0       0       0          1 2020-01-30      1   \n",
       "1                           0       0       0          1 2020-01-31      1   \n",
       "2                           0       0       0          2 2020-02-01      2   \n",
       "3                           0       0       0          3 2020-02-02      2   \n",
       "4                           0       0       0          3 2020-02-03      2   \n",
       "...                       ...     ...     ...        ...        ...    ...   \n",
       "9286                        -  266120    1480     275261 2020-12-09     12   \n",
       "9287                        -   32169     373      32945 2020-12-09     12   \n",
       "9288                        -   72435    1307      79141 2020-12-09     12   \n",
       "9289                        -  528832    7967     558173 2020-12-09     12   \n",
       "9290                        -  475425    8820     507995 2020-12-09     12   \n",
       "\n",
       "        NewData  \n",
       "0    2020-01-30  \n",
       "1    2020-01-31  \n",
       "2    2020-01-02  \n",
       "3    2020-02-02  \n",
       "4    2020-03-02  \n",
       "...         ...  \n",
       "9286 2020-09-12  \n",
       "9287 2020-09-12  \n",
       "9288 2020-09-12  \n",
       "9289 2020-09-12  \n",
       "9290 2020-09-12  \n",
       "\n",
       "[9291 rows x 12 columns]"
      ],
      "text/html": "<div>\n<style scoped>\n    .dataframe tbody tr th:only-of-type {\n        vertical-align: middle;\n    }\n\n    .dataframe tbody tr th {\n        vertical-align: top;\n    }\n\n    .dataframe thead th {\n        text-align: right;\n    }\n</style>\n<table border=\"1\" class=\"dataframe\">\n  <thead>\n    <tr style=\"text-align: right;\">\n      <th></th>\n      <th>Sno</th>\n      <th>Date</th>\n      <th>Time</th>\n      <th>State/UnionTerritory</th>\n      <th>ConfirmedIndianNational</th>\n      <th>ConfirmedForeignNational</th>\n      <th>Cured</th>\n      <th>Deaths</th>\n      <th>Confirmed</th>\n      <th>NewDate</th>\n      <th>Month</th>\n      <th>NewData</th>\n    </tr>\n  </thead>\n  <tbody>\n    <tr>\n      <th>0</th>\n      <td>1</td>\n      <td>30/01/20</td>\n      <td>6:00 PM</td>\n      <td>Kerala</td>\n      <td>1</td>\n      <td>0</td>\n      <td>0</td>\n      <td>0</td>\n      <td>1</td>\n      <td>2020-01-30</td>\n      <td>1</td>\n      <td>2020-01-30</td>\n    </tr>\n    <tr>\n      <th>1</th>\n      <td>2</td>\n      <td>31/01/20</td>\n      <td>6:00 PM</td>\n      <td>Kerala</td>\n      <td>1</td>\n      <td>0</td>\n      <td>0</td>\n      <td>0</td>\n      <td>1</td>\n      <td>2020-01-31</td>\n      <td>1</td>\n      <td>2020-01-31</td>\n    </tr>\n    <tr>\n      <th>2</th>\n      <td>3</td>\n      <td>01/02/20</td>\n      <td>6:00 PM</td>\n      <td>Kerala</td>\n      <td>2</td>\n      <td>0</td>\n      <td>0</td>\n      <td>0</td>\n      <td>2</td>\n      <td>2020-02-01</td>\n      <td>2</td>\n      <td>2020-01-02</td>\n    </tr>\n    <tr>\n      <th>3</th>\n      <td>4</td>\n      <td>02/02/20</td>\n      <td>6:00 PM</td>\n      <td>Kerala</td>\n      <td>3</td>\n      <td>0</td>\n      <td>0</td>\n      <td>0</td>\n      <td>3</td>\n      <td>2020-02-02</td>\n      <td>2</td>\n      <td>2020-02-02</td>\n    </tr>\n    <tr>\n      <th>4</th>\n      <td>5</td>\n      <td>03/02/20</td>\n      <td>6:00 PM</td>\n      <td>Kerala</td>\n      <td>3</td>\n      <td>0</td>\n      <td>0</td>\n      <td>0</td>\n      <td>3</td>\n      <td>2020-02-03</td>\n      <td>2</td>\n      <td>2020-03-02</td>\n    </tr>\n    <tr>\n      <th>...</th>\n      <td>...</td>\n      <td>...</td>\n      <td>...</td>\n      <td>...</td>\n      <td>...</td>\n      <td>...</td>\n      <td>...</td>\n      <td>...</td>\n      <td>...</td>\n      <td>...</td>\n      <td>...</td>\n      <td>...</td>\n    </tr>\n    <tr>\n      <th>9286</th>\n      <td>9287</td>\n      <td>09/12/20</td>\n      <td>8:00 AM</td>\n      <td>Telengana</td>\n      <td>-</td>\n      <td>-</td>\n      <td>266120</td>\n      <td>1480</td>\n      <td>275261</td>\n      <td>2020-12-09</td>\n      <td>12</td>\n      <td>2020-09-12</td>\n    </tr>\n    <tr>\n      <th>9287</th>\n      <td>9288</td>\n      <td>09/12/20</td>\n      <td>8:00 AM</td>\n      <td>Tripura</td>\n      <td>-</td>\n      <td>-</td>\n      <td>32169</td>\n      <td>373</td>\n      <td>32945</td>\n      <td>2020-12-09</td>\n      <td>12</td>\n      <td>2020-09-12</td>\n    </tr>\n    <tr>\n      <th>9288</th>\n      <td>9289</td>\n      <td>09/12/20</td>\n      <td>8:00 AM</td>\n      <td>Uttarakhand</td>\n      <td>-</td>\n      <td>-</td>\n      <td>72435</td>\n      <td>1307</td>\n      <td>79141</td>\n      <td>2020-12-09</td>\n      <td>12</td>\n      <td>2020-09-12</td>\n    </tr>\n    <tr>\n      <th>9289</th>\n      <td>9290</td>\n      <td>09/12/20</td>\n      <td>8:00 AM</td>\n      <td>Uttar Pradesh</td>\n      <td>-</td>\n      <td>-</td>\n      <td>528832</td>\n      <td>7967</td>\n      <td>558173</td>\n      <td>2020-12-09</td>\n      <td>12</td>\n      <td>2020-09-12</td>\n    </tr>\n    <tr>\n      <th>9290</th>\n      <td>9291</td>\n      <td>09/12/20</td>\n      <td>8:00 AM</td>\n      <td>West Bengal</td>\n      <td>-</td>\n      <td>-</td>\n      <td>475425</td>\n      <td>8820</td>\n      <td>507995</td>\n      <td>2020-12-09</td>\n      <td>12</td>\n      <td>2020-09-12</td>\n    </tr>\n  </tbody>\n</table>\n<p>9291 rows × 12 columns</p>\n</div>"
     },
     "metadata": {},
     "execution_count": 9
    }
   ],
   "source": [
    "df"
   ]
  },
  {
   "cell_type": "code",
   "execution_count": 10,
   "metadata": {},
   "outputs": [],
   "source": [
    "df['Month'] = pd.DatetimeIndex(df['NewDate']).month"
   ]
  },
  {
   "source": [
    "df"
   ],
   "cell_type": "markdown",
   "metadata": {}
  },
  {
   "cell_type": "code",
   "execution_count": null,
   "metadata": {},
   "outputs": [],
   "source": []
  },
  {
   "cell_type": "code",
   "execution_count": 11,
   "metadata": {},
   "outputs": [],
   "source": [
    "df = df.drop(['Sno','Time','ConfirmedIndianNational','ConfirmedForeignNational'],axis=1)"
   ]
  },
  {
   "cell_type": "code",
   "execution_count": 12,
   "metadata": {},
   "outputs": [],
   "source": [
    "df = df.rename(columns={'State/UnionTerritory':'State'})"
   ]
  },
  {
   "cell_type": "code",
   "execution_count": 13,
   "metadata": {},
   "outputs": [],
   "source": [
    "states = df['State'].unique()"
   ]
  },
  {
   "cell_type": "code",
   "execution_count": 14,
   "metadata": {},
   "outputs": [
    {
     "output_type": "execute_result",
     "data": {
      "text/plain": [
       "array(['Kerala', 'Telengana', 'Delhi', 'Rajasthan', 'Uttar Pradesh',\n",
       "       'Haryana', 'Ladakh', 'Tamil Nadu', 'Karnataka', 'Maharashtra',\n",
       "       'Punjab', 'Jammu and Kashmir', 'Andhra Pradesh', 'Uttarakhand',\n",
       "       'Odisha', 'Puducherry', 'West Bengal', 'Chhattisgarh',\n",
       "       'Chandigarh', 'Gujarat', 'Himachal Pradesh', 'Madhya Pradesh',\n",
       "       'Bihar', 'Manipur', 'Mizoram', 'Andaman and Nicobar Islands',\n",
       "       'Goa', 'Unassigned', 'Assam', 'Jharkhand', 'Arunachal Pradesh',\n",
       "       'Tripura', 'Nagaland', 'Meghalaya', 'Dadar Nagar Haveli',\n",
       "       'Cases being reassigned to states', 'Sikkim', 'Daman & Diu',\n",
       "       'Dadra and Nagar Haveli and Daman and Diu', 'Telangana',\n",
       "       'Telangana***', 'Telengana***', 'Maharashtra***', 'Chandigarh***',\n",
       "       'Punjab***'], dtype=object)"
      ]
     },
     "metadata": {},
     "execution_count": 14
    }
   ],
   "source": [
    "states"
   ]
  },
  {
   "cell_type": "code",
   "execution_count": 15,
   "metadata": {},
   "outputs": [],
   "source": [
    "df=df.replace('Telengana','Telangana')\n",
    "df=df.replace('Telengana***','Telangana')\n",
    "df=df.replace('Telangana***','Telangana')\n",
    "df=df.replace('Maharashtra***','Maharashtra')\n",
    "df=df.replace('Chandigarh***','Chandigarh')\n",
    "df=df.replace('Punjab***','Punjab')"
   ]
  },
  {
   "cell_type": "code",
   "execution_count": 16,
   "metadata": {},
   "outputs": [],
   "source": [
    "states = df['State'].unique()"
   ]
  },
  {
   "cell_type": "code",
   "execution_count": 17,
   "metadata": {},
   "outputs": [
    {
     "output_type": "execute_result",
     "data": {
      "text/plain": [
       "array(['Kerala', 'Telangana', 'Delhi', 'Rajasthan', 'Uttar Pradesh',\n",
       "       'Haryana', 'Ladakh', 'Tamil Nadu', 'Karnataka', 'Maharashtra',\n",
       "       'Punjab', 'Jammu and Kashmir', 'Andhra Pradesh', 'Uttarakhand',\n",
       "       'Odisha', 'Puducherry', 'West Bengal', 'Chhattisgarh',\n",
       "       'Chandigarh', 'Gujarat', 'Himachal Pradesh', 'Madhya Pradesh',\n",
       "       'Bihar', 'Manipur', 'Mizoram', 'Andaman and Nicobar Islands',\n",
       "       'Goa', 'Unassigned', 'Assam', 'Jharkhand', 'Arunachal Pradesh',\n",
       "       'Tripura', 'Nagaland', 'Meghalaya', 'Dadar Nagar Haveli',\n",
       "       'Cases being reassigned to states', 'Sikkim', 'Daman & Diu',\n",
       "       'Dadra and Nagar Haveli and Daman and Diu'], dtype=object)"
      ]
     },
     "metadata": {},
     "execution_count": 17
    }
   ],
   "source": [
    "states"
   ]
  },
  {
   "cell_type": "code",
   "execution_count": 18,
   "metadata": {},
   "outputs": [
    {
     "output_type": "execute_result",
     "data": {
      "text/plain": [
       "          Date          State   Cured  Deaths  Confirmed    NewDate  Month  \\\n",
       "0     30/01/20         Kerala       0       0          1 2020-01-30      1   \n",
       "1     31/01/20         Kerala       0       0          1 2020-01-31      1   \n",
       "2     01/02/20         Kerala       0       0          2 2020-02-01      2   \n",
       "3     02/02/20         Kerala       0       0          3 2020-02-02      2   \n",
       "4     03/02/20         Kerala       0       0          3 2020-02-03      2   \n",
       "...        ...            ...     ...     ...        ...        ...    ...   \n",
       "9286  09/12/20      Telangana  266120    1480     275261 2020-12-09     12   \n",
       "9287  09/12/20        Tripura   32169     373      32945 2020-12-09     12   \n",
       "9288  09/12/20    Uttarakhand   72435    1307      79141 2020-12-09     12   \n",
       "9289  09/12/20  Uttar Pradesh  528832    7967     558173 2020-12-09     12   \n",
       "9290  09/12/20    West Bengal  475425    8820     507995 2020-12-09     12   \n",
       "\n",
       "        NewData  \n",
       "0    2020-01-30  \n",
       "1    2020-01-31  \n",
       "2    2020-01-02  \n",
       "3    2020-02-02  \n",
       "4    2020-03-02  \n",
       "...         ...  \n",
       "9286 2020-09-12  \n",
       "9287 2020-09-12  \n",
       "9288 2020-09-12  \n",
       "9289 2020-09-12  \n",
       "9290 2020-09-12  \n",
       "\n",
       "[9291 rows x 8 columns]"
      ],
      "text/html": "<div>\n<style scoped>\n    .dataframe tbody tr th:only-of-type {\n        vertical-align: middle;\n    }\n\n    .dataframe tbody tr th {\n        vertical-align: top;\n    }\n\n    .dataframe thead th {\n        text-align: right;\n    }\n</style>\n<table border=\"1\" class=\"dataframe\">\n  <thead>\n    <tr style=\"text-align: right;\">\n      <th></th>\n      <th>Date</th>\n      <th>State</th>\n      <th>Cured</th>\n      <th>Deaths</th>\n      <th>Confirmed</th>\n      <th>NewDate</th>\n      <th>Month</th>\n      <th>NewData</th>\n    </tr>\n  </thead>\n  <tbody>\n    <tr>\n      <th>0</th>\n      <td>30/01/20</td>\n      <td>Kerala</td>\n      <td>0</td>\n      <td>0</td>\n      <td>1</td>\n      <td>2020-01-30</td>\n      <td>1</td>\n      <td>2020-01-30</td>\n    </tr>\n    <tr>\n      <th>1</th>\n      <td>31/01/20</td>\n      <td>Kerala</td>\n      <td>0</td>\n      <td>0</td>\n      <td>1</td>\n      <td>2020-01-31</td>\n      <td>1</td>\n      <td>2020-01-31</td>\n    </tr>\n    <tr>\n      <th>2</th>\n      <td>01/02/20</td>\n      <td>Kerala</td>\n      <td>0</td>\n      <td>0</td>\n      <td>2</td>\n      <td>2020-02-01</td>\n      <td>2</td>\n      <td>2020-01-02</td>\n    </tr>\n    <tr>\n      <th>3</th>\n      <td>02/02/20</td>\n      <td>Kerala</td>\n      <td>0</td>\n      <td>0</td>\n      <td>3</td>\n      <td>2020-02-02</td>\n      <td>2</td>\n      <td>2020-02-02</td>\n    </tr>\n    <tr>\n      <th>4</th>\n      <td>03/02/20</td>\n      <td>Kerala</td>\n      <td>0</td>\n      <td>0</td>\n      <td>3</td>\n      <td>2020-02-03</td>\n      <td>2</td>\n      <td>2020-03-02</td>\n    </tr>\n    <tr>\n      <th>...</th>\n      <td>...</td>\n      <td>...</td>\n      <td>...</td>\n      <td>...</td>\n      <td>...</td>\n      <td>...</td>\n      <td>...</td>\n      <td>...</td>\n    </tr>\n    <tr>\n      <th>9286</th>\n      <td>09/12/20</td>\n      <td>Telangana</td>\n      <td>266120</td>\n      <td>1480</td>\n      <td>275261</td>\n      <td>2020-12-09</td>\n      <td>12</td>\n      <td>2020-09-12</td>\n    </tr>\n    <tr>\n      <th>9287</th>\n      <td>09/12/20</td>\n      <td>Tripura</td>\n      <td>32169</td>\n      <td>373</td>\n      <td>32945</td>\n      <td>2020-12-09</td>\n      <td>12</td>\n      <td>2020-09-12</td>\n    </tr>\n    <tr>\n      <th>9288</th>\n      <td>09/12/20</td>\n      <td>Uttarakhand</td>\n      <td>72435</td>\n      <td>1307</td>\n      <td>79141</td>\n      <td>2020-12-09</td>\n      <td>12</td>\n      <td>2020-09-12</td>\n    </tr>\n    <tr>\n      <th>9289</th>\n      <td>09/12/20</td>\n      <td>Uttar Pradesh</td>\n      <td>528832</td>\n      <td>7967</td>\n      <td>558173</td>\n      <td>2020-12-09</td>\n      <td>12</td>\n      <td>2020-09-12</td>\n    </tr>\n    <tr>\n      <th>9290</th>\n      <td>09/12/20</td>\n      <td>West Bengal</td>\n      <td>475425</td>\n      <td>8820</td>\n      <td>507995</td>\n      <td>2020-12-09</td>\n      <td>12</td>\n      <td>2020-09-12</td>\n    </tr>\n  </tbody>\n</table>\n<p>9291 rows × 8 columns</p>\n</div>"
     },
     "metadata": {},
     "execution_count": 18
    }
   ],
   "source": [
    "df"
   ]
  },
  {
   "cell_type": "code",
   "execution_count": 19,
   "metadata": {},
   "outputs": [
    {
     "output_type": "execute_result",
     "data": {
      "text/plain": [
       "Date         0\n",
       "State        0\n",
       "Cured        0\n",
       "Deaths       0\n",
       "Confirmed    0\n",
       "NewDate      0\n",
       "Month        0\n",
       "NewData      0\n",
       "dtype: int64"
      ]
     },
     "metadata": {},
     "execution_count": 19
    }
   ],
   "source": [
    "df.isnull().sum()"
   ]
  },
  {
   "cell_type": "code",
   "execution_count": 26,
   "metadata": {},
   "outputs": [],
   "source": [
    "df_MH = df[df.State=='Maharashtra'].reset_index().copy()"
   ]
  },
  {
   "cell_type": "code",
   "execution_count": 29,
   "metadata": {},
   "outputs": [],
   "source": [
    "df_MH = df_MH.drop('index',axis=1)"
   ]
  },
  {
   "cell_type": "code",
   "execution_count": 30,
   "metadata": {},
   "outputs": [],
   "source": [
    "rows, columns = df_MH.shape"
   ]
  },
  {
   "cell_type": "code",
   "execution_count": 31,
   "metadata": {},
   "outputs": [
    {
     "output_type": "execute_result",
     "data": {
      "text/plain": [
       "         Date        State    Cured  Deaths  Confirmed    NewDate  Month  \\\n",
       "0    09/03/20  Maharashtra        0       0          2 2020-03-09      3   \n",
       "1    10/03/20  Maharashtra        0       0          5 2020-03-10      3   \n",
       "2    11/03/20  Maharashtra        0       0          2 2020-03-11      3   \n",
       "3    12/03/20  Maharashtra        0       0         11 2020-03-12      3   \n",
       "4    13/03/20  Maharashtra        0       0         14 2020-03-13      3   \n",
       "..        ...          ...      ...     ...        ...        ...    ...   \n",
       "271  05/12/20  Maharashtra  1710050   47599    1842587 2020-12-05     12   \n",
       "272  06/12/20  Maharashtra  1715884   47694    1847509 2020-12-06     12   \n",
       "273  07/12/20  Maharashtra  1723370   47734    1852266 2020-12-07     12   \n",
       "274  08/12/20  Maharashtra  1730715   47774    1855341 2020-12-08     12   \n",
       "275  09/12/20  Maharashtra  1737080   47827    1859367 2020-12-09     12   \n",
       "\n",
       "       NewData  \n",
       "0   2020-09-03  \n",
       "1   2020-10-03  \n",
       "2   2020-11-03  \n",
       "3   2020-12-03  \n",
       "4   2020-03-13  \n",
       "..         ...  \n",
       "271 2020-05-12  \n",
       "272 2020-06-12  \n",
       "273 2020-07-12  \n",
       "274 2020-08-12  \n",
       "275 2020-09-12  \n",
       "\n",
       "[276 rows x 8 columns]"
      ],
      "text/html": "<div>\n<style scoped>\n    .dataframe tbody tr th:only-of-type {\n        vertical-align: middle;\n    }\n\n    .dataframe tbody tr th {\n        vertical-align: top;\n    }\n\n    .dataframe thead th {\n        text-align: right;\n    }\n</style>\n<table border=\"1\" class=\"dataframe\">\n  <thead>\n    <tr style=\"text-align: right;\">\n      <th></th>\n      <th>Date</th>\n      <th>State</th>\n      <th>Cured</th>\n      <th>Deaths</th>\n      <th>Confirmed</th>\n      <th>NewDate</th>\n      <th>Month</th>\n      <th>NewData</th>\n    </tr>\n  </thead>\n  <tbody>\n    <tr>\n      <th>0</th>\n      <td>09/03/20</td>\n      <td>Maharashtra</td>\n      <td>0</td>\n      <td>0</td>\n      <td>2</td>\n      <td>2020-03-09</td>\n      <td>3</td>\n      <td>2020-09-03</td>\n    </tr>\n    <tr>\n      <th>1</th>\n      <td>10/03/20</td>\n      <td>Maharashtra</td>\n      <td>0</td>\n      <td>0</td>\n      <td>5</td>\n      <td>2020-03-10</td>\n      <td>3</td>\n      <td>2020-10-03</td>\n    </tr>\n    <tr>\n      <th>2</th>\n      <td>11/03/20</td>\n      <td>Maharashtra</td>\n      <td>0</td>\n      <td>0</td>\n      <td>2</td>\n      <td>2020-03-11</td>\n      <td>3</td>\n      <td>2020-11-03</td>\n    </tr>\n    <tr>\n      <th>3</th>\n      <td>12/03/20</td>\n      <td>Maharashtra</td>\n      <td>0</td>\n      <td>0</td>\n      <td>11</td>\n      <td>2020-03-12</td>\n      <td>3</td>\n      <td>2020-12-03</td>\n    </tr>\n    <tr>\n      <th>4</th>\n      <td>13/03/20</td>\n      <td>Maharashtra</td>\n      <td>0</td>\n      <td>0</td>\n      <td>14</td>\n      <td>2020-03-13</td>\n      <td>3</td>\n      <td>2020-03-13</td>\n    </tr>\n    <tr>\n      <th>...</th>\n      <td>...</td>\n      <td>...</td>\n      <td>...</td>\n      <td>...</td>\n      <td>...</td>\n      <td>...</td>\n      <td>...</td>\n      <td>...</td>\n    </tr>\n    <tr>\n      <th>271</th>\n      <td>05/12/20</td>\n      <td>Maharashtra</td>\n      <td>1710050</td>\n      <td>47599</td>\n      <td>1842587</td>\n      <td>2020-12-05</td>\n      <td>12</td>\n      <td>2020-05-12</td>\n    </tr>\n    <tr>\n      <th>272</th>\n      <td>06/12/20</td>\n      <td>Maharashtra</td>\n      <td>1715884</td>\n      <td>47694</td>\n      <td>1847509</td>\n      <td>2020-12-06</td>\n      <td>12</td>\n      <td>2020-06-12</td>\n    </tr>\n    <tr>\n      <th>273</th>\n      <td>07/12/20</td>\n      <td>Maharashtra</td>\n      <td>1723370</td>\n      <td>47734</td>\n      <td>1852266</td>\n      <td>2020-12-07</td>\n      <td>12</td>\n      <td>2020-07-12</td>\n    </tr>\n    <tr>\n      <th>274</th>\n      <td>08/12/20</td>\n      <td>Maharashtra</td>\n      <td>1730715</td>\n      <td>47774</td>\n      <td>1855341</td>\n      <td>2020-12-08</td>\n      <td>12</td>\n      <td>2020-08-12</td>\n    </tr>\n    <tr>\n      <th>275</th>\n      <td>09/12/20</td>\n      <td>Maharashtra</td>\n      <td>1737080</td>\n      <td>47827</td>\n      <td>1859367</td>\n      <td>2020-12-09</td>\n      <td>12</td>\n      <td>2020-09-12</td>\n    </tr>\n  </tbody>\n</table>\n<p>276 rows × 8 columns</p>\n</div>"
     },
     "metadata": {},
     "execution_count": 31
    }
   ],
   "source": [
    "df_MH"
   ]
  },
  {
   "cell_type": "code",
   "execution_count": 35,
   "metadata": {},
   "outputs": [],
   "source": [
    "for i in range(rows-1,1,-1):\n",
    "    df_MH.iloc[i,4] -= df_MH.iloc[i-1,4]"
   ]
  },
  {
   "cell_type": "code",
   "execution_count": 36,
   "metadata": {},
   "outputs": [
    {
     "output_type": "execute_result",
     "data": {
      "text/plain": [
       "         Date        State    Cured  Deaths  Confirmed    NewDate  Month  \\\n",
       "0    09/03/20  Maharashtra        0       0          2 2020-03-09      3   \n",
       "1    10/03/20  Maharashtra        0       0          5 2020-03-10      3   \n",
       "2    11/03/20  Maharashtra        0       0         -3 2020-03-11      3   \n",
       "3    12/03/20  Maharashtra        0       0          9 2020-03-12      3   \n",
       "4    13/03/20  Maharashtra        0       0          3 2020-03-13      3   \n",
       "..        ...          ...      ...     ...        ...        ...    ...   \n",
       "271  05/12/20  Maharashtra  1710050     127       5229 2020-12-05     12   \n",
       "272  06/12/20  Maharashtra  1715884      95       4922 2020-12-06     12   \n",
       "273  07/12/20  Maharashtra  1723370      40       4757 2020-12-07     12   \n",
       "274  08/12/20  Maharashtra  1730715      40       3075 2020-12-08     12   \n",
       "275  09/12/20  Maharashtra  1737080      53       4026 2020-12-09     12   \n",
       "\n",
       "       NewData  \n",
       "0   2020-09-03  \n",
       "1   2020-10-03  \n",
       "2   2020-11-03  \n",
       "3   2020-12-03  \n",
       "4   2020-03-13  \n",
       "..         ...  \n",
       "271 2020-05-12  \n",
       "272 2020-06-12  \n",
       "273 2020-07-12  \n",
       "274 2020-08-12  \n",
       "275 2020-09-12  \n",
       "\n",
       "[276 rows x 8 columns]"
      ],
      "text/html": "<div>\n<style scoped>\n    .dataframe tbody tr th:only-of-type {\n        vertical-align: middle;\n    }\n\n    .dataframe tbody tr th {\n        vertical-align: top;\n    }\n\n    .dataframe thead th {\n        text-align: right;\n    }\n</style>\n<table border=\"1\" class=\"dataframe\">\n  <thead>\n    <tr style=\"text-align: right;\">\n      <th></th>\n      <th>Date</th>\n      <th>State</th>\n      <th>Cured</th>\n      <th>Deaths</th>\n      <th>Confirmed</th>\n      <th>NewDate</th>\n      <th>Month</th>\n      <th>NewData</th>\n    </tr>\n  </thead>\n  <tbody>\n    <tr>\n      <th>0</th>\n      <td>09/03/20</td>\n      <td>Maharashtra</td>\n      <td>0</td>\n      <td>0</td>\n      <td>2</td>\n      <td>2020-03-09</td>\n      <td>3</td>\n      <td>2020-09-03</td>\n    </tr>\n    <tr>\n      <th>1</th>\n      <td>10/03/20</td>\n      <td>Maharashtra</td>\n      <td>0</td>\n      <td>0</td>\n      <td>5</td>\n      <td>2020-03-10</td>\n      <td>3</td>\n      <td>2020-10-03</td>\n    </tr>\n    <tr>\n      <th>2</th>\n      <td>11/03/20</td>\n      <td>Maharashtra</td>\n      <td>0</td>\n      <td>0</td>\n      <td>-3</td>\n      <td>2020-03-11</td>\n      <td>3</td>\n      <td>2020-11-03</td>\n    </tr>\n    <tr>\n      <th>3</th>\n      <td>12/03/20</td>\n      <td>Maharashtra</td>\n      <td>0</td>\n      <td>0</td>\n      <td>9</td>\n      <td>2020-03-12</td>\n      <td>3</td>\n      <td>2020-12-03</td>\n    </tr>\n    <tr>\n      <th>4</th>\n      <td>13/03/20</td>\n      <td>Maharashtra</td>\n      <td>0</td>\n      <td>0</td>\n      <td>3</td>\n      <td>2020-03-13</td>\n      <td>3</td>\n      <td>2020-03-13</td>\n    </tr>\n    <tr>\n      <th>...</th>\n      <td>...</td>\n      <td>...</td>\n      <td>...</td>\n      <td>...</td>\n      <td>...</td>\n      <td>...</td>\n      <td>...</td>\n      <td>...</td>\n    </tr>\n    <tr>\n      <th>271</th>\n      <td>05/12/20</td>\n      <td>Maharashtra</td>\n      <td>1710050</td>\n      <td>127</td>\n      <td>5229</td>\n      <td>2020-12-05</td>\n      <td>12</td>\n      <td>2020-05-12</td>\n    </tr>\n    <tr>\n      <th>272</th>\n      <td>06/12/20</td>\n      <td>Maharashtra</td>\n      <td>1715884</td>\n      <td>95</td>\n      <td>4922</td>\n      <td>2020-12-06</td>\n      <td>12</td>\n      <td>2020-06-12</td>\n    </tr>\n    <tr>\n      <th>273</th>\n      <td>07/12/20</td>\n      <td>Maharashtra</td>\n      <td>1723370</td>\n      <td>40</td>\n      <td>4757</td>\n      <td>2020-12-07</td>\n      <td>12</td>\n      <td>2020-07-12</td>\n    </tr>\n    <tr>\n      <th>274</th>\n      <td>08/12/20</td>\n      <td>Maharashtra</td>\n      <td>1730715</td>\n      <td>40</td>\n      <td>3075</td>\n      <td>2020-12-08</td>\n      <td>12</td>\n      <td>2020-08-12</td>\n    </tr>\n    <tr>\n      <th>275</th>\n      <td>09/12/20</td>\n      <td>Maharashtra</td>\n      <td>1737080</td>\n      <td>53</td>\n      <td>4026</td>\n      <td>2020-12-09</td>\n      <td>12</td>\n      <td>2020-09-12</td>\n    </tr>\n  </tbody>\n</table>\n<p>276 rows × 8 columns</p>\n</div>"
     },
     "metadata": {},
     "execution_count": 36
    }
   ],
   "source": [
    "df_MH"
   ]
  },
  {
   "cell_type": "code",
   "execution_count": 17,
   "metadata": {},
   "outputs": [],
   "source": [
    "n = len(np.array(Maharashtra_no_cum_sum['Confirmed']))\n",
    "for i in range(1,n):\n",
    "    for j in range(2,5):\n",
    "        Maharashtra_no_cum_sum.iloc[i,j] -= Maharashtra.iloc[i-1,j]"
   ]
  },
  {
   "cell_type": "code",
   "execution_count": 18,
   "metadata": {},
   "outputs": [],
   "source": [
    "check_neg = np.array(Maharashtra_no_cum_sum['Confirmed']).flatten()"
   ]
  },
  {
   "cell_type": "code",
   "execution_count": 19,
   "metadata": {},
   "outputs": [
    {
     "output_type": "execute_result",
     "data": {
      "text/plain": [
       "[2, 17]"
      ]
     },
     "metadata": {},
     "execution_count": 19
    }
   ],
   "source": [
    "neg_index = []\n",
    "for i in range(len(check_neg)):\n",
    "    if(check_neg[i]<0):\n",
    "        neg_index.append(i)\n",
    "neg_index"
   ]
  },
  {
   "cell_type": "code",
   "execution_count": 20,
   "metadata": {},
   "outputs": [],
   "source": [
    "for i in neg_index:\n",
    "    Maharashtra.drop(i,axis=0,inplace=True)"
   ]
  },
  {
   "cell_type": "code",
   "execution_count": 46,
   "metadata": {},
   "outputs": [],
   "source": [
    "Maharashtra_no_cum_sum = Maharashtra.copy() "
   ]
  },
  {
   "cell_type": "code",
   "execution_count": 47,
   "metadata": {},
   "outputs": [],
   "source": [
    "n = len(np.array(Maharashtra_no_cum_sum['Confirmed']))\n",
    "for i in range(1,n):\n",
    "    for j in range(2,5):\n",
    "        Maharashtra_no_cum_sum.iloc[i,j] -= Maharashtra.iloc[i-1,j]"
   ]
  },
  {
   "cell_type": "code",
   "execution_count": 48,
   "metadata": {},
   "outputs": [
    {
     "output_type": "execute_result",
     "data": {
      "text/plain": [
       "         Date        State  Cured  Deaths  Confirmed\n",
       "0    09/03/20  Maharashtra      0       0          2\n",
       "1    10/03/20  Maharashtra      0       0          3\n",
       "3    12/03/20  Maharashtra      0       0          6\n",
       "4    13/03/20  Maharashtra      0       0          3\n",
       "5    14/03/20  Maharashtra      0       0          0\n",
       "..        ...          ...    ...     ...        ...\n",
       "271  05/12/20  Maharashtra   6776     127       5229\n",
       "272  06/12/20  Maharashtra   5834      95       4922\n",
       "273  07/12/20  Maharashtra   7486      40       4757\n",
       "274  08/12/20  Maharashtra   7345      40       3075\n",
       "275  09/12/20  Maharashtra   6365      53       4026\n",
       "\n",
       "[274 rows x 5 columns]"
      ],
      "text/html": "<div>\n<style scoped>\n    .dataframe tbody tr th:only-of-type {\n        vertical-align: middle;\n    }\n\n    .dataframe tbody tr th {\n        vertical-align: top;\n    }\n\n    .dataframe thead th {\n        text-align: right;\n    }\n</style>\n<table border=\"1\" class=\"dataframe\">\n  <thead>\n    <tr style=\"text-align: right;\">\n      <th></th>\n      <th>Date</th>\n      <th>State</th>\n      <th>Cured</th>\n      <th>Deaths</th>\n      <th>Confirmed</th>\n    </tr>\n  </thead>\n  <tbody>\n    <tr>\n      <th>0</th>\n      <td>09/03/20</td>\n      <td>Maharashtra</td>\n      <td>0</td>\n      <td>0</td>\n      <td>2</td>\n    </tr>\n    <tr>\n      <th>1</th>\n      <td>10/03/20</td>\n      <td>Maharashtra</td>\n      <td>0</td>\n      <td>0</td>\n      <td>3</td>\n    </tr>\n    <tr>\n      <th>3</th>\n      <td>12/03/20</td>\n      <td>Maharashtra</td>\n      <td>0</td>\n      <td>0</td>\n      <td>6</td>\n    </tr>\n    <tr>\n      <th>4</th>\n      <td>13/03/20</td>\n      <td>Maharashtra</td>\n      <td>0</td>\n      <td>0</td>\n      <td>3</td>\n    </tr>\n    <tr>\n      <th>5</th>\n      <td>14/03/20</td>\n      <td>Maharashtra</td>\n      <td>0</td>\n      <td>0</td>\n      <td>0</td>\n    </tr>\n    <tr>\n      <th>...</th>\n      <td>...</td>\n      <td>...</td>\n      <td>...</td>\n      <td>...</td>\n      <td>...</td>\n    </tr>\n    <tr>\n      <th>271</th>\n      <td>05/12/20</td>\n      <td>Maharashtra</td>\n      <td>6776</td>\n      <td>127</td>\n      <td>5229</td>\n    </tr>\n    <tr>\n      <th>272</th>\n      <td>06/12/20</td>\n      <td>Maharashtra</td>\n      <td>5834</td>\n      <td>95</td>\n      <td>4922</td>\n    </tr>\n    <tr>\n      <th>273</th>\n      <td>07/12/20</td>\n      <td>Maharashtra</td>\n      <td>7486</td>\n      <td>40</td>\n      <td>4757</td>\n    </tr>\n    <tr>\n      <th>274</th>\n      <td>08/12/20</td>\n      <td>Maharashtra</td>\n      <td>7345</td>\n      <td>40</td>\n      <td>3075</td>\n    </tr>\n    <tr>\n      <th>275</th>\n      <td>09/12/20</td>\n      <td>Maharashtra</td>\n      <td>6365</td>\n      <td>53</td>\n      <td>4026</td>\n    </tr>\n  </tbody>\n</table>\n<p>274 rows × 5 columns</p>\n</div>"
     },
     "metadata": {},
     "execution_count": 48
    }
   ],
   "source": [
    "Maharashtra_no_cum_sum"
   ]
  },
  {
   "cell_type": "code",
   "execution_count": 49,
   "metadata": {},
   "outputs": [],
   "source": [
    "Maharashtra_no_cum_sum['Month'] = pd.DatetimeIndex(Maharashtra_no_cum_sum['Date']).month"
   ]
  },
  {
   "source": [
    "Maharashtra_no_cum_sum=Maharashtra_no_cum_sum.set_index('Month').sort_index()"
   ],
   "cell_type": "markdown",
   "metadata": {}
  },
  {
   "cell_type": "code",
   "execution_count": 50,
   "metadata": {},
   "outputs": [
    {
     "output_type": "execute_result",
     "data": {
      "text/plain": [
       "         Date        State  Cured  Deaths  Confirmed  Month\n",
       "0    09/03/20  Maharashtra      0       0          2      9\n",
       "1    10/03/20  Maharashtra      0       0          3     10\n",
       "3    12/03/20  Maharashtra      0       0          6     12\n",
       "4    13/03/20  Maharashtra      0       0          3      3\n",
       "5    14/03/20  Maharashtra      0       0          0      3\n",
       "..        ...          ...    ...     ...        ...    ...\n",
       "271  05/12/20  Maharashtra   6776     127       5229      5\n",
       "272  06/12/20  Maharashtra   5834      95       4922      6\n",
       "273  07/12/20  Maharashtra   7486      40       4757      7\n",
       "274  08/12/20  Maharashtra   7345      40       3075      8\n",
       "275  09/12/20  Maharashtra   6365      53       4026      9\n",
       "\n",
       "[274 rows x 6 columns]"
      ],
      "text/html": "<div>\n<style scoped>\n    .dataframe tbody tr th:only-of-type {\n        vertical-align: middle;\n    }\n\n    .dataframe tbody tr th {\n        vertical-align: top;\n    }\n\n    .dataframe thead th {\n        text-align: right;\n    }\n</style>\n<table border=\"1\" class=\"dataframe\">\n  <thead>\n    <tr style=\"text-align: right;\">\n      <th></th>\n      <th>Date</th>\n      <th>State</th>\n      <th>Cured</th>\n      <th>Deaths</th>\n      <th>Confirmed</th>\n      <th>Month</th>\n    </tr>\n  </thead>\n  <tbody>\n    <tr>\n      <th>0</th>\n      <td>09/03/20</td>\n      <td>Maharashtra</td>\n      <td>0</td>\n      <td>0</td>\n      <td>2</td>\n      <td>9</td>\n    </tr>\n    <tr>\n      <th>1</th>\n      <td>10/03/20</td>\n      <td>Maharashtra</td>\n      <td>0</td>\n      <td>0</td>\n      <td>3</td>\n      <td>10</td>\n    </tr>\n    <tr>\n      <th>3</th>\n      <td>12/03/20</td>\n      <td>Maharashtra</td>\n      <td>0</td>\n      <td>0</td>\n      <td>6</td>\n      <td>12</td>\n    </tr>\n    <tr>\n      <th>4</th>\n      <td>13/03/20</td>\n      <td>Maharashtra</td>\n      <td>0</td>\n      <td>0</td>\n      <td>3</td>\n      <td>3</td>\n    </tr>\n    <tr>\n      <th>5</th>\n      <td>14/03/20</td>\n      <td>Maharashtra</td>\n      <td>0</td>\n      <td>0</td>\n      <td>0</td>\n      <td>3</td>\n    </tr>\n    <tr>\n      <th>...</th>\n      <td>...</td>\n      <td>...</td>\n      <td>...</td>\n      <td>...</td>\n      <td>...</td>\n      <td>...</td>\n    </tr>\n    <tr>\n      <th>271</th>\n      <td>05/12/20</td>\n      <td>Maharashtra</td>\n      <td>6776</td>\n      <td>127</td>\n      <td>5229</td>\n      <td>5</td>\n    </tr>\n    <tr>\n      <th>272</th>\n      <td>06/12/20</td>\n      <td>Maharashtra</td>\n      <td>5834</td>\n      <td>95</td>\n      <td>4922</td>\n      <td>6</td>\n    </tr>\n    <tr>\n      <th>273</th>\n      <td>07/12/20</td>\n      <td>Maharashtra</td>\n      <td>7486</td>\n      <td>40</td>\n      <td>4757</td>\n      <td>7</td>\n    </tr>\n    <tr>\n      <th>274</th>\n      <td>08/12/20</td>\n      <td>Maharashtra</td>\n      <td>7345</td>\n      <td>40</td>\n      <td>3075</td>\n      <td>8</td>\n    </tr>\n    <tr>\n      <th>275</th>\n      <td>09/12/20</td>\n      <td>Maharashtra</td>\n      <td>6365</td>\n      <td>53</td>\n      <td>4026</td>\n      <td>9</td>\n    </tr>\n  </tbody>\n</table>\n<p>274 rows × 6 columns</p>\n</div>"
     },
     "metadata": {},
     "execution_count": 50
    }
   ],
   "source": [
    "Maharashtra_no_cum_sum"
   ]
  },
  {
   "cell_type": "code",
   "execution_count": 51,
   "metadata": {},
   "outputs": [],
   "source": [
    "Months=Maharashtra_no_cum_sum['Month'].unique()"
   ]
  },
  {
   "cell_type": "code",
   "execution_count": 35,
   "metadata": {},
   "outputs": [
    {
     "output_type": "execute_result",
     "data": {
      "text/plain": [
       "array([ 9, 10, 12,  3,  1,  2,  4,  5,  6,  7,  8, 11])"
      ]
     },
     "metadata": {},
     "execution_count": 35
    }
   ],
   "source": [
    "Months"
   ]
  },
  {
   "source": [
    "dct_months_all={}\n",
    "for i in Months:\n",
    "    dct[i] = 0"
   ],
   "cell_type": "code",
   "metadata": {},
   "execution_count": 93,
   "outputs": []
  },
  {
   "cell_type": "code",
   "execution_count": 94,
   "metadata": {},
   "outputs": [
    {
     "output_type": "stream",
     "name": "stdout",
     "text": [
      "{9: 0, 10: 0, 12: 0, 3: 0, 1: 0, 2: 0, 4: 0, 5: 0, 6: 0, 7: 0, 8: 0, 11: 0}\n"
     ]
    }
   ],
   "source": [
    "print(dct)"
   ]
  },
  {
   "cell_type": "code",
   "execution_count": 96,
   "metadata": {},
   "outputs": [],
   "source": [
    "for i in range(274):\n",
    "        dct[Maharashtra_no_cum_sum.iloc[i,5]] +=  Maharashtra_no_cum_sum.iloc[i,4]"
   ]
  },
  {
   "cell_type": "code",
   "execution_count": 97,
   "metadata": {},
   "outputs": [
    {
     "output_type": "execute_result",
     "data": {
      "text/plain": [
       "{9: 416773,\n",
       " 10: 206402,\n",
       " 12: 64842,\n",
       " 3: 59502,\n",
       " 1: 57908,\n",
       " 2: 61077,\n",
       " 4: 69423,\n",
       " 5: 103601,\n",
       " 6: 133989,\n",
       " 7: 233407,\n",
       " 8: 303119,\n",
       " 11: 149329}"
      ]
     },
     "metadata": {},
     "execution_count": 97
    }
   ],
   "source": [
    "dct"
   ]
  },
  {
   "cell_type": "code",
   "execution_count": null,
   "metadata": {},
   "outputs": [],
   "source": []
  }
 ]
}