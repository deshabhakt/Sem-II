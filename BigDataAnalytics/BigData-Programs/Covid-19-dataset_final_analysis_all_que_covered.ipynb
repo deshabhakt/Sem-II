{
 "metadata": {
  "language_info": {
   "codemirror_mode": {
    "name": "ipython",
    "version": 3
   },
   "file_extension": ".py",
   "mimetype": "text/x-python",
   "name": "python",
   "nbconvert_exporter": "python",
   "pygments_lexer": "ipython3",
   "version": "3.9.2"
  },
  "orig_nbformat": 2,
  "kernelspec": {
   "name": "python3",
   "display_name": "Python 3",
   "language": "python"
  }
 },
 "nbformat": 4,
 "nbformat_minor": 2,
 "cells": [
  {
   "source": [
    "# COVID-19 Database Analysis "
   ],
   "cell_type": "markdown",
   "metadata": {}
  },
  {
   "cell_type": "code",
   "execution_count": 1,
   "metadata": {},
   "outputs": [],
   "source": [
    "import pandas as pd\n",
    "import numpy as np"
   ]
  },
  {
   "source": [
    "# Importing Database"
   ],
   "cell_type": "markdown",
   "metadata": {}
  },
  {
   "cell_type": "code",
   "execution_count": 2,
   "metadata": {},
   "outputs": [],
   "source": [
    "df = pd.read_csv('./covid 19 data.csv')"
   ]
  },
  {
   "cell_type": "code",
   "execution_count": 3,
   "metadata": {},
   "outputs": [
    {
     "output_type": "execute_result",
     "data": {
      "text/plain": [
       "   Sno      Date     Time State/UnionTerritory ConfirmedIndianNational  \\\n",
       "0    1  30/01/20  6:00 PM               Kerala                       1   \n",
       "1    2  31/01/20  6:00 PM               Kerala                       1   \n",
       "2    3  01/02/20  6:00 PM               Kerala                       2   \n",
       "3    4  02/02/20  6:00 PM               Kerala                       3   \n",
       "4    5  03/02/20  6:00 PM               Kerala                       3   \n",
       "\n",
       "  ConfirmedForeignNational  Cured  Deaths  Confirmed  \n",
       "0                        0      0       0          1  \n",
       "1                        0      0       0          1  \n",
       "2                        0      0       0          2  \n",
       "3                        0      0       0          3  \n",
       "4                        0      0       0          3  "
      ],
      "text/html": "<div>\n<style scoped>\n    .dataframe tbody tr th:only-of-type {\n        vertical-align: middle;\n    }\n\n    .dataframe tbody tr th {\n        vertical-align: top;\n    }\n\n    .dataframe thead th {\n        text-align: right;\n    }\n</style>\n<table border=\"1\" class=\"dataframe\">\n  <thead>\n    <tr style=\"text-align: right;\">\n      <th></th>\n      <th>Sno</th>\n      <th>Date</th>\n      <th>Time</th>\n      <th>State/UnionTerritory</th>\n      <th>ConfirmedIndianNational</th>\n      <th>ConfirmedForeignNational</th>\n      <th>Cured</th>\n      <th>Deaths</th>\n      <th>Confirmed</th>\n    </tr>\n  </thead>\n  <tbody>\n    <tr>\n      <th>0</th>\n      <td>1</td>\n      <td>30/01/20</td>\n      <td>6:00 PM</td>\n      <td>Kerala</td>\n      <td>1</td>\n      <td>0</td>\n      <td>0</td>\n      <td>0</td>\n      <td>1</td>\n    </tr>\n    <tr>\n      <th>1</th>\n      <td>2</td>\n      <td>31/01/20</td>\n      <td>6:00 PM</td>\n      <td>Kerala</td>\n      <td>1</td>\n      <td>0</td>\n      <td>0</td>\n      <td>0</td>\n      <td>1</td>\n    </tr>\n    <tr>\n      <th>2</th>\n      <td>3</td>\n      <td>01/02/20</td>\n      <td>6:00 PM</td>\n      <td>Kerala</td>\n      <td>2</td>\n      <td>0</td>\n      <td>0</td>\n      <td>0</td>\n      <td>2</td>\n    </tr>\n    <tr>\n      <th>3</th>\n      <td>4</td>\n      <td>02/02/20</td>\n      <td>6:00 PM</td>\n      <td>Kerala</td>\n      <td>3</td>\n      <td>0</td>\n      <td>0</td>\n      <td>0</td>\n      <td>3</td>\n    </tr>\n    <tr>\n      <th>4</th>\n      <td>5</td>\n      <td>03/02/20</td>\n      <td>6:00 PM</td>\n      <td>Kerala</td>\n      <td>3</td>\n      <td>0</td>\n      <td>0</td>\n      <td>0</td>\n      <td>3</td>\n    </tr>\n  </tbody>\n</table>\n</div>"
     },
     "metadata": {},
     "execution_count": 3
    }
   ],
   "source": [
    "df.head(5)"
   ]
  },
  {
   "cell_type": "code",
   "execution_count": 4,
   "metadata": {},
   "outputs": [
    {
     "output_type": "execute_result",
     "data": {
      "text/plain": [
       "       Sno      Date     Time State/UnionTerritory ConfirmedIndianNational  \\\n",
       "9286  9287  09/12/20  8:00 AM            Telengana                       -   \n",
       "9287  9288  09/12/20  8:00 AM              Tripura                       -   \n",
       "9288  9289  09/12/20  8:00 AM          Uttarakhand                       -   \n",
       "9289  9290  09/12/20  8:00 AM        Uttar Pradesh                       -   \n",
       "9290  9291  09/12/20  8:00 AM          West Bengal                       -   \n",
       "\n",
       "     ConfirmedForeignNational   Cured  Deaths  Confirmed  \n",
       "9286                        -  266120    1480     275261  \n",
       "9287                        -   32169     373      32945  \n",
       "9288                        -   72435    1307      79141  \n",
       "9289                        -  528832    7967     558173  \n",
       "9290                        -  475425    8820     507995  "
      ],
      "text/html": "<div>\n<style scoped>\n    .dataframe tbody tr th:only-of-type {\n        vertical-align: middle;\n    }\n\n    .dataframe tbody tr th {\n        vertical-align: top;\n    }\n\n    .dataframe thead th {\n        text-align: right;\n    }\n</style>\n<table border=\"1\" class=\"dataframe\">\n  <thead>\n    <tr style=\"text-align: right;\">\n      <th></th>\n      <th>Sno</th>\n      <th>Date</th>\n      <th>Time</th>\n      <th>State/UnionTerritory</th>\n      <th>ConfirmedIndianNational</th>\n      <th>ConfirmedForeignNational</th>\n      <th>Cured</th>\n      <th>Deaths</th>\n      <th>Confirmed</th>\n    </tr>\n  </thead>\n  <tbody>\n    <tr>\n      <th>9286</th>\n      <td>9287</td>\n      <td>09/12/20</td>\n      <td>8:00 AM</td>\n      <td>Telengana</td>\n      <td>-</td>\n      <td>-</td>\n      <td>266120</td>\n      <td>1480</td>\n      <td>275261</td>\n    </tr>\n    <tr>\n      <th>9287</th>\n      <td>9288</td>\n      <td>09/12/20</td>\n      <td>8:00 AM</td>\n      <td>Tripura</td>\n      <td>-</td>\n      <td>-</td>\n      <td>32169</td>\n      <td>373</td>\n      <td>32945</td>\n    </tr>\n    <tr>\n      <th>9288</th>\n      <td>9289</td>\n      <td>09/12/20</td>\n      <td>8:00 AM</td>\n      <td>Uttarakhand</td>\n      <td>-</td>\n      <td>-</td>\n      <td>72435</td>\n      <td>1307</td>\n      <td>79141</td>\n    </tr>\n    <tr>\n      <th>9289</th>\n      <td>9290</td>\n      <td>09/12/20</td>\n      <td>8:00 AM</td>\n      <td>Uttar Pradesh</td>\n      <td>-</td>\n      <td>-</td>\n      <td>528832</td>\n      <td>7967</td>\n      <td>558173</td>\n    </tr>\n    <tr>\n      <th>9290</th>\n      <td>9291</td>\n      <td>09/12/20</td>\n      <td>8:00 AM</td>\n      <td>West Bengal</td>\n      <td>-</td>\n      <td>-</td>\n      <td>475425</td>\n      <td>8820</td>\n      <td>507995</td>\n    </tr>\n  </tbody>\n</table>\n</div>"
     },
     "metadata": {},
     "execution_count": 4
    }
   ],
   "source": [
    "df.tail(5)"
   ]
  },
  {
   "source": [
    "# Dropping Un-neccesary Columns"
   ],
   "cell_type": "markdown",
   "metadata": {}
  },
  {
   "cell_type": "code",
   "execution_count": 5,
   "metadata": {},
   "outputs": [],
   "source": [
    "df = df.drop(['Sno','Time','ConfirmedIndianNational','ConfirmedForeignNational'],axis=1)"
   ]
  },
  {
   "cell_type": "code",
   "execution_count": 6,
   "metadata": {},
   "outputs": [],
   "source": [
    "df = df.rename(columns={'State/UnionTerritory':'State'})"
   ]
  },
  {
   "cell_type": "code",
   "execution_count": 7,
   "metadata": {},
   "outputs": [
    {
     "output_type": "execute_result",
     "data": {
      "text/plain": [
       "          Date          State   Cured  Deaths  Confirmed\n",
       "0     30/01/20         Kerala       0       0          1\n",
       "1     31/01/20         Kerala       0       0          1\n",
       "2     01/02/20         Kerala       0       0          2\n",
       "3     02/02/20         Kerala       0       0          3\n",
       "4     03/02/20         Kerala       0       0          3\n",
       "...        ...            ...     ...     ...        ...\n",
       "9286  09/12/20      Telengana  266120    1480     275261\n",
       "9287  09/12/20        Tripura   32169     373      32945\n",
       "9288  09/12/20    Uttarakhand   72435    1307      79141\n",
       "9289  09/12/20  Uttar Pradesh  528832    7967     558173\n",
       "9290  09/12/20    West Bengal  475425    8820     507995\n",
       "\n",
       "[9291 rows x 5 columns]"
      ],
      "text/html": "<div>\n<style scoped>\n    .dataframe tbody tr th:only-of-type {\n        vertical-align: middle;\n    }\n\n    .dataframe tbody tr th {\n        vertical-align: top;\n    }\n\n    .dataframe thead th {\n        text-align: right;\n    }\n</style>\n<table border=\"1\" class=\"dataframe\">\n  <thead>\n    <tr style=\"text-align: right;\">\n      <th></th>\n      <th>Date</th>\n      <th>State</th>\n      <th>Cured</th>\n      <th>Deaths</th>\n      <th>Confirmed</th>\n    </tr>\n  </thead>\n  <tbody>\n    <tr>\n      <th>0</th>\n      <td>30/01/20</td>\n      <td>Kerala</td>\n      <td>0</td>\n      <td>0</td>\n      <td>1</td>\n    </tr>\n    <tr>\n      <th>1</th>\n      <td>31/01/20</td>\n      <td>Kerala</td>\n      <td>0</td>\n      <td>0</td>\n      <td>1</td>\n    </tr>\n    <tr>\n      <th>2</th>\n      <td>01/02/20</td>\n      <td>Kerala</td>\n      <td>0</td>\n      <td>0</td>\n      <td>2</td>\n    </tr>\n    <tr>\n      <th>3</th>\n      <td>02/02/20</td>\n      <td>Kerala</td>\n      <td>0</td>\n      <td>0</td>\n      <td>3</td>\n    </tr>\n    <tr>\n      <th>4</th>\n      <td>03/02/20</td>\n      <td>Kerala</td>\n      <td>0</td>\n      <td>0</td>\n      <td>3</td>\n    </tr>\n    <tr>\n      <th>...</th>\n      <td>...</td>\n      <td>...</td>\n      <td>...</td>\n      <td>...</td>\n      <td>...</td>\n    </tr>\n    <tr>\n      <th>9286</th>\n      <td>09/12/20</td>\n      <td>Telengana</td>\n      <td>266120</td>\n      <td>1480</td>\n      <td>275261</td>\n    </tr>\n    <tr>\n      <th>9287</th>\n      <td>09/12/20</td>\n      <td>Tripura</td>\n      <td>32169</td>\n      <td>373</td>\n      <td>32945</td>\n    </tr>\n    <tr>\n      <th>9288</th>\n      <td>09/12/20</td>\n      <td>Uttarakhand</td>\n      <td>72435</td>\n      <td>1307</td>\n      <td>79141</td>\n    </tr>\n    <tr>\n      <th>9289</th>\n      <td>09/12/20</td>\n      <td>Uttar Pradesh</td>\n      <td>528832</td>\n      <td>7967</td>\n      <td>558173</td>\n    </tr>\n    <tr>\n      <th>9290</th>\n      <td>09/12/20</td>\n      <td>West Bengal</td>\n      <td>475425</td>\n      <td>8820</td>\n      <td>507995</td>\n    </tr>\n  </tbody>\n</table>\n<p>9291 rows × 5 columns</p>\n</div>"
     },
     "metadata": {},
     "execution_count": 7
    }
   ],
   "source": [
    "df"
   ]
  },
  {
   "cell_type": "code",
   "execution_count": 8,
   "metadata": {},
   "outputs": [],
   "source": [
    "df['Date'] = pd.to_datetime(df['Date'], dayfirst = True)"
   ]
  },
  {
   "cell_type": "code",
   "execution_count": 9,
   "metadata": {},
   "outputs": [
    {
     "output_type": "execute_result",
     "data": {
      "text/plain": [
       "           Date          State   Cured  Deaths  Confirmed\n",
       "0    2020-01-30         Kerala       0       0          1\n",
       "1    2020-01-31         Kerala       0       0          1\n",
       "2    2020-02-01         Kerala       0       0          2\n",
       "3    2020-02-02         Kerala       0       0          3\n",
       "4    2020-02-03         Kerala       0       0          3\n",
       "...         ...            ...     ...     ...        ...\n",
       "9286 2020-12-09      Telengana  266120    1480     275261\n",
       "9287 2020-12-09        Tripura   32169     373      32945\n",
       "9288 2020-12-09    Uttarakhand   72435    1307      79141\n",
       "9289 2020-12-09  Uttar Pradesh  528832    7967     558173\n",
       "9290 2020-12-09    West Bengal  475425    8820     507995\n",
       "\n",
       "[9291 rows x 5 columns]"
      ],
      "text/html": "<div>\n<style scoped>\n    .dataframe tbody tr th:only-of-type {\n        vertical-align: middle;\n    }\n\n    .dataframe tbody tr th {\n        vertical-align: top;\n    }\n\n    .dataframe thead th {\n        text-align: right;\n    }\n</style>\n<table border=\"1\" class=\"dataframe\">\n  <thead>\n    <tr style=\"text-align: right;\">\n      <th></th>\n      <th>Date</th>\n      <th>State</th>\n      <th>Cured</th>\n      <th>Deaths</th>\n      <th>Confirmed</th>\n    </tr>\n  </thead>\n  <tbody>\n    <tr>\n      <th>0</th>\n      <td>2020-01-30</td>\n      <td>Kerala</td>\n      <td>0</td>\n      <td>0</td>\n      <td>1</td>\n    </tr>\n    <tr>\n      <th>1</th>\n      <td>2020-01-31</td>\n      <td>Kerala</td>\n      <td>0</td>\n      <td>0</td>\n      <td>1</td>\n    </tr>\n    <tr>\n      <th>2</th>\n      <td>2020-02-01</td>\n      <td>Kerala</td>\n      <td>0</td>\n      <td>0</td>\n      <td>2</td>\n    </tr>\n    <tr>\n      <th>3</th>\n      <td>2020-02-02</td>\n      <td>Kerala</td>\n      <td>0</td>\n      <td>0</td>\n      <td>3</td>\n    </tr>\n    <tr>\n      <th>4</th>\n      <td>2020-02-03</td>\n      <td>Kerala</td>\n      <td>0</td>\n      <td>0</td>\n      <td>3</td>\n    </tr>\n    <tr>\n      <th>...</th>\n      <td>...</td>\n      <td>...</td>\n      <td>...</td>\n      <td>...</td>\n      <td>...</td>\n    </tr>\n    <tr>\n      <th>9286</th>\n      <td>2020-12-09</td>\n      <td>Telengana</td>\n      <td>266120</td>\n      <td>1480</td>\n      <td>275261</td>\n    </tr>\n    <tr>\n      <th>9287</th>\n      <td>2020-12-09</td>\n      <td>Tripura</td>\n      <td>32169</td>\n      <td>373</td>\n      <td>32945</td>\n    </tr>\n    <tr>\n      <th>9288</th>\n      <td>2020-12-09</td>\n      <td>Uttarakhand</td>\n      <td>72435</td>\n      <td>1307</td>\n      <td>79141</td>\n    </tr>\n    <tr>\n      <th>9289</th>\n      <td>2020-12-09</td>\n      <td>Uttar Pradesh</td>\n      <td>528832</td>\n      <td>7967</td>\n      <td>558173</td>\n    </tr>\n    <tr>\n      <th>9290</th>\n      <td>2020-12-09</td>\n      <td>West Bengal</td>\n      <td>475425</td>\n      <td>8820</td>\n      <td>507995</td>\n    </tr>\n  </tbody>\n</table>\n<p>9291 rows × 5 columns</p>\n</div>"
     },
     "metadata": {},
     "execution_count": 9
    }
   ],
   "source": [
    "df"
   ]
  },
  {
   "source": [
    "# Extracing States Names from database"
   ],
   "cell_type": "markdown",
   "metadata": {}
  },
  {
   "cell_type": "code",
   "execution_count": 10,
   "metadata": {},
   "outputs": [],
   "source": [
    "states = df['State'].unique()"
   ]
  },
  {
   "cell_type": "code",
   "execution_count": 11,
   "metadata": {},
   "outputs": [
    {
     "output_type": "execute_result",
     "data": {
      "text/plain": [
       "array(['Kerala', 'Telengana', 'Delhi', 'Rajasthan', 'Uttar Pradesh',\n",
       "       'Haryana', 'Ladakh', 'Tamil Nadu', 'Karnataka', 'Maharashtra',\n",
       "       'Punjab', 'Jammu and Kashmir', 'Andhra Pradesh', 'Uttarakhand',\n",
       "       'Odisha', 'Puducherry', 'West Bengal', 'Chhattisgarh',\n",
       "       'Chandigarh', 'Gujarat', 'Himachal Pradesh', 'Madhya Pradesh',\n",
       "       'Bihar', 'Manipur', 'Mizoram', 'Andaman and Nicobar Islands',\n",
       "       'Goa', 'Unassigned', 'Assam', 'Jharkhand', 'Arunachal Pradesh',\n",
       "       'Tripura', 'Nagaland', 'Meghalaya', 'Dadar Nagar Haveli',\n",
       "       'Cases being reassigned to states', 'Sikkim', 'Daman & Diu',\n",
       "       'Dadra and Nagar Haveli and Daman and Diu', 'Telangana',\n",
       "       'Telangana***', 'Telengana***', 'Maharashtra***', 'Chandigarh***',\n",
       "       'Punjab***'], dtype=object)"
      ]
     },
     "metadata": {},
     "execution_count": 11
    }
   ],
   "source": [
    "states"
   ]
  },
  {
   "source": [
    "# Renaming Mis-spelled State names"
   ],
   "cell_type": "markdown",
   "metadata": {}
  },
  {
   "cell_type": "code",
   "execution_count": 12,
   "metadata": {},
   "outputs": [],
   "source": [
    "df=df.replace('Telengana','Telangana')\n",
    "df=df.replace('Telengana***','Telangana')\n",
    "df=df.replace('Telangana***','Telangana')\n",
    "df=df.replace('Maharashtra***','Maharashtra')\n",
    "df=df.replace('Chandigarh***','Chandigarh')\n",
    "df=df.replace('Punjab***','Punjab')"
   ]
  },
  {
   "cell_type": "code",
   "execution_count": 13,
   "metadata": {},
   "outputs": [],
   "source": [
    "states = df['State'].unique()"
   ]
  },
  {
   "cell_type": "code",
   "execution_count": 14,
   "metadata": {},
   "outputs": [],
   "source": [
    "states = list(states)   # Numpy array to python list"
   ]
  },
  {
   "cell_type": "code",
   "execution_count": 15,
   "metadata": {},
   "outputs": [
    {
     "output_type": "execute_result",
     "data": {
      "text/plain": [
       "['Kerala',\n",
       " 'Telangana',\n",
       " 'Delhi',\n",
       " 'Rajasthan',\n",
       " 'Uttar Pradesh',\n",
       " 'Haryana',\n",
       " 'Ladakh',\n",
       " 'Tamil Nadu',\n",
       " 'Karnataka',\n",
       " 'Maharashtra',\n",
       " 'Punjab',\n",
       " 'Jammu and Kashmir',\n",
       " 'Andhra Pradesh',\n",
       " 'Uttarakhand',\n",
       " 'Odisha',\n",
       " 'Puducherry',\n",
       " 'West Bengal',\n",
       " 'Chhattisgarh',\n",
       " 'Chandigarh',\n",
       " 'Gujarat',\n",
       " 'Himachal Pradesh',\n",
       " 'Madhya Pradesh',\n",
       " 'Bihar',\n",
       " 'Manipur',\n",
       " 'Mizoram',\n",
       " 'Andaman and Nicobar Islands',\n",
       " 'Goa',\n",
       " 'Unassigned',\n",
       " 'Assam',\n",
       " 'Jharkhand',\n",
       " 'Arunachal Pradesh',\n",
       " 'Tripura',\n",
       " 'Nagaland',\n",
       " 'Meghalaya',\n",
       " 'Dadar Nagar Haveli',\n",
       " 'Cases being reassigned to states',\n",
       " 'Sikkim',\n",
       " 'Daman & Diu',\n",
       " 'Dadra and Nagar Haveli and Daman and Diu']"
      ]
     },
     "metadata": {},
     "execution_count": 15
    }
   ],
   "source": [
    "states"
   ]
  },
  {
   "source": [
    "# Removing Un-necessary entries from states list\n",
    "## Daman & Diu is removed because of lack of availability of data ---> database contains only 1 entry coresponding to Daman & Diu"
   ],
   "cell_type": "markdown",
   "metadata": {}
  },
  {
   "cell_type": "code",
   "execution_count": 16,
   "metadata": {},
   "outputs": [
    {
     "output_type": "execute_result",
     "data": {
      "text/plain": [
       "           Date        State  Cured  Deaths  Confirmed\n",
       "2890 2020-06-11  Daman & Diu      0       0          2"
      ],
      "text/html": "<div>\n<style scoped>\n    .dataframe tbody tr th:only-of-type {\n        vertical-align: middle;\n    }\n\n    .dataframe tbody tr th {\n        vertical-align: top;\n    }\n\n    .dataframe thead th {\n        text-align: right;\n    }\n</style>\n<table border=\"1\" class=\"dataframe\">\n  <thead>\n    <tr style=\"text-align: right;\">\n      <th></th>\n      <th>Date</th>\n      <th>State</th>\n      <th>Cured</th>\n      <th>Deaths</th>\n      <th>Confirmed</th>\n    </tr>\n  </thead>\n  <tbody>\n    <tr>\n      <th>2890</th>\n      <td>2020-06-11</td>\n      <td>Daman &amp; Diu</td>\n      <td>0</td>\n      <td>0</td>\n      <td>2</td>\n    </tr>\n  </tbody>\n</table>\n</div>"
     },
     "metadata": {},
     "execution_count": 16
    }
   ],
   "source": [
    "df[df.State == 'Daman & Diu']"
   ]
  },
  {
   "cell_type": "code",
   "execution_count": 17,
   "metadata": {},
   "outputs": [],
   "source": [
    "states.remove('Cases being reassigned to states')\n",
    "states.remove('Unassigned')\n",
    "states.remove('Daman & Diu')"
   ]
  },
  {
   "cell_type": "code",
   "execution_count": 18,
   "metadata": {},
   "outputs": [
    {
     "output_type": "execute_result",
     "data": {
      "text/plain": [
       "['Kerala',\n",
       " 'Telangana',\n",
       " 'Delhi',\n",
       " 'Rajasthan',\n",
       " 'Uttar Pradesh',\n",
       " 'Haryana',\n",
       " 'Ladakh',\n",
       " 'Tamil Nadu',\n",
       " 'Karnataka',\n",
       " 'Maharashtra',\n",
       " 'Punjab',\n",
       " 'Jammu and Kashmir',\n",
       " 'Andhra Pradesh',\n",
       " 'Uttarakhand',\n",
       " 'Odisha',\n",
       " 'Puducherry',\n",
       " 'West Bengal',\n",
       " 'Chhattisgarh',\n",
       " 'Chandigarh',\n",
       " 'Gujarat',\n",
       " 'Himachal Pradesh',\n",
       " 'Madhya Pradesh',\n",
       " 'Bihar',\n",
       " 'Manipur',\n",
       " 'Mizoram',\n",
       " 'Andaman and Nicobar Islands',\n",
       " 'Goa',\n",
       " 'Assam',\n",
       " 'Jharkhand',\n",
       " 'Arunachal Pradesh',\n",
       " 'Tripura',\n",
       " 'Nagaland',\n",
       " 'Meghalaya',\n",
       " 'Dadar Nagar Haveli',\n",
       " 'Sikkim',\n",
       " 'Dadra and Nagar Haveli and Daman and Diu']"
      ]
     },
     "metadata": {},
     "execution_count": 18
    }
   ],
   "source": [
    "states"
   ]
  },
  {
   "cell_type": "code",
   "execution_count": 19,
   "metadata": {},
   "outputs": [
    {
     "output_type": "execute_result",
     "data": {
      "text/plain": [
       "Date         0\n",
       "State        0\n",
       "Cured        0\n",
       "Deaths       0\n",
       "Confirmed    0\n",
       "dtype: int64"
      ]
     },
     "metadata": {},
     "execution_count": 19
    }
   ],
   "source": [
    "df.isnull().sum()"
   ]
  },
  {
   "source": [
    "# Adding Months column into database and removing Dates column"
   ],
   "cell_type": "markdown",
   "metadata": {}
  },
  {
   "cell_type": "code",
   "execution_count": 20,
   "metadata": {},
   "outputs": [],
   "source": [
    "df['Month'] = pd.DatetimeIndex(df['Date']).month"
   ]
  },
  {
   "cell_type": "code",
   "execution_count": 21,
   "metadata": {},
   "outputs": [
    {
     "output_type": "execute_result",
     "data": {
      "text/plain": [
       "           Date          State   Cured  Deaths  Confirmed  Month\n",
       "0    2020-01-30         Kerala       0       0          1      1\n",
       "1    2020-01-31         Kerala       0       0          1      1\n",
       "2    2020-02-01         Kerala       0       0          2      2\n",
       "3    2020-02-02         Kerala       0       0          3      2\n",
       "4    2020-02-03         Kerala       0       0          3      2\n",
       "...         ...            ...     ...     ...        ...    ...\n",
       "9286 2020-12-09      Telangana  266120    1480     275261     12\n",
       "9287 2020-12-09        Tripura   32169     373      32945     12\n",
       "9288 2020-12-09    Uttarakhand   72435    1307      79141     12\n",
       "9289 2020-12-09  Uttar Pradesh  528832    7967     558173     12\n",
       "9290 2020-12-09    West Bengal  475425    8820     507995     12\n",
       "\n",
       "[9291 rows x 6 columns]"
      ],
      "text/html": "<div>\n<style scoped>\n    .dataframe tbody tr th:only-of-type {\n        vertical-align: middle;\n    }\n\n    .dataframe tbody tr th {\n        vertical-align: top;\n    }\n\n    .dataframe thead th {\n        text-align: right;\n    }\n</style>\n<table border=\"1\" class=\"dataframe\">\n  <thead>\n    <tr style=\"text-align: right;\">\n      <th></th>\n      <th>Date</th>\n      <th>State</th>\n      <th>Cured</th>\n      <th>Deaths</th>\n      <th>Confirmed</th>\n      <th>Month</th>\n    </tr>\n  </thead>\n  <tbody>\n    <tr>\n      <th>0</th>\n      <td>2020-01-30</td>\n      <td>Kerala</td>\n      <td>0</td>\n      <td>0</td>\n      <td>1</td>\n      <td>1</td>\n    </tr>\n    <tr>\n      <th>1</th>\n      <td>2020-01-31</td>\n      <td>Kerala</td>\n      <td>0</td>\n      <td>0</td>\n      <td>1</td>\n      <td>1</td>\n    </tr>\n    <tr>\n      <th>2</th>\n      <td>2020-02-01</td>\n      <td>Kerala</td>\n      <td>0</td>\n      <td>0</td>\n      <td>2</td>\n      <td>2</td>\n    </tr>\n    <tr>\n      <th>3</th>\n      <td>2020-02-02</td>\n      <td>Kerala</td>\n      <td>0</td>\n      <td>0</td>\n      <td>3</td>\n      <td>2</td>\n    </tr>\n    <tr>\n      <th>4</th>\n      <td>2020-02-03</td>\n      <td>Kerala</td>\n      <td>0</td>\n      <td>0</td>\n      <td>3</td>\n      <td>2</td>\n    </tr>\n    <tr>\n      <th>...</th>\n      <td>...</td>\n      <td>...</td>\n      <td>...</td>\n      <td>...</td>\n      <td>...</td>\n      <td>...</td>\n    </tr>\n    <tr>\n      <th>9286</th>\n      <td>2020-12-09</td>\n      <td>Telangana</td>\n      <td>266120</td>\n      <td>1480</td>\n      <td>275261</td>\n      <td>12</td>\n    </tr>\n    <tr>\n      <th>9287</th>\n      <td>2020-12-09</td>\n      <td>Tripura</td>\n      <td>32169</td>\n      <td>373</td>\n      <td>32945</td>\n      <td>12</td>\n    </tr>\n    <tr>\n      <th>9288</th>\n      <td>2020-12-09</td>\n      <td>Uttarakhand</td>\n      <td>72435</td>\n      <td>1307</td>\n      <td>79141</td>\n      <td>12</td>\n    </tr>\n    <tr>\n      <th>9289</th>\n      <td>2020-12-09</td>\n      <td>Uttar Pradesh</td>\n      <td>528832</td>\n      <td>7967</td>\n      <td>558173</td>\n      <td>12</td>\n    </tr>\n    <tr>\n      <th>9290</th>\n      <td>2020-12-09</td>\n      <td>West Bengal</td>\n      <td>475425</td>\n      <td>8820</td>\n      <td>507995</td>\n      <td>12</td>\n    </tr>\n  </tbody>\n</table>\n<p>9291 rows × 6 columns</p>\n</div>"
     },
     "metadata": {},
     "execution_count": 21
    }
   ],
   "source": [
    "df"
   ]
  },
  {
   "cell_type": "code",
   "execution_count": 22,
   "metadata": {},
   "outputs": [],
   "source": [
    "df.drop('Date',axis=1,inplace=True)"
   ]
  },
  {
   "cell_type": "code",
   "execution_count": 23,
   "metadata": {},
   "outputs": [
    {
     "output_type": "execute_result",
     "data": {
      "text/plain": [
       "              State   Cured  Deaths  Confirmed  Month\n",
       "0            Kerala       0       0          1      1\n",
       "1            Kerala       0       0          1      1\n",
       "2            Kerala       0       0          2      2\n",
       "3            Kerala       0       0          3      2\n",
       "4            Kerala       0       0          3      2\n",
       "...             ...     ...     ...        ...    ...\n",
       "9286      Telangana  266120    1480     275261     12\n",
       "9287        Tripura   32169     373      32945     12\n",
       "9288    Uttarakhand   72435    1307      79141     12\n",
       "9289  Uttar Pradesh  528832    7967     558173     12\n",
       "9290    West Bengal  475425    8820     507995     12\n",
       "\n",
       "[9291 rows x 5 columns]"
      ],
      "text/html": "<div>\n<style scoped>\n    .dataframe tbody tr th:only-of-type {\n        vertical-align: middle;\n    }\n\n    .dataframe tbody tr th {\n        vertical-align: top;\n    }\n\n    .dataframe thead th {\n        text-align: right;\n    }\n</style>\n<table border=\"1\" class=\"dataframe\">\n  <thead>\n    <tr style=\"text-align: right;\">\n      <th></th>\n      <th>State</th>\n      <th>Cured</th>\n      <th>Deaths</th>\n      <th>Confirmed</th>\n      <th>Month</th>\n    </tr>\n  </thead>\n  <tbody>\n    <tr>\n      <th>0</th>\n      <td>Kerala</td>\n      <td>0</td>\n      <td>0</td>\n      <td>1</td>\n      <td>1</td>\n    </tr>\n    <tr>\n      <th>1</th>\n      <td>Kerala</td>\n      <td>0</td>\n      <td>0</td>\n      <td>1</td>\n      <td>1</td>\n    </tr>\n    <tr>\n      <th>2</th>\n      <td>Kerala</td>\n      <td>0</td>\n      <td>0</td>\n      <td>2</td>\n      <td>2</td>\n    </tr>\n    <tr>\n      <th>3</th>\n      <td>Kerala</td>\n      <td>0</td>\n      <td>0</td>\n      <td>3</td>\n      <td>2</td>\n    </tr>\n    <tr>\n      <th>4</th>\n      <td>Kerala</td>\n      <td>0</td>\n      <td>0</td>\n      <td>3</td>\n      <td>2</td>\n    </tr>\n    <tr>\n      <th>...</th>\n      <td>...</td>\n      <td>...</td>\n      <td>...</td>\n      <td>...</td>\n      <td>...</td>\n    </tr>\n    <tr>\n      <th>9286</th>\n      <td>Telangana</td>\n      <td>266120</td>\n      <td>1480</td>\n      <td>275261</td>\n      <td>12</td>\n    </tr>\n    <tr>\n      <th>9287</th>\n      <td>Tripura</td>\n      <td>32169</td>\n      <td>373</td>\n      <td>32945</td>\n      <td>12</td>\n    </tr>\n    <tr>\n      <th>9288</th>\n      <td>Uttarakhand</td>\n      <td>72435</td>\n      <td>1307</td>\n      <td>79141</td>\n      <td>12</td>\n    </tr>\n    <tr>\n      <th>9289</th>\n      <td>Uttar Pradesh</td>\n      <td>528832</td>\n      <td>7967</td>\n      <td>558173</td>\n      <td>12</td>\n    </tr>\n    <tr>\n      <th>9290</th>\n      <td>West Bengal</td>\n      <td>475425</td>\n      <td>8820</td>\n      <td>507995</td>\n      <td>12</td>\n    </tr>\n  </tbody>\n</table>\n<p>9291 rows × 5 columns</p>\n</div>"
     },
     "metadata": {},
     "execution_count": 23
    }
   ],
   "source": [
    "df"
   ]
  },
  {
   "source": [
    "# Creating a dictonary with keys as state names and their corresponding data"
   ],
   "cell_type": "markdown",
   "metadata": {}
  },
  {
   "cell_type": "code",
   "execution_count": 24,
   "metadata": {},
   "outputs": [],
   "source": [
    "state_dct_df ={}\n",
    "for i in states:\n",
    "    state_dct_df[i] = df[df.State == i].copy().reset_index().drop(['index'],axis=1)"
   ]
  },
  {
   "cell_type": "code",
   "execution_count": 25,
   "metadata": {},
   "outputs": [
    {
     "output_type": "execute_result",
     "data": {
      "text/plain": [
       "           State    Cured  Deaths  Confirmed  Month\n",
       "0    Maharashtra        0       0          2      3\n",
       "1    Maharashtra        0       0          5      3\n",
       "2    Maharashtra        0       0          2      3\n",
       "3    Maharashtra        0       0         11      3\n",
       "4    Maharashtra        0       0         14      3\n",
       "..           ...      ...     ...        ...    ...\n",
       "271  Maharashtra  1710050   47599    1842587     12\n",
       "272  Maharashtra  1715884   47694    1847509     12\n",
       "273  Maharashtra  1723370   47734    1852266     12\n",
       "274  Maharashtra  1730715   47774    1855341     12\n",
       "275  Maharashtra  1737080   47827    1859367     12\n",
       "\n",
       "[276 rows x 5 columns]"
      ],
      "text/html": "<div>\n<style scoped>\n    .dataframe tbody tr th:only-of-type {\n        vertical-align: middle;\n    }\n\n    .dataframe tbody tr th {\n        vertical-align: top;\n    }\n\n    .dataframe thead th {\n        text-align: right;\n    }\n</style>\n<table border=\"1\" class=\"dataframe\">\n  <thead>\n    <tr style=\"text-align: right;\">\n      <th></th>\n      <th>State</th>\n      <th>Cured</th>\n      <th>Deaths</th>\n      <th>Confirmed</th>\n      <th>Month</th>\n    </tr>\n  </thead>\n  <tbody>\n    <tr>\n      <th>0</th>\n      <td>Maharashtra</td>\n      <td>0</td>\n      <td>0</td>\n      <td>2</td>\n      <td>3</td>\n    </tr>\n    <tr>\n      <th>1</th>\n      <td>Maharashtra</td>\n      <td>0</td>\n      <td>0</td>\n      <td>5</td>\n      <td>3</td>\n    </tr>\n    <tr>\n      <th>2</th>\n      <td>Maharashtra</td>\n      <td>0</td>\n      <td>0</td>\n      <td>2</td>\n      <td>3</td>\n    </tr>\n    <tr>\n      <th>3</th>\n      <td>Maharashtra</td>\n      <td>0</td>\n      <td>0</td>\n      <td>11</td>\n      <td>3</td>\n    </tr>\n    <tr>\n      <th>4</th>\n      <td>Maharashtra</td>\n      <td>0</td>\n      <td>0</td>\n      <td>14</td>\n      <td>3</td>\n    </tr>\n    <tr>\n      <th>...</th>\n      <td>...</td>\n      <td>...</td>\n      <td>...</td>\n      <td>...</td>\n      <td>...</td>\n    </tr>\n    <tr>\n      <th>271</th>\n      <td>Maharashtra</td>\n      <td>1710050</td>\n      <td>47599</td>\n      <td>1842587</td>\n      <td>12</td>\n    </tr>\n    <tr>\n      <th>272</th>\n      <td>Maharashtra</td>\n      <td>1715884</td>\n      <td>47694</td>\n      <td>1847509</td>\n      <td>12</td>\n    </tr>\n    <tr>\n      <th>273</th>\n      <td>Maharashtra</td>\n      <td>1723370</td>\n      <td>47734</td>\n      <td>1852266</td>\n      <td>12</td>\n    </tr>\n    <tr>\n      <th>274</th>\n      <td>Maharashtra</td>\n      <td>1730715</td>\n      <td>47774</td>\n      <td>1855341</td>\n      <td>12</td>\n    </tr>\n    <tr>\n      <th>275</th>\n      <td>Maharashtra</td>\n      <td>1737080</td>\n      <td>47827</td>\n      <td>1859367</td>\n      <td>12</td>\n    </tr>\n  </tbody>\n</table>\n<p>276 rows × 5 columns</p>\n</div>"
     },
     "metadata": {},
     "execution_count": 25
    }
   ],
   "source": [
    "state_dct_df['Maharashtra']"
   ]
  },
  {
   "source": [
    "# Creating a Dictonary to Keep count of number of entries i.e. number of days for which data is available in database corresponding to each state"
   ],
   "cell_type": "markdown",
   "metadata": {}
  },
  {
   "cell_type": "code",
   "execution_count": 26,
   "metadata": {},
   "outputs": [],
   "source": [
    "row_count_dct_or_day_count_dct = {}\n",
    "for i in states:\n",
    "    rows, columns = state_dct_df[i].shape\n",
    "    row_count_dct_or_day_count_dct[i] = rows"
   ]
  },
  {
   "source": [
    "row_count_dct_or_day_count_dct"
   ],
   "cell_type": "code",
   "metadata": {},
   "execution_count": 27,
   "outputs": [
    {
     "output_type": "execute_result",
     "data": {
      "text/plain": [
       "{'Kerala': 315,\n",
       " 'Telangana': 283,\n",
       " 'Delhi': 283,\n",
       " 'Rajasthan': 282,\n",
       " 'Uttar Pradesh': 281,\n",
       " 'Haryana': 281,\n",
       " 'Ladakh': 278,\n",
       " 'Tamil Nadu': 278,\n",
       " 'Karnataka': 276,\n",
       " 'Maharashtra': 276,\n",
       " 'Punjab': 276,\n",
       " 'Jammu and Kashmir': 276,\n",
       " 'Andhra Pradesh': 273,\n",
       " 'Uttarakhand': 270,\n",
       " 'Odisha': 269,\n",
       " 'Puducherry': 267,\n",
       " 'West Bengal': 267,\n",
       " 'Chhattisgarh': 266,\n",
       " 'Chandigarh': 266,\n",
       " 'Gujarat': 265,\n",
       " 'Himachal Pradesh': 264,\n",
       " 'Madhya Pradesh': 264,\n",
       " 'Bihar': 263,\n",
       " 'Manipur': 261,\n",
       " 'Mizoram': 260,\n",
       " 'Andaman and Nicobar Islands': 259,\n",
       " 'Goa': 259,\n",
       " 'Assam': 253,\n",
       " 'Jharkhand': 253,\n",
       " 'Arunachal Pradesh': 251,\n",
       " 'Tripura': 247,\n",
       " 'Nagaland': 207,\n",
       " 'Meghalaya': 240,\n",
       " 'Dadar Nagar Haveli': 37,\n",
       " 'Sikkim': 200,\n",
       " 'Dadra and Nagar Haveli and Daman and Diu': 181}"
      ]
     },
     "metadata": {},
     "execution_count": 27
    }
   ]
  },
  {
   "cell_type": "code",
   "execution_count": 28,
   "metadata": {},
   "outputs": [
    {
     "output_type": "execute_result",
     "data": {
      "text/plain": [
       "           State    Cured  Deaths  Confirmed  Month\n",
       "0    Maharashtra        0       0          2      3\n",
       "1    Maharashtra        0       0          5      3\n",
       "2    Maharashtra        0       0          2      3\n",
       "3    Maharashtra        0       0         11      3\n",
       "4    Maharashtra        0       0         14      3\n",
       "..           ...      ...     ...        ...    ...\n",
       "271  Maharashtra  1710050   47599    1842587     12\n",
       "272  Maharashtra  1715884   47694    1847509     12\n",
       "273  Maharashtra  1723370   47734    1852266     12\n",
       "274  Maharashtra  1730715   47774    1855341     12\n",
       "275  Maharashtra  1737080   47827    1859367     12\n",
       "\n",
       "[276 rows x 5 columns]"
      ],
      "text/html": "<div>\n<style scoped>\n    .dataframe tbody tr th:only-of-type {\n        vertical-align: middle;\n    }\n\n    .dataframe tbody tr th {\n        vertical-align: top;\n    }\n\n    .dataframe thead th {\n        text-align: right;\n    }\n</style>\n<table border=\"1\" class=\"dataframe\">\n  <thead>\n    <tr style=\"text-align: right;\">\n      <th></th>\n      <th>State</th>\n      <th>Cured</th>\n      <th>Deaths</th>\n      <th>Confirmed</th>\n      <th>Month</th>\n    </tr>\n  </thead>\n  <tbody>\n    <tr>\n      <th>0</th>\n      <td>Maharashtra</td>\n      <td>0</td>\n      <td>0</td>\n      <td>2</td>\n      <td>3</td>\n    </tr>\n    <tr>\n      <th>1</th>\n      <td>Maharashtra</td>\n      <td>0</td>\n      <td>0</td>\n      <td>5</td>\n      <td>3</td>\n    </tr>\n    <tr>\n      <th>2</th>\n      <td>Maharashtra</td>\n      <td>0</td>\n      <td>0</td>\n      <td>2</td>\n      <td>3</td>\n    </tr>\n    <tr>\n      <th>3</th>\n      <td>Maharashtra</td>\n      <td>0</td>\n      <td>0</td>\n      <td>11</td>\n      <td>3</td>\n    </tr>\n    <tr>\n      <th>4</th>\n      <td>Maharashtra</td>\n      <td>0</td>\n      <td>0</td>\n      <td>14</td>\n      <td>3</td>\n    </tr>\n    <tr>\n      <th>...</th>\n      <td>...</td>\n      <td>...</td>\n      <td>...</td>\n      <td>...</td>\n      <td>...</td>\n    </tr>\n    <tr>\n      <th>271</th>\n      <td>Maharashtra</td>\n      <td>1710050</td>\n      <td>47599</td>\n      <td>1842587</td>\n      <td>12</td>\n    </tr>\n    <tr>\n      <th>272</th>\n      <td>Maharashtra</td>\n      <td>1715884</td>\n      <td>47694</td>\n      <td>1847509</td>\n      <td>12</td>\n    </tr>\n    <tr>\n      <th>273</th>\n      <td>Maharashtra</td>\n      <td>1723370</td>\n      <td>47734</td>\n      <td>1852266</td>\n      <td>12</td>\n    </tr>\n    <tr>\n      <th>274</th>\n      <td>Maharashtra</td>\n      <td>1730715</td>\n      <td>47774</td>\n      <td>1855341</td>\n      <td>12</td>\n    </tr>\n    <tr>\n      <th>275</th>\n      <td>Maharashtra</td>\n      <td>1737080</td>\n      <td>47827</td>\n      <td>1859367</td>\n      <td>12</td>\n    </tr>\n  </tbody>\n</table>\n<p>276 rows × 5 columns</p>\n</div>"
     },
     "metadata": {},
     "execution_count": 28
    }
   ],
   "source": [
    "state_dct_df['Maharashtra']"
   ]
  },
  {
   "source": [
    "# Getting Back per day count of cured, deaths and confirmed cases from cumulative sum"
   ],
   "cell_type": "markdown",
   "metadata": {}
  },
  {
   "cell_type": "code",
   "execution_count": 29,
   "metadata": {},
   "outputs": [],
   "source": [
    "# Here we're getting back per day cases from cumulative sum\n",
    "\n",
    "for s in states:\n",
    "    for i in range(row_count_dct_or_day_count_dct[s]-1,0,-1):\n",
    "            state_dct_df[s].iloc[i,1] -= state_dct_df[s].iloc[i-1,1]\n",
    "            state_dct_df[s].iloc[i,2] -= state_dct_df[s].iloc[i-1,2]\n",
    "            state_dct_df[s].iloc[i,3] -= state_dct_df[s].iloc[i-1,3]"
   ]
  },
  {
   "cell_type": "code",
   "execution_count": 30,
   "metadata": {},
   "outputs": [
    {
     "output_type": "execute_result",
     "data": {
      "text/plain": [
       "           State  Cured  Deaths  Confirmed  Month\n",
       "0    Maharashtra      0       0          2      3\n",
       "1    Maharashtra      0       0          3      3\n",
       "2    Maharashtra      0       0         -3      3\n",
       "3    Maharashtra      0       0          9      3\n",
       "4    Maharashtra      0       0          3      3\n",
       "..           ...    ...     ...        ...    ...\n",
       "271  Maharashtra   6776     127       5229     12\n",
       "272  Maharashtra   5834      95       4922     12\n",
       "273  Maharashtra   7486      40       4757     12\n",
       "274  Maharashtra   7345      40       3075     12\n",
       "275  Maharashtra   6365      53       4026     12\n",
       "\n",
       "[276 rows x 5 columns]"
      ],
      "text/html": "<div>\n<style scoped>\n    .dataframe tbody tr th:only-of-type {\n        vertical-align: middle;\n    }\n\n    .dataframe tbody tr th {\n        vertical-align: top;\n    }\n\n    .dataframe thead th {\n        text-align: right;\n    }\n</style>\n<table border=\"1\" class=\"dataframe\">\n  <thead>\n    <tr style=\"text-align: right;\">\n      <th></th>\n      <th>State</th>\n      <th>Cured</th>\n      <th>Deaths</th>\n      <th>Confirmed</th>\n      <th>Month</th>\n    </tr>\n  </thead>\n  <tbody>\n    <tr>\n      <th>0</th>\n      <td>Maharashtra</td>\n      <td>0</td>\n      <td>0</td>\n      <td>2</td>\n      <td>3</td>\n    </tr>\n    <tr>\n      <th>1</th>\n      <td>Maharashtra</td>\n      <td>0</td>\n      <td>0</td>\n      <td>3</td>\n      <td>3</td>\n    </tr>\n    <tr>\n      <th>2</th>\n      <td>Maharashtra</td>\n      <td>0</td>\n      <td>0</td>\n      <td>-3</td>\n      <td>3</td>\n    </tr>\n    <tr>\n      <th>3</th>\n      <td>Maharashtra</td>\n      <td>0</td>\n      <td>0</td>\n      <td>9</td>\n      <td>3</td>\n    </tr>\n    <tr>\n      <th>4</th>\n      <td>Maharashtra</td>\n      <td>0</td>\n      <td>0</td>\n      <td>3</td>\n      <td>3</td>\n    </tr>\n    <tr>\n      <th>...</th>\n      <td>...</td>\n      <td>...</td>\n      <td>...</td>\n      <td>...</td>\n      <td>...</td>\n    </tr>\n    <tr>\n      <th>271</th>\n      <td>Maharashtra</td>\n      <td>6776</td>\n      <td>127</td>\n      <td>5229</td>\n      <td>12</td>\n    </tr>\n    <tr>\n      <th>272</th>\n      <td>Maharashtra</td>\n      <td>5834</td>\n      <td>95</td>\n      <td>4922</td>\n      <td>12</td>\n    </tr>\n    <tr>\n      <th>273</th>\n      <td>Maharashtra</td>\n      <td>7486</td>\n      <td>40</td>\n      <td>4757</td>\n      <td>12</td>\n    </tr>\n    <tr>\n      <th>274</th>\n      <td>Maharashtra</td>\n      <td>7345</td>\n      <td>40</td>\n      <td>3075</td>\n      <td>12</td>\n    </tr>\n    <tr>\n      <th>275</th>\n      <td>Maharashtra</td>\n      <td>6365</td>\n      <td>53</td>\n      <td>4026</td>\n      <td>12</td>\n    </tr>\n  </tbody>\n</table>\n<p>276 rows × 5 columns</p>\n</div>"
     },
     "metadata": {},
     "execution_count": 30
    }
   ],
   "source": [
    "state_dct_df['Maharashtra']"
   ]
  },
  {
   "source": [
    "# As some of the entries in database turns out to be negative, now we will get back there indices and aftwerwards remove those entries\n",
    "## Negative entries can occur in cured, deaths and confirmed columns"
   ],
   "cell_type": "markdown",
   "metadata": {}
  },
  {
   "cell_type": "code",
   "execution_count": 31,
   "metadata": {},
   "outputs": [],
   "source": [
    "check_neg_cured = {}\n",
    "check_neg_deaths = {}\n",
    "check_neg_confirmed = {}\n",
    "for s in states:\n",
    "    index_cured = []\n",
    "    index_deaths = []\n",
    "    index_confirmed = []\n",
    "    \n",
    "    for i in range(row_count_dct_or_day_count_dct[s]):\n",
    "        if(state_dct_df[s].iloc[i,1]<0):\n",
    "            index_cured.append(i)\n",
    "        if(state_dct_df[s].iloc[i,2]<0):\n",
    "            index_deaths.append(i)\n",
    "        if(state_dct_df[s].iloc[i,3]<0):\n",
    "            index_confirmed.append(i)\n",
    "\n",
    "    check_neg_cured[s] = index_cured\n",
    "    check_neg_deaths[s] = index_deaths\n",
    "    check_neg_confirmed[s] = index_confirmed"
   ]
  },
  {
   "cell_type": "code",
   "execution_count": 32,
   "metadata": {},
   "outputs": [
    {
     "output_type": "execute_result",
     "data": {
      "text/plain": [
       "{'Kerala': [],\n",
       " 'Telangana': [],\n",
       " 'Delhi': [],\n",
       " 'Rajasthan': [],\n",
       " 'Uttar Pradesh': [11],\n",
       " 'Haryana': [],\n",
       " 'Ladakh': [],\n",
       " 'Tamil Nadu': [],\n",
       " 'Karnataka': [],\n",
       " 'Maharashtra': [],\n",
       " 'Punjab': [],\n",
       " 'Jammu and Kashmir': [],\n",
       " 'Andhra Pradesh': [],\n",
       " 'Uttarakhand': [],\n",
       " 'Odisha': [],\n",
       " 'Puducherry': [],\n",
       " 'West Bengal': [16],\n",
       " 'Chhattisgarh': [],\n",
       " 'Chandigarh': [],\n",
       " 'Gujarat': [],\n",
       " 'Himachal Pradesh': [],\n",
       " 'Madhya Pradesh': [],\n",
       " 'Bihar': [],\n",
       " 'Manipur': [],\n",
       " 'Mizoram': [],\n",
       " 'Andaman and Nicobar Islands': [],\n",
       " 'Goa': [],\n",
       " 'Assam': [],\n",
       " 'Jharkhand': [],\n",
       " 'Arunachal Pradesh': [],\n",
       " 'Tripura': [],\n",
       " 'Nagaland': [],\n",
       " 'Meghalaya': [],\n",
       " 'Dadar Nagar Haveli': [],\n",
       " 'Sikkim': [],\n",
       " 'Dadra and Nagar Haveli and Daman and Diu': []}"
      ]
     },
     "metadata": {},
     "execution_count": 32
    }
   ],
   "source": [
    "check_neg_cured"
   ]
  },
  {
   "source": [
    "# Removing all the entries which are invalid/negative for calculation from Statewise database dictonary "
   ],
   "cell_type": "markdown",
   "metadata": {}
  },
  {
   "cell_type": "code",
   "execution_count": 33,
   "metadata": {},
   "outputs": [],
   "source": [
    "for i in states:\n",
    "    state_dct_df[i] = df[df.State == i].copy().reset_index().drop(['index'],axis=1)"
   ]
  },
  {
   "cell_type": "code",
   "execution_count": 34,
   "metadata": {},
   "outputs": [],
   "source": [
    "for s in states:\n",
    "    state_dct_df[s].drop(check_neg_cured[s],axis=0,inplace=True)\n",
    "    state_dct_df[s].drop(check_neg_deaths[s],axis=0,inplace=True)\n",
    "    state_dct_df[s].drop(check_neg_confirmed[s],axis=0,inplace=True)"
   ]
  },
  {
   "cell_type": "code",
   "execution_count": 35,
   "metadata": {},
   "outputs": [
    {
     "output_type": "execute_result",
     "data": {
      "text/plain": [
       "           State    Cured  Deaths  Confirmed  Month\n",
       "0    Maharashtra        0       0          2      3\n",
       "1    Maharashtra        0       0          5      3\n",
       "3    Maharashtra        0       0         11      3\n",
       "4    Maharashtra        0       0         14      3\n",
       "5    Maharashtra        0       0         14      3\n",
       "..           ...      ...     ...        ...    ...\n",
       "271  Maharashtra  1710050   47599    1842587     12\n",
       "272  Maharashtra  1715884   47694    1847509     12\n",
       "273  Maharashtra  1723370   47734    1852266     12\n",
       "274  Maharashtra  1730715   47774    1855341     12\n",
       "275  Maharashtra  1737080   47827    1859367     12\n",
       "\n",
       "[274 rows x 5 columns]"
      ],
      "text/html": "<div>\n<style scoped>\n    .dataframe tbody tr th:only-of-type {\n        vertical-align: middle;\n    }\n\n    .dataframe tbody tr th {\n        vertical-align: top;\n    }\n\n    .dataframe thead th {\n        text-align: right;\n    }\n</style>\n<table border=\"1\" class=\"dataframe\">\n  <thead>\n    <tr style=\"text-align: right;\">\n      <th></th>\n      <th>State</th>\n      <th>Cured</th>\n      <th>Deaths</th>\n      <th>Confirmed</th>\n      <th>Month</th>\n    </tr>\n  </thead>\n  <tbody>\n    <tr>\n      <th>0</th>\n      <td>Maharashtra</td>\n      <td>0</td>\n      <td>0</td>\n      <td>2</td>\n      <td>3</td>\n    </tr>\n    <tr>\n      <th>1</th>\n      <td>Maharashtra</td>\n      <td>0</td>\n      <td>0</td>\n      <td>5</td>\n      <td>3</td>\n    </tr>\n    <tr>\n      <th>3</th>\n      <td>Maharashtra</td>\n      <td>0</td>\n      <td>0</td>\n      <td>11</td>\n      <td>3</td>\n    </tr>\n    <tr>\n      <th>4</th>\n      <td>Maharashtra</td>\n      <td>0</td>\n      <td>0</td>\n      <td>14</td>\n      <td>3</td>\n    </tr>\n    <tr>\n      <th>5</th>\n      <td>Maharashtra</td>\n      <td>0</td>\n      <td>0</td>\n      <td>14</td>\n      <td>3</td>\n    </tr>\n    <tr>\n      <th>...</th>\n      <td>...</td>\n      <td>...</td>\n      <td>...</td>\n      <td>...</td>\n      <td>...</td>\n    </tr>\n    <tr>\n      <th>271</th>\n      <td>Maharashtra</td>\n      <td>1710050</td>\n      <td>47599</td>\n      <td>1842587</td>\n      <td>12</td>\n    </tr>\n    <tr>\n      <th>272</th>\n      <td>Maharashtra</td>\n      <td>1715884</td>\n      <td>47694</td>\n      <td>1847509</td>\n      <td>12</td>\n    </tr>\n    <tr>\n      <th>273</th>\n      <td>Maharashtra</td>\n      <td>1723370</td>\n      <td>47734</td>\n      <td>1852266</td>\n      <td>12</td>\n    </tr>\n    <tr>\n      <th>274</th>\n      <td>Maharashtra</td>\n      <td>1730715</td>\n      <td>47774</td>\n      <td>1855341</td>\n      <td>12</td>\n    </tr>\n    <tr>\n      <th>275</th>\n      <td>Maharashtra</td>\n      <td>1737080</td>\n      <td>47827</td>\n      <td>1859367</td>\n      <td>12</td>\n    </tr>\n  </tbody>\n</table>\n<p>274 rows × 5 columns</p>\n</div>"
     },
     "metadata": {},
     "execution_count": 35
    }
   ],
   "source": [
    "state_dct_df['Maharashtra']"
   ]
  },
  {
   "source": [
    "## Calculating Updated row count for each state and putting it in dictonary"
   ],
   "cell_type": "markdown",
   "metadata": {}
  },
  {
   "cell_type": "code",
   "execution_count": 36,
   "metadata": {},
   "outputs": [],
   "source": [
    "for i in states:\n",
    "    rows, columns = state_dct_df[i].shape\n",
    "    row_count_dct_or_day_count_dct[i] = rows"
   ]
  },
  {
   "cell_type": "code",
   "execution_count": 37,
   "metadata": {},
   "outputs": [
    {
     "output_type": "execute_result",
     "data": {
      "text/plain": [
       "{'Kerala': 315,\n",
       " 'Telangana': 283,\n",
       " 'Delhi': 283,\n",
       " 'Rajasthan': 281,\n",
       " 'Uttar Pradesh': 280,\n",
       " 'Haryana': 281,\n",
       " 'Ladakh': 278,\n",
       " 'Tamil Nadu': 278,\n",
       " 'Karnataka': 276,\n",
       " 'Maharashtra': 274,\n",
       " 'Punjab': 276,\n",
       " 'Jammu and Kashmir': 276,\n",
       " 'Andhra Pradesh': 273,\n",
       " 'Uttarakhand': 270,\n",
       " 'Odisha': 269,\n",
       " 'Puducherry': 266,\n",
       " 'West Bengal': 266,\n",
       " 'Chhattisgarh': 266,\n",
       " 'Chandigarh': 266,\n",
       " 'Gujarat': 265,\n",
       " 'Himachal Pradesh': 264,\n",
       " 'Madhya Pradesh': 264,\n",
       " 'Bihar': 263,\n",
       " 'Manipur': 261,\n",
       " 'Mizoram': 260,\n",
       " 'Andaman and Nicobar Islands': 259,\n",
       " 'Goa': 259,\n",
       " 'Assam': 253,\n",
       " 'Jharkhand': 252,\n",
       " 'Arunachal Pradesh': 251,\n",
       " 'Tripura': 247,\n",
       " 'Nagaland': 206,\n",
       " 'Meghalaya': 240,\n",
       " 'Dadar Nagar Haveli': 37,\n",
       " 'Sikkim': 200,\n",
       " 'Dadra and Nagar Haveli and Daman and Diu': 181}"
      ]
     },
     "metadata": {},
     "execution_count": 37
    }
   ],
   "source": [
    "row_count_dct_or_day_count_dct"
   ]
  },
  {
   "source": [
    "# Again Calculating Absolute values from cumulative sum"
   ],
   "cell_type": "markdown",
   "metadata": {}
  },
  {
   "cell_type": "code",
   "execution_count": 38,
   "metadata": {},
   "outputs": [],
   "source": [
    "for s in states:\n",
    "    for i in range(row_count_dct_or_day_count_dct[s]-1,0,-1):\n",
    "            state_dct_df[s].iloc[i,1] -= state_dct_df[s].iloc[i-1,1]\n",
    "            state_dct_df[s].iloc[i,2] -= state_dct_df[s].iloc[i-1,2]\n",
    "            state_dct_df[s].iloc[i,3] -= state_dct_df[s].iloc[i-1,3]"
   ]
  },
  {
   "source": [
    "# Summing confirmed cases monthwise"
   ],
   "cell_type": "markdown",
   "metadata": {}
  },
  {
   "cell_type": "code",
   "execution_count": 39,
   "metadata": {},
   "outputs": [
    {
     "output_type": "execute_result",
     "data": {
      "text/plain": [
       "array([ 1,  2,  3,  4,  5,  6,  7,  8,  9, 10, 11, 12])"
      ]
     },
     "metadata": {},
     "execution_count": 39
    }
   ],
   "source": [
    "months = np.arange(1,13,1)\n",
    "months"
   ]
  },
  {
   "cell_type": "code",
   "execution_count": 40,
   "metadata": {},
   "outputs": [
    {
     "output_type": "execute_result",
     "data": {
      "text/plain": [
       "         State  Cured  Deaths  Confirmed  Month\n",
       "0  Maharashtra      0       0          2      3\n",
       "1  Maharashtra      0       0          3      3\n",
       "3  Maharashtra      0       0          6      3\n",
       "4  Maharashtra      0       0          3      3\n",
       "5  Maharashtra      0       0          0      3"
      ],
      "text/html": "<div>\n<style scoped>\n    .dataframe tbody tr th:only-of-type {\n        vertical-align: middle;\n    }\n\n    .dataframe tbody tr th {\n        vertical-align: top;\n    }\n\n    .dataframe thead th {\n        text-align: right;\n    }\n</style>\n<table border=\"1\" class=\"dataframe\">\n  <thead>\n    <tr style=\"text-align: right;\">\n      <th></th>\n      <th>State</th>\n      <th>Cured</th>\n      <th>Deaths</th>\n      <th>Confirmed</th>\n      <th>Month</th>\n    </tr>\n  </thead>\n  <tbody>\n    <tr>\n      <th>0</th>\n      <td>Maharashtra</td>\n      <td>0</td>\n      <td>0</td>\n      <td>2</td>\n      <td>3</td>\n    </tr>\n    <tr>\n      <th>1</th>\n      <td>Maharashtra</td>\n      <td>0</td>\n      <td>0</td>\n      <td>3</td>\n      <td>3</td>\n    </tr>\n    <tr>\n      <th>3</th>\n      <td>Maharashtra</td>\n      <td>0</td>\n      <td>0</td>\n      <td>6</td>\n      <td>3</td>\n    </tr>\n    <tr>\n      <th>4</th>\n      <td>Maharashtra</td>\n      <td>0</td>\n      <td>0</td>\n      <td>3</td>\n      <td>3</td>\n    </tr>\n    <tr>\n      <th>5</th>\n      <td>Maharashtra</td>\n      <td>0</td>\n      <td>0</td>\n      <td>0</td>\n      <td>3</td>\n    </tr>\n  </tbody>\n</table>\n</div>"
     },
     "metadata": {},
     "execution_count": 40
    }
   ],
   "source": [
    "state_dct_df['Maharashtra'].head()"
   ]
  },
  {
   "cell_type": "code",
   "execution_count": 41,
   "metadata": {},
   "outputs": [],
   "source": [
    "month_wise_sum_of_confirmed_cases_dct={}\n",
    "\n",
    "# Initializing Dictonary\n",
    "for i in months:\n",
    "    month_wise_sum_of_confirmed_cases_dct[i] = 0\n",
    "\n",
    "# Summing cases month-wise\n",
    "for s in states:\n",
    "    for i in range(row_count_dct_or_day_count_dct[s]):\n",
    "        month_wise_sum_of_confirmed_cases_dct[state_dct_df[s].iloc[i,4]] +=  state_dct_df[s].iloc[i,3]"
   ]
  },
  {
   "cell_type": "code",
   "execution_count": 42,
   "metadata": {},
   "outputs": [
    {
     "output_type": "execute_result",
     "data": {
      "text/plain": [
       "{1: 1,\n",
       " 2: 2,\n",
       " 3: 1356,\n",
       " 4: 31971,\n",
       " 5: 143322,\n",
       " 6: 383210,\n",
       " 7: 1079034,\n",
       " 8: 1982375,\n",
       " 9: 2604518,\n",
       " 10: 1911356,\n",
       " 11: 1294572,\n",
       " 12: 304159}"
      ]
     },
     "metadata": {},
     "execution_count": 42
    }
   ],
   "source": [
    "month_wise_sum_of_confirmed_cases_dct"
   ]
  },
  {
   "source": [
    "## Q1.Filter the month in which heighest people are get infected to Covid-19 virus?\n"
   ],
   "cell_type": "markdown",
   "metadata": {}
  },
  {
   "cell_type": "code",
   "execution_count": 43,
   "metadata": {},
   "outputs": [],
   "source": [
    "peak_month = 0\n",
    "peak_val = 0\n",
    "for i in months:\n",
    "    if month_wise_sum_of_confirmed_cases_dct[i]>peak_val:\n",
    "        peak_val = month_wise_sum_of_confirmed_cases_dct[i]\n",
    "        peak_month = i"
   ]
  },
  {
   "cell_type": "code",
   "execution_count": 44,
   "metadata": {},
   "outputs": [
    {
     "output_type": "stream",
     "name": "stdout",
     "text": [
      "Peak Month = 9\nPeak Cases = 2604518\n"
     ]
    }
   ],
   "source": [
    "print(f\"Peak Month = {peak_month}\\nPeak Cases = {peak_val}\")"
   ]
  },
  {
   "source": [
    "# Survival Rate = Total Cured/(Total Confirmed*Total number of months for which data is available)\n",
    "## Q2.Obtain state in which survival rate is high"
   ],
   "cell_type": "markdown",
   "metadata": {}
  },
  {
   "cell_type": "code",
   "execution_count": 45,
   "metadata": {},
   "outputs": [],
   "source": [
    "survival_rate ={}\n",
    "for s in states:\n",
    "    total_confirmed = 0\n",
    "    total_cured = 0\n",
    "    for i in range(row_count_dct_or_day_count_dct[s]):\n",
    "       total_confirmed += state_dct_df[s].iloc[i,3]\n",
    "       total_cured += state_dct_df[s].iloc[i,1]\n",
    "    factor = (row_count_dct_or_day_count_dct[s]/365)*12\n",
    "    survival_rate[s] = (total_cured/(total_confirmed*factor))"
   ]
  },
  {
   "source": [
    "survival_rate"
   ],
   "cell_type": "code",
   "metadata": {},
   "execution_count": 46,
   "outputs": [
    {
     "output_type": "execute_result",
     "data": {
      "text/plain": [
       "{'Kerala': 0.08722297882343857,\n",
       " 'Telangana': 0.10391016019493547,\n",
       " 'Delhi': 0.1017062890076429,\n",
       " 'Rajasthan': 0.09935099708743428,\n",
       " 'Uttar Pradesh': 0.1029206425418711,\n",
       " 'Haryana': 0.10185051486100315,\n",
       " 'Ladakh': 0.09827481976956065,\n",
       " 'Tamil Nadu': 0.10631967162991153,\n",
       " 'Karnataka': 0.1056613715720078,\n",
       " 'Maharashtra': 0.10370883525849273,\n",
       " 'Punjab': 0.10163298794009995,\n",
       " 'Jammu and Kashmir': 0.1036763753975389,\n",
       " 'Andhra Pradesh': 0.10982446022585154,\n",
       " 'Uttarakhand': 0.10310857508422613,\n",
       " 'Odisha': 0.11133686358437969,\n",
       " 'Puducherry': 0.11127444055718348,\n",
       " 'West Bengal': 0.10701694750562563,\n",
       " 'Chhattisgarh': 0.10402583607907026,\n",
       " 'Chandigarh': 0.10646141162984768,\n",
       " 'Gujarat': 0.10525413909896267,\n",
       " 'Himachal Pradesh': 0.09444154620598312,\n",
       " 'Madhya Pradesh': 0.10639309264609538,\n",
       " 'Bihar': 0.11238642781192737,\n",
       " 'Manipur': 0.10227842776596245,\n",
       " 'Mizoram': 0.11095691250330426,\n",
       " 'Andaman and Nicobar Islands': 0.11421900732281647,\n",
       " 'Goa': 0.1126126783631637,\n",
       " 'Assam': 0.11765568343362025,\n",
       " 'Jharkhand': 0.11771077809613047,\n",
       " 'Arunachal Pradesh': 0.11567467430272826,\n",
       " 'Tripura': 0.1202438059260834,\n",
       " 'Nagaland': 0.13867538753051514,\n",
       " 'Meghalaya': 0.11934232026143791,\n",
       " 'Dadar Nagar Haveli': 0.06323631323631324,\n",
       " 'Sikkim': 0.13808525087887502,\n",
       " 'Dadra and Nagar Haveli and Daman and Diu': 0.1669947620154617}"
      ]
     },
     "metadata": {},
     "execution_count": 46
    }
   ]
  },
  {
   "cell_type": "code",
   "execution_count": 47,
   "metadata": {},
   "outputs": [
    {
     "output_type": "stream",
     "name": "stdout",
     "text": [
      "State with maximum Survival Rate (per month) = \"Dadra and Nagar Haveli and Daman and Diu\"\nSurvival Rate (per month) = 0.1669947620154617\n"
     ]
    }
   ],
   "source": [
    "max_survival_rate_state = 0\n",
    "max_survival_rate = 0\n",
    "for i in states:\n",
    "    if survival_rate[i]>max_survival_rate:\n",
    "        max_survival_rate = survival_rate[i]\n",
    "        max_survival_rate_state = i\n",
    "\n",
    "print(f'State with maximum Survival Rate (per month) = \"{max_survival_rate_state}\"\\nSurvival Rate (per month) = {max_survival_rate}')"
   ]
  },
  {
   "source": [
    "state_dct_df['Dadra and Nagar Haveli and Daman and Diu']"
   ],
   "cell_type": "code",
   "metadata": {},
   "execution_count": 48,
   "outputs": [
    {
     "output_type": "execute_result",
     "data": {
      "text/plain": [
       "                                        State  Cured  Deaths  Confirmed  Month\n",
       "0    Dadra and Nagar Haveli and Daman and Diu      2       0         30      6\n",
       "1    Dadra and Nagar Haveli and Daman and Diu      0       0          0      6\n",
       "2    Dadra and Nagar Haveli and Daman and Diu      0       0          5      6\n",
       "3    Dadra and Nagar Haveli and Daman and Diu      0       0          1      6\n",
       "4    Dadra and Nagar Haveli and Daman and Diu      3       0          0      6\n",
       "..                                        ...    ...     ...        ...    ...\n",
       "176  Dadra and Nagar Haveli and Daman and Diu      2       0          0     12\n",
       "177  Dadra and Nagar Haveli and Daman and Diu      0       0          1     12\n",
       "178  Dadra and Nagar Haveli and Daman and Diu      0       0          1     12\n",
       "179  Dadra and Nagar Haveli and Daman and Diu      2       0          4     12\n",
       "180  Dadra and Nagar Haveli and Daman and Diu      2       0          5     12\n",
       "\n",
       "[181 rows x 5 columns]"
      ],
      "text/html": "<div>\n<style scoped>\n    .dataframe tbody tr th:only-of-type {\n        vertical-align: middle;\n    }\n\n    .dataframe tbody tr th {\n        vertical-align: top;\n    }\n\n    .dataframe thead th {\n        text-align: right;\n    }\n</style>\n<table border=\"1\" class=\"dataframe\">\n  <thead>\n    <tr style=\"text-align: right;\">\n      <th></th>\n      <th>State</th>\n      <th>Cured</th>\n      <th>Deaths</th>\n      <th>Confirmed</th>\n      <th>Month</th>\n    </tr>\n  </thead>\n  <tbody>\n    <tr>\n      <th>0</th>\n      <td>Dadra and Nagar Haveli and Daman and Diu</td>\n      <td>2</td>\n      <td>0</td>\n      <td>30</td>\n      <td>6</td>\n    </tr>\n    <tr>\n      <th>1</th>\n      <td>Dadra and Nagar Haveli and Daman and Diu</td>\n      <td>0</td>\n      <td>0</td>\n      <td>0</td>\n      <td>6</td>\n    </tr>\n    <tr>\n      <th>2</th>\n      <td>Dadra and Nagar Haveli and Daman and Diu</td>\n      <td>0</td>\n      <td>0</td>\n      <td>5</td>\n      <td>6</td>\n    </tr>\n    <tr>\n      <th>3</th>\n      <td>Dadra and Nagar Haveli and Daman and Diu</td>\n      <td>0</td>\n      <td>0</td>\n      <td>1</td>\n      <td>6</td>\n    </tr>\n    <tr>\n      <th>4</th>\n      <td>Dadra and Nagar Haveli and Daman and Diu</td>\n      <td>3</td>\n      <td>0</td>\n      <td>0</td>\n      <td>6</td>\n    </tr>\n    <tr>\n      <th>...</th>\n      <td>...</td>\n      <td>...</td>\n      <td>...</td>\n      <td>...</td>\n      <td>...</td>\n    </tr>\n    <tr>\n      <th>176</th>\n      <td>Dadra and Nagar Haveli and Daman and Diu</td>\n      <td>2</td>\n      <td>0</td>\n      <td>0</td>\n      <td>12</td>\n    </tr>\n    <tr>\n      <th>177</th>\n      <td>Dadra and Nagar Haveli and Daman and Diu</td>\n      <td>0</td>\n      <td>0</td>\n      <td>1</td>\n      <td>12</td>\n    </tr>\n    <tr>\n      <th>178</th>\n      <td>Dadra and Nagar Haveli and Daman and Diu</td>\n      <td>0</td>\n      <td>0</td>\n      <td>1</td>\n      <td>12</td>\n    </tr>\n    <tr>\n      <th>179</th>\n      <td>Dadra and Nagar Haveli and Daman and Diu</td>\n      <td>2</td>\n      <td>0</td>\n      <td>4</td>\n      <td>12</td>\n    </tr>\n    <tr>\n      <th>180</th>\n      <td>Dadra and Nagar Haveli and Daman and Diu</td>\n      <td>2</td>\n      <td>0</td>\n      <td>5</td>\n      <td>12</td>\n    </tr>\n  </tbody>\n</table>\n<p>181 rows × 5 columns</p>\n</div>"
     },
     "metadata": {},
     "execution_count": 48
    }
   ]
  },
  {
   "source": [
    "# Death Rate = Total Deaths/(Total Confirmed*Total number of months for which data is available)\n",
    "## Q3.Check for state in which death rate is more than 1%"
   ],
   "cell_type": "markdown",
   "metadata": {}
  },
  {
   "cell_type": "code",
   "execution_count": 49,
   "metadata": {},
   "outputs": [],
   "source": [
    "death_rate ={}\n",
    "for s in states:\n",
    "    total_confirmed = 0\n",
    "    total_deaths = 0\n",
    "    for i in range(row_count_dct_or_day_count_dct[s]):\n",
    "       total_confirmed += state_dct_df[s].iloc[i,3]\n",
    "       total_deaths += state_dct_df[s].iloc[i,2]\n",
    "    factor = (row_count_dct_or_day_count_dct[s]/366)*12\n",
    "    death_rate[s] = (total_deaths/(total_confirmed*factor))"
   ]
  },
  {
   "source": [
    "death_rate"
   ],
   "cell_type": "code",
   "metadata": {},
   "execution_count": 50,
   "outputs": [
    {
     "output_type": "execute_result",
     "data": {
      "text/plain": [
       "{'Kerala': 0.00037126394603407024,\n",
       " 'Telangana': 0.0005794693049627694,\n",
       " 'Delhi': 0.0017621419651157654,\n",
       " 'Rajasthan': 0.0009428508199422731,\n",
       " 'Uttar Pradesh': 0.0015547759002521235,\n",
       " 'Haryana': 0.0011545830326065692,\n",
       " 'Ladakh': 0.0014923505503769577,\n",
       " 'Tamil Nadu': 0.0016360212132518538,\n",
       " 'Karnataka': 0.0014663794806525324,\n",
       " 'Maharashtra': 0.0028632370017111115,\n",
       " 'Punjab': 0.003486648982174478,\n",
       " 'Jammu and Kashmir': 0.001706477322204574,\n",
       " 'Andhra Pradesh': 0.0009013616368466461,\n",
       " 'Uttarakhand': 0.0018655638997813093,\n",
       " 'Odisha': 0.0006283532909102862,\n",
       " 'Puducherry': 0.0018899766099336145,\n",
       " 'West Bengal': 0.0019907987076126423,\n",
       " 'Chhattisgarh': 0.0013890784655100682,\n",
       " 'Chandigarh': 0.0018608393894435085,\n",
       " 'Gujarat': 0.0021356780388050935,\n",
       " 'Himachal Pradesh': 0.0018829531434778073,\n",
       " 'Madhya Pradesh': 0.0017853068889184525,\n",
       " 'Bihar': 0.0006299481713915322,\n",
       " 'Manipur': 0.0013768340611226943,\n",
       " 'Mizoram': 0.0001769791686814568,\n",
       " 'Andaman and Nicobar Islands': 0.0015034319136453917,\n",
       " 'Goa': 0.0016869355890506393,\n",
       " 'Assam': 0.0005615935949833571,\n",
       " 'Jharkhand': 0.0010808066330983204,\n",
       " 'Arunachal Pradesh': 0.0004065989494598111,\n",
       " 'Tripura': 0.0013980483974333376,\n",
       " 'Nagaland': 0.0008641783180260788,\n",
       " 'Meghalaya': 0.001249328498522697,\n",
       " 'Dadar Nagar Haveli': 0.0,\n",
       " 'Sikkim': 0.0034213806327900286,\n",
       " 'Dadra and Nagar Haveli and Daman and Diu': 0.0001005719410879246}"
      ]
     },
     "metadata": {},
     "execution_count": 50
    }
   ]
  },
  {
   "cell_type": "code",
   "execution_count": 51,
   "metadata": {},
   "outputs": [],
   "source": [
    "states_with_death_rate_more_than_one_percent = []\n",
    "for i in states:\n",
    "    if death_rate[i]>0.01:\n",
    "        states_with_death_rate_more_than_one_percent.append(i)"
   ]
  },
  {
   "cell_type": "code",
   "execution_count": 52,
   "metadata": {},
   "outputs": [
    {
     "output_type": "stream",
     "name": "stdout",
     "text": [
      "States with death rate of more than 1%  (per month) :\n\nNo states have death rate of more than 1%\n"
     ]
    }
   ],
   "source": [
    "print('States with death rate of more than 1%  (per month) :\\n')\n",
    "if(not bool(states_with_death_rate_more_than_one_percent)):     # checking if dictonary is empty\n",
    "    print(\"No states have death rate of more than 1%\")\n",
    "else:\n",
    "    for i in states_with_death_rate_more_than_one_percent:\n",
    "        print(i)"
   ]
  },
  {
   "source": [
    "# Q1. Filter the month in which heighest people are get infected to Covid-19 virus?"
   ],
   "cell_type": "markdown",
   "metadata": {}
  },
  {
   "source": [
    "print(f\"Peak Month = {peak_month}\\nPeak Cases = {peak_val}\")"
   ],
   "cell_type": "code",
   "metadata": {},
   "execution_count": 53,
   "outputs": [
    {
     "output_type": "stream",
     "name": "stdout",
     "text": [
      "Peak Month = 9\nPeak Cases = 2604518\n"
     ]
    }
   ]
  },
  {
   "source": [
    "# Q2. Obtain state in which survival rate is high."
   ],
   "cell_type": "markdown",
   "metadata": {}
  },
  {
   "cell_type": "code",
   "execution_count": 54,
   "metadata": {},
   "outputs": [
    {
     "output_type": "stream",
     "name": "stdout",
     "text": [
      "State with maximum Survival Rate (per month) = \"Dadra and Nagar Haveli and Daman and Diu\"\nSurvival Rate (per month) = 0.1669947620154617\n"
     ]
    }
   ],
   "source": [
    "print(f'State with maximum Survival Rate (per month) = \"{max_survival_rate_state}\"\\nSurvival Rate (per month) = {max_survival_rate}')"
   ]
  },
  {
   "source": [
    "# Q3. Check for state in which death rate is more than 1%"
   ],
   "cell_type": "markdown",
   "metadata": {}
  },
  {
   "cell_type": "code",
   "execution_count": 55,
   "metadata": {},
   "outputs": [
    {
     "output_type": "stream",
     "name": "stdout",
     "text": [
      "No state has death rate of more than 1% (per month).\n"
     ]
    }
   ],
   "source": [
    "if(not bool(states_with_death_rate_more_than_one_percent)):     # checking if dictonary is empty\n",
    "    print(\"No state has death rate of more than 1% (per month).\")\n",
    "else:\n",
    "    print('States with death rate of more than 1% (per month):\\n')\n",
    "    for i in states_with_death_rate_more_than_one_percent:\n",
    "        print(i)"
   ]
  }
 ]
}