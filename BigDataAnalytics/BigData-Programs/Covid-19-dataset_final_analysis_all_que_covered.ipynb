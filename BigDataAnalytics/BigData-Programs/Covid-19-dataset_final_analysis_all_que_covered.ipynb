{
 "metadata": {
  "language_info": {
   "codemirror_mode": {
    "name": "ipython",
    "version": 3
   },
   "file_extension": ".py",
   "mimetype": "text/x-python",
   "name": "python",
   "nbconvert_exporter": "python",
   "pygments_lexer": "ipython3",
   "version": "3.9.2"
  },
  "orig_nbformat": 2,
  "kernelspec": {
   "name": "python3",
   "display_name": "Python 3",
   "language": "python"
  }
 },
 "nbformat": 4,
 "nbformat_minor": 2,
 "cells": [
  {
   "cell_type": "code",
   "execution_count": 1,
   "metadata": {},
   "outputs": [],
   "source": [
    "import pandas as pd\n",
    "import numpy as np\n",
    "import matplotlib.pyplot as plt"
   ]
  },
  {
   "source": [
    "# Importing Database"
   ],
   "cell_type": "markdown",
   "metadata": {}
  },
  {
   "cell_type": "code",
   "execution_count": 2,
   "metadata": {},
   "outputs": [],
   "source": [
    "df = pd.read_csv('./covid 19 data.csv')"
   ]
  },
  {
   "cell_type": "code",
   "execution_count": 3,
   "metadata": {},
   "outputs": [
    {
     "output_type": "execute_result",
     "data": {
      "text/plain": [
       "       Sno      Date     Time State/UnionTerritory ConfirmedIndianNational  \\\n",
       "0        1  30/01/20  6:00 PM               Kerala                       1   \n",
       "1        2  31/01/20  6:00 PM               Kerala                       1   \n",
       "2        3  01/02/20  6:00 PM               Kerala                       2   \n",
       "3        4  02/02/20  6:00 PM               Kerala                       3   \n",
       "4        5  03/02/20  6:00 PM               Kerala                       3   \n",
       "...    ...       ...      ...                  ...                     ...   \n",
       "9286  9287  09/12/20  8:00 AM            Telengana                       -   \n",
       "9287  9288  09/12/20  8:00 AM              Tripura                       -   \n",
       "9288  9289  09/12/20  8:00 AM          Uttarakhand                       -   \n",
       "9289  9290  09/12/20  8:00 AM        Uttar Pradesh                       -   \n",
       "9290  9291  09/12/20  8:00 AM          West Bengal                       -   \n",
       "\n",
       "     ConfirmedForeignNational   Cured  Deaths  Confirmed  \n",
       "0                           0       0       0          1  \n",
       "1                           0       0       0          1  \n",
       "2                           0       0       0          2  \n",
       "3                           0       0       0          3  \n",
       "4                           0       0       0          3  \n",
       "...                       ...     ...     ...        ...  \n",
       "9286                        -  266120    1480     275261  \n",
       "9287                        -   32169     373      32945  \n",
       "9288                        -   72435    1307      79141  \n",
       "9289                        -  528832    7967     558173  \n",
       "9290                        -  475425    8820     507995  \n",
       "\n",
       "[9291 rows x 9 columns]"
      ],
      "text/html": "<div>\n<style scoped>\n    .dataframe tbody tr th:only-of-type {\n        vertical-align: middle;\n    }\n\n    .dataframe tbody tr th {\n        vertical-align: top;\n    }\n\n    .dataframe thead th {\n        text-align: right;\n    }\n</style>\n<table border=\"1\" class=\"dataframe\">\n  <thead>\n    <tr style=\"text-align: right;\">\n      <th></th>\n      <th>Sno</th>\n      <th>Date</th>\n      <th>Time</th>\n      <th>State/UnionTerritory</th>\n      <th>ConfirmedIndianNational</th>\n      <th>ConfirmedForeignNational</th>\n      <th>Cured</th>\n      <th>Deaths</th>\n      <th>Confirmed</th>\n    </tr>\n  </thead>\n  <tbody>\n    <tr>\n      <th>0</th>\n      <td>1</td>\n      <td>30/01/20</td>\n      <td>6:00 PM</td>\n      <td>Kerala</td>\n      <td>1</td>\n      <td>0</td>\n      <td>0</td>\n      <td>0</td>\n      <td>1</td>\n    </tr>\n    <tr>\n      <th>1</th>\n      <td>2</td>\n      <td>31/01/20</td>\n      <td>6:00 PM</td>\n      <td>Kerala</td>\n      <td>1</td>\n      <td>0</td>\n      <td>0</td>\n      <td>0</td>\n      <td>1</td>\n    </tr>\n    <tr>\n      <th>2</th>\n      <td>3</td>\n      <td>01/02/20</td>\n      <td>6:00 PM</td>\n      <td>Kerala</td>\n      <td>2</td>\n      <td>0</td>\n      <td>0</td>\n      <td>0</td>\n      <td>2</td>\n    </tr>\n    <tr>\n      <th>3</th>\n      <td>4</td>\n      <td>02/02/20</td>\n      <td>6:00 PM</td>\n      <td>Kerala</td>\n      <td>3</td>\n      <td>0</td>\n      <td>0</td>\n      <td>0</td>\n      <td>3</td>\n    </tr>\n    <tr>\n      <th>4</th>\n      <td>5</td>\n      <td>03/02/20</td>\n      <td>6:00 PM</td>\n      <td>Kerala</td>\n      <td>3</td>\n      <td>0</td>\n      <td>0</td>\n      <td>0</td>\n      <td>3</td>\n    </tr>\n    <tr>\n      <th>...</th>\n      <td>...</td>\n      <td>...</td>\n      <td>...</td>\n      <td>...</td>\n      <td>...</td>\n      <td>...</td>\n      <td>...</td>\n      <td>...</td>\n      <td>...</td>\n    </tr>\n    <tr>\n      <th>9286</th>\n      <td>9287</td>\n      <td>09/12/20</td>\n      <td>8:00 AM</td>\n      <td>Telengana</td>\n      <td>-</td>\n      <td>-</td>\n      <td>266120</td>\n      <td>1480</td>\n      <td>275261</td>\n    </tr>\n    <tr>\n      <th>9287</th>\n      <td>9288</td>\n      <td>09/12/20</td>\n      <td>8:00 AM</td>\n      <td>Tripura</td>\n      <td>-</td>\n      <td>-</td>\n      <td>32169</td>\n      <td>373</td>\n      <td>32945</td>\n    </tr>\n    <tr>\n      <th>9288</th>\n      <td>9289</td>\n      <td>09/12/20</td>\n      <td>8:00 AM</td>\n      <td>Uttarakhand</td>\n      <td>-</td>\n      <td>-</td>\n      <td>72435</td>\n      <td>1307</td>\n      <td>79141</td>\n    </tr>\n    <tr>\n      <th>9289</th>\n      <td>9290</td>\n      <td>09/12/20</td>\n      <td>8:00 AM</td>\n      <td>Uttar Pradesh</td>\n      <td>-</td>\n      <td>-</td>\n      <td>528832</td>\n      <td>7967</td>\n      <td>558173</td>\n    </tr>\n    <tr>\n      <th>9290</th>\n      <td>9291</td>\n      <td>09/12/20</td>\n      <td>8:00 AM</td>\n      <td>West Bengal</td>\n      <td>-</td>\n      <td>-</td>\n      <td>475425</td>\n      <td>8820</td>\n      <td>507995</td>\n    </tr>\n  </tbody>\n</table>\n<p>9291 rows × 9 columns</p>\n</div>"
     },
     "metadata": {},
     "execution_count": 3
    }
   ],
   "source": [
    "df"
   ]
  },
  {
   "source": [
    "# Dropping Un-neccesary Columns"
   ],
   "cell_type": "markdown",
   "metadata": {}
  },
  {
   "cell_type": "code",
   "execution_count": 4,
   "metadata": {},
   "outputs": [],
   "source": [
    "df = df.drop(['Sno','Time','ConfirmedIndianNational','ConfirmedForeignNational'],axis=1)"
   ]
  },
  {
   "source": [
    "# Copying Cured, Deaths and Confirmed Columns to get back original value from respective cumulative sums"
   ],
   "cell_type": "markdown",
   "metadata": {}
  },
  {
   "cell_type": "code",
   "execution_count": 5,
   "metadata": {},
   "outputs": [],
   "source": [
    "df['Cured_1'] = df['Cured'].copy()\n",
    "df['Deaths_1'] = df['Deaths'].copy()\n",
    "df['Confirmed_1'] = df['Confirmed'].copy()"
   ]
  },
  {
   "cell_type": "code",
   "execution_count": 6,
   "metadata": {},
   "outputs": [
    {
     "output_type": "execute_result",
     "data": {
      "text/plain": [
       "       Date State/UnionTerritory  Cured  Deaths  Confirmed  Cured_1  Deaths_1  \\\n",
       "0  30/01/20               Kerala      0       0          1        0         0   \n",
       "1  31/01/20               Kerala      0       0          1        0         0   \n",
       "2  01/02/20               Kerala      0       0          2        0         0   \n",
       "3  02/02/20               Kerala      0       0          3        0         0   \n",
       "4  03/02/20               Kerala      0       0          3        0         0   \n",
       "\n",
       "   Confirmed_1  \n",
       "0            1  \n",
       "1            1  \n",
       "2            2  \n",
       "3            3  \n",
       "4            3  "
      ],
      "text/html": "<div>\n<style scoped>\n    .dataframe tbody tr th:only-of-type {\n        vertical-align: middle;\n    }\n\n    .dataframe tbody tr th {\n        vertical-align: top;\n    }\n\n    .dataframe thead th {\n        text-align: right;\n    }\n</style>\n<table border=\"1\" class=\"dataframe\">\n  <thead>\n    <tr style=\"text-align: right;\">\n      <th></th>\n      <th>Date</th>\n      <th>State/UnionTerritory</th>\n      <th>Cured</th>\n      <th>Deaths</th>\n      <th>Confirmed</th>\n      <th>Cured_1</th>\n      <th>Deaths_1</th>\n      <th>Confirmed_1</th>\n    </tr>\n  </thead>\n  <tbody>\n    <tr>\n      <th>0</th>\n      <td>30/01/20</td>\n      <td>Kerala</td>\n      <td>0</td>\n      <td>0</td>\n      <td>1</td>\n      <td>0</td>\n      <td>0</td>\n      <td>1</td>\n    </tr>\n    <tr>\n      <th>1</th>\n      <td>31/01/20</td>\n      <td>Kerala</td>\n      <td>0</td>\n      <td>0</td>\n      <td>1</td>\n      <td>0</td>\n      <td>0</td>\n      <td>1</td>\n    </tr>\n    <tr>\n      <th>2</th>\n      <td>01/02/20</td>\n      <td>Kerala</td>\n      <td>0</td>\n      <td>0</td>\n      <td>2</td>\n      <td>0</td>\n      <td>0</td>\n      <td>2</td>\n    </tr>\n    <tr>\n      <th>3</th>\n      <td>02/02/20</td>\n      <td>Kerala</td>\n      <td>0</td>\n      <td>0</td>\n      <td>3</td>\n      <td>0</td>\n      <td>0</td>\n      <td>3</td>\n    </tr>\n    <tr>\n      <th>4</th>\n      <td>03/02/20</td>\n      <td>Kerala</td>\n      <td>0</td>\n      <td>0</td>\n      <td>3</td>\n      <td>0</td>\n      <td>0</td>\n      <td>3</td>\n    </tr>\n  </tbody>\n</table>\n</div>"
     },
     "metadata": {},
     "execution_count": 6
    }
   ],
   "source": [
    "df.head()"
   ]
  },
  {
   "cell_type": "code",
   "execution_count": 7,
   "metadata": {},
   "outputs": [],
   "source": [
    "df = df.rename(columns={'State/UnionTerritory':'State'})"
   ]
  },
  {
   "source": [
    "# Extracing States Names from database"
   ],
   "cell_type": "markdown",
   "metadata": {}
  },
  {
   "cell_type": "code",
   "execution_count": 8,
   "metadata": {},
   "outputs": [],
   "source": [
    "states = df['State'].unique()"
   ]
  },
  {
   "cell_type": "code",
   "execution_count": 9,
   "metadata": {},
   "outputs": [
    {
     "output_type": "execute_result",
     "data": {
      "text/plain": [
       "array(['Kerala', 'Telengana', 'Delhi', 'Rajasthan', 'Uttar Pradesh',\n",
       "       'Haryana', 'Ladakh', 'Tamil Nadu', 'Karnataka', 'Maharashtra',\n",
       "       'Punjab', 'Jammu and Kashmir', 'Andhra Pradesh', 'Uttarakhand',\n",
       "       'Odisha', 'Puducherry', 'West Bengal', 'Chhattisgarh',\n",
       "       'Chandigarh', 'Gujarat', 'Himachal Pradesh', 'Madhya Pradesh',\n",
       "       'Bihar', 'Manipur', 'Mizoram', 'Andaman and Nicobar Islands',\n",
       "       'Goa', 'Unassigned', 'Assam', 'Jharkhand', 'Arunachal Pradesh',\n",
       "       'Tripura', 'Nagaland', 'Meghalaya', 'Dadar Nagar Haveli',\n",
       "       'Cases being reassigned to states', 'Sikkim', 'Daman & Diu',\n",
       "       'Dadra and Nagar Haveli and Daman and Diu', 'Telangana',\n",
       "       'Telangana***', 'Telengana***', 'Maharashtra***', 'Chandigarh***',\n",
       "       'Punjab***'], dtype=object)"
      ]
     },
     "metadata": {},
     "execution_count": 9
    }
   ],
   "source": [
    "states"
   ]
  },
  {
   "source": [
    "# Renaming Mis-spelled State names"
   ],
   "cell_type": "markdown",
   "metadata": {}
  },
  {
   "cell_type": "code",
   "execution_count": 10,
   "metadata": {},
   "outputs": [],
   "source": [
    "df=df.replace('Telengana','Telangana')\n",
    "df=df.replace('Telengana***','Telangana')\n",
    "df=df.replace('Telangana***','Telangana')\n",
    "df=df.replace('Maharashtra***','Maharashtra')\n",
    "df=df.replace('Chandigarh***','Chandigarh')\n",
    "df=df.replace('Punjab***','Punjab')"
   ]
  },
  {
   "cell_type": "code",
   "execution_count": 11,
   "metadata": {},
   "outputs": [],
   "source": [
    "states = df['State'].unique()"
   ]
  },
  {
   "cell_type": "code",
   "execution_count": 12,
   "metadata": {},
   "outputs": [],
   "source": [
    "states = list(states)"
   ]
  },
  {
   "source": [
    "# Removing Un-necessary entries from states list\n",
    "## Daman & Diu is removed because of lack of availability of data ---> database contains only 1 entry coresponding to Daman & Diu"
   ],
   "cell_type": "markdown",
   "metadata": {}
  },
  {
   "cell_type": "code",
   "execution_count": 13,
   "metadata": {},
   "outputs": [],
   "source": [
    "states.remove('Cases being reassigned to states')\n",
    "states.remove('Unassigned')\n",
    "states.remove('Daman & Diu')"
   ]
  },
  {
   "cell_type": "code",
   "execution_count": 14,
   "metadata": {},
   "outputs": [
    {
     "output_type": "execute_result",
     "data": {
      "text/plain": [
       "['Kerala',\n",
       " 'Telangana',\n",
       " 'Delhi',\n",
       " 'Rajasthan',\n",
       " 'Uttar Pradesh',\n",
       " 'Haryana',\n",
       " 'Ladakh',\n",
       " 'Tamil Nadu',\n",
       " 'Karnataka',\n",
       " 'Maharashtra',\n",
       " 'Punjab',\n",
       " 'Jammu and Kashmir',\n",
       " 'Andhra Pradesh',\n",
       " 'Uttarakhand',\n",
       " 'Odisha',\n",
       " 'Puducherry',\n",
       " 'West Bengal',\n",
       " 'Chhattisgarh',\n",
       " 'Chandigarh',\n",
       " 'Gujarat',\n",
       " 'Himachal Pradesh',\n",
       " 'Madhya Pradesh',\n",
       " 'Bihar',\n",
       " 'Manipur',\n",
       " 'Mizoram',\n",
       " 'Andaman and Nicobar Islands',\n",
       " 'Goa',\n",
       " 'Assam',\n",
       " 'Jharkhand',\n",
       " 'Arunachal Pradesh',\n",
       " 'Tripura',\n",
       " 'Nagaland',\n",
       " 'Meghalaya',\n",
       " 'Dadar Nagar Haveli',\n",
       " 'Sikkim',\n",
       " 'Dadra and Nagar Haveli and Daman and Diu']"
      ]
     },
     "metadata": {},
     "execution_count": 14
    }
   ],
   "source": [
    "states"
   ]
  },
  {
   "cell_type": "code",
   "execution_count": 15,
   "metadata": {},
   "outputs": [
    {
     "output_type": "execute_result",
     "data": {
      "text/plain": [
       "Date           0\n",
       "State          0\n",
       "Cured          0\n",
       "Deaths         0\n",
       "Confirmed      0\n",
       "Cured_1        0\n",
       "Deaths_1       0\n",
       "Confirmed_1    0\n",
       "dtype: int64"
      ]
     },
     "metadata": {},
     "execution_count": 15
    }
   ],
   "source": [
    "df.isnull().sum()"
   ]
  },
  {
   "source": [
    "# Adding Months column into database and removing Dates column"
   ],
   "cell_type": "markdown",
   "metadata": {}
  },
  {
   "cell_type": "code",
   "execution_count": 16,
   "metadata": {},
   "outputs": [],
   "source": [
    "df['Month'] = pd.DatetimeIndex(df['Date']).month"
   ]
  },
  {
   "cell_type": "code",
   "execution_count": 17,
   "metadata": {},
   "outputs": [],
   "source": [
    "df.drop('Date',axis=1,inplace=True)"
   ]
  },
  {
   "source": [
    "# Creating a dictonary with keys as state names and their corresponding data"
   ],
   "cell_type": "markdown",
   "metadata": {}
  },
  {
   "cell_type": "code",
   "execution_count": 18,
   "metadata": {},
   "outputs": [],
   "source": [
    "state_dct_df ={}\n",
    "for i in states:\n",
    "    state_dct_df[i] = df[df.State == i].copy().reset_index().drop(['index'],axis=1)"
   ]
  },
  {
   "cell_type": "code",
   "execution_count": 19,
   "metadata": {},
   "outputs": [
    {
     "output_type": "execute_result",
     "data": {
      "text/plain": [
       "       State  Cured  Deaths  Confirmed  Cured_1  Deaths_1  Confirmed_1  Month\n",
       "0  Karnataka      0       0          1        0         0            1      9\n",
       "1  Karnataka      0       0          4        0         0            4     10\n",
       "2  Karnataka      0       0          4        0         0            4     11\n",
       "3  Karnataka      0       0          4        0         0            4     12\n",
       "4  Karnataka      0       1          6        0         1            6      3"
      ],
      "text/html": "<div>\n<style scoped>\n    .dataframe tbody tr th:only-of-type {\n        vertical-align: middle;\n    }\n\n    .dataframe tbody tr th {\n        vertical-align: top;\n    }\n\n    .dataframe thead th {\n        text-align: right;\n    }\n</style>\n<table border=\"1\" class=\"dataframe\">\n  <thead>\n    <tr style=\"text-align: right;\">\n      <th></th>\n      <th>State</th>\n      <th>Cured</th>\n      <th>Deaths</th>\n      <th>Confirmed</th>\n      <th>Cured_1</th>\n      <th>Deaths_1</th>\n      <th>Confirmed_1</th>\n      <th>Month</th>\n    </tr>\n  </thead>\n  <tbody>\n    <tr>\n      <th>0</th>\n      <td>Karnataka</td>\n      <td>0</td>\n      <td>0</td>\n      <td>1</td>\n      <td>0</td>\n      <td>0</td>\n      <td>1</td>\n      <td>9</td>\n    </tr>\n    <tr>\n      <th>1</th>\n      <td>Karnataka</td>\n      <td>0</td>\n      <td>0</td>\n      <td>4</td>\n      <td>0</td>\n      <td>0</td>\n      <td>4</td>\n      <td>10</td>\n    </tr>\n    <tr>\n      <th>2</th>\n      <td>Karnataka</td>\n      <td>0</td>\n      <td>0</td>\n      <td>4</td>\n      <td>0</td>\n      <td>0</td>\n      <td>4</td>\n      <td>11</td>\n    </tr>\n    <tr>\n      <th>3</th>\n      <td>Karnataka</td>\n      <td>0</td>\n      <td>0</td>\n      <td>4</td>\n      <td>0</td>\n      <td>0</td>\n      <td>4</td>\n      <td>12</td>\n    </tr>\n    <tr>\n      <th>4</th>\n      <td>Karnataka</td>\n      <td>0</td>\n      <td>1</td>\n      <td>6</td>\n      <td>0</td>\n      <td>1</td>\n      <td>6</td>\n      <td>3</td>\n    </tr>\n  </tbody>\n</table>\n</div>"
     },
     "metadata": {},
     "execution_count": 19
    }
   ],
   "source": [
    "state_dct_df['Karnataka'].head()"
   ]
  },
  {
   "source": [
    "# Creating a Dictonary to Keep count of number of entries in database corresponding to each state"
   ],
   "cell_type": "markdown",
   "metadata": {}
  },
  {
   "cell_type": "code",
   "execution_count": 20,
   "metadata": {},
   "outputs": [],
   "source": [
    "row_count_dct = {}\n",
    "for i in states:\n",
    "    row_count_dct[i] = len(np.array(state_dct_df[i]))"
   ]
  },
  {
   "source": [
    "row_count_dct"
   ],
   "cell_type": "code",
   "metadata": {},
   "execution_count": 21,
   "outputs": [
    {
     "output_type": "execute_result",
     "data": {
      "text/plain": [
       "{'Kerala': 315,\n",
       " 'Telangana': 283,\n",
       " 'Delhi': 283,\n",
       " 'Rajasthan': 282,\n",
       " 'Uttar Pradesh': 281,\n",
       " 'Haryana': 281,\n",
       " 'Ladakh': 278,\n",
       " 'Tamil Nadu': 278,\n",
       " 'Karnataka': 276,\n",
       " 'Maharashtra': 276,\n",
       " 'Punjab': 276,\n",
       " 'Jammu and Kashmir': 276,\n",
       " 'Andhra Pradesh': 273,\n",
       " 'Uttarakhand': 270,\n",
       " 'Odisha': 269,\n",
       " 'Puducherry': 267,\n",
       " 'West Bengal': 267,\n",
       " 'Chhattisgarh': 266,\n",
       " 'Chandigarh': 266,\n",
       " 'Gujarat': 265,\n",
       " 'Himachal Pradesh': 264,\n",
       " 'Madhya Pradesh': 264,\n",
       " 'Bihar': 263,\n",
       " 'Manipur': 261,\n",
       " 'Mizoram': 260,\n",
       " 'Andaman and Nicobar Islands': 259,\n",
       " 'Goa': 259,\n",
       " 'Assam': 253,\n",
       " 'Jharkhand': 253,\n",
       " 'Arunachal Pradesh': 251,\n",
       " 'Tripura': 247,\n",
       " 'Nagaland': 207,\n",
       " 'Meghalaya': 240,\n",
       " 'Dadar Nagar Haveli': 37,\n",
       " 'Sikkim': 200,\n",
       " 'Dadra and Nagar Haveli and Daman and Diu': 181}"
      ]
     },
     "metadata": {},
     "execution_count": 21
    }
   ]
  },
  {
   "source": [
    "# Getting Back Original values of cured, deaths and confirmed from cumulative sum"
   ],
   "cell_type": "markdown",
   "metadata": {}
  },
  {
   "cell_type": "code",
   "execution_count": 22,
   "metadata": {},
   "outputs": [],
   "source": [
    "for s in states:\n",
    "    for i in range(1,row_count_dct[s]):\n",
    "            state_dct_df[s].iloc[i,1] -= state_dct_df[s].iloc[i-1,4]\n",
    "            state_dct_df[s].iloc[i,2] -= state_dct_df[s].iloc[i-1,5]\n",
    "            state_dct_df[s].iloc[i,3] -= state_dct_df[s].iloc[i-1,6]"
   ]
  },
  {
   "source": [
    "# Removing dummy columns which were added for above calculations"
   ],
   "cell_type": "markdown",
   "metadata": {}
  },
  {
   "cell_type": "code",
   "execution_count": 23,
   "metadata": {},
   "outputs": [],
   "source": [
    "for s in states:\n",
    "    state_dct_df[s].drop(['Cured_1','Deaths_1','Confirmed_1'],axis=1,inplace=True)"
   ]
  },
  {
   "cell_type": "code",
   "execution_count": 24,
   "metadata": {},
   "outputs": [
    {
     "output_type": "execute_result",
     "data": {
      "text/plain": [
       "           State  Cured  Deaths  Confirmed  Month\n",
       "0    Maharashtra      0       0          2      9\n",
       "1    Maharashtra      0       0          3     10\n",
       "2    Maharashtra      0       0         -3     11\n",
       "3    Maharashtra      0       0          9     12\n",
       "4    Maharashtra      0       0          3      3\n",
       "..           ...    ...     ...        ...    ...\n",
       "271  Maharashtra   6776     127       5229      5\n",
       "272  Maharashtra   5834      95       4922      6\n",
       "273  Maharashtra   7486      40       4757      7\n",
       "274  Maharashtra   7345      40       3075      8\n",
       "275  Maharashtra   6365      53       4026      9\n",
       "\n",
       "[276 rows x 5 columns]"
      ],
      "text/html": "<div>\n<style scoped>\n    .dataframe tbody tr th:only-of-type {\n        vertical-align: middle;\n    }\n\n    .dataframe tbody tr th {\n        vertical-align: top;\n    }\n\n    .dataframe thead th {\n        text-align: right;\n    }\n</style>\n<table border=\"1\" class=\"dataframe\">\n  <thead>\n    <tr style=\"text-align: right;\">\n      <th></th>\n      <th>State</th>\n      <th>Cured</th>\n      <th>Deaths</th>\n      <th>Confirmed</th>\n      <th>Month</th>\n    </tr>\n  </thead>\n  <tbody>\n    <tr>\n      <th>0</th>\n      <td>Maharashtra</td>\n      <td>0</td>\n      <td>0</td>\n      <td>2</td>\n      <td>9</td>\n    </tr>\n    <tr>\n      <th>1</th>\n      <td>Maharashtra</td>\n      <td>0</td>\n      <td>0</td>\n      <td>3</td>\n      <td>10</td>\n    </tr>\n    <tr>\n      <th>2</th>\n      <td>Maharashtra</td>\n      <td>0</td>\n      <td>0</td>\n      <td>-3</td>\n      <td>11</td>\n    </tr>\n    <tr>\n      <th>3</th>\n      <td>Maharashtra</td>\n      <td>0</td>\n      <td>0</td>\n      <td>9</td>\n      <td>12</td>\n    </tr>\n    <tr>\n      <th>4</th>\n      <td>Maharashtra</td>\n      <td>0</td>\n      <td>0</td>\n      <td>3</td>\n      <td>3</td>\n    </tr>\n    <tr>\n      <th>...</th>\n      <td>...</td>\n      <td>...</td>\n      <td>...</td>\n      <td>...</td>\n      <td>...</td>\n    </tr>\n    <tr>\n      <th>271</th>\n      <td>Maharashtra</td>\n      <td>6776</td>\n      <td>127</td>\n      <td>5229</td>\n      <td>5</td>\n    </tr>\n    <tr>\n      <th>272</th>\n      <td>Maharashtra</td>\n      <td>5834</td>\n      <td>95</td>\n      <td>4922</td>\n      <td>6</td>\n    </tr>\n    <tr>\n      <th>273</th>\n      <td>Maharashtra</td>\n      <td>7486</td>\n      <td>40</td>\n      <td>4757</td>\n      <td>7</td>\n    </tr>\n    <tr>\n      <th>274</th>\n      <td>Maharashtra</td>\n      <td>7345</td>\n      <td>40</td>\n      <td>3075</td>\n      <td>8</td>\n    </tr>\n    <tr>\n      <th>275</th>\n      <td>Maharashtra</td>\n      <td>6365</td>\n      <td>53</td>\n      <td>4026</td>\n      <td>9</td>\n    </tr>\n  </tbody>\n</table>\n<p>276 rows × 5 columns</p>\n</div>"
     },
     "metadata": {},
     "execution_count": 24
    }
   ],
   "source": [
    "state_dct_df['Maharashtra']"
   ]
  },
  {
   "source": [
    "# As some of the entries in database turns out to be negative, now we will get back there indices and aftwerwards remove those entries\n",
    "## Negative entries can occur in cured, deaths and confirmed columns"
   ],
   "cell_type": "markdown",
   "metadata": {}
  },
  {
   "cell_type": "code",
   "execution_count": 25,
   "metadata": {},
   "outputs": [],
   "source": [
    "check_neg_cured = {}\n",
    "check_neg_deaths = {}\n",
    "check_neg_confirmed = {}\n",
    "for s in states:\n",
    "    index_cured = []\n",
    "    index_deaths = []\n",
    "    index_confirmed = []\n",
    "    \n",
    "    for i in range(row_count_dct[s]):\n",
    "        if(state_dct_df[s].iloc[i,1]<0):\n",
    "            index_cured.append(i)\n",
    "        if(state_dct_df[s].iloc[i,2]<0):\n",
    "            index_deaths.append(i)\n",
    "        if(state_dct_df[s].iloc[i,3]<0):\n",
    "            index_confirmed.append(i)\n",
    "\n",
    "    check_neg_cured[s] = index_cured\n",
    "    check_neg_deaths[s] = index_deaths\n",
    "    check_neg_confirmed[s] = index_confirmed"
   ]
  },
  {
   "cell_type": "code",
   "execution_count": 26,
   "metadata": {},
   "outputs": [],
   "source": [
    "for s in states:\n",
    "    state_dct_df[s].drop(check_neg_cured[s],axis=0,inplace=True)\n",
    "    state_dct_df[s].drop(check_neg_deaths[s],axis=0,inplace=True)\n",
    "    state_dct_df[s].drop(check_neg_confirmed[s],axis=0,inplace=True)"
   ]
  },
  {
   "cell_type": "code",
   "execution_count": 27,
   "metadata": {},
   "outputs": [],
   "source": [
    "row_count_dct = {}\n",
    "for i in states:\n",
    "    row_count_dct[i] = len(np.array(state_dct_df[i]))"
   ]
  },
  {
   "source": [
    "# Recreating Statewise database dictonary after removing all the entries which are invalid for calculation"
   ],
   "cell_type": "markdown",
   "metadata": {}
  },
  {
   "cell_type": "code",
   "execution_count": 28,
   "metadata": {},
   "outputs": [],
   "source": [
    "state_dct_df ={}\n",
    "for i in states:\n",
    "    state_dct_df[i] = df[df.State == i].copy().reset_index().drop(['index'],axis=1)"
   ]
  },
  {
   "cell_type": "code",
   "execution_count": 29,
   "metadata": {},
   "outputs": [],
   "source": [
    "for s in states:\n",
    "    for i in range(1,row_count_dct[s]):\n",
    "            state_dct_df[s].iloc[i,1] -= state_dct_df[s].iloc[i-1,4]\n",
    "            state_dct_df[s].iloc[i,2] -= state_dct_df[s].iloc[i-1,5]\n",
    "            state_dct_df[s].iloc[i,3] -= state_dct_df[s].iloc[i-1,6]"
   ]
  },
  {
   "cell_type": "code",
   "execution_count": 30,
   "metadata": {},
   "outputs": [],
   "source": [
    "for s in states:\n",
    "    state_dct_df[s].drop(['Cured_1','Deaths_1','Confirmed_1'],axis=1,inplace=True)"
   ]
  },
  {
   "source": [
    "# Creating Months Dictonary"
   ],
   "cell_type": "markdown",
   "metadata": {}
  },
  {
   "cell_type": "code",
   "execution_count": 31,
   "metadata": {},
   "outputs": [],
   "source": [
    "df_Mh = state_dct_df['Maharashtra']\n",
    "months = df_Mh['Month'].unique()"
   ]
  },
  {
   "cell_type": "code",
   "execution_count": 32,
   "metadata": {},
   "outputs": [
    {
     "output_type": "execute_result",
     "data": {
      "text/plain": [
       "           State    Cured  Deaths  Confirmed  Month\n",
       "0    Maharashtra        0       0          2      9\n",
       "1    Maharashtra        0       0          3     10\n",
       "2    Maharashtra        0       0         -3     11\n",
       "3    Maharashtra        0       0          9     12\n",
       "4    Maharashtra        0       0          3      3\n",
       "..           ...      ...     ...        ...    ...\n",
       "271  Maharashtra     6776     127       5229      5\n",
       "272  Maharashtra     5834      95       4922      6\n",
       "273  Maharashtra     7486      40       4757      7\n",
       "274  Maharashtra  1730715   47774    1855341      8\n",
       "275  Maharashtra  1737080   47827    1859367      9\n",
       "\n",
       "[276 rows x 5 columns]"
      ],
      "text/html": "<div>\n<style scoped>\n    .dataframe tbody tr th:only-of-type {\n        vertical-align: middle;\n    }\n\n    .dataframe tbody tr th {\n        vertical-align: top;\n    }\n\n    .dataframe thead th {\n        text-align: right;\n    }\n</style>\n<table border=\"1\" class=\"dataframe\">\n  <thead>\n    <tr style=\"text-align: right;\">\n      <th></th>\n      <th>State</th>\n      <th>Cured</th>\n      <th>Deaths</th>\n      <th>Confirmed</th>\n      <th>Month</th>\n    </tr>\n  </thead>\n  <tbody>\n    <tr>\n      <th>0</th>\n      <td>Maharashtra</td>\n      <td>0</td>\n      <td>0</td>\n      <td>2</td>\n      <td>9</td>\n    </tr>\n    <tr>\n      <th>1</th>\n      <td>Maharashtra</td>\n      <td>0</td>\n      <td>0</td>\n      <td>3</td>\n      <td>10</td>\n    </tr>\n    <tr>\n      <th>2</th>\n      <td>Maharashtra</td>\n      <td>0</td>\n      <td>0</td>\n      <td>-3</td>\n      <td>11</td>\n    </tr>\n    <tr>\n      <th>3</th>\n      <td>Maharashtra</td>\n      <td>0</td>\n      <td>0</td>\n      <td>9</td>\n      <td>12</td>\n    </tr>\n    <tr>\n      <th>4</th>\n      <td>Maharashtra</td>\n      <td>0</td>\n      <td>0</td>\n      <td>3</td>\n      <td>3</td>\n    </tr>\n    <tr>\n      <th>...</th>\n      <td>...</td>\n      <td>...</td>\n      <td>...</td>\n      <td>...</td>\n      <td>...</td>\n    </tr>\n    <tr>\n      <th>271</th>\n      <td>Maharashtra</td>\n      <td>6776</td>\n      <td>127</td>\n      <td>5229</td>\n      <td>5</td>\n    </tr>\n    <tr>\n      <th>272</th>\n      <td>Maharashtra</td>\n      <td>5834</td>\n      <td>95</td>\n      <td>4922</td>\n      <td>6</td>\n    </tr>\n    <tr>\n      <th>273</th>\n      <td>Maharashtra</td>\n      <td>7486</td>\n      <td>40</td>\n      <td>4757</td>\n      <td>7</td>\n    </tr>\n    <tr>\n      <th>274</th>\n      <td>Maharashtra</td>\n      <td>1730715</td>\n      <td>47774</td>\n      <td>1855341</td>\n      <td>8</td>\n    </tr>\n    <tr>\n      <th>275</th>\n      <td>Maharashtra</td>\n      <td>1737080</td>\n      <td>47827</td>\n      <td>1859367</td>\n      <td>9</td>\n    </tr>\n  </tbody>\n</table>\n<p>276 rows × 5 columns</p>\n</div>"
     },
     "metadata": {},
     "execution_count": 32
    }
   ],
   "source": [
    "df_Mh"
   ]
  },
  {
   "cell_type": "code",
   "execution_count": 33,
   "metadata": {},
   "outputs": [
    {
     "output_type": "execute_result",
     "data": {
      "text/plain": [
       "array([ 9, 10, 11, 12,  3,  1,  2,  4,  5,  6,  7,  8])"
      ]
     },
     "metadata": {},
     "execution_count": 33
    }
   ],
   "source": [
    "months"
   ]
  },
  {
   "source": [
    "# Summing of Total cases monthwise"
   ],
   "cell_type": "markdown",
   "metadata": {}
  },
  {
   "cell_type": "code",
   "execution_count": 34,
   "metadata": {},
   "outputs": [],
   "source": [
    "dct_months_all={}\n",
    "for i in months:\n",
    "    dct_months_all[i] = 0"
   ]
  },
  {
   "cell_type": "code",
   "execution_count": 35,
   "metadata": {},
   "outputs": [],
   "source": [
    "for s in states:\n",
    "    for i in range(row_count_dct[s]):\n",
    "        dct_months_all[state_dct_df[s].iloc[i,4]] +=  state_dct_df[s].iloc[i,3]"
   ]
  },
  {
   "cell_type": "code",
   "execution_count": 36,
   "metadata": {},
   "outputs": [
    {
     "output_type": "execute_result",
     "data": {
      "text/plain": [
       "{9: 1897535,\n",
       " 10: 1326201,\n",
       " 11: 1059723,\n",
       " 12: 318335,\n",
       " 3: 324750,\n",
       " 1: 321055,\n",
       " 2: 325452,\n",
       " 4: 355034,\n",
       " 5: 445467,\n",
       " 6: 599100,\n",
       " 7: 1136828,\n",
       " 8: 1612690}"
      ]
     },
     "metadata": {},
     "execution_count": 36
    }
   ],
   "source": [
    "dct_months_all"
   ]
  },
  {
   "source": [
    "## Q1.Filter the month in which heighest people are get infected to Covid-19 virus?\n"
   ],
   "cell_type": "markdown",
   "metadata": {}
  },
  {
   "cell_type": "code",
   "execution_count": 37,
   "metadata": {},
   "outputs": [],
   "source": [
    "peak_month = 0\n",
    "peak_val = 0\n",
    "for i in months:\n",
    "    if dct_months_all[i]>peak_val:\n",
    "        peak_val = dct_months_all[i]\n",
    "        peak_month = i"
   ]
  },
  {
   "cell_type": "code",
   "execution_count": 38,
   "metadata": {},
   "outputs": [
    {
     "output_type": "stream",
     "name": "stdout",
     "text": [
      "Peak Month = 9\nPeak Cases = 1897535\n"
     ]
    }
   ],
   "source": [
    "print(f\"Peak Month = {peak_month}\\nPeak Cases = {peak_val}\")"
   ]
  },
  {
   "source": [
    "# Survival Rate = Cured/Confirmed\n",
    "## Q2.Obtain state in which survival rate is high"
   ],
   "cell_type": "markdown",
   "metadata": {}
  },
  {
   "cell_type": "code",
   "execution_count": 39,
   "metadata": {},
   "outputs": [],
   "source": [
    "survival_rate ={}\n",
    "for s in states:\n",
    "    total_confirmed = 0\n",
    "    total_cured = 0\n",
    "    for i in range(row_count_dct[s]):\n",
    "       total_confirmed += state_dct_df[s].iloc[i,3]\n",
    "       total_cured += state_dct_df[s].iloc[i,1]\n",
    "    survival_rate[s] = (total_cured/total_confirmed)"
   ]
  },
  {
   "source": [
    "survival_rate"
   ],
   "cell_type": "markdown",
   "metadata": {}
  },
  {
   "cell_type": "code",
   "execution_count": 40,
   "metadata": {},
   "outputs": [
    {
     "output_type": "stream",
     "name": "stdout",
     "text": [
      "State with maximum Survival Rate = \"Dadra and Nagar Haveli and Daman and Diu\"\nSurvival Rate = 0.9937332139659804\n"
     ]
    }
   ],
   "source": [
    "max_survival_rate_state = 0\n",
    "max_survival_rate = 0\n",
    "for i in states:\n",
    "    if survival_rate[i]>max_survival_rate:\n",
    "        max_survival_rate = survival_rate[i]\n",
    "        max_survival_rate_state = i\n",
    "\n",
    "\n",
    "print(f'State with maximum Survival Rate = \"{max_survival_rate_state}\"\\nSurvival Rate = {max_survival_rate}')"
   ]
  },
  {
   "source": [
    "state_dct_df['Dadra and Nagar Haveli and Daman and Diu']"
   ],
   "cell_type": "markdown",
   "metadata": {}
  },
  {
   "source": [
    "# Death Rate = Deaths/Confirmed\n",
    "## Q3.Check for state in which death rate is more than 1%"
   ],
   "cell_type": "markdown",
   "metadata": {}
  },
  {
   "cell_type": "code",
   "execution_count": 41,
   "metadata": {},
   "outputs": [],
   "source": [
    "death_rate ={}\n",
    "for s in states:\n",
    "    total_confirmed = 0\n",
    "    death_deaths = 0\n",
    "    for i in range(row_count_dct[s]):\n",
    "       total_confirmed += state_dct_df[s].iloc[i,3]\n",
    "       death_deaths += state_dct_df[s].iloc[i,2]\n",
    "    death_rate[s] = (death_deaths/total_confirmed)"
   ]
  },
  {
   "source": [
    "death_rate"
   ],
   "cell_type": "markdown",
   "metadata": {}
  },
  {
   "cell_type": "code",
   "execution_count": 42,
   "metadata": {},
   "outputs": [],
   "source": [
    "states_with_death_rate_more_than_one_percent = []\n",
    "for i in states:\n",
    "    if death_rate[i]>0.01:\n",
    "        states_with_death_rate_more_than_one_percent.append(i)"
   ]
  },
  {
   "cell_type": "code",
   "execution_count": 44,
   "metadata": {},
   "outputs": [
    {
     "output_type": "stream",
     "name": "stdout",
     "text": [
      "States with death rate of more than 1%:\n\nDelhi\nUttar Pradesh\nHaryana\nLadakh\nTamil Nadu\nKarnataka\nMaharashtra\nPunjab\nJammu and Kashmir\nUttarakhand\nPuducherry\nWest Bengal\nChhattisgarh\nChandigarh\nGujarat\nHimachal Pradesh\nMadhya Pradesh\nManipur\nAndaman and Nicobar Islands\nGoa\nTripura\nSikkim\n"
     ]
    }
   ],
   "source": [
    "print('States with death rate of more than 1%:\\n')\n",
    "for i in states_with_death_rate_more_than_one_percent:\n",
    "    print(i)"
   ]
  }
 ]
}