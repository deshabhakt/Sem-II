{
 "metadata": {
  "language_info": {
   "codemirror_mode": {
    "name": "ipython",
    "version": 3
   },
   "file_extension": ".py",
   "mimetype": "text/x-python",
   "name": "python",
   "nbconvert_exporter": "python",
   "pygments_lexer": "ipython3",
   "version": "3.9.2"
  },
  "orig_nbformat": 2,
  "kernelspec": {
   "name": "python3",
   "display_name": "Python 3",
   "language": "python"
  }
 },
 "nbformat": 4,
 "nbformat_minor": 2,
 "cells": [
  {
   "source": [
    "# COVID-19 Database Analysis "
   ],
   "cell_type": "markdown",
   "metadata": {}
  },
  {
   "cell_type": "code",
   "execution_count": 1,
   "metadata": {},
   "outputs": [],
   "source": [
    "import pandas as pd\n",
    "import numpy as np\n",
    "import matplotlib.pyplot as plt"
   ]
  },
  {
   "source": [
    "# Importing Database"
   ],
   "cell_type": "markdown",
   "metadata": {}
  },
  {
   "cell_type": "code",
   "execution_count": 2,
   "metadata": {},
   "outputs": [],
   "source": [
    "df = pd.read_csv('./covid 19 data.csv')"
   ]
  },
  {
   "cell_type": "code",
   "execution_count": 3,
   "metadata": {},
   "outputs": [
    {
     "output_type": "execute_result",
     "data": {
      "text/plain": [
       "   Sno      Date     Time State/UnionTerritory ConfirmedIndianNational  \\\n",
       "0    1  30/01/20  6:00 PM               Kerala                       1   \n",
       "1    2  31/01/20  6:00 PM               Kerala                       1   \n",
       "2    3  01/02/20  6:00 PM               Kerala                       2   \n",
       "3    4  02/02/20  6:00 PM               Kerala                       3   \n",
       "4    5  03/02/20  6:00 PM               Kerala                       3   \n",
       "\n",
       "  ConfirmedForeignNational  Cured  Deaths  Confirmed  \n",
       "0                        0      0       0          1  \n",
       "1                        0      0       0          1  \n",
       "2                        0      0       0          2  \n",
       "3                        0      0       0          3  \n",
       "4                        0      0       0          3  "
      ],
      "text/html": "<div>\n<style scoped>\n    .dataframe tbody tr th:only-of-type {\n        vertical-align: middle;\n    }\n\n    .dataframe tbody tr th {\n        vertical-align: top;\n    }\n\n    .dataframe thead th {\n        text-align: right;\n    }\n</style>\n<table border=\"1\" class=\"dataframe\">\n  <thead>\n    <tr style=\"text-align: right;\">\n      <th></th>\n      <th>Sno</th>\n      <th>Date</th>\n      <th>Time</th>\n      <th>State/UnionTerritory</th>\n      <th>ConfirmedIndianNational</th>\n      <th>ConfirmedForeignNational</th>\n      <th>Cured</th>\n      <th>Deaths</th>\n      <th>Confirmed</th>\n    </tr>\n  </thead>\n  <tbody>\n    <tr>\n      <th>0</th>\n      <td>1</td>\n      <td>30/01/20</td>\n      <td>6:00 PM</td>\n      <td>Kerala</td>\n      <td>1</td>\n      <td>0</td>\n      <td>0</td>\n      <td>0</td>\n      <td>1</td>\n    </tr>\n    <tr>\n      <th>1</th>\n      <td>2</td>\n      <td>31/01/20</td>\n      <td>6:00 PM</td>\n      <td>Kerala</td>\n      <td>1</td>\n      <td>0</td>\n      <td>0</td>\n      <td>0</td>\n      <td>1</td>\n    </tr>\n    <tr>\n      <th>2</th>\n      <td>3</td>\n      <td>01/02/20</td>\n      <td>6:00 PM</td>\n      <td>Kerala</td>\n      <td>2</td>\n      <td>0</td>\n      <td>0</td>\n      <td>0</td>\n      <td>2</td>\n    </tr>\n    <tr>\n      <th>3</th>\n      <td>4</td>\n      <td>02/02/20</td>\n      <td>6:00 PM</td>\n      <td>Kerala</td>\n      <td>3</td>\n      <td>0</td>\n      <td>0</td>\n      <td>0</td>\n      <td>3</td>\n    </tr>\n    <tr>\n      <th>4</th>\n      <td>5</td>\n      <td>03/02/20</td>\n      <td>6:00 PM</td>\n      <td>Kerala</td>\n      <td>3</td>\n      <td>0</td>\n      <td>0</td>\n      <td>0</td>\n      <td>3</td>\n    </tr>\n  </tbody>\n</table>\n</div>"
     },
     "metadata": {},
     "execution_count": 3
    }
   ],
   "source": [
    "df.head(5)"
   ]
  },
  {
   "cell_type": "code",
   "execution_count": 4,
   "metadata": {},
   "outputs": [
    {
     "output_type": "execute_result",
     "data": {
      "text/plain": [
       "       Sno      Date     Time State/UnionTerritory ConfirmedIndianNational  \\\n",
       "9286  9287  09/12/20  8:00 AM            Telengana                       -   \n",
       "9287  9288  09/12/20  8:00 AM              Tripura                       -   \n",
       "9288  9289  09/12/20  8:00 AM          Uttarakhand                       -   \n",
       "9289  9290  09/12/20  8:00 AM        Uttar Pradesh                       -   \n",
       "9290  9291  09/12/20  8:00 AM          West Bengal                       -   \n",
       "\n",
       "     ConfirmedForeignNational   Cured  Deaths  Confirmed  \n",
       "9286                        -  266120    1480     275261  \n",
       "9287                        -   32169     373      32945  \n",
       "9288                        -   72435    1307      79141  \n",
       "9289                        -  528832    7967     558173  \n",
       "9290                        -  475425    8820     507995  "
      ],
      "text/html": "<div>\n<style scoped>\n    .dataframe tbody tr th:only-of-type {\n        vertical-align: middle;\n    }\n\n    .dataframe tbody tr th {\n        vertical-align: top;\n    }\n\n    .dataframe thead th {\n        text-align: right;\n    }\n</style>\n<table border=\"1\" class=\"dataframe\">\n  <thead>\n    <tr style=\"text-align: right;\">\n      <th></th>\n      <th>Sno</th>\n      <th>Date</th>\n      <th>Time</th>\n      <th>State/UnionTerritory</th>\n      <th>ConfirmedIndianNational</th>\n      <th>ConfirmedForeignNational</th>\n      <th>Cured</th>\n      <th>Deaths</th>\n      <th>Confirmed</th>\n    </tr>\n  </thead>\n  <tbody>\n    <tr>\n      <th>9286</th>\n      <td>9287</td>\n      <td>09/12/20</td>\n      <td>8:00 AM</td>\n      <td>Telengana</td>\n      <td>-</td>\n      <td>-</td>\n      <td>266120</td>\n      <td>1480</td>\n      <td>275261</td>\n    </tr>\n    <tr>\n      <th>9287</th>\n      <td>9288</td>\n      <td>09/12/20</td>\n      <td>8:00 AM</td>\n      <td>Tripura</td>\n      <td>-</td>\n      <td>-</td>\n      <td>32169</td>\n      <td>373</td>\n      <td>32945</td>\n    </tr>\n    <tr>\n      <th>9288</th>\n      <td>9289</td>\n      <td>09/12/20</td>\n      <td>8:00 AM</td>\n      <td>Uttarakhand</td>\n      <td>-</td>\n      <td>-</td>\n      <td>72435</td>\n      <td>1307</td>\n      <td>79141</td>\n    </tr>\n    <tr>\n      <th>9289</th>\n      <td>9290</td>\n      <td>09/12/20</td>\n      <td>8:00 AM</td>\n      <td>Uttar Pradesh</td>\n      <td>-</td>\n      <td>-</td>\n      <td>528832</td>\n      <td>7967</td>\n      <td>558173</td>\n    </tr>\n    <tr>\n      <th>9290</th>\n      <td>9291</td>\n      <td>09/12/20</td>\n      <td>8:00 AM</td>\n      <td>West Bengal</td>\n      <td>-</td>\n      <td>-</td>\n      <td>475425</td>\n      <td>8820</td>\n      <td>507995</td>\n    </tr>\n  </tbody>\n</table>\n</div>"
     },
     "metadata": {},
     "execution_count": 4
    }
   ],
   "source": [
    "df.tail(5)"
   ]
  },
  {
   "source": [
    "# Dropping Un-neccesary Columns"
   ],
   "cell_type": "markdown",
   "metadata": {}
  },
  {
   "cell_type": "code",
   "execution_count": 5,
   "metadata": {},
   "outputs": [],
   "source": [
    "df = df.drop(['Sno','Time','ConfirmedIndianNational','ConfirmedForeignNational'],axis=1)"
   ]
  },
  {
   "cell_type": "code",
   "execution_count": 6,
   "metadata": {},
   "outputs": [],
   "source": [
    "df = df.rename(columns={'State/UnionTerritory':'State'})"
   ]
  },
  {
   "cell_type": "code",
   "execution_count": 7,
   "metadata": {},
   "outputs": [
    {
     "output_type": "execute_result",
     "data": {
      "text/plain": [
       "          Date          State   Cured  Deaths  Confirmed\n",
       "0     30/01/20         Kerala       0       0          1\n",
       "1     31/01/20         Kerala       0       0          1\n",
       "2     01/02/20         Kerala       0       0          2\n",
       "3     02/02/20         Kerala       0       0          3\n",
       "4     03/02/20         Kerala       0       0          3\n",
       "...        ...            ...     ...     ...        ...\n",
       "9286  09/12/20      Telengana  266120    1480     275261\n",
       "9287  09/12/20        Tripura   32169     373      32945\n",
       "9288  09/12/20    Uttarakhand   72435    1307      79141\n",
       "9289  09/12/20  Uttar Pradesh  528832    7967     558173\n",
       "9290  09/12/20    West Bengal  475425    8820     507995\n",
       "\n",
       "[9291 rows x 5 columns]"
      ],
      "text/html": "<div>\n<style scoped>\n    .dataframe tbody tr th:only-of-type {\n        vertical-align: middle;\n    }\n\n    .dataframe tbody tr th {\n        vertical-align: top;\n    }\n\n    .dataframe thead th {\n        text-align: right;\n    }\n</style>\n<table border=\"1\" class=\"dataframe\">\n  <thead>\n    <tr style=\"text-align: right;\">\n      <th></th>\n      <th>Date</th>\n      <th>State</th>\n      <th>Cured</th>\n      <th>Deaths</th>\n      <th>Confirmed</th>\n    </tr>\n  </thead>\n  <tbody>\n    <tr>\n      <th>0</th>\n      <td>30/01/20</td>\n      <td>Kerala</td>\n      <td>0</td>\n      <td>0</td>\n      <td>1</td>\n    </tr>\n    <tr>\n      <th>1</th>\n      <td>31/01/20</td>\n      <td>Kerala</td>\n      <td>0</td>\n      <td>0</td>\n      <td>1</td>\n    </tr>\n    <tr>\n      <th>2</th>\n      <td>01/02/20</td>\n      <td>Kerala</td>\n      <td>0</td>\n      <td>0</td>\n      <td>2</td>\n    </tr>\n    <tr>\n      <th>3</th>\n      <td>02/02/20</td>\n      <td>Kerala</td>\n      <td>0</td>\n      <td>0</td>\n      <td>3</td>\n    </tr>\n    <tr>\n      <th>4</th>\n      <td>03/02/20</td>\n      <td>Kerala</td>\n      <td>0</td>\n      <td>0</td>\n      <td>3</td>\n    </tr>\n    <tr>\n      <th>...</th>\n      <td>...</td>\n      <td>...</td>\n      <td>...</td>\n      <td>...</td>\n      <td>...</td>\n    </tr>\n    <tr>\n      <th>9286</th>\n      <td>09/12/20</td>\n      <td>Telengana</td>\n      <td>266120</td>\n      <td>1480</td>\n      <td>275261</td>\n    </tr>\n    <tr>\n      <th>9287</th>\n      <td>09/12/20</td>\n      <td>Tripura</td>\n      <td>32169</td>\n      <td>373</td>\n      <td>32945</td>\n    </tr>\n    <tr>\n      <th>9288</th>\n      <td>09/12/20</td>\n      <td>Uttarakhand</td>\n      <td>72435</td>\n      <td>1307</td>\n      <td>79141</td>\n    </tr>\n    <tr>\n      <th>9289</th>\n      <td>09/12/20</td>\n      <td>Uttar Pradesh</td>\n      <td>528832</td>\n      <td>7967</td>\n      <td>558173</td>\n    </tr>\n    <tr>\n      <th>9290</th>\n      <td>09/12/20</td>\n      <td>West Bengal</td>\n      <td>475425</td>\n      <td>8820</td>\n      <td>507995</td>\n    </tr>\n  </tbody>\n</table>\n<p>9291 rows × 5 columns</p>\n</div>"
     },
     "metadata": {},
     "execution_count": 7
    }
   ],
   "source": [
    "df"
   ]
  },
  {
   "cell_type": "code",
   "execution_count": 8,
   "metadata": {},
   "outputs": [],
   "source": [
    "df['Date'] = pd.to_datetime(df['Date'], dayfirst = True)"
   ]
  },
  {
   "cell_type": "code",
   "execution_count": 9,
   "metadata": {},
   "outputs": [
    {
     "output_type": "execute_result",
     "data": {
      "text/plain": [
       "           Date          State   Cured  Deaths  Confirmed\n",
       "0    2020-01-30         Kerala       0       0          1\n",
       "1    2020-01-31         Kerala       0       0          1\n",
       "2    2020-02-01         Kerala       0       0          2\n",
       "3    2020-02-02         Kerala       0       0          3\n",
       "4    2020-02-03         Kerala       0       0          3\n",
       "...         ...            ...     ...     ...        ...\n",
       "9286 2020-12-09      Telengana  266120    1480     275261\n",
       "9287 2020-12-09        Tripura   32169     373      32945\n",
       "9288 2020-12-09    Uttarakhand   72435    1307      79141\n",
       "9289 2020-12-09  Uttar Pradesh  528832    7967     558173\n",
       "9290 2020-12-09    West Bengal  475425    8820     507995\n",
       "\n",
       "[9291 rows x 5 columns]"
      ],
      "text/html": "<div>\n<style scoped>\n    .dataframe tbody tr th:only-of-type {\n        vertical-align: middle;\n    }\n\n    .dataframe tbody tr th {\n        vertical-align: top;\n    }\n\n    .dataframe thead th {\n        text-align: right;\n    }\n</style>\n<table border=\"1\" class=\"dataframe\">\n  <thead>\n    <tr style=\"text-align: right;\">\n      <th></th>\n      <th>Date</th>\n      <th>State</th>\n      <th>Cured</th>\n      <th>Deaths</th>\n      <th>Confirmed</th>\n    </tr>\n  </thead>\n  <tbody>\n    <tr>\n      <th>0</th>\n      <td>2020-01-30</td>\n      <td>Kerala</td>\n      <td>0</td>\n      <td>0</td>\n      <td>1</td>\n    </tr>\n    <tr>\n      <th>1</th>\n      <td>2020-01-31</td>\n      <td>Kerala</td>\n      <td>0</td>\n      <td>0</td>\n      <td>1</td>\n    </tr>\n    <tr>\n      <th>2</th>\n      <td>2020-02-01</td>\n      <td>Kerala</td>\n      <td>0</td>\n      <td>0</td>\n      <td>2</td>\n    </tr>\n    <tr>\n      <th>3</th>\n      <td>2020-02-02</td>\n      <td>Kerala</td>\n      <td>0</td>\n      <td>0</td>\n      <td>3</td>\n    </tr>\n    <tr>\n      <th>4</th>\n      <td>2020-02-03</td>\n      <td>Kerala</td>\n      <td>0</td>\n      <td>0</td>\n      <td>3</td>\n    </tr>\n    <tr>\n      <th>...</th>\n      <td>...</td>\n      <td>...</td>\n      <td>...</td>\n      <td>...</td>\n      <td>...</td>\n    </tr>\n    <tr>\n      <th>9286</th>\n      <td>2020-12-09</td>\n      <td>Telengana</td>\n      <td>266120</td>\n      <td>1480</td>\n      <td>275261</td>\n    </tr>\n    <tr>\n      <th>9287</th>\n      <td>2020-12-09</td>\n      <td>Tripura</td>\n      <td>32169</td>\n      <td>373</td>\n      <td>32945</td>\n    </tr>\n    <tr>\n      <th>9288</th>\n      <td>2020-12-09</td>\n      <td>Uttarakhand</td>\n      <td>72435</td>\n      <td>1307</td>\n      <td>79141</td>\n    </tr>\n    <tr>\n      <th>9289</th>\n      <td>2020-12-09</td>\n      <td>Uttar Pradesh</td>\n      <td>528832</td>\n      <td>7967</td>\n      <td>558173</td>\n    </tr>\n    <tr>\n      <th>9290</th>\n      <td>2020-12-09</td>\n      <td>West Bengal</td>\n      <td>475425</td>\n      <td>8820</td>\n      <td>507995</td>\n    </tr>\n  </tbody>\n</table>\n<p>9291 rows × 5 columns</p>\n</div>"
     },
     "metadata": {},
     "execution_count": 9
    }
   ],
   "source": [
    "df"
   ]
  },
  {
   "source": [
    "# Extracing States Names from database"
   ],
   "cell_type": "markdown",
   "metadata": {}
  },
  {
   "cell_type": "code",
   "execution_count": 10,
   "metadata": {},
   "outputs": [],
   "source": [
    "states = df['State'].unique()"
   ]
  },
  {
   "cell_type": "code",
   "execution_count": 11,
   "metadata": {},
   "outputs": [
    {
     "output_type": "execute_result",
     "data": {
      "text/plain": [
       "array(['Kerala', 'Telengana', 'Delhi', 'Rajasthan', 'Uttar Pradesh',\n",
       "       'Haryana', 'Ladakh', 'Tamil Nadu', 'Karnataka', 'Maharashtra',\n",
       "       'Punjab', 'Jammu and Kashmir', 'Andhra Pradesh', 'Uttarakhand',\n",
       "       'Odisha', 'Puducherry', 'West Bengal', 'Chhattisgarh',\n",
       "       'Chandigarh', 'Gujarat', 'Himachal Pradesh', 'Madhya Pradesh',\n",
       "       'Bihar', 'Manipur', 'Mizoram', 'Andaman and Nicobar Islands',\n",
       "       'Goa', 'Unassigned', 'Assam', 'Jharkhand', 'Arunachal Pradesh',\n",
       "       'Tripura', 'Nagaland', 'Meghalaya', 'Dadar Nagar Haveli',\n",
       "       'Cases being reassigned to states', 'Sikkim', 'Daman & Diu',\n",
       "       'Dadra and Nagar Haveli and Daman and Diu', 'Telangana',\n",
       "       'Telangana***', 'Telengana***', 'Maharashtra***', 'Chandigarh***',\n",
       "       'Punjab***'], dtype=object)"
      ]
     },
     "metadata": {},
     "execution_count": 11
    }
   ],
   "source": [
    "states"
   ]
  },
  {
   "source": [
    "# Renaming Mis-spelled State names"
   ],
   "cell_type": "markdown",
   "metadata": {}
  },
  {
   "cell_type": "code",
   "execution_count": 12,
   "metadata": {},
   "outputs": [],
   "source": [
    "df=df.replace('Telengana','Telangana')\n",
    "df=df.replace('Telengana***','Telangana')\n",
    "df=df.replace('Telangana***','Telangana')\n",
    "df=df.replace('Maharashtra***','Maharashtra')\n",
    "df=df.replace('Chandigarh***','Chandigarh')\n",
    "df=df.replace('Punjab***','Punjab')"
   ]
  },
  {
   "cell_type": "code",
   "execution_count": 13,
   "metadata": {},
   "outputs": [],
   "source": [
    "states = df['State'].unique()"
   ]
  },
  {
   "cell_type": "code",
   "execution_count": 14,
   "metadata": {},
   "outputs": [],
   "source": [
    "states = list(states)   # Numpy array to python list"
   ]
  },
  {
   "source": [
    "# Removing Un-necessary entries from states list\n",
    "## Daman & Diu is removed because of lack of availability of data ---> database contains only 1 entry coresponding to Daman & Diu"
   ],
   "cell_type": "markdown",
   "metadata": {}
  },
  {
   "cell_type": "code",
   "execution_count": 15,
   "metadata": {},
   "outputs": [
    {
     "output_type": "execute_result",
     "data": {
      "text/plain": [
       "           Date        State  Cured  Deaths  Confirmed\n",
       "2890 2020-06-11  Daman & Diu      0       0          2"
      ],
      "text/html": "<div>\n<style scoped>\n    .dataframe tbody tr th:only-of-type {\n        vertical-align: middle;\n    }\n\n    .dataframe tbody tr th {\n        vertical-align: top;\n    }\n\n    .dataframe thead th {\n        text-align: right;\n    }\n</style>\n<table border=\"1\" class=\"dataframe\">\n  <thead>\n    <tr style=\"text-align: right;\">\n      <th></th>\n      <th>Date</th>\n      <th>State</th>\n      <th>Cured</th>\n      <th>Deaths</th>\n      <th>Confirmed</th>\n    </tr>\n  </thead>\n  <tbody>\n    <tr>\n      <th>2890</th>\n      <td>2020-06-11</td>\n      <td>Daman &amp; Diu</td>\n      <td>0</td>\n      <td>0</td>\n      <td>2</td>\n    </tr>\n  </tbody>\n</table>\n</div>"
     },
     "metadata": {},
     "execution_count": 15
    }
   ],
   "source": [
    "df[df.State == 'Daman & Diu']"
   ]
  },
  {
   "cell_type": "code",
   "execution_count": 16,
   "metadata": {},
   "outputs": [],
   "source": [
    "states.remove('Cases being reassigned to states')\n",
    "states.remove('Unassigned')\n",
    "states.remove('Daman & Diu')"
   ]
  },
  {
   "cell_type": "code",
   "execution_count": 17,
   "metadata": {},
   "outputs": [
    {
     "output_type": "execute_result",
     "data": {
      "text/plain": [
       "['Kerala',\n",
       " 'Telangana',\n",
       " 'Delhi',\n",
       " 'Rajasthan',\n",
       " 'Uttar Pradesh',\n",
       " 'Haryana',\n",
       " 'Ladakh',\n",
       " 'Tamil Nadu',\n",
       " 'Karnataka',\n",
       " 'Maharashtra',\n",
       " 'Punjab',\n",
       " 'Jammu and Kashmir',\n",
       " 'Andhra Pradesh',\n",
       " 'Uttarakhand',\n",
       " 'Odisha',\n",
       " 'Puducherry',\n",
       " 'West Bengal',\n",
       " 'Chhattisgarh',\n",
       " 'Chandigarh',\n",
       " 'Gujarat',\n",
       " 'Himachal Pradesh',\n",
       " 'Madhya Pradesh',\n",
       " 'Bihar',\n",
       " 'Manipur',\n",
       " 'Mizoram',\n",
       " 'Andaman and Nicobar Islands',\n",
       " 'Goa',\n",
       " 'Assam',\n",
       " 'Jharkhand',\n",
       " 'Arunachal Pradesh',\n",
       " 'Tripura',\n",
       " 'Nagaland',\n",
       " 'Meghalaya',\n",
       " 'Dadar Nagar Haveli',\n",
       " 'Sikkim',\n",
       " 'Dadra and Nagar Haveli and Daman and Diu']"
      ]
     },
     "metadata": {},
     "execution_count": 17
    }
   ],
   "source": [
    "states"
   ]
  },
  {
   "cell_type": "code",
   "execution_count": 18,
   "metadata": {},
   "outputs": [
    {
     "output_type": "execute_result",
     "data": {
      "text/plain": [
       "Date         0\n",
       "State        0\n",
       "Cured        0\n",
       "Deaths       0\n",
       "Confirmed    0\n",
       "dtype: int64"
      ]
     },
     "metadata": {},
     "execution_count": 18
    }
   ],
   "source": [
    "df.isnull().sum()"
   ]
  },
  {
   "source": [
    "# Adding Months column into database and removing Dates column"
   ],
   "cell_type": "markdown",
   "metadata": {}
  },
  {
   "cell_type": "code",
   "execution_count": 19,
   "metadata": {},
   "outputs": [],
   "source": [
    "df['Month'] = pd.DatetimeIndex(df['Date']).month"
   ]
  },
  {
   "cell_type": "code",
   "execution_count": 20,
   "metadata": {},
   "outputs": [
    {
     "output_type": "execute_result",
     "data": {
      "text/plain": [
       "           Date          State   Cured  Deaths  Confirmed  Month\n",
       "0    2020-01-30         Kerala       0       0          1      1\n",
       "1    2020-01-31         Kerala       0       0          1      1\n",
       "2    2020-02-01         Kerala       0       0          2      2\n",
       "3    2020-02-02         Kerala       0       0          3      2\n",
       "4    2020-02-03         Kerala       0       0          3      2\n",
       "...         ...            ...     ...     ...        ...    ...\n",
       "9286 2020-12-09      Telangana  266120    1480     275261     12\n",
       "9287 2020-12-09        Tripura   32169     373      32945     12\n",
       "9288 2020-12-09    Uttarakhand   72435    1307      79141     12\n",
       "9289 2020-12-09  Uttar Pradesh  528832    7967     558173     12\n",
       "9290 2020-12-09    West Bengal  475425    8820     507995     12\n",
       "\n",
       "[9291 rows x 6 columns]"
      ],
      "text/html": "<div>\n<style scoped>\n    .dataframe tbody tr th:only-of-type {\n        vertical-align: middle;\n    }\n\n    .dataframe tbody tr th {\n        vertical-align: top;\n    }\n\n    .dataframe thead th {\n        text-align: right;\n    }\n</style>\n<table border=\"1\" class=\"dataframe\">\n  <thead>\n    <tr style=\"text-align: right;\">\n      <th></th>\n      <th>Date</th>\n      <th>State</th>\n      <th>Cured</th>\n      <th>Deaths</th>\n      <th>Confirmed</th>\n      <th>Month</th>\n    </tr>\n  </thead>\n  <tbody>\n    <tr>\n      <th>0</th>\n      <td>2020-01-30</td>\n      <td>Kerala</td>\n      <td>0</td>\n      <td>0</td>\n      <td>1</td>\n      <td>1</td>\n    </tr>\n    <tr>\n      <th>1</th>\n      <td>2020-01-31</td>\n      <td>Kerala</td>\n      <td>0</td>\n      <td>0</td>\n      <td>1</td>\n      <td>1</td>\n    </tr>\n    <tr>\n      <th>2</th>\n      <td>2020-02-01</td>\n      <td>Kerala</td>\n      <td>0</td>\n      <td>0</td>\n      <td>2</td>\n      <td>2</td>\n    </tr>\n    <tr>\n      <th>3</th>\n      <td>2020-02-02</td>\n      <td>Kerala</td>\n      <td>0</td>\n      <td>0</td>\n      <td>3</td>\n      <td>2</td>\n    </tr>\n    <tr>\n      <th>4</th>\n      <td>2020-02-03</td>\n      <td>Kerala</td>\n      <td>0</td>\n      <td>0</td>\n      <td>3</td>\n      <td>2</td>\n    </tr>\n    <tr>\n      <th>...</th>\n      <td>...</td>\n      <td>...</td>\n      <td>...</td>\n      <td>...</td>\n      <td>...</td>\n      <td>...</td>\n    </tr>\n    <tr>\n      <th>9286</th>\n      <td>2020-12-09</td>\n      <td>Telangana</td>\n      <td>266120</td>\n      <td>1480</td>\n      <td>275261</td>\n      <td>12</td>\n    </tr>\n    <tr>\n      <th>9287</th>\n      <td>2020-12-09</td>\n      <td>Tripura</td>\n      <td>32169</td>\n      <td>373</td>\n      <td>32945</td>\n      <td>12</td>\n    </tr>\n    <tr>\n      <th>9288</th>\n      <td>2020-12-09</td>\n      <td>Uttarakhand</td>\n      <td>72435</td>\n      <td>1307</td>\n      <td>79141</td>\n      <td>12</td>\n    </tr>\n    <tr>\n      <th>9289</th>\n      <td>2020-12-09</td>\n      <td>Uttar Pradesh</td>\n      <td>528832</td>\n      <td>7967</td>\n      <td>558173</td>\n      <td>12</td>\n    </tr>\n    <tr>\n      <th>9290</th>\n      <td>2020-12-09</td>\n      <td>West Bengal</td>\n      <td>475425</td>\n      <td>8820</td>\n      <td>507995</td>\n      <td>12</td>\n    </tr>\n  </tbody>\n</table>\n<p>9291 rows × 6 columns</p>\n</div>"
     },
     "metadata": {},
     "execution_count": 20
    }
   ],
   "source": [
    "df"
   ]
  },
  {
   "cell_type": "code",
   "execution_count": 21,
   "metadata": {},
   "outputs": [],
   "source": [
    "df.drop('Date',axis=1,inplace=True)"
   ]
  },
  {
   "cell_type": "code",
   "execution_count": 22,
   "metadata": {},
   "outputs": [
    {
     "output_type": "execute_result",
     "data": {
      "text/plain": [
       "              State   Cured  Deaths  Confirmed  Month\n",
       "0            Kerala       0       0          1      1\n",
       "1            Kerala       0       0          1      1\n",
       "2            Kerala       0       0          2      2\n",
       "3            Kerala       0       0          3      2\n",
       "4            Kerala       0       0          3      2\n",
       "...             ...     ...     ...        ...    ...\n",
       "9286      Telangana  266120    1480     275261     12\n",
       "9287        Tripura   32169     373      32945     12\n",
       "9288    Uttarakhand   72435    1307      79141     12\n",
       "9289  Uttar Pradesh  528832    7967     558173     12\n",
       "9290    West Bengal  475425    8820     507995     12\n",
       "\n",
       "[9291 rows x 5 columns]"
      ],
      "text/html": "<div>\n<style scoped>\n    .dataframe tbody tr th:only-of-type {\n        vertical-align: middle;\n    }\n\n    .dataframe tbody tr th {\n        vertical-align: top;\n    }\n\n    .dataframe thead th {\n        text-align: right;\n    }\n</style>\n<table border=\"1\" class=\"dataframe\">\n  <thead>\n    <tr style=\"text-align: right;\">\n      <th></th>\n      <th>State</th>\n      <th>Cured</th>\n      <th>Deaths</th>\n      <th>Confirmed</th>\n      <th>Month</th>\n    </tr>\n  </thead>\n  <tbody>\n    <tr>\n      <th>0</th>\n      <td>Kerala</td>\n      <td>0</td>\n      <td>0</td>\n      <td>1</td>\n      <td>1</td>\n    </tr>\n    <tr>\n      <th>1</th>\n      <td>Kerala</td>\n      <td>0</td>\n      <td>0</td>\n      <td>1</td>\n      <td>1</td>\n    </tr>\n    <tr>\n      <th>2</th>\n      <td>Kerala</td>\n      <td>0</td>\n      <td>0</td>\n      <td>2</td>\n      <td>2</td>\n    </tr>\n    <tr>\n      <th>3</th>\n      <td>Kerala</td>\n      <td>0</td>\n      <td>0</td>\n      <td>3</td>\n      <td>2</td>\n    </tr>\n    <tr>\n      <th>4</th>\n      <td>Kerala</td>\n      <td>0</td>\n      <td>0</td>\n      <td>3</td>\n      <td>2</td>\n    </tr>\n    <tr>\n      <th>...</th>\n      <td>...</td>\n      <td>...</td>\n      <td>...</td>\n      <td>...</td>\n      <td>...</td>\n    </tr>\n    <tr>\n      <th>9286</th>\n      <td>Telangana</td>\n      <td>266120</td>\n      <td>1480</td>\n      <td>275261</td>\n      <td>12</td>\n    </tr>\n    <tr>\n      <th>9287</th>\n      <td>Tripura</td>\n      <td>32169</td>\n      <td>373</td>\n      <td>32945</td>\n      <td>12</td>\n    </tr>\n    <tr>\n      <th>9288</th>\n      <td>Uttarakhand</td>\n      <td>72435</td>\n      <td>1307</td>\n      <td>79141</td>\n      <td>12</td>\n    </tr>\n    <tr>\n      <th>9289</th>\n      <td>Uttar Pradesh</td>\n      <td>528832</td>\n      <td>7967</td>\n      <td>558173</td>\n      <td>12</td>\n    </tr>\n    <tr>\n      <th>9290</th>\n      <td>West Bengal</td>\n      <td>475425</td>\n      <td>8820</td>\n      <td>507995</td>\n      <td>12</td>\n    </tr>\n  </tbody>\n</table>\n<p>9291 rows × 5 columns</p>\n</div>"
     },
     "metadata": {},
     "execution_count": 22
    }
   ],
   "source": [
    "df"
   ]
  },
  {
   "source": [
    "# Creating a dictonary with keys as state names and their corresponding data"
   ],
   "cell_type": "markdown",
   "metadata": {}
  },
  {
   "cell_type": "code",
   "execution_count": 23,
   "metadata": {},
   "outputs": [],
   "source": [
    "state_dct_df ={}\n",
    "for i in states:\n",
    "    state_dct_df[i] = df[df.State == i].copy().reset_index().drop(['index'],axis=1)"
   ]
  },
  {
   "cell_type": "code",
   "execution_count": 24,
   "metadata": {},
   "outputs": [
    {
     "output_type": "execute_result",
     "data": {
      "text/plain": [
       "           State    Cured  Deaths  Confirmed  Month\n",
       "0    Maharashtra        0       0          2      3\n",
       "1    Maharashtra        0       0          5      3\n",
       "2    Maharashtra        0       0          2      3\n",
       "3    Maharashtra        0       0         11      3\n",
       "4    Maharashtra        0       0         14      3\n",
       "..           ...      ...     ...        ...    ...\n",
       "271  Maharashtra  1710050   47599    1842587     12\n",
       "272  Maharashtra  1715884   47694    1847509     12\n",
       "273  Maharashtra  1723370   47734    1852266     12\n",
       "274  Maharashtra  1730715   47774    1855341     12\n",
       "275  Maharashtra  1737080   47827    1859367     12\n",
       "\n",
       "[276 rows x 5 columns]"
      ],
      "text/html": "<div>\n<style scoped>\n    .dataframe tbody tr th:only-of-type {\n        vertical-align: middle;\n    }\n\n    .dataframe tbody tr th {\n        vertical-align: top;\n    }\n\n    .dataframe thead th {\n        text-align: right;\n    }\n</style>\n<table border=\"1\" class=\"dataframe\">\n  <thead>\n    <tr style=\"text-align: right;\">\n      <th></th>\n      <th>State</th>\n      <th>Cured</th>\n      <th>Deaths</th>\n      <th>Confirmed</th>\n      <th>Month</th>\n    </tr>\n  </thead>\n  <tbody>\n    <tr>\n      <th>0</th>\n      <td>Maharashtra</td>\n      <td>0</td>\n      <td>0</td>\n      <td>2</td>\n      <td>3</td>\n    </tr>\n    <tr>\n      <th>1</th>\n      <td>Maharashtra</td>\n      <td>0</td>\n      <td>0</td>\n      <td>5</td>\n      <td>3</td>\n    </tr>\n    <tr>\n      <th>2</th>\n      <td>Maharashtra</td>\n      <td>0</td>\n      <td>0</td>\n      <td>2</td>\n      <td>3</td>\n    </tr>\n    <tr>\n      <th>3</th>\n      <td>Maharashtra</td>\n      <td>0</td>\n      <td>0</td>\n      <td>11</td>\n      <td>3</td>\n    </tr>\n    <tr>\n      <th>4</th>\n      <td>Maharashtra</td>\n      <td>0</td>\n      <td>0</td>\n      <td>14</td>\n      <td>3</td>\n    </tr>\n    <tr>\n      <th>...</th>\n      <td>...</td>\n      <td>...</td>\n      <td>...</td>\n      <td>...</td>\n      <td>...</td>\n    </tr>\n    <tr>\n      <th>271</th>\n      <td>Maharashtra</td>\n      <td>1710050</td>\n      <td>47599</td>\n      <td>1842587</td>\n      <td>12</td>\n    </tr>\n    <tr>\n      <th>272</th>\n      <td>Maharashtra</td>\n      <td>1715884</td>\n      <td>47694</td>\n      <td>1847509</td>\n      <td>12</td>\n    </tr>\n    <tr>\n      <th>273</th>\n      <td>Maharashtra</td>\n      <td>1723370</td>\n      <td>47734</td>\n      <td>1852266</td>\n      <td>12</td>\n    </tr>\n    <tr>\n      <th>274</th>\n      <td>Maharashtra</td>\n      <td>1730715</td>\n      <td>47774</td>\n      <td>1855341</td>\n      <td>12</td>\n    </tr>\n    <tr>\n      <th>275</th>\n      <td>Maharashtra</td>\n      <td>1737080</td>\n      <td>47827</td>\n      <td>1859367</td>\n      <td>12</td>\n    </tr>\n  </tbody>\n</table>\n<p>276 rows × 5 columns</p>\n</div>"
     },
     "metadata": {},
     "execution_count": 24
    }
   ],
   "source": [
    "state_dct_df['Maharashtra']"
   ]
  },
  {
   "source": [
    "# Creating a Dictonary to Keep count of number of entries in database corresponding to each state"
   ],
   "cell_type": "markdown",
   "metadata": {}
  },
  {
   "cell_type": "code",
   "execution_count": 25,
   "metadata": {},
   "outputs": [],
   "source": [
    "row_count_dct = {}\n",
    "for i in states:\n",
    "    rows, columns = state_dct_df[i].shape\n",
    "    row_count_dct[i] = rows"
   ]
  },
  {
   "source": [
    "row_count_dct"
   ],
   "cell_type": "code",
   "metadata": {},
   "execution_count": 26,
   "outputs": [
    {
     "output_type": "execute_result",
     "data": {
      "text/plain": [
       "{'Kerala': 315,\n",
       " 'Telangana': 283,\n",
       " 'Delhi': 283,\n",
       " 'Rajasthan': 282,\n",
       " 'Uttar Pradesh': 281,\n",
       " 'Haryana': 281,\n",
       " 'Ladakh': 278,\n",
       " 'Tamil Nadu': 278,\n",
       " 'Karnataka': 276,\n",
       " 'Maharashtra': 276,\n",
       " 'Punjab': 276,\n",
       " 'Jammu and Kashmir': 276,\n",
       " 'Andhra Pradesh': 273,\n",
       " 'Uttarakhand': 270,\n",
       " 'Odisha': 269,\n",
       " 'Puducherry': 267,\n",
       " 'West Bengal': 267,\n",
       " 'Chhattisgarh': 266,\n",
       " 'Chandigarh': 266,\n",
       " 'Gujarat': 265,\n",
       " 'Himachal Pradesh': 264,\n",
       " 'Madhya Pradesh': 264,\n",
       " 'Bihar': 263,\n",
       " 'Manipur': 261,\n",
       " 'Mizoram': 260,\n",
       " 'Andaman and Nicobar Islands': 259,\n",
       " 'Goa': 259,\n",
       " 'Assam': 253,\n",
       " 'Jharkhand': 253,\n",
       " 'Arunachal Pradesh': 251,\n",
       " 'Tripura': 247,\n",
       " 'Nagaland': 207,\n",
       " 'Meghalaya': 240,\n",
       " 'Dadar Nagar Haveli': 37,\n",
       " 'Sikkim': 200,\n",
       " 'Dadra and Nagar Haveli and Daman and Diu': 181}"
      ]
     },
     "metadata": {},
     "execution_count": 26
    }
   ]
  },
  {
   "source": [
    "# Getting Back Original values of cured, deaths and confirmed from cumulative sum"
   ],
   "cell_type": "markdown",
   "metadata": {}
  },
  {
   "cell_type": "code",
   "execution_count": 27,
   "metadata": {},
   "outputs": [
    {
     "output_type": "execute_result",
     "data": {
      "text/plain": [
       "           State    Cured  Deaths  Confirmed  Month\n",
       "0    Maharashtra        0       0          2      3\n",
       "1    Maharashtra        0       0          5      3\n",
       "2    Maharashtra        0       0          2      3\n",
       "3    Maharashtra        0       0         11      3\n",
       "4    Maharashtra        0       0         14      3\n",
       "..           ...      ...     ...        ...    ...\n",
       "271  Maharashtra  1710050   47599    1842587     12\n",
       "272  Maharashtra  1715884   47694    1847509     12\n",
       "273  Maharashtra  1723370   47734    1852266     12\n",
       "274  Maharashtra  1730715   47774    1855341     12\n",
       "275  Maharashtra  1737080   47827    1859367     12\n",
       "\n",
       "[276 rows x 5 columns]"
      ],
      "text/html": "<div>\n<style scoped>\n    .dataframe tbody tr th:only-of-type {\n        vertical-align: middle;\n    }\n\n    .dataframe tbody tr th {\n        vertical-align: top;\n    }\n\n    .dataframe thead th {\n        text-align: right;\n    }\n</style>\n<table border=\"1\" class=\"dataframe\">\n  <thead>\n    <tr style=\"text-align: right;\">\n      <th></th>\n      <th>State</th>\n      <th>Cured</th>\n      <th>Deaths</th>\n      <th>Confirmed</th>\n      <th>Month</th>\n    </tr>\n  </thead>\n  <tbody>\n    <tr>\n      <th>0</th>\n      <td>Maharashtra</td>\n      <td>0</td>\n      <td>0</td>\n      <td>2</td>\n      <td>3</td>\n    </tr>\n    <tr>\n      <th>1</th>\n      <td>Maharashtra</td>\n      <td>0</td>\n      <td>0</td>\n      <td>5</td>\n      <td>3</td>\n    </tr>\n    <tr>\n      <th>2</th>\n      <td>Maharashtra</td>\n      <td>0</td>\n      <td>0</td>\n      <td>2</td>\n      <td>3</td>\n    </tr>\n    <tr>\n      <th>3</th>\n      <td>Maharashtra</td>\n      <td>0</td>\n      <td>0</td>\n      <td>11</td>\n      <td>3</td>\n    </tr>\n    <tr>\n      <th>4</th>\n      <td>Maharashtra</td>\n      <td>0</td>\n      <td>0</td>\n      <td>14</td>\n      <td>3</td>\n    </tr>\n    <tr>\n      <th>...</th>\n      <td>...</td>\n      <td>...</td>\n      <td>...</td>\n      <td>...</td>\n      <td>...</td>\n    </tr>\n    <tr>\n      <th>271</th>\n      <td>Maharashtra</td>\n      <td>1710050</td>\n      <td>47599</td>\n      <td>1842587</td>\n      <td>12</td>\n    </tr>\n    <tr>\n      <th>272</th>\n      <td>Maharashtra</td>\n      <td>1715884</td>\n      <td>47694</td>\n      <td>1847509</td>\n      <td>12</td>\n    </tr>\n    <tr>\n      <th>273</th>\n      <td>Maharashtra</td>\n      <td>1723370</td>\n      <td>47734</td>\n      <td>1852266</td>\n      <td>12</td>\n    </tr>\n    <tr>\n      <th>274</th>\n      <td>Maharashtra</td>\n      <td>1730715</td>\n      <td>47774</td>\n      <td>1855341</td>\n      <td>12</td>\n    </tr>\n    <tr>\n      <th>275</th>\n      <td>Maharashtra</td>\n      <td>1737080</td>\n      <td>47827</td>\n      <td>1859367</td>\n      <td>12</td>\n    </tr>\n  </tbody>\n</table>\n<p>276 rows × 5 columns</p>\n</div>"
     },
     "metadata": {},
     "execution_count": 27
    }
   ],
   "source": [
    "state_dct_df['Maharashtra']"
   ]
  },
  {
   "cell_type": "code",
   "execution_count": 28,
   "metadata": {},
   "outputs": [],
   "source": [
    "for s in states:\n",
    "    for i in range(row_count_dct[s]-1,0,-1):\n",
    "            state_dct_df[s].iloc[i,1] -= state_dct_df[s].iloc[i-1,1]\n",
    "            state_dct_df[s].iloc[i,2] -= state_dct_df[s].iloc[i-1,2]\n",
    "            state_dct_df[s].iloc[i,3] -= state_dct_df[s].iloc[i-1,3]"
   ]
  },
  {
   "cell_type": "code",
   "execution_count": 29,
   "metadata": {},
   "outputs": [
    {
     "output_type": "execute_result",
     "data": {
      "text/plain": [
       "           State  Cured  Deaths  Confirmed  Month\n",
       "0    Maharashtra      0       0          2      3\n",
       "1    Maharashtra      0       0          3      3\n",
       "2    Maharashtra      0       0         -3      3\n",
       "3    Maharashtra      0       0          9      3\n",
       "4    Maharashtra      0       0          3      3\n",
       "..           ...    ...     ...        ...    ...\n",
       "271  Maharashtra   6776     127       5229     12\n",
       "272  Maharashtra   5834      95       4922     12\n",
       "273  Maharashtra   7486      40       4757     12\n",
       "274  Maharashtra   7345      40       3075     12\n",
       "275  Maharashtra   6365      53       4026     12\n",
       "\n",
       "[276 rows x 5 columns]"
      ],
      "text/html": "<div>\n<style scoped>\n    .dataframe tbody tr th:only-of-type {\n        vertical-align: middle;\n    }\n\n    .dataframe tbody tr th {\n        vertical-align: top;\n    }\n\n    .dataframe thead th {\n        text-align: right;\n    }\n</style>\n<table border=\"1\" class=\"dataframe\">\n  <thead>\n    <tr style=\"text-align: right;\">\n      <th></th>\n      <th>State</th>\n      <th>Cured</th>\n      <th>Deaths</th>\n      <th>Confirmed</th>\n      <th>Month</th>\n    </tr>\n  </thead>\n  <tbody>\n    <tr>\n      <th>0</th>\n      <td>Maharashtra</td>\n      <td>0</td>\n      <td>0</td>\n      <td>2</td>\n      <td>3</td>\n    </tr>\n    <tr>\n      <th>1</th>\n      <td>Maharashtra</td>\n      <td>0</td>\n      <td>0</td>\n      <td>3</td>\n      <td>3</td>\n    </tr>\n    <tr>\n      <th>2</th>\n      <td>Maharashtra</td>\n      <td>0</td>\n      <td>0</td>\n      <td>-3</td>\n      <td>3</td>\n    </tr>\n    <tr>\n      <th>3</th>\n      <td>Maharashtra</td>\n      <td>0</td>\n      <td>0</td>\n      <td>9</td>\n      <td>3</td>\n    </tr>\n    <tr>\n      <th>4</th>\n      <td>Maharashtra</td>\n      <td>0</td>\n      <td>0</td>\n      <td>3</td>\n      <td>3</td>\n    </tr>\n    <tr>\n      <th>...</th>\n      <td>...</td>\n      <td>...</td>\n      <td>...</td>\n      <td>...</td>\n      <td>...</td>\n    </tr>\n    <tr>\n      <th>271</th>\n      <td>Maharashtra</td>\n      <td>6776</td>\n      <td>127</td>\n      <td>5229</td>\n      <td>12</td>\n    </tr>\n    <tr>\n      <th>272</th>\n      <td>Maharashtra</td>\n      <td>5834</td>\n      <td>95</td>\n      <td>4922</td>\n      <td>12</td>\n    </tr>\n    <tr>\n      <th>273</th>\n      <td>Maharashtra</td>\n      <td>7486</td>\n      <td>40</td>\n      <td>4757</td>\n      <td>12</td>\n    </tr>\n    <tr>\n      <th>274</th>\n      <td>Maharashtra</td>\n      <td>7345</td>\n      <td>40</td>\n      <td>3075</td>\n      <td>12</td>\n    </tr>\n    <tr>\n      <th>275</th>\n      <td>Maharashtra</td>\n      <td>6365</td>\n      <td>53</td>\n      <td>4026</td>\n      <td>12</td>\n    </tr>\n  </tbody>\n</table>\n<p>276 rows × 5 columns</p>\n</div>"
     },
     "metadata": {},
     "execution_count": 29
    }
   ],
   "source": [
    "state_dct_df['Maharashtra']"
   ]
  },
  {
   "source": [
    "# As some of the entries in database turns out to be negative, now we will get back there indices and aftwerwards remove those entries\n",
    "## Negative entries can occur in cured, deaths and confirmed columns"
   ],
   "cell_type": "markdown",
   "metadata": {}
  },
  {
   "cell_type": "code",
   "execution_count": 30,
   "metadata": {},
   "outputs": [],
   "source": [
    "check_neg_cured = {}\n",
    "check_neg_deaths = {}\n",
    "check_neg_confirmed = {}\n",
    "for s in states:\n",
    "    index_cured = []\n",
    "    index_deaths = []\n",
    "    index_confirmed = []\n",
    "    \n",
    "    for i in range(row_count_dct[s]):\n",
    "        if(state_dct_df[s].iloc[i,1]<0):\n",
    "            index_cured.append(i)\n",
    "        if(state_dct_df[s].iloc[i,2]<0):\n",
    "            index_deaths.append(i)\n",
    "        if(state_dct_df[s].iloc[i,3]<0):\n",
    "            index_confirmed.append(i)\n",
    "\n",
    "    check_neg_cured[s] = index_cured\n",
    "    check_neg_deaths[s] = index_deaths\n",
    "    check_neg_confirmed[s] = index_confirmed"
   ]
  },
  {
   "cell_type": "code",
   "execution_count": 31,
   "metadata": {},
   "outputs": [
    {
     "output_type": "execute_result",
     "data": {
      "text/plain": [
       "{'Kerala': [],\n",
       " 'Telangana': [],\n",
       " 'Delhi': [],\n",
       " 'Rajasthan': [],\n",
       " 'Uttar Pradesh': [11],\n",
       " 'Haryana': [],\n",
       " 'Ladakh': [],\n",
       " 'Tamil Nadu': [],\n",
       " 'Karnataka': [],\n",
       " 'Maharashtra': [],\n",
       " 'Punjab': [],\n",
       " 'Jammu and Kashmir': [],\n",
       " 'Andhra Pradesh': [],\n",
       " 'Uttarakhand': [],\n",
       " 'Odisha': [],\n",
       " 'Puducherry': [],\n",
       " 'West Bengal': [16],\n",
       " 'Chhattisgarh': [],\n",
       " 'Chandigarh': [],\n",
       " 'Gujarat': [],\n",
       " 'Himachal Pradesh': [],\n",
       " 'Madhya Pradesh': [],\n",
       " 'Bihar': [],\n",
       " 'Manipur': [],\n",
       " 'Mizoram': [],\n",
       " 'Andaman and Nicobar Islands': [],\n",
       " 'Goa': [],\n",
       " 'Assam': [],\n",
       " 'Jharkhand': [],\n",
       " 'Arunachal Pradesh': [],\n",
       " 'Tripura': [],\n",
       " 'Nagaland': [],\n",
       " 'Meghalaya': [],\n",
       " 'Dadar Nagar Haveli': [],\n",
       " 'Sikkim': [],\n",
       " 'Dadra and Nagar Haveli and Daman and Diu': []}"
      ]
     },
     "metadata": {},
     "execution_count": 31
    }
   ],
   "source": [
    "check_neg_cured"
   ]
  },
  {
   "cell_type": "code",
   "execution_count": null,
   "metadata": {},
   "outputs": [],
   "source": []
  },
  {
   "source": [
    "# Removing all the entries which are invalid/negative for calculation from Statewise database dictonary "
   ],
   "cell_type": "markdown",
   "metadata": {}
  },
  {
   "cell_type": "code",
   "execution_count": 32,
   "metadata": {},
   "outputs": [],
   "source": [
    "for i in states:\n",
    "    state_dct_df[i] = df[df.State == i].copy().reset_index().drop(['index'],axis=1)"
   ]
  },
  {
   "cell_type": "code",
   "execution_count": 33,
   "metadata": {},
   "outputs": [],
   "source": [
    "for s in states:\n",
    "    state_dct_df[s].drop(check_neg_cured[s],axis=0,inplace=True)\n",
    "    state_dct_df[s].drop(check_neg_deaths[s],axis=0,inplace=True)\n",
    "    state_dct_df[s].drop(check_neg_confirmed[s],axis=0,inplace=True)"
   ]
  },
  {
   "cell_type": "code",
   "execution_count": 34,
   "metadata": {},
   "outputs": [
    {
     "output_type": "execute_result",
     "data": {
      "text/plain": [
       "           State    Cured  Deaths  Confirmed  Month\n",
       "0    Maharashtra        0       0          2      3\n",
       "1    Maharashtra        0       0          5      3\n",
       "3    Maharashtra        0       0         11      3\n",
       "4    Maharashtra        0       0         14      3\n",
       "5    Maharashtra        0       0         14      3\n",
       "..           ...      ...     ...        ...    ...\n",
       "271  Maharashtra  1710050   47599    1842587     12\n",
       "272  Maharashtra  1715884   47694    1847509     12\n",
       "273  Maharashtra  1723370   47734    1852266     12\n",
       "274  Maharashtra  1730715   47774    1855341     12\n",
       "275  Maharashtra  1737080   47827    1859367     12\n",
       "\n",
       "[274 rows x 5 columns]"
      ],
      "text/html": "<div>\n<style scoped>\n    .dataframe tbody tr th:only-of-type {\n        vertical-align: middle;\n    }\n\n    .dataframe tbody tr th {\n        vertical-align: top;\n    }\n\n    .dataframe thead th {\n        text-align: right;\n    }\n</style>\n<table border=\"1\" class=\"dataframe\">\n  <thead>\n    <tr style=\"text-align: right;\">\n      <th></th>\n      <th>State</th>\n      <th>Cured</th>\n      <th>Deaths</th>\n      <th>Confirmed</th>\n      <th>Month</th>\n    </tr>\n  </thead>\n  <tbody>\n    <tr>\n      <th>0</th>\n      <td>Maharashtra</td>\n      <td>0</td>\n      <td>0</td>\n      <td>2</td>\n      <td>3</td>\n    </tr>\n    <tr>\n      <th>1</th>\n      <td>Maharashtra</td>\n      <td>0</td>\n      <td>0</td>\n      <td>5</td>\n      <td>3</td>\n    </tr>\n    <tr>\n      <th>3</th>\n      <td>Maharashtra</td>\n      <td>0</td>\n      <td>0</td>\n      <td>11</td>\n      <td>3</td>\n    </tr>\n    <tr>\n      <th>4</th>\n      <td>Maharashtra</td>\n      <td>0</td>\n      <td>0</td>\n      <td>14</td>\n      <td>3</td>\n    </tr>\n    <tr>\n      <th>5</th>\n      <td>Maharashtra</td>\n      <td>0</td>\n      <td>0</td>\n      <td>14</td>\n      <td>3</td>\n    </tr>\n    <tr>\n      <th>...</th>\n      <td>...</td>\n      <td>...</td>\n      <td>...</td>\n      <td>...</td>\n      <td>...</td>\n    </tr>\n    <tr>\n      <th>271</th>\n      <td>Maharashtra</td>\n      <td>1710050</td>\n      <td>47599</td>\n      <td>1842587</td>\n      <td>12</td>\n    </tr>\n    <tr>\n      <th>272</th>\n      <td>Maharashtra</td>\n      <td>1715884</td>\n      <td>47694</td>\n      <td>1847509</td>\n      <td>12</td>\n    </tr>\n    <tr>\n      <th>273</th>\n      <td>Maharashtra</td>\n      <td>1723370</td>\n      <td>47734</td>\n      <td>1852266</td>\n      <td>12</td>\n    </tr>\n    <tr>\n      <th>274</th>\n      <td>Maharashtra</td>\n      <td>1730715</td>\n      <td>47774</td>\n      <td>1855341</td>\n      <td>12</td>\n    </tr>\n    <tr>\n      <th>275</th>\n      <td>Maharashtra</td>\n      <td>1737080</td>\n      <td>47827</td>\n      <td>1859367</td>\n      <td>12</td>\n    </tr>\n  </tbody>\n</table>\n<p>274 rows × 5 columns</p>\n</div>"
     },
     "metadata": {},
     "execution_count": 34
    }
   ],
   "source": [
    "state_dct_df['Maharashtra']"
   ]
  },
  {
   "source": [
    "## Calculating Updated row count for each state and putting it in dictonary"
   ],
   "cell_type": "markdown",
   "metadata": {}
  },
  {
   "cell_type": "code",
   "execution_count": 35,
   "metadata": {},
   "outputs": [],
   "source": [
    "for i in states:\n",
    "    rows, columns = state_dct_df[i].shape\n",
    "    row_count_dct[i] = rows"
   ]
  },
  {
   "cell_type": "code",
   "execution_count": 36,
   "metadata": {},
   "outputs": [
    {
     "output_type": "execute_result",
     "data": {
      "text/plain": [
       "{'Kerala': 315,\n",
       " 'Telangana': 283,\n",
       " 'Delhi': 283,\n",
       " 'Rajasthan': 281,\n",
       " 'Uttar Pradesh': 280,\n",
       " 'Haryana': 281,\n",
       " 'Ladakh': 278,\n",
       " 'Tamil Nadu': 278,\n",
       " 'Karnataka': 276,\n",
       " 'Maharashtra': 274,\n",
       " 'Punjab': 276,\n",
       " 'Jammu and Kashmir': 276,\n",
       " 'Andhra Pradesh': 273,\n",
       " 'Uttarakhand': 270,\n",
       " 'Odisha': 269,\n",
       " 'Puducherry': 266,\n",
       " 'West Bengal': 266,\n",
       " 'Chhattisgarh': 266,\n",
       " 'Chandigarh': 266,\n",
       " 'Gujarat': 265,\n",
       " 'Himachal Pradesh': 264,\n",
       " 'Madhya Pradesh': 264,\n",
       " 'Bihar': 263,\n",
       " 'Manipur': 261,\n",
       " 'Mizoram': 260,\n",
       " 'Andaman and Nicobar Islands': 259,\n",
       " 'Goa': 259,\n",
       " 'Assam': 253,\n",
       " 'Jharkhand': 252,\n",
       " 'Arunachal Pradesh': 251,\n",
       " 'Tripura': 247,\n",
       " 'Nagaland': 206,\n",
       " 'Meghalaya': 240,\n",
       " 'Dadar Nagar Haveli': 37,\n",
       " 'Sikkim': 200,\n",
       " 'Dadra and Nagar Haveli and Daman and Diu': 181}"
      ]
     },
     "metadata": {},
     "execution_count": 36
    }
   ],
   "source": [
    "row_count_dct"
   ]
  },
  {
   "source": [
    "# Again Calculating Absolute values from cumulative sum"
   ],
   "cell_type": "markdown",
   "metadata": {}
  },
  {
   "cell_type": "code",
   "execution_count": 37,
   "metadata": {},
   "outputs": [],
   "source": [
    "for s in states:\n",
    "    for i in range(row_count_dct[s]-1,0,-1):\n",
    "            state_dct_df[s].iloc[i,1] -= state_dct_df[s].iloc[i-1,1]\n",
    "            state_dct_df[s].iloc[i,2] -= state_dct_df[s].iloc[i-1,2]\n",
    "            state_dct_df[s].iloc[i,3] -= state_dct_df[s].iloc[i-1,3]"
   ]
  },
  {
   "source": [
    "# Summing confirmed cases monthwise"
   ],
   "cell_type": "markdown",
   "metadata": {}
  },
  {
   "cell_type": "code",
   "execution_count": 38,
   "metadata": {},
   "outputs": [
    {
     "output_type": "execute_result",
     "data": {
      "text/plain": [
       "array([ 1,  2,  3,  4,  5,  6,  7,  8,  9, 10, 11, 12])"
      ]
     },
     "metadata": {},
     "execution_count": 38
    }
   ],
   "source": [
    "months = np.arange(1,13,1)\n",
    "months"
   ]
  },
  {
   "cell_type": "code",
   "execution_count": 39,
   "metadata": {},
   "outputs": [
    {
     "output_type": "execute_result",
     "data": {
      "text/plain": [
       "         State  Cured  Deaths  Confirmed  Month\n",
       "0  Maharashtra      0       0          2      3\n",
       "1  Maharashtra      0       0          3      3\n",
       "3  Maharashtra      0       0          6      3\n",
       "4  Maharashtra      0       0          3      3\n",
       "5  Maharashtra      0       0          0      3"
      ],
      "text/html": "<div>\n<style scoped>\n    .dataframe tbody tr th:only-of-type {\n        vertical-align: middle;\n    }\n\n    .dataframe tbody tr th {\n        vertical-align: top;\n    }\n\n    .dataframe thead th {\n        text-align: right;\n    }\n</style>\n<table border=\"1\" class=\"dataframe\">\n  <thead>\n    <tr style=\"text-align: right;\">\n      <th></th>\n      <th>State</th>\n      <th>Cured</th>\n      <th>Deaths</th>\n      <th>Confirmed</th>\n      <th>Month</th>\n    </tr>\n  </thead>\n  <tbody>\n    <tr>\n      <th>0</th>\n      <td>Maharashtra</td>\n      <td>0</td>\n      <td>0</td>\n      <td>2</td>\n      <td>3</td>\n    </tr>\n    <tr>\n      <th>1</th>\n      <td>Maharashtra</td>\n      <td>0</td>\n      <td>0</td>\n      <td>3</td>\n      <td>3</td>\n    </tr>\n    <tr>\n      <th>3</th>\n      <td>Maharashtra</td>\n      <td>0</td>\n      <td>0</td>\n      <td>6</td>\n      <td>3</td>\n    </tr>\n    <tr>\n      <th>4</th>\n      <td>Maharashtra</td>\n      <td>0</td>\n      <td>0</td>\n      <td>3</td>\n      <td>3</td>\n    </tr>\n    <tr>\n      <th>5</th>\n      <td>Maharashtra</td>\n      <td>0</td>\n      <td>0</td>\n      <td>0</td>\n      <td>3</td>\n    </tr>\n  </tbody>\n</table>\n</div>"
     },
     "metadata": {},
     "execution_count": 39
    }
   ],
   "source": [
    "state_dct_df['Maharashtra'].head()"
   ]
  },
  {
   "cell_type": "code",
   "execution_count": 40,
   "metadata": {},
   "outputs": [],
   "source": [
    "month_wise_sum_of_confirmed_cases_dct={}\n",
    "for i in months:\n",
    "    month_wise_sum_of_confirmed_cases_dct[i] = 0\n",
    "for s in states:\n",
    "    for i in range(row_count_dct[s]):\n",
    "        month_wise_sum_of_confirmed_cases_dct[state_dct_df[s].iloc[i,4]] +=  state_dct_df[s].iloc[i,3]"
   ]
  },
  {
   "cell_type": "code",
   "execution_count": 41,
   "metadata": {},
   "outputs": [
    {
     "output_type": "execute_result",
     "data": {
      "text/plain": [
       "{1: 1,\n",
       " 2: 2,\n",
       " 3: 1356,\n",
       " 4: 31971,\n",
       " 5: 143322,\n",
       " 6: 383210,\n",
       " 7: 1079034,\n",
       " 8: 1982375,\n",
       " 9: 2604518,\n",
       " 10: 1911356,\n",
       " 11: 1294572,\n",
       " 12: 304159}"
      ]
     },
     "metadata": {},
     "execution_count": 41
    }
   ],
   "source": [
    "month_wise_sum_of_confirmed_cases_dct"
   ]
  },
  {
   "source": [
    "## Q1.Filter the month in which heighest people are get infected to Covid-19 virus?\n"
   ],
   "cell_type": "markdown",
   "metadata": {}
  },
  {
   "cell_type": "code",
   "execution_count": 42,
   "metadata": {},
   "outputs": [],
   "source": [
    "peak_month = 0\n",
    "peak_val = 0\n",
    "for i in months:\n",
    "    if month_wise_sum_of_confirmed_cases_dct[i]>peak_val:\n",
    "        peak_val = month_wise_sum_of_confirmed_cases_dct[i]\n",
    "        peak_month = i"
   ]
  },
  {
   "cell_type": "code",
   "execution_count": 43,
   "metadata": {},
   "outputs": [
    {
     "output_type": "stream",
     "name": "stdout",
     "text": [
      "Peak Month = 9\nPeak Cases = 2604518\n"
     ]
    }
   ],
   "source": [
    "print(f\"Peak Month = {peak_month}\\nPeak Cases = {peak_val}\")"
   ]
  },
  {
   "source": [
    "# Finding total number months for which data is available for each state \n",
    "## Used for rate calculations "
   ],
   "cell_type": "markdown",
   "metadata": {}
  },
  {
   "cell_type": "code",
   "execution_count": 44,
   "metadata": {},
   "outputs": [],
   "source": [
    "total_months_dct = {}\n",
    "for s in states:\n",
    "    total_months_dct[s] = len(state_dct_df[s]['Month'].unique())"
   ]
  },
  {
   "cell_type": "code",
   "execution_count": 45,
   "metadata": {},
   "outputs": [
    {
     "output_type": "execute_result",
     "data": {
      "text/plain": [
       "{'Kerala': 12,\n",
       " 'Telangana': 10,\n",
       " 'Delhi': 10,\n",
       " 'Rajasthan': 10,\n",
       " 'Uttar Pradesh': 10,\n",
       " 'Haryana': 10,\n",
       " 'Ladakh': 10,\n",
       " 'Tamil Nadu': 10,\n",
       " 'Karnataka': 10,\n",
       " 'Maharashtra': 10,\n",
       " 'Punjab': 10,\n",
       " 'Jammu and Kashmir': 10,\n",
       " 'Andhra Pradesh': 10,\n",
       " 'Uttarakhand': 10,\n",
       " 'Odisha': 10,\n",
       " 'Puducherry': 10,\n",
       " 'West Bengal': 10,\n",
       " 'Chhattisgarh': 10,\n",
       " 'Chandigarh': 10,\n",
       " 'Gujarat': 10,\n",
       " 'Himachal Pradesh': 10,\n",
       " 'Madhya Pradesh': 10,\n",
       " 'Bihar': 10,\n",
       " 'Manipur': 10,\n",
       " 'Mizoram': 10,\n",
       " 'Andaman and Nicobar Islands': 10,\n",
       " 'Goa': 10,\n",
       " 'Assam': 9,\n",
       " 'Jharkhand': 9,\n",
       " 'Arunachal Pradesh': 9,\n",
       " 'Tripura': 9,\n",
       " 'Nagaland': 9,\n",
       " 'Meghalaya': 9,\n",
       " 'Dadar Nagar Haveli': 2,\n",
       " 'Sikkim': 8,\n",
       " 'Dadra and Nagar Haveli and Daman and Diu': 7}"
      ]
     },
     "metadata": {},
     "execution_count": 45
    }
   ],
   "source": [
    "total_months_dct"
   ]
  },
  {
   "source": [
    "# Survival Rate = Total Cured/(Total Confirmed*Total number of months for which data is available)\n",
    "## Q2.Obtain state in which survival rate is high"
   ],
   "cell_type": "markdown",
   "metadata": {}
  },
  {
   "cell_type": "code",
   "execution_count": 46,
   "metadata": {},
   "outputs": [],
   "source": [
    "survival_rate ={}\n",
    "for s in states:\n",
    "    total_confirmed = 0\n",
    "    total_cured = 0\n",
    "    for i in range(row_count_dct[s]):\n",
    "       total_confirmed += state_dct_df[s].iloc[i,3]\n",
    "       total_cured += state_dct_df[s].iloc[i,1]\n",
    "    survival_rate[s] = (total_cured/(total_confirmed*total_months_dct[s]))"
   ]
  },
  {
   "source": [
    "survival_rate"
   ],
   "cell_type": "code",
   "metadata": {},
   "execution_count": 47,
   "outputs": [
    {
     "output_type": "execute_result",
     "data": {
      "text/plain": [
       "{'Kerala': 0.07527462555995384,\n",
       " 'Telangana': 0.09667915178684958,\n",
       " 'Delhi': 0.09462864588217956,\n",
       " 'Rajasthan': 0.09178398963803516,\n",
       " 'Uttar Pradesh': 0.09474338601114708,\n",
       " 'Haryana': 0.09409313318117878,\n",
       " 'Ladakh': 0.08982049280856283,\n",
       " 'Tamil Nadu': 0.09717326700202324,\n",
       " 'Karnataka': 0.09587683908123008,\n",
       " 'Maharashtra': 0.09342319187121209,\n",
       " 'Punjab': 0.0922214948103044,\n",
       " 'Jammu and Kashmir': 0.09407565899086269,\n",
       " 'Andhra Pradesh': 0.09857121416435334,\n",
       " 'Uttarakhand': 0.09152651596517608,\n",
       " 'Odisha': 0.09846449195900756,\n",
       " 'Puducherry': 0.09731178472836428,\n",
       " 'West Bengal': 0.09358851957204303,\n",
       " 'Chhattisgarh': 0.09097273116832666,\n",
       " 'Chandigarh': 0.09310269203355447,\n",
       " 'Gujarat': 0.09170086639306886,\n",
       " 'Himachal Pradesh': 0.08197008722754918,\n",
       " 'Madhya Pradesh': 0.09234337465830963,\n",
       " 'Bihar': 0.09717577155464187,\n",
       " 'Manipur': 0.08776329746931354,\n",
       " 'Mizoram': 0.09484536082474226,\n",
       " 'Andaman and Nicobar Islands': 0.09725826705734616,\n",
       " 'Goa': 0.0958904669459487,\n",
       " 'Assam': 0.10873749007746457,\n",
       " 'Jharkhand': 0.10835841490493105,\n",
       " 'Arunachal Pradesh': 0.10606152785382572,\n",
       " 'Tripura': 0.10849395457074923,\n",
       " 'Nagaland': 0.1043548121690817,\n",
       " 'Meghalaya': 0.10462888351687707,\n",
       " 'Dadar Nagar Haveli': 0.038461538461538464,\n",
       " 'Sikkim': 0.11349472674976031,\n",
       " 'Dadra and Nagar Haveli and Daman and Diu': 0.14196188770942575}"
      ]
     },
     "metadata": {},
     "execution_count": 47
    }
   ]
  },
  {
   "cell_type": "code",
   "execution_count": 48,
   "metadata": {},
   "outputs": [
    {
     "output_type": "stream",
     "name": "stdout",
     "text": [
      "State with maximum Survival Rate (per month) = \"Dadra and Nagar Haveli and Daman and Diu\"\nSurvival Rate (per month) = 0.14196188770942575\n"
     ]
    }
   ],
   "source": [
    "max_survival_rate_state = 0\n",
    "max_survival_rate = 0\n",
    "for i in states:\n",
    "    if survival_rate[i]>max_survival_rate:\n",
    "        max_survival_rate = survival_rate[i]\n",
    "        max_survival_rate_state = i\n",
    "\n",
    "print(f'State with maximum Survival Rate (per month) = \"{max_survival_rate_state}\"\\nSurvival Rate (per month) = {max_survival_rate}')"
   ]
  },
  {
   "source": [
    "state_dct_df['Dadra and Nagar Haveli and Daman and Diu']"
   ],
   "cell_type": "code",
   "metadata": {},
   "execution_count": 49,
   "outputs": [
    {
     "output_type": "execute_result",
     "data": {
      "text/plain": [
       "                                        State  Cured  Deaths  Confirmed  Month\n",
       "0    Dadra and Nagar Haveli and Daman and Diu      2       0         30      6\n",
       "1    Dadra and Nagar Haveli and Daman and Diu      0       0          0      6\n",
       "2    Dadra and Nagar Haveli and Daman and Diu      0       0          5      6\n",
       "3    Dadra and Nagar Haveli and Daman and Diu      0       0          1      6\n",
       "4    Dadra and Nagar Haveli and Daman and Diu      3       0          0      6\n",
       "..                                        ...    ...     ...        ...    ...\n",
       "176  Dadra and Nagar Haveli and Daman and Diu      2       0          0     12\n",
       "177  Dadra and Nagar Haveli and Daman and Diu      0       0          1     12\n",
       "178  Dadra and Nagar Haveli and Daman and Diu      0       0          1     12\n",
       "179  Dadra and Nagar Haveli and Daman and Diu      2       0          4     12\n",
       "180  Dadra and Nagar Haveli and Daman and Diu      2       0          5     12\n",
       "\n",
       "[181 rows x 5 columns]"
      ],
      "text/html": "<div>\n<style scoped>\n    .dataframe tbody tr th:only-of-type {\n        vertical-align: middle;\n    }\n\n    .dataframe tbody tr th {\n        vertical-align: top;\n    }\n\n    .dataframe thead th {\n        text-align: right;\n    }\n</style>\n<table border=\"1\" class=\"dataframe\">\n  <thead>\n    <tr style=\"text-align: right;\">\n      <th></th>\n      <th>State</th>\n      <th>Cured</th>\n      <th>Deaths</th>\n      <th>Confirmed</th>\n      <th>Month</th>\n    </tr>\n  </thead>\n  <tbody>\n    <tr>\n      <th>0</th>\n      <td>Dadra and Nagar Haveli and Daman and Diu</td>\n      <td>2</td>\n      <td>0</td>\n      <td>30</td>\n      <td>6</td>\n    </tr>\n    <tr>\n      <th>1</th>\n      <td>Dadra and Nagar Haveli and Daman and Diu</td>\n      <td>0</td>\n      <td>0</td>\n      <td>0</td>\n      <td>6</td>\n    </tr>\n    <tr>\n      <th>2</th>\n      <td>Dadra and Nagar Haveli and Daman and Diu</td>\n      <td>0</td>\n      <td>0</td>\n      <td>5</td>\n      <td>6</td>\n    </tr>\n    <tr>\n      <th>3</th>\n      <td>Dadra and Nagar Haveli and Daman and Diu</td>\n      <td>0</td>\n      <td>0</td>\n      <td>1</td>\n      <td>6</td>\n    </tr>\n    <tr>\n      <th>4</th>\n      <td>Dadra and Nagar Haveli and Daman and Diu</td>\n      <td>3</td>\n      <td>0</td>\n      <td>0</td>\n      <td>6</td>\n    </tr>\n    <tr>\n      <th>...</th>\n      <td>...</td>\n      <td>...</td>\n      <td>...</td>\n      <td>...</td>\n      <td>...</td>\n    </tr>\n    <tr>\n      <th>176</th>\n      <td>Dadra and Nagar Haveli and Daman and Diu</td>\n      <td>2</td>\n      <td>0</td>\n      <td>0</td>\n      <td>12</td>\n    </tr>\n    <tr>\n      <th>177</th>\n      <td>Dadra and Nagar Haveli and Daman and Diu</td>\n      <td>0</td>\n      <td>0</td>\n      <td>1</td>\n      <td>12</td>\n    </tr>\n    <tr>\n      <th>178</th>\n      <td>Dadra and Nagar Haveli and Daman and Diu</td>\n      <td>0</td>\n      <td>0</td>\n      <td>1</td>\n      <td>12</td>\n    </tr>\n    <tr>\n      <th>179</th>\n      <td>Dadra and Nagar Haveli and Daman and Diu</td>\n      <td>2</td>\n      <td>0</td>\n      <td>4</td>\n      <td>12</td>\n    </tr>\n    <tr>\n      <th>180</th>\n      <td>Dadra and Nagar Haveli and Daman and Diu</td>\n      <td>2</td>\n      <td>0</td>\n      <td>5</td>\n      <td>12</td>\n    </tr>\n  </tbody>\n</table>\n<p>181 rows × 5 columns</p>\n</div>"
     },
     "metadata": {},
     "execution_count": 49
    }
   ]
  },
  {
   "source": [
    "# Death Rate = Total Deaths/(Total Confirmed*Total number of months for which data is available)\n",
    "## Q3.Check for state in which death rate is more than 1%"
   ],
   "cell_type": "markdown",
   "metadata": {}
  },
  {
   "cell_type": "code",
   "execution_count": 50,
   "metadata": {},
   "outputs": [],
   "source": [
    "death_rate ={}\n",
    "for s in states:\n",
    "    total_confirmed = 0\n",
    "    total_deaths = 0\n",
    "    for i in range(row_count_dct[s]):\n",
    "       total_confirmed += state_dct_df[s].iloc[i,3]\n",
    "       total_deaths += state_dct_df[s].iloc[i,2]\n",
    "    death_rate[s] = (total_deaths/(total_confirmed*total_months_dct[s]))"
   ]
  },
  {
   "source": [
    "death_rate"
   ],
   "cell_type": "code",
   "metadata": {},
   "execution_count": 51,
   "outputs": [
    {
     "output_type": "execute_result",
     "data": {
      "text/plain": [
       "{'Kerala': 0.0003195304453571916,\n",
       " 'Telangana': 0.0005376715190310288,\n",
       " 'Delhi': 0.0016350366430418414,\n",
       " 'Rajasthan': 0.0008686592800123893,\n",
       " 'Uttar Pradesh': 0.001427335252690474,\n",
       " 'Haryana': 0.0010637305972539212,\n",
       " 'Ladakh': 0.0013602408295239157,\n",
       " 'Tamil Nadu': 0.0014911931058492309,\n",
       " 'Karnataka': 0.001326953234951144,\n",
       " 'Maharashtra': 0.002572219470389654,\n",
       " 'Punjab': 0.003155131537967724,\n",
       " 'Jammu and Kashmir': 0.001544222101404795,\n",
       " 'Andhra Pradesh': 0.0008067925470791291,\n",
       " 'Uttarakhand': 0.0016514827965277163,\n",
       " 'Odisha': 0.0005541870008356295,\n",
       " 'Puducherry': 0.001648307469647021,\n",
       " 'West Bengal': 0.0017362375613933208,\n",
       " 'Chhattisgarh': 0.0012114585961497642,\n",
       " 'Chandigarh': 0.0016228959921048302,\n",
       " 'Gujarat': 0.001855589115683114,\n",
       " 'Himachal Pradesh': 0.0016298348520594793,\n",
       " 'Madhya Pradesh': 0.001545314815326136,\n",
       " 'Bihar': 0.0005432012100851573,\n",
       " 'Manipur': 0.0011782088195181088,\n",
       " 'Mizoram': 0.00015086748805632387,\n",
       " 'Andaman and Nicobar Islands': 0.0012766848053578903,\n",
       " 'Goa': 0.001432512516603658,\n",
       " 'Assam': 0.0005176072114054256,\n",
       " 'Jharkhand': 0.0009922159254673107,\n",
       " 'Arunachal Pradesh': 0.0003717899319286434,\n",
       " 'Tripura': 0.0012579889040656986,\n",
       " 'Nagaland': 0.0006485272623437968,\n",
       " 'Meghalaya': 0.00109230906974662,\n",
       " 'Dadar Nagar Haveli': 0.0,\n",
       " 'Sikkim': 0.002804410354745925,\n",
       " 'Dadra and Nagar Haveli and Daman and Diu': 8.526239502067613e-05}"
      ]
     },
     "metadata": {},
     "execution_count": 51
    }
   ]
  },
  {
   "cell_type": "code",
   "execution_count": 52,
   "metadata": {},
   "outputs": [],
   "source": [
    "states_with_death_rate_more_than_one_percent = []\n",
    "for i in states:\n",
    "    if death_rate[i]>0.01:\n",
    "        states_with_death_rate_more_than_one_percent.append(i)"
   ]
  },
  {
   "cell_type": "code",
   "execution_count": 53,
   "metadata": {},
   "outputs": [
    {
     "output_type": "stream",
     "name": "stdout",
     "text": [
      "States with death rate of more than 1%  (per month) :\n\nNo states have death rate of more than 1%\n"
     ]
    }
   ],
   "source": [
    "print('States with death rate of more than 1%  (per month) :\\n')\n",
    "if(not bool(states_with_death_rate_more_than_one_percent)):     # checking if dictonary is empty\n",
    "    print(\"No states have death rate of more than 1%\")\n",
    "else:\n",
    "    for i in states_with_death_rate_more_than_one_percent:\n",
    "        print(i)"
   ]
  },
  {
   "source": [
    "# Q. Filter the month in which heighest people are get infected to Covid-19 virus?"
   ],
   "cell_type": "markdown",
   "metadata": {}
  },
  {
   "source": [
    "print(f\"Peak Month = {peak_month}\\nPeak Cases = {peak_val}\")"
   ],
   "cell_type": "code",
   "metadata": {},
   "execution_count": 54,
   "outputs": [
    {
     "output_type": "stream",
     "name": "stdout",
     "text": [
      "Peak Month = 9\nPeak Cases = 2604518\n"
     ]
    }
   ]
  },
  {
   "source": [
    "# Q. Obtain state in which survival rate is high."
   ],
   "cell_type": "markdown",
   "metadata": {}
  },
  {
   "cell_type": "code",
   "execution_count": 55,
   "metadata": {},
   "outputs": [
    {
     "output_type": "stream",
     "name": "stdout",
     "text": [
      "State with maximum Survival Rate (per month) = \"Dadra and Nagar Haveli and Daman and Diu\"\nSurvival Rate (per month) = 0.14196188770942575\n"
     ]
    }
   ],
   "source": [
    "print(f'State with maximum Survival Rate (per month) = \"{max_survival_rate_state}\"\\nSurvival Rate (per month) = {max_survival_rate}')"
   ]
  },
  {
   "source": [
    "# Q. Check for state in which death rate is more than 1%"
   ],
   "cell_type": "markdown",
   "metadata": {}
  },
  {
   "cell_type": "code",
   "execution_count": 56,
   "metadata": {},
   "outputs": [
    {
     "output_type": "stream",
     "name": "stdout",
     "text": [
      "No state has death rate of more than 1% (per month).\n"
     ]
    }
   ],
   "source": [
    "if(not bool(states_with_death_rate_more_than_one_percent)):     # checking if dictonary is empty\n",
    "    print(\"No state has death rate of more than 1% (per month).\")\n",
    "else:\n",
    "    print('States with death rate of more than 1% (per month):\\n')\n",
    "    for i in states_with_death_rate_more_than_one_percent:\n",
    "        print(i)"
   ]
  }
 ]
}