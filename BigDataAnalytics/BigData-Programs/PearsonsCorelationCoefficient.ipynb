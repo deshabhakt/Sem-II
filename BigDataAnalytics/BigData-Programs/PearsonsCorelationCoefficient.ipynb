{
 "metadata": {
  "language_info": {
   "codemirror_mode": {
    "name": "ipython",
    "version": 3
   },
   "file_extension": ".py",
   "mimetype": "text/x-python",
   "name": "python",
   "nbconvert_exporter": "python",
   "pygments_lexer": "ipython3",
   "version": "3.8.5"
  },
  "orig_nbformat": 2,
  "kernelspec": {
   "name": "python385jvsc74a57bd031f2aee4e71d21fbe5cf8b01ff0e069b9275f58929596ceb00d14d90e3e16cd6",
   "display_name": "Python 3.8.5 64-bit ('usr')"
  }
 },
 "nbformat": 4,
 "nbformat_minor": 2,
 "cells": [
  {
   "cell_type": "code",
   "execution_count": 1,
   "metadata": {},
   "outputs": [],
   "source": [
    "import numpy as np"
   ]
  },
  {
   "cell_type": "code",
   "execution_count": 2,
   "metadata": {},
   "outputs": [],
   "source": [
    "x = np.array([4.5, 3.0, 2.5, 4.0, 3.0])\n",
    "y = np.array([4.0, 4.0, 3.0, 3.0, 2.0])"
   ]
  },
  {
   "cell_type": "code",
   "execution_count": 3,
   "metadata": {},
   "outputs": [],
   "source": [
    "n = len(x)\n",
    "x_bar = sum(x)/n\n",
    "y_bar = sum(y)/n\n",
    "\n",
    "numerator = 0\n",
    "d1 = 0\n",
    "d2 = 0\n",
    "for i in range(n):\n",
    "    numerator +=(x[i]-x_bar)*(y[i]-y_bar)\n",
    "    d1 += (x[i]-x_bar)**(2)\n",
    "    d2 += (y[i]-y_bar)**(2)\n",
    "\n",
    "r = numerator/(d1*d2)**(1/2)"
   ]
  },
  {
   "cell_type": "code",
   "execution_count": 4,
   "metadata": {},
   "outputs": [
    {
     "output_type": "execute_result",
     "data": {
      "text/plain": [
       "0.4000661320993194"
      ]
     },
     "metadata": {},
     "execution_count": 4
    }
   ],
   "source": [
    "r"
   ]
  }
 ]
}