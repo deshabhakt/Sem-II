{
 "cells": [
  {
   "cell_type": "markdown",
   "metadata": {},
   "source": [
    "# Importing Necessary Libraries"
   ]
  },
  {
   "cell_type": "code",
   "execution_count": 1,
   "metadata": {},
   "outputs": [],
   "source": [
    "import pandas as pd\n",
    "import numpy as np\n",
    "import matplotlib.pyplot as plt\n",
    "import _pickle as pickle"
   ]
  },
  {
   "cell_type": "markdown",
   "metadata": {},
   "source": [
    "# Importing Database"
   ]
  },
  {
   "cell_type": "code",
   "execution_count": 2,
   "metadata": {},
   "outputs": [],
   "source": [
    "df = pd.read_csv('Complete Database.csv')"
   ]
  },
  {
   "cell_type": "code",
   "execution_count": 3,
   "metadata": {},
   "outputs": [
    {
     "data": {
      "text/html": [
       "<div>\n",
       "<style scoped>\n",
       "    .dataframe tbody tr th:only-of-type {\n",
       "        vertical-align: middle;\n",
       "    }\n",
       "\n",
       "    .dataframe tbody tr th {\n",
       "        vertical-align: top;\n",
       "    }\n",
       "\n",
       "    .dataframe thead th {\n",
       "        text-align: right;\n",
       "    }\n",
       "</style>\n",
       "<table border=\"1\" class=\"dataframe\">\n",
       "  <thead>\n",
       "    <tr style=\"text-align: right;\">\n",
       "      <th></th>\n",
       "      <th>Unnamed: 0</th>\n",
       "      <th>Authors</th>\n",
       "      <th>Title</th>\n",
       "      <th>Year</th>\n",
       "      <th>Cited by</th>\n",
       "      <th>Country</th>\n",
       "    </tr>\n",
       "  </thead>\n",
       "  <tbody>\n",
       "    <tr>\n",
       "      <th>23567</th>\n",
       "      <td>0</td>\n",
       "      <td>Jayadeva, Khemchandani, R., Chandra, S.</td>\n",
       "      <td>Twin support vector machines for pattern class...</td>\n",
       "      <td>2007</td>\n",
       "      <td>958.0</td>\n",
       "      <td>India</td>\n",
       "    </tr>\n",
       "    <tr>\n",
       "      <th>23568</th>\n",
       "      <td>1</td>\n",
       "      <td>Ravi, K., Ravi, V.</td>\n",
       "      <td>A survey on opinion mining and sentiment analy...</td>\n",
       "      <td>2015</td>\n",
       "      <td>617.0</td>\n",
       "      <td>India</td>\n",
       "    </tr>\n",
       "    <tr>\n",
       "      <th>23569</th>\n",
       "      <td>2</td>\n",
       "      <td>Varma, M., Zisserman, A.</td>\n",
       "      <td>A statistical approach to material classificat...</td>\n",
       "      <td>2009</td>\n",
       "      <td>479.0</td>\n",
       "      <td>India</td>\n",
       "    </tr>\n",
       "    <tr>\n",
       "      <th>23570</th>\n",
       "      <td>3</td>\n",
       "      <td>Nayak, P.C., Sudheer, K.P., Rangan, D.M., Rama...</td>\n",
       "      <td>A neuro-fuzzy computing technique for modeling...</td>\n",
       "      <td>2004</td>\n",
       "      <td>466.0</td>\n",
       "      <td>India</td>\n",
       "    </tr>\n",
       "    <tr>\n",
       "      <th>23571</th>\n",
       "      <td>4</td>\n",
       "      <td>Kale, A., Sundaresan, A., Rajagopalan, A.N., C...</td>\n",
       "      <td>Identification of humans using gait</td>\n",
       "      <td>2004</td>\n",
       "      <td>445.0</td>\n",
       "      <td>India</td>\n",
       "    </tr>\n",
       "    <tr>\n",
       "      <th>...</th>\n",
       "      <td>...</td>\n",
       "      <td>...</td>\n",
       "      <td>...</td>\n",
       "      <td>...</td>\n",
       "      <td>...</td>\n",
       "      <td>...</td>\n",
       "    </tr>\n",
       "    <tr>\n",
       "      <th>28945</th>\n",
       "      <td>5378</td>\n",
       "      <td>Narasimhan, R.</td>\n",
       "      <td>Artificial intelligence in fifth generation co...</td>\n",
       "      <td>1986</td>\n",
       "      <td>0.0</td>\n",
       "      <td>India</td>\n",
       "    </tr>\n",
       "    <tr>\n",
       "      <th>28946</th>\n",
       "      <td>5379</td>\n",
       "      <td>Ramani, S., Chandrasekar, R.</td>\n",
       "      <td>Partitioning computations and parallel processing</td>\n",
       "      <td>1986</td>\n",
       "      <td>0.0</td>\n",
       "      <td>India</td>\n",
       "    </tr>\n",
       "    <tr>\n",
       "      <th>28947</th>\n",
       "      <td>5380</td>\n",
       "      <td>Krishna, M.H., Murty, N.M.</td>\n",
       "      <td>A conceptual clustering scheme for frame-based...</td>\n",
       "      <td>1986</td>\n",
       "      <td>0.0</td>\n",
       "      <td>India</td>\n",
       "    </tr>\n",
       "    <tr>\n",
       "      <th>28948</th>\n",
       "      <td>5381</td>\n",
       "      <td>Krishnamurthy, E.V., Subramanian, K., Mahadeva...</td>\n",
       "      <td>Formal description, compression and transforma...</td>\n",
       "      <td>1974</td>\n",
       "      <td>0.0</td>\n",
       "      <td>India</td>\n",
       "    </tr>\n",
       "    <tr>\n",
       "      <th>28949</th>\n",
       "      <td>5382</td>\n",
       "      <td>Aggarwal, G.K.</td>\n",
       "      <td>On negative character of information</td>\n",
       "      <td>1968</td>\n",
       "      <td>0.0</td>\n",
       "      <td>India</td>\n",
       "    </tr>\n",
       "  </tbody>\n",
       "</table>\n",
       "<p>5383 rows × 6 columns</p>\n",
       "</div>"
      ],
      "text/plain": [
       "       Unnamed: 0                                            Authors  \\\n",
       "23567           0            Jayadeva, Khemchandani, R., Chandra, S.   \n",
       "23568           1                                 Ravi, K., Ravi, V.   \n",
       "23569           2                           Varma, M., Zisserman, A.   \n",
       "23570           3  Nayak, P.C., Sudheer, K.P., Rangan, D.M., Rama...   \n",
       "23571           4  Kale, A., Sundaresan, A., Rajagopalan, A.N., C...   \n",
       "...           ...                                                ...   \n",
       "28945        5378                                     Narasimhan, R.   \n",
       "28946        5379                       Ramani, S., Chandrasekar, R.   \n",
       "28947        5380                         Krishna, M.H., Murty, N.M.   \n",
       "28948        5381  Krishnamurthy, E.V., Subramanian, K., Mahadeva...   \n",
       "28949        5382                                     Aggarwal, G.K.   \n",
       "\n",
       "                                                   Title  Year  Cited by  \\\n",
       "23567  Twin support vector machines for pattern class...  2007     958.0   \n",
       "23568  A survey on opinion mining and sentiment analy...  2015     617.0   \n",
       "23569  A statistical approach to material classificat...  2009     479.0   \n",
       "23570  A neuro-fuzzy computing technique for modeling...  2004     466.0   \n",
       "23571                Identification of humans using gait  2004     445.0   \n",
       "...                                                  ...   ...       ...   \n",
       "28945  Artificial intelligence in fifth generation co...  1986       0.0   \n",
       "28946  Partitioning computations and parallel processing  1986       0.0   \n",
       "28947  A conceptual clustering scheme for frame-based...  1986       0.0   \n",
       "28948  Formal description, compression and transforma...  1974       0.0   \n",
       "28949               On negative character of information  1968       0.0   \n",
       "\n",
       "      Country  \n",
       "23567   India  \n",
       "23568   India  \n",
       "23569   India  \n",
       "23570   India  \n",
       "23571   India  \n",
       "...       ...  \n",
       "28945   India  \n",
       "28946   India  \n",
       "28947   India  \n",
       "28948   India  \n",
       "28949   India  \n",
       "\n",
       "[5383 rows x 6 columns]"
      ]
     },
     "execution_count": 3,
     "metadata": {},
     "output_type": "execute_result"
    }
   ],
   "source": [
    "df[df.Country=='India']"
   ]
  },
  {
   "cell_type": "code",
   "execution_count": 4,
   "metadata": {},
   "outputs": [
    {
     "data": {
      "text/html": [
       "<div>\n",
       "<style scoped>\n",
       "    .dataframe tbody tr th:only-of-type {\n",
       "        vertical-align: middle;\n",
       "    }\n",
       "\n",
       "    .dataframe tbody tr th {\n",
       "        vertical-align: top;\n",
       "    }\n",
       "\n",
       "    .dataframe thead th {\n",
       "        text-align: right;\n",
       "    }\n",
       "</style>\n",
       "<table border=\"1\" class=\"dataframe\">\n",
       "  <thead>\n",
       "    <tr style=\"text-align: right;\">\n",
       "      <th></th>\n",
       "      <th>Unnamed: 0</th>\n",
       "      <th>Authors</th>\n",
       "      <th>Title</th>\n",
       "      <th>Year</th>\n",
       "      <th>Cited by</th>\n",
       "      <th>Country</th>\n",
       "    </tr>\n",
       "  </thead>\n",
       "  <tbody>\n",
       "    <tr>\n",
       "      <th>0</th>\n",
       "      <td>0</td>\n",
       "      <td>Soares, J.V.B., Leandro, J.J.G., Cesar Jr., R....</td>\n",
       "      <td>Retinal vessel segmentation using the 2-D Gabo...</td>\n",
       "      <td>2006</td>\n",
       "      <td>1083.0</td>\n",
       "      <td>Australia</td>\n",
       "    </tr>\n",
       "    <tr>\n",
       "      <th>1</th>\n",
       "      <td>1</td>\n",
       "      <td>Scarselli, F., Gori, M., Tsoi, A.C., Hagenbuch...</td>\n",
       "      <td>The graph neural network model</td>\n",
       "      <td>2009</td>\n",
       "      <td>1031.0</td>\n",
       "      <td>Australia</td>\n",
       "    </tr>\n",
       "    <tr>\n",
       "      <th>2</th>\n",
       "      <td>2</td>\n",
       "      <td>Karantonis, D.M., Narayanan, M.R., Mathie, M.,...</td>\n",
       "      <td>Implementation of a real-time human movement c...</td>\n",
       "      <td>2006</td>\n",
       "      <td>908.0</td>\n",
       "      <td>Australia</td>\n",
       "    </tr>\n",
       "    <tr>\n",
       "      <th>3</th>\n",
       "      <td>3</td>\n",
       "      <td>Mirjalili, S.</td>\n",
       "      <td>Dragonfly algorithm: a new meta-heuristic opti...</td>\n",
       "      <td>2016</td>\n",
       "      <td>865.0</td>\n",
       "      <td>Australia</td>\n",
       "    </tr>\n",
       "    <tr>\n",
       "      <th>4</th>\n",
       "      <td>4</td>\n",
       "      <td>Naseem, I., Togneri, R., Bennamoun, M.</td>\n",
       "      <td>Linear regression for face recognition</td>\n",
       "      <td>2010</td>\n",
       "      <td>768.0</td>\n",
       "      <td>Australia</td>\n",
       "    </tr>\n",
       "  </tbody>\n",
       "</table>\n",
       "</div>"
      ],
      "text/plain": [
       "   Unnamed: 0                                            Authors  \\\n",
       "0           0  Soares, J.V.B., Leandro, J.J.G., Cesar Jr., R....   \n",
       "1           1  Scarselli, F., Gori, M., Tsoi, A.C., Hagenbuch...   \n",
       "2           2  Karantonis, D.M., Narayanan, M.R., Mathie, M.,...   \n",
       "3           3                                      Mirjalili, S.   \n",
       "4           4             Naseem, I., Togneri, R., Bennamoun, M.   \n",
       "\n",
       "                                               Title  Year  Cited by  \\\n",
       "0  Retinal vessel segmentation using the 2-D Gabo...  2006    1083.0   \n",
       "1                     The graph neural network model  2009    1031.0   \n",
       "2  Implementation of a real-time human movement c...  2006     908.0   \n",
       "3  Dragonfly algorithm: a new meta-heuristic opti...  2016     865.0   \n",
       "4             Linear regression for face recognition  2010     768.0   \n",
       "\n",
       "     Country  \n",
       "0  Australia  \n",
       "1  Australia  \n",
       "2  Australia  \n",
       "3  Australia  \n",
       "4  Australia  "
      ]
     },
     "execution_count": 4,
     "metadata": {},
     "output_type": "execute_result"
    }
   ],
   "source": [
    "df.head()"
   ]
  },
  {
   "cell_type": "code",
   "execution_count": 5,
   "metadata": {},
   "outputs": [],
   "source": [
    "df.drop('Unnamed: 0',axis='columns',inplace=True)"
   ]
  },
  {
   "cell_type": "code",
   "execution_count": 6,
   "metadata": {},
   "outputs": [],
   "source": [
    "df = df.rename(columns={'Cited by':'Cited_by'})"
   ]
  },
  {
   "cell_type": "code",
   "execution_count": 7,
   "metadata": {},
   "outputs": [
    {
     "data": {
      "text/html": [
       "<div>\n",
       "<style scoped>\n",
       "    .dataframe tbody tr th:only-of-type {\n",
       "        vertical-align: middle;\n",
       "    }\n",
       "\n",
       "    .dataframe tbody tr th {\n",
       "        vertical-align: top;\n",
       "    }\n",
       "\n",
       "    .dataframe thead th {\n",
       "        text-align: right;\n",
       "    }\n",
       "</style>\n",
       "<table border=\"1\" class=\"dataframe\">\n",
       "  <thead>\n",
       "    <tr style=\"text-align: right;\">\n",
       "      <th></th>\n",
       "      <th>Authors</th>\n",
       "      <th>Title</th>\n",
       "      <th>Year</th>\n",
       "      <th>Cited_by</th>\n",
       "      <th>Country</th>\n",
       "    </tr>\n",
       "  </thead>\n",
       "  <tbody>\n",
       "    <tr>\n",
       "      <th>0</th>\n",
       "      <td>Soares, J.V.B., Leandro, J.J.G., Cesar Jr., R....</td>\n",
       "      <td>Retinal vessel segmentation using the 2-D Gabo...</td>\n",
       "      <td>2006</td>\n",
       "      <td>1083.0</td>\n",
       "      <td>Australia</td>\n",
       "    </tr>\n",
       "    <tr>\n",
       "      <th>1</th>\n",
       "      <td>Scarselli, F., Gori, M., Tsoi, A.C., Hagenbuch...</td>\n",
       "      <td>The graph neural network model</td>\n",
       "      <td>2009</td>\n",
       "      <td>1031.0</td>\n",
       "      <td>Australia</td>\n",
       "    </tr>\n",
       "    <tr>\n",
       "      <th>2</th>\n",
       "      <td>Karantonis, D.M., Narayanan, M.R., Mathie, M.,...</td>\n",
       "      <td>Implementation of a real-time human movement c...</td>\n",
       "      <td>2006</td>\n",
       "      <td>908.0</td>\n",
       "      <td>Australia</td>\n",
       "    </tr>\n",
       "    <tr>\n",
       "      <th>3</th>\n",
       "      <td>Mirjalili, S.</td>\n",
       "      <td>Dragonfly algorithm: a new meta-heuristic opti...</td>\n",
       "      <td>2016</td>\n",
       "      <td>865.0</td>\n",
       "      <td>Australia</td>\n",
       "    </tr>\n",
       "    <tr>\n",
       "      <th>4</th>\n",
       "      <td>Naseem, I., Togneri, R., Bennamoun, M.</td>\n",
       "      <td>Linear regression for face recognition</td>\n",
       "      <td>2010</td>\n",
       "      <td>768.0</td>\n",
       "      <td>Australia</td>\n",
       "    </tr>\n",
       "  </tbody>\n",
       "</table>\n",
       "</div>"
      ],
      "text/plain": [
       "                                             Authors  \\\n",
       "0  Soares, J.V.B., Leandro, J.J.G., Cesar Jr., R....   \n",
       "1  Scarselli, F., Gori, M., Tsoi, A.C., Hagenbuch...   \n",
       "2  Karantonis, D.M., Narayanan, M.R., Mathie, M.,...   \n",
       "3                                      Mirjalili, S.   \n",
       "4             Naseem, I., Togneri, R., Bennamoun, M.   \n",
       "\n",
       "                                               Title  Year  Cited_by  \\\n",
       "0  Retinal vessel segmentation using the 2-D Gabo...  2006    1083.0   \n",
       "1                     The graph neural network model  2009    1031.0   \n",
       "2  Implementation of a real-time human movement c...  2006     908.0   \n",
       "3  Dragonfly algorithm: a new meta-heuristic opti...  2016     865.0   \n",
       "4             Linear regression for face recognition  2010     768.0   \n",
       "\n",
       "     Country  \n",
       "0  Australia  \n",
       "1  Australia  \n",
       "2  Australia  \n",
       "3  Australia  \n",
       "4  Australia  "
      ]
     },
     "execution_count": 7,
     "metadata": {},
     "output_type": "execute_result"
    }
   ],
   "source": [
    "df.head()"
   ]
  },
  {
   "cell_type": "code",
   "execution_count": 8,
   "metadata": {},
   "outputs": [],
   "source": [
    "df_without_countries = df.drop('Country',axis='columns')"
   ]
  },
  {
   "cell_type": "code",
   "execution_count": 9,
   "metadata": {},
   "outputs": [],
   "source": [
    "df_without_countries = df_without_countries.drop_duplicates(subset=['Title'],keep='first')"
   ]
  },
  {
   "cell_type": "code",
   "execution_count": 10,
   "metadata": {},
   "outputs": [
    {
     "data": {
      "text/plain": [
       "(59215, 4)"
      ]
     },
     "execution_count": 10,
     "metadata": {},
     "output_type": "execute_result"
    }
   ],
   "source": [
    "df_without_countries.shape"
   ]
  },
  {
   "cell_type": "markdown",
   "metadata": {},
   "source": [
    "# Generating Author:database dictonary"
   ]
  },
  {
   "cell_type": "code",
   "execution_count": 11,
   "metadata": {},
   "outputs": [],
   "source": [
    "authors_lst = list(df_without_countries.loc[:,'Authors'].values)"
   ]
  },
  {
   "cell_type": "code",
   "execution_count": 12,
   "metadata": {},
   "outputs": [
    {
     "name": "stdout",
     "output_type": "stream",
     "text": [
      "Soares, J.V.B., Leandro, J.J.G., Cesar Jr., R.M., Jelinek, H.F., Cree, M.J.\n"
     ]
    }
   ],
   "source": [
    "print(authors_lst[0])"
   ]
  },
  {
   "cell_type": "code",
   "execution_count": 13,
   "metadata": {},
   "outputs": [
    {
     "data": {
      "text/plain": [
       "59215"
      ]
     },
     "execution_count": 13,
     "metadata": {},
     "output_type": "execute_result"
    }
   ],
   "source": [
    "len(authors_lst)"
   ]
  },
  {
   "cell_type": "code",
   "execution_count": 14,
   "metadata": {
    "tags": []
   },
   "outputs": [
    {
     "data": {
      "text/plain": [
       "\"\\nset_authors = ['Jayadeva', 'Khemchandani, R.', 'Chandra, S.']\\nfor i in range(len(authors_lst)):\\n    authors_sub_lst = authors_lst[i].split(',')\\n    authors_sub_lst_mod = []\\n    if authors_sub_lst == 'Jayadeva, Khemchandani, R., Chandra, S.'.split(','):\\n        continue\\n    for j in range(0,len(authors_sub_lst)-1,2):\\n        authors_sub_lst_mod.append(authors_sub_lst[j].strip()+','+authors_sub_lst[j+1])\\n\\n    for author in authors_sub_lst_mod:\\n        if(author not in set_authors):\\n            set_authors.append(author)\\n            print(f'{i}\\t{author}')\\n\""
      ]
     },
     "execution_count": 14,
     "metadata": {},
     "output_type": "execute_result"
    }
   ],
   "source": [
    "'''\n",
    "set_authors = ['Jayadeva', 'Khemchandani, R.', 'Chandra, S.']\n",
    "for i in range(len(authors_lst)):\n",
    "    authors_sub_lst = authors_lst[i].split(',')\n",
    "    authors_sub_lst_mod = []\n",
    "    if authors_sub_lst == 'Jayadeva, Khemchandani, R., Chandra, S.'.split(','):\n",
    "        continue\n",
    "    for j in range(0,len(authors_sub_lst)-1,2):\n",
    "        authors_sub_lst_mod.append(authors_sub_lst[j].strip()+','+authors_sub_lst[j+1])\n",
    "\n",
    "    for author in authors_sub_lst_mod:\n",
    "        if(author not in set_authors):\n",
    "            set_authors.append(author)\n",
    "            print(f'{i}\\t{author}')\n",
    "'''"
   ]
  },
  {
   "cell_type": "markdown",
   "metadata": {},
   "source": [
    "# Storing Authors Names to a file so that it can be easily availabe afterwards"
   ]
  },
  {
   "cell_type": "code",
   "execution_count": 15,
   "metadata": {},
   "outputs": [
    {
     "data": {
      "text/plain": [
       "'\\nwith open(\\'Authors_list.txt\\',\\'w\\') as filehandle:\\n        filehandle.writelines(\"%s\\n\" % author for author in set_authors)\\nfilehandle.close()\\n'"
      ]
     },
     "execution_count": 15,
     "metadata": {},
     "output_type": "execute_result"
    }
   ],
   "source": [
    "'''\n",
    "with open('Authors_list.txt','w') as filehandle:\n",
    "        filehandle.writelines(\"%s\\n\" % author for author in set_authors)\n",
    "filehandle.close()\n",
    "'''"
   ]
  },
  {
   "cell_type": "markdown",
   "metadata": {},
   "source": [
    "# Reading Authors from Above file and storing into a python list"
   ]
  },
  {
   "cell_type": "code",
   "execution_count": 16,
   "metadata": {},
   "outputs": [],
   "source": [
    "# '''\n",
    "set_authors = []\n",
    "with open('Authors_list.txt','r') as filehandle:\n",
    "    filecontents = filehandle.readlines()\n",
    "\n",
    "    for line in filecontents:\n",
    "        # remove linebreak which is the last character of the string\n",
    "        author = line[:-1]\n",
    "\n",
    "        # add item to the list\n",
    "        set_authors.append(author)\n",
    "# '''"
   ]
  },
  {
   "cell_type": "code",
   "execution_count": 17,
   "metadata": {},
   "outputs": [
    {
     "data": {
      "text/plain": [
       "120159"
      ]
     },
     "execution_count": 17,
     "metadata": {},
     "output_type": "execute_result"
    }
   ],
   "source": [
    "len(set_authors)"
   ]
  },
  {
   "cell_type": "markdown",
   "metadata": {},
   "source": [
    "# Creating Author:Database Dictonary"
   ]
  },
  {
   "cell_type": "code",
   "execution_count": 18,
   "metadata": {
    "scrolled": true
   },
   "outputs": [
    {
     "data": {
      "text/plain": [
       "\"\\ndct_author_database = {}\\ncount=0\\nfor author in set_authors:\\n    print(f'{count}\\t{author}')    \\n    \\n    df_auth = pd.DataFrame(columns = ['Authors', 'Title', 'Year', 'Cited_by'] )\\n    \\n    filt= df_without_countries['Authors'].str.contains(author, na=False)\\n    df_auth= df_without_countries.loc[filt,'Authors':].reset_index(drop=True)         \\n    \\n    dct_author_database[author] = df_auth\\n    \\n    count += 1\\n\""
      ]
     },
     "execution_count": 18,
     "metadata": {},
     "output_type": "execute_result"
    }
   ],
   "source": [
    "'''\n",
    "dct_author_database = {}\n",
    "count=0\n",
    "for author in set_authors:\n",
    "    print(f'{count}\\t{author}')    \n",
    "    \n",
    "    df_auth = pd.DataFrame(columns = ['Authors', 'Title', 'Year', 'Cited_by'] )\n",
    "    \n",
    "    filt= df_without_countries['Authors'].str.contains(author, na=False)\n",
    "    df_auth= df_without_countries.loc[filt,'Authors':].reset_index(drop=True)         \n",
    "    \n",
    "    dct_author_database[author] = df_auth\n",
    "    \n",
    "    count += 1\n",
    "'''"
   ]
  },
  {
   "cell_type": "code",
   "execution_count": null,
   "metadata": {
    "tags": []
   },
   "outputs": [],
   "source": [
    "# Alterative to above code\n",
    "\n",
    "'''\n",
    "dct_author_database = {}\n",
    "\n",
    "count = 0\n",
    "for author in set_authors:\n",
    "    print(f'{count}\\t{author}') \n",
    "    \n",
    "    df_auth = pd.DataFrame(columns = ['Authors', 'Title', 'Year', 'Cited_by'] )\n",
    "    \n",
    "    for authors in authors_lst:\n",
    "    \n",
    "        if author in authors:\n",
    "            df_tmp = df_without_countries[df_without_countries.Authors==authors]\n",
    "            df_auth = df_auth.append(df_tmp,ignore_index=True)      \n",
    "    \n",
    "    dct_author_database[author] = df_auth\n",
    "    \n",
    "    count += 1\n",
    "'''"
   ]
  },
  {
   "cell_type": "markdown",
   "metadata": {},
   "source": [
    "# Storing Author:Database dictonary to file so that it can reused again easily"
   ]
  },
  {
   "cell_type": "code",
   "execution_count": 19,
   "metadata": {},
   "outputs": [
    {
     "data": {
      "text/plain": [
       "\"\\nwith open('Author_database_dictonary.txt','wb') as file:\\n    file.write(pickle.dumps(dct_author_database))\\nfile.close()\\n\""
      ]
     },
     "execution_count": 19,
     "metadata": {},
     "output_type": "execute_result"
    }
   ],
   "source": [
    "'''\n",
    "with open('Author_database_dictonary.txt','wb') as file:\n",
    "    file.write(pickle.dumps(dct_author_database))\n",
    "file.close()\n",
    "'''"
   ]
  },
  {
   "cell_type": "markdown",
   "metadata": {},
   "source": [
    "# Reading Author:Database dictonary from Author_database_dictonary.txt file"
   ]
  },
  {
   "cell_type": "code",
   "execution_count": 20,
   "metadata": {},
   "outputs": [],
   "source": [
    "# '''\n",
    "dct_author_database_from_file = {}\n",
    "with open('Author_database_dictonary.txt','rb') as file:\n",
    "    dct_author_database_from_file = pickle.load(file)\n",
    "file.close()\n",
    "# '''"
   ]
  },
  {
   "cell_type": "code",
   "execution_count": 21,
   "metadata": {},
   "outputs": [
    {
     "name": "stdout",
     "output_type": "stream",
     "text": [
      "<class 'dict'>\n"
     ]
    }
   ],
   "source": [
    "print(type(dct_author_database_from_file))"
   ]
  },
  {
   "cell_type": "code",
   "execution_count": 22,
   "metadata": {},
   "outputs": [
    {
     "name": "stdout",
     "output_type": "stream",
     "text": [
      "Jelinek, H.F.\n"
     ]
    },
    {
     "data": {
      "text/html": [
       "<div>\n",
       "<style scoped>\n",
       "    .dataframe tbody tr th:only-of-type {\n",
       "        vertical-align: middle;\n",
       "    }\n",
       "\n",
       "    .dataframe tbody tr th {\n",
       "        vertical-align: top;\n",
       "    }\n",
       "\n",
       "    .dataframe thead th {\n",
       "        text-align: right;\n",
       "    }\n",
       "</style>\n",
       "<table border=\"1\" class=\"dataframe\">\n",
       "  <thead>\n",
       "    <tr style=\"text-align: right;\">\n",
       "      <th></th>\n",
       "      <th>Authors</th>\n",
       "      <th>Title</th>\n",
       "      <th>Year</th>\n",
       "      <th>Cited_by</th>\n",
       "    </tr>\n",
       "  </thead>\n",
       "  <tbody>\n",
       "    <tr>\n",
       "      <th>0</th>\n",
       "      <td>Soares, J.V.B., Leandro, J.J.G., Cesar Jr., R....</td>\n",
       "      <td>Retinal vessel segmentation using the 2-D Gabo...</td>\n",
       "      <td>2006</td>\n",
       "      <td>1083.0</td>\n",
       "    </tr>\n",
       "    <tr>\n",
       "      <th>1</th>\n",
       "      <td>Rocha, A., Carvalho, T., Jelinek, H.F., Golden...</td>\n",
       "      <td>Points of interest and visual dictionaries for...</td>\n",
       "      <td>2012</td>\n",
       "      <td>96.0</td>\n",
       "    </tr>\n",
       "    <tr>\n",
       "      <th>2</th>\n",
       "      <td>Jelinek, H.F., Cree, M.J., Leandro, J.J.G., So...</td>\n",
       "      <td>Automated segmentation of retinal blood vessel...</td>\n",
       "      <td>2007</td>\n",
       "      <td>47.0</td>\n",
       "    </tr>\n",
       "    <tr>\n",
       "      <th>3</th>\n",
       "      <td>Hassan, M.M., Huda, S., Yearwood, J., Jelinek,...</td>\n",
       "      <td>Multistage fusion approaches based on a genera...</td>\n",
       "      <td>2018</td>\n",
       "      <td>18.0</td>\n",
       "    </tr>\n",
       "    <tr>\n",
       "      <th>4</th>\n",
       "      <td>Abawajy, J., Kelarev, A., Chowdhury, M., Stran...</td>\n",
       "      <td>Predicting cardiac autonomic neuropathy catego...</td>\n",
       "      <td>2013</td>\n",
       "      <td>15.0</td>\n",
       "    </tr>\n",
       "  </tbody>\n",
       "</table>\n",
       "</div>"
      ],
      "text/plain": [
       "                                             Authors  \\\n",
       "0  Soares, J.V.B., Leandro, J.J.G., Cesar Jr., R....   \n",
       "1  Rocha, A., Carvalho, T., Jelinek, H.F., Golden...   \n",
       "2  Jelinek, H.F., Cree, M.J., Leandro, J.J.G., So...   \n",
       "3  Hassan, M.M., Huda, S., Yearwood, J., Jelinek,...   \n",
       "4  Abawajy, J., Kelarev, A., Chowdhury, M., Stran...   \n",
       "\n",
       "                                               Title  Year  Cited_by  \n",
       "0  Retinal vessel segmentation using the 2-D Gabo...  2006    1083.0  \n",
       "1  Points of interest and visual dictionaries for...  2012      96.0  \n",
       "2  Automated segmentation of retinal blood vessel...  2007      47.0  \n",
       "3  Multistage fusion approaches based on a genera...  2018      18.0  \n",
       "4  Predicting cardiac autonomic neuropathy catego...  2013      15.0  "
      ]
     },
     "execution_count": 22,
     "metadata": {},
     "output_type": "execute_result"
    }
   ],
   "source": [
    "i = 6\n",
    "print(set_authors[i])\n",
    "dct_author_database_from_file[set_authors[i]]"
   ]
  },
  {
   "cell_type": "markdown",
   "metadata": {},
   "source": [
    "# Creating indian authors list and foreign authors list and storing those in file"
   ]
  },
  {
   "cell_type": "markdown",
   "metadata": {},
   "source": [
    "## Creating Authors_collective list from Indian database"
   ]
  },
  {
   "cell_type": "code",
   "execution_count": 23,
   "metadata": {},
   "outputs": [],
   "source": [
    "authors_from_ind_database = list(df[df.Country=='India']['Authors'].unique())"
   ]
  },
  {
   "cell_type": "markdown",
   "metadata": {},
   "source": [
    "## separating individual authors from authors_collective list"
   ]
  },
  {
   "cell_type": "code",
   "execution_count": 24,
   "metadata": {},
   "outputs": [
    {
     "data": {
      "text/plain": [
       "\"\\nset_of_authors_from_indian_database = ['Jayadeva', 'Khemchandani, R.', 'Chandra, S.']\\n\\ncount = 0\\nfor authors in authors_from_ind_database:\\n       \\n    authors_sub_lst = authors.split(',')\\n    \\n    if authors_sub_lst == 'Jayadeva, Khemchandani, R., Chandra, S.'.split(','):\\n        continue\\n    \\n    authors_sub_lst_mod = []\\n    for i in range(0,len(authors_sub_lst)-1,2):\\n            authors_sub_lst_mod.append(authors_sub_lst[i].strip()+','+authors_sub_lst[i+1])\\n    \\n    for author in authors_sub_lst_mod:\\n        if(author not in set_of_authors_from_indian_database):\\n            set_of_authors_from_indian_database.append(author)\\n    print(f'{count}\\t{authors}')\\n    count += 1\\n\""
      ]
     },
     "execution_count": 24,
     "metadata": {},
     "output_type": "execute_result"
    }
   ],
   "source": [
    "'''\n",
    "set_of_authors_from_indian_database = ['Jayadeva', 'Khemchandani, R.', 'Chandra, S.']\n",
    "\n",
    "count = 0\n",
    "for authors in authors_from_ind_database:\n",
    "       \n",
    "    authors_sub_lst = authors.split(',')\n",
    "    \n",
    "    if authors_sub_lst == 'Jayadeva, Khemchandani, R., Chandra, S.'.split(','):\n",
    "        continue\n",
    "    \n",
    "    authors_sub_lst_mod = []\n",
    "    for i in range(0,len(authors_sub_lst)-1,2):\n",
    "            authors_sub_lst_mod.append(authors_sub_lst[i].strip()+','+authors_sub_lst[i+1])\n",
    "    \n",
    "    for author in authors_sub_lst_mod:\n",
    "        if(author not in set_of_authors_from_indian_database):\n",
    "            set_of_authors_from_indian_database.append(author)\n",
    "    print(f'{count}\\t{authors}')\n",
    "    count += 1\n",
    "'''"
   ]
  },
  {
   "cell_type": "markdown",
   "metadata": {},
   "source": [
    "## Storing Indian Authors names to file"
   ]
  },
  {
   "cell_type": "code",
   "execution_count": 25,
   "metadata": {},
   "outputs": [
    {
     "data": {
      "text/plain": [
       "'\\nwith open(\\'India_authors_list.txt\\',\\'w\\') as filehandle:\\n        filehandle.writelines(\"%s\\n\" % author for author in set_of_authors_from_indian_database)\\nfilehandle.close()\\n'"
      ]
     },
     "execution_count": 25,
     "metadata": {},
     "output_type": "execute_result"
    }
   ],
   "source": [
    "'''\n",
    "with open('India_authors_list.txt','w') as filehandle:\n",
    "        filehandle.writelines(\"%s\\n\" % author for author in set_of_authors_from_indian_database)\n",
    "filehandle.close()\n",
    "'''"
   ]
  },
  {
   "cell_type": "markdown",
   "metadata": {},
   "source": [
    "## Reading Indian Authors names to file"
   ]
  },
  {
   "cell_type": "code",
   "execution_count": 26,
   "metadata": {},
   "outputs": [],
   "source": [
    "set_of_indian_authors_from_file = []\n",
    "with open('Indian_authors_list.txt','r') as filehandle:\n",
    "    filecontents = filehandle.readlines()\n",
    "\n",
    "    for line in filecontents:\n",
    "        # remove linebreak which is the last character of the string\n",
    "        author = line[:-1]\n",
    "\n",
    "        # add item to the list\n",
    "        set_of_indian_authors_from_file.append(author)"
   ]
  },
  {
   "cell_type": "code",
   "execution_count": 27,
   "metadata": {},
   "outputs": [
    {
     "data": {
      "text/plain": [
       "9267"
      ]
     },
     "execution_count": 27,
     "metadata": {},
     "output_type": "execute_result"
    }
   ],
   "source": [
    "len(set_of_indian_authors_from_file)"
   ]
  },
  {
   "cell_type": "markdown",
   "metadata": {},
   "source": [
    "##  Creating Foreign authors list"
   ]
  },
  {
   "cell_type": "code",
   "execution_count": 28,
   "metadata": {},
   "outputs": [
    {
     "data": {
      "text/plain": [
       "\"\\nset_of_foreign_authors = []\\n\\ncount = 0\\nfor author in set_authors:\\n    if author not in set_of_indian_authors_from_file:\\n        set_of_foreign_authors.append(author)\\n        print(f'{count}\\t{author}')\\n        count += 1\\n\""
      ]
     },
     "execution_count": 28,
     "metadata": {},
     "output_type": "execute_result"
    }
   ],
   "source": [
    "'''\n",
    "set_of_foreign_authors = []\n",
    "\n",
    "count = 0\n",
    "for author in set_authors:\n",
    "    if author not in set_of_indian_authors_from_file:\n",
    "        set_of_foreign_authors.append(author)\n",
    "        print(f'{count}\\t{author}')\n",
    "        count += 1\n",
    "'''"
   ]
  },
  {
   "cell_type": "markdown",
   "metadata": {},
   "source": [
    "# Storing Foreign authors in txt file so that it can be reused again easily"
   ]
  },
  {
   "cell_type": "code",
   "execution_count": 29,
   "metadata": {},
   "outputs": [
    {
     "data": {
      "text/plain": [
       "'\\nwith open(\\'Foreign_authors_list.txt\\',\\'w\\') as filehandle:\\n        filehandle.writelines(\"%s\\n\" % author for author in set_of_foreign_authors_from_file)\\nfilehandle.close()\\n'"
      ]
     },
     "execution_count": 29,
     "metadata": {},
     "output_type": "execute_result"
    }
   ],
   "source": [
    "'''\n",
    "with open('Foreign_authors_list.txt','w') as filehandle:\n",
    "        filehandle.writelines(\"%s\\n\" % author for author in set_of_foreign_authors_from_file)\n",
    "filehandle.close()\n",
    "'''"
   ]
  },
  {
   "cell_type": "markdown",
   "metadata": {},
   "source": [
    "## Reading Foreign authors from foreign authors list file"
   ]
  },
  {
   "cell_type": "code",
   "execution_count": 30,
   "metadata": {},
   "outputs": [],
   "source": [
    "set_of_foreign_authors_from_file = []\n",
    "with open('Foreign_authors_list.txt','r') as filehandle:\n",
    "    filecontents = filehandle.readlines()\n",
    "\n",
    "    for line in filecontents:\n",
    "        # remove linebreak which is the last character of the string\n",
    "        author = line[:-1]\n",
    "\n",
    "        # add item to the list\n",
    "        set_of_foreign_authors_from_file.append(author)"
   ]
  },
  {
   "cell_type": "code",
   "execution_count": 31,
   "metadata": {},
   "outputs": [
    {
     "name": "stdout",
     "output_type": "stream",
     "text": [
      "110892\n"
     ]
    }
   ],
   "source": [
    "print(len(set_of_foreign_authors_from_file))"
   ]
  },
  {
   "cell_type": "markdown",
   "metadata": {},
   "source": [
    "# Creating a dictonary with foreign author as key and number of paper published by him with india authors as value "
   ]
  },
  {
   "cell_type": "code",
   "execution_count": 32,
   "metadata": {},
   "outputs": [
    {
     "data": {
      "text/plain": [
       "'\\ndct_foreign_author_coauth_count = {}\\nfor foreign_author in set_of_foreign_authors_from_file:\\n    dct_foreign_author_coauth_count[foreign_author] = 0\\n'"
      ]
     },
     "execution_count": 32,
     "metadata": {},
     "output_type": "execute_result"
    }
   ],
   "source": [
    "'''\n",
    "dct_foreign_author_coauth_count = {}\n",
    "for foreign_author in set_of_foreign_authors_from_file:\n",
    "    dct_foreign_author_coauth_count[foreign_author] = 0\n",
    "'''"
   ]
  },
  {
   "cell_type": "code",
   "execution_count": 33,
   "metadata": {
    "scrolled": true
   },
   "outputs": [
    {
     "data": {
      "text/plain": [
       "\"\\ncount = 0\\nfor foreign_author in set_of_foreign_authors_from_file:\\n    row_foreign_auth_list = dct_author_database_from_file[foreign_author].iloc[:,0].values\\n    for indian_author in set_of_indian_authors_from_file:\\n        for authors in row_foreign_auth_list:\\n            if indian_author in authors:\\n                dct_foreign_author_coauth_count[foreign_author] += 1\\n    print(f'{count}     {foreign_author}        {dct_foreign_author_coauth_count[foreign_author]}')\\n    count += 1 \\n\""
      ]
     },
     "execution_count": 33,
     "metadata": {},
     "output_type": "execute_result"
    }
   ],
   "source": [
    "'''\n",
    "count = 0\n",
    "for foreign_author in set_of_foreign_authors_from_file:\n",
    "    row_foreign_auth_list = dct_author_database_from_file[foreign_author].iloc[:,0].values\n",
    "    for indian_author in set_of_indian_authors_from_file:\n",
    "        for authors in row_foreign_auth_list:\n",
    "            if indian_author in authors:\n",
    "                dct_foreign_author_coauth_count[foreign_author] += 1\n",
    "    print(f'{count}     {foreign_author}        {dct_foreign_author_coauth_count[foreign_author]}')\n",
    "    count += 1 \n",
    "'''"
   ]
  },
  {
   "cell_type": "markdown",
   "metadata": {},
   "source": [
    "# Storing Above dictonary in file so that it can be easily reused again"
   ]
  },
  {
   "cell_type": "code",
   "execution_count": 34,
   "metadata": {},
   "outputs": [
    {
     "data": {
      "text/plain": [
       "\"\\nwith open('Foreign_auth_and_their_publication_count_with_india_authors_dct.txt','wb') as file:\\n    file.write(pickle.dumps(dct_foreign_author_coauth_count))\\nfile.close()\\n\""
      ]
     },
     "execution_count": 34,
     "metadata": {},
     "output_type": "execute_result"
    }
   ],
   "source": [
    "'''\n",
    "with open('Foreign_auth_and_their_publication_count_with_india_authors_dct.txt','wb') as file:\n",
    "    file.write(pickle.dumps(dct_foreign_author_coauth_count))\n",
    "file.close()\n",
    "'''"
   ]
  },
  {
   "cell_type": "markdown",
   "metadata": {},
   "source": [
    "# Storing Above stored dictonary from file and storing it in a python variable"
   ]
  },
  {
   "cell_type": "code",
   "execution_count": 35,
   "metadata": {},
   "outputs": [],
   "source": [
    "dct_foreign_author_coauth_count_from_file = {}\n",
    "with open('Foreign_auth_and_their_publication_count_with_india_authors_dct.txt','rb') as file:\n",
    "    dct_foreign_author_coauth_count_from_file = pickle.load(file)\n",
    "file.close()"
   ]
  },
  {
   "cell_type": "code",
   "execution_count": 36,
   "metadata": {},
   "outputs": [
    {
     "name": "stdout",
     "output_type": "stream",
     "text": [
      "110896\n"
     ]
    }
   ],
   "source": [
    "print(len(dct_foreign_author_coauth_count_from_file))"
   ]
  }
 ],
 "metadata": {
  "kernelspec": {
   "display_name": "Python 3",
   "language": "python",
   "name": "python3"
  },
  "language_info": {
   "codemirror_mode": {
    "name": "ipython",
    "version": 3
   },
   "file_extension": ".py",
   "mimetype": "text/x-python",
   "name": "python",
   "nbconvert_exporter": "python",
   "pygments_lexer": "ipython3",
   "version": "3.9.3"
  }
 },
 "nbformat": 4,
 "nbformat_minor": 2
}
