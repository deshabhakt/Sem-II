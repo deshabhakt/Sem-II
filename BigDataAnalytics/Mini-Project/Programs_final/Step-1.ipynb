{
 "cells": [
  {
   "source": [
    "# 1-Data Preprocessing\n",
    "## (Creating Complete Database file)\n",
    "## Importing Necessary Libraries"
   ],
   "cell_type": "markdown",
   "metadata": {}
  },
  {
   "cell_type": "code",
   "execution_count": 1,
   "metadata": {},
   "outputs": [],
   "source": [
    "import pandas as pd\n",
    "import numpy as np\n",
    "import os\n",
    "\n",
    "base_dir = '/mnt/General_Stuff/Study Stuff/Documents/CDS/Sem-II/BigDataAnalytics/BigData-Programs/Mini-Project/Data'"
   ]
  },
  {
   "source": [
    "## Storing Country-wise Database file location into python list"
   ],
   "cell_type": "markdown",
   "metadata": {}
  },
  {
   "cell_type": "code",
   "execution_count": 2,
   "metadata": {},
   "outputs": [],
   "source": [
    "dir_lst = []\n",
    "for data_file in os.listdir(base_dir):\n",
    "    dir_lst.append(os.path.join(base_dir,data_file))"
   ]
  },
  {
   "cell_type": "code",
   "execution_count": 3,
   "metadata": {},
   "outputs": [
    {
     "output_type": "execute_result",
     "data": {
      "text/plain": [
       "['/mnt/General_Stuff/Study Stuff/Documents/CDS/Sem-II/BigDataAnalytics/BigData-Programs/Mini-Project/Data/Artificial-Intelligence-Australia.csv',\n",
       " '/mnt/General_Stuff/Study Stuff/Documents/CDS/Sem-II/BigDataAnalytics/BigData-Programs/Mini-Project/Data/Artificial-Intelligence-Canada.csv',\n",
       " '/mnt/General_Stuff/Study Stuff/Documents/CDS/Sem-II/BigDataAnalytics/BigData-Programs/Mini-Project/Data/Artificial-Intelligence-China.csv',\n",
       " '/mnt/General_Stuff/Study Stuff/Documents/CDS/Sem-II/BigDataAnalytics/BigData-Programs/Mini-Project/Data/Artificial-Intelligence-France.csv',\n",
       " '/mnt/General_Stuff/Study Stuff/Documents/CDS/Sem-II/BigDataAnalytics/BigData-Programs/Mini-Project/Data/Artificial-Intelligence-Germany.csv',\n",
       " '/mnt/General_Stuff/Study Stuff/Documents/CDS/Sem-II/BigDataAnalytics/BigData-Programs/Mini-Project/Data/Artificial-Intelligence-India.csv',\n",
       " '/mnt/General_Stuff/Study Stuff/Documents/CDS/Sem-II/BigDataAnalytics/BigData-Programs/Mini-Project/Data/Artificial-Intelligence-Iran.csv',\n",
       " '/mnt/General_Stuff/Study Stuff/Documents/CDS/Sem-II/BigDataAnalytics/BigData-Programs/Mini-Project/Data/Artificial-Intelligence-Italy.csv',\n",
       " '/mnt/General_Stuff/Study Stuff/Documents/CDS/Sem-II/BigDataAnalytics/BigData-Programs/Mini-Project/Data/Artificial-Intelligence-Japan.csv',\n",
       " '/mnt/General_Stuff/Study Stuff/Documents/CDS/Sem-II/BigDataAnalytics/BigData-Programs/Mini-Project/Data/Artificial-Intelligence-Netherlands.csv',\n",
       " '/mnt/General_Stuff/Study Stuff/Documents/CDS/Sem-II/BigDataAnalytics/BigData-Programs/Mini-Project/Data/Artificial-Intelligence-SouthKorea.csv',\n",
       " '/mnt/General_Stuff/Study Stuff/Documents/CDS/Sem-II/BigDataAnalytics/BigData-Programs/Mini-Project/Data/Artificial-Intelligence-Spain.csv',\n",
       " '/mnt/General_Stuff/Study Stuff/Documents/CDS/Sem-II/BigDataAnalytics/BigData-Programs/Mini-Project/Data/Artificial-Intelligence-Taiwan.csv',\n",
       " '/mnt/General_Stuff/Study Stuff/Documents/CDS/Sem-II/BigDataAnalytics/BigData-Programs/Mini-Project/Data/Artificial-Intelligence-UK.csv',\n",
       " '/mnt/General_Stuff/Study Stuff/Documents/CDS/Sem-II/BigDataAnalytics/BigData-Programs/Mini-Project/Data/Artificial-Intelligence-US.csv']"
      ]
     },
     "metadata": {},
     "execution_count": 3
    }
   ],
   "source": [
    "dir_lst"
   ]
  },
  {
   "source": [
    "## Creating a Python list with country names"
   ],
   "cell_type": "markdown",
   "metadata": {}
  },
  {
   "cell_type": "code",
   "execution_count": 4,
   "metadata": {},
   "outputs": [],
   "source": [
    "country_lst = ['Australia','Canada','China','France','Germany','India','Iran','Italy','Japan','Netherlands','South Korea','Spain','Taiwan','United Kingdom', 'United States']"
   ]
  },
  {
   "source": [
    "## Crossing checking number of database files and number of country names"
   ],
   "cell_type": "markdown",
   "metadata": {}
  },
  {
   "cell_type": "code",
   "execution_count": 5,
   "metadata": {},
   "outputs": [
    {
     "output_type": "execute_result",
     "data": {
      "text/plain": [
       "True"
      ]
     },
     "metadata": {},
     "execution_count": 5
    }
   ],
   "source": [
    "len(dir_lst) == len(country_lst)"
   ]
  },
  {
   "source": [
    "## Reading database of each country, removing unnecessary columns, adding country name column and storing those as a pandas dataframe into python list"
   ],
   "cell_type": "markdown",
   "metadata": {}
  },
  {
   "cell_type": "code",
   "execution_count": 6,
   "metadata": {},
   "outputs": [
    {
     "output_type": "stream",
     "name": "stdout",
     "text": [
      "Australia\n",
      "Canada\n",
      "China\n",
      "France\n",
      "Germany\n",
      "India\n",
      "Iran\n",
      "Italy\n",
      "Japan\n",
      "Netherlands\n",
      "South Korea\n",
      "Spain\n",
      "Taiwan\n",
      "United Kingdom\n",
      "United States\n"
     ]
    }
   ],
   "source": [
    "df_lst = []\n",
    "\n",
    "for data_file, country in zip(dir_lst, country_lst):\n",
    "        print(country)\n",
    "        df_tmp = pd.read_csv(data_file)\n",
    "        \n",
    "        df_tmp = df_tmp.drop(['Author(s) ID' ,'Source title','Volume', 'Issue', 'Art. No.', 'Page start', 'Page end', 'Page count', 'DOI', 'Link', 'Document Type', 'Publication Stage','Open Access', 'Source', 'EID'],axis='columns')\n",
    "        \n",
    "        df_tmp = df_tmp.fillna(0)\n",
    "        df_tmp['Country'] = country\n",
    "        df_lst.append(df_tmp)"
   ]
  },
  {
   "cell_type": "code",
   "execution_count": 7,
   "metadata": {},
   "outputs": [
    {
     "output_type": "stream",
     "name": "stdout",
     "text": [
      "Australia\n"
     ]
    },
    {
     "output_type": "execute_result",
     "data": {
      "text/plain": [
       "                                             Authors  \\\n",
       "0  Soares, J.V.B., Leandro, J.J.G., Cesar Jr., R....   \n",
       "1  Scarselli, F., Gori, M., Tsoi, A.C., Hagenbuch...   \n",
       "2  Karantonis, D.M., Narayanan, M.R., Mathie, M.,...   \n",
       "3                                      Mirjalili, S.   \n",
       "4             Naseem, I., Togneri, R., Bennamoun, M.   \n",
       "\n",
       "                                               Title  Year  Cited by  \\\n",
       "0  Retinal vessel segmentation using the 2-D Gabo...  2006    1083.0   \n",
       "1                     The graph neural network model  2009    1031.0   \n",
       "2  Implementation of a real-time human movement c...  2006     908.0   \n",
       "3  Dragonfly algorithm: a new meta-heuristic opti...  2016     865.0   \n",
       "4             Linear regression for face recognition  2010     768.0   \n",
       "\n",
       "     Country  \n",
       "0  Australia  \n",
       "1  Australia  \n",
       "2  Australia  \n",
       "3  Australia  \n",
       "4  Australia  "
      ],
      "text/html": "<div>\n<style scoped>\n    .dataframe tbody tr th:only-of-type {\n        vertical-align: middle;\n    }\n\n    .dataframe tbody tr th {\n        vertical-align: top;\n    }\n\n    .dataframe thead th {\n        text-align: right;\n    }\n</style>\n<table border=\"1\" class=\"dataframe\">\n  <thead>\n    <tr style=\"text-align: right;\">\n      <th></th>\n      <th>Authors</th>\n      <th>Title</th>\n      <th>Year</th>\n      <th>Cited by</th>\n      <th>Country</th>\n    </tr>\n  </thead>\n  <tbody>\n    <tr>\n      <th>0</th>\n      <td>Soares, J.V.B., Leandro, J.J.G., Cesar Jr., R....</td>\n      <td>Retinal vessel segmentation using the 2-D Gabo...</td>\n      <td>2006</td>\n      <td>1083.0</td>\n      <td>Australia</td>\n    </tr>\n    <tr>\n      <th>1</th>\n      <td>Scarselli, F., Gori, M., Tsoi, A.C., Hagenbuch...</td>\n      <td>The graph neural network model</td>\n      <td>2009</td>\n      <td>1031.0</td>\n      <td>Australia</td>\n    </tr>\n    <tr>\n      <th>2</th>\n      <td>Karantonis, D.M., Narayanan, M.R., Mathie, M.,...</td>\n      <td>Implementation of a real-time human movement c...</td>\n      <td>2006</td>\n      <td>908.0</td>\n      <td>Australia</td>\n    </tr>\n    <tr>\n      <th>3</th>\n      <td>Mirjalili, S.</td>\n      <td>Dragonfly algorithm: a new meta-heuristic opti...</td>\n      <td>2016</td>\n      <td>865.0</td>\n      <td>Australia</td>\n    </tr>\n    <tr>\n      <th>4</th>\n      <td>Naseem, I., Togneri, R., Bennamoun, M.</td>\n      <td>Linear regression for face recognition</td>\n      <td>2010</td>\n      <td>768.0</td>\n      <td>Australia</td>\n    </tr>\n  </tbody>\n</table>\n</div>"
     },
     "metadata": {},
     "execution_count": 7
    }
   ],
   "source": [
    "print(country_lst[0])\n",
    "df_lst[0].head()"
   ]
  },
  {
   "source": [
    "## Merging coutry-databases from python list into a single pandas dataframe"
   ],
   "cell_type": "markdown",
   "metadata": {}
  },
  {
   "cell_type": "code",
   "execution_count": 8,
   "metadata": {},
   "outputs": [],
   "source": [
    "df = pd.concat(df_lst)"
   ]
  },
  {
   "cell_type": "code",
   "execution_count": 9,
   "metadata": {},
   "outputs": [
    {
     "output_type": "execute_result",
     "data": {
      "text/plain": [
       "(67694, 5)"
      ]
     },
     "metadata": {},
     "execution_count": 9
    }
   ],
   "source": [
    "df.shape"
   ]
  },
  {
   "cell_type": "code",
   "execution_count": 10,
   "metadata": {},
   "outputs": [
    {
     "output_type": "execute_result",
     "data": {
      "text/plain": [
       "                                             Authors  \\\n",
       "0  Soares, J.V.B., Leandro, J.J.G., Cesar Jr., R....   \n",
       "1  Scarselli, F., Gori, M., Tsoi, A.C., Hagenbuch...   \n",
       "2  Karantonis, D.M., Narayanan, M.R., Mathie, M.,...   \n",
       "3                                      Mirjalili, S.   \n",
       "4             Naseem, I., Togneri, R., Bennamoun, M.   \n",
       "\n",
       "                                               Title  Year  Cited by  \\\n",
       "0  Retinal vessel segmentation using the 2-D Gabo...  2006    1083.0   \n",
       "1                     The graph neural network model  2009    1031.0   \n",
       "2  Implementation of a real-time human movement c...  2006     908.0   \n",
       "3  Dragonfly algorithm: a new meta-heuristic opti...  2016     865.0   \n",
       "4             Linear regression for face recognition  2010     768.0   \n",
       "\n",
       "     Country  \n",
       "0  Australia  \n",
       "1  Australia  \n",
       "2  Australia  \n",
       "3  Australia  \n",
       "4  Australia  "
      ],
      "text/html": "<div>\n<style scoped>\n    .dataframe tbody tr th:only-of-type {\n        vertical-align: middle;\n    }\n\n    .dataframe tbody tr th {\n        vertical-align: top;\n    }\n\n    .dataframe thead th {\n        text-align: right;\n    }\n</style>\n<table border=\"1\" class=\"dataframe\">\n  <thead>\n    <tr style=\"text-align: right;\">\n      <th></th>\n      <th>Authors</th>\n      <th>Title</th>\n      <th>Year</th>\n      <th>Cited by</th>\n      <th>Country</th>\n    </tr>\n  </thead>\n  <tbody>\n    <tr>\n      <th>0</th>\n      <td>Soares, J.V.B., Leandro, J.J.G., Cesar Jr., R....</td>\n      <td>Retinal vessel segmentation using the 2-D Gabo...</td>\n      <td>2006</td>\n      <td>1083.0</td>\n      <td>Australia</td>\n    </tr>\n    <tr>\n      <th>1</th>\n      <td>Scarselli, F., Gori, M., Tsoi, A.C., Hagenbuch...</td>\n      <td>The graph neural network model</td>\n      <td>2009</td>\n      <td>1031.0</td>\n      <td>Australia</td>\n    </tr>\n    <tr>\n      <th>2</th>\n      <td>Karantonis, D.M., Narayanan, M.R., Mathie, M.,...</td>\n      <td>Implementation of a real-time human movement c...</td>\n      <td>2006</td>\n      <td>908.0</td>\n      <td>Australia</td>\n    </tr>\n    <tr>\n      <th>3</th>\n      <td>Mirjalili, S.</td>\n      <td>Dragonfly algorithm: a new meta-heuristic opti...</td>\n      <td>2016</td>\n      <td>865.0</td>\n      <td>Australia</td>\n    </tr>\n    <tr>\n      <th>4</th>\n      <td>Naseem, I., Togneri, R., Bennamoun, M.</td>\n      <td>Linear regression for face recognition</td>\n      <td>2010</td>\n      <td>768.0</td>\n      <td>Australia</td>\n    </tr>\n  </tbody>\n</table>\n</div>"
     },
     "metadata": {},
     "execution_count": 10
    }
   ],
   "source": [
    "df.head()"
   ]
  },
  {
   "source": [
    "## Applying same data pipeline as above for databases with funding column"
   ],
   "cell_type": "markdown",
   "metadata": {}
  },
  {
   "cell_type": "code",
   "execution_count": 11,
   "metadata": {},
   "outputs": [],
   "source": [
    "# Changin base_dir variable to path of database with funding column\n",
    "\n",
    "base_dir = '/mnt/General_Stuff/Study Stuff/Documents/CDS/Sem-II/BigDataAnalytics/BigData-Programs/Mini-Project/Data_with_sponsor_details'"
   ]
  },
  {
   "cell_type": "code",
   "execution_count": 12,
   "metadata": {},
   "outputs": [],
   "source": [
    "dir_lst = []\n",
    "for data_file in os.listdir(base_dir):\n",
    "    dir_lst.append(os.path.join(base_dir,data_file))"
   ]
  },
  {
   "cell_type": "code",
   "execution_count": 13,
   "metadata": {},
   "outputs": [
    {
     "output_type": "stream",
     "name": "stdout",
     "text": [
      "Australia\n",
      "Canada\n",
      "China\n",
      "France\n",
      "Germany\n",
      "India\n",
      "Iran\n",
      "Italy\n",
      "Japan\n",
      "Netherlands\n",
      "South Korea\n",
      "Spain\n",
      "Taiwan\n",
      "United Kingdom\n",
      "United States\n"
     ]
    }
   ],
   "source": [
    "df_lst = []\n",
    "\n",
    "for data_file, country in zip(dir_lst, country_lst):\n",
    "        \n",
    "        print(country)\n",
    "\n",
    "        df_tmp = pd.read_csv(data_file)\n",
    "        \n",
    "        df_tmp = df_tmp.drop(['Link','Publication Stage'],axis='columns')\n",
    "        \n",
    "        df_tmp = df_tmp.fillna(0)\n",
    "        \n",
    "        df_tmp['Country'] = country\n",
    "       \n",
    "        df_lst.append(df_tmp)"
   ]
  },
  {
   "cell_type": "code",
   "execution_count": 14,
   "metadata": {},
   "outputs": [],
   "source": [
    "df_addon = pd.concat(df_lst)"
   ]
  },
  {
   "cell_type": "code",
   "execution_count": 15,
   "metadata": {},
   "outputs": [
    {
     "output_type": "execute_result",
     "data": {
      "text/plain": [
       "                                             Authors  \\\n",
       "0                   Tao F., Qi Q., Liu A., Kusiak A.   \n",
       "1                    Zhang K., Gao X., Tao D., Li X.   \n",
       "2  Kristan M., Matas J., Leonardis A., Vojir T., ...   \n",
       "3               Ding C., Choi J., Tao D., Davis L.S.   \n",
       "4  Celebi M.E., Kingravi H.A., Iyatomi H., Asland...   \n",
       "\n",
       "                                               Title  Year  Cited by  \\\n",
       "0                    Data-driven smart manufacturing  2018     375.0   \n",
       "1  Single image super-resolution with non-local m...  2012     362.0   \n",
       "2  A Novel Performance Evaluation Methodology for...  2016     264.0   \n",
       "3  Multi-Directional Multi-Level Dual-Cross Patte...  2016     243.0   \n",
       "4  Border detection in dermoscopy images using st...  2008     241.0   \n",
       "\n",
       "                                     Funding Details    Country  \n",
       "0  National Natural Science Foundation of China\\n...  Australia  \n",
       "1  National Natural Science Foundation of China\\n...  Australia  \n",
       "2                        Seventh Framework Programme  Australia  \n",
       "3  National Science Foundation\\n\\nAustralian Rese...  Australia  \n",
       "4                          National Cancer Institute  Australia  "
      ],
      "text/html": "<div>\n<style scoped>\n    .dataframe tbody tr th:only-of-type {\n        vertical-align: middle;\n    }\n\n    .dataframe tbody tr th {\n        vertical-align: top;\n    }\n\n    .dataframe thead th {\n        text-align: right;\n    }\n</style>\n<table border=\"1\" class=\"dataframe\">\n  <thead>\n    <tr style=\"text-align: right;\">\n      <th></th>\n      <th>Authors</th>\n      <th>Title</th>\n      <th>Year</th>\n      <th>Cited by</th>\n      <th>Funding Details</th>\n      <th>Country</th>\n    </tr>\n  </thead>\n  <tbody>\n    <tr>\n      <th>0</th>\n      <td>Tao F., Qi Q., Liu A., Kusiak A.</td>\n      <td>Data-driven smart manufacturing</td>\n      <td>2018</td>\n      <td>375.0</td>\n      <td>National Natural Science Foundation of China\\n...</td>\n      <td>Australia</td>\n    </tr>\n    <tr>\n      <th>1</th>\n      <td>Zhang K., Gao X., Tao D., Li X.</td>\n      <td>Single image super-resolution with non-local m...</td>\n      <td>2012</td>\n      <td>362.0</td>\n      <td>National Natural Science Foundation of China\\n...</td>\n      <td>Australia</td>\n    </tr>\n    <tr>\n      <th>2</th>\n      <td>Kristan M., Matas J., Leonardis A., Vojir T., ...</td>\n      <td>A Novel Performance Evaluation Methodology for...</td>\n      <td>2016</td>\n      <td>264.0</td>\n      <td>Seventh Framework Programme</td>\n      <td>Australia</td>\n    </tr>\n    <tr>\n      <th>3</th>\n      <td>Ding C., Choi J., Tao D., Davis L.S.</td>\n      <td>Multi-Directional Multi-Level Dual-Cross Patte...</td>\n      <td>2016</td>\n      <td>243.0</td>\n      <td>National Science Foundation\\n\\nAustralian Rese...</td>\n      <td>Australia</td>\n    </tr>\n    <tr>\n      <th>4</th>\n      <td>Celebi M.E., Kingravi H.A., Iyatomi H., Asland...</td>\n      <td>Border detection in dermoscopy images using st...</td>\n      <td>2008</td>\n      <td>241.0</td>\n      <td>National Cancer Institute</td>\n      <td>Australia</td>\n    </tr>\n  </tbody>\n</table>\n</div>"
     },
     "metadata": {},
     "execution_count": 15
    }
   ],
   "source": [
    "df_addon.head()"
   ]
  },
  {
   "source": [
    "## Adding Funding Column to previously merged database"
   ],
   "cell_type": "markdown",
   "metadata": {}
  },
  {
   "cell_type": "code",
   "execution_count": 16,
   "metadata": {},
   "outputs": [],
   "source": [
    "df['Funding_Details'] = 0"
   ]
  },
  {
   "source": [
    "## Extracting titles from df and df_addon"
   ],
   "cell_type": "markdown",
   "metadata": {}
  },
  {
   "cell_type": "code",
   "execution_count": 17,
   "metadata": {},
   "outputs": [],
   "source": [
    "titles_old = list(df.Title)\n",
    "titles_new = list(df_addon.Title)"
   ]
  },
  {
   "source": [
    "## Adding funding values to df"
   ],
   "cell_type": "markdown",
   "metadata": {}
  },
  {
   "cell_type": "code",
   "execution_count": 18,
   "metadata": {
    "tags": []
   },
   "outputs": [],
   "source": [
    "\n",
    "count = 1\n",
    "for i in range(len(titles_new)):\n",
    "    for j in range(len(titles_old)):\n",
    "        if titles_new[i]==titles_old[j]:\n",
    "            df.iloc[j,-1] = df_addon.iloc[i,-2]\n",
    "    # print(f'{count}\\t{titles_new[i]}')\n",
    "    count += 1"
   ]
  },
  {
   "cell_type": "code",
   "execution_count": 19,
   "metadata": {},
   "outputs": [
    {
     "output_type": "execute_result",
     "data": {
      "text/plain": [
       "                                             Authors  \\\n",
       "0  Soares, J.V.B., Leandro, J.J.G., Cesar Jr., R....   \n",
       "1  Scarselli, F., Gori, M., Tsoi, A.C., Hagenbuch...   \n",
       "2  Karantonis, D.M., Narayanan, M.R., Mathie, M.,...   \n",
       "3                                      Mirjalili, S.   \n",
       "4             Naseem, I., Togneri, R., Bennamoun, M.   \n",
       "\n",
       "                                               Title  Year  Cited by  \\\n",
       "0  Retinal vessel segmentation using the 2-D Gabo...  2006    1083.0   \n",
       "1                     The graph neural network model  2009    1031.0   \n",
       "2  Implementation of a real-time human movement c...  2006     908.0   \n",
       "3  Dragonfly algorithm: a new meta-heuristic opti...  2016     865.0   \n",
       "4             Linear regression for face recognition  2010     768.0   \n",
       "\n",
       "     Country Funding_Details  \n",
       "0  Australia               0  \n",
       "1  Australia               0  \n",
       "2  Australia               0  \n",
       "3  Australia               0  \n",
       "4  Australia               0  "
      ],
      "text/html": "<div>\n<style scoped>\n    .dataframe tbody tr th:only-of-type {\n        vertical-align: middle;\n    }\n\n    .dataframe tbody tr th {\n        vertical-align: top;\n    }\n\n    .dataframe thead th {\n        text-align: right;\n    }\n</style>\n<table border=\"1\" class=\"dataframe\">\n  <thead>\n    <tr style=\"text-align: right;\">\n      <th></th>\n      <th>Authors</th>\n      <th>Title</th>\n      <th>Year</th>\n      <th>Cited by</th>\n      <th>Country</th>\n      <th>Funding_Details</th>\n    </tr>\n  </thead>\n  <tbody>\n    <tr>\n      <th>0</th>\n      <td>Soares, J.V.B., Leandro, J.J.G., Cesar Jr., R....</td>\n      <td>Retinal vessel segmentation using the 2-D Gabo...</td>\n      <td>2006</td>\n      <td>1083.0</td>\n      <td>Australia</td>\n      <td>0</td>\n    </tr>\n    <tr>\n      <th>1</th>\n      <td>Scarselli, F., Gori, M., Tsoi, A.C., Hagenbuch...</td>\n      <td>The graph neural network model</td>\n      <td>2009</td>\n      <td>1031.0</td>\n      <td>Australia</td>\n      <td>0</td>\n    </tr>\n    <tr>\n      <th>2</th>\n      <td>Karantonis, D.M., Narayanan, M.R., Mathie, M.,...</td>\n      <td>Implementation of a real-time human movement c...</td>\n      <td>2006</td>\n      <td>908.0</td>\n      <td>Australia</td>\n      <td>0</td>\n    </tr>\n    <tr>\n      <th>3</th>\n      <td>Mirjalili, S.</td>\n      <td>Dragonfly algorithm: a new meta-heuristic opti...</td>\n      <td>2016</td>\n      <td>865.0</td>\n      <td>Australia</td>\n      <td>0</td>\n    </tr>\n    <tr>\n      <th>4</th>\n      <td>Naseem, I., Togneri, R., Bennamoun, M.</td>\n      <td>Linear regression for face recognition</td>\n      <td>2010</td>\n      <td>768.0</td>\n      <td>Australia</td>\n      <td>0</td>\n    </tr>\n  </tbody>\n</table>\n</div>"
     },
     "metadata": {},
     "execution_count": 19
    }
   ],
   "source": [
    "df.head()"
   ]
  },
  {
   "source": [
    "## Saving final database to 'csv' file"
   ],
   "cell_type": "markdown",
   "metadata": {}
  },
  {
   "source": [
    "df.to_csv('Complete_database.csv')"
   ],
   "cell_type": "code",
   "metadata": {},
   "execution_count": 20,
   "outputs": []
  }
 ],
 "metadata": {
  "kernelspec": {
   "display_name": "Python 3",
   "language": "python",
   "name": "python3"
  },
  "language_info": {
   "codemirror_mode": {
    "name": "ipython",
    "version": 3
   },
   "file_extension": ".py",
   "mimetype": "text/x-python",
   "name": "python",
   "nbconvert_exporter": "python",
   "pygments_lexer": "ipython3",
   "version": "3.8.5"
  }
 },
 "nbformat": 4,
 "nbformat_minor": 2
}