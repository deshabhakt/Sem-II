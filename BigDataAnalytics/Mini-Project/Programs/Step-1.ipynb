{
 "metadata": {
  "language_info": {
   "codemirror_mode": {
    "name": "ipython",
    "version": 3
   },
   "file_extension": ".py",
   "mimetype": "text/x-python",
   "name": "python",
   "nbconvert_exporter": "python",
   "pygments_lexer": "ipython3",
   "version": "3.9.3"
  },
  "orig_nbformat": 2,
  "kernelspec": {
   "name": "python3",
   "display_name": "Python 3",
   "language": "python"
  }
 },
 "nbformat": 4,
 "nbformat_minor": 2,
 "cells": [
  {
   "cell_type": "code",
   "execution_count": 1,
   "metadata": {},
   "outputs": [],
   "source": [
    "import pandas as pd\n",
    "import os\n",
    "\n",
    "base_dir = '/mnt/General_Stuff/Study Stuff/Documents/CDS/Sem-II/BigDataAnalytics/BigData-Programs/Mini-Project/Data'"
   ]
  },
  {
   "cell_type": "code",
   "execution_count": 2,
   "metadata": {},
   "outputs": [],
   "source": [
    "dir_lst = []\n",
    "for data_file in os.listdir(base_dir):\n",
    "    dir_lst.append(os.path.join(base_dir,data_file))"
   ]
  },
  {
   "cell_type": "code",
   "execution_count": 3,
   "metadata": {},
   "outputs": [],
   "source": [
    "country_lst = ['Australia','Canada','China','France','Germany','India','Iran','Italy','Japan','Netherlands','South Korea','Spain','Taiwan','United Kingdom', 'United States']"
   ]
  },
  {
   "cell_type": "code",
   "execution_count": 4,
   "metadata": {},
   "outputs": [
    {
     "output_type": "execute_result",
     "data": {
      "text/plain": [
       "['/mnt/General_Stuff/Study Stuff/Documents/CDS/Sem-II/BigDataAnalytics/BigData-Programs/Mini-Project/Data/Artificial-Intelligence-Australia.csv',\n",
       " '/mnt/General_Stuff/Study Stuff/Documents/CDS/Sem-II/BigDataAnalytics/BigData-Programs/Mini-Project/Data/Artificial-Intelligence-Canada.csv',\n",
       " '/mnt/General_Stuff/Study Stuff/Documents/CDS/Sem-II/BigDataAnalytics/BigData-Programs/Mini-Project/Data/Artificial-Intelligence-China.csv',\n",
       " '/mnt/General_Stuff/Study Stuff/Documents/CDS/Sem-II/BigDataAnalytics/BigData-Programs/Mini-Project/Data/Artificial-Intelligence-France.csv',\n",
       " '/mnt/General_Stuff/Study Stuff/Documents/CDS/Sem-II/BigDataAnalytics/BigData-Programs/Mini-Project/Data/Artificial-Intelligence-Germany.csv',\n",
       " '/mnt/General_Stuff/Study Stuff/Documents/CDS/Sem-II/BigDataAnalytics/BigData-Programs/Mini-Project/Data/Artificial-Intelligence-India.csv',\n",
       " '/mnt/General_Stuff/Study Stuff/Documents/CDS/Sem-II/BigDataAnalytics/BigData-Programs/Mini-Project/Data/Artificial-Intelligence-Iran.csv',\n",
       " '/mnt/General_Stuff/Study Stuff/Documents/CDS/Sem-II/BigDataAnalytics/BigData-Programs/Mini-Project/Data/Artificial-Intelligence-Italy.csv',\n",
       " '/mnt/General_Stuff/Study Stuff/Documents/CDS/Sem-II/BigDataAnalytics/BigData-Programs/Mini-Project/Data/Artificial-Intelligence-Japan.csv',\n",
       " '/mnt/General_Stuff/Study Stuff/Documents/CDS/Sem-II/BigDataAnalytics/BigData-Programs/Mini-Project/Data/Artificial-Intelligence-Netherlands.csv',\n",
       " '/mnt/General_Stuff/Study Stuff/Documents/CDS/Sem-II/BigDataAnalytics/BigData-Programs/Mini-Project/Data/Artificial-Intelligence-SouthKorea.csv',\n",
       " '/mnt/General_Stuff/Study Stuff/Documents/CDS/Sem-II/BigDataAnalytics/BigData-Programs/Mini-Project/Data/Artificial-Intelligence-Spain.csv',\n",
       " '/mnt/General_Stuff/Study Stuff/Documents/CDS/Sem-II/BigDataAnalytics/BigData-Programs/Mini-Project/Data/Artificial-Intelligence-Taiwan.csv',\n",
       " '/mnt/General_Stuff/Study Stuff/Documents/CDS/Sem-II/BigDataAnalytics/BigData-Programs/Mini-Project/Data/Artificial-Intelligence-UK.csv',\n",
       " '/mnt/General_Stuff/Study Stuff/Documents/CDS/Sem-II/BigDataAnalytics/BigData-Programs/Mini-Project/Data/Artificial-Intelligence-US.csv']"
      ]
     },
     "metadata": {},
     "execution_count": 4
    }
   ],
   "source": [
    "dir_lst"
   ]
  },
  {
   "cell_type": "code",
   "execution_count": 5,
   "metadata": {},
   "outputs": [
    {
     "output_type": "stream",
     "name": "stdout",
     "text": [
      "15\n"
     ]
    }
   ],
   "source": [
    "print(len(dir_lst))"
   ]
  },
  {
   "cell_type": "code",
   "execution_count": 6,
   "metadata": {},
   "outputs": [
    {
     "output_type": "stream",
     "name": "stdout",
     "text": [
      "Australia\n",
      "Canada\n",
      "China\n",
      "France\n",
      "Germany\n",
      "India\n",
      "Iran\n",
      "Italy\n",
      "Japan\n",
      "Netherlands\n",
      "South Korea\n",
      "Spain\n",
      "Taiwan\n",
      "United Kingdom\n",
      "United States\n"
     ]
    }
   ],
   "source": [
    "df_lst = []\n",
    "for data_file, country in zip(dir_lst, country_lst):\n",
    "        print(country)\n",
    "        df_tmp = pd.read_csv(data_file).drop(['Author(s) ID' ,'Source title','Volume', 'Issue', 'Art. No.', 'Page start', 'Page end', 'Page count', 'DOI', 'Link', 'Document Type', 'Publication Stage','Open Access', 'Source', 'EID'],axis='columns').fillna(0)\n",
    "        df_tmp['Country'] = country\n",
    "        df_lst.append(df_tmp)"
   ]
  },
  {
   "cell_type": "code",
   "execution_count": 7,
   "metadata": {},
   "outputs": [
    {
     "output_type": "execute_result",
     "data": {
      "text/plain": [
       "                                                Authors  \\\n",
       "0     Soares, J.V.B., Leandro, J.J.G., Cesar Jr., R....   \n",
       "1     Scarselli, F., Gori, M., Tsoi, A.C., Hagenbuch...   \n",
       "2     Karantonis, D.M., Narayanan, M.R., Mathie, M.,...   \n",
       "3                                         Mirjalili, S.   \n",
       "4                Naseem, I., Togneri, R., Bennamoun, M.   \n",
       "...                                                 ...   \n",
       "3356                               Roy, G.G., Omari, A.   \n",
       "3357            Green, D.G., Reichelt, R.E., Buck, R.G.   \n",
       "3358                       Thomson, D.W., Thomson, J.V.   \n",
       "3359                                      Radford, A.D.   \n",
       "3360                                         Self, J.A.   \n",
       "\n",
       "                                                  Title  Year  Cited by  \\\n",
       "0     Retinal vessel segmentation using the 2-D Gabo...  2006    1083.0   \n",
       "1                        The graph neural network model  2009    1031.0   \n",
       "2     Implementation of a real-time human movement c...  2006     908.0   \n",
       "3     Dragonfly algorithm: a new meta-heuristic opti...  2016     865.0   \n",
       "4                Linear regression for face recognition  2010     768.0   \n",
       "...                                                 ...   ...       ...   \n",
       "3356  Expert systems as design aids an application t...  1988       0.0   \n",
       "3357                 Self-adaptive modelling algorithms  1988       0.0   \n",
       "3358  The shortest path through the interior of a po...  1987       0.0   \n",
       "3359  Approaches to knowledge-based - architectural ...  1985       0.0   \n",
       "3360      A state-space model for automatic instruction  1977       0.0   \n",
       "\n",
       "        Country  \n",
       "0     Australia  \n",
       "1     Australia  \n",
       "2     Australia  \n",
       "3     Australia  \n",
       "4     Australia  \n",
       "...         ...  \n",
       "3356  Australia  \n",
       "3357  Australia  \n",
       "3358  Australia  \n",
       "3359  Australia  \n",
       "3360  Australia  \n",
       "\n",
       "[3361 rows x 5 columns]"
      ],
      "text/html": "<div>\n<style scoped>\n    .dataframe tbody tr th:only-of-type {\n        vertical-align: middle;\n    }\n\n    .dataframe tbody tr th {\n        vertical-align: top;\n    }\n\n    .dataframe thead th {\n        text-align: right;\n    }\n</style>\n<table border=\"1\" class=\"dataframe\">\n  <thead>\n    <tr style=\"text-align: right;\">\n      <th></th>\n      <th>Authors</th>\n      <th>Title</th>\n      <th>Year</th>\n      <th>Cited by</th>\n      <th>Country</th>\n    </tr>\n  </thead>\n  <tbody>\n    <tr>\n      <th>0</th>\n      <td>Soares, J.V.B., Leandro, J.J.G., Cesar Jr., R....</td>\n      <td>Retinal vessel segmentation using the 2-D Gabo...</td>\n      <td>2006</td>\n      <td>1083.0</td>\n      <td>Australia</td>\n    </tr>\n    <tr>\n      <th>1</th>\n      <td>Scarselli, F., Gori, M., Tsoi, A.C., Hagenbuch...</td>\n      <td>The graph neural network model</td>\n      <td>2009</td>\n      <td>1031.0</td>\n      <td>Australia</td>\n    </tr>\n    <tr>\n      <th>2</th>\n      <td>Karantonis, D.M., Narayanan, M.R., Mathie, M.,...</td>\n      <td>Implementation of a real-time human movement c...</td>\n      <td>2006</td>\n      <td>908.0</td>\n      <td>Australia</td>\n    </tr>\n    <tr>\n      <th>3</th>\n      <td>Mirjalili, S.</td>\n      <td>Dragonfly algorithm: a new meta-heuristic opti...</td>\n      <td>2016</td>\n      <td>865.0</td>\n      <td>Australia</td>\n    </tr>\n    <tr>\n      <th>4</th>\n      <td>Naseem, I., Togneri, R., Bennamoun, M.</td>\n      <td>Linear regression for face recognition</td>\n      <td>2010</td>\n      <td>768.0</td>\n      <td>Australia</td>\n    </tr>\n    <tr>\n      <th>...</th>\n      <td>...</td>\n      <td>...</td>\n      <td>...</td>\n      <td>...</td>\n      <td>...</td>\n    </tr>\n    <tr>\n      <th>3356</th>\n      <td>Roy, G.G., Omari, A.</td>\n      <td>Expert systems as design aids an application t...</td>\n      <td>1988</td>\n      <td>0.0</td>\n      <td>Australia</td>\n    </tr>\n    <tr>\n      <th>3357</th>\n      <td>Green, D.G., Reichelt, R.E., Buck, R.G.</td>\n      <td>Self-adaptive modelling algorithms</td>\n      <td>1988</td>\n      <td>0.0</td>\n      <td>Australia</td>\n    </tr>\n    <tr>\n      <th>3358</th>\n      <td>Thomson, D.W., Thomson, J.V.</td>\n      <td>The shortest path through the interior of a po...</td>\n      <td>1987</td>\n      <td>0.0</td>\n      <td>Australia</td>\n    </tr>\n    <tr>\n      <th>3359</th>\n      <td>Radford, A.D.</td>\n      <td>Approaches to knowledge-based - architectural ...</td>\n      <td>1985</td>\n      <td>0.0</td>\n      <td>Australia</td>\n    </tr>\n    <tr>\n      <th>3360</th>\n      <td>Self, J.A.</td>\n      <td>A state-space model for automatic instruction</td>\n      <td>1977</td>\n      <td>0.0</td>\n      <td>Australia</td>\n    </tr>\n  </tbody>\n</table>\n<p>3361 rows × 5 columns</p>\n</div>"
     },
     "metadata": {},
     "execution_count": 7
    }
   ],
   "source": [
    "df_lst[0]"
   ]
  },
  {
   "cell_type": "code",
   "execution_count": 8,
   "metadata": {},
   "outputs": [],
   "source": [
    "df = pd.concat(df_lst)"
   ]
  },
  {
   "source": [
    "df.to_csv('Merged_Database.csv')"
   ],
   "cell_type": "markdown",
   "metadata": {}
  },
  {
   "cell_type": "code",
   "execution_count": 9,
   "metadata": {},
   "outputs": [],
   "source": [
    "df_1 = pd.read_csv('Complete Database')\n",
    "df_2 = pd.read_csv('Merged_Database.csv')"
   ]
  },
  {
   "cell_type": "code",
   "execution_count": 10,
   "metadata": {},
   "outputs": [
    {
     "output_type": "execute_result",
     "data": {
      "text/plain": [
       "array([ True,  True,  True,  True,  True,  True])"
      ]
     },
     "metadata": {},
     "execution_count": 10
    }
   ],
   "source": [
    "df_1.columns == df_2.columns"
   ]
  },
  {
   "cell_type": "code",
   "execution_count": 11,
   "metadata": {},
   "outputs": [
    {
     "output_type": "stream",
     "name": "stdout",
     "text": [
      "Index(['Unnamed: 0', 'Authors', 'Title', 'Year', 'Cited by', 'Country'], dtype='object')\nIndex(['Unnamed: 0', 'Authors', 'Title', 'Year', 'Cited by', 'Country'], dtype='object')\n"
     ]
    }
   ],
   "source": [
    "print(df_1.columns)\n",
    "print(df_2.columns)"
   ]
  }
 ]
}