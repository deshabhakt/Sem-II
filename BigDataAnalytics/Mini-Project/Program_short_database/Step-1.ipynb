{
 "metadata": {
  "language_info": {
   "codemirror_mode": {
    "name": "ipython",
    "version": 3
   },
   "file_extension": ".py",
   "mimetype": "text/x-python",
   "name": "python",
   "nbconvert_exporter": "python",
   "pygments_lexer": "ipython3",
   "version": "3.9.3"
  },
  "orig_nbformat": 2,
  "kernelspec": {
   "name": "python3",
   "display_name": "Python 3",
   "language": "python"
  }
 },
 "nbformat": 4,
 "nbformat_minor": 2,
 "cells": [
  {
   "cell_type": "code",
   "execution_count": 1,
   "metadata": {},
   "outputs": [],
   "source": [
    "import pandas as pd\n",
    "import os\n",
    "import numpy as np\n",
    "base_dir = '/mnt/General_Stuff/Study Stuff/Documents/CDS/Sem-II/BigDataAnalytics/BigData-Programs/Mini-Project/Data_new'"
   ]
  },
  {
   "cell_type": "code",
   "execution_count": 2,
   "metadata": {},
   "outputs": [],
   "source": [
    "dir_lst = []\n",
    "for data_file in os.listdir(base_dir):\n",
    "    dir_lst.append(os.path.join(base_dir,data_file))"
   ]
  },
  {
   "cell_type": "code",
   "execution_count": 3,
   "metadata": {},
   "outputs": [
    {
     "output_type": "execute_result",
     "data": {
      "text/plain": [
       "'/mnt/General_Stuff/Study Stuff/Documents/CDS/Sem-II/BigDataAnalytics/BigData-Programs/Mini-Project/Data_new/AI-Australia.csv'"
      ]
     },
     "metadata": {},
     "execution_count": 3
    }
   ],
   "source": [
    "dir_lst[0]"
   ]
  },
  {
   "cell_type": "code",
   "execution_count": 4,
   "metadata": {},
   "outputs": [],
   "source": [
    "country_lst = ['Australia','Canada','China','France','Germany','India','Iran','Italy','Japan','Netherlands','South Korea','Spain','Taiwan','United Kingdom', 'United States']"
   ]
  },
  {
   "cell_type": "code",
   "execution_count": 5,
   "metadata": {},
   "outputs": [
    {
     "output_type": "execute_result",
     "data": {
      "text/plain": [
       "['/mnt/General_Stuff/Study Stuff/Documents/CDS/Sem-II/BigDataAnalytics/BigData-Programs/Mini-Project/Data_new/AI-Australia.csv',\n",
       " '/mnt/General_Stuff/Study Stuff/Documents/CDS/Sem-II/BigDataAnalytics/BigData-Programs/Mini-Project/Data_new/AI-Canada.csv',\n",
       " '/mnt/General_Stuff/Study Stuff/Documents/CDS/Sem-II/BigDataAnalytics/BigData-Programs/Mini-Project/Data_new/AI-China.csv',\n",
       " '/mnt/General_Stuff/Study Stuff/Documents/CDS/Sem-II/BigDataAnalytics/BigData-Programs/Mini-Project/Data_new/AI-France.csv',\n",
       " '/mnt/General_Stuff/Study Stuff/Documents/CDS/Sem-II/BigDataAnalytics/BigData-Programs/Mini-Project/Data_new/AI-Germany.csv',\n",
       " '/mnt/General_Stuff/Study Stuff/Documents/CDS/Sem-II/BigDataAnalytics/BigData-Programs/Mini-Project/Data_new/AI-India.csv',\n",
       " '/mnt/General_Stuff/Study Stuff/Documents/CDS/Sem-II/BigDataAnalytics/BigData-Programs/Mini-Project/Data_new/AI-Iran.csv',\n",
       " '/mnt/General_Stuff/Study Stuff/Documents/CDS/Sem-II/BigDataAnalytics/BigData-Programs/Mini-Project/Data_new/AI-Italy.csv',\n",
       " '/mnt/General_Stuff/Study Stuff/Documents/CDS/Sem-II/BigDataAnalytics/BigData-Programs/Mini-Project/Data_new/AI-Japan.csv',\n",
       " '/mnt/General_Stuff/Study Stuff/Documents/CDS/Sem-II/BigDataAnalytics/BigData-Programs/Mini-Project/Data_new/AI-Netherlands.csv',\n",
       " '/mnt/General_Stuff/Study Stuff/Documents/CDS/Sem-II/BigDataAnalytics/BigData-Programs/Mini-Project/Data_new/AI-South_korea.csv',\n",
       " '/mnt/General_Stuff/Study Stuff/Documents/CDS/Sem-II/BigDataAnalytics/BigData-Programs/Mini-Project/Data_new/AI-Spain.csv',\n",
       " '/mnt/General_Stuff/Study Stuff/Documents/CDS/Sem-II/BigDataAnalytics/BigData-Programs/Mini-Project/Data_new/AI-Taiwan.csv',\n",
       " '/mnt/General_Stuff/Study Stuff/Documents/CDS/Sem-II/BigDataAnalytics/BigData-Programs/Mini-Project/Data_new/AI-UK.csv',\n",
       " '/mnt/General_Stuff/Study Stuff/Documents/CDS/Sem-II/BigDataAnalytics/BigData-Programs/Mini-Project/Data_new/AI-USA.csv']"
      ]
     },
     "metadata": {},
     "execution_count": 5
    }
   ],
   "source": [
    "dir_lst"
   ]
  },
  {
   "cell_type": "code",
   "execution_count": 6,
   "metadata": {},
   "outputs": [
    {
     "output_type": "stream",
     "name": "stdout",
     "text": [
      "15\n"
     ]
    }
   ],
   "source": [
    "print(len(dir_lst))"
   ]
  },
  {
   "cell_type": "code",
   "execution_count": 7,
   "metadata": {},
   "outputs": [
    {
     "output_type": "stream",
     "name": "stdout",
     "text": [
      "Australia\n",
      "Canada\n",
      "China\n",
      "France\n",
      "Germany\n",
      "India\n",
      "Iran\n",
      "Italy\n",
      "Japan\n",
      "Netherlands\n",
      "South Korea\n",
      "Spain\n",
      "Taiwan\n",
      "United Kingdom\n",
      "United States\n"
     ]
    }
   ],
   "source": [
    "df_lst = []\n",
    "\n",
    "for data_file, country in zip(dir_lst, country_lst):\n",
    "        \n",
    "        print(country)\n",
    "\n",
    "        df_tmp = pd.read_csv(data_file)\n",
    "        \n",
    "        df_tmp = df_tmp.drop(['Link', 'Publication Stage'],axis='columns')\n",
    "        \n",
    "        df_tmp = df_tmp.fillna(0)\n",
    "        \n",
    "        df_tmp['Country'] = country\n",
    "       \n",
    "        df_lst.append(df_tmp)"
   ]
  },
  {
   "cell_type": "code",
   "execution_count": 8,
   "metadata": {},
   "outputs": [
    {
     "output_type": "execute_result",
     "data": {
      "text/plain": [
       "                                               Authors  \\\n",
       "0                     Tao F., Qi Q., Liu A., Kusiak A.   \n",
       "1                      Zhang K., Gao X., Tao D., Li X.   \n",
       "2    Kristan M., Matas J., Leonardis A., Vojir T., ...   \n",
       "3                 Ding C., Choi J., Tao D., Davis L.S.   \n",
       "4    Celebi M.E., Kingravi H.A., Iyatomi H., Asland...   \n",
       "..                                                 ...   \n",
       "334                Ma Y., Yu Z., Han G., Li J., Anh V.   \n",
       "335  Angelova M., Ellman J., Gibson H., Oman P., Ra...   \n",
       "336                              Li L., Chen Y., Xu T.   \n",
       "337                            Cao H., Wang D., Cao F.   \n",
       "338        Wu X.-D., Zhu X.-Q., Chen Q.-J., Wang F.-Y.   \n",
       "\n",
       "                                                 Title  Year  Cited by  \\\n",
       "0                      Data-driven smart manufacturing  2018     375.0   \n",
       "1    Single image super-resolution with non-local m...  2012     362.0   \n",
       "2    A Novel Performance Evaluation Methodology for...  2016     264.0   \n",
       "3    Multi-Directional Multi-Level Dual-Cross Patte...  2016     243.0   \n",
       "4    Border detection in dermoscopy images using st...  2008     241.0   \n",
       "..                                                 ...   ...       ...   \n",
       "334  Identification of pre-microRNAs by characteriz...  2018       0.0   \n",
       "335    User Activity Pattern Analysis in Telecare Data  2018       0.0   \n",
       "336  Integration of fuzzy theory and particle swarm...  2018       0.0   \n",
       "337  An adiabatic quantum algorithm and its applica...  2015       0.0   \n",
       "338  Ubiquitous mining with interactive data mining...  2009       0.0   \n",
       "\n",
       "                                       Funding Details    Country  \n",
       "0    National Natural Science Foundation of China\\n...  Australia  \n",
       "1    National Natural Science Foundation of China\\n...  Australia  \n",
       "2                          Seventh Framework Programme  Australia  \n",
       "3    National Science Foundation\\n\\nAustralian Rese...  Australia  \n",
       "4                            National Cancer Institute  Australia  \n",
       "..                                                 ...        ...  \n",
       "334  Australian Research Council\\n\\nNational Natura...  Australia  \n",
       "335  Seventh Framework Programme\\n\\nAcademy of Medi...  Australia  \n",
       "336                                                  0  Australia  \n",
       "337  National Natural Science Foundation of China\\n...  Australia  \n",
       "338  National Natural Science Foundation of China\\n...  Australia  \n",
       "\n",
       "[339 rows x 6 columns]"
      ],
      "text/html": "<div>\n<style scoped>\n    .dataframe tbody tr th:only-of-type {\n        vertical-align: middle;\n    }\n\n    .dataframe tbody tr th {\n        vertical-align: top;\n    }\n\n    .dataframe thead th {\n        text-align: right;\n    }\n</style>\n<table border=\"1\" class=\"dataframe\">\n  <thead>\n    <tr style=\"text-align: right;\">\n      <th></th>\n      <th>Authors</th>\n      <th>Title</th>\n      <th>Year</th>\n      <th>Cited by</th>\n      <th>Funding Details</th>\n      <th>Country</th>\n    </tr>\n  </thead>\n  <tbody>\n    <tr>\n      <th>0</th>\n      <td>Tao F., Qi Q., Liu A., Kusiak A.</td>\n      <td>Data-driven smart manufacturing</td>\n      <td>2018</td>\n      <td>375.0</td>\n      <td>National Natural Science Foundation of China\\n...</td>\n      <td>Australia</td>\n    </tr>\n    <tr>\n      <th>1</th>\n      <td>Zhang K., Gao X., Tao D., Li X.</td>\n      <td>Single image super-resolution with non-local m...</td>\n      <td>2012</td>\n      <td>362.0</td>\n      <td>National Natural Science Foundation of China\\n...</td>\n      <td>Australia</td>\n    </tr>\n    <tr>\n      <th>2</th>\n      <td>Kristan M., Matas J., Leonardis A., Vojir T., ...</td>\n      <td>A Novel Performance Evaluation Methodology for...</td>\n      <td>2016</td>\n      <td>264.0</td>\n      <td>Seventh Framework Programme</td>\n      <td>Australia</td>\n    </tr>\n    <tr>\n      <th>3</th>\n      <td>Ding C., Choi J., Tao D., Davis L.S.</td>\n      <td>Multi-Directional Multi-Level Dual-Cross Patte...</td>\n      <td>2016</td>\n      <td>243.0</td>\n      <td>National Science Foundation\\n\\nAustralian Rese...</td>\n      <td>Australia</td>\n    </tr>\n    <tr>\n      <th>4</th>\n      <td>Celebi M.E., Kingravi H.A., Iyatomi H., Asland...</td>\n      <td>Border detection in dermoscopy images using st...</td>\n      <td>2008</td>\n      <td>241.0</td>\n      <td>National Cancer Institute</td>\n      <td>Australia</td>\n    </tr>\n    <tr>\n      <th>...</th>\n      <td>...</td>\n      <td>...</td>\n      <td>...</td>\n      <td>...</td>\n      <td>...</td>\n      <td>...</td>\n    </tr>\n    <tr>\n      <th>334</th>\n      <td>Ma Y., Yu Z., Han G., Li J., Anh V.</td>\n      <td>Identification of pre-microRNAs by characteriz...</td>\n      <td>2018</td>\n      <td>0.0</td>\n      <td>Australian Research Council\\n\\nNational Natura...</td>\n      <td>Australia</td>\n    </tr>\n    <tr>\n      <th>335</th>\n      <td>Angelova M., Ellman J., Gibson H., Oman P., Ra...</td>\n      <td>User Activity Pattern Analysis in Telecare Data</td>\n      <td>2018</td>\n      <td>0.0</td>\n      <td>Seventh Framework Programme\\n\\nAcademy of Medi...</td>\n      <td>Australia</td>\n    </tr>\n    <tr>\n      <th>336</th>\n      <td>Li L., Chen Y., Xu T.</td>\n      <td>Integration of fuzzy theory and particle swarm...</td>\n      <td>2018</td>\n      <td>0.0</td>\n      <td>0</td>\n      <td>Australia</td>\n    </tr>\n    <tr>\n      <th>337</th>\n      <td>Cao H., Wang D., Cao F.</td>\n      <td>An adiabatic quantum algorithm and its applica...</td>\n      <td>2015</td>\n      <td>0.0</td>\n      <td>National Natural Science Foundation of China\\n...</td>\n      <td>Australia</td>\n    </tr>\n    <tr>\n      <th>338</th>\n      <td>Wu X.-D., Zhu X.-Q., Chen Q.-J., Wang F.-Y.</td>\n      <td>Ubiquitous mining with interactive data mining...</td>\n      <td>2009</td>\n      <td>0.0</td>\n      <td>National Natural Science Foundation of China\\n...</td>\n      <td>Australia</td>\n    </tr>\n  </tbody>\n</table>\n<p>339 rows × 6 columns</p>\n</div>"
     },
     "metadata": {},
     "execution_count": 8
    }
   ],
   "source": [
    "df_lst[0]"
   ]
  },
  {
   "cell_type": "code",
   "execution_count": 9,
   "metadata": {},
   "outputs": [],
   "source": [
    "df = pd.concat(df_lst)"
   ]
  },
  {
   "cell_type": "code",
   "execution_count": 10,
   "metadata": {},
   "outputs": [
    {
     "output_type": "execute_result",
     "data": {
      "text/plain": [
       "(9074, 6)"
      ]
     },
     "metadata": {},
     "execution_count": 10
    }
   ],
   "source": [
    "df.shape"
   ]
  },
  {
   "source": [
    "df.to_csv('Merged_Database.csv')"
   ],
   "cell_type": "code",
   "metadata": {},
   "execution_count": 11,
   "outputs": []
  }
 ]
}