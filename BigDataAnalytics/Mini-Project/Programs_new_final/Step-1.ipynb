{
 "cells": [
  {
   "source": [
    "# Data Preprocessing\n",
    "## Creating Complete Database file"
   ],
   "cell_type": "markdown",
   "metadata": {}
  },
  {
   "source": [
    "## Importing Necessary Libraries"
   ],
   "cell_type": "markdown",
   "metadata": {}
  },
  {
   "cell_type": "code",
   "execution_count": 1,
   "metadata": {},
   "outputs": [],
   "source": [
    "import pandas as pd\n",
    "import numpy as np\n",
    "import os\n",
    "\n",
    "base_dir = '/mnt/General_Stuff/Study Stuff/Documents/CDS/Sem-II/BigDataAnalytics/BigData-Programs/Mini-Project/Data'"
   ]
  },
  {
   "source": [
    "## Storing Country-wise Database file location into python list"
   ],
   "cell_type": "markdown",
   "metadata": {}
  },
  {
   "cell_type": "code",
   "execution_count": 2,
   "metadata": {},
   "outputs": [],
   "source": [
    "dir_lst = []\n",
    "for data_file in os.listdir(base_dir):\n",
    "    dir_lst.append(os.path.join(base_dir,data_file))"
   ]
  },
  {
   "cell_type": "code",
   "execution_count": 3,
   "metadata": {},
   "outputs": [
    {
     "output_type": "execute_result",
     "data": {
      "text/plain": [
       "['/mnt/General_Stuff/Study Stuff/Documents/CDS/Sem-II/BigDataAnalytics/BigData-Programs/Mini-Project/Data/Artificial-Intelligence-Australia.csv',\n",
       " '/mnt/General_Stuff/Study Stuff/Documents/CDS/Sem-II/BigDataAnalytics/BigData-Programs/Mini-Project/Data/Artificial-Intelligence-Canada.csv',\n",
       " '/mnt/General_Stuff/Study Stuff/Documents/CDS/Sem-II/BigDataAnalytics/BigData-Programs/Mini-Project/Data/Artificial-Intelligence-China.csv',\n",
       " '/mnt/General_Stuff/Study Stuff/Documents/CDS/Sem-II/BigDataAnalytics/BigData-Programs/Mini-Project/Data/Artificial-Intelligence-France.csv',\n",
       " '/mnt/General_Stuff/Study Stuff/Documents/CDS/Sem-II/BigDataAnalytics/BigData-Programs/Mini-Project/Data/Artificial-Intelligence-Germany.csv',\n",
       " '/mnt/General_Stuff/Study Stuff/Documents/CDS/Sem-II/BigDataAnalytics/BigData-Programs/Mini-Project/Data/Artificial-Intelligence-India.csv',\n",
       " '/mnt/General_Stuff/Study Stuff/Documents/CDS/Sem-II/BigDataAnalytics/BigData-Programs/Mini-Project/Data/Artificial-Intelligence-Iran.csv',\n",
       " '/mnt/General_Stuff/Study Stuff/Documents/CDS/Sem-II/BigDataAnalytics/BigData-Programs/Mini-Project/Data/Artificial-Intelligence-Italy.csv',\n",
       " '/mnt/General_Stuff/Study Stuff/Documents/CDS/Sem-II/BigDataAnalytics/BigData-Programs/Mini-Project/Data/Artificial-Intelligence-Japan.csv',\n",
       " '/mnt/General_Stuff/Study Stuff/Documents/CDS/Sem-II/BigDataAnalytics/BigData-Programs/Mini-Project/Data/Artificial-Intelligence-Netherlands.csv',\n",
       " '/mnt/General_Stuff/Study Stuff/Documents/CDS/Sem-II/BigDataAnalytics/BigData-Programs/Mini-Project/Data/Artificial-Intelligence-SouthKorea.csv',\n",
       " '/mnt/General_Stuff/Study Stuff/Documents/CDS/Sem-II/BigDataAnalytics/BigData-Programs/Mini-Project/Data/Artificial-Intelligence-Spain.csv',\n",
       " '/mnt/General_Stuff/Study Stuff/Documents/CDS/Sem-II/BigDataAnalytics/BigData-Programs/Mini-Project/Data/Artificial-Intelligence-Taiwan.csv',\n",
       " '/mnt/General_Stuff/Study Stuff/Documents/CDS/Sem-II/BigDataAnalytics/BigData-Programs/Mini-Project/Data/Artificial-Intelligence-UK.csv',\n",
       " '/mnt/General_Stuff/Study Stuff/Documents/CDS/Sem-II/BigDataAnalytics/BigData-Programs/Mini-Project/Data/Artificial-Intelligence-US.csv']"
      ]
     },
     "metadata": {},
     "execution_count": 3
    }
   ],
   "source": [
    "dir_lst"
   ]
  },
  {
   "source": [
    "## Creating a Python list with country names"
   ],
   "cell_type": "markdown",
   "metadata": {}
  },
  {
   "cell_type": "code",
   "execution_count": 4,
   "metadata": {},
   "outputs": [],
   "source": [
    "country_lst = ['Australia','Canada','China','France','Germany','India','Iran','Italy','Japan','Netherlands','South Korea','Spain','Taiwan','United Kingdom', 'United States']"
   ]
  },
  {
   "source": [
    "## Crossing checking number of database files and number of country names"
   ],
   "cell_type": "markdown",
   "metadata": {}
  },
  {
   "cell_type": "code",
   "execution_count": 6,
   "metadata": {},
   "outputs": [
    {
     "output_type": "execute_result",
     "data": {
      "text/plain": [
       "True"
      ]
     },
     "metadata": {},
     "execution_count": 6
    }
   ],
   "source": [
    "len(dir_lst) == len(country_lst)"
   ]
  },
  {
   "source": [
    "## Reading database of each country, removing unnecessary columns, adding country name column and storing those as a pandas dataframe into python list"
   ],
   "cell_type": "markdown",
   "metadata": {}
  },
  {
   "cell_type": "code",
   "execution_count": 7,
   "metadata": {},
   "outputs": [
    {
     "output_type": "stream",
     "name": "stdout",
     "text": [
      "Australia\n",
      "Canada\n",
      "China\n",
      "France\n",
      "Germany\n",
      "India\n",
      "Iran\n",
      "Italy\n",
      "Japan\n",
      "Netherlands\n",
      "South Korea\n",
      "Spain\n",
      "Taiwan\n",
      "United Kingdom\n",
      "United States\n"
     ]
    }
   ],
   "source": [
    "df_lst = []\n",
    "\n",
    "for data_file, country in zip(dir_lst, country_lst):\n",
    "        print(country)\n",
    "        df_tmp = pd.read_csv(data_file)\n",
    "        \n",
    "        df_tmp = df_tmp.drop(['Author(s) ID' ,'Source title','Volume', 'Issue', 'Art. No.', 'Page start', 'Page end', 'Page count', 'DOI', 'Link', 'Document Type', 'Publication Stage','Open Access', 'Source', 'EID'],axis='columns')\n",
    "        \n",
    "        df_tmp = df_tmp.fillna(0)\n",
    "        df_tmp['Country'] = country\n",
    "        df_lst.append(df_tmp)"
   ]
  },
  {
   "cell_type": "code",
   "execution_count": 8,
   "metadata": {},
   "outputs": [
    {
     "output_type": "stream",
     "name": "stdout",
     "text": [
      "Australia\n"
     ]
    },
    {
     "output_type": "execute_result",
     "data": {
      "text/plain": [
       "                                             Authors  \\\n",
       "0  Soares, J.V.B., Leandro, J.J.G., Cesar Jr., R....   \n",
       "1  Scarselli, F., Gori, M., Tsoi, A.C., Hagenbuch...   \n",
       "2  Karantonis, D.M., Narayanan, M.R., Mathie, M.,...   \n",
       "3                                      Mirjalili, S.   \n",
       "4             Naseem, I., Togneri, R., Bennamoun, M.   \n",
       "\n",
       "                                               Title  Year  Cited by  \\\n",
       "0  Retinal vessel segmentation using the 2-D Gabo...  2006    1083.0   \n",
       "1                     The graph neural network model  2009    1031.0   \n",
       "2  Implementation of a real-time human movement c...  2006     908.0   \n",
       "3  Dragonfly algorithm: a new meta-heuristic opti...  2016     865.0   \n",
       "4             Linear regression for face recognition  2010     768.0   \n",
       "\n",
       "     Country  \n",
       "0  Australia  \n",
       "1  Australia  \n",
       "2  Australia  \n",
       "3  Australia  \n",
       "4  Australia  "
      ],
      "text/html": "<div>\n<style scoped>\n    .dataframe tbody tr th:only-of-type {\n        vertical-align: middle;\n    }\n\n    .dataframe tbody tr th {\n        vertical-align: top;\n    }\n\n    .dataframe thead th {\n        text-align: right;\n    }\n</style>\n<table border=\"1\" class=\"dataframe\">\n  <thead>\n    <tr style=\"text-align: right;\">\n      <th></th>\n      <th>Authors</th>\n      <th>Title</th>\n      <th>Year</th>\n      <th>Cited by</th>\n      <th>Country</th>\n    </tr>\n  </thead>\n  <tbody>\n    <tr>\n      <th>0</th>\n      <td>Soares, J.V.B., Leandro, J.J.G., Cesar Jr., R....</td>\n      <td>Retinal vessel segmentation using the 2-D Gabo...</td>\n      <td>2006</td>\n      <td>1083.0</td>\n      <td>Australia</td>\n    </tr>\n    <tr>\n      <th>1</th>\n      <td>Scarselli, F., Gori, M., Tsoi, A.C., Hagenbuch...</td>\n      <td>The graph neural network model</td>\n      <td>2009</td>\n      <td>1031.0</td>\n      <td>Australia</td>\n    </tr>\n    <tr>\n      <th>2</th>\n      <td>Karantonis, D.M., Narayanan, M.R., Mathie, M.,...</td>\n      <td>Implementation of a real-time human movement c...</td>\n      <td>2006</td>\n      <td>908.0</td>\n      <td>Australia</td>\n    </tr>\n    <tr>\n      <th>3</th>\n      <td>Mirjalili, S.</td>\n      <td>Dragonfly algorithm: a new meta-heuristic opti...</td>\n      <td>2016</td>\n      <td>865.0</td>\n      <td>Australia</td>\n    </tr>\n    <tr>\n      <th>4</th>\n      <td>Naseem, I., Togneri, R., Bennamoun, M.</td>\n      <td>Linear regression for face recognition</td>\n      <td>2010</td>\n      <td>768.0</td>\n      <td>Australia</td>\n    </tr>\n  </tbody>\n</table>\n</div>"
     },
     "metadata": {},
     "execution_count": 8
    }
   ],
   "source": [
    "print(country_lst[0])\n",
    "df_lst[0].head()"
   ]
  },
  {
   "source": [
    "## Merging coutry-databases from python list into a single pandas dataframe"
   ],
   "cell_type": "markdown",
   "metadata": {}
  },
  {
   "cell_type": "code",
   "execution_count": 9,
   "metadata": {},
   "outputs": [],
   "source": [
    "df = pd.concat(df_lst)"
   ]
  },
  {
   "cell_type": "code",
   "execution_count": 10,
   "metadata": {},
   "outputs": [
    {
     "output_type": "execute_result",
     "data": {
      "text/plain": [
       "(67694, 5)"
      ]
     },
     "metadata": {},
     "execution_count": 10
    }
   ],
   "source": [
    "df.shape"
   ]
  },
  {
   "cell_type": "code",
   "execution_count": 11,
   "metadata": {},
   "outputs": [
    {
     "output_type": "execute_result",
     "data": {
      "text/plain": [
       "                                             Authors  \\\n",
       "0  Soares, J.V.B., Leandro, J.J.G., Cesar Jr., R....   \n",
       "1  Scarselli, F., Gori, M., Tsoi, A.C., Hagenbuch...   \n",
       "2  Karantonis, D.M., Narayanan, M.R., Mathie, M.,...   \n",
       "3                                      Mirjalili, S.   \n",
       "4             Naseem, I., Togneri, R., Bennamoun, M.   \n",
       "\n",
       "                                               Title  Year  Cited by  \\\n",
       "0  Retinal vessel segmentation using the 2-D Gabo...  2006    1083.0   \n",
       "1                     The graph neural network model  2009    1031.0   \n",
       "2  Implementation of a real-time human movement c...  2006     908.0   \n",
       "3  Dragonfly algorithm: a new meta-heuristic opti...  2016     865.0   \n",
       "4             Linear regression for face recognition  2010     768.0   \n",
       "\n",
       "     Country  \n",
       "0  Australia  \n",
       "1  Australia  \n",
       "2  Australia  \n",
       "3  Australia  \n",
       "4  Australia  "
      ],
      "text/html": "<div>\n<style scoped>\n    .dataframe tbody tr th:only-of-type {\n        vertical-align: middle;\n    }\n\n    .dataframe tbody tr th {\n        vertical-align: top;\n    }\n\n    .dataframe thead th {\n        text-align: right;\n    }\n</style>\n<table border=\"1\" class=\"dataframe\">\n  <thead>\n    <tr style=\"text-align: right;\">\n      <th></th>\n      <th>Authors</th>\n      <th>Title</th>\n      <th>Year</th>\n      <th>Cited by</th>\n      <th>Country</th>\n    </tr>\n  </thead>\n  <tbody>\n    <tr>\n      <th>0</th>\n      <td>Soares, J.V.B., Leandro, J.J.G., Cesar Jr., R....</td>\n      <td>Retinal vessel segmentation using the 2-D Gabo...</td>\n      <td>2006</td>\n      <td>1083.0</td>\n      <td>Australia</td>\n    </tr>\n    <tr>\n      <th>1</th>\n      <td>Scarselli, F., Gori, M., Tsoi, A.C., Hagenbuch...</td>\n      <td>The graph neural network model</td>\n      <td>2009</td>\n      <td>1031.0</td>\n      <td>Australia</td>\n    </tr>\n    <tr>\n      <th>2</th>\n      <td>Karantonis, D.M., Narayanan, M.R., Mathie, M.,...</td>\n      <td>Implementation of a real-time human movement c...</td>\n      <td>2006</td>\n      <td>908.0</td>\n      <td>Australia</td>\n    </tr>\n    <tr>\n      <th>3</th>\n      <td>Mirjalili, S.</td>\n      <td>Dragonfly algorithm: a new meta-heuristic opti...</td>\n      <td>2016</td>\n      <td>865.0</td>\n      <td>Australia</td>\n    </tr>\n    <tr>\n      <th>4</th>\n      <td>Naseem, I., Togneri, R., Bennamoun, M.</td>\n      <td>Linear regression for face recognition</td>\n      <td>2010</td>\n      <td>768.0</td>\n      <td>Australia</td>\n    </tr>\n  </tbody>\n</table>\n</div>"
     },
     "metadata": {},
     "execution_count": 11
    }
   ],
   "source": [
    "df.head()"
   ]
  },
  {
   "source": [
    "## Applying same data pipeline as above for databases with funding column"
   ],
   "cell_type": "markdown",
   "metadata": {}
  },
  {
   "cell_type": "code",
   "execution_count": 12,
   "metadata": {},
   "outputs": [],
   "source": [
    "# Changin base_dir variable to path of database with funding column\n",
    "\n",
    "base_dir = '/mnt/General_Stuff/Study Stuff/Documents/CDS/Sem-II/BigDataAnalytics/BigData-Programs/Mini-Project/Data_with_sponsor_details'"
   ]
  },
  {
   "cell_type": "code",
   "execution_count": 13,
   "metadata": {},
   "outputs": [],
   "source": [
    "dir_lst = []\n",
    "for data_file in os.listdir(base_dir):\n",
    "    dir_lst.append(os.path.join(base_dir,data_file))"
   ]
  },
  {
   "cell_type": "code",
   "execution_count": 14,
   "metadata": {},
   "outputs": [
    {
     "output_type": "stream",
     "name": "stdout",
     "text": [
      "Australia\n",
      "Canada\n",
      "China\n",
      "France\n",
      "Germany\n",
      "India\n",
      "Iran\n",
      "Italy\n",
      "Japan\n",
      "Netherlands\n",
      "South Korea\n",
      "Spain\n",
      "Taiwan\n",
      "United Kingdom\n",
      "United States\n"
     ]
    }
   ],
   "source": [
    "df_lst = []\n",
    "\n",
    "for data_file, country in zip(dir_lst, country_lst):\n",
    "        \n",
    "        print(country)\n",
    "\n",
    "        df_tmp = pd.read_csv(data_file)\n",
    "        \n",
    "        df_tmp = df_tmp.drop(['Link','Publication Stage'],axis='columns')\n",
    "        \n",
    "        df_tmp = df_tmp.fillna(0)\n",
    "        \n",
    "        df_tmp['Country'] = country\n",
    "       \n",
    "        df_lst.append(df_tmp)"
   ]
  },
  {
   "cell_type": "code",
   "execution_count": 15,
   "metadata": {},
   "outputs": [],
   "source": [
    "df_addon = pd.concat(df_lst)"
   ]
  },
  {
   "cell_type": "code",
   "execution_count": 16,
   "metadata": {},
   "outputs": [
    {
     "output_type": "execute_result",
     "data": {
      "text/plain": [
       "                                             Authors  \\\n",
       "0                   Tao F., Qi Q., Liu A., Kusiak A.   \n",
       "1                    Zhang K., Gao X., Tao D., Li X.   \n",
       "2  Kristan M., Matas J., Leonardis A., Vojir T., ...   \n",
       "3               Ding C., Choi J., Tao D., Davis L.S.   \n",
       "4  Celebi M.E., Kingravi H.A., Iyatomi H., Asland...   \n",
       "\n",
       "                                               Title  Year  Cited by  \\\n",
       "0                    Data-driven smart manufacturing  2018     375.0   \n",
       "1  Single image super-resolution with non-local m...  2012     362.0   \n",
       "2  A Novel Performance Evaluation Methodology for...  2016     264.0   \n",
       "3  Multi-Directional Multi-Level Dual-Cross Patte...  2016     243.0   \n",
       "4  Border detection in dermoscopy images using st...  2008     241.0   \n",
       "\n",
       "                                     Funding Details    Country  \n",
       "0  National Natural Science Foundation of China\\n...  Australia  \n",
       "1  National Natural Science Foundation of China\\n...  Australia  \n",
       "2                        Seventh Framework Programme  Australia  \n",
       "3  National Science Foundation\\n\\nAustralian Rese...  Australia  \n",
       "4                          National Cancer Institute  Australia  "
      ],
      "text/html": "<div>\n<style scoped>\n    .dataframe tbody tr th:only-of-type {\n        vertical-align: middle;\n    }\n\n    .dataframe tbody tr th {\n        vertical-align: top;\n    }\n\n    .dataframe thead th {\n        text-align: right;\n    }\n</style>\n<table border=\"1\" class=\"dataframe\">\n  <thead>\n    <tr style=\"text-align: right;\">\n      <th></th>\n      <th>Authors</th>\n      <th>Title</th>\n      <th>Year</th>\n      <th>Cited by</th>\n      <th>Funding Details</th>\n      <th>Country</th>\n    </tr>\n  </thead>\n  <tbody>\n    <tr>\n      <th>0</th>\n      <td>Tao F., Qi Q., Liu A., Kusiak A.</td>\n      <td>Data-driven smart manufacturing</td>\n      <td>2018</td>\n      <td>375.0</td>\n      <td>National Natural Science Foundation of China\\n...</td>\n      <td>Australia</td>\n    </tr>\n    <tr>\n      <th>1</th>\n      <td>Zhang K., Gao X., Tao D., Li X.</td>\n      <td>Single image super-resolution with non-local m...</td>\n      <td>2012</td>\n      <td>362.0</td>\n      <td>National Natural Science Foundation of China\\n...</td>\n      <td>Australia</td>\n    </tr>\n    <tr>\n      <th>2</th>\n      <td>Kristan M., Matas J., Leonardis A., Vojir T., ...</td>\n      <td>A Novel Performance Evaluation Methodology for...</td>\n      <td>2016</td>\n      <td>264.0</td>\n      <td>Seventh Framework Programme</td>\n      <td>Australia</td>\n    </tr>\n    <tr>\n      <th>3</th>\n      <td>Ding C., Choi J., Tao D., Davis L.S.</td>\n      <td>Multi-Directional Multi-Level Dual-Cross Patte...</td>\n      <td>2016</td>\n      <td>243.0</td>\n      <td>National Science Foundation\\n\\nAustralian Rese...</td>\n      <td>Australia</td>\n    </tr>\n    <tr>\n      <th>4</th>\n      <td>Celebi M.E., Kingravi H.A., Iyatomi H., Asland...</td>\n      <td>Border detection in dermoscopy images using st...</td>\n      <td>2008</td>\n      <td>241.0</td>\n      <td>National Cancer Institute</td>\n      <td>Australia</td>\n    </tr>\n  </tbody>\n</table>\n</div>"
     },
     "metadata": {},
     "execution_count": 16
    }
   ],
   "source": [
    "df_addon.head()"
   ]
  },
  {
   "source": [
    "## Adding Funding Column to previously merged database"
   ],
   "cell_type": "markdown",
   "metadata": {}
  },
  {
   "cell_type": "code",
   "execution_count": 17,
   "metadata": {},
   "outputs": [],
   "source": [
    "df['Funding_Details'] = 0"
   ]
  },
  {
   "source": [
    "## Extracting titles from df and df_addon"
   ],
   "cell_type": "markdown",
   "metadata": {}
  },
  {
   "cell_type": "code",
   "execution_count": 18,
   "metadata": {},
   "outputs": [],
   "source": [
    "titles_old = list(df.Title)\n",
    "titles_new = list(df_addon.Title)"
   ]
  },
  {
   "source": [
    "## Adding funding values to df"
   ],
   "cell_type": "markdown",
   "metadata": {}
  },
  {
   "cell_type": "code",
   "execution_count": 19,
   "metadata": {
    "tags": [
     "outputPrepend"
    ]
   },
   "outputs": [
    {
     "output_type": "stream",
     "name": "stdout",
     "text": [
      "ng-like indistinguishability tests for the validation of a computer simulation of paranoid processes\n",
      "8860\tAnomaly Detection for Resonant New Physics with Machine Learning\n",
      "8861\tMultiobjective Reinforcement Learning for Cognitive Satellite Communications Using Deep Neural Network Ensembles\n",
      "8862\tUsing machine learning to predict radiation pneumonitis in patients with stage I non-small cell lung cancer treated with stereotactic body radiation therapy\n",
      "8863\tA distributed ensemble approach for mining healthcare data under privacy constraints\n",
      "8864\tIn situ monitoring of polymorphic transformations using a composite sensor array of Raman, NIR, and ATR-UV/vis spectroscopy, FBRM, and PVM for an intelligent decision support system\n",
      "8865\tUsing statistical and machine learning to help institutions detect suspicious access to electronic health records\n",
      "8866\tExtracting and integrating data from entire electronic health records for detecting colorectal cancer cases.\n",
      "8867\tHigh resolution models of transcription factor-DNA affinities improve in vitro and in vivo binding predictions\n",
      "8868\tActive testing for face detection and localization\n",
      "8869\tLearning a hierarchical deformable template for rapid deformable object parsing\n",
      "8870\tHuman urinary metabolomic profile of PPARRα induced fatty acid β-oxidation\n",
      "8871\tCross-Topic Learning for Work Prioritization in Systematic Review Creation and Update\n",
      "8872\tLearning a channelized observer for image quality assessment\n",
      "8873\tPredictive feedback can account for biphasic responses in the lateral geniculate nucleus\n",
      "8874\tAn LMI approach to global asymptotic stability of the delayed Cohen-Grossberg neural network via nonsmooth analysis\n",
      "8875\tSignificance of gene ranking for classification of microarray samples\n",
      "8876\tIdentifying biological concepts from a protein-related corpus with a probabilistic topic model\n",
      "8877\tSuper-resolution registration using tissue-classified distance fields\n",
      "8878\tVisualization methods for statistical analysis of microarray clusters\n",
      "8879\tProspective recruitment of patients with congestive heart failure using an ad-hoc binary classifier\n",
      "8880\tClosed-loop cortical control of direction using support vector machines\n",
      "8881\tAxioms of causal relevance\n",
      "8882\tBridging the Gap between Conventional and Intelligent Control\n",
      "8883\tAutomatic detection of irregular borders in melanoma and other skin tumors\n",
      "8884\tRandom search algorithm (RONSC) for optimization of radiation therapy with both physical and biological end points and constraints\n",
      "8885\tKnowledge-Based Approach to Sleep EEG Analysis—A Feasibility Study\n",
      "8886\tRegulation of predictive analytics in medicine\n",
      "8887\tPerson re-identification by cross-view multi-level dictionary learning\n",
      "8888\tData-driven Urban Energy Simulation (DUE-S): A framework for integrating engineering simulation and machine learning methods in a multi-scale urban energy modeling workflow\n",
      "8889\tComparison of variable selection methods for clinical predictive modeling\n",
      "8890\tLearning and teaching engineering design through modeling and simulation on a CAD platform\n",
      "8891\tMapping vegetation and land use types in Fanjingshan National Nature Reserve using google earth engine\n",
      "8892\tDendron: Genetic trees driven rule induction for network intrusion detection systems\n",
      "8893\tDisentangling Structural Confusion through Machine Learning: Structure Prediction and Polymorphism of Equiatomic Ternary Phases ABC\n",
      "8894\tMachine Learning Approaches in Cardiovascular Imaging\n",
      "8895\tData-centered runtime verification of wireless medical cyber-physical system\n",
      "8896\tIntegrating semantic NLP and logic reasoning into a unified system for fully-automated code checking\n",
      "8897\tUtilizing ECG-Based Heartbeat Classification for Hypertrophic Cardiomyopathy Identification\n",
      "8898\tCase-based reasoning using electronic health records efficiently identifies eligible patients for clinical trials\n",
      "8899\tUsing artificial intelligence to improve hospital inpatient care\n",
      "8900\tMultimodal wavelet embedding representation for data combination (MaWERiC): Integrating magnetic resonance imaging and spectroscopy for prostate cancer detection\n",
      "8901\tGenerating diverse plans to handle unknown and partially known user preferences\n",
      "8902\tComparing machines and humans on a visual categorization test\n",
      "8903\tA new disease-specific machine learning approach for the prediction of cancer-causing missense variants\n",
      "8904\tStanding stability enhancement with an intelligent powered transfemoral prosthesis\n",
      "8905\tHigh-dimensional pharmacogenetic prediction of a continuous trait using machine learning techniques with application to warfarin dose prediction in African Americans\n",
      "8906\tDoBo: Protein domain boundary prediction by integrating evolutionary signals and machine learning\n",
      "8907\tEnvironment-specific noise suppression for improved speech intelligibility by cochlear implant users\n",
      "8908\tFast calculation of pairwise mutual information for gene regulatory network reconstruction\n",
      "8909\tBioTagger-GM: A Gene/Protein Name Recognition System\n",
      "8910\tRobust 3D reconstruction and identification of dendritic spines from optical microscopy imaging\n",
      "8911\tExtracting structured medication event information from discharge summaries.\n",
      "8912\tImage segmentation using hidden Markov Gauss mixture models\n",
      "8913\tA geometric method for automatic extraction of sulcal fundi\n",
      "8914\tFunctional impact of missense variants in BRCA1 predicted by supervised learning\n",
      "8915\tRedundant manipulator techniques for partially decentralized path planning and control of a platoon of autonomous vehicles\n",
      "8916\tAssimilating intraoperative data with brain shift modeling using the adjoint equations\n",
      "8917\tROC-based assessments of 3D cortical surface-matching algorithms\n",
      "8918\tA Software Agent Model of Consciousness\n",
      "8919\tProcessing disjunctions in temporal constraint networks\n",
      "8920\tThe Columbia-Presbyterian Medical Center decision-support system as a model for implementing the Arden Syntax.\n",
      "8921\tComputation-oriented reductions of predicate to propositional logic\n",
      "8922\tInformation Extraction from Images of Paper-Based Maps\n",
      "8923\tA syntactic theory of belief and action\n",
      "8924\tGeneral Branch and Bound, and its relation to A* and AO*\n",
      "8925\tKnowledge and reasoning in program synthesis\n",
      "8926\tExperience-Driven Congestion Control: When Multi-Path TCP Meets Deep Reinforcement Learning\n",
      "8927\tExamining the Ability of Artificial Neural Networks Machine Learning Models to Accurately Predict Complications Following Posterior Lumbar Spine Fusion\n",
      "8928\tDiscriminative Cooperative Networks for Detecting Phase Transitions\n",
      "8929\tData-driven cost estimation for additive manufacturing in cybermanufacturing\n",
      "8930\tChallenges of Sentiment Analysis for Dynamic Events\n",
      "8931\tRobust support vector machines based on the rescaled hinge loss function\n",
      "8932\tOpen-Ended Evolution: Perspectives from the OEE Workshop in York\n",
      "8933\tSequence-based prediction of protein-peptide binding sites using support vector machine\n",
      "8934\tExtremal mechanisms for local differential privacy\n",
      "8935\tIntegrated scheduling of production and distribution to minimize total cost using an improved ant colony optimization method\n",
      "8936\tNCC-RANSAC: A fast plane extraction method for 3-D range data segmentation\n",
      "8937\tExplainers: Expert explorations with crafted projections\n",
      "8938\tEpistasis network centrality analysis yields pathway replication across two GWAS cohorts for bipolar disorder\n",
      "8939\tBrief review of regression-based and machine learning methods in genetic epidemiology: The Genetic Analysis Workshop 17 experience\n",
      "8940\tData-based controllability and observability analysis of linear discrete-time systems\n",
      "8941\tSemi-supervised learning improves gene expression-based prediction of cancer recurrence\n",
      "8942\tClassifying protein-protein interaction articles using word and syntactic features\n",
      "8943\tDevelopment of a structural equation modeling-based decision tree methodology for the analysis of lung transplantations\n",
      "8944\tBayesian approach to transforming public gene expression repositories into disease diagnosis databases\n",
      "8945\tThe utilization of consistency metrics for error analysis in deformable image registration\n",
      "8946\tStatistical dynamics of flowing red blood cells by morphological image processing\n",
      "8947\tApplication of machine learning algorithms to predict coronary artery calcification with a sibship-based design\n",
      "8948\tSegmentation of whole cells and cell nuclei from 3-D optical microscope images using dynamic programming\n",
      "8949\tImproved centroids estimation for the nearest shrunken centroid classifier\n",
      "8950\tRule generation for protein secondary structure prediction with support vector machines and decision tree\n",
      "8951\tValidation of bone segmentation and improved 3-D registration using contour coherency in CT data\n",
      "8952\tHow can a massive training artificial neural network (MTANN) be trained with a small number of cases in the distinction between nodules and vessels in thoracic CT?\n",
      "8953\tFunctional restoration of elbow extension after spinal-cord injury using a neural network-based synergistic FES controller\n",
      "8954\tUtilities of edge-based metrics for studying landscape fragmentation\n",
      "8955\tSolving multi-granularity temporal constraint networks\n",
      "8956\tNonapproximability results for partially observable Markov decision processes\n",
      "8957\tIndexing and retrieval in machining process planning using case-based reasoning\n",
      "8958\tIntelligent Internet searching agent based on hybrid simulated annealing\n",
      "8959\tIntelligent agents for negotiations in market games, part 2: application\n",
      "8960\tAn \"intelligent\" workstation for computer-aided diagnosis.\n",
      "8961\tReal-time scheduling in computer integrated manufacturing: A review of recent research\n",
      "8962\tConstructive modal logics I\n",
      "8963\tMaximizing the predictive value of production rules\n",
      "8964\tMulti-Channel 3D Deep Feature Learning for Survival Time Prediction of Brain Tumor Patients Using Multi-Modal Neuroimages\n",
      "8965\tUnsupervised machine learning-based user clustering in millimeter-Wave-NOMA systems\n",
      "8966\tA novel hybrid method of forecasting crude oil prices using complex network science and artificial intelligence algorithms\n",
      "8967\tDifferential effects of childhood neglect and abuse during sensitive exposure periods on male and female hippocampus\n",
      "8968\tInformation extraction and knowledge graph construction from geoscience literature\n",
      "8969\tPrediction of dissolved oxygen concentration in hypoxic river systems using support vector machine: a case study of Wen-Rui Tang River, China\n",
      "8970\tDesign-Space Exploration and Optimization of an Energy-Efficient and Reliable 3-D Small-World Network-on-Chip\n",
      "8971\tMachine learning for autonomous crystal structure identification\n",
      "8972\tNovel Ant Colony Optimization Methods for Simplifying Solution Construction in Vehicle Routing Problems\n",
      "8973\tModel inversion via multi-fidelity Bayesian optimization: A new paradigm for parameter estimation in haemodynamics, and beyond\n",
      "8974\tCombining computational methods for hit to lead optimization in mycobacterium tuberculosis drug discovery\n",
      "8975\tIn silico abstraction of zinc finger nuclease cleavage profiles reveals an expanded landscape of off-target sites\n",
      "8976\tLabel-free optical lymphangiography: Development of an automatic segmentation method applied to optical coherence tomography to visualize lymphatic vessels using Hessian filters\n",
      "8977\tPredicting beef tenderness using color and multispectral image texture features\n",
      "8978\tPreliminary Efforts Directed Toward the Detection of Craving of Illicit Substances: The iHeal Project\n",
      "8979\tA semantic framework for automatic generation of computational workflows using distributed data and component catalogues\n",
      "8980\tBirdvis: Visualizing and understanding bird populations\n",
      "8981\tAn active learning based classification strategy for the minority class problem: Application to histopathology annotation\n",
      "8982\tTop scoring pairs for feature selection in machine learning and applications to cancer outcome prediction\n",
      "8983\tAn optimal transportation approach for nuclear structure-based pathology\n",
      "8984\tMachine-learning techniques for building a diagnostic model for very mild dementia\n",
      "8985\tBinding affinity prediction with property-encoded shape distribution signatures\n",
      "8986\tA recent advance in the automatic indexing of the biomedical literature\n",
      "8987\tPARM - An efficient algorithm to mine association rules from spatial data\n",
      "8988\tHybrid ICA-Bayesian network approach reveals distinct effective connectivity differences in schizophrenia\n",
      "8989\tA novel computational approach for simultaneous tracking and feature extraction of C. elegans populations in fluid environments\n",
      "8990\tXRate: A fast prototyping, training and annotation tool for phylo-grammars\n",
      "8991\tEdge-forming methods for color image zooming\n",
      "8992\tAn efficient comprehensive search algorithm for tagSNP selection using linkage disequilibrium criteria\n",
      "8993\tA hybrid framework for 3D medical image segmentation\n",
      "8994\tFlattening Maps for the Visualization of Multibranched Vessels\n",
      "8995\tA neural network model of the articulatory-acoustic forward mapping trained on recordings of articulatory parameters\n",
      "8996\tVideo compression for lossy packet networks with mode switching and a dual-frame buffer\n",
      "8997\tComputer-supported conflict resolution for collaborative facility designers\n",
      "8998\tPrimitive recursion for higher-order abstract syntax\n",
      "8999\tThe logical foundations of goal-regression planning in autonomous agents\n",
      "9000\tPath-based approach to integrated planning and control for robotic systems\n",
      "9001\tMaking generic guidelines site-specific.\n",
      "9002\tAbgen: A Knowledge-Based Automated Approach for Antibody Structure Modeling\n",
      "9003\tThree-valued nonmonotonic formalisms and semantics of logic programs\n",
      "9004\tConceptual models of interactive knowledge acquisition tools\n",
      "9005\tDigital logic for soft devices\n",
      "9006\tA Ranking of Hydrological Signatures Based on Their Predictability in Space\n",
      "9007\tBiomass and biofuel crop effects on biodiversity and ecosystem services in the North Central US\n",
      "9008\tInternet of Musical Things: Vision and Challenges\n",
      "9009\tAdversarial machine learning\n",
      "9010\tAudio-based detection and evaluation of eating behavior using the smartwatch platform\n",
      "9011\tA pilot study of distributed knowledge management and clinical decision support in the cloud\n",
      "9012\tInference for Optimal Dynamic Treatment Regimes Using an Adaptive m-Out-of-n Bootstrap Scheme\n",
      "9013\tA case-based knowledge system for safety evaluation decision making of thermal power plants\n",
      "9014\tDual gait generative models for human motion estimation from a single camera\n",
      "9015\tBoosting the prediction and understanding of DNA-binding domains from sequence\n",
      "9016\tA comparison of three computational modelling methods for the prediction of virological response to combination HIV therapy\n",
      "9017\tSimultaneous localized feature selection and model detection for Gaussian mixtures\n",
      "9018\tA decision support system to improve water resources management in the conchos basin\n",
      "9019\tA robust linear regression based algorithm for automated evaluation of peptide identifications from shotgun proteomics by use of reversed-phase liquid chromatography retention time\n",
      "9020\tColon polyp detection using smoothed shape operators: Preliminary results\n",
      "9021\tStrategies for adapting automated seizure detection algorithms\n",
      "9022\tCell segmentation using coupled level sets and graph-vertex coloring.\n",
      "9023\tBiventricular myocardial strains via nonrigid registration of AnFigatomical NURBS models\n",
      "9024\tJBEAM: Multiscale curve coding via beamlets\n",
      "9025\tObject type recognition for automated analysis of protein subcellular location\n",
      "9026\tSemiautomated segmentation of ovarian follicular ultrasound images using a knowledge-based algorithm\n",
      "9027\tSatisfying user preferences while negotiating meetings\n",
      "9028\tTest Case Generation as an AI Planning Problem\n",
      "9029\tThe effect of resource limits and task complexity on collaborative planning in dialogue\n",
      "9030\tReasoning about model accuracy\n",
      "9031\tImpediments to universal preference-based default theories\n",
      "9032\tA biological perspective on autonomous agent design\n",
      "9033\tThe evaluation of artificial intelligence systems in medicine\n",
      "9034\tLife in the game of Go\n",
      "9035\tUncertainty in big data analytics: survey, opportunities, and challenges\n",
      "9036\tDeep Learning-Assisted Diagnosis of Cerebral Aneurysms Using the HeadXNet Model\n",
      "9037\tPolymer Analog Memristive Synapse with Atomic-Scale Conductive Filament for Flexible Neuromorphic Computing System\n",
      "9038\tPredicting the dissolution kinetics of silicate glasses using machine learning\n",
      "9039\tIntegration of element specific persistent homology and machine learning for protein-ligand binding affinity prediction\n",
      "9040\tBWIBots: A platform for bridging the gap between AI and human–robot interaction research\n",
      "9041\tActive Batch Selection via Convex Relaxations with Guaranteed Solution Bounds\n",
      "9042\tAssessing machine-learning algorithms and image- and lidar-derived variables for GEOBIA classification of mining and mine reclamation\n",
      "9043\tGene regulatory networks in plants: Learning causality from time and perturbation\n",
      "9044\tPredictive Dynamics of Human Pain Perception\n",
      "9045\tIntegrating external biological knowledge in the construction of regulatory networks from time-series expression data\n",
      "9046\tA coarse-grained potential for fold recognition and molecular dynamics simulations of proteins\n",
      "9047\tAutomated algorithm for differentiation of human breast tissue using low coherence interferometry for fine needle aspiration biopsy guidance\n",
      "9048\tEvaluation of an architecture for intelligent query and exploration of time-oriented clinical data\n",
      "9049\tSelf-repelling snakes for topology-preserving segmentation models\n",
      "9050\tAutomatically extracting information needs from Ad Hoc clinical questions.\n",
      "9051\tClassification of small contrast enhancing breast lesions in dynamic magnetic resonance imaging using a combination of morphological criteria and dynamic analysis based on unsupervised vector-quantization\n",
      "9052\tRule mining and classification in a situation assessment application: A belief-theoretic approach for handling data imperfections\n",
      "9053\tIncorporating prior knowledge of gene functional groups into regularized discriminant analysis of microarray data\n",
      "9054\tExtracting gene expression patterns and identifying co-expressed genes from microarray data reveals biologically responsive processes\n",
      "9055\tStereo using monocular cues within the tensor voting framework\n",
      "9056\tSystems cell biology knowledge created from high content screening\n",
      "9057\tMethod for cortical bone structural analysis from magnetic resonance images\n",
      "9058\tAdaptive power control for wireless networks using multiple controllers and switching\n",
      "9059\tAutomatic ultrastructure segmentation of reconstructed cryoEM maps of icosahedral viruses\n",
      "9060\tQuadratic regression analysis for gene discovery and pattern recognition for non-cyclic short time-course microarray experiments\n",
      "9061\tThe hypervolume under the ROC hypersurface of \"near-guessing\" and \"near-perfect\" observers in N-class classification tasks\n",
      "9062\tDynamic small animal lung imaging via a postacquisition respiratory gating technique using micro-cone beam computed tomography\n",
      "9063\tInformation transfer in entrained cortical neurons\n",
      "9064\tArtificial immune system model for intelligent agents\n",
      "9065\tFinancial prediction and trading strategies using neurofuzzy approaches\n",
      "9066\tModeling belief in dynamic systems, Part I: Foundations\n",
      "9067\tThe tetrad and hexad: Maximum beam separation as a starting point for noncoplanar 3D treatment planning: Prostate cancer as a test case\n",
      "9068\tCritiquing Software Specifications\n",
      "9069\tMechanism of baricitinib supports artificial intelligence-predicted testing in COVID-19 patients\n",
      "9070\tAlgorithmic bias? An empirical study of apparent gender-based discrimination in the display of stem career ads\n",
      "9071\tCan AI help reduce disparities in general medical and mental health care?\n",
      "9072\tEarly Diagnosis of Alzheimer's Disease Based on Resting-State Brain Networks and Deep Learning\n",
      "9073\tLeader-Follower Output Synchronization of Linear Heterogeneous Systems with Active Leader Using Reinforcement Learning\n",
      "9074\tThe knowledge level in cognitive architectures: Current limitations and possible developments\n"
     ]
    }
   ],
   "source": [
    "\n",
    "count = 1\n",
    "for i in range(len(titles_new)):\n",
    "    for j in range(len(titles_old)):\n",
    "        if titles_new[i]==titles_old[j]:\n",
    "            df.iloc[j,-1] = df_addon.iloc[i,-2]\n",
    "    print(f'{count}\\t{titles_new[i]}')\n",
    "    count += 1"
   ]
  },
  {
   "source": [
    "## Saving final database to 'csv' file"
   ],
   "cell_type": "markdown",
   "metadata": {}
  },
  {
   "cell_type": "code",
   "execution_count": null,
   "metadata": {},
   "outputs": [],
   "source": [
    "df.head()"
   ]
  },
  {
   "source": [
    "df.to_csv('Complete_database.csv')"
   ],
   "cell_type": "code",
   "metadata": {},
   "execution_count": 21,
   "outputs": []
  },
  {
   "cell_type": "code",
   "execution_count": null,
   "metadata": {},
   "outputs": [],
   "source": []
  }
 ],
 "metadata": {
  "kernelspec": {
   "display_name": "Python 3",
   "language": "python",
   "name": "python3"
  },
  "language_info": {
   "codemirror_mode": {
    "name": "ipython",
    "version": 3
   },
   "file_extension": ".py",
   "mimetype": "text/x-python",
   "name": "python",
   "nbconvert_exporter": "python",
   "pygments_lexer": "ipython3",
   "version": "3.8.5"
  }
 },
 "nbformat": 4,
 "nbformat_minor": 2
}