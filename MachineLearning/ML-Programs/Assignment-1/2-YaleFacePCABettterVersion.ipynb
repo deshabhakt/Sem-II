{
 "metadata": {
  "language_info": {
   "codemirror_mode": {
    "name": "ipython",
    "version": 3
   },
   "file_extension": ".py",
   "mimetype": "text/x-python",
   "name": "python",
   "nbconvert_exporter": "python",
   "pygments_lexer": "ipython3",
   "version": "3.9.1"
  },
  "orig_nbformat": 2,
  "kernelspec": {
   "name": "python3",
   "display_name": "Python 3.9.1 64-bit",
   "metadata": {
    "interpreter": {
     "hash": "0666fee326dc6c7ef39c32ad6be1cd19b125cde6d4697bcb018259ae008181e2"
    }
   }
  }
 },
 "nbformat": 4,
 "nbformat_minor": 2,
 "cells": [
  {
   "source": [
    "# Importing Libraries"
   ],
   "cell_type": "markdown",
   "metadata": {}
  },
  {
   "cell_type": "code",
   "execution_count": null,
   "metadata": {},
   "outputs": [],
   "source": [
    "import numpy as np\n",
    "from matplotlib.image import imread\n",
    "import matplotlib.pyplot as plt\n",
    "import scipy.io\n",
    "import copy\n",
    "\n",
    "plt.rcParams['figure.figsize'] = [8,4]"
   ]
  },
  {
   "source": [
    "# Importing Yale Faces Database from .mat file"
   ],
   "cell_type": "markdown",
   "metadata": {}
  },
  {
   "cell_type": "code",
   "execution_count": null,
   "metadata": {},
   "outputs": [],
   "source": [
    "data = scipy.io.loadmat('.\\\\YaleFaceDataBase\\\\Yale_64x64.mat')\n",
    "print(type(data))"
   ]
  },
  {
   "source": [
    "# Dictonary to python List"
   ],
   "cell_type": "markdown",
   "metadata": {}
  },
  {
   "cell_type": "code",
   "execution_count": null,
   "metadata": {},
   "outputs": [],
   "source": [
    "data_list = list(data['fea'])"
   ]
  },
  {
   "source": [
    "# Python List to Numpy Array"
   ],
   "cell_type": "markdown",
   "metadata": {}
  },
  {
   "source": [
    "A = np.array(data_list).T\n",
    "img = plt.imshow(A[:,1].reshape(64,64).transpose())\n",
    "img.set_cmap('gray')\n",
    "plt.axis('off')\n",
    "plt.show()\n",
    "print(A.shape)"
   ],
   "cell_type": "code",
   "metadata": {},
   "execution_count": null,
   "outputs": []
  },
  {
   "source": [
    "# Calculating A-M"
   ],
   "cell_type": "markdown",
   "metadata": {}
  },
  {
   "source": [
    "Amean = A.mean(axis=1,keepdims=True)\n",
    "Am = A - Amean\n",
    "print(Am.shape)\n",
    "img = plt.imshow(Am[:,1].reshape(64,64).transpose())\n",
    "img.set_cmap('gray')\n",
    "plt.axis('off')\n",
    "plt.show()"
   ],
   "cell_type": "code",
   "metadata": {},
   "execution_count": null,
   "outputs": []
  },
  {
   "source": [
    "# Calculating SVD"
   ],
   "cell_type": "markdown",
   "metadata": {}
  },
  {
   "cell_type": "code",
   "execution_count": null,
   "metadata": {},
   "outputs": [],
   "source": [
    "U,D,Vt = np.linalg.svd(Am)            # Complete SVD i.e. calculation corresponding to zero singular values also included   --> Slower\n",
    "\n",
    "# U,D,Vt = np.linalg.svd(Am, full_matrices=False)    # Economy SVD i.e. Calculations corresponding to zero singular values are not done -->Faster\n",
    "\n",
    "D = np.diag(D)"
   ]
  },
  {
   "cell_type": "code",
   "execution_count": null,
   "metadata": {},
   "outputs": [],
   "source": [
    "\n",
    "plt.figure(1)\n",
    "plt.semilogy(np.diag(D[:,:]))\n",
    "plt.title('Singular Values')\n",
    "plt.show()\n",
    "\n",
    "plt.figure(2)\n",
    "plt.plot(np.cumsum(np.diag(D))/np.sum(np.diag(D)))\n",
    "plt.title('Singular Values: Cumulative Sum')\n",
    "plt.show()"
   ]
  },
  {
   "source": [
    "# In Sample Projection and Prediction"
   ],
   "cell_type": "markdown",
   "metadata": {}
  },
  {
   "cell_type": "code",
   "execution_count": null,
   "metadata": {},
   "outputs": [],
   "source": [
    "sample_size = 150\n",
    "\n",
    "def InSampleProjectionAndReconstruction(image_number):\n",
    "    \n",
    "    j = 0\n",
    "\n",
    "    for r in (50, 100, 200, 500, 800, 2000, 4096):\n",
    "       \n",
    "        # Construct approximate image\n",
    "        u = U[:,:r]\n",
    "        \n",
    "        # Projection\n",
    "        A_train_model = np.matmul(u.T,A[:,:sample_size])\n",
    "\n",
    "        # Reconstruction\n",
    "        A_train_pred = np.matmul(u,A_train_model)\n",
    "        Fimg = A_train_pred \n",
    "\n",
    "        plt.figure(j+1)\n",
    "        j += 1\n",
    "        \n",
    "        plot1 = plt.subplot(121)\n",
    "        img =  plt.imshow(A[:,image_number].reshape(64,64).transpose())\n",
    "        img.set_cmap('gray')\n",
    "        plt.title(f'Original Image (r = {r})')\n",
    "        plt.axis('off')\n",
    "        \n",
    "        plot2 = plt.subplot(122)\n",
    "        img2 = plt.imshow(Fimg[:,image_number].reshape(64,64).transpose())\n",
    "        img2.set_cmap('gray')\n",
    "        plt.axis('off')\n",
    "        plt.title(f'Approximate Image (r = {r})')\n",
    "        plt.show()  "
   ]
  },
  {
   "cell_type": "code",
   "execution_count": null,
   "metadata": {},
   "outputs": [],
   "source": [
    "InSampleProjectionAndReconstruction(0)"
   ]
  },
  {
   "source": [
    "# Out off Sample Projection and Prediction"
   ],
   "cell_type": "markdown",
   "metadata": {}
  },
  {
   "cell_type": "code",
   "execution_count": null,
   "metadata": {},
   "outputs": [],
   "source": [
    "def outOffSampleProjectionAndReconstruction(image_number):\n",
    "    if(image_number>=sample_size):\n",
    "        j = 0\n",
    "        for r in (50, 100, 200, 500, 800, 2000,4096):\n",
    "            \n",
    "            # Construct approximate image\n",
    "            u = U[:,:r]\n",
    "            \n",
    "            # Projection\n",
    "            A_test_model = np.matmul(u.T,A[:,image_number])\n",
    "\n",
    "            # Reconstruction\n",
    "            A_test_pred = np.matmul(u,A_test_model)\n",
    "            Fimg = A_test_pred \n",
    "\n",
    "            plt.figure(j+1)\n",
    "            j += 1\n",
    "            \n",
    "            plt.subplot(121)\n",
    "            img =  plt.imshow(A[:,image_number].reshape(64,64).transpose() )\n",
    "        \n",
    "            img.set_cmap('gray')\n",
    "            plt.axis('off')\n",
    "            plt.title(f'Original Image (r = {r})')  \n",
    "            \n",
    "            plt.subplot(122)\n",
    "            img2 = plt.imshow(Fimg.reshape(64,64).transpose())\n",
    "            img2.set_cmap('gray')\n",
    "            plt.axis('off')\n",
    "            plt.title(f'Approximate Image (r = {r})')\n",
    "            plt.show()\n",
    "        \n",
    "    else:\n",
    "            print(\"Object Belongs to Sample\")"
   ]
  },
  {
   "cell_type": "code",
   "execution_count": null,
   "metadata": {},
   "outputs": [],
   "source": [
    "outOffSampleProjectionAndReconstruction(155)"
   ]
  },
  {
   "cell_type": "code",
   "execution_count": null,
   "metadata": {},
   "outputs": [],
   "source": [
    "InSampleProjectionAndReconstruction(123)"
   ]
  },
  {
   "cell_type": "code",
   "execution_count": null,
   "metadata": {},
   "outputs": [],
   "source": [
    "outOffSampleProjectionAndReconstruction(123)"
   ]
  },
  {
   "cell_type": "code",
   "execution_count": null,
   "metadata": {},
   "outputs": [],
   "source": []
  }
 ]
}