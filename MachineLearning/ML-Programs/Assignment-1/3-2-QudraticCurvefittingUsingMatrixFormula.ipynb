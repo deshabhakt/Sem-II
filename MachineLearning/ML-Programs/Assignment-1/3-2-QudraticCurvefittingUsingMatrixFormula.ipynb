{
 "metadata": {
  "language_info": {
   "codemirror_mode": {
    "name": "ipython",
    "version": 3
   },
   "file_extension": ".py",
   "mimetype": "text/x-python",
   "name": "python",
   "nbconvert_exporter": "python",
   "pygments_lexer": "ipython3",
   "version": "3.9.2"
  },
  "orig_nbformat": 2,
  "kernelspec": {
   "name": "python3",
   "display_name": "Python 3",
   "language": "python"
  },
  "metadata": {
   "interpreter": {
    "hash": "0666fee326dc6c7ef39c32ad6be1cd19b125cde6d4697bcb018259ae008181e2"
   }
  }
 },
 "nbformat": 4,
 "nbformat_minor": 2,
 "cells": [
  {
   "source": [
    "# Q2.2 Quadratic Least Square Fitting\n",
    "\n",
    "## Importing Libraries"
   ],
   "cell_type": "markdown",
   "metadata": {}
  },
  {
   "cell_type": "code",
   "execution_count": 1,
   "metadata": {},
   "outputs": [],
   "source": [
    "import numpy as np\n",
    "import matplotlib.pyplot as plt\n",
    "import pandas as pd\n",
    "from prettytable import PrettyTable as ptbl"
   ]
  },
  {
   "source": [
    "## Importing database"
   ],
   "cell_type": "markdown",
   "metadata": {}
  },
  {
   "cell_type": "code",
   "execution_count": 2,
   "metadata": {},
   "outputs": [],
   "source": [
    "data = pd.read_csv('Quadratic_curve_fitting_dataset.csv')"
   ]
  },
  {
   "source": [
    "## Visualizing database"
   ],
   "cell_type": "markdown",
   "metadata": {}
  },
  {
   "cell_type": "code",
   "execution_count": 3,
   "metadata": {},
   "outputs": [
    {
     "output_type": "execute_result",
     "data": {
      "text/plain": [
       "    x     y\n",
       "0   2     5\n",
       "1   5   140\n",
       "2   8   455\n",
       "3  11   950\n",
       "4  14  1625"
      ],
      "text/html": "<div>\n<style scoped>\n    .dataframe tbody tr th:only-of-type {\n        vertical-align: middle;\n    }\n\n    .dataframe tbody tr th {\n        vertical-align: top;\n    }\n\n    .dataframe thead th {\n        text-align: right;\n    }\n</style>\n<table border=\"1\" class=\"dataframe\">\n  <thead>\n    <tr style=\"text-align: right;\">\n      <th></th>\n      <th>x</th>\n      <th>y</th>\n    </tr>\n  </thead>\n  <tbody>\n    <tr>\n      <th>0</th>\n      <td>2</td>\n      <td>5</td>\n    </tr>\n    <tr>\n      <th>1</th>\n      <td>5</td>\n      <td>140</td>\n    </tr>\n    <tr>\n      <th>2</th>\n      <td>8</td>\n      <td>455</td>\n    </tr>\n    <tr>\n      <th>3</th>\n      <td>11</td>\n      <td>950</td>\n    </tr>\n    <tr>\n      <th>4</th>\n      <td>14</td>\n      <td>1625</td>\n    </tr>\n  </tbody>\n</table>\n</div>"
     },
     "metadata": {},
     "execution_count": 3
    }
   ],
   "source": [
    "data.head()"
   ]
  },
  {
   "source": [
    "## Extracing Dependent and independent variables from database in X and y variables respectively"
   ],
   "cell_type": "markdown",
   "metadata": {}
  },
  {
   "cell_type": "code",
   "execution_count": 4,
   "metadata": {},
   "outputs": [],
   "source": [
    "X = data.iloc[:,0].values\n",
    "y = data.iloc[:,1].values"
   ]
  },
  {
   "source": [
    "## Quadratic Least square fitting function\n",
    "\n",
    "## y = c1*x^2 + c2*x + c3\n",
    " "
   ],
   "cell_type": "markdown",
   "metadata": {}
  },
  {
   "cell_type": "code",
   "execution_count": 5,
   "metadata": {},
   "outputs": [],
   "source": [
    "def QuadraticFitting(x,y):\n",
    "\n",
    "    x_four_sum = sum(x**4)\n",
    "    x_three_sum = sum(x**3)\n",
    "    x_sq_sum = sum(x**2)\n",
    "    x_sum = sum(x)\n",
    "    n = len(x)\n",
    "\n",
    "    y_xsq_sum = sum(y*(x**2))\n",
    "    yx_sum = sum(x*y)\n",
    "    y_sum = sum(y)\n",
    "\n",
    "    A = np.array([\n",
    "        [x_four_sum,  x_three_sum,  x_sq_sum],\n",
    "        [x_three_sum, x_sq_sum,     x_sq_sum],\n",
    "        [x_sq_sum,    x_sum,        n],\n",
    "        ])\n",
    "\n",
    "    b = np.array([\n",
    "        [y_xsq_sum],\n",
    "        [yx_sum],\n",
    "        [y_sum]\n",
    "        ])\n",
    "\n",
    "    invA = np.linalg.inv(A)\n",
    "    M = np.matmul(invA,b)\n",
    "    \n",
    "    return M\n"
   ]
  },
  {
   "source": [
    "## Calling Quadratic least square fitting function on given database"
   ],
   "cell_type": "markdown",
   "metadata": {}
  },
  {
   "cell_type": "code",
   "execution_count": 6,
   "metadata": {
    "tags": []
   },
   "outputs": [],
   "source": [
    "c1, c2, c3 = QuadraticFitting(X,y)"
   ]
  },
  {
   "source": [
    "## Visualizing coefficients and constants"
   ],
   "cell_type": "markdown",
   "metadata": {}
  },
  {
   "cell_type": "code",
   "execution_count": 7,
   "metadata": {},
   "outputs": [
    {
     "output_type": "stream",
     "name": "stdout",
     "text": [
      "[9.99671939] [-24.47209128] [-0.008132]\n"
     ]
    }
   ],
   "source": [
    "print(c1,c2,c3)"
   ]
  },
  {
   "source": [
    "## Calculating Approximate Values"
   ],
   "cell_type": "markdown",
   "metadata": {}
  },
  {
   "cell_type": "code",
   "execution_count": 8,
   "metadata": {},
   "outputs": [],
   "source": [
    "y_pred = c1*(X**2) + c2*X + c3"
   ]
  },
  {
   "source": [
    "## Table of actual values and predicted values"
   ],
   "cell_type": "markdown",
   "metadata": {}
  },
  {
   "cell_type": "code",
   "execution_count": 9,
   "metadata": {},
   "outputs": [
    {
     "output_type": "stream",
     "name": "stdout",
     "text": [
      "+-----+--------+--------------------+\n|  X  |   y    |    y-predicted     |\n+-----+--------+--------------------+\n|  2  |   5    | -8.965437008384214 |\n|  5  |  140   | 127.54939634349978 |\n|  8  |  455   | 444.00517872570873 |\n|  11 |  950   | 940.4019101382426  |\n|  14 |  1625  | 1616.7395905811015 |\n|  17 |  2480  | 2473.0182200542854 |\n|  20 |  3515  | 3509.2377985577946 |\n|  23 |  4730  | 4725.3983260916275 |\n|  26 |  6125  | 6121.499802655787  |\n|  29 |  7700  | 7697.5422282502695 |\n|  32 |  9455  |  9453.52560287508  |\n|  35 | 11390  | 11389.449926530213 |\n|  38 | 13505  | 13505.31519921567  |\n|  41 | 15800  | 15801.121420931455 |\n|  44 | 18275  | 18276.868591677565 |\n|  47 | 20930  |  20932.556711454   |\n|  50 | 23765  | 23768.18578026076  |\n|  53 | 26780  | 26783.75579809784  |\n|  56 | 29975  | 29979.26676496525  |\n|  59 | 33350  | 33354.718680862985 |\n|  62 | 36905  | 36910.11154579104  |\n|  65 | 40640  | 40645.44535974943  |\n|  68 | 44555  | 44560.72012273813  |\n|  71 | 48650  | 48655.93583475717  |\n|  74 | 52925  | 52931.09249580652  |\n|  77 | 57380  | 57386.190105886206 |\n|  80 | 62015  | 62021.22866499622  |\n|  83 | 66830  | 66836.20817313655  |\n|  86 | 71825  | 71831.12863030721  |\n|  89 | 77000  | 77005.99003650818  |\n|  92 | 82355  |  82360.7923917395  |\n|  95 | 87890  | 87895.53569600113  |\n|  98 | 93605  |  93610.2199492931  |\n| 101 | 99500  | 99504.84515161537  |\n| 104 | 105575 | 105579.41130296799 |\n| 107 | 111830 | 111833.91840335092 |\n| 110 | 118265 | 118268.36645276417 |\n| 113 | 124880 | 124882.75545120776 |\n| 116 | 131675 | 131677.08539868164 |\n| 119 | 138650 | 138651.3562951859  |\n| 122 | 145805 | 145805.56814072045 |\n| 125 | 153140 | 153139.72093528532 |\n| 128 | 160655 | 160653.81467888053 |\n| 131 | 168350 | 168347.84937150608 |\n| 134 | 176225 | 176221.82501316193 |\n| 137 | 184280 | 184275.74160384812 |\n| 140 | 192515 | 192509.5991435646  |\n| 143 | 200930 | 200923.39763231145 |\n| 146 | 209525 | 209517.1370700886  |\n| 149 | 218300 | 218290.8174568961  |\n+-----+--------+--------------------+\n"
     ]
    }
   ],
   "source": [
    "table = ptbl(['X','y','y-predicted'])\n",
    "for i in range(len(X)):\n",
    "    table.add_row([X[i],y[i],y_pred[i]])\n",
    "print(table)"
   ]
  },
  {
   "source": [
    "## Visualizing Best Fit Curve\n",
    "\n",
    "### Note: The database used here was generated by me using Microsoft EXCEL\n",
    "### that's why the actual points are perfectly overlapping with approximate line"
   ],
   "cell_type": "markdown",
   "metadata": {}
  },
  {
   "cell_type": "code",
   "execution_count": 10,
   "metadata": {},
   "outputs": [
    {
     "output_type": "display_data",
     "data": {
      "text/plain": "<Figure size 432x288 with 1 Axes>",
      "image/svg+xml": "<?xml version=\"1.0\" encoding=\"utf-8\" standalone=\"no\"?>\n<!DOCTYPE svg PUBLIC \"-//W3C//DTD SVG 1.1//EN\"\n  \"http://www.w3.org/Graphics/SVG/1.1/DTD/svg11.dtd\">\n<svg height=\"277.314375pt\" version=\"1.1\" viewBox=\"0 0 408.053125 277.314375\" width=\"408.053125pt\" xmlns=\"http://www.w3.org/2000/svg\" xmlns:xlink=\"http://www.w3.org/1999/xlink\">\n <metadata>\n  <rdf:RDF xmlns:cc=\"http://creativecommons.org/ns#\" xmlns:dc=\"http://purl.org/dc/elements/1.1/\" xmlns:rdf=\"http://www.w3.org/1999/02/22-rdf-syntax-ns#\">\n   <cc:Work>\n    <dc:type rdf:resource=\"http://purl.org/dc/dcmitype/StillImage\"/>\n    <dc:date>2021-04-12T23:00:44.861959</dc:date>\n    <dc:format>image/svg+xml</dc:format>\n    <dc:creator>\n     <cc:Agent>\n      <dc:title>Matplotlib v3.4.1, https://matplotlib.org/</dc:title>\n     </cc:Agent>\n    </dc:creator>\n   </cc:Work>\n  </rdf:RDF>\n </metadata>\n <defs>\n  <style type=\"text/css\">*{stroke-linecap:butt;stroke-linejoin:round;}</style>\n </defs>\n <g id=\"figure_1\">\n  <g id=\"patch_1\">\n   <path d=\"M 0 277.314375 \nL 408.053125 277.314375 \nL 408.053125 0 \nL 0 0 \nz\n\" style=\"fill:none;\"/>\n  </g>\n  <g id=\"axes_1\">\n   <g id=\"patch_2\">\n    <path d=\"M 66.053125 239.758125 \nL 400.853125 239.758125 \nL 400.853125 22.318125 \nL 66.053125 22.318125 \nz\n\" style=\"fill:#ffffff;\"/>\n   </g>\n   <g id=\"PathCollection_1\">\n    <defs>\n     <path d=\"M 0 1.5 \nC 0.397805 1.5 0.77937 1.341951 1.06066 1.06066 \nC 1.341951 0.77937 1.5 0.397805 1.5 0 \nC 1.5 -0.397805 1.341951 -0.77937 1.06066 -1.06066 \nC 0.77937 -1.341951 0.397805 -1.5 0 -1.5 \nC -0.397805 -1.5 -0.77937 -1.341951 -1.06066 -1.06066 \nC -1.341951 -0.77937 -1.5 -0.397805 -1.5 0 \nC -1.5 0.397805 -1.341951 0.77937 -1.06066 1.06066 \nC -0.77937 1.341951 -0.397805 1.5 0 1.5 \nz\n\" id=\"m6818de12a2\" style=\"stroke:#1f77b4;\"/>\n    </defs>\n    <g clip-path=\"url(#p8f9d3be619)\">\n     <use style=\"fill:#1f77b4;stroke:#1f77b4;\" x=\"81.271307\" xlink:href=\"#m6818de12a2\" y=\"229.861843\"/>\n     <use style=\"fill:#1f77b4;stroke:#1f77b4;\" x=\"87.48281\" xlink:href=\"#m6818de12a2\" y=\"229.739605\"/>\n     <use style=\"fill:#1f77b4;stroke:#1f77b4;\" x=\"93.694312\" xlink:href=\"#m6818de12a2\" y=\"229.454381\"/>\n     <use style=\"fill:#1f77b4;stroke:#1f77b4;\" x=\"99.905815\" xlink:href=\"#m6818de12a2\" y=\"229.006172\"/>\n     <use style=\"fill:#1f77b4;stroke:#1f77b4;\" x=\"106.117318\" xlink:href=\"#m6818de12a2\" y=\"228.394978\"/>\n     <use style=\"fill:#1f77b4;stroke:#1f77b4;\" x=\"112.328821\" xlink:href=\"#m6818de12a2\" y=\"227.620799\"/>\n     <use style=\"fill:#1f77b4;stroke:#1f77b4;\" x=\"118.540324\" xlink:href=\"#m6818de12a2\" y=\"226.683635\"/>\n     <use style=\"fill:#1f77b4;stroke:#1f77b4;\" x=\"124.751826\" xlink:href=\"#m6818de12a2\" y=\"225.583487\"/>\n     <use style=\"fill:#1f77b4;stroke:#1f77b4;\" x=\"130.963329\" xlink:href=\"#m6818de12a2\" y=\"224.320353\"/>\n     <use style=\"fill:#1f77b4;stroke:#1f77b4;\" x=\"137.174832\" xlink:href=\"#m6818de12a2\" y=\"222.894234\"/>\n     <use style=\"fill:#1f77b4;stroke:#1f77b4;\" x=\"143.386335\" xlink:href=\"#m6818de12a2\" y=\"221.30513\"/>\n     <use style=\"fill:#1f77b4;stroke:#1f77b4;\" x=\"149.597837\" xlink:href=\"#m6818de12a2\" y=\"219.553041\"/>\n     <use style=\"fill:#1f77b4;stroke:#1f77b4;\" x=\"155.80934\" xlink:href=\"#m6818de12a2\" y=\"217.637967\"/>\n     <use style=\"fill:#1f77b4;stroke:#1f77b4;\" x=\"162.020843\" xlink:href=\"#m6818de12a2\" y=\"215.559908\"/>\n     <use style=\"fill:#1f77b4;stroke:#1f77b4;\" x=\"168.232346\" xlink:href=\"#m6818de12a2\" y=\"213.318864\"/>\n     <use style=\"fill:#1f77b4;stroke:#1f77b4;\" x=\"174.443849\" xlink:href=\"#m6818de12a2\" y=\"210.914835\"/>\n     <use style=\"fill:#1f77b4;stroke:#1f77b4;\" x=\"180.655351\" xlink:href=\"#m6818de12a2\" y=\"208.347821\"/>\n     <use style=\"fill:#1f77b4;stroke:#1f77b4;\" x=\"186.866854\" xlink:href=\"#m6818de12a2\" y=\"205.617822\"/>\n     <use style=\"fill:#1f77b4;stroke:#1f77b4;\" x=\"193.078357\" xlink:href=\"#m6818de12a2\" y=\"202.724838\"/>\n     <use style=\"fill:#1f77b4;stroke:#1f77b4;\" x=\"199.28986\" xlink:href=\"#m6818de12a2\" y=\"199.668869\"/>\n     <use style=\"fill:#1f77b4;stroke:#1f77b4;\" x=\"205.501362\" xlink:href=\"#m6818de12a2\" y=\"196.449914\"/>\n     <use style=\"fill:#1f77b4;stroke:#1f77b4;\" x=\"211.712865\" xlink:href=\"#m6818de12a2\" y=\"193.067975\"/>\n     <use style=\"fill:#1f77b4;stroke:#1f77b4;\" x=\"217.924368\" xlink:href=\"#m6818de12a2\" y=\"189.523051\"/>\n     <use style=\"fill:#1f77b4;stroke:#1f77b4;\" x=\"224.135871\" xlink:href=\"#m6818de12a2\" y=\"185.815142\"/>\n     <use style=\"fill:#1f77b4;stroke:#1f77b4;\" x=\"230.347374\" xlink:href=\"#m6818de12a2\" y=\"181.944248\"/>\n     <use style=\"fill:#1f77b4;stroke:#1f77b4;\" x=\"236.558876\" xlink:href=\"#m6818de12a2\" y=\"177.910368\"/>\n     <use style=\"fill:#1f77b4;stroke:#1f77b4;\" x=\"242.770379\" xlink:href=\"#m6818de12a2\" y=\"173.713504\"/>\n     <use style=\"fill:#1f77b4;stroke:#1f77b4;\" x=\"248.981882\" xlink:href=\"#m6818de12a2\" y=\"169.353655\"/>\n     <use style=\"fill:#1f77b4;stroke:#1f77b4;\" x=\"255.193385\" xlink:href=\"#m6818de12a2\" y=\"164.830821\"/>\n     <use style=\"fill:#1f77b4;stroke:#1f77b4;\" x=\"261.404888\" xlink:href=\"#m6818de12a2\" y=\"160.145001\"/>\n     <use style=\"fill:#1f77b4;stroke:#1f77b4;\" x=\"267.61639\" xlink:href=\"#m6818de12a2\" y=\"155.296197\"/>\n     <use style=\"fill:#1f77b4;stroke:#1f77b4;\" x=\"273.827893\" xlink:href=\"#m6818de12a2\" y=\"150.284408\"/>\n     <use style=\"fill:#1f77b4;stroke:#1f77b4;\" x=\"280.039396\" xlink:href=\"#m6818de12a2\" y=\"145.109633\"/>\n     <use style=\"fill:#1f77b4;stroke:#1f77b4;\" x=\"286.250899\" xlink:href=\"#m6818de12a2\" y=\"139.771874\"/>\n     <use style=\"fill:#1f77b4;stroke:#1f77b4;\" x=\"292.462401\" xlink:href=\"#m6818de12a2\" y=\"134.27113\"/>\n     <use style=\"fill:#1f77b4;stroke:#1f77b4;\" x=\"298.673904\" xlink:href=\"#m6818de12a2\" y=\"128.6074\"/>\n     <use style=\"fill:#1f77b4;stroke:#1f77b4;\" x=\"304.885407\" xlink:href=\"#m6818de12a2\" y=\"122.780686\"/>\n     <use style=\"fill:#1f77b4;stroke:#1f77b4;\" x=\"311.09691\" xlink:href=\"#m6818de12a2\" y=\"116.790986\"/>\n     <use style=\"fill:#1f77b4;stroke:#1f77b4;\" x=\"317.308413\" xlink:href=\"#m6818de12a2\" y=\"110.638302\"/>\n     <use style=\"fill:#1f77b4;stroke:#1f77b4;\" x=\"323.519915\" xlink:href=\"#m6818de12a2\" y=\"104.322632\"/>\n     <use style=\"fill:#1f77b4;stroke:#1f77b4;\" x=\"329.731418\" xlink:href=\"#m6818de12a2\" y=\"97.843978\"/>\n     <use style=\"fill:#1f77b4;stroke:#1f77b4;\" x=\"335.942921\" xlink:href=\"#m6818de12a2\" y=\"91.202338\"/>\n     <use style=\"fill:#1f77b4;stroke:#1f77b4;\" x=\"342.154424\" xlink:href=\"#m6818de12a2\" y=\"84.397714\"/>\n     <use style=\"fill:#1f77b4;stroke:#1f77b4;\" x=\"348.365926\" xlink:href=\"#m6818de12a2\" y=\"77.430104\"/>\n     <use style=\"fill:#1f77b4;stroke:#1f77b4;\" x=\"354.577429\" xlink:href=\"#m6818de12a2\" y=\"70.29951\"/>\n     <use style=\"fill:#1f77b4;stroke:#1f77b4;\" x=\"360.788932\" xlink:href=\"#m6818de12a2\" y=\"63.00593\"/>\n     <use style=\"fill:#1f77b4;stroke:#1f77b4;\" x=\"367.000435\" xlink:href=\"#m6818de12a2\" y=\"55.549365\"/>\n     <use style=\"fill:#1f77b4;stroke:#1f77b4;\" x=\"373.211938\" xlink:href=\"#m6818de12a2\" y=\"47.929816\"/>\n     <use style=\"fill:#1f77b4;stroke:#1f77b4;\" x=\"379.42344\" xlink:href=\"#m6818de12a2\" y=\"40.147281\"/>\n     <use style=\"fill:#1f77b4;stroke:#1f77b4;\" x=\"385.634943\" xlink:href=\"#m6818de12a2\" y=\"32.201761\"/>\n    </g>\n   </g>\n   <g id=\"matplotlib.axis_1\">\n    <g id=\"xtick_1\">\n     <g id=\"line2d_1\">\n      <defs>\n       <path d=\"M 0 0 \nL 0 3.5 \n\" id=\"m600e6993db\" style=\"stroke:#000000;stroke-width:0.8;\"/>\n      </defs>\n      <g>\n       <use style=\"stroke:#000000;stroke-width:0.8;\" x=\"77.130305\" xlink:href=\"#m600e6993db\" y=\"239.758125\"/>\n      </g>\n     </g>\n     <g id=\"text_1\">\n      <!-- 0 -->\n      <g transform=\"translate(73.949055 254.356562)scale(0.1 -0.1)\">\n       <defs>\n        <path d=\"M 2034 4250 \nQ 1547 4250 1301 3770 \nQ 1056 3291 1056 2328 \nQ 1056 1369 1301 889 \nQ 1547 409 2034 409 \nQ 2525 409 2770 889 \nQ 3016 1369 3016 2328 \nQ 3016 3291 2770 3770 \nQ 2525 4250 2034 4250 \nz\nM 2034 4750 \nQ 2819 4750 3233 4129 \nQ 3647 3509 3647 2328 \nQ 3647 1150 3233 529 \nQ 2819 -91 2034 -91 \nQ 1250 -91 836 529 \nQ 422 1150 422 2328 \nQ 422 3509 836 4129 \nQ 1250 4750 2034 4750 \nz\n\" id=\"DejaVuSans-30\" transform=\"scale(0.015625)\"/>\n       </defs>\n       <use xlink:href=\"#DejaVuSans-30\"/>\n      </g>\n     </g>\n    </g>\n    <g id=\"xtick_2\">\n     <g id=\"line2d_2\">\n      <g>\n       <use style=\"stroke:#000000;stroke-width:0.8;\" x=\"118.540324\" xlink:href=\"#m600e6993db\" y=\"239.758125\"/>\n      </g>\n     </g>\n     <g id=\"text_2\">\n      <!-- 20 -->\n      <g transform=\"translate(112.177824 254.356562)scale(0.1 -0.1)\">\n       <defs>\n        <path d=\"M 1228 531 \nL 3431 531 \nL 3431 0 \nL 469 0 \nL 469 531 \nQ 828 903 1448 1529 \nQ 2069 2156 2228 2338 \nQ 2531 2678 2651 2914 \nQ 2772 3150 2772 3378 \nQ 2772 3750 2511 3984 \nQ 2250 4219 1831 4219 \nQ 1534 4219 1204 4116 \nQ 875 4013 500 3803 \nL 500 4441 \nQ 881 4594 1212 4672 \nQ 1544 4750 1819 4750 \nQ 2544 4750 2975 4387 \nQ 3406 4025 3406 3419 \nQ 3406 3131 3298 2873 \nQ 3191 2616 2906 2266 \nQ 2828 2175 2409 1742 \nQ 1991 1309 1228 531 \nz\n\" id=\"DejaVuSans-32\" transform=\"scale(0.015625)\"/>\n       </defs>\n       <use xlink:href=\"#DejaVuSans-32\"/>\n       <use x=\"63.623047\" xlink:href=\"#DejaVuSans-30\"/>\n      </g>\n     </g>\n    </g>\n    <g id=\"xtick_3\">\n     <g id=\"line2d_3\">\n      <g>\n       <use style=\"stroke:#000000;stroke-width:0.8;\" x=\"159.950342\" xlink:href=\"#m600e6993db\" y=\"239.758125\"/>\n      </g>\n     </g>\n     <g id=\"text_3\">\n      <!-- 40 -->\n      <g transform=\"translate(153.587842 254.356562)scale(0.1 -0.1)\">\n       <defs>\n        <path d=\"M 2419 4116 \nL 825 1625 \nL 2419 1625 \nL 2419 4116 \nz\nM 2253 4666 \nL 3047 4666 \nL 3047 1625 \nL 3713 1625 \nL 3713 1100 \nL 3047 1100 \nL 3047 0 \nL 2419 0 \nL 2419 1100 \nL 313 1100 \nL 313 1709 \nL 2253 4666 \nz\n\" id=\"DejaVuSans-34\" transform=\"scale(0.015625)\"/>\n       </defs>\n       <use xlink:href=\"#DejaVuSans-34\"/>\n       <use x=\"63.623047\" xlink:href=\"#DejaVuSans-30\"/>\n      </g>\n     </g>\n    </g>\n    <g id=\"xtick_4\">\n     <g id=\"line2d_4\">\n      <g>\n       <use style=\"stroke:#000000;stroke-width:0.8;\" x=\"201.360361\" xlink:href=\"#m600e6993db\" y=\"239.758125\"/>\n      </g>\n     </g>\n     <g id=\"text_4\">\n      <!-- 60 -->\n      <g transform=\"translate(194.997861 254.356562)scale(0.1 -0.1)\">\n       <defs>\n        <path d=\"M 2113 2584 \nQ 1688 2584 1439 2293 \nQ 1191 2003 1191 1497 \nQ 1191 994 1439 701 \nQ 1688 409 2113 409 \nQ 2538 409 2786 701 \nQ 3034 994 3034 1497 \nQ 3034 2003 2786 2293 \nQ 2538 2584 2113 2584 \nz\nM 3366 4563 \nL 3366 3988 \nQ 3128 4100 2886 4159 \nQ 2644 4219 2406 4219 \nQ 1781 4219 1451 3797 \nQ 1122 3375 1075 2522 \nQ 1259 2794 1537 2939 \nQ 1816 3084 2150 3084 \nQ 2853 3084 3261 2657 \nQ 3669 2231 3669 1497 \nQ 3669 778 3244 343 \nQ 2819 -91 2113 -91 \nQ 1303 -91 875 529 \nQ 447 1150 447 2328 \nQ 447 3434 972 4092 \nQ 1497 4750 2381 4750 \nQ 2619 4750 2861 4703 \nQ 3103 4656 3366 4563 \nz\n\" id=\"DejaVuSans-36\" transform=\"scale(0.015625)\"/>\n       </defs>\n       <use xlink:href=\"#DejaVuSans-36\"/>\n       <use x=\"63.623047\" xlink:href=\"#DejaVuSans-30\"/>\n      </g>\n     </g>\n    </g>\n    <g id=\"xtick_5\">\n     <g id=\"line2d_5\">\n      <g>\n       <use style=\"stroke:#000000;stroke-width:0.8;\" x=\"242.770379\" xlink:href=\"#m600e6993db\" y=\"239.758125\"/>\n      </g>\n     </g>\n     <g id=\"text_5\">\n      <!-- 80 -->\n      <g transform=\"translate(236.407879 254.356562)scale(0.1 -0.1)\">\n       <defs>\n        <path d=\"M 2034 2216 \nQ 1584 2216 1326 1975 \nQ 1069 1734 1069 1313 \nQ 1069 891 1326 650 \nQ 1584 409 2034 409 \nQ 2484 409 2743 651 \nQ 3003 894 3003 1313 \nQ 3003 1734 2745 1975 \nQ 2488 2216 2034 2216 \nz\nM 1403 2484 \nQ 997 2584 770 2862 \nQ 544 3141 544 3541 \nQ 544 4100 942 4425 \nQ 1341 4750 2034 4750 \nQ 2731 4750 3128 4425 \nQ 3525 4100 3525 3541 \nQ 3525 3141 3298 2862 \nQ 3072 2584 2669 2484 \nQ 3125 2378 3379 2068 \nQ 3634 1759 3634 1313 \nQ 3634 634 3220 271 \nQ 2806 -91 2034 -91 \nQ 1263 -91 848 271 \nQ 434 634 434 1313 \nQ 434 1759 690 2068 \nQ 947 2378 1403 2484 \nz\nM 1172 3481 \nQ 1172 3119 1398 2916 \nQ 1625 2713 2034 2713 \nQ 2441 2713 2670 2916 \nQ 2900 3119 2900 3481 \nQ 2900 3844 2670 4047 \nQ 2441 4250 2034 4250 \nQ 1625 4250 1398 4047 \nQ 1172 3844 1172 3481 \nz\n\" id=\"DejaVuSans-38\" transform=\"scale(0.015625)\"/>\n       </defs>\n       <use xlink:href=\"#DejaVuSans-38\"/>\n       <use x=\"63.623047\" xlink:href=\"#DejaVuSans-30\"/>\n      </g>\n     </g>\n    </g>\n    <g id=\"xtick_6\">\n     <g id=\"line2d_6\">\n      <g>\n       <use style=\"stroke:#000000;stroke-width:0.8;\" x=\"284.180398\" xlink:href=\"#m600e6993db\" y=\"239.758125\"/>\n      </g>\n     </g>\n     <g id=\"text_6\">\n      <!-- 100 -->\n      <g transform=\"translate(274.636648 254.356562)scale(0.1 -0.1)\">\n       <defs>\n        <path d=\"M 794 531 \nL 1825 531 \nL 1825 4091 \nL 703 3866 \nL 703 4441 \nL 1819 4666 \nL 2450 4666 \nL 2450 531 \nL 3481 531 \nL 3481 0 \nL 794 0 \nL 794 531 \nz\n\" id=\"DejaVuSans-31\" transform=\"scale(0.015625)\"/>\n       </defs>\n       <use xlink:href=\"#DejaVuSans-31\"/>\n       <use x=\"63.623047\" xlink:href=\"#DejaVuSans-30\"/>\n       <use x=\"127.246094\" xlink:href=\"#DejaVuSans-30\"/>\n      </g>\n     </g>\n    </g>\n    <g id=\"xtick_7\">\n     <g id=\"line2d_7\">\n      <g>\n       <use style=\"stroke:#000000;stroke-width:0.8;\" x=\"325.590416\" xlink:href=\"#m600e6993db\" y=\"239.758125\"/>\n      </g>\n     </g>\n     <g id=\"text_7\">\n      <!-- 120 -->\n      <g transform=\"translate(316.046666 254.356562)scale(0.1 -0.1)\">\n       <use xlink:href=\"#DejaVuSans-31\"/>\n       <use x=\"63.623047\" xlink:href=\"#DejaVuSans-32\"/>\n       <use x=\"127.246094\" xlink:href=\"#DejaVuSans-30\"/>\n      </g>\n     </g>\n    </g>\n    <g id=\"xtick_8\">\n     <g id=\"line2d_8\">\n      <g>\n       <use style=\"stroke:#000000;stroke-width:0.8;\" x=\"367.000435\" xlink:href=\"#m600e6993db\" y=\"239.758125\"/>\n      </g>\n     </g>\n     <g id=\"text_8\">\n      <!-- 140 -->\n      <g transform=\"translate(357.456685 254.356562)scale(0.1 -0.1)\">\n       <use xlink:href=\"#DejaVuSans-31\"/>\n       <use x=\"63.623047\" xlink:href=\"#DejaVuSans-34\"/>\n       <use x=\"127.246094\" xlink:href=\"#DejaVuSans-30\"/>\n      </g>\n     </g>\n    </g>\n    <g id=\"text_9\">\n     <!-- X -->\n     <g transform=\"translate(230.028125 268.034687)scale(0.1 -0.1)\">\n      <defs>\n       <path d=\"M 403 4666 \nL 1081 4666 \nL 2241 2931 \nL 3406 4666 \nL 4084 4666 \nL 2584 2425 \nL 4184 0 \nL 3506 0 \nL 2194 1984 \nL 872 0 \nL 191 0 \nL 1856 2491 \nL 403 4666 \nz\n\" id=\"DejaVuSans-58\" transform=\"scale(0.015625)\"/>\n      </defs>\n      <use xlink:href=\"#DejaVuSans-58\"/>\n     </g>\n    </g>\n   </g>\n   <g id=\"matplotlib.axis_2\">\n    <g id=\"ytick_1\">\n     <g id=\"line2d_9\">\n      <defs>\n       <path d=\"M 0 0 \nL -3.5 0 \n\" id=\"m5a9579b9a5\" style=\"stroke:#000000;stroke-width:0.8;\"/>\n      </defs>\n      <g>\n       <use style=\"stroke:#000000;stroke-width:0.8;\" x=\"66.053125\" xlink:href=\"#m5a9579b9a5\" y=\"229.866371\"/>\n      </g>\n     </g>\n     <g id=\"text_10\">\n      <!-- 0 -->\n      <g transform=\"translate(52.690625 233.665589)scale(0.1 -0.1)\">\n       <use xlink:href=\"#DejaVuSans-30\"/>\n      </g>\n     </g>\n    </g>\n    <g id=\"ytick_2\">\n     <g id=\"line2d_10\">\n      <g>\n       <use style=\"stroke:#000000;stroke-width:0.8;\" x=\"66.053125\" xlink:href=\"#m5a9579b9a5\" y=\"184.592754\"/>\n      </g>\n     </g>\n     <g id=\"text_11\">\n      <!-- 50000 -->\n      <g transform=\"translate(27.240625 188.391973)scale(0.1 -0.1)\">\n       <defs>\n        <path d=\"M 691 4666 \nL 3169 4666 \nL 3169 4134 \nL 1269 4134 \nL 1269 2991 \nQ 1406 3038 1543 3061 \nQ 1681 3084 1819 3084 \nQ 2600 3084 3056 2656 \nQ 3513 2228 3513 1497 \nQ 3513 744 3044 326 \nQ 2575 -91 1722 -91 \nQ 1428 -91 1123 -41 \nQ 819 9 494 109 \nL 494 744 \nQ 775 591 1075 516 \nQ 1375 441 1709 441 \nQ 2250 441 2565 725 \nQ 2881 1009 2881 1497 \nQ 2881 1984 2565 2268 \nQ 2250 2553 1709 2553 \nQ 1456 2553 1204 2497 \nQ 953 2441 691 2322 \nL 691 4666 \nz\n\" id=\"DejaVuSans-35\" transform=\"scale(0.015625)\"/>\n       </defs>\n       <use xlink:href=\"#DejaVuSans-35\"/>\n       <use x=\"63.623047\" xlink:href=\"#DejaVuSans-30\"/>\n       <use x=\"127.246094\" xlink:href=\"#DejaVuSans-30\"/>\n       <use x=\"190.869141\" xlink:href=\"#DejaVuSans-30\"/>\n       <use x=\"254.492188\" xlink:href=\"#DejaVuSans-30\"/>\n      </g>\n     </g>\n    </g>\n    <g id=\"ytick_3\">\n     <g id=\"line2d_11\">\n      <g>\n       <use style=\"stroke:#000000;stroke-width:0.8;\" x=\"66.053125\" xlink:href=\"#m5a9579b9a5\" y=\"139.319138\"/>\n      </g>\n     </g>\n     <g id=\"text_12\">\n      <!-- 100000 -->\n      <g transform=\"translate(20.878125 143.118357)scale(0.1 -0.1)\">\n       <use xlink:href=\"#DejaVuSans-31\"/>\n       <use x=\"63.623047\" xlink:href=\"#DejaVuSans-30\"/>\n       <use x=\"127.246094\" xlink:href=\"#DejaVuSans-30\"/>\n       <use x=\"190.869141\" xlink:href=\"#DejaVuSans-30\"/>\n       <use x=\"254.492188\" xlink:href=\"#DejaVuSans-30\"/>\n       <use x=\"318.115234\" xlink:href=\"#DejaVuSans-30\"/>\n      </g>\n     </g>\n    </g>\n    <g id=\"ytick_4\">\n     <g id=\"line2d_12\">\n      <g>\n       <use style=\"stroke:#000000;stroke-width:0.8;\" x=\"66.053125\" xlink:href=\"#m5a9579b9a5\" y=\"94.045521\"/>\n      </g>\n     </g>\n     <g id=\"text_13\">\n      <!-- 150000 -->\n      <g transform=\"translate(20.878125 97.84474)scale(0.1 -0.1)\">\n       <use xlink:href=\"#DejaVuSans-31\"/>\n       <use x=\"63.623047\" xlink:href=\"#DejaVuSans-35\"/>\n       <use x=\"127.246094\" xlink:href=\"#DejaVuSans-30\"/>\n       <use x=\"190.869141\" xlink:href=\"#DejaVuSans-30\"/>\n       <use x=\"254.492188\" xlink:href=\"#DejaVuSans-30\"/>\n       <use x=\"318.115234\" xlink:href=\"#DejaVuSans-30\"/>\n      </g>\n     </g>\n    </g>\n    <g id=\"ytick_5\">\n     <g id=\"line2d_13\">\n      <g>\n       <use style=\"stroke:#000000;stroke-width:0.8;\" x=\"66.053125\" xlink:href=\"#m5a9579b9a5\" y=\"48.771905\"/>\n      </g>\n     </g>\n     <g id=\"text_14\">\n      <!-- 200000 -->\n      <g transform=\"translate(20.878125 52.571124)scale(0.1 -0.1)\">\n       <use xlink:href=\"#DejaVuSans-32\"/>\n       <use x=\"63.623047\" xlink:href=\"#DejaVuSans-30\"/>\n       <use x=\"127.246094\" xlink:href=\"#DejaVuSans-30\"/>\n       <use x=\"190.869141\" xlink:href=\"#DejaVuSans-30\"/>\n       <use x=\"254.492188\" xlink:href=\"#DejaVuSans-30\"/>\n       <use x=\"318.115234\" xlink:href=\"#DejaVuSans-30\"/>\n      </g>\n     </g>\n    </g>\n    <g id=\"text_15\">\n     <!-- Y -->\n     <g transform=\"translate(14.798438 134.092031)rotate(-90)scale(0.1 -0.1)\">\n      <defs>\n       <path d=\"M -13 4666 \nL 666 4666 \nL 1959 2747 \nL 3244 4666 \nL 3922 4666 \nL 2272 2222 \nL 2272 0 \nL 1638 0 \nL 1638 2222 \nL -13 4666 \nz\n\" id=\"DejaVuSans-59\" transform=\"scale(0.015625)\"/>\n      </defs>\n      <use xlink:href=\"#DejaVuSans-59\"/>\n     </g>\n    </g>\n   </g>\n   <g id=\"line2d_14\">\n    <path clip-path=\"url(#p8f9d3be619)\" d=\"M 81.271307 229.874489 \nL 87.48281 229.750878 \nL 93.694312 229.464336 \nL 99.905815 229.014863 \nL 106.117318 228.402458 \nL 112.328821 227.627121 \nL 118.540324 226.688853 \nL 124.751826 225.587653 \nL 130.963329 224.323522 \nL 137.174832 222.896459 \nL 143.386335 221.306465 \nL 149.597837 219.553539 \nL 155.80934 217.637681 \nL 162.020843 215.558892 \nL 168.232346 213.317172 \nL 174.443849 210.91252 \nL 180.655351 208.344936 \nL 186.866854 205.614421 \nL 193.078357 202.720974 \nL 199.28986 199.664596 \nL 205.501362 196.445286 \nL 211.712865 193.063045 \nL 217.924368 189.517872 \nL 224.135871 185.809767 \nL 230.347374 181.938731 \nL 236.558876 177.904764 \nL 242.770379 173.707864 \nL 248.981882 169.348034 \nL 255.193385 164.825271 \nL 261.404888 160.139578 \nL 267.61639 155.290952 \nL 273.827893 150.279395 \nL 280.039396 145.104907 \nL 286.250899 139.767487 \nL 292.462401 134.267135 \nL 298.673904 128.603852 \nL 304.885407 122.777638 \nL 311.09691 116.788491 \nL 317.308413 110.636414 \nL 323.519915 104.321404 \nL 329.731418 97.843463 \nL 335.942921 91.202591 \nL 342.154424 84.398787 \nL 348.365926 77.432052 \nL 354.577429 70.302384 \nL 360.788932 63.009786 \nL 367.000435 55.554256 \nL 373.211938 47.935794 \nL 379.42344 40.154401 \nL 385.634943 32.210076 \n\" style=\"fill:none;stroke:#ff0000;stroke-linecap:square;stroke-width:0.5;\"/>\n   </g>\n   <g id=\"patch_3\">\n    <path d=\"M 66.053125 239.758125 \nL 66.053125 22.318125 \n\" style=\"fill:none;stroke:#000000;stroke-linecap:square;stroke-linejoin:miter;stroke-width:0.8;\"/>\n   </g>\n   <g id=\"patch_4\">\n    <path d=\"M 400.853125 239.758125 \nL 400.853125 22.318125 \n\" style=\"fill:none;stroke:#000000;stroke-linecap:square;stroke-linejoin:miter;stroke-width:0.8;\"/>\n   </g>\n   <g id=\"patch_5\">\n    <path d=\"M 66.053125 239.758125 \nL 400.853125 239.758125 \n\" style=\"fill:none;stroke:#000000;stroke-linecap:square;stroke-linejoin:miter;stroke-width:0.8;\"/>\n   </g>\n   <g id=\"patch_6\">\n    <path d=\"M 66.053125 22.318125 \nL 400.853125 22.318125 \n\" style=\"fill:none;stroke:#000000;stroke-linecap:square;stroke-linejoin:miter;stroke-width:0.8;\"/>\n   </g>\n   <g id=\"text_16\">\n    <!-- Quadratic Least Square Fitting -->\n    <g transform=\"translate(142.388125 16.318125)scale(0.12 -0.12)\">\n     <defs>\n      <path d=\"M 2522 4238 \nQ 1834 4238 1429 3725 \nQ 1025 3213 1025 2328 \nQ 1025 1447 1429 934 \nQ 1834 422 2522 422 \nQ 3209 422 3611 934 \nQ 4013 1447 4013 2328 \nQ 4013 3213 3611 3725 \nQ 3209 4238 2522 4238 \nz\nM 3406 84 \nL 4238 -825 \nL 3475 -825 \nL 2784 -78 \nQ 2681 -84 2626 -87 \nQ 2572 -91 2522 -91 \nQ 1538 -91 948 567 \nQ 359 1225 359 2328 \nQ 359 3434 948 4092 \nQ 1538 4750 2522 4750 \nQ 3503 4750 4090 4092 \nQ 4678 3434 4678 2328 \nQ 4678 1516 4351 937 \nQ 4025 359 3406 84 \nz\n\" id=\"DejaVuSans-51\" transform=\"scale(0.015625)\"/>\n      <path d=\"M 544 1381 \nL 544 3500 \nL 1119 3500 \nL 1119 1403 \nQ 1119 906 1312 657 \nQ 1506 409 1894 409 \nQ 2359 409 2629 706 \nQ 2900 1003 2900 1516 \nL 2900 3500 \nL 3475 3500 \nL 3475 0 \nL 2900 0 \nL 2900 538 \nQ 2691 219 2414 64 \nQ 2138 -91 1772 -91 \nQ 1169 -91 856 284 \nQ 544 659 544 1381 \nz\nM 1991 3584 \nL 1991 3584 \nz\n\" id=\"DejaVuSans-75\" transform=\"scale(0.015625)\"/>\n      <path d=\"M 2194 1759 \nQ 1497 1759 1228 1600 \nQ 959 1441 959 1056 \nQ 959 750 1161 570 \nQ 1363 391 1709 391 \nQ 2188 391 2477 730 \nQ 2766 1069 2766 1631 \nL 2766 1759 \nL 2194 1759 \nz\nM 3341 1997 \nL 3341 0 \nL 2766 0 \nL 2766 531 \nQ 2569 213 2275 61 \nQ 1981 -91 1556 -91 \nQ 1019 -91 701 211 \nQ 384 513 384 1019 \nQ 384 1609 779 1909 \nQ 1175 2209 1959 2209 \nL 2766 2209 \nL 2766 2266 \nQ 2766 2663 2505 2880 \nQ 2244 3097 1772 3097 \nQ 1472 3097 1187 3025 \nQ 903 2953 641 2809 \nL 641 3341 \nQ 956 3463 1253 3523 \nQ 1550 3584 1831 3584 \nQ 2591 3584 2966 3190 \nQ 3341 2797 3341 1997 \nz\n\" id=\"DejaVuSans-61\" transform=\"scale(0.015625)\"/>\n      <path d=\"M 2906 2969 \nL 2906 4863 \nL 3481 4863 \nL 3481 0 \nL 2906 0 \nL 2906 525 \nQ 2725 213 2448 61 \nQ 2172 -91 1784 -91 \nQ 1150 -91 751 415 \nQ 353 922 353 1747 \nQ 353 2572 751 3078 \nQ 1150 3584 1784 3584 \nQ 2172 3584 2448 3432 \nQ 2725 3281 2906 2969 \nz\nM 947 1747 \nQ 947 1113 1208 752 \nQ 1469 391 1925 391 \nQ 2381 391 2643 752 \nQ 2906 1113 2906 1747 \nQ 2906 2381 2643 2742 \nQ 2381 3103 1925 3103 \nQ 1469 3103 1208 2742 \nQ 947 2381 947 1747 \nz\n\" id=\"DejaVuSans-64\" transform=\"scale(0.015625)\"/>\n      <path d=\"M 2631 2963 \nQ 2534 3019 2420 3045 \nQ 2306 3072 2169 3072 \nQ 1681 3072 1420 2755 \nQ 1159 2438 1159 1844 \nL 1159 0 \nL 581 0 \nL 581 3500 \nL 1159 3500 \nL 1159 2956 \nQ 1341 3275 1631 3429 \nQ 1922 3584 2338 3584 \nQ 2397 3584 2469 3576 \nQ 2541 3569 2628 3553 \nL 2631 2963 \nz\n\" id=\"DejaVuSans-72\" transform=\"scale(0.015625)\"/>\n      <path d=\"M 1172 4494 \nL 1172 3500 \nL 2356 3500 \nL 2356 3053 \nL 1172 3053 \nL 1172 1153 \nQ 1172 725 1289 603 \nQ 1406 481 1766 481 \nL 2356 481 \nL 2356 0 \nL 1766 0 \nQ 1100 0 847 248 \nQ 594 497 594 1153 \nL 594 3053 \nL 172 3053 \nL 172 3500 \nL 594 3500 \nL 594 4494 \nL 1172 4494 \nz\n\" id=\"DejaVuSans-74\" transform=\"scale(0.015625)\"/>\n      <path d=\"M 603 3500 \nL 1178 3500 \nL 1178 0 \nL 603 0 \nL 603 3500 \nz\nM 603 4863 \nL 1178 4863 \nL 1178 4134 \nL 603 4134 \nL 603 4863 \nz\n\" id=\"DejaVuSans-69\" transform=\"scale(0.015625)\"/>\n      <path d=\"M 3122 3366 \nL 3122 2828 \nQ 2878 2963 2633 3030 \nQ 2388 3097 2138 3097 \nQ 1578 3097 1268 2742 \nQ 959 2388 959 1747 \nQ 959 1106 1268 751 \nQ 1578 397 2138 397 \nQ 2388 397 2633 464 \nQ 2878 531 3122 666 \nL 3122 134 \nQ 2881 22 2623 -34 \nQ 2366 -91 2075 -91 \nQ 1284 -91 818 406 \nQ 353 903 353 1747 \nQ 353 2603 823 3093 \nQ 1294 3584 2113 3584 \nQ 2378 3584 2631 3529 \nQ 2884 3475 3122 3366 \nz\n\" id=\"DejaVuSans-63\" transform=\"scale(0.015625)\"/>\n      <path id=\"DejaVuSans-20\" transform=\"scale(0.015625)\"/>\n      <path d=\"M 628 4666 \nL 1259 4666 \nL 1259 531 \nL 3531 531 \nL 3531 0 \nL 628 0 \nL 628 4666 \nz\n\" id=\"DejaVuSans-4c\" transform=\"scale(0.015625)\"/>\n      <path d=\"M 3597 1894 \nL 3597 1613 \nL 953 1613 \nQ 991 1019 1311 708 \nQ 1631 397 2203 397 \nQ 2534 397 2845 478 \nQ 3156 559 3463 722 \nL 3463 178 \nQ 3153 47 2828 -22 \nQ 2503 -91 2169 -91 \nQ 1331 -91 842 396 \nQ 353 884 353 1716 \nQ 353 2575 817 3079 \nQ 1281 3584 2069 3584 \nQ 2775 3584 3186 3129 \nQ 3597 2675 3597 1894 \nz\nM 3022 2063 \nQ 3016 2534 2758 2815 \nQ 2500 3097 2075 3097 \nQ 1594 3097 1305 2825 \nQ 1016 2553 972 2059 \nL 3022 2063 \nz\n\" id=\"DejaVuSans-65\" transform=\"scale(0.015625)\"/>\n      <path d=\"M 2834 3397 \nL 2834 2853 \nQ 2591 2978 2328 3040 \nQ 2066 3103 1784 3103 \nQ 1356 3103 1142 2972 \nQ 928 2841 928 2578 \nQ 928 2378 1081 2264 \nQ 1234 2150 1697 2047 \nL 1894 2003 \nQ 2506 1872 2764 1633 \nQ 3022 1394 3022 966 \nQ 3022 478 2636 193 \nQ 2250 -91 1575 -91 \nQ 1294 -91 989 -36 \nQ 684 19 347 128 \nL 347 722 \nQ 666 556 975 473 \nQ 1284 391 1588 391 \nQ 1994 391 2212 530 \nQ 2431 669 2431 922 \nQ 2431 1156 2273 1281 \nQ 2116 1406 1581 1522 \nL 1381 1569 \nQ 847 1681 609 1914 \nQ 372 2147 372 2553 \nQ 372 3047 722 3315 \nQ 1072 3584 1716 3584 \nQ 2034 3584 2315 3537 \nQ 2597 3491 2834 3397 \nz\n\" id=\"DejaVuSans-73\" transform=\"scale(0.015625)\"/>\n      <path d=\"M 3425 4513 \nL 3425 3897 \nQ 3066 4069 2747 4153 \nQ 2428 4238 2131 4238 \nQ 1616 4238 1336 4038 \nQ 1056 3838 1056 3469 \nQ 1056 3159 1242 3001 \nQ 1428 2844 1947 2747 \nL 2328 2669 \nQ 3034 2534 3370 2195 \nQ 3706 1856 3706 1288 \nQ 3706 609 3251 259 \nQ 2797 -91 1919 -91 \nQ 1588 -91 1214 -16 \nQ 841 59 441 206 \nL 441 856 \nQ 825 641 1194 531 \nQ 1563 422 1919 422 \nQ 2459 422 2753 634 \nQ 3047 847 3047 1241 \nQ 3047 1584 2836 1778 \nQ 2625 1972 2144 2069 \nL 1759 2144 \nQ 1053 2284 737 2584 \nQ 422 2884 422 3419 \nQ 422 4038 858 4394 \nQ 1294 4750 2059 4750 \nQ 2388 4750 2728 4690 \nQ 3069 4631 3425 4513 \nz\n\" id=\"DejaVuSans-53\" transform=\"scale(0.015625)\"/>\n      <path d=\"M 947 1747 \nQ 947 1113 1208 752 \nQ 1469 391 1925 391 \nQ 2381 391 2643 752 \nQ 2906 1113 2906 1747 \nQ 2906 2381 2643 2742 \nQ 2381 3103 1925 3103 \nQ 1469 3103 1208 2742 \nQ 947 2381 947 1747 \nz\nM 2906 525 \nQ 2725 213 2448 61 \nQ 2172 -91 1784 -91 \nQ 1150 -91 751 415 \nQ 353 922 353 1747 \nQ 353 2572 751 3078 \nQ 1150 3584 1784 3584 \nQ 2172 3584 2448 3432 \nQ 2725 3281 2906 2969 \nL 2906 3500 \nL 3481 3500 \nL 3481 -1331 \nL 2906 -1331 \nL 2906 525 \nz\n\" id=\"DejaVuSans-71\" transform=\"scale(0.015625)\"/>\n      <path d=\"M 628 4666 \nL 3309 4666 \nL 3309 4134 \nL 1259 4134 \nL 1259 2759 \nL 3109 2759 \nL 3109 2228 \nL 1259 2228 \nL 1259 0 \nL 628 0 \nL 628 4666 \nz\n\" id=\"DejaVuSans-46\" transform=\"scale(0.015625)\"/>\n      <path d=\"M 3513 2113 \nL 3513 0 \nL 2938 0 \nL 2938 2094 \nQ 2938 2591 2744 2837 \nQ 2550 3084 2163 3084 \nQ 1697 3084 1428 2787 \nQ 1159 2491 1159 1978 \nL 1159 0 \nL 581 0 \nL 581 3500 \nL 1159 3500 \nL 1159 2956 \nQ 1366 3272 1645 3428 \nQ 1925 3584 2291 3584 \nQ 2894 3584 3203 3211 \nQ 3513 2838 3513 2113 \nz\n\" id=\"DejaVuSans-6e\" transform=\"scale(0.015625)\"/>\n      <path d=\"M 2906 1791 \nQ 2906 2416 2648 2759 \nQ 2391 3103 1925 3103 \nQ 1463 3103 1205 2759 \nQ 947 2416 947 1791 \nQ 947 1169 1205 825 \nQ 1463 481 1925 481 \nQ 2391 481 2648 825 \nQ 2906 1169 2906 1791 \nz\nM 3481 434 \nQ 3481 -459 3084 -895 \nQ 2688 -1331 1869 -1331 \nQ 1566 -1331 1297 -1286 \nQ 1028 -1241 775 -1147 \nL 775 -588 \nQ 1028 -725 1275 -790 \nQ 1522 -856 1778 -856 \nQ 2344 -856 2625 -561 \nQ 2906 -266 2906 331 \nL 2906 616 \nQ 2728 306 2450 153 \nQ 2172 0 1784 0 \nQ 1141 0 747 490 \nQ 353 981 353 1791 \nQ 353 2603 747 3093 \nQ 1141 3584 1784 3584 \nQ 2172 3584 2450 3431 \nQ 2728 3278 2906 2969 \nL 2906 3500 \nL 3481 3500 \nL 3481 434 \nz\n\" id=\"DejaVuSans-67\" transform=\"scale(0.015625)\"/>\n     </defs>\n     <use xlink:href=\"#DejaVuSans-51\"/>\n     <use x=\"78.710938\" xlink:href=\"#DejaVuSans-75\"/>\n     <use x=\"142.089844\" xlink:href=\"#DejaVuSans-61\"/>\n     <use x=\"203.369141\" xlink:href=\"#DejaVuSans-64\"/>\n     <use x=\"266.845703\" xlink:href=\"#DejaVuSans-72\"/>\n     <use x=\"307.958984\" xlink:href=\"#DejaVuSans-61\"/>\n     <use x=\"369.238281\" xlink:href=\"#DejaVuSans-74\"/>\n     <use x=\"408.447266\" xlink:href=\"#DejaVuSans-69\"/>\n     <use x=\"436.230469\" xlink:href=\"#DejaVuSans-63\"/>\n     <use x=\"491.210938\" xlink:href=\"#DejaVuSans-20\"/>\n     <use x=\"522.998047\" xlink:href=\"#DejaVuSans-4c\"/>\n     <use x=\"576.960938\" xlink:href=\"#DejaVuSans-65\"/>\n     <use x=\"638.484375\" xlink:href=\"#DejaVuSans-61\"/>\n     <use x=\"699.763672\" xlink:href=\"#DejaVuSans-73\"/>\n     <use x=\"751.863281\" xlink:href=\"#DejaVuSans-74\"/>\n     <use x=\"791.072266\" xlink:href=\"#DejaVuSans-20\"/>\n     <use x=\"822.859375\" xlink:href=\"#DejaVuSans-53\"/>\n     <use x=\"886.335938\" xlink:href=\"#DejaVuSans-71\"/>\n     <use x=\"949.8125\" xlink:href=\"#DejaVuSans-75\"/>\n     <use x=\"1013.191406\" xlink:href=\"#DejaVuSans-61\"/>\n     <use x=\"1074.470703\" xlink:href=\"#DejaVuSans-72\"/>\n     <use x=\"1113.333984\" xlink:href=\"#DejaVuSans-65\"/>\n     <use x=\"1174.857422\" xlink:href=\"#DejaVuSans-20\"/>\n     <use x=\"1206.644531\" xlink:href=\"#DejaVuSans-46\"/>\n     <use x=\"1256.914062\" xlink:href=\"#DejaVuSans-69\"/>\n     <use x=\"1284.697266\" xlink:href=\"#DejaVuSans-74\"/>\n     <use x=\"1323.90625\" xlink:href=\"#DejaVuSans-74\"/>\n     <use x=\"1363.115234\" xlink:href=\"#DejaVuSans-69\"/>\n     <use x=\"1390.898438\" xlink:href=\"#DejaVuSans-6e\"/>\n     <use x=\"1454.277344\" xlink:href=\"#DejaVuSans-67\"/>\n    </g>\n   </g>\n  </g>\n </g>\n <defs>\n  <clipPath id=\"p8f9d3be619\">\n   <rect height=\"217.44\" width=\"334.8\" x=\"66.053125\" y=\"22.318125\"/>\n  </clipPath>\n </defs>\n</svg>\n",
      "image/png": "[encoded data removed]"
     },
     "metadata": {
      "needs_background": "light"
     }
    }
   ],
   "source": [
    "plt.scatter(X,y, marker = '.')\n",
    "plt.plot(X,y_pred,color = 'red',linewidth = 0.5)\n",
    "plt.title('Quadratic Least Square Fitting')\n",
    "plt.xlabel('X')\n",
    "plt.ylabel('Y')\n",
    "plt.show()"
   ]
  },
  {
   "source": [
    "## Evaluating Error in reconstruction"
   ],
   "cell_type": "markdown",
   "metadata": {}
  },
  {
   "cell_type": "code",
   "execution_count": 11,
   "metadata": {},
   "outputs": [
    {
     "output_type": "stream",
     "name": "stdout",
     "text": [
      "2.7930874016768428\n"
     ]
    }
   ],
   "source": [
    "max_error = max(abs(y-y_pred)/y)\n",
    "print(max_error)"
   ]
  },
  {
   "source": [
    "## here the first approximate value is way off from the actual value\n",
    "## that's why the error is too large"
   ],
   "cell_type": "markdown",
   "metadata": {}
  },
  {
   "cell_type": "code",
   "execution_count": 12,
   "metadata": {},
   "outputs": [
    {
     "output_type": "stream",
     "name": "stdout",
     "text": [
      "y[0] = 5\ty_predict[0] = -8.965437008384214\ny[1] = 140\ty_predict[1] = 127.54939634349978\ny[2] = 455\ty_predict[2] = 444.00517872570873\ny[3] = 950\ty_predict[3] = 940.4019101382426\ny[4] = 1625\ty_predict[4] = 1616.7395905811015\n"
     ]
    }
   ],
   "source": [
    "for i in range(5):\n",
    "    print(f\"y[{i}] = {y[i]}\\ty_predict[{i}] = {y_pred[i]}\")"
   ]
  },
  {
   "source": [
    "## Also it can be seen that as we go on calculating the approximate values \n",
    "## the error goes on decreasing "
   ],
   "cell_type": "markdown",
   "metadata": {}
  }
 ]
}