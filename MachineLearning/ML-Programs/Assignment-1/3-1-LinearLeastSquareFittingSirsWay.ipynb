{
 "metadata": {
  "language_info": {
   "codemirror_mode": {
    "name": "ipython",
    "version": 3
   },
   "file_extension": ".py",
   "mimetype": "text/x-python",
   "name": "python",
   "nbconvert_exporter": "python",
   "pygments_lexer": "ipython3",
   "version": "3.9.1"
  },
  "orig_nbformat": 2,
  "kernelspec": {
   "name": "python3",
   "display_name": "Python 3.9.1 64-bit",
   "metadata": {
    "interpreter": {
     "hash": "0666fee326dc6c7ef39c32ad6be1cd19b125cde6d4697bcb018259ae008181e2"
    }
   }
  }
 },
 "nbformat": 4,
 "nbformat_minor": 2,
 "cells": [
  {
   "cell_type": "code",
   "execution_count": 1,
   "metadata": {},
   "outputs": [],
   "source": [
    "import numpy as np\n",
    "import pandas as pd\n",
    "import matplotlib.pyplot as plt"
   ]
  },
  {
   "cell_type": "code",
   "execution_count": 2,
   "metadata": {},
   "outputs": [],
   "source": [
    "data = pd.read_csv('Salary_Data.csv')\n",
    "X = data.iloc[:,0].values\n",
    "y = data.iloc[:,-1].values\n"
   ]
  },
  {
   "cell_type": "code",
   "execution_count": 35,
   "metadata": {},
   "outputs": [],
   "source": [
    "def linearfitting(x,y):\n",
    "    n = len(x)\n",
    "    x_sq_sum = 0 \n",
    "    x_sum = 0\n",
    "    yx_sum = 0\n",
    "    y_sum = 0\n",
    "\n",
    "    i = 0\n",
    "    while(i<n):\n",
    "        x_sum += x[i]\n",
    "        y_sum += y[i] \n",
    "        x_sq_sum += (x[i])**2\n",
    "        yx_sum = x[i]*y[i]\n",
    "        i += 1\n",
    "    \n",
    "    A = np.array([\n",
    "        [x_sq_sum,x_sum],\n",
    "        [x_sum,n]\n",
    "        ])\n",
    "\n",
    "    b = np.array([\n",
    "        [yx_sum],\n",
    "        [y_sum]\n",
    "        ])\n",
    "\n",
    "    invA = np.linalg.inv(A)\n",
    "    M = np.matmul(invA,b)\n",
    "    \n",
    "    print(A)\n",
    "    print(invA)\n",
    "    return M"
   ]
  },
  {
   "cell_type": "code",
   "execution_count": 36,
   "metadata": {},
   "outputs": [
    {
     "output_type": "stream",
     "name": "stdout",
     "text": [
      "[[1080.5  159.4]\n [ 159.4   30. ]]\n[[ 0.00428165 -0.02274985]\n [-0.02274985  0.15421086]]\n"
     ]
    }
   ],
   "source": [
    "M = linearfitting(X,y)\n",
    "m = M[0][0]\n",
    "b = M[1][0]"
   ]
  },
  {
   "cell_type": "code",
   "execution_count": 37,
   "metadata": {},
   "outputs": [
    {
     "output_type": "stream",
     "name": "stdout",
     "text": [
      "[ 1.1  1.3  1.5  2.   2.2  2.9  3.   3.2  3.2  3.7  3.9  4.   4.   4.1\n  4.5  4.9  5.1  5.3  5.9  6.   6.8  7.1  7.9  8.2  8.7  9.   9.5  9.6\n 10.3 10.5]\n[ 39343.  46205.  37731.  43525.  39891.  56642.  60150.  54445.  64445.\n  57189.  63218.  55794.  56957.  57081.  61111.  67938.  66029.  83088.\n  81363.  93940.  91738.  98273. 101302. 113812. 109431. 105582. 116969.\n 112635. 122391. 121872.]\n"
     ]
    }
   ],
   "source": [
    "print(X)\n",
    "print(y)"
   ]
  },
  {
   "cell_type": "code",
   "execution_count": 38,
   "metadata": {},
   "outputs": [
    {
     "output_type": "stream",
     "name": "stdout",
     "text": [
      "39891.0\n220438.81423906476\n"
     ]
    }
   ],
   "source": [
    "print(y[4])\n",
    "y_pred = m*X[4]+b\n",
    "print(y_pred)"
   ]
  },
  {
   "cell_type": "code",
   "execution_count": 39,
   "metadata": {},
   "outputs": [
    {
     "output_type": "stream",
     "name": "stdout",
     "text": [
      "39343.0\n271470.7400408757\n"
     ]
    }
   ],
   "source": [
    "print(y[0])\n",
    "y_pred = m*X[0]+b\n",
    "print(y_pred)"
   ]
  },
  {
   "cell_type": "code",
   "execution_count": 40,
   "metadata": {},
   "outputs": [
    {
     "output_type": "stream",
     "name": "stdout",
     "text": [
      "43525.0\n229717.34620303038\n"
     ]
    }
   ],
   "source": [
    "print(y[3])\n",
    "y_pred = m*X[3]+b\n",
    "print(y_pred)"
   ]
  },
  {
   "cell_type": "code",
   "execution_count": 41,
   "metadata": {},
   "outputs": [
    {
     "output_type": "stream",
     "name": "stdout",
     "text": [
      "60150.0\n183324.68638320232\n"
     ]
    }
   ],
   "source": [
    "print(y[6])\n",
    "y_pred = m*X[6]+b\n",
    "print(y_pred)"
   ]
  },
  {
   "cell_type": "code",
   "execution_count": null,
   "metadata": {},
   "outputs": [],
   "source": []
  }
 ]
}