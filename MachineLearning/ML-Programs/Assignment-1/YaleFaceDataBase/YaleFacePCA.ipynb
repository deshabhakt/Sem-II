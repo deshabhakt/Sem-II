{
 "metadata": {
  "language_info": {
   "codemirror_mode": {
    "name": "ipython",
    "version": 3
   },
   "file_extension": ".py",
   "mimetype": "text/x-python",
   "name": "python",
   "nbconvert_exporter": "python",
   "pygments_lexer": "ipython3",
   "version": "3.9.1"
  },
  "orig_nbformat": 2,
  "kernelspec": {
   "name": "python3",
   "display_name": "Python 3.9.1 64-bit",
   "metadata": {
    "interpreter": {
     "hash": "0666fee326dc6c7ef39c32ad6be1cd19b125cde6d4697bcb018259ae008181e2"
    }
   }
  }
 },
 "nbformat": 4,
 "nbformat_minor": 2,
 "cells": [
  {
   "source": [
    "# Importing Libraries"
   ],
   "cell_type": "markdown",
   "metadata": {}
  },
  {
   "cell_type": "code",
   "execution_count": 1,
   "metadata": {},
   "outputs": [],
   "source": [
    "import cv2\n",
    "import numpy as np\n",
    "import scipy.io\n",
    "import copy"
   ]
  },
  {
   "source": [
    "# Importing Yale Faces Database from .mat file"
   ],
   "cell_type": "markdown",
   "metadata": {}
  },
  {
   "cell_type": "code",
   "execution_count": 2,
   "metadata": {},
   "outputs": [
    {
     "output_type": "stream",
     "name": "stdout",
     "text": [
      "<class 'dict'>\n"
     ]
    }
   ],
   "source": [
    "data = scipy.io.loadmat('Yale_64x64.mat')\n",
    "print(type(data))"
   ]
  },
  {
   "source": [
    "# Dictonary to python List"
   ],
   "cell_type": "markdown",
   "metadata": {}
  },
  {
   "cell_type": "code",
   "execution_count": 3,
   "metadata": {},
   "outputs": [],
   "source": [
    "data_list = list(data['fea'])"
   ]
  },
  {
   "source": [
    "# Python List to Numpy Array"
   ],
   "cell_type": "markdown",
   "metadata": {}
  },
  {
   "source": [
    "A = np.array(data_list)\n",
    "print(A.shape)"
   ],
   "cell_type": "code",
   "metadata": {},
   "execution_count": 4,
   "outputs": [
    {
     "output_type": "stream",
     "name": "stdout",
     "text": [
      "(165, 4096)\n"
     ]
    }
   ]
  },
  {
   "source": [
    "# Calculating A-M"
   ],
   "cell_type": "markdown",
   "metadata": {}
  },
  {
   "source": [
    "Amean = A.mean(axis = 0, keepdims=True)\n",
    "Am = A - Amean"
   ],
   "cell_type": "code",
   "metadata": {},
   "execution_count": 5,
   "outputs": []
  },
  {
   "cell_type": "code",
   "execution_count": 6,
   "metadata": {},
   "outputs": [
    {
     "output_type": "stream",
     "name": "stdout",
     "text": [
      "(4096, 4096)\n"
     ]
    }
   ],
   "source": [
    "AtA = np.matmul(Am.T,Am)\n",
    "print(AtA.shape)"
   ]
  },
  {
   "cell_type": "code",
   "execution_count": 7,
   "metadata": {},
   "outputs": [],
   "source": [
    "lambdas,X = np.linalg.eig(AtA)"
   ]
  },
  {
   "cell_type": "code",
   "execution_count": null,
   "metadata": {},
   "outputs": [],
   "source": [
    "W = copy.copy(X[:400,:])"
   ]
  },
  {
   "cell_type": "code",
   "execution_count": null,
   "metadata": {},
   "outputs": [],
   "source": [
    "print(W.shape)\n",
    "A_train_projection = np.matmul(W.T,A)\n",
    "A_train_reconstruction = np.matmul(W,A_train_projection)\n",
    "Fimg = A_train_reconstruction"
   ]
  },
  {
   "cell_type": "code",
   "execution_count": null,
   "metadata": {},
   "outputs": [],
   "source": [
    "image = 1\n",
    "cv2.namedWindow(\"Original Image\", cv2.WINDOW_NORMAL)\n",
    "cv2.namedWindow(\"Approximated Image\", cv2.WINDOW_NORMAL)\n",
    "cv2.resizeWindow('Approximated Image',75,150)\n",
    "cv2.resizeWindow('Original Image',150,150)\n",
    "cv2.imshow(\"Original Image\", A[:,image].reshape(64,64).astype('uint8').transpose())\n",
    "cv2.imshow('Approximated Image', Fimg[:,image].reshape(64,64).astype('uint8').transpose())\n",
    "cv2.waitKey()\n",
    "cv2.destroyAllWindows()"
   ]
  },
  {
   "cell_type": "code",
   "execution_count": null,
   "metadata": {},
   "outputs": [],
   "source": [
    "image = 164\n",
    "\n",
    "y_proj = np.matmul(u.T,A[:,image])\n",
    "y_pred = np.matmul(u,y_proj)\n",
    "cv2.namedWindow(\"Original Image\", cv2.WINDOW_NORMAL)\n",
    "cv2.namedWindow(\"Approximated Image\", cv2.WINDOW_NORMAL)\n",
    "cv2.resizeWindow('Approximated Image',200,200)\n",
    "cv2.resizeWindow('Original Image',200,200)\n",
    "cv2.imshow(\"Original Image\", A[:,image].reshape(64,64).astype('uint8').transpose())\n",
    "cv2.imshow('Approximated Image', y_pred.reshape(64,64).astype('uint8').transpose())\n",
    "cv2.waitKey()\n",
    "cv2.destroyAllWindows()"
   ]
  },
  {
   "source": [
    "# Calculating SVD"
   ],
   "cell_type": "markdown",
   "metadata": {}
  },
  {
   "cell_type": "code",
   "execution_count": null,
   "metadata": {},
   "outputs": [],
   "source": [
    "U,D,Vt = np.linalg.svd(Am)"
   ]
  },
  {
   "source": [
    "# Defining Number of Attributes and Sample Size"
   ],
   "cell_type": "markdown",
   "metadata": {}
  },
  {
   "cell_type": "code",
   "execution_count": null,
   "metadata": {},
   "outputs": [],
   "source": [
    "k = 400\n",
    "u = U[:,:k]\n",
    "print(\"U size = \", U.size)\n",
    "print(\"u size = \", u.size)\n",
    "sample_size = 100"
   ]
  },
  {
   "source": [
    "# In Sample Projection and Reconstruction"
   ],
   "cell_type": "markdown",
   "metadata": {}
  },
  {
   "cell_type": "code",
   "execution_count": null,
   "metadata": {},
   "outputs": [],
   "source": [
    "# Projection\n",
    "A_train_model = np.matmul(u.T,A[:,:sample_size])\n",
    "\n",
    "# Reconstruction\n",
    "A_train_pred = np.matmul(u,A_train_model)\n",
    "Fimg = A_train_pred"
   ]
  },
  {
   "cell_type": "code",
   "execution_count": null,
   "metadata": {},
   "outputs": [],
   "source": [
    "image = 1\n",
    "cv2.namedWindow(\"Original Image\", cv2.WINDOW_NORMAL)\n",
    "cv2.namedWindow(\"Approximated Image\", cv2.WINDOW_NORMAL)\n",
    "cv2.resizeWindow('Approximated Image',75,150)\n",
    "cv2.resizeWindow('Original Image',150,150)\n",
    "cv2.imshow(\"Original Image\", A[:,image].reshape(64,64).astype('uint8').transpose())\n",
    "cv2.imshow('Approximated Image', Fimg[:,image].reshape(64,64).astype('uint8').transpose())\n",
    "cv2.waitKey()\n",
    "cv2.destroyAllWindows()"
   ]
  },
  {
   "source": [
    "# Out Off Sample Projection and reconstruction"
   ],
   "cell_type": "markdown",
   "metadata": {}
  },
  {
   "cell_type": "code",
   "execution_count": null,
   "metadata": {},
   "outputs": [],
   "source": [
    "image = 164\n",
    "\n",
    "y_proj = np.matmul(u.T,A[:,image])\n",
    "y_pred = np.matmul(u,y_proj)\n",
    "cv2.namedWindow(\"Original Image\", cv2.WINDOW_NORMAL)\n",
    "cv2.namedWindow(\"Approximated Image\", cv2.WINDOW_NORMAL)\n",
    "cv2.resizeWindow('Approximated Image',200,200)\n",
    "cv2.resizeWindow('Original Image',200,200)\n",
    "cv2.imshow(\"Original Image\", A[:,image].reshape(64,64).astype('uint8').transpose())\n",
    "cv2.imshow('Approximated Image', y_pred.reshape(64,64).astype('uint8').transpose())\n",
    "cv2.waitKey()\n",
    "cv2.destroyAllWindows()"
   ]
  },
  {
   "cell_type": "code",
   "execution_count": null,
   "metadata": {},
   "outputs": [],
   "source": []
  }
 ]
}