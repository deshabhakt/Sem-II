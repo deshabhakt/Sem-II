{
 "metadata": {
  "language_info": {
   "codemirror_mode": {
    "name": "ipython",
    "version": 3
   },
   "file_extension": ".py",
   "mimetype": "text/x-python",
   "name": "python",
   "nbconvert_exporter": "python",
   "pygments_lexer": "ipython3",
   "version": "3.9.1"
  },
  "orig_nbformat": 2,
  "kernelspec": {
   "name": "python391jvsc74a57bd00666fee326dc6c7ef39c32ad6be1cd19b125cde6d4697bcb018259ae008181e2",
   "display_name": "Python 3.9.1 64-bit"
  },
  "metadata": {
   "interpreter": {
    "hash": "0666fee326dc6c7ef39c32ad6be1cd19b125cde6d4697bcb018259ae008181e2"
   }
  }
 },
 "nbformat": 4,
 "nbformat_minor": 2,
 "cells": [
  {
   "cell_type": "code",
   "execution_count": 1,
   "metadata": {},
   "outputs": [],
   "source": [
    "import numpy as np\n",
    "from matplotlib.image import imread\n",
    "import matplotlib.pyplot as plt\n",
    "import scipy.io\n",
    "plt.rcParams['figure.figsize'] = [12, 6]"
   ]
  },
  {
   "cell_type": "code",
   "execution_count": 2,
   "metadata": {},
   "outputs": [],
   "source": [
    "X = scipy.io.loadmat('./YaleFaceDataBase/Yale_64x64.mat')"
   ]
  },
  {
   "cell_type": "code",
   "execution_count": 3,
   "metadata": {},
   "outputs": [],
   "source": [
    "X = np.array(X['fea'])"
   ]
  },
  {
   "cell_type": "code",
   "execution_count": 4,
   "metadata": {},
   "outputs": [
    {
     "output_type": "stream",
     "name": "stdout",
     "text": [
      "(165, 4096)\n"
     ]
    }
   ],
   "source": [
    "print(X.shape)"
   ]
  },
  {
   "cell_type": "code",
   "execution_count": 5,
   "metadata": {},
   "outputs": [
    {
     "output_type": "display_data",
     "data": {
      "text/plain": "<Figure size 864x432 with 1 Axes>",
      "image/svg+xml": "<?xml version=\"1.0\" encoding=\"utf-8\" standalone=\"no\"?>\r\n<!DOCTYPE svg PUBLIC \"-//W3C//DTD SVG 1.1//EN\"\r\n  \"http://www.w3.org/Graphics/SVG/1.1/DTD/svg11.dtd\">\r\n<!-- Created with matplotlib (https://matplotlib.org/) -->\r\n<svg height=\"340.56pt\" version=\"1.1\" viewBox=\"0 0 340.56 340.56\" width=\"340.56pt\" xmlns=\"http://www.w3.org/2000/svg\" xmlns:xlink=\"http://www.w3.org/1999/xlink\">\r\n <metadata>\r\n  <rdf:RDF xmlns:cc=\"http://creativecommons.org/ns#\" xmlns:dc=\"http://purl.org/dc/elements/1.1/\" xmlns:rdf=\"http://www.w3.org/1999/02/22-rdf-syntax-ns#\">\r\n   <cc:Work>\r\n    <dc:type rdf:resource=\"http://purl.org/dc/dcmitype/StillImage\"/>\r\n    <dc:date>2021-04-02T00:48:00.511396</dc:date>\r\n    <dc:format>image/svg+xml</dc:format>\r\n    <dc:creator>\r\n     <cc:Agent>\r\n      <dc:title>Matplotlib v3.3.4, https://matplotlib.org/</dc:title>\r\n     </cc:Agent>\r\n    </dc:creator>\r\n   </cc:Work>\r\n  </rdf:RDF>\r\n </metadata>\r\n <defs>\r\n  <style type=\"text/css\">*{stroke-linecap:butt;stroke-linejoin:round;}</style>\r\n </defs>\r\n <g id=\"figure_1\">\r\n  <g id=\"patch_1\">\r\n   <path d=\"M 0 340.56 \r\nL 340.56 340.56 \r\nL 340.56 0 \r\nL 0 0 \r\nz\r\n\" style=\"fill:none;\"/>\r\n  </g>\r\n  <g id=\"axes_1\">\r\n   <g clip-path=\"url(#pdd4108ec98)\">\r\n    <image height=\"327\" id=\"imagec61cad3d4f\" transform=\"scale(1 -1)translate(0 -327)\" width=\"327\" x=\"7.2\" xlink:href=\"data:image/png;base64,\r\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\" y=\"-6.36\"/>\r\n   </g>\r\n  </g>\r\n </g>\r\n <defs>\r\n  <clipPath id=\"pdd4108ec98\">\r\n   <rect height=\"326.16\" width=\"326.16\" x=\"7.2\" y=\"7.2\"/>\r\n  </clipPath>\r\n </defs>\r\n</svg>\r\n",
      "image/png": "[encoded data removed]"
     },
     "metadata": {
      "needs_background": "light"
     }
    }
   ],
   "source": [
    "img = plt.imshow(X[1,:].reshape(64,64).T)\n",
    "plt.axis('off')\n",
    "img.set_cmap('gray')\n",
    "plt.show()"
   ]
  },
  {
   "source": [
    "Xmean = X.mean(axis=0, keepdims=True)"
   ],
   "cell_type": "markdown",
   "metadata": {}
  },
  {
   "source": [
    "# Xm = X - Xmean\n",
    "\n",
    "Xm = X"
   ],
   "cell_type": "code",
   "metadata": {},
   "execution_count": 6,
   "outputs": []
  },
  {
   "source": [
    "img = plt.imshow(Xm[1,:].reshape(64,64).T)\n",
    "plt.axis('off')\n",
    "img.set_cmap('gray')\n",
    "plt.show()"
   ],
   "cell_type": "markdown",
   "metadata": {}
  },
  {
   "source": [
    "# Using <X, X> as kernel function"
   ],
   "cell_type": "markdown",
   "metadata": {}
  },
  {
   "cell_type": "code",
   "execution_count": 7,
   "metadata": {},
   "outputs": [],
   "source": [
    "K = Xm.T.dot(Xm)"
   ]
  },
  {
   "cell_type": "code",
   "execution_count": 8,
   "metadata": {},
   "outputs": [
    {
     "output_type": "stream",
     "name": "stdout",
     "text": [
      "(4096, 4096)\n"
     ]
    }
   ],
   "source": [
    "print(K.shape)"
   ]
  },
  {
   "cell_type": "code",
   "execution_count": 9,
   "metadata": {},
   "outputs": [],
   "source": [
    "eigvals, eigvecs = np.linalg.eig(K)"
   ]
  },
  {
   "cell_type": "code",
   "execution_count": 10,
   "metadata": {},
   "outputs": [
    {
     "output_type": "stream",
     "name": "stdout",
     "text": [
      "[ 5.22331243e+05 -9.42314869e+03 -9.35822235e+03 ...  1.17763867e+01\n  1.99452856e+01  7.73733500e+01]\n"
     ]
    }
   ],
   "source": [
    "eigvalues = eigvals.flatten()\n",
    "print(eigvalues)"
   ]
  },
  {
   "cell_type": "code",
   "execution_count": 11,
   "metadata": {},
   "outputs": [],
   "source": [
    "idx = eigvalues.argsort()[::-1]   \n",
    "eigvalues = eigvalues[idx]\n",
    "eigvectors = eigvecs[:,idx]"
   ]
  },
  {
   "cell_type": "code",
   "execution_count": 12,
   "metadata": {},
   "outputs": [
    {
     "output_type": "stream",
     "name": "stdout",
     "text": [
      "[522331.24310791   9391.81995886   9362.6195466  ...  -9331.6270829\n  -9358.22234917  -9423.14868904]\n"
     ]
    }
   ],
   "source": [
    "print(eigvalues)"
   ]
  },
  {
   "cell_type": "code",
   "execution_count": 13,
   "metadata": {},
   "outputs": [
    {
     "output_type": "stream",
     "name": "stdout",
     "text": [
      "4.695148778315221\n"
     ]
    }
   ],
   "source": [
    "print(eigvalues[2046])"
   ]
  },
  {
   "source": [
    "i = 0\n",
    "count = 0\n",
    "while(i<len(eigvalues)):\n",
    "        if eigvalues[i] == complex():\n",
    "            if abs(eigvalues[i]) < 1:\n",
    "                count +=1\n",
    "                break\n",
    "        if eigvalues[i]<1:\n",
    "                count +=1\n",
    "                break\n",
    "        i += 1\n",
    "r = len(eigvalues) - count"
   ],
   "cell_type": "code",
   "metadata": {},
   "execution_count": 25,
   "outputs": []
  },
  {
   "cell_type": "code",
   "execution_count": 28,
   "metadata": {},
   "outputs": [
    {
     "output_type": "stream",
     "name": "stdout",
     "text": [
      "1\n4095\n"
     ]
    }
   ],
   "source": [
    "print(count)\n",
    "print(r)"
   ]
  },
  {
   "cell_type": "code",
   "execution_count": 29,
   "metadata": {},
   "outputs": [
    {
     "output_type": "stream",
     "name": "stdout",
     "text": [
      "[522331.24310791   9391.81995886   9362.6195466  ...  -9322.67048884\n  -9331.6270829   -9358.22234917]\n"
     ]
    }
   ],
   "source": [
    "eigvalues_r = np.array(eigvalues[:r])\n",
    "print(eigvalues_r)"
   ]
  },
  {
   "cell_type": "code",
   "execution_count": 40,
   "metadata": {},
   "outputs": [],
   "source": [
    "D = (abs(eigvalues_r))**(1/2)\n",
    "D = np.diag(D)"
   ]
  },
  {
   "cell_type": "code",
   "execution_count": 41,
   "metadata": {},
   "outputs": [
    {
     "output_type": "stream",
     "name": "stdout",
     "text": [
      "(4095, 4095)\n"
     ]
    }
   ],
   "source": [
    "print(D.shape)"
   ]
  },
  {
   "cell_type": "code",
   "execution_count": 42,
   "metadata": {},
   "outputs": [],
   "source": [
    "Vt = eigvectors[:,:r].T"
   ]
  },
  {
   "cell_type": "code",
   "execution_count": 43,
   "metadata": {},
   "outputs": [
    {
     "output_type": "stream",
     "name": "stdout",
     "text": [
      "(4095, 4096)\n"
     ]
    }
   ],
   "source": [
    "print(Vt.shape)"
   ]
  },
  {
   "cell_type": "code",
   "execution_count": 44,
   "metadata": {},
   "outputs": [],
   "source": [
    "Y = np.matmul(D,Vt)"
   ]
  },
  {
   "source": [
    "# In sample and Outoff sample Projection\n",
    "##  y = Ut*Φ(x) = (Σ^−1)*Vt*Φ(X)t*Φ(x) = (Σ^−1)*Vt*Φ(X)t*Φ(x) = (Σ^−1)*Vt*K"
   ],
   "cell_type": "markdown",
   "metadata": {}
  },
  {
   "cell_type": "code",
   "execution_count": 52,
   "metadata": {},
   "outputs": [
    {
     "output_type": "stream",
     "name": "stdout",
     "text": [
      "(165, 4096)\n"
     ]
    }
   ],
   "source": [
    "print(X.shape)"
   ]
  },
  {
   "cell_type": "code",
   "execution_count": 56,
   "metadata": {},
   "outputs": [],
   "source": [
    "x = X[1,:]"
   ]
  },
  {
   "cell_type": "code",
   "execution_count": 55,
   "metadata": {},
   "outputs": [
    {
     "output_type": "stream",
     "name": "stdout",
     "text": [
      "(165,)\n"
     ]
    }
   ],
   "source": []
  },
  {
   "cell_type": "code",
   "execution_count": 54,
   "metadata": {},
   "outputs": [
    {
     "output_type": "error",
     "ename": "ValueError",
     "evalue": "matmul: Input operand 1 has a mismatch in its core dimension 0, with gufunc signature (n?,k),(k,m?)->(n?,m?) (size 165 is different from 4096)",
     "traceback": [
      "\u001b[1;31m---------------------------------------------------------------------------\u001b[0m",
      "\u001b[1;31mValueError\u001b[0m                                Traceback (most recent call last)",
      "\u001b[1;32m<ipython-input-54-0f3f2b59073e>\u001b[0m in \u001b[0;36m<module>\u001b[1;34m\u001b[0m\n\u001b[1;32m----> 1\u001b[1;33m \u001b[0my\u001b[0m \u001b[1;33m=\u001b[0m \u001b[0mnp\u001b[0m\u001b[1;33m.\u001b[0m\u001b[0mmatmul\u001b[0m\u001b[1;33m(\u001b[0m\u001b[0mnp\u001b[0m\u001b[1;33m.\u001b[0m\u001b[0mmatmul\u001b[0m\u001b[1;33m(\u001b[0m\u001b[0mnp\u001b[0m\u001b[1;33m.\u001b[0m\u001b[0mlinalg\u001b[0m\u001b[1;33m.\u001b[0m\u001b[0minv\u001b[0m\u001b[1;33m(\u001b[0m\u001b[0mD\u001b[0m\u001b[1;33m)\u001b[0m\u001b[1;33m,\u001b[0m\u001b[0mVt\u001b[0m\u001b[1;33m)\u001b[0m\u001b[1;33m,\u001b[0m\u001b[0mK\u001b[0m\u001b[1;33m)\u001b[0m\u001b[1;33m\u001b[0m\u001b[1;33m\u001b[0m\u001b[0m\n\u001b[0m",
      "\u001b[1;31mValueError\u001b[0m: matmul: Input operand 1 has a mismatch in its core dimension 0, with gufunc signature (n?,k),(k,m?)->(n?,m?) (size 165 is different from 4096)"
     ]
    }
   ],
   "source": [
    "y = np.matmul(np.matmul(np.linalg.inv(D),Vt),K)"
   ]
  },
  {
   "cell_type": "code",
   "execution_count": 49,
   "metadata": {},
   "outputs": [
    {
     "output_type": "stream",
     "name": "stdout",
     "text": [
      "(4095, 4096)\n"
     ]
    }
   ],
   "source": [
    "print(y.shape)"
   ]
  },
  {
   "cell_type": "code",
   "execution_count": 47,
   "metadata": {},
   "outputs": [
    {
     "output_type": "display_data",
     "data": {
      "text/plain": "<Figure size 864x432 with 1 Axes>",
      "image/svg+xml": "<?xml version=\"1.0\" encoding=\"utf-8\" standalone=\"no\"?>\r\n<!DOCTYPE svg PUBLIC \"-//W3C//DTD SVG 1.1//EN\"\r\n  \"http://www.w3.org/Graphics/SVG/1.1/DTD/svg11.dtd\">\r\n<!-- Created with matplotlib (https://matplotlib.org/) -->\r\n<svg height=\"340.56pt\" version=\"1.1\" viewBox=\"0 0 340.56 340.56\" width=\"340.56pt\" xmlns=\"http://www.w3.org/2000/svg\" xmlns:xlink=\"http://www.w3.org/1999/xlink\">\r\n <metadata>\r\n  <rdf:RDF xmlns:cc=\"http://creativecommons.org/ns#\" xmlns:dc=\"http://purl.org/dc/elements/1.1/\" xmlns:rdf=\"http://www.w3.org/1999/02/22-rdf-syntax-ns#\">\r\n   <cc:Work>\r\n    <dc:type rdf:resource=\"http://purl.org/dc/dcmitype/StillImage\"/>\r\n    <dc:date>2021-04-02T01:10:35.281898</dc:date>\r\n    <dc:format>image/svg+xml</dc:format>\r\n    <dc:creator>\r\n     <cc:Agent>\r\n      <dc:title>Matplotlib v3.3.4, https://matplotlib.org/</dc:title>\r\n     </cc:Agent>\r\n    </dc:creator>\r\n   </cc:Work>\r\n  </rdf:RDF>\r\n </metadata>\r\n <defs>\r\n  <style type=\"text/css\">*{stroke-linecap:butt;stroke-linejoin:round;}</style>\r\n </defs>\r\n <g id=\"figure_1\">\r\n  <g id=\"patch_1\">\r\n   <path d=\"M 0 340.56 \r\nL 340.56 340.56 \r\nL 340.56 0 \r\nL 0 0 \r\nz\r\n\" style=\"fill:none;\"/>\r\n  </g>\r\n  <g id=\"axes_1\">\r\n   <g clip-path=\"url(#pa8b5cae3b1)\">\r\n    <image height=\"327\" id=\"image3e96335642\" transform=\"scale(1 -1)translate(0 -327)\" width=\"327\" x=\"7.2\" xlink:href=\"data:image/png;base64,\r\niVBORw0KGgoAAAANSUhEUgAAAUcAAAFHCAYAAAAySY5rAAAVvUlEQVR4nO3d3XLbSK8FUCqx/f7PG8+XOffW7ip0dlOZk6x1qRJ/RFIoVUMAHtd1/Xsd9Hg84uv//vt8mNV7J6b7+/nz5+h9aX+r96bX/vnnn6fX3t7eRsf53//+9/Ta9+/f4/l8lT7f6tjT46T3pc/87du30flM37fz7CSrazE5zvSZmF6vnfdOvwfT52767KxMv1vN+TTf1ZX0nKXrnd6Xzvv5XQAIjgCJ4AgQCI4AwdvpRMlqcTotgk4X2tP70v4aq8X86bGni85Ju4CepGOn46SF6GS6iD1duE9Wz8M0MZLOcbrwPz3u9Lqutk+JsmSa2ErHnj6zq+9qOsfpPZx+L6fnuBOfmoROfJ5GWwL8ZQRHgEBwBAgER4Dg8e3bt6cVz9MVEivTRf7pts0xVvubVpVMk0tNcmLn2k4TFtPPt3PsybY7CbWdiqZf3V/SVsicfiYa6R6skkNNpVHzmafVLKtjNAm5+IzGowD85QRHgEBwBAgER4DgcYWWZdOF6PS+nYXy6YLu6fftVIo07a2StAiejj0979Xi+fS8T1eLTK/NTuXD6WNPE1PN/lbvTZrkRGN175sWY82xmxZ4LRUyAEOCI0AgOAIEgiNAEBMyjZ1ZLFPTKo7povFOYqNp6XZ6Rk67fZNgaM9nYud6Nfcl3evT7cVW+2yenSYBupOEPF0BNv1eTj/fKiEzvWbTmOCXI0AgOAIEgiNAIDgCBIIjQBDTcdNypmmPx+ua98FL26es4bTUqMlgrrY/nSltyqbaLHIzEGuahWzKOlf7TF7RU3Nnf9PnpOmL2mRod8oe02sfHx+j40wz021fy7T9jx8/nl5Lnzu+Vp0NwB9KcAQIBEeAQHAECMblg+0i9umedTsL+l+1Q8Cmi8nNovrp/nm/0zTh0PYCTU73gtwxLdlrEm1Nyd3qGNPy2uZ7ME1M7dyDppTSgC2AIcERIBAcAQLBESB4a6ozpovLK6cXxqf/zk9W591UZzQLzE2lyR12+up91SSmWukcm+s4rRTb0dzD6bGn/U9XptfxFfd6p59jwy9HgEBwBAgER4BAcAQI3j4/P59enC6+3tFiKGnaG+0kiBrNQKukTb5Mk0HTRMs0QdQkklaL+U3V1LQ9VTp2Sr4kq/NL27+/v4/e15z3HdVVzXM7fRbT+9K1mQ4+W20/raTzyxEgEBwBAsERIBAcAYLHt2/fnlZGp+2JduZSxIMXs0qSZmF7teDcVC80LZ3aRNJ0of4VSbFXtQNr26C9QlNp1Mx2mu7vurrky/T5nj7z08+82r7hlyNAIDgCBIIjQCA4AgSPnz9/Pq2+NkmMncXSZq7M6UX+dnF6Wg2RNNULq22bdnCnkzTNvJ/r6trGNQmwNnnWzK+ZtgNsvgftfJb0fKeKu+lnnlaz7MypahKTfjkCBIIjQCA4AgSCI0DwdnqRfuX0Qv3pdlk7/66fLsqfnrvT3pf2c//qtk3LqtV7m+cxPWNNm77VuTSJn2l7spQUmVYKteedTO91OvYdc26a6iO/HAECwREgEBwBAsERIHhL8ximszPuSAakhMUrkjmrbacVO8k0QdRsuzrv04vq0/vSVObsVPs0mrZayU5Sq6maOd2Sa6fSZLp9M0PmdEu2lfF5V0cB+EMJjgCB4AgQCI4AweO6rlHfojuGzCenF2BPz1K5rvMDznfmZEzPJSXaptU50wqLJjGVzq9todVsuzNX6He5YxZP0iTzmoRTs+115e9MlZgcvQvgLyM4AgSCI0AgOAIEgiNA8Hg8Hk8pomnZ1E7/tZQpnWqyXdNs7M6xTw+lmmYc0/VeZbWn5zPN0jbDtNIx2n8lTM8xHTtdx/R8Tvsn7gyVa57Raea17X95x/36VW2Gvilx9MsRIBAcAQLBESAQHAGCcflgU2a2er1JBjS97XYWeZtSwXR9Pj4+nl77/Pwc7a+9DqdLzZrEzU6vy1fd68n72jLDJiEz7ec5LT3d0SQmm+/0Tt/PaWmufo4ABcERIBAcAQLBESCIFTJJMyzqus4nZJqqmR1NBUJTaZSSNMnqHqR9Nr0td6qKvjp9va5rnqQ5XUm1c97Ns9O8b6pNnk7PJyWIUqVR84ztnM+00sgvR4BAcAQIBEeAQHAECGKFzOmkyOr16QLsdBjTdAG9bemUFpibKo6UPEnnmJI0aduVaUXT9HxOJxJe0QJrpWltt0psTD/PKxIt0zZdO8d+RdJo2j5tZZp8ie8bHwXgLyI4AgSCI0AgOAIEsUImzdNoKhKua77w3xz7VTNkpsduqnimC8m/M4kxTdxN78vqPk8TSU0CZDoj5VVzbtL5TBOTbbKreZanz+00qbKTcEzXJyUxx8/j+MgAfxHBESAQHAECwREgeEuLk2lhs20nlLQVCF81yYnVwu/0HKcVCKcHs9/Rdqpxx1ygZnZOk1xo7unqvdNneScR8dX0nu58p5skT1tdN5WSudPzSfxyBAgER4BAcAQIBEeAILYsu0MzQ+Z0G6Sd9mkpOZX+3X+6Qua/Ng8nVRrcMQdkqmlPlzTJk502fUnTAu+OFnHNtWi017u5FjE+jc4G4C8jOAIEgiNAIDgCBG9NK6KdRd5mQPor2nLd0dJp2oosJTaSZg7PznvTgvy0YqNJiuwstE+3b5IT01k6K9MB91NNFc/0811Xd47TZz4du32+mzlO8Tr+8t4A/mCCI0AgOAIEgiNAMK6QadoTXde8VVeSqlSms2am/4b/nU635Lqu+SJ4M9+juac7iZsmydNUZt3hFUnIO+YmNbNvmve1idIpCRmAIcERIBAcAQLBESAQHAGCcbY6ZbvaQVyvKAtrh/uczmKe7jm3kjLTp7Oip7PIbZloUxb448ePp9em2dM7yh5PZ17vKM2b/qvhFeW/19Vd75g9r88I4A8kOAIEgiNAIDgCBFX54E7SYLooOy17a4YS3WF6jk0ZZpvEaEtAv2rKB5PVts3QrraX5Fc7iYlpUmx6Pk1SZZpQva4uGdgkktqyzmmJ4zQx6ZcjQCA4AgSCI0AgOAIEb2kR83RyYaVJqqwWkyf7axb4V9JnaRIo7fU+XXWRnL4Hq/NrnsfpNWsGpK38l/qG7iQ7mqFkTT/PdE93hpxNn7PpOfrlCBAIjgCB4AgQCI4AwVsz8Kdd5P34+JicY3RHBUkjLRyfTorsVGc0yYkmSTfd3869mia7kia5MHVHy7Lpd7BpJbhz3s3At+n+psmXnYRMk5DzyxEgEBwBAsERIBAcAYJY4jBdfH1VG6Tp/l7VdmqaiEjSOb6/vz+99vn5Odp2p2JjWi0wrV6YmlaatAmC05VPzbyf1Xubezi9V9Pqo9X1br5H02esuaer+DTd57S6yi9HgEBwBAgER4BAcAQI4gyZ6SLvzqL4nzQ8vqlKSJp2Wa+aIfOK+7e6Xk11xukKmZ2qsNOzeE4neF6VSJq643tZzTRqTgbgTyU4AgSCI0AgOAIEj3/DqmwzCHu1qNr8c/60tpXY6QRK0yIqVfBc17yi5XRyaSrtb/VZflclVdNybKX5bv3zzz9Pr03v1R3ftVdc26YN2XXla5akZ88vR4BAcAQIBEeAQHAECOIMmWT6vp2F+9MzVppZHDtzKZI2YTXRLqCnY59OvjQzRFrN4PnpZ14ljabn07Tlmh77jrk5zbM8Pe/0vjYROL3/iV+OAIHgCBAIjgCB4AgQPB6Px9NK7R2L6k07oaZSoWm/tjp22zpsYrqovtMuKyVfphUEp+/VzvM0TWI0VRfTa7uTmHhFtdfUzlygJgmZkiqnr8PO/qYzoMyQARgSHAECwREgEBwBAsERIIjlg3cMKtrJtH7V9BycZpvbzPvpUsip9no3mclmCNROn77TfRWb9+08x9PPeLpfZfpuJKv3NVn/lAk+XSra/rNk+ppfjgCB4AgQCI4AgeAIEDyu63pJjdMrEhZNP8edfTZ9+qbuSOY05ZWnewTuPA9tL8Jf3d/0/rUJh3Q+p3sb7gzYanqTNsnctq/lNFk2TjiN3gXwlxEcAQLBESAQHAGCmJCZ9mlrFrGvqxs2ND1O019wdezTyaXpZ95JTDTn2PQxfEWyauV0P8+mMuu65n0DTyc2ppUrq+dhmgyaVj6lnqF3DFhLmmSXX44AgeAIEAiOAIHgCBA8/g0rltNF4zYh07SEatpv7VQLpNebtkzpM0+HAE33d119Iuqr0wO2WtOF/+nAp9NVODv7nH5npgmQZKdSbPq5T7daO10V1PLLESAQHAECwREgEBwBgrfT81BWiYRUWTBdsJ5WL0znaaSF+53F92Z2SrNI37adapJGU3ck7pKm+mS6bdO667q6dllNUiQ983e0VWu+l8mrqqamCVW/HAECwREgEBwBAsERIHg8Ho+n1dLpguVO+6aUBEmmFQ1Jk4RYzaWYtltqEgSnZ7tc17wCYVqJ01RDNAmn1bGnbfWm0nVo9ndd8wRaM6umaVnWHidpEo47ya5kmgyatl/0yxEgEBwBAsERIBAcAYI4QyaZLoC3LaumC6hJ0/pptW0zE2O6WH66Jdt1dQPS0+J9M0OkuS93OD2L5Y7zbhIW7bPTtOk7/Uy0c5Oa6+iXI0AgOAIEgiNAIDgCBG/N4u1O8uTz83P03unidtMGq12cniaImhZhzWyQ1T6TZlbNeGG7WJBfaZIlzfySO5Iv6dhNlco0UbJzD5pn/nR13OoeNG3ZJGQAhgRHgEBwBAgER4DgeIXMyulh76crMdrzuyPp8NWrzns6Y2eafGnaXf1/sHPepxM6p1uErTT39fRzu1PNlkzb0/nlCBAIjgCB4AgQCI4AweP79++jGTJtQqZJlqTjTNuGtQvg0/O+ozpncoz39/f43qZaZKcqYWKarFpV6zQVRElTabJTUfa7ElHpfKYVando2obtJHOmbfrGbd7iUQD+coIjQCA4AgSCI0AgOAIEsXxwmq1ss2zT7NTpssCdzzLN0jbXoskEr447zbROS6majGOz7as0GfqdcrbmHwPNPX17e3t6bXXe02M337fpv1/Stinzvto+GQ8QG+0N4C8jOAIEgiNAIDgCBI+fP38+rU5OB93815weFvY7tQmw02WBpxMoO+cy/SxJW/b6q8e4rnkCpUn8NKWVO2V4STNALolJkaJMdGVcjnz8yAB/AMERIBAcAQLBESB4PB6PUYXM1M7i9O8aSpXsVMhMr8+0+uSOPovT906PPV0sP92vcrXPpifj6Wdsxyt6ZabkQqqQ2emfOX1f+nzTRNL02tzRPzMeZ7Q3gL+M4AgQCI4AgeAIELw17aTSwuaq+qCpVDg9OCfZScik19IieBp+lT5LWixvFsV3tp8OKkuvNUO8dipupvd/53mcOJ08ua7zFR/ThEVbAdbss4kn0wTPdZ1/Rv1yBAgER4BAcAQIBEeA4K1ZYN6Z9/KKKoCm+mR1ftMF/emC9elE0kozWyRd29OfZWehfdpCbzr7Zrpwf4cmOZHckTSa3utppVF6xprzXl2b0y35/HIECARHgEBwBAgER4DgcV3X0yrmHS20mjkZabH84+NjtG1apN+ZVdHML7ljsXx6LtPjTBNJ088y3batrkpOJ/3uaG02TYpNt20qhT4/P+Nx0nvTcdL20wqgaQu1O9r0TZ9HvxwBAsERIBAcAQLBESCICZmkbf01bYM1XSxtFnSTncX8Zp/Typ7WHUm1k8edbntd52eQTBN3TRXWyvR8mvksp9uirfZ5OlH2Oz9fTEIdPwrAH0BwBAgER4BAcAQIHo/H42kVtG2XNTWdpzLdtrFaNJ4meZqkyh2zb+6YI/JVujbTuTk7pq3RUgJlur9XPfONaYXMNHnSJiHTd7WpmplatZdrnj0VMgBDgiNAIDgCBIIjQBArZO74V/p0kfj0HIikXZyeOl2RMp2RsnOc5nxecU937Mw0+mrn2p52+vrcURV22h3f8yapJiEDMCQ4AgSCI0AgOAIEgiNA8DYtC0ru6IF4OuM0tcrGNxnLO3obNqalZlPTzPS0B+LqWr+iN2V6X3P/drY//cxPP/OqDC8Nr1u9d3I+04Fd0/21A7am/HIECARHgEBwBAgER4DgbVo21fYwbBZ0p2IJUFHi1pou8k+3bZMBzfuSVyRAVq+n+zrt5/iqz9z0Xzxt+t3YMU1WNt+3dnhZei3dFwO2AIYER4BAcAQIBEeA4LcO2EqaRf7peafF152hPWnhv02gTLQVSWkBvhkgNl2Qv6PaZzqcbZoMeNXQrdPPyR3VQ02S9hXfg5XpsafPiV+OAIHgCBAIjgCB4AgQxAFbSdsO6BULtdNqmOm/5lf7TKb/zn/V0KapJjnxiuTCzj6bqovp59v5zK9I/Eyfp3Tcnes9rfY5XX2UkierSqimOktCBmBIcAQIBEeAQHAECGKFTLP4ukpspH/dNwvtpxd+V+3XTs/8mB7jjqqSJqnyX5uHMxUX2sOznO7/tBKqnT80TSQ22/7OhOrp1nar406TN9N9+uUIEAiOAIHgCBAIjgDB8QqZVWJjOkOmMU0Q3TE7o6mkSde2OcYdmqRBa5oUa6pPplUTO898k8xrKq7aaq1XVHs1yZOV6bWdfrf8cgQIBEeAQHAECARHgGCckGk1812aWSXTBevfaToPZWeB/3TVTVM1dUfrrulxpgPcp8doExvJ6VZrr7reSXPstvKsqYaKz3d1NgB/KMERIBAcAQLBESB4XvW/8sLmtOXYalF1Wr3SLPw3yZed8z5dvXJH5cs0mTC93h8fH0+vna72WJlW56RndJp8SabXZufZSabJs+b53mm1Nq3YOt3urk2Uts/ZV345AgSCI0AgOAIEgiNAEGfI3DEbohmanhbGmwqSOxZ+p8eenk/6zDuL6tPPOF1ob6ocmvkjq+2nSbHT836S1TGmibb0vnT/X9XGrrmHzfk036uVJmnolyNAIDgCBIIjQCA4AgSCI0DwNs3wtdnB073tpj0e78hWT4/THHva13Ln3wFJU3LV/KshDVNK/0BYbT/NbKbrOM1+N2V0K2n79/f30T6nfQjbXqDT79a0rDeZDty7458lSbq2fjkCBIIjQCA4AgSCI0AQB2ylxfLpwvbyQMMF9NMlUnckZJphYcl0kX/aX3DldIJouqg+tVOGl67Z9NlpBmfdkcybHjvdg/RdnT4TbTKvSZSlJFT6LMkqcZe2bwaQ+eUIEAiOAIHgCBAIjgBBXNlcLXh+tbPA3yz8N6aL+TuJjekC+umhRDua/plp2x8/fjy91tyrnc/3iiqnOwZDNc/Z6c83TfBd1/wcp5U0zWfZuYbTRMv0HvrlCBAIjgCB4AgQCI4AQcy8TBdB04J827KsMf03/E4ioanOaBb028FQzfCy9Jk/Pj6eXkvX8fPzc7S/pt3VynQw2OnKntV53/EZJ8doK3um702J26b6qB3YNa3imsYtvxwBAsERIBAcAQLBESD4PwCgBzcDXY/PAAAAAElFTkSuQmCC\" y=\"-6.36\"/>\r\n   </g>\r\n  </g>\r\n </g>\r\n <defs>\r\n  <clipPath id=\"pa8b5cae3b1\">\r\n   <rect height=\"326.16\" width=\"326.16\" x=\"7.2\" y=\"7.2\"/>\r\n  </clipPath>\r\n </defs>\r\n</svg>\r\n",
      "image/png": "[encoded data removed]"
     },
     "metadata": {
      "needs_background": "light"
     }
    }
   ],
   "source": [
    "img = plt.imshow(y[1,:].reshape(64,64).T.astype('uint8'))\n",
    "img.set_cmap('gray')\n",
    "plt.axis('off')\n",
    "plt.show()"
   ]
  },
  {
   "source": [
    " # Reconstruction is not possible because Φ(X) is not known\r\n",
    " ## X̂ = UY = UΣVt = Φ(X)V(Σ^-)ΣVt = Φ(X)VVt"
   ],
   "cell_type": "markdown",
   "metadata": {}
  }
 ]
}