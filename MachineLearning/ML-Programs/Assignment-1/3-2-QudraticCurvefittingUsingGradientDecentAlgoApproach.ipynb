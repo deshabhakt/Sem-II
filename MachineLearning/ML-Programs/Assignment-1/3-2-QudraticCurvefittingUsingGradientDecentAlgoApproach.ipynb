{
 "metadata": {
  "language_info": {
   "codemirror_mode": {
    "name": "ipython",
    "version": 3
   },
   "file_extension": ".py",
   "mimetype": "text/x-python",
   "name": "python",
   "nbconvert_exporter": "python",
   "pygments_lexer": "ipython3",
   "version": "3.9.1"
  },
  "orig_nbformat": 2,
  "kernelspec": {
   "name": "python391jvsc74a57bd00666fee326dc6c7ef39c32ad6be1cd19b125cde6d4697bcb018259ae008181e2",
   "display_name": "Python 3.9.1 64-bit"
  },
  "metadata": {
   "interpreter": {
    "hash": "0666fee326dc6c7ef39c32ad6be1cd19b125cde6d4697bcb018259ae008181e2"
   }
  }
 },
 "nbformat": 4,
 "nbformat_minor": 2,
 "cells": [
  {
   "cell_type": "code",
   "execution_count": 3,
   "metadata": {},
   "outputs": [],
   "source": [
    "import numpy as np\n",
    "import matplotlib.pyplot as plt\n",
    "import pandas as pd"
   ]
  },
  {
   "source": [
    "data = pd.read_csv('test_scores.csv')\n",
    "X = data.iloc[:,1].values\n",
    "y = data.iloc[:,2].values"
   ],
   "cell_type": "markdown",
   "metadata": {}
  },
  {
   "cell_type": "code",
   "execution_count": 4,
   "metadata": {},
   "outputs": [],
   "source": [
    "X = np.array([1,2,3,4])\n",
    "y = np.array([-4,-1,10,35])"
   ]
  },
  {
   "source": [
    "# y = c1*x^2 + c2*x + c3\n",
    " "
   ],
   "cell_type": "markdown",
   "metadata": {}
  },
  {
   "cell_type": "code",
   "execution_count": 5,
   "metadata": {},
   "outputs": [],
   "source": [
    "def QuadraticFitting(x,y):\n",
    "\n",
    "    n = len(x)\n",
    "    c1 = c2 = c3 = 0\n",
    "    accuracy = 1\n",
    "    i = 1\n",
    "    learning_rate = 10**(-5)\n",
    "\n",
    "    while(accuracy>10**(-9)):\n",
    "\n",
    "        y_predicted = c1*(x**2) + c2*x + c3\n",
    "\n",
    "        cost = (1/n)*sum([val**2 for val in (y-y_predicted)])\n",
    "        dc1 = (-2/n)*sum((x**2)*(y-y_predicted))\n",
    "        dc2 = (-2/n)*sum((x)*(y-y_predicted))\n",
    "        dc3 = (-2/n)*sum(y-y_predicted)\n",
    "\n",
    "        c1_new = c1 - learning_rate*dc1\n",
    "        c2_new = c2 - learning_rate*dc2\n",
    "        c3_new = c3 - learning_rate*dc3\n",
    "        \n",
    "        accuracy = max(abs(c1_new-c1),abs(c2_new-c2),abs(c3_new-c3)) \n",
    "        \n",
    "        print(f'iteration = {i} c1 = {c1:.15f}  c2 = {c2:.15f}  c3 = {c3:.15f}  accuracy = {accuracy:.15f}  cost = {cost}')\n",
    "        \n",
    "        i += 1\n",
    "        c1 = c1_new\n",
    "        c2 = c2_new\n",
    "        c3 = c3_new\n",
    "\n",
    "    return c1, c2, c3"
   ]
  },
  {
   "cell_type": "code",
   "execution_count": null,
   "metadata": {
    "tags": []
   },
   "outputs": [],
   "source": [
    "c1, c2, c3 = QuadraticFitting(X,y)"
   ]
  },
  {
   "cell_type": "code",
   "execution_count": null,
   "metadata": {},
   "outputs": [],
   "source": [
    "print(c1,c2,c3)"
   ]
  },
  {
   "cell_type": "code",
   "execution_count": null,
   "metadata": {},
   "outputs": [],
   "source": [
    "y_pred = c1*(X**2) + c2*X + c3"
   ]
  },
  {
   "cell_type": "code",
   "execution_count": null,
   "metadata": {},
   "outputs": [],
   "source": [
    "plt.scatter(X,y, marker = '.')\n",
    "plt.plot(X,y_pred,color = 'red',linewidth = 0.5)\n",
    "plt.title('Linear Least Square Fitting')\n",
    "plt.xlabel('Years of Experience')\n",
    "plt.ylabel('Salary')\n",
    "plt.show"
   ]
  },
  {
   "cell_type": "code",
   "execution_count": null,
   "metadata": {},
   "outputs": [],
   "source": [
    "max_error = abs(y[0]-y_pred[0])/y[0]\n",
    "for i in range(1,len(X)):\n",
    "    e = abs(y[i]-y_pred[i])/y[i]\n",
    "    if(max_error<e):\n",
    "        max_error=e\n",
    "print(max_error)"
   ]
  }
 ]
}