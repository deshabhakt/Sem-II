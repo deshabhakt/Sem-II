{
 "metadata": {
  "language_info": {
   "codemirror_mode": {
    "name": "ipython",
    "version": 3
   },
   "file_extension": ".py",
   "mimetype": "text/x-python",
   "name": "python",
   "nbconvert_exporter": "python",
   "pygments_lexer": "ipython3",
   "version": "3.9.1"
  },
  "orig_nbformat": 2,
  "kernelspec": {
   "name": "python391jvsc74a57bd00666fee326dc6c7ef39c32ad6be1cd19b125cde6d4697bcb018259ae008181e2",
   "display_name": "Python 3.9.1 64-bit"
  },
  "metadata": {
   "interpreter": {
    "hash": "0666fee326dc6c7ef39c32ad6be1cd19b125cde6d4697bcb018259ae008181e2"
   }
  }
 },
 "nbformat": 4,
 "nbformat_minor": 2,
 "cells": [
  {
   "cell_type": "code",
   "execution_count": 18,
   "metadata": {},
   "outputs": [],
   "source": [
    "import numpy as np\n",
    "import pandas as pd\n",
    "import matplotlib.pyplot as plt\n",
    "from prettytable import PrettyTable as ptbl"
   ]
  },
  {
   "cell_type": "code",
   "execution_count": 2,
   "metadata": {},
   "outputs": [],
   "source": [
    "data = pd.read_csv('Salary_Data.csv')\n",
    "X = data.iloc[:,0].values\n",
    "y = data.iloc[:,-1].values\n"
   ]
  },
  {
   "cell_type": "code",
   "execution_count": 3,
   "metadata": {},
   "outputs": [],
   "source": [
    "def linearfitting(x,y):\n",
    "    n = len(x)\n",
    "    x_sq_sum = sum(x**2)\n",
    "    x_sum = sum(x)\n",
    "    yx_sum = sum(x*y)\n",
    "    y_sum = sum(y)\n",
    "\n",
    "    A = np.array([\n",
    "        [x_sq_sum,x_sum],\n",
    "        [x_sum,n]\n",
    "        ])\n",
    "\n",
    "    b = np.array([\n",
    "        [yx_sum],\n",
    "        [y_sum]\n",
    "        ])\n",
    "\n",
    "    invA = np.linalg.inv(A)\n",
    "    M = np.matmul(invA,b)\n",
    "    \n",
    "    return M"
   ]
  },
  {
   "cell_type": "code",
   "execution_count": 4,
   "metadata": {},
   "outputs": [],
   "source": [
    "M = linearfitting(X,y)\n",
    "m = M[0][0]\n",
    "b = M[1][0]"
   ]
  },
  {
   "cell_type": "code",
   "execution_count": 16,
   "metadata": {},
   "outputs": [],
   "source": [
    "y_pred = m*X + b"
   ]
  },
  {
   "cell_type": "code",
   "execution_count": 21,
   "metadata": {},
   "outputs": [
    {
     "output_type": "stream",
     "name": "stdout",
     "text": [
      "+------+----------+--------------------+\n|  X   |    y     |    y-predicted     |\n+------+----------+--------------------+\n| 1.1  | 39343.0  | 36187.15875226924  |\n| 1.3  | 46205.0  | 38077.15121656026  |\n| 1.5  | 37731.0  | 39967.14368085128  |\n| 2.0  | 43525.0  | 44692.12484157883  |\n| 2.2  | 39891.0  | 46582.11730586985  |\n| 2.9  | 56642.0  | 53197.090930888415 |\n| 3.0  | 60150.0  | 54142.087163033924 |\n| 3.2  | 54445.0  | 56032.07962732494  |\n| 3.2  | 64445.0  | 56032.07962732494  |\n| 3.7  | 57189.0  | 60757.06078805249  |\n| 3.9  | 63218.0  | 62647.05325234351  |\n| 4.0  | 55794.0  | 63592.04948448902  |\n| 4.0  | 56957.0  | 63592.04948448902  |\n| 4.1  | 57081.0  | 64537.04571663453  |\n| 4.5  | 61111.0  | 68317.03064521657  |\n| 4.9  | 67938.0  |  72097.0155737986  |\n| 5.1  | 66029.0  | 73987.00803808963  |\n| 5.3  | 83088.0  | 75877.00050238064  |\n| 5.9  | 81363.0  |  81546.9778952537  |\n| 6.0  | 93940.0  | 82491.97412739921  |\n| 6.8  | 91738.0  | 90051.94398456329  |\n| 7.1  | 98273.0  | 92886.93268099982  |\n| 7.9  | 101302.0 | 100446.9025381639  |\n| 8.2  | 113812.0 | 103281.89123460042 |\n| 8.7  | 109431.0 | 108006.87239532797 |\n| 9.0  | 105582.0 | 110841.8610917645  |\n| 9.5  | 116969.0 | 115566.84225249205 |\n| 9.6  | 112635.0 | 116511.83848463756 |\n| 10.3 | 122391.0 | 123126.81210965612 |\n| 10.5 | 121872.0 | 125016.80457394714 |\n+------+----------+--------------------+\n"
     ]
    }
   ],
   "source": [
    "table = ptbl(['X','y','y-predicted'])\n",
    "for i in range(len(X)):\n",
    "    table.add_row([X[i],y[i],y_pred[i]])\n",
    "print(table)"
   ]
  },
  {
   "cell_type": "code",
   "execution_count": null,
   "metadata": {},
   "outputs": [],
   "source": [
    "plt.scatter(X,y, marker = '.')\n",
    "plt.plot(X,y_pred,color = 'red',linewidth = 0.5)\n",
    "plt.title('Linear Least Square Fitting')\n",
    "plt.xlabel('X')\n",
    "plt.ylabel('Y')\n",
    "plt.show()"
   ]
  },
  {
   "cell_type": "code",
   "execution_count": 22,
   "metadata": {},
   "outputs": [
    {
     "output_type": "stream",
     "name": "stdout",
     "text": [
      "0.17590842513666785\n"
     ]
    }
   ],
   "source": [
    "max_error = max(abs(y-y_pred)/y)\n",
    "print(max_error)"
   ]
  }
 ]
}