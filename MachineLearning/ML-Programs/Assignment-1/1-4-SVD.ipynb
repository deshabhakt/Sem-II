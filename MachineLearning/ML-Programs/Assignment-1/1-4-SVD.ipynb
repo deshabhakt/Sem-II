{
 "metadata": {
  "language_info": {
   "codemirror_mode": {
    "name": "ipython",
    "version": 3
   },
   "file_extension": ".py",
   "mimetype": "text/x-python",
   "name": "python",
   "nbconvert_exporter": "python",
   "pygments_lexer": "ipython3",
   "version": "3.9.3"
  },
  "orig_nbformat": 2,
  "kernelspec": {
   "name": "python3",
   "display_name": "Python 3",
   "language": "python"
  }
 },
 "nbformat": 4,
 "nbformat_minor": 2,
 "cells": [
  {
   "source": [
    "# SVD Implementation\n",
    "## Importing libraries"
   ],
   "cell_type": "markdown",
   "metadata": {}
  },
  {
   "cell_type": "code",
   "execution_count": 115,
   "metadata": {},
   "outputs": [],
   "source": [
    "import numpy as np\n",
    "import copy"
   ]
  },
  {
   "source": [
    "## SVD function Definition"
   ],
   "cell_type": "markdown",
   "metadata": {}
  },
  {
   "cell_type": "code",
   "execution_count": 116,
   "metadata": {},
   "outputs": [],
   "source": [
    "def printMatrix(V):\n",
    "    m = len(V)\n",
    "    n = len(V[0])\n",
    "    \n",
    "    for i in range(m):\n",
    "        for j in range(n):\n",
    "            print(f'{V[i][j]:10.05f}' ,  end=\"  \")\n",
    "        print()\n",
    "    print()\n",
    "\n",
    "\n",
    "def SVD(A):\n",
    "    m = len(A)\n",
    "    n = len(A[0])\n",
    "\n",
    "    At = A.transpose()\n",
    "    \n",
    "    AtA = np.matmul(At,A)\n",
    "    \n",
    "    AAt = np.matmul(A,At)\n",
    "    \n",
    "    # Finding Eigen Values and Vectors of AAt and AtA\n",
    "    eigValuesAAt, eigVectorsAAt = np.linalg.eig(AAt)\n",
    "    eigValuesAtA, eigVectorsAtA = np.linalg.eig(AtA)\n",
    "\n",
    "\n",
    "    # Sorting eigen values in descending order and also changing position of corresponding eigen vectors\n",
    "    idx = eigValuesAAt.argsort()[::-1]   \n",
    "    eigValuesAAt = eigValuesAAt[idx]\n",
    "    eigVectorsAAt = eigVectorsAAt[:,idx]\n",
    "    eigVectorsAtA = eigVectorsAtA[:,idx]\n",
    "\n",
    "    # Forming U, D and VT\n",
    "    U = eigVectorsAAt\n",
    "    D = eigValuesAAt**0.5\n",
    "    D = np.diag(D)\n",
    "\n",
    "    Vt = eigVectorsAtA.transpose()\n",
    "    \n",
    "    return U,D,Vt\n",
    "    "
   ]
  },
  {
   "cell_type": "code",
   "execution_count": 117,
   "metadata": {},
   "outputs": [],
   "source": [
    "A = np.array(((\n",
    "    (1,2,3),\n",
    "    (4,0,6),\n",
    "    (7,8,9)\n",
    ")))\n",
    "\n",
    "\n",
    "U,D,Vt = SVD(A)"
   ]
  },
  {
   "cell_type": "code",
   "execution_count": 118,
   "metadata": {},
   "outputs": [
    {
     "output_type": "stream",
     "name": "stdout",
     "text": [
      "U = \n   0.23066     0.05358     0.97156  \n   0.40368    -0.91377    -0.04544  \n   0.88535     0.40268    -0.23240  \n\nD = \n  15.63377     0.00000     0.00000  \n   0.00000     3.81768     0.00000  \n   0.00000     0.00000     1.00528  \n\nVT = \n   0.51445     0.48255     0.70886  \n   0.20504    -0.87188     0.44472  \n   0.83265    -0.08344    -0.54748  \n\n   2.71036     1.48030     2.11250  \n   2.49336     6.09074     2.94720  \n   7.24135     5.35832    10.62315  \n\n   1.00000     2.00000     3.00000  \n   4.00000     0.00000     6.00000  \n   7.00000     8.00000     9.00000  \n\n"
     ]
    }
   ],
   "source": [
    "print(\"U = \")\n",
    "printMatrix(U)\n",
    "print(\"D = \")\n",
    "printMatrix(D)\n",
    "print(\"VT = \")\n",
    "printMatrix(Vt)\n",
    "printMatrix(U@D@Vt)\n",
    "printMatrix(A)"
   ]
  },
  {
   "cell_type": "code",
   "execution_count": 119,
   "metadata": {},
   "outputs": [
    {
     "output_type": "stream",
     "name": "stdout",
     "text": [
      "U = \n  -0.23066    -0.05358     0.97156  \n  -0.40368     0.91377    -0.04544  \n  -0.88535    -0.40268    -0.23240  \n\nD = \n[15.63376871  3.81768041  1.00528221]\n\nVT = \n  -0.51445    -0.48255    -0.70886  \n   0.20504    -0.87188     0.44472  \n  -0.83265     0.08344     0.54748  \n\n   1.00000     2.00000     3.00000  \n   4.00000     0.00000     6.00000  \n   7.00000     8.00000     9.00000  \n\n"
     ]
    }
   ],
   "source": [
    "u,d,vt = np.linalg.svd(A)\n",
    "print(\"U = \")\n",
    "printMatrix(u)\n",
    "print(\"D = \")\n",
    "print(d)\n",
    "print(\"\\nVT = \")\n",
    "printMatrix(vt)\n",
    "A_t = u @ d @ vt\n",
    "printMatrix(A)"
   ]
  },
  {
   "cell_type": "code",
   "execution_count": null,
   "metadata": {},
   "outputs": [],
   "source": []
  }
 ]
}