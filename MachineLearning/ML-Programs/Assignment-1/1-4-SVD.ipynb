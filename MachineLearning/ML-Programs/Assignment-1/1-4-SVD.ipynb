{
 "metadata": {
  "language_info": {
   "codemirror_mode": {
    "name": "ipython",
    "version": 3
   },
   "file_extension": ".py",
   "mimetype": "text/x-python",
   "name": "python",
   "nbconvert_exporter": "python",
   "pygments_lexer": "ipython3",
   "version": "3.8.5"
  },
  "orig_nbformat": 2,
  "kernelspec": {
   "name": "python3",
   "display_name": "Python 3",
   "language": "python"
  }
 },
 "nbformat": 4,
 "nbformat_minor": 2,
 "cells": [
  {
   "source": [
    "# SVD Implementation\n",
    "## Importing libraries"
   ],
   "cell_type": "markdown",
   "metadata": {}
  },
  {
   "cell_type": "code",
   "execution_count": 5,
   "metadata": {},
   "outputs": [],
   "source": [
    "import sympy as sp\n",
    "import numpy as np\n",
    "import copy"
   ]
  },
  {
   "source": [
    "## SVD function Definition"
   ],
   "cell_type": "markdown",
   "metadata": {}
  },
  {
   "cell_type": "code",
   "execution_count": 6,
   "metadata": {},
   "outputs": [],
   "source": [
    "def printMatrix(V):\n",
    "    m = len(V)\n",
    "    n = len(V[0])\n",
    "    \n",
    "    for i in range(m):\n",
    "        for j in range(n):\n",
    "            print(f'{V[i][j]:10.05f}' ,  end=\"  \")\n",
    "        print()\n",
    "    print()\n",
    "\n",
    "\n",
    "def SVD(A):\n",
    "    m = len(A)\n",
    "    n = len(A[0])\n",
    "\n",
    "    At = A.transpose()\n",
    "    \n",
    "    AtA = np.matmul(At,A)\n",
    "    \n",
    "    AAt = np.matmul(A,At)\n",
    "    \n",
    "    # Finding Eigen Values and Vectors of AAt and AtA\n",
    "    eigValuesAAt, eigVectorsAAt = np.linalg.eig(AAt)\n",
    "    eigValuesAtA, eigVectorsAtA = np.linalg.eig(AtA)\n",
    "\n",
    "\n",
    "    # Sorting eigen values in descending order and also changing position of corresponding eigen vectors\n",
    "    idx = eigValuesAAt.argsort()[::-1]   \n",
    "    eigValuesAAt = eigValuesAAt[idx]\n",
    "    eigVectorsAAt = eigVectorsAAt[:,idx]\n",
    "    eigVectorsAtA = eigVectorsAtA[:,idx]\n",
    "\n",
    "    # Forming U, D and VT\n",
    "    U = eigVectorsAAt\n",
    "    D = eigValuesAAt**0.5\n",
    "    D = np.diag(D)\n",
    "\n",
    "    Vt = eigVectorsAtA.transpose()\n",
    "    \n",
    "    return U,D,Vt\n",
    "    "
   ]
  },
  {
   "cell_type": "code",
   "execution_count": 7,
   "metadata": {},
   "outputs": [],
   "source": [
    "A = np.array(((\n",
    "    (1,2,3),\n",
    "    (4,0,6),\n",
    "    (7,8,9)\n",
    ")))\n",
    "\n",
    "\n",
    "U,D,Vt = SVD(A)"
   ]
  },
  {
   "cell_type": "code",
   "execution_count": 18,
   "metadata": {},
   "outputs": [],
   "source": [
    "u = sp.Matrix(U)\n",
    "d = sp.Matrix(D)\n",
    "vt = sp.Matrix(Vt)"
   ]
  },
  {
   "cell_type": "code",
   "execution_count": 30,
   "metadata": {},
   "outputs": [
    {
     "output_type": "stream",
     "name": "stdout",
     "text": [
      "U = \n\n⎡0.230663402433186  0.0535824192716701   0.971557162046033 ⎤\n⎢                                                          ⎥\n⎢0.403675471106438  -0.913772947236089  -0.0454435355850167⎥\n⎢                                                          ⎥\n⎣0.88534767679423    0.4026759556324     -0.23240388540339 ⎦\n\nD = \n\n⎡15.63376870689        0.0              0.0       ⎤\n⎢                                                 ⎥\n⎢     0.0        3.8176804070008        0.0       ⎥\n⎢                                                 ⎥\n⎣     0.0              0.0        1.00528221384305⎦\n\nVt = \n\n⎡0.514450429401197   0.482552119112229   0.708861205053022 ⎤\n⎢                                                          ⎥\n⎢0.205040128243956  -0.871883481262249   0.444722094022462 ⎥\n⎢                                                          ⎥\n⎣0.832645964079949  -0.0834424798428196  -0.547483379710338⎦\n"
     ]
    }
   ],
   "source": [
    "print(\"U = \\n\")\n",
    "sp.pprint(u)\n",
    "print()\n",
    "print(\"D = \\n\")\n",
    "sp.pprint(d)\n",
    "print()\n",
    "print(\"Vt = \\n\")\n",
    "sp.pprint(vt)"
   ]
  },
  {
   "cell_type": "code",
   "execution_count": null,
   "metadata": {},
   "outputs": [],
   "source": []
  }
 ]
}