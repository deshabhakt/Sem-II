{
 "metadata": {
  "language_info": {
   "codemirror_mode": {
    "name": "ipython",
    "version": 3
   },
   "file_extension": ".py",
   "mimetype": "text/x-python",
   "name": "python",
   "nbconvert_exporter": "python",
   "pygments_lexer": "ipython3",
   "version": "3.9.1"
  },
  "orig_nbformat": 2,
  "kernelspec": {
   "name": "python3",
   "display_name": "Python 3.9.1 64-bit",
   "metadata": {
    "interpreter": {
     "hash": "0666fee326dc6c7ef39c32ad6be1cd19b125cde6d4697bcb018259ae008181e2"
    }
   }
  }
 },
 "nbformat": 4,
 "nbformat_minor": 2,
 "cells": [
  {
   "source": [
    "# SVD Implementation\n",
    "## Importing libraries"
   ],
   "cell_type": "markdown",
   "metadata": {}
  },
  {
   "cell_type": "code",
   "execution_count": 6,
   "metadata": {},
   "outputs": [],
   "source": [
    "import numpy as np\n",
    "import copy"
   ]
  },
  {
   "source": [
    "## SVD function Definition"
   ],
   "cell_type": "markdown",
   "metadata": {}
  },
  {
   "cell_type": "code",
   "execution_count": 7,
   "metadata": {},
   "outputs": [],
   "source": [
    "def printMatrix(V):\n",
    "    m = len(V)\n",
    "    n = len(V[0])\n",
    "    \n",
    "    for i in range(m):\n",
    "        for j in range(n):\n",
    "            print(f'{V[i][j]:10.05f}' ,  end=\"  \")\n",
    "        print()\n",
    "    print()\n",
    "\n",
    "\n",
    "def SVD(A):\n",
    "    m = len(A)\n",
    "    n = len(A[0])\n",
    "\n",
    "    At = A.transpose()\n",
    "    \n",
    "    AtA = np.matmul(At,A)\n",
    "    \n",
    "    AAt = np.matmul(A,At)\n",
    "    \n",
    "    # Finding Eigen Values and Vectors of AAt and AtA\n",
    "    eigValuesAAt, eigVectorsAAt = np.linalg.eig(AAt)\n",
    "\n",
    "    eigValuesAtA, eigVectorsAtA = np.linalg.eig(AtA)\n",
    "\n",
    "    # Forming U, D and VT\n",
    "    U = eigVectorsAAt\n",
    "    \n",
    "    # Sorting eigen values in descending order\n",
    "    for i in range(len(eigValuesAAt)-2,0,-1):\n",
    "        for j in range(len(eigValuesAAt)-1,i,-1):\n",
    "            if(eigValuesAAt[i]<eigValuesAAt[j]):\n",
    "                temp = copy.copy(eigValuesAAt[i])\n",
    "                eigValuesAAt[i] = copy.copy(eigValuesAAt[j])\n",
    "                eigValuesAAt[j] = copy.copy(temp)\n",
    "\n",
    "\n",
    "    D = np.zeros((m,n))\n",
    "    for i in range(m):\n",
    "        for j in range(n):\n",
    "            if i==j:\n",
    "                D[i][j] = (eigValuesAAt[i])**(1/2)\n",
    "            else:\n",
    "                D[i][j] = 0\n",
    "\n",
    "    Vt = eigVectorsAtA.transpose()\n",
    "    \n",
    "    return U,D,Vt\n",
    "    "
   ]
  },
  {
   "cell_type": "code",
   "execution_count": 8,
   "metadata": {},
   "outputs": [],
   "source": [
    "A = np.array(((\n",
    "    (1,2,3),\n",
    "    (4,5,6),\n",
    "    (7,8,9)\n",
    ")))\n",
    "\n",
    "# A = np.array(((\n",
    "#     (1, -1, 4),\n",
    "#     (1, 4, -2),\n",
    "#     (1, 4, 2),\n",
    "#     (1, -1, 0)\n",
    "# )))\n",
    "\n",
    "U,D,Vt = SVD(A)"
   ]
  },
  {
   "cell_type": "code",
   "execution_count": 9,
   "metadata": {},
   "outputs": [
    {
     "output_type": "stream",
     "name": "stdout",
     "text": [
      "U = \n  -0.21484    -0.88723     0.40825  \n  -0.52059    -0.24964    -0.81650  \n  -0.82634     0.38794     0.40825  \n\nD = \n  16.84810     0.00000     0.00000  \n   0.00000     1.06837     0.00000  \n   0.00000     0.00000     0.00000  \n\nVT = \n  -0.47967    -0.57237    -0.66506  \n  -0.77669    -0.07569     0.62532  \n   0.40825    -0.81650     0.40825  \n\n"
     ]
    }
   ],
   "source": [
    "print(\"U = \")\n",
    "printMatrix(U)\n",
    "print(\"D = \")\n",
    "printMatrix(D)\n",
    "print(\"VT = \")\n",
    "printMatrix(Vt)"
   ]
  },
  {
   "cell_type": "code",
   "execution_count": 10,
   "metadata": {},
   "outputs": [
    {
     "output_type": "stream",
     "name": "stdout",
     "text": [
      "U = \n  -0.21484     0.88723     0.40825  \n  -0.52059     0.24964    -0.81650  \n  -0.82634    -0.38794     0.40825  \n\nD = \n[1.68481034e+01 1.06836951e+00 4.41842475e-16]\n\nVT = \n  -0.47967    -0.57237    -0.66506  \n  -0.77669    -0.07569     0.62532  \n  -0.40825     0.81650    -0.40825  \n\n"
     ]
    }
   ],
   "source": [
    "u,d,vt = np.linalg.svd(A)\n",
    "print(\"U = \")\n",
    "printMatrix(u)\n",
    "print(\"D = \")\n",
    "print(d)\n",
    "print(\"\\nVT = \")\n",
    "printMatrix(vt)"
   ]
  }
 ]
}