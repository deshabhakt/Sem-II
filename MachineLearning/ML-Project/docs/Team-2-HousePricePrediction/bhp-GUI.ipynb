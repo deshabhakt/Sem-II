{
 "cells": [
  {
   "source": [
    "<h1 style='color:green'>Importing Libraries</h1>"
   ],
   "cell_type": "markdown",
   "metadata": {}
  },
  {
   "cell_type": "code",
   "execution_count": 1,
   "metadata": {},
   "outputs": [],
   "source": [
    "import gradio as gr\n",
    "import json\n",
    "import _pickle as pickle\n",
    "import numpy as np\n",
    "import pandas as pd"
   ]
  },
  {
   "source": [
    "<h1 style='color:green'>Importing Trained Model</h1>"
   ],
   "cell_type": "markdown",
   "metadata": {}
  },
  {
   "cell_type": "code",
   "execution_count": 2,
   "metadata": {},
   "outputs": [],
   "source": [
    "model = None\n",
    "with open('banglore_home_prices_model.pickle','rb') as file:\n",
    "    model = pickle.load(file)\n",
    "file.close()"
   ]
  },
  {
   "cell_type": "code",
   "execution_count": 3,
   "metadata": {},
   "outputs": [
    {
     "output_type": "execute_result",
     "data": {
      "text/plain": [
       "sklearn.linear_model._base.LinearRegression"
      ]
     },
     "metadata": {},
     "execution_count": 3
    }
   ],
   "source": [
    "type(model)"
   ]
  },
  {
   "source": [
    "<h1 style='color:green'>Importing Column heads stored in columsn.json</h1>"
   ],
   "cell_type": "markdown",
   "metadata": {}
  },
  {
   "cell_type": "code",
   "execution_count": 4,
   "metadata": {},
   "outputs": [],
   "source": [
    "column_heads = None\n",
    "locations = None\n",
    "with open(\"columns.json\",\"r\") as f:\n",
    "    column_heads = json.load(f)['data_columns']\n",
    "    locations = column_heads[3:]\n",
    "f.close()"
   ]
  },
  {
   "cell_type": "code",
   "execution_count": 5,
   "metadata": {},
   "outputs": [
    {
     "output_type": "execute_result",
     "data": {
      "text/plain": [
       "['total_sqft', 'bath', 'bhk']"
      ]
     },
     "metadata": {},
     "execution_count": 5
    }
   ],
   "source": [
    "column_heads[:3]"
   ]
  },
  {
   "cell_type": "code",
   "execution_count": 6,
   "metadata": {
    "scrolled": true
   },
   "outputs": [
    {
     "output_type": "stream",
     "name": "stdout",
     "text": [
      "240\n"
     ]
    }
   ],
   "source": [
    "print(len(locations))"
   ]
  },
  {
   "source": [
    "<h1 style='color:green'>Predict Price function to be used for GUI</h1>"
   ],
   "cell_type": "markdown",
   "metadata": {}
  },
  {
   "cell_type": "code",
   "execution_count": 7,
   "metadata": {},
   "outputs": [],
   "source": [
    "def predict_price(Area,BHK,Bathrooms,Location):    \n",
    "    if(BHK==0 or BHK>5 or Bathrooms==0 or Bathrooms>5):\n",
    "        return 'Invalid input'\n",
    "    \n",
    "    \n",
    "    loc_index = column_heads.index(Location.lower())\n",
    "\n",
    "    x = np.zeros(len(column_heads))\n",
    "    x[0] = Area\n",
    "    x[1] = Bathrooms\n",
    "    x[2] = BHK\n",
    "    if loc_index >= 0:\n",
    "        x[loc_index] = 1\n",
    "\n",
    "    return model.predict([x])[0]"
   ]
  },
  {
   "cell_type": "code",
   "execution_count": 8,
   "metadata": {
    "scrolled": true
   },
   "outputs": [
    {
     "output_type": "execute_result",
     "data": {
      "text/plain": [
       "200.1689422125161"
      ]
     },
     "metadata": {},
     "execution_count": 8
    }
   ],
   "source": [
    "predict_price(1000, 1, 1,'1st block jayanagar')"
   ]
  },
  {
   "source": [
    "<h1 style='color:green'>Defining Inputs and output type for GUI</h1>"
   ],
   "cell_type": "markdown",
   "metadata": {}
  },
  {
   "cell_type": "code",
   "execution_count": 9,
   "metadata": {},
   "outputs": [],
   "source": [
    "inp = [gr.inputs.Number(label='Total Area (in square ft)'),\n",
    "       gr.inputs.Number(label='BHK (1-5)'),\n",
    "       gr.inputs.Number(label='Bathrooms (1-5)'),\n",
    "       gr.inputs.Dropdown(locations,label='Select Location')\n",
    "    ]\n",
    "\n",
    "oup = gr.outputs.Textbox()"
   ]
  },
  {
   "source": [
    "<h1 style='color:green'>Calling GUI using interface function of gradio library</h1>"
   ],
   "cell_type": "markdown",
   "metadata": {}
  },
  {
   "cell_type": "code",
   "execution_count": 10,
   "metadata": {},
   "outputs": [
    {
     "output_type": "stream",
     "name": "stdout",
     "text": [
      "Running locally at: http://127.0.0.1:7861/\nTo create a public link, set `share=True` in `launch()`.\nInterface loading below...\n"
     ]
    },
    {
     "output_type": "display_data",
     "data": {
      "text/plain": "<IPython.lib.display.IFrame at 0x7fd2802c2190>",
      "text/html": "\n        <iframe\n            width=\"1000\"\n            height=\"500\"\n            src=\"http://127.0.0.1:7861/\"\n            frameborder=\"0\"\n            allowfullscreen\n        ></iframe>\n        "
     },
     "metadata": {}
    },
    {
     "output_type": "execute_result",
     "data": {
      "text/plain": [
       "(<Flask 'gradio.networking'>, 'http://127.0.0.1:7861/', None)"
      ]
     },
     "metadata": {},
     "execution_count": 10
    }
   ],
   "source": [
    "gr.Interface(fn=predict_price, inputs=inp, outputs=oup, capture_session=True).launch()"
   ]
  }
 ],
 "metadata": {
  "kernelspec": {
   "display_name": "Python 3",
   "language": "python",
   "name": "python3"
  },
  "language_info": {
   "codemirror_mode": {
    "name": "ipython",
    "version": 3
   },
   "file_extension": ".py",
   "mimetype": "text/x-python",
   "name": "python",
   "nbconvert_exporter": "python",
   "pygments_lexer": "ipython3",
   "version": "3.8.5"
  }
 },
 "nbformat": 4,
 "nbformat_minor": 2
}