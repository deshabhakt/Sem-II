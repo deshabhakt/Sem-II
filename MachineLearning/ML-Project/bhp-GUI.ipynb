{
 "metadata": {
  "language_info": {
   "codemirror_mode": {
    "name": "ipython",
    "version": 3
   },
   "file_extension": ".py",
   "mimetype": "text/x-python",
   "name": "python",
   "nbconvert_exporter": "python",
   "pygments_lexer": "ipython3",
   "version": "3.8.5"
  },
  "orig_nbformat": 2,
  "kernelspec": {
   "name": "python385jvsc74a57bd031f2aee4e71d21fbe5cf8b01ff0e069b9275f58929596ceb00d14d90e3e16cd6",
   "display_name": "Python 3.8.5 64-bit ('usr')"
  }
 },
 "nbformat": 4,
 "nbformat_minor": 2,
 "cells": [
  {
   "cell_type": "code",
   "execution_count": 1,
   "metadata": {},
   "outputs": [],
   "source": [
    "import gradio as gr\n",
    "import json\n",
    "import _pickle as pickle\n",
    "import numpy as np\n",
    "import pandas as pd"
   ]
  },
  {
   "cell_type": "code",
   "execution_count": 4,
   "metadata": {},
   "outputs": [],
   "source": [
    "model = None\n",
    "with open('banglore_home_prices_model.pickle','rb') as file:\n",
    "    model = pickle.load(file)\n",
    "file.close()"
   ]
  },
  {
   "cell_type": "code",
   "execution_count": 5,
   "metadata": {},
   "outputs": [
    {
     "output_type": "execute_result",
     "data": {
      "text/plain": [
       "sklearn.linear_model._base.LinearRegression"
      ]
     },
     "metadata": {},
     "execution_count": 5
    }
   ],
   "source": [
    "type(model)"
   ]
  },
  {
   "cell_type": "code",
   "execution_count": 6,
   "metadata": {},
   "outputs": [],
   "source": [
    "column_heads = None\n",
    "locations = None\n",
    "with open(\"columns.json\",\"r\") as f:\n",
    "    column_heads = json.load(f)['data_columns']\n",
    "    locations = column_heads[3:]\n",
    "f.close()"
   ]
  },
  {
   "cell_type": "code",
   "execution_count": 7,
   "metadata": {},
   "outputs": [
    {
     "output_type": "execute_result",
     "data": {
      "text/plain": [
       "['total_sqft', 'bath', 'bhk']"
      ]
     },
     "metadata": {},
     "execution_count": 7
    }
   ],
   "source": [
    "column_heads[:3]"
   ]
  },
  {
   "cell_type": "code",
   "execution_count": 8,
   "metadata": {},
   "outputs": [
    {
     "output_type": "stream",
     "name": "stdout",
     "text": [
      "240\n"
     ]
    }
   ],
   "source": [
    "print(len(locations))"
   ]
  },
  {
   "cell_type": "code",
   "execution_count": 9,
   "metadata": {},
   "outputs": [
    {
     "output_type": "execute_result",
     "data": {
      "text/plain": [
       "'yeshwanthpur'"
      ]
     },
     "metadata": {},
     "execution_count": 9
    }
   ],
   "source": [
    "locations[-1]"
   ]
  },
  {
   "cell_type": "code",
   "execution_count": 10,
   "metadata": {},
   "outputs": [],
   "source": [
    "def predict_price():\n",
    "    area = int(gr.inputs.Number())\n",
    "    bhk = int(gr.inputs.Slider(1,5))\n",
    "    bathrooms = int(gr.inputs.Slider(1,5))\n",
    "    location = str(gr.inputs.Dropdown(locations))"
   ]
  },
  {
   "cell_type": "code",
   "execution_count": 11,
   "metadata": {},
   "outputs": [],
   "source": [
    "def predict_price(Area,BHK,Bathrooms,Location):    \n",
    "    if(BHK==0 or BHK>5 or Bathrooms==0 or Bathrooms>5):\n",
    "        return 'Invalid input'\n",
    "    \n",
    "    \n",
    "    loc_index = column_heads.index(Location.lower())\n",
    "\n",
    "    x = np.zeros(len(column_heads))\n",
    "    x[0] = Area\n",
    "    x[1] = Bathrooms\n",
    "    x[2] = BHK\n",
    "    if loc_index >= 0:\n",
    "        x[loc_index] = 1\n",
    "\n",
    "    return model.predict([x])[0]"
   ]
  },
  {
   "cell_type": "code",
   "execution_count": 12,
   "metadata": {},
   "outputs": [
    {
     "output_type": "execute_result",
     "data": {
      "text/plain": [
       "200.1689422125161"
      ]
     },
     "metadata": {},
     "execution_count": 12
    }
   ],
   "source": [
    "predict_price(1000, 1, 1,'1st block jayanagar')"
   ]
  },
  {
   "cell_type": "code",
   "execution_count": 13,
   "metadata": {},
   "outputs": [],
   "source": [
    "inp = [gr.inputs.Number(label='Total Area (in square ft)'),\n",
    "       gr.inputs.Number(label='BHK (1-5)'),\n",
    "       gr.inputs.Number(label='Bathrooms (1-5)'),\n",
    "       gr.inputs.Dropdown(locations,label='Select Location')\n",
    "    ]\n",
    "\n",
    "oup = gr.outputs.Textbox()\n",
    "gr.Interface(fn=predict_price, inputs=inp, outputs=oup, capture_session=True).launch()"
   ]
  },
  {
   "cell_type": "code",
   "execution_count": 14,
   "metadata": {},
   "outputs": [
    {
     "output_type": "stream",
     "name": "stdout",
     "text": [
      "Running locally at: http://127.0.0.1:7860/\nTo create a public link, set `share=True` in `launch()`.\nInterface loading below...\n"
     ]
    },
    {
     "output_type": "display_data",
     "data": {
      "text/plain": "<IPython.lib.display.IFrame at 0x7f29549c8370>",
      "text/html": "\n        <iframe\n            width=\"1000\"\n            height=\"500\"\n            src=\"http://127.0.0.1:7860/\"\n            frameborder=\"0\"\n            allowfullscreen\n        ></iframe>\n        "
     },
     "metadata": {}
    },
    {
     "output_type": "execute_result",
     "data": {
      "text/plain": [
       "(<Flask 'gradio.networking'>, 'http://127.0.0.1:7860/', None)"
      ]
     },
     "metadata": {},
     "execution_count": 14
    }
   ],
   "source": []
  },
  {
   "cell_type": "code",
   "execution_count": null,
   "metadata": {},
   "outputs": [],
   "source": []
  }
 ]
}