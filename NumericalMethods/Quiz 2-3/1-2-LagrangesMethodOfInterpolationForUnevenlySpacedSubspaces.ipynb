{
 "metadata": {
  "language_info": {
   "codemirror_mode": {
    "name": "ipython",
    "version": 3
   },
   "file_extension": ".py",
   "mimetype": "text/x-python",
   "name": "python",
   "nbconvert_exporter": "python",
   "pygments_lexer": "ipython3",
   "version": "3.8.5"
  },
  "orig_nbformat": 2,
  "kernelspec": {
   "name": "python3",
   "display_name": "Python 3",
   "language": "python"
  }
 },
 "nbformat": 4,
 "nbformat_minor": 2,
 "cells": [
  {
   "cell_type": "code",
   "execution_count": 1,
   "metadata": {},
   "outputs": [],
   "source": [
    "import numpy as np\n",
    "import copy\n",
    "import sympy as sp\n",
    "import math\n",
    "x = sp.Symbol('x', real=True)"
   ]
  },
  {
   "cell_type": "code",
   "execution_count": 2,
   "metadata": {},
   "outputs": [],
   "source": [
    "def LagrangeInterpolation(x,y,a):\n",
    "    n = len(x)\n",
    "    c_lst = []\n",
    "    term_details =[]\n",
    "    result = 0\n",
    "    for i in range(n):\n",
    "        numerator = 1\n",
    "        denominator = 1\n",
    "        c_lst_tmp = []\n",
    "        for j in range(n):\n",
    "            if(i!=j):\n",
    "                c_lst_tmp.append(x[j])\n",
    "                numerator = numerator*(a-x[j])\n",
    "                denominator = denominator*(x[i]-x[j])\n",
    "        \n",
    "        c_lst.append(c_lst_tmp)\n",
    "\n",
    "        result += (numerator/denominator)*(y[i])\n",
    "        term_details.append([(i+1),numerator,denominator,y[i]])\n",
    "    \n",
    "    return result, term_details,c_lst"
   ]
  },
  {
   "cell_type": "code",
   "execution_count": 3,
   "metadata": {},
   "outputs": [],
   "source": [
    "def finding_polynomial(x,y,term_details,c_lst):\n",
    "    x = sp.Symbol('x',real=True)\n",
    "    \n",
    "    denominators = []\n",
    "    for term in term_details:\n",
    "        denominators.append(term[2])\n",
    "\n",
    "    l_terms = []\n",
    "    final_equation = 0\n",
    "    m = len(c_lst)\n",
    "    \n",
    "    for i in range(m):\n",
    "        l_term = 1\n",
    "        for element in c_lst[i]:\n",
    "            l_term *=(x-element)\n",
    "        \n",
    "        l_term = sp.expand(l_term/denominators[i])\n",
    "        l_terms.append(sp.expand(l_term))\n",
    "        final_equation += l_term*(y[i])\n",
    "    \n",
    "    l_terms_lambdified = []\n",
    "    for l_term in l_terms:\n",
    "        l_terms_lambdified.append(sp.lambdify(x,l_term))\n",
    "\n",
    "    return l_terms,l_terms_lambdified, final_equation"
   ]
  },
  {
   "cell_type": "code",
   "execution_count": 4,
   "metadata": {},
   "outputs": [],
   "source": [
    "def print_lmultipliers(lmultipliers,x):\n",
    "    for multiplier in lmultipliers:\n",
    "        print()\n",
    "        print(f'Term = {multiplier[0]}')\n",
    "        print(f'Numerator = {multiplier[1]}')\n",
    "        print(f'Denominator = {multiplier[2]}')\n",
    "        print(f'f({x[multiplier[0]-1]}) = {multiplier[3]}')\n",
    "        print()\n"
   ]
  },
  {
   "cell_type": "code",
   "execution_count": 5,
   "metadata": {},
   "outputs": [],
   "source": [
    "y = sp.Symbol('y', real=True)\n",
    "# X = np.array([2,2.5,4])\n",
    "# Y = np.array([0.5,0.4,0.25])\n",
    "\n",
    "# X = np.array([0,0.5,1,2])\n",
    "# Y = np.array([0,y,3,2])\n",
    "X = np.array([0,4,7])\n",
    "Y = np.array([2,5,3])\n",
    "    \n",
    "p = 0\n",
    "\n",
    "result, terms,lst_for_coefficient_calculations_of_numerator_equations_in_each_term = LagrangeInterpolation(X,Y,p)"
   ]
  },
  {
   "source": [
    "# f(p) or result"
   ],
   "cell_type": "markdown",
   "metadata": {}
  },
  {
   "cell_type": "code",
   "execution_count": 6,
   "metadata": {},
   "outputs": [
    {
     "output_type": "stream",
     "name": "stdout",
     "text": [
      "f(0) = 2.0\n"
     ]
    }
   ],
   "source": [
    "print(f'f({p}) = {result}')"
   ]
  },
  {
   "source": [
    "# Finding Polynomial"
   ],
   "cell_type": "markdown",
   "metadata": {}
  },
  {
   "cell_type": "code",
   "execution_count": 7,
   "metadata": {},
   "outputs": [],
   "source": [
    "l_equations, l_equations_lambdified, polynomial = finding_polynomial(X,Y,terms,lst_for_coefficient_calculations_of_numerator_equations_in_each_term)"
   ]
  },
  {
   "cell_type": "code",
   "execution_count": 8,
   "metadata": {},
   "outputs": [
    {
     "output_type": "execute_result",
     "data": {
      "text/plain": [
       "[x**2/28 - 11*x/28 + 1, -x**2/12 + 7*x/12, x**2/21 - 4*x/21]"
      ]
     },
     "metadata": {},
     "execution_count": 8
    }
   ],
   "source": [
    "l_equations"
   ]
  },
  {
   "cell_type": "code",
   "execution_count": 9,
   "metadata": {},
   "outputs": [
    {
     "output_type": "execute_result",
     "data": {
      "text/plain": [
       "-17*x**2/84 + 131*x/84 + 2"
      ],
      "text/latex": "$\\displaystyle - \\frac{17 x^{2}}{84} + \\frac{131 x}{84} + 2$"
     },
     "metadata": {},
     "execution_count": 9
    }
   ],
   "source": [
    "polynomial"
   ]
  },
  {
   "cell_type": "code",
   "execution_count": 10,
   "metadata": {},
   "outputs": [
    {
     "output_type": "execute_result",
     "data": {
      "text/plain": [
       "2.0"
      ]
     },
     "metadata": {},
     "execution_count": 10
    }
   ],
   "source": [
    "# predicting value usin polynomial\n",
    "\n",
    "x = sp.Symbol('x', real = True)\n",
    "f = sp.lambdify(x,polynomial)\n",
    "f(p)"
   ]
  },
  {
   "source": [
    "# Finding numerator equations for each term"
   ],
   "cell_type": "markdown",
   "metadata": {}
  },
  {
   "source": [
    "numerator_equation_lst"
   ],
   "cell_type": "markdown",
   "metadata": {}
  },
  {
   "source": [
    "for i in range(len(l_equations_lambdified)):\n",
    "    f = l_equations_lambdified[i]\n",
    "    print(f'Term = {i+1}    L{i} = {f(p)}\\n')"
   ],
   "cell_type": "code",
   "metadata": {},
   "execution_count": 11,
   "outputs": [
    {
     "output_type": "stream",
     "name": "stdout",
     "text": [
      "Term = 1    L0 = 1.0\n\nTerm = 2    L1 = 0.0\n\nTerm = 3    L2 = 0.0\n\n"
     ]
    }
   ]
  },
  {
   "source": [
    "## The above terms should match with numerator term in the below cells output"
   ],
   "cell_type": "markdown",
   "metadata": {}
  },
  {
   "source": [
    "# printing details of each term used in calculation"
   ],
   "cell_type": "markdown",
   "metadata": {}
  },
  {
   "cell_type": "code",
   "execution_count": 12,
   "metadata": {},
   "outputs": [
    {
     "output_type": "stream",
     "name": "stdout",
     "text": [
      "\nTerm = 1\nNumerator = 28\nDenominator = 28\nf(0) = 2\n\n\nTerm = 2\nNumerator = 0\nDenominator = -12\nf(4) = 5\n\n\nTerm = 3\nNumerator = 0\nDenominator = 21\nf(7) = 3\n\n"
     ]
    }
   ],
   "source": [
    "print_lmultipliers(terms,X)"
   ]
  }
 ]
}