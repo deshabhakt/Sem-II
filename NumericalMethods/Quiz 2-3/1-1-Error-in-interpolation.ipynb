{
 "metadata": {
  "language_info": {
   "codemirror_mode": {
    "name": "ipython",
    "version": 3
   },
   "file_extension": ".py",
   "mimetype": "text/x-python",
   "name": "python",
   "nbconvert_exporter": "python",
   "pygments_lexer": "ipython3",
   "version": "3.8.5"
  },
  "orig_nbformat": 2,
  "kernelspec": {
   "name": "python385jvsc74a57bd0df0893f56f349688326838aaeea0de204df53a132722cbd565e54b24a8fec5f6",
   "display_name": "Python 3.8.5 64-bit ('usr')"
  }
 },
 "nbformat": 4,
 "nbformat_minor": 2,
 "cells": [
  {
   "cell_type": "code",
   "execution_count": 25,
   "metadata": {},
   "outputs": [],
   "source": [
    "import sympy as sp\n",
    "import math\n",
    "import numpy as np"
   ]
  },
  {
   "cell_type": "code",
   "execution_count": 26,
   "metadata": {},
   "outputs": [
    {
     "output_type": "stream",
     "name": "stdout",
     "text": [
      " 10        9                     8                    7                     6 \nx   - 5.0⋅x  + 10.7407407407407⋅x  - 12.962962962963⋅x  + 9.64380429812528⋅x  \n\n                    5                     4                      3            \n- 4.56104252400549⋅x  + 1.36173159391165⋅x  - 0.245182437937607⋅x  + 0.0238479\n\n           2                         \n488367999⋅x  - 0.000936656708416885⋅x\n\n[0.         0.11111111 0.22222222 0.33333333 0.44444444 0.55555556\n 0.66666667 0.77777778 0.88888889 1.        ]\n\n[0.5  0.4  0.25] \n 0\n"
     ]
    }
   ],
   "source": [
    "x = sp.Symbol('x', real=True)\n",
    "\n",
    "# Input Function\n",
    "F = sp.sin(x)\n",
    "\n",
    "f = sp.lambdify(x,F)\n",
    "\n",
    "# X = np.array([2,2.75,4])\n",
    "Y = np.array([0.5,0.4,0.25])\n",
    "\n",
    "X = np.linspace(0,1,10)\n",
    "# range\n",
    "a = 0\n",
    "b = 1\n",
    "\n",
    "diff_n_1_f = sp.diff(F,x,len(X))\n",
    "\n",
    "fact = math.factorial(len(X))\n",
    "\n",
    "y = 1\n",
    "for i in range(len(X)):\n",
    "    y = y*(x-X[i])\n",
    "\n",
    "\n",
    "y_eq = sp.expand(y)\n",
    "sp.pprint(y_eq)\n",
    "\n",
    "e = abs(diff_n_1_f.subs(x,a)*y_eq.subs(x,b)/fact)\n",
    "\n",
    "print()\n",
    "print(X)\n",
    "print()\n",
    "print(Y,\"\\n\",e)"
   ]
  },
  {
   "cell_type": "code",
   "execution_count": null,
   "metadata": {},
   "outputs": [],
   "source": []
  }
 ]
}