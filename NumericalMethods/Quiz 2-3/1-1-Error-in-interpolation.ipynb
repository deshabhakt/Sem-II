{
 "metadata": {
  "language_info": {
   "codemirror_mode": {
    "name": "ipython",
    "version": 3
   },
   "file_extension": ".py",
   "mimetype": "text/x-python",
   "name": "python",
   "nbconvert_exporter": "python",
   "pygments_lexer": "ipython3",
   "version": "3.8.5"
  },
  "orig_nbformat": 2,
  "kernelspec": {
   "name": "python385jvsc74a57bd0767d51c1340bd893661ea55ea3124f6de3c7a262a8b4abca0554b478b1e2ff90",
   "display_name": "Python 3.8.5 64-bit ('usr')"
  }
 },
 "nbformat": 4,
 "nbformat_minor": 2,
 "cells": [
  {
   "cell_type": "code",
   "execution_count": 4,
   "metadata": {},
   "outputs": [],
   "source": [
    "import sympy as sp\n",
    "import math\n",
    "import numpy as np"
   ]
  },
  {
   "cell_type": "code",
   "execution_count": 7,
   "metadata": {},
   "outputs": [
    {
     "output_type": "stream",
     "name": "stdout",
     "text": [
      "(x - 4.0)*(x - 2.5)*(x - 2.0)\nx**3 - 8.5*x**2 + 23.0*x - 20.0\n[0.5  0.4  0.25] \n 0.00142797643838877\n"
     ]
    }
   ],
   "source": [
    "x = sp.Symbol('x', real=True)\n",
    "\n",
    "# Input Function\n",
    "F = 1/x\n",
    "\n",
    "f = sp.lambdify(x,F)\n",
    "\n",
    "X = np.array([2,2.5,4])\n",
    "Y = np.array([0.5,0.4,0.25])\n",
    "\n",
    "# range\n",
    "a = 2\n",
    "b = 3.5\n",
    "\n",
    "diff_n_1_f = sp.diff(F,x,len(X)+1)\n",
    "\n",
    "fact = math.factorial(len(X)+1)\n",
    "\n",
    "y = 1\n",
    "for i in range(len(X)):\n",
    "    y = y*(x-X[i])\n",
    "\n",
    "\n",
    "y_eq = sp.expand(y)\n",
    "\n",
    "print(y_eq)\n",
    "x_e = 0\n",
    "if(abs(f(a))<abs(f(b))):\n",
    "    x_e = a\n",
    "else:\n",
    "    x_e = b\n",
    "\n",
    "e = abs(diff_n_1_f.subs(x,x_e)*y_eq.subs(x,x_e)/fact)\n",
    "\n",
    "print(Y,\"\\n\",e)"
   ]
  },
  {
   "cell_type": "code",
   "execution_count": null,
   "metadata": {},
   "outputs": [],
   "source": []
  }
 ]
}