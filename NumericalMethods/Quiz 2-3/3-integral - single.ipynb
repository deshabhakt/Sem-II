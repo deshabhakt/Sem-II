{
 "metadata": {
  "language_info": {
   "codemirror_mode": {
    "name": "ipython",
    "version": 3
   },
   "file_extension": ".py",
   "mimetype": "text/x-python",
   "name": "python",
   "nbconvert_exporter": "python",
   "pygments_lexer": "ipython3",
   "version": "3.8.5"
  },
  "orig_nbformat": 2,
  "kernelspec": {
   "name": "python3",
   "display_name": "Python 3",
   "language": "python"
  }
 },
 "nbformat": 4,
 "nbformat_minor": 2,
 "cells": [
  {
   "cell_type": "code",
   "execution_count": 66,
   "metadata": {},
   "outputs": [],
   "source": [
    "import numpy as np\n",
    "import math\n",
    "import sympy as sp\n",
    "\n",
    "x = sp.Symbol('x', real=True)"
   ]
  },
  {
   "cell_type": "code",
   "execution_count": 67,
   "metadata": {},
   "outputs": [],
   "source": [
    "def trapezoidalMethod(f,x0,xn,n):\n",
    "\n",
    "    # calculating step size\n",
    "    h = (xn - x0) / n\n",
    "    \n",
    "    # Finding sum \n",
    "    integration = f(x0) \n",
    "    print(f'y0\\tf({x0:0.3f}) = {integration}')\n",
    "    for i in range(1,n):\n",
    "        k = x0 + i*h\n",
    "        integration = integration + 2 * f(k)\n",
    "        print(f'y{i}\\tf({k:0.3f}) = {f(k)}')\n",
    "\n",
    "    integration = integration + f(xn)\n",
    "    \n",
    "    print(f'y{n}\\tf({xn:0.3f}) = {f(xn)}')\n",
    "    \n",
    "    # Finding final integration value\n",
    "    integration = integration * h/2\n",
    "    print(f'\\nFinal Integration = {integration}')\n",
    "    \n",
    "    return integration"
   ]
  },
  {
   "cell_type": "code",
   "execution_count": 68,
   "metadata": {},
   "outputs": [],
   "source": [
    "def simpsons_1_3_method(f,x0,xn,n):\n",
    "    \n",
    "    # calculating step size\n",
    "    h = (xn - x0) / n\n",
    "\n",
    "    # Finding sum \n",
    "    integration = f(x0) \n",
    "    \n",
    "    print(f'y{0}\\t{integration}')\n",
    "\n",
    "    for i in range(1,n):\n",
    "        k = x0 + i*h\n",
    "        \n",
    "        if i%2 == 0:\n",
    "            integration = integration + 2 * f(k)\n",
    "        else:\n",
    "            integration = integration + 4 * f(k)\n",
    "        print(f'y{i}\\t{f(k)}')\n",
    "    \n",
    "    integration = integration + f(xn)\n",
    "        \n",
    "    print(f'y{n}\\t{f(xn)}')\n",
    "    \n",
    "    # Finding final integration value\n",
    "    integration = integration * h/3\n",
    "    print(f'\\nFinal Integration = {integration}')\n",
    "    \n",
    "    return integration"
   ]
  },
  {
   "cell_type": "code",
   "execution_count": 69,
   "metadata": {},
   "outputs": [],
   "source": [
    "def simpsons_3_8_method(f,x0,xn,n):\n",
    "    \n",
    "    if n%3 == 0:\n",
    "        # calculating step size\n",
    "        h = (xn - x0) / n\n",
    "        \n",
    "        # Finding sum \n",
    "        integration = f(x0)\n",
    "        \n",
    "        print(f'y{0}\\tf({x0})={integration}')\n",
    "        \n",
    "        for i in range(1,n):\n",
    "            k = x0 + i*h\n",
    "            \n",
    "            if i%3 == 0:\n",
    "                integration = integration + 2 * f(k)\n",
    "                print(f'y{i}\\tf({k})={f(k)}')\n",
    "            else:\n",
    "                integration = integration + 3 * f(k)\n",
    "                print(f'y{i}\\tf({xk})={f(k)}')\n",
    "\n",
    "        integration = integration + f(xn)\n",
    "        \n",
    "        print(f'y{n}\\tf({xn})={f(xn)}')\n",
    "       \n",
    "       \n",
    "        # Finding final integration value\n",
    "        integration = integration * 3 * h / 8\n",
    "        print(f'\\nFinal Integration = {integration}')\n",
    "\n",
    "        return integration\n",
    "    \n",
    "    else:\n",
    "        print(\"n - not divisible by 3.\")\n",
    "        "
   ]
  },
  {
   "cell_type": "code",
   "execution_count": 70,
   "metadata": {},
   "outputs": [],
   "source": [
    "def trapezoidalerror(f,a,b,n):\n",
    "    \n",
    "    d2f = sp.lambdify(x,sp.diff(f,x,2))\n",
    "\n",
    "    # mx = max(abs(d2f(a)),abs(d2f(b)))\n",
    "    mx = max((d2f(a)),(d2f(b)))\n",
    "    \n",
    "    h = (b-a)/n\n",
    "    \n",
    "    error = -((b-a)/12)*(h**2)*mx\n",
    "    \n",
    "    return abs(error)"
   ]
  },
  {
   "cell_type": "code",
   "execution_count": 71,
   "metadata": {},
   "outputs": [],
   "source": [
    "def simpsons_1_3_error(F,a,b,n):\n",
    "    \n",
    "    d4f = sp.lambdify(x,sp.diff(F,x,4))\n",
    "    mx = max( abs(d4f(a)) , abs(d4f(b)) )\n",
    "    \n",
    "    h = (b-a)/n\n",
    "    \n",
    "    error = -((b-a)/180)*(h**4)*mx\n",
    "    \n",
    "    return abs(error)"
   ]
  },
  {
   "cell_type": "code",
   "execution_count": 72,
   "metadata": {},
   "outputs": [],
   "source": [
    "def simpsons_3_8_error(F,a,b,n):\n",
    "    \n",
    "    d4f = sp.lambdify(x,sp.diff(F,x,4))\n",
    "    mx = max( abs(d4f(a)), abs(d4f(b)) )\n",
    "    \n",
    "    h = (b-a)/n\n",
    "    \n",
    "    error = -((b-a)/80)*(h**4)*mx\n",
    "    \n",
    "    return abs(error)"
   ]
  },
  {
   "cell_type": "code",
   "execution_count": 73,
   "metadata": {},
   "outputs": [],
   "source": [
    "a = -1\n",
    "b =  1\n",
    "\n",
    "# n =  6\n",
    "\n",
    "F = sp.exp(x**3)       # Change only this\n",
    "\n",
    "f = sp.lambdify(x,F)\n",
    "\n",
    "h = 0.1     \n",
    "n = int((b-a)/h)"
   ]
  },
  {
   "source": [
    "trapezoidal_integration = trapezoidalMethod(f,a, b, n)"
   ],
   "cell_type": "code",
   "metadata": {},
   "execution_count": 74,
   "outputs": [
    {
     "output_type": "stream",
     "name": "stdout",
     "text": [
      "y0\tf(-1.000) = 0.36787944117144233\ny1\tf(-0.900) = 0.4823911401151259\ny2\tf(-0.800) = 0.5992957878455384\ny3\tf(-0.700) = 0.7096382115602087\ny4\tf(-0.600) = 0.8057353018734796\ny5\tf(-0.500) = 0.8824969025845955\ny6\tf(-0.400) = 0.9380049995307296\ny7\tf(-0.300) = 0.9733612415243368\ny8\tf(-0.200) = 0.9920319148370607\ny9\tf(-0.100) = 0.999000499833375\ny10\tf(0.000) = 1.0\ny11\tf(0.100) = 1.0010005001667084\ny12\tf(0.200) = 1.0080320855042735\ny13\tf(0.300) = 1.0273678027634894\ny14\tf(0.400) = 1.0660923987615054\ny15\tf(0.500) = 1.1331484530668263\ny16\tf(0.600) = 1.2411023790006719\ny17\tf(0.700) = 1.4091687619264512\ny18\tf(0.800) = 1.668625110139667\ny19\tf(0.900) = 2.0730065642609925\ny20\tf(1.000) = 2.718281828459045\n\nFinal Integration = 2.1552580690110283\n"
     ]
    }
   ]
  },
  {
   "cell_type": "code",
   "execution_count": 75,
   "metadata": {},
   "outputs": [],
   "source": [
    "a = -1\n",
    "b =  1\n",
    "\n",
    "# n =  6\n",
    "\n",
    "F = sp.exp(x**3)       # Change only this\n",
    "\n",
    "f = sp.lambdify(x,F)\n",
    "\n",
    "h = 0.2     \n",
    "n = int((b-a)/h)"
   ]
  },
  {
   "cell_type": "code",
   "execution_count": 76,
   "metadata": {},
   "outputs": [
    {
     "output_type": "stream",
     "name": "stdout",
     "text": [
      "y0\tf(-1.000) = 0.36787944117144233\ny1\tf(-0.800) = 0.5992957878455384\ny2\tf(-0.600) = 0.8057353018734796\ny3\tf(-0.400) = 0.9380049995307296\ny4\tf(-0.200) = 0.9920319148370607\ny5\tf(0.000) = 1.0\ny6\tf(0.200) = 1.0080320855042735\ny7\tf(0.400) = 1.0660923987615054\ny8\tf(0.600) = 1.2411023790006719\ny9\tf(0.800) = 1.668625110139667\ny10\tf(1.000) = 2.718281828459045\n\nFinal Integration = 2.172400122461634\n"
     ]
    }
   ],
   "source": [
    "trapezoidal_integration = trapezoidalMethod(f,a, b, n)"
   ]
  },
  {
   "source": [
    "sims_1_3 = simpsons_1_3_method(f,a, b, n)"
   ],
   "cell_type": "code",
   "metadata": {},
   "execution_count": 77,
   "outputs": [
    {
     "output_type": "stream",
     "name": "stdout",
     "text": [
      "y0\t0.36787944117144233\ny1\t0.5992957878455384\ny2\t0.8057353018734796\ny3\t0.9380049995307296\ny4\t0.9920319148370607\ny5\t1.0\ny6\t1.0080320855042735\ny7\t1.0660923987615054\ny8\t1.2411023790006719\ny9\t1.668625110139667\ny10\t2.718281828459045\n\nFinal Integration = 2.1512025211447487\n"
     ]
    }
   ]
  },
  {
   "source": [
    "sims_3_8 = simpsons_3_8_method(f,a,b,n)"
   ],
   "cell_type": "code",
   "metadata": {},
   "execution_count": 78,
   "outputs": [
    {
     "output_type": "stream",
     "name": "stdout",
     "text": [
      "n - not divisible by 3.\n"
     ]
    }
   ]
  },
  {
   "cell_type": "code",
   "execution_count": 79,
   "metadata": {},
   "outputs": [
    {
     "output_type": "stream",
     "name": "stdout",
     "text": [
      "Trapezoidal Method error(using formula) = 0.27182818284590454\n"
     ]
    }
   ],
   "source": [
    "trapErrorUsingFormula = trapezoidalerror(F,a,b,n)\n",
    "print(f'Trapezoidal Method error(using formula) = {trapErrorUsingFormula}')"
   ]
  },
  {
   "cell_type": "code",
   "execution_count": 80,
   "metadata": {},
   "outputs": [
    {
     "output_type": "stream",
     "name": "stdout",
     "text": [
      "Simpsons 1/3 method error using formula = 0.028270131015974077\n"
     ]
    }
   ],
   "source": [
    "simps_1_3_error_using_formula = simpsons_1_3_error(F,a,b,n)\n",
    "print(f'Simpsons 1/3 method error using formula = {simps_1_3_error_using_formula}')"
   ]
  },
  {
   "cell_type": "code",
   "execution_count": 81,
   "metadata": {},
   "outputs": [
    {
     "output_type": "stream",
     "name": "stdout",
     "text": [
      "Simpsons 3/8 method error using formula = 0.06360779478594167\n"
     ]
    }
   ],
   "source": [
    "simps_3_8_error_using_formula = simpsons_3_8_error(F,a,b,n)\n",
    "print(f'Simpsons 3/8 method error using formula = {simps_3_8_error_using_formula}')"
   ]
  },
  {
   "source": [
    "exact = "
   ],
   "cell_type": "markdown",
   "metadata": {}
  },
  {
   "source": [
    "print(abs(trapezoidal_integration-exact))\n",
    "print(abs(sims_1_3-exact))\n",
    "print(abs(sims_3_8-exact))"
   ],
   "cell_type": "markdown",
   "metadata": {}
  },
  {
   "cell_type": "code",
   "execution_count": 82,
   "metadata": {},
   "outputs": [],
   "source": [
    "symbolic = sp.Integral(F,(x,a,b))"
   ]
  },
  {
   "cell_type": "code",
   "execution_count": 83,
   "metadata": {},
   "outputs": [
    {
     "output_type": "execute_result",
     "data": {
      "text/plain": [
       "Integral(exp(x**3), (x, -1, 1))"
      ],
      "text/latex": "$\\displaystyle \\int\\limits_{-1}^{1} e^{x^{3}}\\, dx$"
     },
     "metadata": {},
     "execution_count": 83
    }
   ],
   "source": [
    "symbolic"
   ]
  }
 ]
}