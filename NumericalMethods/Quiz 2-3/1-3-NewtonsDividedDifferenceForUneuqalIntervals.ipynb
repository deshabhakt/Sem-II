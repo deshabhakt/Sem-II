{
 "cells": [
  {
   "cell_type": "code",
   "execution_count": 1,
   "metadata": {},
   "outputs": [],
   "source": [
    "import numpy as np\n",
    "import copy\n",
    "import math\n",
    "import matplotlib.pyplot as plt\n",
    "import sympy as sp"
   ]
  },
  {
   "cell_type": "code",
   "execution_count": 2,
   "metadata": {},
   "outputs": [],
   "source": [
    "def printMatrix(V):\n",
    "    m = len(V)\n",
    "    n = len(V[0])\n",
    "    for i in range(m):\n",
    "        for j in range(n):\n",
    "            if(j>=2 and i!=0 and V[i][j]==0):\n",
    "                print(\"\",end=\"  \")\n",
    "            else:\n",
    "                print(f'{V[i][j]:10.06f}' ,  end=\"  \")\n",
    "        print()\n",
    "    print()"
   ]
  },
  {
   "cell_type": "markdown",
   "metadata": {},
   "source": [
    "# Function for Newton's Divided Difference Method"
   ]
  },
  {
   "cell_type": "code",
   "execution_count": 3,
   "metadata": {},
   "outputs": [],
   "source": [
    "def NDD(X,Y,a):\n",
    "    \n",
    "    x = sp.Symbol('x',real=True)\n",
    "    y = sp.Symbol('y',real=True)    \n",
    "    n = len(X)\n",
    "\n",
    "    NDDTable = []\n",
    "    for i in range(n):\n",
    "        b = []\n",
    "        for j in range(n+1):\n",
    "            b.append(0)\n",
    "        NDDTable.append(b)\n",
    "\n",
    "    for i in range(n):\n",
    "        NDDTable[i][0] = X[i]\n",
    "        NDDTable[i][1] = Y[i]\n",
    "\n",
    "    # Calculating Table\n",
    "    for i in range(2, n+1):\n",
    "        for j in range(0,n - i+1):\n",
    "            NDDTable[j][i] = ((NDDTable[j][i - 1] - NDDTable[j + 1][i - 1])/(NDDTable[j][0] - NDDTable[i + j-1][0]))\n",
    "    \n",
    "    Poly_deg = 0\n",
    "    # Calculating interpolation Value\n",
    "    ans = copy.copy(NDDTable[0][1])\n",
    "    for i in range(2,n+1):\n",
    "        p = 1\n",
    "        for j in range(i-1):\n",
    "            p *= (a-NDDTable[j][0])\n",
    "        \n",
    "        t = (p*NDDTable[0][i])\n",
    "        if(t!=0):\n",
    "            Poly_deg +=1\n",
    "        ans += t\n",
    "    \n",
    "    print(\"Table of Newton's Divided Difference Method:\\n\")\n",
    "   \n",
    "    print()\n",
    "    print()\n",
    "    mat = sp.Matrix(NDDTable)\n",
    "    sp.pprint(mat)\n",
    "    print()\n",
    "    print()\n",
    "    \n",
    "    try:\n",
    "        print(f\"\\nf({a}) = {ans:3.06f}\")\n",
    "    except:\n",
    "        pass\n",
    "    \n",
    "    print(f\"\\nDegree of Polynomial = {Poly_deg}\")\n",
    "    \n",
    "\n",
    "    lst_for_finding_poly_equation = []\n",
    "    x = sp.Symbol('x', real=True)\n",
    "    for i in range(2,n+1):\n",
    "        lst_tmp = []\n",
    "        for j in range(i-2,-1,-1):\n",
    "            lst_tmp.append(X[j])\n",
    "        lst_for_finding_poly_equation.append(lst_tmp)\n",
    "    \n",
    "    return ans,NDDTable,lst_for_finding_poly_equation"
   ]
  },
  {
   "cell_type": "code",
   "execution_count": 4,
   "metadata": {},
   "outputs": [],
   "source": [
    "def finding_polynomial(table,c_lst):\n",
    "    x = sp.Symbol('x',real=True)\n",
    "    \n",
    "    final_equation = table[0][1]\n",
    "    m = len(c_lst)\n",
    "    \n",
    "    for i in range(m):\n",
    "        eq_t = 1\n",
    "        for element in c_lst[i]:\n",
    "            eq_t *=(x-element)\n",
    "\n",
    "        eq_t = table[0][i+2]*sp.expand(eq_t)\n",
    "        final_equation += eq_t\n",
    "\n",
    "    return final_equation,sp.lambdify(x,final_equation)"
   ]
  },
  {
   "cell_type": "markdown",
   "metadata": {},
   "source": [
    "# Input Section"
   ]
  },
  {
   "cell_type": "code",
   "execution_count": 5,
   "metadata": {},
   "outputs": [],
   "source": [
    "x = sp.Symbol('x',real=True)\n",
    "y = sp.Symbol('y',real=True)\n",
    "\n",
    "X = np.array([0,5,8])\n",
    "Y = np.array([2,5,3])\n",
    "a = 0"
   ]
  },
  {
   "source": [
    "print(X)\n",
    "print(Y)"
   ],
   "cell_type": "markdown",
   "metadata": {}
  },
  {
   "cell_type": "code",
   "execution_count": 6,
   "metadata": {},
   "outputs": [
    {
     "output_type": "stream",
     "name": "stdout",
     "text": [
      "Table of Newton's Divided Difference Method:\n\n\n\n⎡0  2         0.6          -0.158333333333333⎤\n⎢                                            ⎥\n⎢5  5  -0.666666666666667          0         ⎥\n⎢                                            ⎥\n⎣8  3          0                   0         ⎦\n\n\n\nf(0) = 2.000000\n\nDegree of Polynomial = 0\n"
     ]
    }
   ],
   "source": [
    "ans,table,lst_for_finding_poly_equation = NDD(X, Y, a)"
   ]
  },
  {
   "cell_type": "code",
   "execution_count": 7,
   "metadata": {},
   "outputs": [
    {
     "output_type": "stream",
     "name": "stdout",
     "text": [
      "[[0], [5, 0]]\n"
     ]
    }
   ],
   "source": [
    "print(lst_for_finding_poly_equation)"
   ]
  },
  {
   "cell_type": "markdown",
   "metadata": {},
   "source": [
    "# Finding Equation of approximating polynomial"
   ]
  },
  {
   "cell_type": "code",
   "execution_count": 8,
   "metadata": {},
   "outputs": [
    {
     "output_type": "stream",
     "name": "stdout",
     "text": [
      "-0.158333333333333*x**2 + 1.39166666666667*x + 2\n"
     ]
    }
   ],
   "source": [
    "polynomial, lambdified_polynomial = finding_polynomial(table,lst_for_finding_poly_equation)\n",
    "print(polynomial)"
   ]
  },
  {
   "cell_type": "code",
   "execution_count": 9,
   "metadata": {},
   "outputs": [
    {
     "output_type": "execute_result",
     "data": {
      "text/plain": [
       "2.0"
      ]
     },
     "metadata": {},
     "execution_count": 9
    }
   ],
   "source": [
    "lambdified_polynomial(a)"
   ]
  },
  {
   "cell_type": "markdown",
   "metadata": {},
   "source": [
    "plt.scatter(X,Y)\n",
    "plt.plot(X,Y,'g')\n",
    "plt.scatter(a,ans)\n",
    "plt.show()"
   ]
  }
 ],
 "metadata": {
  "kernelspec": {
   "display_name": "Python 3",
   "language": "python",
   "name": "python3"
  },
  "language_info": {
   "codemirror_mode": {
    "name": "ipython",
    "version": 3
   },
   "file_extension": ".py",
   "mimetype": "text/x-python",
   "name": "python",
   "nbconvert_exporter": "python",
   "pygments_lexer": "ipython3",
   "version": "3.8.5"
  }
 },
 "nbformat": 4,
 "nbformat_minor": 2
}