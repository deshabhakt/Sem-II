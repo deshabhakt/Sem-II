{
 "metadata": {
  "language_info": {
   "codemirror_mode": {
    "name": "ipython",
    "version": 3
   },
   "file_extension": ".py",
   "mimetype": "text/x-python",
   "name": "python",
   "nbconvert_exporter": "python",
   "pygments_lexer": "ipython3",
   "version": "3.8.5"
  },
  "orig_nbformat": 2,
  "kernelspec": {
   "name": "python385jvsc74a57bd031f2aee4e71d21fbe5cf8b01ff0e069b9275f58929596ceb00d14d90e3e16cd6",
   "display_name": "Python 3.8.5 64-bit ('usr')"
  }
 },
 "nbformat": 4,
 "nbformat_minor": 2,
 "cells": [
  {
   "cell_type": "code",
   "execution_count": 1,
   "metadata": {},
   "outputs": [],
   "source": [
    "import scipy.integrate as integrate\n",
    "import sympy as sp\n",
    "from math import *"
   ]
  },
  {
   "cell_type": "code",
   "execution_count": 2,
   "metadata": {},
   "outputs": [],
   "source": [
    "x = sp.Symbol('x', real=True) \n",
    "y = sp.Symbol('y', real=True) \n",
    "\n",
    "# f = (x**2 + x + 1)\n",
    "f = 3*sp.cos(x-1)+1\n",
    "\n",
    "a = 1\n",
    "b = 5"
   ]
  },
  {
   "cell_type": "code",
   "execution_count": 4,
   "metadata": {},
   "outputs": [
    {
     "output_type": "error",
     "ename": "TypeError",
     "evalue": "'Add' object is not callable",
     "traceback": [
      "\u001b[0;31m---------------------------------------------------------------------------\u001b[0m",
      "\u001b[0;31mTypeError\u001b[0m                                 Traceback (most recent call last)",
      "\u001b[0;32m<ipython-input-4-c510dc86724b>\u001b[0m in \u001b[0;36m<module>\u001b[0;34m\u001b[0m\n\u001b[0;32m----> 1\u001b[0;31m \u001b[0mf\u001b[0m\u001b[0;34m(\u001b[0m\u001b[0;36m2\u001b[0m\u001b[0;34m)\u001b[0m\u001b[0;34m\u001b[0m\u001b[0;34m\u001b[0m\u001b[0m\n\u001b[0m",
      "\u001b[0;31mTypeError\u001b[0m: 'Add' object is not callable"
     ]
    }
   ],
   "source": [
    "f(2)"
   ]
  },
  {
   "cell_type": "code",
   "execution_count": 3,
   "metadata": {},
   "outputs": [
    {
     "output_type": "execute_result",
     "data": {
      "text/plain": [
       "x + 3*sin(x - 1)"
      ],
      "text/latex": "$\\displaystyle x + 3 \\sin{\\left(x - 1 \\right)}$"
     },
     "metadata": {},
     "execution_count": 3
    }
   ],
   "source": [
    "sp.integrate(f,x)"
   ]
  },
  {
   "cell_type": "code",
   "execution_count": 29,
   "metadata": {},
   "outputs": [],
   "source": [
    "l_f = sp.lambdify(x,f)"
   ]
  },
  {
   "cell_type": "code",
   "execution_count": 30,
   "metadata": {},
   "outputs": [
    {
     "output_type": "execute_result",
     "data": {
      "text/plain": [
       "1.7295925140762154"
      ]
     },
     "metadata": {},
     "execution_count": 30
    }
   ],
   "source": [
    "integrate.quad(l_f,a,b)[0]"
   ]
  },
  {
   "cell_type": "code",
   "execution_count": 31,
   "metadata": {},
   "outputs": [],
   "source": [
    "df = sp.diff(f,x)             # sp.diff(func,var,order)"
   ]
  },
  {
   "cell_type": "code",
   "execution_count": 32,
   "metadata": {},
   "outputs": [
    {
     "output_type": "execute_result",
     "data": {
      "text/plain": [
       "-3*sin(x - 1)"
      ],
      "text/latex": "$\\displaystyle - 3 \\sin{\\left(x - 1 \\right)}$"
     },
     "metadata": {},
     "execution_count": 32
    }
   ],
   "source": [
    "df"
   ]
  },
  {
   "cell_type": "code",
   "execution_count": 33,
   "metadata": {},
   "outputs": [],
   "source": [
    "l_df = sp.lambdify(x,df)"
   ]
  },
  {
   "cell_type": "code",
   "execution_count": 34,
   "metadata": {},
   "outputs": [
    {
     "output_type": "execute_result",
     "data": {
      "text/plain": [
       "-2.5244129544236893"
      ]
     },
     "metadata": {},
     "execution_count": 34
    }
   ],
   "source": [
    "l_df(2)"
   ]
  },
  {
   "cell_type": "code",
   "execution_count": 35,
   "metadata": {},
   "outputs": [],
   "source": [
    "A = sp.MatrixSymbol('X',5,5)"
   ]
  },
  {
   "cell_type": "code",
   "execution_count": 36,
   "metadata": {},
   "outputs": [
    {
     "output_type": "execute_result",
     "data": {
      "text/plain": [
       "X"
      ],
      "text/latex": "$\\displaystyle X$"
     },
     "metadata": {},
     "execution_count": 36
    }
   ],
   "source": [
    "A"
   ]
  },
  {
   "cell_type": "code",
   "execution_count": 37,
   "metadata": {},
   "outputs": [
    {
     "output_type": "execute_result",
     "data": {
      "text/plain": [
       "Matrix([\n",
       "[X[0, 0], X[0, 1], X[0, 2], X[0, 3], X[0, 4]],\n",
       "[X[1, 0], X[1, 1], X[1, 2], X[1, 3], X[1, 4]],\n",
       "[X[2, 0], X[2, 1], X[2, 2], X[2, 3], X[2, 4]],\n",
       "[X[3, 0], X[3, 1], X[3, 2], X[3, 3], X[3, 4]],\n",
       "[X[4, 0], X[4, 1], X[4, 2], X[4, 3], X[4, 4]]])"
      ],
      "text/latex": "$\\displaystyle \\left[\\begin{array}{ccccc}X_{0, 0} & X_{0, 1} & X_{0, 2} & X_{0, 3} & X_{0, 4}\\\\X_{1, 0} & X_{1, 1} & X_{1, 2} & X_{1, 3} & X_{1, 4}\\\\X_{2, 0} & X_{2, 1} & X_{2, 2} & X_{2, 3} & X_{2, 4}\\\\X_{3, 0} & X_{3, 1} & X_{3, 2} & X_{3, 3} & X_{3, 4}\\\\X_{4, 0} & X_{4, 1} & X_{4, 2} & X_{4, 3} & X_{4, 4}\\end{array}\\right]$"
     },
     "metadata": {},
     "execution_count": 37
    }
   ],
   "source": [
    "sp.Matrix(A)"
   ]
  },
  {
   "cell_type": "code",
   "execution_count": 38,
   "metadata": {},
   "outputs": [],
   "source": [
    "A = sp.MatrixSymbol('A', 5, 5)\n",
    "\n",
    "B = sp.MatrixSymbol('B', 5, 5)\n",
    "\n",
    "C = sp.MatrixSymbol('C', 5, 5)"
   ]
  },
  {
   "cell_type": "code",
   "execution_count": 39,
   "metadata": {},
   "outputs": [],
   "source": [
    "X = sp.MatAdd(A,B,C)"
   ]
  },
  {
   "cell_type": "code",
   "execution_count": 40,
   "metadata": {},
   "outputs": [
    {
     "output_type": "execute_result",
     "data": {
      "text/plain": [
       "sympy.matrices.expressions.matadd.MatAdd"
      ]
     },
     "metadata": {},
     "execution_count": 40
    }
   ],
   "source": [
    "type(X)"
   ]
  },
  {
   "cell_type": "code",
   "execution_count": 41,
   "metadata": {},
   "outputs": [
    {
     "output_type": "execute_result",
     "data": {
      "text/plain": [
       "A + B + C"
      ],
      "text/latex": "$\\displaystyle A + B + C$"
     },
     "metadata": {},
     "execution_count": 41
    }
   ],
   "source": [
    "X"
   ]
  },
  {
   "cell_type": "code",
   "execution_count": 42,
   "metadata": {},
   "outputs": [
    {
     "output_type": "execute_result",
     "data": {
      "text/plain": [
       "Matrix([\n",
       "[A[0, 0] + B[0, 0] + C[0, 0], A[0, 1] + B[0, 1] + C[0, 1], A[0, 2] + B[0, 2] + C[0, 2], A[0, 3] + B[0, 3] + C[0, 3], A[0, 4] + B[0, 4] + C[0, 4]],\n",
       "[A[1, 0] + B[1, 0] + C[1, 0], A[1, 1] + B[1, 1] + C[1, 1], A[1, 2] + B[1, 2] + C[1, 2], A[1, 3] + B[1, 3] + C[1, 3], A[1, 4] + B[1, 4] + C[1, 4]],\n",
       "[A[2, 0] + B[2, 0] + C[2, 0], A[2, 1] + B[2, 1] + C[2, 1], A[2, 2] + B[2, 2] + C[2, 2], A[2, 3] + B[2, 3] + C[2, 3], A[2, 4] + B[2, 4] + C[2, 4]],\n",
       "[A[3, 0] + B[3, 0] + C[3, 0], A[3, 1] + B[3, 1] + C[3, 1], A[3, 2] + B[3, 2] + C[3, 2], A[3, 3] + B[3, 3] + C[3, 3], A[3, 4] + B[3, 4] + C[3, 4]],\n",
       "[A[4, 0] + B[4, 0] + C[4, 0], A[4, 1] + B[4, 1] + C[4, 1], A[4, 2] + B[4, 2] + C[4, 2], A[4, 3] + B[4, 3] + C[4, 3], A[4, 4] + B[4, 4] + C[4, 4]]])"
      ],
      "text/latex": "$\\displaystyle \\left[\\begin{matrix}A_{0, 0} + B_{0, 0} + C_{0, 0} & A_{0, 1} + B_{0, 1} + C_{0, 1} & A_{0, 2} + B_{0, 2} + C_{0, 2} & A_{0, 3} + B_{0, 3} + C_{0, 3} & A_{0, 4} + B_{0, 4} + C_{0, 4}\\\\A_{1, 0} + B_{1, 0} + C_{1, 0} & A_{1, 1} + B_{1, 1} + C_{1, 1} & A_{1, 2} + B_{1, 2} + C_{1, 2} & A_{1, 3} + B_{1, 3} + C_{1, 3} & A_{1, 4} + B_{1, 4} + C_{1, 4}\\\\A_{2, 0} + B_{2, 0} + C_{2, 0} & A_{2, 1} + B_{2, 1} + C_{2, 1} & A_{2, 2} + B_{2, 2} + C_{2, 2} & A_{2, 3} + B_{2, 3} + C_{2, 3} & A_{2, 4} + B_{2, 4} + C_{2, 4}\\\\A_{3, 0} + B_{3, 0} + C_{3, 0} & A_{3, 1} + B_{3, 1} + C_{3, 1} & A_{3, 2} + B_{3, 2} + C_{3, 2} & A_{3, 3} + B_{3, 3} + C_{3, 3} & A_{3, 4} + B_{3, 4} + C_{3, 4}\\\\A_{4, 0} + B_{4, 0} + C_{4, 0} & A_{4, 1} + B_{4, 1} + C_{4, 1} & A_{4, 2} + B_{4, 2} + C_{4, 2} & A_{4, 3} + B_{4, 3} + C_{4, 3} & A_{4, 4} + B_{4, 4} + C_{4, 4}\\end{matrix}\\right]$"
     },
     "metadata": {},
     "execution_count": 42
    }
   ],
   "source": [
    "X.as_explicit()"
   ]
  },
  {
   "cell_type": "code",
   "execution_count": 44,
   "metadata": {},
   "outputs": [],
   "source": [
    "\n",
    "g = sp.Matrix([[   x,  2*x,  3*x,  4*x,  5*x,  6*x,  7*x,  8*x,   9*x,  10*x],\n",
    "                  [y**2, y**3, y**4, y**5, y**6, y**7, y**8, y**9, y**10, y**11]])\n",
    "s = (x, y)\n",
    "g_func = sp.lambdify(s, g, modules='numpy')"
   ]
  },
  {
   "cell_type": "code",
   "execution_count": 45,
   "metadata": {},
   "outputs": [
    {
     "output_type": "execute_result",
     "data": {
      "text/plain": [
       "array([[     2,      4,      6,      8,     10,     12,     14,     16,\n",
       "            18,     20],\n",
       "       [     9,     27,     81,    243,    729,   2187,   6561,  19683,\n",
       "         59049, 177147]])"
      ]
     },
     "metadata": {},
     "execution_count": 45
    }
   ],
   "source": [
    "g_func(2,3)"
   ]
  },
  {
   "cell_type": "code",
   "execution_count": 48,
   "metadata": {},
   "outputs": [
    {
     "output_type": "execute_result",
     "data": {
      "text/plain": [
       "Matrix([\n",
       "[2,  4,  6,   8,  10,   12,   14,    16,    18,     20],\n",
       "[9, 27, 81, 243, 729, 2187, 6561, 19683, 59049, 177147]])"
      ],
      "text/latex": "$\\displaystyle \\left[\\begin{matrix}2 & 4 & 6 & 8 & 10 & 12 & 14 & 16 & 18 & 20\\\\9 & 27 & 81 & 243 & 729 & 2187 & 6561 & 19683 & 59049 & 177147\\end{matrix}\\right]$"
     },
     "metadata": {},
     "execution_count": 48
    }
   ],
   "source": [
    "sp.Matrix(g_func(2,3))"
   ]
  },
  {
   "cell_type": "code",
   "execution_count": 49,
   "metadata": {},
   "outputs": [
    {
     "output_type": "execute_result",
     "data": {
      "text/plain": [
       "Integral(1/x, x)"
      ],
      "text/latex": "$\\displaystyle \\int \\frac{1}{x}\\, dx$"
     },
     "metadata": {},
     "execution_count": 49
    }
   ],
   "source": [
    "sp.Integral((1/x),x)"
   ]
  },
  {
   "cell_type": "code",
   "execution_count": null,
   "metadata": {},
   "outputs": [],
   "source": []
  }
 ]
}