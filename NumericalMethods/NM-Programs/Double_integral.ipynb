{
 "metadata": {
  "language_info": {
   "codemirror_mode": {
    "name": "ipython",
    "version": 3
   },
   "file_extension": ".py",
   "mimetype": "text/x-python",
   "name": "python",
   "nbconvert_exporter": "python",
   "pygments_lexer": "ipython3",
   "version": "3.9.3"
  },
  "orig_nbformat": 2,
  "kernelspec": {
   "name": "python3",
   "display_name": "Python 3",
   "language": "python"
  }
 },
 "nbformat": 4,
 "nbformat_minor": 2,
 "cells": [
  {
   "cell_type": "code",
   "execution_count": 7,
   "metadata": {},
   "outputs": [],
   "source": [
    "import numpy as np\n",
    "from math import *"
   ]
  },
  {
   "cell_type": "code",
   "execution_count": 8,
   "metadata": {},
   "outputs": [],
   "source": [
    "def trapezoidalMethod(f,x0,xn,n):\n",
    "\n",
    "        # calculating step size\n",
    "        h = (xn - x0) / n\n",
    "        \n",
    "        # Finding sum \n",
    "        integration = f(x0) \n",
    "        print(f'y0\\t{integration}')\n",
    "        for i in range(1,n):\n",
    "            k = x0 + i*h\n",
    "            integration = integration + 2 * f(k)\n",
    "            print(f'y{i}\\t{f(k)}')\n",
    "\n",
    "        integration = integration + f(xn)\n",
    "        \n",
    "        print(f'y{n}\\t{f(n)}')\n",
    "        \n",
    "        # Finding final integration value\n",
    "        integration = integration * h/2\n",
    "        print(f'\\nFinal Integrationg = {integration}')\n",
    "        \n",
    "        return integration"
   ]
  },
  {
   "cell_type": "code",
   "execution_count": 9,
   "metadata": {},
   "outputs": [],
   "source": [
    "def DoubleTranpezoidal(f,a,b,c,d,n):\n",
    "    \n",
    "    multiplier = (b-a)*(d-c)/4\n",
    "\n",
    "    # traps = trapezoidalMethod(f,a,c,n) + trapezoidalMethod(f,a,d,n) + trapezoidalMethod(f,b,c,n) + trapezoidalMethod(f,b,d,n)    \n",
    "    traps = f(a,c) + f(b,c) + f(a,d) + f(b,d)\n",
    "    \n",
    "    integration = multiplier * traps\n",
    "    return integration"
   ]
  },
  {
   "cell_type": "code",
   "execution_count": 10,
   "metadata": {},
   "outputs": [],
   "source": [
    "def f(x, y):\n",
    "    \n",
    "    return (x**3) + (y**2) "
   ]
  },
  {
   "cell_type": "code",
   "execution_count": 11,
   "metadata": {},
   "outputs": [],
   "source": [
    "a = 1\n",
    "b = 4\n",
    "c = 1\n",
    "d = 4\n",
    "\n",
    "n = 1"
   ]
  },
  {
   "cell_type": "code",
   "execution_count": 12,
   "metadata": {},
   "outputs": [
    {
     "output_type": "execute_result",
     "data": {
      "text/plain": [
       "369.0"
      ]
     },
     "metadata": {},
     "execution_count": 12
    }
   ],
   "source": [
    "DoubleTranpezoidal(f,a,b,c,d,n)"
   ]
  },
  {
   "cell_type": "code",
   "execution_count": null,
   "metadata": {},
   "outputs": [],
   "source": []
  }
 ]
}