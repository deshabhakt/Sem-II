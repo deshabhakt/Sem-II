{
 "metadata": {
  "language_info": {
   "codemirror_mode": {
    "name": "ipython",
    "version": 3
   },
   "file_extension": ".py",
   "mimetype": "text/x-python",
   "name": "python",
   "nbconvert_exporter": "python",
   "pygments_lexer": "ipython3",
   "version": "3.8.5"
  },
  "orig_nbformat": 2,
  "kernelspec": {
   "name": "python3",
   "display_name": "Python 3",
   "language": "python"
  }
 },
 "nbformat": 4,
 "nbformat_minor": 2,
 "cells": [
  {
   "cell_type": "code",
   "execution_count": 1,
   "metadata": {},
   "outputs": [],
   "source": [
    "import numpy as np\n",
    "from math import *"
   ]
  },
  {
   "cell_type": "code",
   "execution_count": 2,
   "metadata": {},
   "outputs": [],
   "source": [
    "def trapezoidalMethod_double_integral(f,a,b,c,d,m,n):   # m -> number of intervals in x-direction; n-> number of intervals in y-dir\n",
    "    res = np.zeros((m+1,n+1))\n",
    "    h = abs(b-a)/m\n",
    "    k = abs(d-c)/n\n",
    "\n",
    "    x = a\n",
    "    for i in range(m+1):\n",
    "        y = c\n",
    "        for j in range(n+1):\n",
    "            res[i,j] = f(x,y)\n",
    "            y = y + k\n",
    "        x = x + h\n",
    "\n",
    "    print(res)\n",
    "    integration = 0\n",
    "\n",
    "    for i in range(m+1):\n",
    "        for j in range(n+1):\n",
    "            if((i==0 and j==0) or (i==m and j==n) or (i==0 and j==n) or (i==m and j==0)):\n",
    "                integration += res[i,j]\n",
    "            \n",
    "            elif((i>0 and i<m) and (j>0 and j<n)):\n",
    "                integration += 4*res[i,j]\n",
    "            \n",
    "            else:\n",
    "                integration += 2*res[i,j]\n",
    "\n",
    "    integration = ((h*k)/4)*integration\n",
    "\n",
    "    return integration"
   ]
  },
  {
   "cell_type": "code",
   "execution_count": 3,
   "metadata": {},
   "outputs": [],
   "source": [
    "def simpsonsMethod_double_integral(f,a,b,c,d,m,n):\n",
    "    res = np.zeros((m+1,n+1))\n",
    "    h = abs(b-a)/m\n",
    "    k = abs(d-c)/n\n",
    "\n",
    "    x = a\n",
    "    for i in range(m+1):\n",
    "        y = c\n",
    "        for j in range(n+1):\n",
    "            res[i,j] = f(x,y)\n",
    "            y = y + k\n",
    "        x = x + h\n",
    "\n",
    "    print(res)\n",
    "    integration = 0\n",
    "\n",
    "    for i in range(m+1):\n",
    "        for j in range(n+1):\n",
    "            if((i==0 and j==0) or (i==m and j==n) or (i==0 and j==n) or (i==m and j==0)):\n",
    "                integration += res[i,j]\n",
    "            \n",
    "            elif((i>0 and i<m) and (j>0 and j<n)):\n",
    "                integration += 16*res[i,j]\n",
    "            \n",
    "            else:\n",
    "                integration += 4*res[i,j]\n",
    "\n",
    "    integration = ((h*k)/9)*integration\n",
    "\n",
    "    return integration"
   ]
  },
  {
   "source": [
    "def f(x,y):\n",
    "    \n",
    "    return (x**3) + (y**2)"
   ],
   "cell_type": "code",
   "metadata": {},
   "execution_count": 4,
   "outputs": []
  },
  {
   "cell_type": "code",
   "execution_count": 5,
   "metadata": {},
   "outputs": [],
   "source": [
    "a = 1\n",
    "b = 2\n",
    "c = 1\n",
    "d = 2\n",
    "\n",
    "n = 2\n",
    "m = 2"
   ]
  },
  {
   "cell_type": "code",
   "execution_count": 6,
   "metadata": {},
   "outputs": [
    {
     "output_type": "stream",
     "name": "stdout",
     "text": [
      "[[ 2.     3.25   5.   ]\n [ 4.375  5.625  7.375]\n [ 9.    10.25  12.   ]]\n"
     ]
    },
    {
     "output_type": "execute_result",
     "data": {
      "text/plain": [
       "6.3125"
      ]
     },
     "metadata": {},
     "execution_count": 6
    }
   ],
   "source": [
    "trapezoidalMethod_double_integral(f,a,b,c,d,m,n)"
   ]
  },
  {
   "cell_type": "code",
   "execution_count": 7,
   "metadata": {},
   "outputs": [
    {
     "output_type": "stream",
     "name": "stdout",
     "text": [
      "[[ 2.     3.25   5.   ]\n [ 4.375  5.625  7.375]\n [ 9.    10.25  12.   ]]\n"
     ]
    },
    {
     "output_type": "execute_result",
     "data": {
      "text/plain": [
       "6.083333333333333"
      ]
     },
     "metadata": {},
     "execution_count": 7
    }
   ],
   "source": [
    "simpsonsMethod_double_integral(f,a,b,c,d,m,n)"
   ]
  }
 ]
}