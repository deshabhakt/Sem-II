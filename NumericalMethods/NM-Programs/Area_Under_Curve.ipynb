{
 "metadata": {
  "language_info": {
   "codemirror_mode": {
    "name": "ipython",
    "version": 3
   },
   "file_extension": ".py",
   "mimetype": "text/x-python",
   "name": "python",
   "nbconvert_exporter": "python",
   "pygments_lexer": "ipython3",
   "version": "3.9.3"
  },
  "orig_nbformat": 2,
  "kernelspec": {
   "name": "python3",
   "display_name": "Python 3",
   "language": "python"
  }
 },
 "nbformat": 4,
 "nbformat_minor": 2,
 "cells": [
  {
   "cell_type": "code",
   "execution_count": 91,
   "metadata": {},
   "outputs": [],
   "source": [
    "import numpy as np\n",
    "from math import *"
   ]
  },
  {
   "cell_type": "code",
   "execution_count": 92,
   "metadata": {},
   "outputs": [],
   "source": [
    "def trapezoidalMethod(f,x0,xn,n):\n",
    "\n",
    "    # calculating step size\n",
    "    h = (xn - x0) / n\n",
    "    \n",
    "    # Finding sum \n",
    "    integration = f(x0) \n",
    "    print(f'y0\\t{integration}')\n",
    "    for i in range(1,n):\n",
    "        k = x0 + i*h\n",
    "        integration = integration + 2 * f(k)\n",
    "        print(f'y{i}\\t{f(k)}')\n",
    "\n",
    "    integration = integration + f(xn)\n",
    "    \n",
    "    print(f'y{n}\\t{f(n)}')\n",
    "    \n",
    "    # Finding final integration value\n",
    "    integration = integration * h/2\n",
    "    print(f'\\nFinal Integrationg = {integration}')\n",
    "    \n",
    "    return integration"
   ]
  },
  {
   "cell_type": "code",
   "execution_count": 93,
   "metadata": {},
   "outputs": [],
   "source": [
    "def simpsons_1_3_method(f,x0,xn,n):\n",
    "    # calculating step size\n",
    "    h = (xn - x0) / n\n",
    "    \n",
    "\n",
    "    # Finding sum \n",
    "    integration = f(x0) \n",
    "    \n",
    "    print(f'y{0}\\t{integration}')\n",
    "\n",
    "    for i in range(1,n):\n",
    "        k = x0 + i*h\n",
    "        \n",
    "        if i%2 == 0:\n",
    "            integration = integration + 2 * f(k)\n",
    "        else:\n",
    "            integration = integration + 4 * f(k)\n",
    "        print(f'y{i}\\t{f(k)}')\n",
    "    \n",
    "    integration = integration + f(xn)\n",
    "        \n",
    "    print(f'y{n}\\t{f(n)}')\n",
    "    \n",
    "    # Finding final integration value\n",
    "    integration = integration * h/3\n",
    "    print(f'\\nFinal Integrationg = {integration}')\n",
    "    \n",
    "    return integration"
   ]
  },
  {
   "cell_type": "code",
   "execution_count": 94,
   "metadata": {},
   "outputs": [],
   "source": [
    "def simpsons_3_8_method(f,x0,xn,n):\n",
    "    if n%3 == 0:\n",
    "        # calculating step size\n",
    "        h = (xn - x0) / n\n",
    "        \n",
    "        # Finding sum \n",
    "        integration = f(x0)\n",
    "        \n",
    "        print(f'y{0}\\t{integration}')\n",
    "        \n",
    "        for i in range(1,n):\n",
    "            k = x0 + i*h\n",
    "            \n",
    "            if i%3 == 0:\n",
    "                integration = integration + 2 * f(k)\n",
    "                print(f'y{i}\\t{f(k)}')\n",
    "            else:\n",
    "                integration = integration + 3 * f(k)\n",
    "                print(f'y{i}\\t{f(k)}')\n",
    "\n",
    "        integration = integration + f(xn)\n",
    "        \n",
    "        print(f'y{n}\\t{f(n)}')\n",
    "       \n",
    "       \n",
    "        # Finding final integration value\n",
    "        integration = integration * 3 * h / 8\n",
    "        print(f'\\nFinal Integrationg = {integration}')\n",
    "\n",
    "        return integration\n",
    "    \n",
    "    else:\n",
    "        print(\"n - not divisible by 3.\")"
   ]
  },
  {
   "cell_type": "code",
   "execution_count": 120,
   "metadata": {},
   "outputs": [],
   "source": [
    "def trapezoidalerror(ddf,a,b,n):\n",
    "    h = (b-a)/n\n",
    "    error = -((b-a)/12)*(h**2)*ddf((b+a)/2)\n",
    "    return error"
   ]
  },
  {
   "cell_type": "code",
   "execution_count": 117,
   "metadata": {},
   "outputs": [],
   "source": [
    "def simpsons_1_3_error(ddddf,a,b,n):\n",
    "    h = (b-a)/n\n",
    "    error = -((b-a)/180)*(h**2)*ddddf((a+b)*0.5)\n",
    "    return error"
   ]
  },
  {
   "cell_type": "code",
   "execution_count": 121,
   "metadata": {},
   "outputs": [],
   "source": [
    "def simpsons_3_8_error(ddddf,a,b,n):\n",
    "    h = (b-a)/n\n",
    "    error = (-1/80)*(h**4)*ddddf((a+b)/2)\n",
    "    return error"
   ]
  },
  {
   "cell_type": "code",
   "execution_count": 108,
   "metadata": {},
   "outputs": [],
   "source": [
    "def f(x):\n",
    "    return log(x)"
   ]
  },
  {
   "cell_type": "code",
   "execution_count": 123,
   "metadata": {},
   "outputs": [],
   "source": [
    "def ddf(x):\n",
    "    return -1/(x**2)"
   ]
  },
  {
   "cell_type": "code",
   "execution_count": 124,
   "metadata": {},
   "outputs": [],
   "source": [
    "def ddddf(x):\n",
    "    return -6/(x**4)"
   ]
  },
  {
   "cell_type": "code",
   "execution_count": 109,
   "metadata": {},
   "outputs": [],
   "source": [
    "a =  4\n",
    "b =  5.2\n",
    "\n",
    "n =  6\n",
    "\n",
    "# h = 0.25     \n",
    "# n = (b-a)/h"
   ]
  },
  {
   "cell_type": "code",
   "execution_count": 110,
   "metadata": {},
   "outputs": [
    {
     "output_type": "stream",
     "name": "stdout",
     "text": [
      "y0\t1.3862943611198906\ny1\t1.4350845252893227\ny2\t1.4816045409242156\ny3\t1.5260563034950492\ny4\t1.5686159179138452\ny5\t1.6094379124341003\ny6\t1.791759469228055\n\nFinal Integrationg = 1.827655138682034\n"
     ]
    }
   ],
   "source": [
    "trapezoidal_integration = trapezoidalMethod(f,a, b, n)"
   ]
  },
  {
   "cell_type": "code",
   "execution_count": 111,
   "metadata": {},
   "outputs": [
    {
     "output_type": "stream",
     "name": "stdout",
     "text": [
      "y0\t1.3862943611198906\ny1\t1.4350845252893227\ny2\t1.4816045409242156\ny3\t1.5260563034950492\ny4\t1.5686159179138452\ny5\t1.6094379124341003\ny6\t1.791759469228055\n\nFinal Integrationg = 1.8278472579504859\n"
     ]
    }
   ],
   "source": [
    "sims_1_3 = simpsons_1_3_method(f,a, b, n)"
   ]
  },
  {
   "cell_type": "code",
   "execution_count": 112,
   "metadata": {},
   "outputs": [
    {
     "output_type": "stream",
     "name": "stdout",
     "text": [
      "y0\t1.3862943611198906\ny1\t1.4350845252893227\ny2\t1.4816045409242156\ny3\t1.5260563034950492\ny4\t1.5686159179138452\ny5\t1.6094379124341003\ny6\t1.791759469228055\n\nFinal Integrationg = 1.8278470712536372\n"
     ]
    }
   ],
   "source": [
    "sims_3_8 = simpsons_3_8_method(f,a,b,n)"
   ]
  },
  {
   "cell_type": "code",
   "execution_count": 125,
   "metadata": {},
   "outputs": [
    {
     "output_type": "stream",
     "name": "stdout",
     "text": [
      "0.00018903591682419672\n"
     ]
    }
   ],
   "source": [
    "print(trapezoidalerror(ddf,a,b,n))"
   ]
  },
  {
   "cell_type": "code",
   "execution_count": 126,
   "metadata": {},
   "outputs": [
    {
     "output_type": "stream",
     "name": "stdout",
     "text": [
      "3.5734577849564606e-06\n"
     ]
    }
   ],
   "source": [
    "print(simpsons_1_3_error(ddddf,a,b,n))"
   ]
  },
  {
   "cell_type": "code",
   "execution_count": 127,
   "metadata": {},
   "outputs": [
    {
     "output_type": "stream",
     "name": "stdout",
     "text": [
      "2.680093338717346e-07\n"
     ]
    }
   ],
   "source": [
    "print(simpsons_3_8_error(ddddf,a,b,n))"
   ]
  },
  {
   "cell_type": "code",
   "execution_count": 102,
   "metadata": {},
   "outputs": [
    {
     "output_type": "execute_result",
     "data": {
      "text/plain": [
       "1.8278474085748224"
      ]
     },
     "metadata": {},
     "execution_count": 102
    }
   ],
   "source": [
    "5.2*log(5.2) - 4*log(4) - 1.2"
   ]
  },
  {
   "cell_type": "code",
   "execution_count": 103,
   "metadata": {},
   "outputs": [],
   "source": [
    "exact = 1.8278474085748224"
   ]
  },
  {
   "cell_type": "code",
   "execution_count": 104,
   "metadata": {},
   "outputs": [
    {
     "output_type": "execute_result",
     "data": {
      "text/plain": [
       "0.00019226989278831041"
      ]
     },
     "metadata": {},
     "execution_count": 104
    }
   ],
   "source": [
    "abs(exact-1.827655138682034)"
   ]
  },
  {
   "cell_type": "code",
   "execution_count": 105,
   "metadata": {},
   "outputs": [
    {
     "output_type": "execute_result",
     "data": {
      "text/plain": [
       "1.50624336558991e-07"
      ]
     },
     "metadata": {},
     "execution_count": 105
    }
   ],
   "source": [
    "abs(exact-1.8278472579504859)"
   ]
  },
  {
   "cell_type": "code",
   "execution_count": 106,
   "metadata": {},
   "outputs": [
    {
     "output_type": "execute_result",
     "data": {
      "text/plain": [
       "3.373211852064628e-07"
      ]
     },
     "metadata": {},
     "execution_count": 106
    }
   ],
   "source": [
    "abs(exact-1.8278470712536372)"
   ]
  },
  {
   "cell_type": "code",
   "execution_count": null,
   "metadata": {},
   "outputs": [],
   "source": []
  }
 ]
}