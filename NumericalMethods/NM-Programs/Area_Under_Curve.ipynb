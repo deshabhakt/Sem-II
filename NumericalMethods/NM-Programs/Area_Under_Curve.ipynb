{
 "metadata": {
  "language_info": {
   "codemirror_mode": {
    "name": "ipython",
    "version": 3
   },
   "file_extension": ".py",
   "mimetype": "text/x-python",
   "name": "python",
   "nbconvert_exporter": "python",
   "pygments_lexer": "ipython3",
   "version": "3.9.3"
  },
  "orig_nbformat": 2,
  "kernelspec": {
   "name": "python3",
   "display_name": "Python 3",
   "language": "python"
  }
 },
 "nbformat": 4,
 "nbformat_minor": 2,
 "cells": [
  {
   "cell_type": "code",
   "execution_count": 10,
   "metadata": {},
   "outputs": [],
   "source": [
    "import numpy as np"
   ]
  },
  {
   "cell_type": "code",
   "execution_count": 11,
   "metadata": {},
   "outputs": [],
   "source": [
    "def trapezoidalMethod(f,x0,xn,n):\n",
    "\n",
    "    # calculating step size\n",
    "    h = (xn - x0) / n\n",
    "    \n",
    "    # Finding sum \n",
    "    integration = f(x0) + f(xn)\n",
    "    \n",
    "    for i in range(1,n):\n",
    "        k = x0 + i*h\n",
    "        integration = integration + 2 * f(k)\n",
    "    \n",
    "    # Finding final integration value\n",
    "    integration = integration * h/2\n",
    "    \n",
    "    return integration"
   ]
  },
  {
   "cell_type": "code",
   "execution_count": 12,
   "metadata": {},
   "outputs": [],
   "source": [
    "def simpsons_1_3_method(f,x0,xn,n):\n",
    "    # calculating step size\n",
    "    h = (xn - x0) / n\n",
    "    \n",
    "    # Finding sum \n",
    "    integration = f(x0) + f(xn)\n",
    "    \n",
    "    for i in range(1,n):\n",
    "        k = x0 + i*h\n",
    "        \n",
    "        if i%2 == 0:\n",
    "            integration = integration + 2 * f(k)\n",
    "        else:\n",
    "            integration = integration + 4 * f(k)\n",
    "    \n",
    "    # Finding final integration value\n",
    "    integration = integration * h/3\n",
    "    \n",
    "    return integration"
   ]
  },
  {
   "cell_type": "code",
   "execution_count": 13,
   "metadata": {},
   "outputs": [],
   "source": [
    "def simpsons_3_8_method(f,x0,xn,n):\n",
    "    if n%3 == 0:\n",
    "        # calculating step size\n",
    "        h = (xn - x0) / n\n",
    "        \n",
    "        # Finding sum \n",
    "        integration = f(x0) + f(xn)\n",
    "        \n",
    "        for i in range(1,n):\n",
    "            k = x0 + i*h\n",
    "            \n",
    "            if i%2 == 0:\n",
    "                integration = integration + 2 * f(k)\n",
    "            else:\n",
    "                integration = integration + 3 * f(k)\n",
    "        \n",
    "        # Finding final integration value\n",
    "        integration = integration * 3 * h / 8\n",
    "        return integration\n",
    "    else:\n",
    "        print(\"n - not divisible by 3.\")"
   ]
  },
  {
   "cell_type": "code",
   "execution_count": 14,
   "metadata": {},
   "outputs": [],
   "source": [
    "def f(x):\n",
    "    return 1/(1 + x**2)"
   ]
  },
  {
   "cell_type": "code",
   "execution_count": 15,
   "metadata": {},
   "outputs": [],
   "source": [
    "a =  0\n",
    "b =  1\n",
    "n =  12\n"
   ]
  },
  {
   "cell_type": "code",
   "execution_count": 16,
   "metadata": {},
   "outputs": [
    {
     "output_type": "execute_result",
     "data": {
      "text/plain": [
       "0.7851088117117127"
      ]
     },
     "metadata": {},
     "execution_count": 16
    }
   ],
   "source": [
    "trapezoidalMethod(f,a, b, n)"
   ]
  },
  {
   "cell_type": "code",
   "execution_count": 17,
   "metadata": {},
   "outputs": [
    {
     "output_type": "execute_result",
     "data": {
      "text/plain": [
       "0.7853981600763449"
      ]
     },
     "metadata": {},
     "execution_count": 17
    }
   ],
   "source": [
    "simpsons_1_3_method(f,a, b, n)"
   ]
  },
  {
   "cell_type": "code",
   "execution_count": 18,
   "metadata": {},
   "outputs": [
    {
     "output_type": "execute_result",
     "data": {
      "text/plain": [
       "0.736202269434836"
      ]
     },
     "metadata": {},
     "execution_count": 18
    }
   ],
   "source": [
    "simpsons_3_8_method(f,a,b,n)"
   ]
  }
 ]
}