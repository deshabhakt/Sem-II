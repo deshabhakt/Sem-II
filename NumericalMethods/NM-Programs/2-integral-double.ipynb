{
 "metadata": {
  "language_info": {
   "codemirror_mode": {
    "name": "ipython",
    "version": 3
   },
   "file_extension": ".py",
   "mimetype": "text/x-python",
   "name": "python",
   "nbconvert_exporter": "python",
   "pygments_lexer": "ipython3",
   "version": "3.8.5"
  },
  "orig_nbformat": 2,
  "kernelspec": {
   "name": "python3",
   "display_name": "Python 3",
   "language": "python"
  }
 },
 "nbformat": 4,
 "nbformat_minor": 2,
 "cells": [
  {
   "cell_type": "code",
   "execution_count": 9,
   "metadata": {},
   "outputs": [],
   "source": [
    "import numpy as np\n",
    "from math import *"
   ]
  },
  {
   "cell_type": "code",
   "execution_count": 10,
   "metadata": {},
   "outputs": [],
   "source": [
    "def print_d(V):\n",
    "    if isinstance(V, list):\n",
    "        for i in V:\n",
    "            a = i[0]\n",
    "            b = i[1]\n",
    "            c = i[2]\n",
    "            print(f'f{a}{b} = {c}')\n",
    "    \n",
    "    else:\n",
    "        n = len(V)\n",
    "        m = len(V[0])\n",
    "        for i in range(n):\n",
    "            for j in range(m):\n",
    "                        \n",
    "                print(f'{V[i][j]:15.08f}' ,  end=\"  \")\n",
    "                \n",
    "            print()\n",
    "        print()"
   ]
  },
  {
   "cell_type": "code",
   "execution_count": 11,
   "metadata": {},
   "outputs": [],
   "source": [
    "def trapezoidalMethod_double_integral(f,a,b,c,d,m,n,printMatrix=False):   # m -> number of intervals in x-direction; n-> number of intervals in y-dir\n",
    "    res = np.zeros((m+1,n+1))\n",
    "    h = abs(b-a)/m\n",
    "    k = abs(d-c)/n\n",
    "\n",
    "    x = a\n",
    "    for i in range(m+1):\n",
    "        y = c\n",
    "        for j in range(n+1):\n",
    "            res[i,j] = f(x,y)\n",
    "            y = y + k\n",
    "        x = x + h\n",
    "\n",
    "    integration = 0\n",
    "\n",
    "    corner = []\n",
    "    rem = []\n",
    "    inner = []\n",
    "\n",
    "    for i in range(m+1):\n",
    "        for j in range(n+1):\n",
    "            if((i==0 and j==0) or (i==m and j==n) or (i==0 and j==n) or (i==m and j==0)):       # Corner Elements\n",
    "                integration += res[i,j]\n",
    "                corner.append((i,j,res[i,j]))\n",
    "\n",
    "            elif((i>0 and i<m) and (j>0 and j<n)):                                              # Interior elements\n",
    "                integration += 4*res[i,j]\n",
    "                inner.append((i,j,res[i,j]))\n",
    "\n",
    "            else:                                                                               # Elements remaining at boundry\n",
    "                integration += 2*res[i,j]\n",
    "                rem.append((i,j,res[i,j]))\n",
    "\n",
    "\n",
    "    integration = ((h*k)/4)*integration\n",
    "    if printMatrix==True:\n",
    "        print_d(res)\n",
    "        print('\\nCorner terms = ')\n",
    "        print_d(corner)\n",
    "        print('\\nRemaining at boundry = ')\n",
    "        print_d(rem)\n",
    "        print('\\nInterior terms =')\n",
    "        print_d(inner)\n",
    "        \n",
    "    return integration"
   ]
  },
  {
   "cell_type": "code",
   "execution_count": 12,
   "metadata": {},
   "outputs": [],
   "source": [
    "def simpsonsMethod_double_integral(f,a,b,c,d,m,n,printMatrix=False):      # m -> number of intervals in x-direction; n-> number of intervals in y-dir\n",
    "    res = np.zeros((m+1,n+1))\n",
    "    h = abs(b-a)/m\n",
    "    k = abs(d-c)/n\n",
    "\n",
    "    x = a\n",
    "    for i in range(m+1):\n",
    "        y = c\n",
    "        for j in range(n+1):\n",
    "            res[i,j] = f(x,y)\n",
    "            y = y + k\n",
    "        x = x + h\n",
    "\n",
    "    integration = 0\n",
    "    \n",
    "    corner = []\n",
    "    rem = []\n",
    "    inner = []\n",
    "\n",
    "    for i in range(m+1):\n",
    "        for j in range(n+1):\n",
    "            if((i==0 and j==0) or (i==m and j==n) or (i==0 and j==n) or (i==m and j==0)):   # Corner Elements\n",
    "                integration += res[i,j]\n",
    "                corner.append((i,j,res[i,j]))\n",
    "            \n",
    "            elif((i>0 and i<m) and (j>0 and j<n)):                                          # Interior elements\n",
    "                integration += 16*res[i,j]\n",
    "                inner.append((i,j,res[i,j]))\n",
    "            \n",
    "            else:                                                                           # Elements remaining at boundry\n",
    "                integration += 4*res[i,j]\n",
    "                rem.append((i,j,res[i,j]))\n",
    "\n",
    "    integration = ((h*k)/9)*integration\n",
    "    \n",
    "    if printMatrix==True:\n",
    "        print_d(res)\n",
    "        print('\\nCorner terms = ')\n",
    "        print_d(corner)\n",
    "        print('\\nRemaining at boundry = ')\n",
    "        print_d(rem)\n",
    "        print('\\nInterior terms =')\n",
    "        print_d(inner)\n",
    "\n",
    "    return integration"
   ]
  },
  {
   "source": [
    "def f(x,y):\n",
    "    return 1/(x+y)"
   ],
   "cell_type": "code",
   "metadata": {},
   "execution_count": 13,
   "outputs": []
  },
  {
   "cell_type": "code",
   "execution_count": 14,
   "metadata": {},
   "outputs": [],
   "source": [
    "a = 1\n",
    "b = 2\n",
    "c = 1\n",
    "d = 2\n",
    "\n",
    "n = 2\n",
    "m = 2\n",
    "\n",
    "show_Matrix_output = False"
   ]
  },
  {
   "cell_type": "code",
   "execution_count": 15,
   "metadata": {},
   "outputs": [
    {
     "output_type": "execute_result",
     "data": {
      "text/plain": [
       "0.3433035714285714"
      ]
     },
     "metadata": {},
     "execution_count": 15
    }
   ],
   "source": [
    "trapezoidalMethod_double_integral(f,a,b,c,d,m,n,show_Matrix_output)"
   ]
  },
  {
   "cell_type": "code",
   "execution_count": 16,
   "metadata": {},
   "outputs": [
    {
     "output_type": "execute_result",
     "data": {
      "text/plain": [
       "0.33988095238095234"
      ]
     },
     "metadata": {},
     "execution_count": 16
    }
   ],
   "source": [
    "simpsonsMethod_double_integral(f,a,b,c,d,m,n,show_Matrix_output)"
   ]
  }
 ]
}