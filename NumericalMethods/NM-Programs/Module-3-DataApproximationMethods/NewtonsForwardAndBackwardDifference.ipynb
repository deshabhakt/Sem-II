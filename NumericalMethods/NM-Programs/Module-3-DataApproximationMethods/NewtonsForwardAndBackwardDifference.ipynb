{
 "metadata": {
  "language_info": {
   "codemirror_mode": {
    "name": "ipython",
    "version": 3
   },
   "file_extension": ".py",
   "mimetype": "text/x-python",
   "name": "python",
   "nbconvert_exporter": "python",
   "pygments_lexer": "ipython3",
   "version": "3.9.2"
  },
  "orig_nbformat": 2,
  "kernelspec": {
   "name": "python3",
   "display_name": "Python 3",
   "language": "python"
  }
 },
 "nbformat": 4,
 "nbformat_minor": 2,
 "cells": [
  {
   "source": [
    "# Newton's Forward and Backward Difference Methods"
   ],
   "cell_type": "markdown",
   "metadata": {}
  },
  {
   "cell_type": "code",
   "execution_count": 1,
   "metadata": {},
   "outputs": [],
   "source": [
    "import numpy as np\n",
    "from math import *\n",
    "import copy"
   ]
  },
  {
   "cell_type": "code",
   "execution_count": 2,
   "metadata": {},
   "outputs": [],
   "source": [
    "def printMatrix(V):\n",
    "    m = len(V)\n",
    "    n = len(V[0])\n",
    "    for i in range(m):\n",
    "        for j in range(n):\n",
    "            print(f'{V[i][j]:15.06f}' ,  end=\"  \")\n",
    "        print()\n",
    "    print()\n",
    "    "
   ]
  },
  {
   "source": [
    "## Forward Difference"
   ],
   "cell_type": "markdown",
   "metadata": {}
  },
  {
   "cell_type": "code",
   "execution_count": 3,
   "metadata": {},
   "outputs": [],
   "source": [
    "def NFDI(x,y,n,a):\n",
    "\n",
    "    print(\"\\n*** Newton's Forward Difference Method ***\\n\")\n",
    "    # Forming Forward difference table\n",
    "\n",
    "    NFDTable = np.zeros((n,n+1))\n",
    "    for i in range(n):\n",
    "        NFDTable[i][0] = x[i]\n",
    "    for i in range(n):\n",
    "        NFDTable[i][1] = y[i]\n",
    "    for i in range(2,n+1):\n",
    "        for j in range(0,n+1-(i)):\n",
    "            NFDTable[j][i] = NFDTable[j+1][i-1] - NFDTable[j][i-1]\n",
    "\n",
    "    print(\"Forward Difference Table:\\n\")\n",
    "    printMatrix(NFDTable)\n",
    "\n",
    "    # Calculating h\n",
    "    h = NFDTable[2][0] - NFDTable[1][0]\n",
    "    \n",
    "    # defining x0\n",
    "    x0 = x[0]\n",
    "\n",
    "    # Calculating r\n",
    "    r = (a-x0)/h\n",
    "    print(f\"x0 = {x0}       h = {h}     r = {r:f}\")\n",
    "\n",
    "    # Finding f(x)\n",
    "    exp = copy.copy(NFDTable[0][1])\n",
    "    Poly_deg = 0\n",
    "\n",
    "    for i in range(2,n+1):\n",
    "\n",
    "        rvals = np.arange(i-1)\n",
    "        p = 1\n",
    "        for j in rvals:\n",
    "            p = p* (r-j)\n",
    "        \n",
    "        t = ((p*NFDTable[0][i])/factorial(i-1))\n",
    "        if(t!=0):\n",
    "            Poly_deg +=1\n",
    "        exp =  exp + t\n",
    "\n",
    "    print(f\"f({a}) = {exp}\") \n",
    "    print(f\"\\nDegree of Polynomial = {Poly_deg}\")"
   ]
  },
  {
   "source": [
    "## Backward Difference"
   ],
   "cell_type": "markdown",
   "metadata": {}
  },
  {
   "cell_type": "code",
   "execution_count": 4,
   "metadata": {},
   "outputs": [],
   "source": [
    "def NBDI(x,y,n,a):\n",
    "    \n",
    "    print(\"\\n*** Newton's Backward Difference Method ***\\n\")\n",
    "    # Forming Backward difference table\n",
    "\n",
    "    NBDTable = np.zeros((n,n+1))\n",
    "    for i in range(n):\n",
    "        NBDTable[i][0] = x[i]\n",
    "    for i in range(n):\n",
    "        NBDTable[i][1] = y[i]\n",
    "    for i in range(2,n+1):\n",
    "        for j in range(n-1,i-2,-1):\n",
    "            NBDTable[j][i] = NBDTable[j][i-1] - NBDTable[j-1][i-1]\n",
    "    \n",
    "    print(\"Backward Difference Table:\\n\")\n",
    "    printMatrix(NBDTable)\n",
    "\n",
    "    # Calculating h\n",
    "    h = NBDTable[2][0] - NBDTable[1][0]\n",
    "    \n",
    "    # defining x0\n",
    "    x0 = x[n-1]\n",
    "\n",
    "    # Calculating r\n",
    "    r = (a-x0)/h\n",
    "    print(f\"x0 = {x0}       h = {h}     r = {r:f}\")\n",
    "\n",
    "    \n",
    "    # Finding f(x)\n",
    "    exp = copy.copy(NBDTable[n-1][1])\n",
    "    Poly_deg = 0\n",
    "    for i in range(2,n+1):\n",
    "\n",
    "        rvals = np.arange(i-1)\n",
    "        p = 1\n",
    "        for j in rvals:\n",
    "            p = p* (r+j)\n",
    "        \n",
    "        t = (p*NBDTable[n-1][i])/factorial(i-1)\n",
    "        \n",
    "        if(t!=0):\n",
    "            Poly_deg +=1\n",
    "\n",
    "        exp =  exp + t\n",
    "\n",
    "    print(f\"\\nf({a}) = {exp}\") \n",
    "    print(f\"\\nDegree of Polynomial = {Poly_deg}\")\n"
   ]
  },
  {
   "source": [
    "## Input Section"
   ],
   "cell_type": "markdown",
   "metadata": {}
  },
  {
   "cell_type": "code",
   "execution_count": 5,
   "metadata": {},
   "outputs": [
    {
     "output_type": "stream",
     "name": "stdout",
     "text": [
      "\n*** Newton's Backward Difference Method ***\n\nBackward Difference Table:\n\n    1891.000000        46.000000         0.000000         0.000000         0.000000         0.000000  \n    1901.000000        66.000000        20.000000         0.000000         0.000000         0.000000  \n    1911.000000        81.000000        15.000000        -5.000000         0.000000         0.000000  \n    1921.000000        93.000000        12.000000        -3.000000         2.000000         0.000000  \n    1931.000000       101.000000         8.000000        -4.000000        -1.000000        -3.000000  \n\nx0 = 1931       h = 10.0     r = -3.600000\n\nf(1895) = 54.85280000000001\n\nDegree of Polynomial = 4\n"
     ]
    }
   ],
   "source": [
    "n = 5\n",
    "\n",
    "x = np.array([1891,1901,1911,1921,1931])\n",
    "y = np.array([46,66,81,93,101])\n",
    "a = 1895\n",
    "NBDI(x,y,n,a)\n",
    "# x = np.array([1.,1.3,1.6,1.9,2.2])\n",
    "# y = np.array([0.7651977,0.6200860,0.4554022,0.2818186,0.1103623])\n",
    "# a = 1.1\n"
   ]
  },
  {
   "source": [
    "n = 5\n",
    "x = np.array([1,2,3,4,5])\n",
    "y = np.array([26,18,4,1,26])\n",
    "a = 1.1\n",
    "NFDI(x,y,n,a)\n",
    "n=4\n",
    "NFDI(x,y,n,a)"
   ],
   "cell_type": "code",
   "metadata": {},
   "execution_count": 6,
   "outputs": [
    {
     "output_type": "stream",
     "name": "stdout",
     "text": [
      "\n*** Newton's Forward Difference Method ***\n\nForward Difference Table:\n\n       1.000000        26.000000        -8.000000        -6.000000        17.000000         0.000000  \n       2.000000        18.000000       -14.000000        11.000000        17.000000         0.000000  \n       3.000000         4.000000        -3.000000        28.000000         0.000000         0.000000  \n       4.000000         1.000000        25.000000         0.000000         0.000000         0.000000  \n       5.000000        26.000000         0.000000         0.000000         0.000000         0.000000  \n\nx0 = 1       h = 1.0     r = 0.100000\nf(1.1) = 25.9545\n\nDegree of Polynomial = 3\n\n*** Newton's Forward Difference Method ***\n\nForward Difference Table:\n\n       1.000000        26.000000        -8.000000        -6.000000        17.000000  \n       2.000000        18.000000       -14.000000        11.000000         0.000000  \n       3.000000         4.000000        -3.000000         0.000000         0.000000  \n       4.000000         1.000000         0.000000         0.000000         0.000000  \n\nx0 = 1       h = 1.0     r = 0.100000\nf(1.1) = 25.9545\n\nDegree of Polynomial = 3\n"
     ]
    }
   ]
  },
  {
   "cell_type": "code",
   "execution_count": 7,
   "metadata": {},
   "outputs": [
    {
     "output_type": "stream",
     "name": "stdout",
     "text": [
      "\n*** Newton's Forward Difference Method ***\n\nForward Difference Table:\n\n      45.000000         0.707100         0.058900        -0.005700        -0.000700  \n      50.000000         0.766000         0.053200        -0.006400         0.000000  \n      55.000000         0.819200         0.046800         0.000000         0.000000  \n      60.000000         0.866000         0.000000         0.000000         0.000000  \n\nx0 = 45       h = 5.0     r = 1.400000\nf(52) = 0.7880032\n\nDegree of Polynomial = 3\n"
     ]
    }
   ],
   "source": [
    "n = 4\n",
    "x = np.array([45,50,55,60])\n",
    "y = np.array([0.7071,.7660,.8192,0.8660])\n",
    "a = 52\n",
    "\n",
    "NFDI(x,y,n,a)"
   ]
  },
  {
   "cell_type": "code",
   "execution_count": 8,
   "metadata": {},
   "outputs": [
    {
     "output_type": "stream",
     "name": "stdout",
     "text": [
      "\n*** Newton's Backward Difference Method ***\n\nBackward Difference Table:\n\n      45.000000         0.707100         0.000000         0.000000         0.000000  \n      50.000000         0.766000         0.058900         0.000000         0.000000  \n      55.000000         0.819200         0.053200        -0.005700         0.000000  \n      60.000000         0.866000         0.046800        -0.006400        -0.000700  \n\nx0 = 60       h = 5.0     r = -1.600000\n\nf(52) = 0.7880032\n\nDegree of Polynomial = 3\n"
     ]
    }
   ],
   "source": [
    "a = 52\n",
    "NBDI(x,y,n,a)\n"
   ]
  },
  {
   "cell_type": "code",
   "execution_count": 9,
   "metadata": {},
   "outputs": [
    {
     "output_type": "stream",
     "name": "stdout",
     "text": [
      "\n*** Newton's Forward Difference Method ***\n\nForward Difference Table:\n\n       0.000000         1.000000         6.000000        10.000000         6.000000         0.000000  \n       1.000000         7.000000        16.000000        16.000000         6.000000         0.000000  \n       2.000000        23.000000        32.000000        22.000000         0.000000         0.000000  \n       3.000000        55.000000        54.000000         0.000000         0.000000         0.000000  \n       4.000000       109.000000         0.000000         0.000000         0.000000         0.000000  \n\nx0 = 0       h = 1.0     r = 0.500000\nf(0.5) = 3.125\n\nDegree of Polynomial = 3\n\n*** Newton's Forward Difference Method ***\n\nForward Difference Table:\n\n       0.000000         1.000000         6.000000        10.000000         6.000000         0.000000  \n       1.000000         7.000000        16.000000        16.000000         6.000000         0.000000  \n       2.000000        23.000000        32.000000        22.000000         0.000000         0.000000  \n       3.000000        55.000000        54.000000         0.000000         0.000000         0.000000  \n       4.000000       109.000000         0.000000         0.000000         0.000000         0.000000  \n\nx0 = 0       h = 1.0     r = 1.500000\nf(1.5) = 13.375\n\nDegree of Polynomial = 3\n"
     ]
    }
   ],
   "source": [
    "n = 5\n",
    "x = np.array([0,1,2,3,4])\n",
    "y = np.array([1,7,23,55,109])\n",
    "NFDI(x,y,n,0.5)\n",
    "NFDI(x,y,n,1.5)"
   ]
  },
  {
   "cell_type": "code",
   "execution_count": null,
   "metadata": {},
   "outputs": [],
   "source": []
  }
 ]
}