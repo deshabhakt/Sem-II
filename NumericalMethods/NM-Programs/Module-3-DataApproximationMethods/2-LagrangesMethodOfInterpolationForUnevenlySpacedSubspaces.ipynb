{
 "metadata": {
  "language_info": {
   "codemirror_mode": {
    "name": "ipython",
    "version": 3
   },
   "file_extension": ".py",
   "mimetype": "text/x-python",
   "name": "python",
   "nbconvert_exporter": "python",
   "pygments_lexer": "ipython3",
   "version": "3.8.5"
  },
  "orig_nbformat": 2,
  "kernelspec": {
   "name": "python3",
   "display_name": "Python 3",
   "language": "python"
  }
 },
 "nbformat": 4,
 "nbformat_minor": 2,
 "cells": [
  {
   "cell_type": "code",
   "execution_count": 1,
   "metadata": {},
   "outputs": [],
   "source": [
    "import numpy as np\n",
    "import copy"
   ]
  },
  {
   "cell_type": "code",
   "execution_count": 2,
   "metadata": {},
   "outputs": [],
   "source": [
    "def LagrangeInterpolation(x,y,a):\n",
    "    n = len(x)\n",
    "\n",
    "    lmultiplier =[]\n",
    "    result = 0\n",
    "    for i in range(n):\n",
    "        numerator = 1\n",
    "        denominator = 1\n",
    "        for j in range(n):\n",
    "            if(i!=j):\n",
    "                numerator = numerator*(a-x[j])\n",
    "                denominator = denominator*(x[i]-x[j])\n",
    "                \n",
    "        result += (numerator/denominator)*(y[i])\n",
    "        lmultiplier.append([(i+1),(numerator/denominator),y[i]])\n",
    "        \n",
    "    \n",
    "    return result, lmultiplier"
   ]
  },
  {
   "cell_type": "code",
   "execution_count": 3,
   "metadata": {},
   "outputs": [
    {
     "output_type": "stream",
     "name": "stdout",
     "text": [
      "2.1262809716525974\n"
     ]
    }
   ],
   "source": [
    "x = np.array([8,27,64,125])\n",
    "y = np.array([2,3,4,5])\n",
    "\n",
    "p = 10\n",
    "\n",
    "result, lmultipliers = LagrangeInterpolation(x,y,p)\n",
    "print(result)"
   ]
  },
  {
   "cell_type": "code",
   "execution_count": 4,
   "metadata": {},
   "outputs": [
    {
     "output_type": "stream",
     "name": "stdout",
     "text": [
      "[[1, 0.8480335454019664, 2], [2, 0.18027694719424042, 3], [3, -0.030935502246977657, 4], [4, 0.0026250096507707747, 5]]\n"
     ]
    }
   ],
   "source": [
    "print(lmultipliers)"
   ]
  }
 ]
}