{
 "metadata": {
  "language_info": {
   "codemirror_mode": {
    "name": "ipython",
    "version": 3
   },
   "file_extension": ".py",
   "mimetype": "text/x-python",
   "name": "python",
   "nbconvert_exporter": "python",
   "pygments_lexer": "ipython3",
   "version": "3.9.2"
  },
  "orig_nbformat": 2,
  "kernelspec": {
   "name": "python3",
   "display_name": "Python 3",
   "language": "python"
  }
 },
 "nbformat": 4,
 "nbformat_minor": 2,
 "cells": [
  {
   "cell_type": "code",
   "execution_count": 3,
   "metadata": {},
   "outputs": [],
   "source": [
    "import numpy as np\n",
    "import copy"
   ]
  },
  {
   "cell_type": "code",
   "execution_count": 8,
   "metadata": {},
   "outputs": [],
   "source": [
    "def LagrangeInterpolation(x,y,a):\n",
    "    n = len(x)\n",
    "\n",
    "    lmultiplier =[]\n",
    "    result = 0\n",
    "    for i in range(n):\n",
    "        numerator = 0\n",
    "        denominator = 0\n",
    "        for j in range(n):\n",
    "            if(i!=j):\n",
    "                numerator += (a-x[j])\n",
    "            denominator +=(x[i]-x[j])\n",
    "        lmultiplier.append([(i+1),(numerator/denominator)])\n",
    "        result += (numerator/denominator)*(y[i])\n",
    "    \n",
    "    return result, lmultiplier"
   ]
  },
  {
   "cell_type": "code",
   "execution_count": 10,
   "metadata": {},
   "outputs": [
    {
     "output_type": "stream",
     "name": "stdout",
     "text": [
      "1180.769230769231\n"
     ]
    }
   ],
   "source": [
    "x = np.array([1,3,4,6,10])\n",
    "y = np.array([0,18,48,180,900])\n",
    "\n",
    "a = 9.5\n",
    "\n",
    "result, lmultipliers = LagrangeInterpolation(x,y,a)\n",
    "print(result)"
   ]
  },
  {
   "cell_type": "code",
   "execution_count": null,
   "metadata": {},
   "outputs": [],
   "source": []
  }
 ]
}