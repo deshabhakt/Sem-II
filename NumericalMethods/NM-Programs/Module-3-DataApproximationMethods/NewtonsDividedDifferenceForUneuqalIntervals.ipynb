{
 "metadata": {
  "language_info": {
   "codemirror_mode": {
    "name": "ipython",
    "version": 3
   },
   "file_extension": ".py",
   "mimetype": "text/x-python",
   "name": "python",
   "nbconvert_exporter": "python",
   "pygments_lexer": "ipython3",
   "version": "3.9.2"
  },
  "orig_nbformat": 2,
  "kernelspec": {
   "name": "python3",
   "display_name": "Python 3",
   "language": "python"
  }
 },
 "nbformat": 4,
 "nbformat_minor": 2,
 "cells": [
  {
   "cell_type": "code",
   "execution_count": 5,
   "metadata": {},
   "outputs": [],
   "source": [
    "import numpy as np\n",
    "import copy"
   ]
  },
  {
   "cell_type": "code",
   "execution_count": 6,
   "metadata": {},
   "outputs": [],
   "source": [
    "def printMatrix(V):\n",
    "    m = len(V)\n",
    "    n = len(V[0])\n",
    "    for i in range(m):\n",
    "        for j in range(n):\n",
    "            if(j>=2 and i!=0 and V[i][j]==0):\n",
    "                print(\"\",end=\"  \")\n",
    "            else:\n",
    "                print(f'{V[i][j]:10.04f}' ,  end=\"  \")\n",
    "        print()\n",
    "    print()"
   ]
  },
  {
   "source": [
    "# Function for Newton's Divided Difference Method"
   ],
   "cell_type": "markdown",
   "metadata": {}
  },
  {
   "cell_type": "code",
   "execution_count": 7,
   "metadata": {},
   "outputs": [],
   "source": [
    "def NDD(x,y,a):\n",
    "    n = len(x)\n",
    "\n",
    "    NDDTable = np.zeros((n,n+1))\n",
    "\n",
    "    for i in range(n):\n",
    "        NDDTable[i][0] = x[i]\n",
    "        NDDTable[i][1] = y[i]\n",
    "\n",
    "    # Calculating Table\n",
    "    for i in range(2, n+1):\n",
    "        for j in range(0,n - i+1):\n",
    "            NDDTable[j][i] = ((NDDTable[j][i - 1] - NDDTable[j + 1][i - 1])/(NDDTable[j][0] - NDDTable[i + j-1][0]))\n",
    "    \n",
    "    Poly_deg = 0\n",
    "    # Calculating interpolation Value\n",
    "    ans = copy.copy(NDDTable[0][1])\n",
    "    for i in range(2,n+1):\n",
    "        p = 1\n",
    "        for j in range(i-1):\n",
    "            p *= (a-NDDTable[j][0])\n",
    "        \n",
    "        t = (p*NDDTable[0][i])\n",
    "        if(t!=0):\n",
    "            Poly_deg +=1\n",
    "        ans += t\n",
    "    \n",
    "    print(\"Table of Newton's Divided Difference Method:\\n\")\n",
    "    printMatrix(NDDTable)\n",
    "\n",
    "    print(f\"\\nf({a}) = {ans:3.06f}\")\n",
    "    \n",
    "    print(f\"\\nDegree of Polynomial = {Poly_deg}\")\n"
   ]
  },
  {
   "source": [
    "# Input Section"
   ],
   "cell_type": "markdown",
   "metadata": {}
  },
  {
   "cell_type": "code",
   "execution_count": 8,
   "metadata": {},
   "outputs": [
    {
     "output_type": "stream",
     "name": "stdout",
     "text": [
      "Table of Newton's Divided Difference Method:\n\n    0.0000      0.0000      1.0000      3.0000      1.0000     -0.0000  \n    1.0000      1.0000      7.0000      6.0000      1.0000    \n    2.0000      8.0000     19.0000      9.0000      \n    3.0000     27.0000     37.0000        \n    4.0000     64.0000          \n\n\nf(5) = 125.000000\n\nDegree of Polynomial = 3\n"
     ]
    }
   ],
   "source": [
    "# x = np.array([ 5, 6, 9, 11 ]) \n",
    "# y = np.array([12, 13, 14, 16])\n",
    "\n",
    "x = np.array([0, 1, 2, 3, 4])\n",
    "y = np.array([0, 1, 8, 27, 64])\n",
    "\n",
    "a = 5\n",
    "\n",
    "NDD(x, y, a)"
   ]
  }
 ]
}