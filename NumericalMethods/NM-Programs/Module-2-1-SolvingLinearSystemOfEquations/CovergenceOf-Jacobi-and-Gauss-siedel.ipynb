{
 "metadata": {
  "language_info": {
   "codemirror_mode": {
    "name": "ipython",
    "version": 3
   },
   "file_extension": ".py",
   "mimetype": "text/x-python",
   "name": "python",
   "nbconvert_exporter": "python",
   "pygments_lexer": "ipython3",
   "version": "3.7.3-final"
  },
  "orig_nbformat": 2,
  "kernelspec": {
   "name": "python3",
   "display_name": "Python 3.7.3 64-bit",
   "metadata": {
    "interpreter": {
     "hash": "e7370f93d1d0cde622a1f8e1c04877d8463912d04d973331ad4851f04de6915a"
    }
   }
  }
 },
 "nbformat": 4,
 "nbformat_minor": 2,
 "cells": [
  {
   "cell_type": "code",
   "execution_count": 1,
   "metadata": {},
   "outputs": [],
   "source": [
    "import numpy as np\n",
    "import copy"
   ]
  },
  {
   "cell_type": "code",
   "execution_count": 2,
   "metadata": {},
   "outputs": [],
   "source": [
    "def printMatrix(V):\n",
    "    n = len(V)\n",
    "    m = len(V[0])\n",
    "    for i in range(n):\n",
    "        for j in range(m):\n",
    "                     \n",
    "            print(f'{V[i][j]:15.08f}' ,  end=\"  \")\n",
    "            \n",
    "        print()\n",
    "    print()"
   ]
  },
  {
   "source": [
    "### Input Section"
   ],
   "cell_type": "markdown",
   "metadata": {}
  },
  {
   "cell_type": "code",
   "execution_count": 3,
   "metadata": {},
   "outputs": [],
   "source": [
    "n = 3\n",
    "A = np.array([\n",
    "    [2.,-1.,1.],\n",
    "    [2.,2.,2.],\n",
    "    [-1.,-1.,2.]\n",
    "    ])\n"
   ]
  },
  {
   "cell_type": "code",
   "execution_count": 4,
   "metadata": {},
   "outputs": [
    {
     "output_type": "stream",
     "name": "stdout",
     "text": [
      "     2.00000000       0.00000000       0.00000000  \n     0.00000000       2.00000000       0.00000000  \n     0.00000000       0.00000000       2.00000000  \n\n     0.00000000       0.00000000       0.00000000  \n    -2.00000000       0.00000000       0.00000000  \n     1.00000000       1.00000000       0.00000000  \n\n     0.00000000       1.00000000      -1.00000000  \n     0.00000000       0.00000000      -2.00000000  \n     0.00000000       0.00000000       0.00000000  \n\n"
     ]
    }
   ],
   "source": [
    "# Making D, L, U\n",
    "\n",
    "D = np.zeros((n,n))\n",
    "L = np.zeros((n,n))\n",
    "U = np.zeros((n,n))\n",
    "\n",
    "for i in range(n):\n",
    "    for j in range(n):\n",
    "        if i<j:\n",
    "            U[i][j] = copy.copy(-A[i][j])\n",
    "        elif i>j:\n",
    "            L[i][j] = copy.copy(-A[i][j])\n",
    "        else:\n",
    "            D[i][j] = copy.copy(A[i][j])\n",
    "\n",
    "printMatrix(D)\n",
    "printMatrix(L)\n",
    "printMatrix(U)"
   ]
  },
  {
   "source": [
    "### Convergence of Jacobi Method"
   ],
   "cell_type": "markdown",
   "metadata": {}
  },
  {
   "cell_type": "code",
   "execution_count": 5,
   "metadata": {},
   "outputs": [
    {
     "output_type": "stream",
     "name": "stdout",
     "text": [
      "inverse(D) = \n     0.50000000       0.00000000       0.00000000  \n     0.00000000       0.50000000       0.00000000  \n     0.00000000       0.00000000       0.50000000  \n\nG = \n     0.00000000       0.50000000      -0.50000000  \n    -1.00000000       0.00000000      -1.00000000  \n     0.50000000       0.50000000       0.00000000  \n\nEigen Values are:\n[5.55111512e-17+1.11803399j 5.55111512e-17-1.11803399j\n 2.60097238e-17+0.j        ]\n"
     ]
    }
   ],
   "source": [
    "# Jacobi G = inv(D)*(L+U)\n",
    "invD = np.linalg.inv(D)\n",
    "print(\"inverse(D) = \")\n",
    "printMatrix(invD)\n",
    "G = np.matmul(invD,(L+U))\n",
    "print(\"G = \")\n",
    "printMatrix(G)\n",
    "X,V = np.linalg.eig(G)\n",
    "print(\"Eigen Values are:\")\n",
    "print(X)"
   ]
  },
  {
   "source": [
    "### Convergence of Gauss-Siedel Method"
   ],
   "cell_type": "markdown",
   "metadata": {}
  },
  {
   "cell_type": "code",
   "execution_count": 6,
   "metadata": {},
   "outputs": [
    {
     "output_type": "stream",
     "name": "stdout",
     "text": [
      "     0.50000000       0.00000000       0.00000000  \n    -0.50000000       0.50000000       0.00000000  \n     0.00000000       0.25000000       0.50000000  \n\n     0.00000000       0.50000000      -0.50000000  \n     0.00000000      -0.50000000      -0.50000000  \n     0.00000000       0.00000000      -0.50000000  \n\nEigen Values are:\n[ 0.  -0.5 -0.5]\n"
     ]
    }
   ],
   "source": [
    "# Gauss-Siedel  G = (inv(D-L))*U\n",
    "DL = D-L\n",
    "invDL = np.linalg.inv(DL)\n",
    "printMatrix(invDL)\n",
    "G = np.matmul(invDL,U)\n",
    "printMatrix(G)\n",
    "X,V = np.linalg.eig(G)\n",
    "print(\"Eigen Values are:\")\n",
    "print(X)"
   ]
  }
 ]
}