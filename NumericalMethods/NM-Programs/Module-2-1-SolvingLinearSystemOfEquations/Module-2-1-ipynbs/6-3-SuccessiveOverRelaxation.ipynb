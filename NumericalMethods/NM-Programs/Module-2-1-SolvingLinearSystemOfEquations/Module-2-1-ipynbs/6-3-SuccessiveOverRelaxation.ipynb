{
 "metadata": {
  "language_info": {
   "codemirror_mode": {
    "name": "ipython",
    "version": 3
   },
   "file_extension": ".py",
   "mimetype": "text/x-python",
   "name": "python",
   "nbconvert_exporter": "python",
   "pygments_lexer": "ipython3",
   "version": "3.9.1-final"
  },
  "orig_nbformat": 2,
  "kernelspec": {
   "name": "python3",
   "display_name": "Python 3.9.1 64-bit",
   "metadata": {
    "interpreter": {
     "hash": "0666fee326dc6c7ef39c32ad6be1cd19b125cde6d4697bcb018259ae008181e2"
    }
   }
  }
 },
 "nbformat": 4,
 "nbformat_minor": 2,
 "cells": [
  {
   "cell_type": "code",
   "execution_count": null,
   "metadata": {},
   "outputs": [],
   "source": []
  },
  {
   "cell_type": "code",
   "execution_count": 8,
   "metadata": {},
   "outputs": [],
   "source": [
    "import numpy as np\n",
    "import copy"
   ]
  },
  {
   "cell_type": "code",
   "execution_count": 9,
   "metadata": {},
   "outputs": [],
   "source": [
    "def printMatrix(V):\r\n",
    "    n = len(V)\r\n",
    "    m = len(V[0])\r\n",
    "    for i in range(n):\r\n",
    "        for j in range(m):\r\n",
    "                     \r\n",
    "            print(f'{V[i][j]:15.08f}' ,  end=\"  \")\r\n",
    "            \r\n",
    "        print()\r\n",
    "    print()"
   ]
  },
  {
   "cell_type": "code",
   "execution_count": 10,
   "metadata": {},
   "outputs": [],
   "source": [
    "# Diagonal Dominant is only a sufficient condition for convergence. it's not a necessary condition.\n",
    "\n",
    "def dom(A,n):\n",
    "    for i in range(n):\n",
    "        sum = 0\n",
    "        for j in range(n):\n",
    "            if(i!=j):\n",
    "                sum+=A[i][j]\n",
    "        if(A[i][i]<sum):\n",
    "            return \"GIVEN MATRIX IS NOT DIAGONALLY DOMINANT\"\n",
    "    return \"GIVEN MATRIX IS DIAGONALLY DOMINANT\""
   ]
  },
  {
   "source": [
    "## Input Section"
   ],
   "cell_type": "markdown",
   "metadata": {}
  },
  {
   "cell_type": "code",
   "execution_count": 11,
   "metadata": {},
   "outputs": [],
   "source": [
    "n = 3\n",
    "A = np.array([[3.0,-2.,1.],[1.,-6.,8.],[2.,3.,-6.]])\n",
    "b = np.array([[3],[2],[1]])"
   ]
  },
  {
   "source": [
    "## Checking for Diagonal Dominance"
   ],
   "cell_type": "markdown",
   "metadata": {}
  },
  {
   "cell_type": "code",
   "execution_count": 12,
   "metadata": {},
   "outputs": [
    {
     "output_type": "execute_result",
     "data": {
      "text/plain": [
       "'GIVEN MATRIX IS NOT DIAGONALLY DOMINANT'"
      ]
     },
     "metadata": {},
     "execution_count": 12
    }
   ],
   "source": [
    "dom(A,n)"
   ]
  },
  {
   "source": [
    "## Making D, L, U\n"
   ],
   "cell_type": "markdown",
   "metadata": {}
  },
  {
   "cell_type": "code",
   "execution_count": 13,
   "metadata": {},
   "outputs": [
    {
     "output_type": "stream",
     "name": "stdout",
     "text": [
      "D = \n     3.00000000       0.00000000       0.00000000  \n     0.00000000      -6.00000000       0.00000000  \n     0.00000000       0.00000000      -6.00000000  \n\nL = \n     0.00000000       0.00000000       0.00000000  \n    -1.00000000       0.00000000       0.00000000  \n    -2.00000000      -3.00000000       0.00000000  \n\nU = \n     0.00000000       2.00000000      -1.00000000  \n     0.00000000       0.00000000      -8.00000000  \n     0.00000000       0.00000000       0.00000000  \n\n"
     ]
    }
   ],
   "source": [
    "D = np.zeros((n,n))\n",
    "L = np.zeros((n,n))\n",
    "U = np.zeros((n,n))\n",
    "\n",
    "for i in range(n):\n",
    "    for j in range(n):\n",
    "        if i<j:\n",
    "            U[i][j] = copy.copy(-A[i][j])\n",
    "        elif i>j:\n",
    "            L[i][j] = copy.copy(-A[i][j])\n",
    "        else:\n",
    "            D[i][j] = copy.copy(A[i][j])\n",
    "\n",
    "print(\"D = \")\n",
    "printMatrix(D)\n",
    "\n",
    "print(\"L = \")\n",
    "printMatrix(L)\n",
    "\n",
    "print(\"U = \")\n",
    "printMatrix(U)"
   ]
  },
  {
   "source": [
    "## Convergence of SOR\n"
   ],
   "cell_type": "markdown",
   "metadata": {}
  },
  {
   "cell_type": "code",
   "execution_count": 14,
   "metadata": {},
   "outputs": [
    {
     "output_type": "stream",
     "name": "stdout",
     "text": [
      "inverse(D-w*L) = \n     0.33333333       0.00000000       0.00000000  \n     0.05555556      -0.16666667      -0.00000000  \n     0.13888889      -0.08333333      -0.16666667  \n\nG = \n     0.00000000       0.66666667      -0.33333333  \n     0.00000000       0.11111111       1.27777778  \n     0.00000000       0.27777778       0.52777778  \n\nc = \n     1.00000000  \n    -0.16666667  \n     0.08333333  \n\n"
     ]
    }
   ],
   "source": [
    "# G = ((D − ωL)^−1) *((1 − ω)D + ωU) and c̄ = (ω(D − ωL)^−1) *b\n",
    "\n",
    "w = 1\n",
    "\n",
    "D_wL = D-(w*L)\n",
    "invD_wL = np.linalg.inv(D_wL)\n",
    "print(\"inverse(D-w*L) = \")\n",
    "printMatrix(invD_wL)\n",
    "\n",
    "wD = (1-w)*D\n",
    "wU = w*U\n",
    "\n",
    "G = np.matmul(invD_wL,(wD+wU))\n",
    "print(\"G = \")\n",
    "printMatrix(G)\n",
    "\n",
    "c = w*np.matmul(invD_wL,b)\n",
    "print(\"c = \")\n",
    "printMatrix(c)"
   ]
  },
  {
   "cell_type": "code",
   "execution_count": 15,
   "metadata": {},
   "outputs": [
    {
     "output_type": "stream",
     "name": "stdout",
     "text": [
      "Eigen Values are:\n0.0\n-0.3116982093056535\n0.9505870981945423\n"
     ]
    }
   ],
   "source": [
    "lambdas, X = np.linalg.eig(G)\n",
    "\n",
    "print(\"Eigen Values are:\")\n",
    "for i in lambdas:\n",
    "    print(i)"
   ]
  },
  {
   "cell_type": "code",
   "execution_count": 16,
   "metadata": {},
   "outputs": [
    {
     "output_type": "stream",
     "name": "stdout",
     "text": [
      "\nSpectral Radius of Matrix G is 0.9505870981945423 and its less than 1.\nTherefore method Converges.\n"
     ]
    }
   ],
   "source": [
    "sp_rad = -1\n",
    "for i in lambdas:\n",
    "    if sp_rad<abs(i):\n",
    "        sp_rad = abs(i)\n",
    "\n",
    "if(sp_rad<1):\n",
    "    print(f'\\nSpectral Radius of Matrix G is {sp_rad} and its less than 1.')\n",
    "    print(f'Therefore method Converges.')\n",
    "else:\n",
    "    print(f'\\nSpectral Radius of Matrix G is {sp_rad} and its greater than 1')"
   ]
  }
 ]
}