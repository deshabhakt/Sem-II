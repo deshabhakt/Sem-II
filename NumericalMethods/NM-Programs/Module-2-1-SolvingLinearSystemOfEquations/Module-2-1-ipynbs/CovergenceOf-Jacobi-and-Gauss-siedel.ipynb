{
 "metadata": {
  "language_info": {
   "codemirror_mode": {
    "name": "ipython",
    "version": 3
   },
   "file_extension": ".py",
   "mimetype": "text/x-python",
   "name": "python",
   "nbconvert_exporter": "python",
   "pygments_lexer": "ipython3",
   "version": "3.9.1-final"
  },
  "orig_nbformat": 2,
  "kernelspec": {
   "name": "python3",
   "display_name": "Python 3.9.1 64-bit",
   "metadata": {
    "interpreter": {
     "hash": "0666fee326dc6c7ef39c32ad6be1cd19b125cde6d4697bcb018259ae008181e2"
    }
   }
  }
 },
 "nbformat": 4,
 "nbformat_minor": 2,
 "cells": [
  {
   "source": [
    "# Convergence of Jacobi, Guass Siedel and SOR Method"
   ],
   "cell_type": "markdown",
   "metadata": {}
  },
  {
   "cell_type": "code",
   "execution_count": 1,
   "metadata": {},
   "outputs": [],
   "source": [
    "import numpy as np\n",
    "import copy"
   ]
  },
  {
   "cell_type": "code",
   "execution_count": 2,
   "metadata": {},
   "outputs": [],
   "source": [
    "def printMatrix(V):\n",
    "    n = len(V)\n",
    "    m = len(V[0])\n",
    "    for i in range(n):\n",
    "        for j in range(m):\n",
    "                     \n",
    "            print(f'{V[i][j]:15.08f}' ,  end=\"  \")\n",
    "            \n",
    "        print()\n",
    "    print()"
   ]
  },
  {
   "source": [
    "## Function for Checking Diagonal Dominance"
   ],
   "cell_type": "markdown",
   "metadata": {}
  },
  {
   "cell_type": "code",
   "execution_count": 3,
   "metadata": {},
   "outputs": [],
   "source": [
    "# Diagonal Dominant is only a sufficient condition for convergence. it's not a necessary condition.\n",
    "\n",
    "def dom(A,n):\n",
    "    for i in range(n):\n",
    "        sum = 0\n",
    "        for j in range(n):\n",
    "            if(i!=j):\n",
    "                sum+=A[i][j]\n",
    "        if(A[i][i]<sum):\n",
    "            return \"GIVEN MATRIX IS NOT DIAGONALLY DOMINANT\"\n",
    "    return \"GIVEN MATRIX IS DIAGONALLY DOMINANT\""
   ]
  },
  {
   "source": [
    "## Input Section"
   ],
   "cell_type": "markdown",
   "metadata": {}
  },
  {
   "cell_type": "code",
   "execution_count": 4,
   "metadata": {},
   "outputs": [],
   "source": [
    "# n = 3\n",
    "\n",
    "# A = np.array([[3.0,-2.,1.],[1.,-6.,8.],[2.,3.,-6.]])\n",
    "# b = np.array([[3],[2],[1]])\n",
    "n=2\n",
    "A = np.array([[3.,9.],[9.,1.]])\n",
    "b = np.array([[24],[30]])"
   ]
  },
  {
   "source": [
    "## Checking for Diagonal Dominance"
   ],
   "cell_type": "markdown",
   "metadata": {}
  },
  {
   "cell_type": "code",
   "execution_count": 5,
   "metadata": {},
   "outputs": [
    {
     "output_type": "execute_result",
     "data": {
      "text/plain": [
       "'GIVEN MATRIX IS NOT DIAGONALLY DOMINANT'"
      ]
     },
     "metadata": {},
     "execution_count": 5
    }
   ],
   "source": [
    "dom(A,n)"
   ]
  },
  {
   "source": [
    "## Making D, L, U"
   ],
   "cell_type": "markdown",
   "metadata": {}
  },
  {
   "cell_type": "code",
   "execution_count": 6,
   "metadata": {},
   "outputs": [
    {
     "output_type": "stream",
     "name": "stdout",
     "text": [
      "D = \n     3.00000000       0.00000000  \n     0.00000000       1.00000000  \n\nL = \n     0.00000000       0.00000000  \n    -9.00000000       0.00000000  \n\nU = \n     0.00000000      -9.00000000  \n     0.00000000       0.00000000  \n\n"
     ]
    }
   ],
   "source": [
    "D = np.zeros((n,n))\n",
    "L = np.zeros((n,n))\n",
    "U = np.zeros((n,n))\n",
    "\n",
    "for i in range(n):\n",
    "    for j in range(n):\n",
    "        if i<j:\n",
    "            U[i][j] = copy.copy(-A[i][j])\n",
    "        elif i>j:\n",
    "            L[i][j] = copy.copy(-A[i][j])\n",
    "        else:\n",
    "            D[i][j] = copy.copy(A[i][j])\n",
    "\n",
    "print(\"D = \")\n",
    "printMatrix(D)\n",
    "\n",
    "print(\"L = \")\n",
    "printMatrix(L)\n",
    "\n",
    "print(\"U = \")\n",
    "printMatrix(U)"
   ]
  },
  {
   "source": [
    "# Convergence of Jacobi Method\n",
    "## Calculating matrix G and c\n"
   ],
   "cell_type": "markdown",
   "metadata": {}
  },
  {
   "cell_type": "code",
   "execution_count": 7,
   "metadata": {},
   "outputs": [
    {
     "output_type": "stream",
     "name": "stdout",
     "text": [
      "inverse(D) = \n     0.33333333       0.00000000  \n     0.00000000       1.00000000  \n\nL + U =\n     0.00000000      -9.00000000  \n    -9.00000000       0.00000000  \n\nG = \n     0.00000000      -3.00000000  \n    -9.00000000       0.00000000  \n\nc = \n     8.00000000  \n    30.00000000  \n\n"
     ]
    }
   ],
   "source": [
    "# Jacobi G = inv(D)*(L+U)       c = inv(D)*b\n",
    "invD = np.linalg.inv(D)\n",
    "print(\"inverse(D) = \")\n",
    "printMatrix(invD)\n",
    "\n",
    "print(\"L + U =\")\n",
    "printMatrix(L+U)\n",
    "\n",
    "Gj = np.matmul(invD,(L+U))\n",
    "print(\"G = \")\n",
    "printMatrix(Gj)\n",
    "\n",
    "cj = np.matmul(invD,b)\n",
    "print(\"c = \")\n",
    "printMatrix(cj)"
   ]
  },
  {
   "source": [
    "## Calculating Eigen Values"
   ],
   "cell_type": "markdown",
   "metadata": {}
  },
  {
   "cell_type": "code",
   "execution_count": 8,
   "metadata": {},
   "outputs": [
    {
     "output_type": "stream",
     "name": "stdout",
     "text": [
      "Eigen Values are:\n5.196152422706631\n-5.196152422706633\n"
     ]
    }
   ],
   "source": [
    "lambdas,X = np.linalg.eig(Gj)\n",
    "\n",
    "print(\"Eigen Values are:\")\n",
    "for i in lambdas:\n",
    "    print(i)\n"
   ]
  },
  {
   "source": [
    "## Calculating Spectral Radius"
   ],
   "cell_type": "markdown",
   "metadata": {}
  },
  {
   "cell_type": "code",
   "execution_count": 9,
   "metadata": {},
   "outputs": [
    {
     "output_type": "stream",
     "name": "stdout",
     "text": [
      "\nSpectral Radius of Matrix G is 5.196152422706633 and its greater than 1\nTherefore does not method converge.\n"
     ]
    }
   ],
   "source": [
    "sp_rad_j = -1\n",
    "for i in lambdas:\n",
    "    if sp_rad_j<abs(i):\n",
    "        sp_rad_j = abs(i)\n",
    "\n",
    "if(sp_rad_j<1):\n",
    "    print(f'\\nSpectral Radius of Matrix G is {sp_rad_j} and its less than 1.')\n",
    "    print(f'Therefore method Converges.')\n",
    "else:\n",
    "    print(f'\\nSpectral Radius of Matrix G is {sp_rad_j} and its greater than 1')\n",
    "    print(f'Therefore does not method converge.')\n"
   ]
  },
  {
   "source": [
    "# Convergence of Gauss-Siedel Method\n",
    "## Calculating matrix G and c"
   ],
   "cell_type": "markdown",
   "metadata": {}
  },
  {
   "cell_type": "code",
   "execution_count": 10,
   "metadata": {},
   "outputs": [
    {
     "output_type": "stream",
     "name": "stdout",
     "text": [
      "inverse(D-L) = \n     0.33333333       0.00000000  \n    -3.00000000       1.00000000  \n\nG = \n     0.00000000      -3.00000000  \n     0.00000000      27.00000000  \n\nc = \n     8.00000000  \n   -42.00000000  \n\n"
     ]
    }
   ],
   "source": [
    "# Gauss-Siedel  G = (inv(D-L))*U      c = (inv(D-L))*b\n",
    "\n",
    "DL = D-L\n",
    "invDL = np.linalg.inv(DL)\n",
    "print(\"inverse(D-L) = \")\n",
    "printMatrix(invDL)\n",
    "\n",
    "Gg = np.matmul(invDL,U)\n",
    "print(\"G = \")\n",
    "printMatrix(Gg)\n",
    "\n",
    "cg = np.matmul(invDL,b)\n",
    "print(\"c = \")\n",
    "printMatrix(cg)"
   ]
  },
  {
   "source": [
    "## Calculating Eigen Values"
   ],
   "cell_type": "markdown",
   "metadata": {}
  },
  {
   "cell_type": "code",
   "execution_count": 11,
   "metadata": {},
   "outputs": [
    {
     "output_type": "stream",
     "name": "stdout",
     "text": [
      "Eigen Values are:\n0.0\n27.0\n"
     ]
    }
   ],
   "source": [
    "lambdas, X = np.linalg.eig(Gg)\n",
    "\n",
    "print(\"Eigen Values are:\")\n",
    "for i in lambdas:\n",
    "    print(i)"
   ]
  },
  {
   "source": [
    "## Calculating Spectral Radius"
   ],
   "cell_type": "markdown",
   "metadata": {}
  },
  {
   "cell_type": "code",
   "execution_count": 12,
   "metadata": {},
   "outputs": [
    {
     "output_type": "error",
     "ename": "NameError",
     "evalue": "name 'sp_rad' is not defined",
     "traceback": [
      "\u001b[1;31m---------------------------------------------------------------------------\u001b[0m",
      "\u001b[1;31mNameError\u001b[0m                                 Traceback (most recent call last)",
      "\u001b[1;32m<ipython-input-12-f59e7a811cfa>\u001b[0m in \u001b[0;36m<module>\u001b[1;34m\u001b[0m\n\u001b[0;32m      8\u001b[0m     \u001b[0mprint\u001b[0m\u001b[1;33m(\u001b[0m\u001b[1;34mf'Therefore method Converges.'\u001b[0m\u001b[1;33m)\u001b[0m\u001b[1;33m\u001b[0m\u001b[1;33m\u001b[0m\u001b[0m\n\u001b[0;32m      9\u001b[0m \u001b[1;32melse\u001b[0m\u001b[1;33m:\u001b[0m\u001b[1;33m\u001b[0m\u001b[1;33m\u001b[0m\u001b[0m\n\u001b[1;32m---> 10\u001b[1;33m     \u001b[0mprint\u001b[0m\u001b[1;33m(\u001b[0m\u001b[1;34mf'\\nSpectral Radius of Matrix G is {sp_rad} and its greater than 1'\u001b[0m\u001b[1;33m)\u001b[0m\u001b[1;33m\u001b[0m\u001b[1;33m\u001b[0m\u001b[0m\n\u001b[0m\u001b[0;32m     11\u001b[0m     \u001b[0mprint\u001b[0m\u001b[1;33m(\u001b[0m\u001b[1;34mf'Therefore does not method converge.'\u001b[0m\u001b[1;33m)\u001b[0m\u001b[1;33m\u001b[0m\u001b[1;33m\u001b[0m\u001b[0m\n",
      "\u001b[1;31mNameError\u001b[0m: name 'sp_rad' is not defined"
     ]
    }
   ],
   "source": [
    "sp_rad_g = -1\n",
    "for i in lambdas:\n",
    "    if sp_rad_g<abs(i):\n",
    "        sp_rad_g = abs(i)\n",
    "\n",
    "if(sp_rad_g<1):\n",
    "    print(f'\\nSpectral Radius of Matrix G is {sp_rad_g} and its less than 1.')\n",
    "    print(f'Therefore method Converges.')\n",
    "else:\n",
    "    print(f'\\nSpectral Radius of Matrix G is {sp_rad} and its greater than 1')\n",
    "    print(f'Therefore does not method converge.')\n"
   ]
  },
  {
   "source": [
    "# Convergence of SOR\n",
    "## Finding w optimum"
   ],
   "cell_type": "markdown",
   "metadata": {}
  },
  {
   "cell_type": "code",
   "execution_count": 13,
   "metadata": {},
   "outputs": [
    {
     "output_type": "stream",
     "name": "stdout",
     "text": [
      "optimum w = 1.2404082057734578\n"
     ]
    }
   ],
   "source": [
    "w = 2 / (1 + (1 - (sp_rad_j**2))**(1/2))\n",
    "\n",
    "print(f\"optimum w = {w}\")"
   ]
  },
  {
   "source": [
    "## Calculating matrix G and c"
   ],
   "cell_type": "markdown",
   "metadata": {}
  },
  {
   "cell_type": "code",
   "execution_count": 14,
   "metadata": {},
   "outputs": [
    {
     "output_type": "stream",
     "name": "stdout",
     "text": [
      "inverse(D-w*L) = \n     0.25000000       0.00000000       0.00000000  \n    -0.23257654       0.25000000       0.00000000  \n    -0.07212246       0.07752551       0.25000000  \n\nG = \n    -0.24040821      -0.93030615       0.00000000  \n     0.22365323       0.62506134       0.31010205  \n     0.06935533       0.19383280      -0.14424492  \n\nc = \n     7.44244923  \n     2.37930522  \n    -6.70462181  \n\n"
     ]
    }
   ],
   "source": [
    "# G = ((D − ωL)^−1) *((1 − ω)D + ωU) and c̄ = (ω(D − ωL)^−1) *b\n",
    "\n",
    "#  w = 0.9 \n",
    "\n",
    "D_wL = D-(w*L)\n",
    "invD_wL = np.linalg.inv(D_wL)\n",
    "print(\"inverse(D-w*L) = \")\n",
    "printMatrix(invD_wL)\n",
    "\n",
    "wD = (1-w)*D\n",
    "wU = w*U\n",
    "\n",
    "Gw = np.matmul(invD_wL,(wD + wU))\n",
    "print(\"G = \")\n",
    "printMatrix(Gw)\n",
    "\n",
    "cw = w*np.matmul(invD_wL,b)\n",
    "print(\"c = \")\n",
    "printMatrix(cw)"
   ]
  },
  {
   "source": [
    "## Calculating Eigen Values"
   ],
   "cell_type": "markdown",
   "metadata": {}
  },
  {
   "cell_type": "code",
   "execution_count": 15,
   "metadata": {},
   "outputs": [
    {
     "output_type": "stream",
     "name": "stdout",
     "text": [
      "Eigen Values are:\n(0.24040820577345745+1.3486135817890344e-08j)\n(0.24040820577345745-1.3486135817890344e-08j)\n(-0.24040820577345776+0j)\n"
     ]
    }
   ],
   "source": [
    "lambdas, X = np.linalg.eig(Gw)\n",
    "\n",
    "print(\"Eigen Values are:\")\n",
    "for i in lambdas:\n",
    "    print(i)"
   ]
  },
  {
   "source": [
    "## Calculating Spectral Radius"
   ],
   "cell_type": "markdown",
   "metadata": {}
  },
  {
   "cell_type": "code",
   "execution_count": 16,
   "metadata": {},
   "outputs": [
    {
     "output_type": "stream",
     "name": "stdout",
     "text": [
      "\nSpectral Radius of Matrix G is 0.24040820577345784 and its less than 1.\nTherefore method Converges.\n"
     ]
    }
   ],
   "source": [
    "sp_rad_w = -1\n",
    "for i in lambdas:\n",
    "    if sp_rad_w<abs(i):\n",
    "        sp_rad_w = abs(i)\n",
    "\n",
    "if(sp_rad_w<1):\n",
    "    print(f'\\nSpectral Radius of Matrix G is {sp_rad_w} and its less than 1.')\n",
    "    print(f'Therefore method Converges.')\n",
    "else:\n",
    "    print(f'\\nSpectral Radius of Matrix G is {sp_rad_w} and its greater than 1')\n",
    "    print(f'Therefore does not method converge.')\n"
   ]
  }
 ]
}