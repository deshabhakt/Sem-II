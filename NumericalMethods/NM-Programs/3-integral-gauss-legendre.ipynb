{
 "metadata": {
  "language_info": {
   "codemirror_mode": {
    "name": "ipython",
    "version": 3
   },
   "file_extension": ".py",
   "mimetype": "text/x-python",
   "name": "python",
   "nbconvert_exporter": "python",
   "pygments_lexer": "ipython3",
   "version": "3.8.5"
  },
  "orig_nbformat": 2,
  "kernelspec": {
   "name": "python385jvsc74a57bd031f2aee4e71d21fbe5cf8b01ff0e069b9275f58929596ceb00d14d90e3e16cd6",
   "display_name": "Python 3.8.5 64-bit ('usr')"
  }
 },
 "nbformat": 4,
 "nbformat_minor": 2,
 "cells": [
  {
   "cell_type": "code",
   "execution_count": 11,
   "metadata": {},
   "outputs": [],
   "source": [
    "from numpy import *"
   ]
  },
  {
   "cell_type": "code",
   "execution_count": 12,
   "metadata": {},
   "outputs": [],
   "source": [
    "##################################################################\n",
    "# Recursive generation of the Legendre polynomial of order n\n",
    "def Legendre(n,x):\n",
    "\tx=array(x)\n",
    "\tif (n==0):\n",
    "\t\treturn x*0+1.0\n",
    "\telif (n==1):\n",
    "\t\treturn x\n",
    "\telse:\n",
    "\t\treturn ((2.0*n-1.0)*x*Legendre(n-1,x)-(n-1)*Legendre(n-2,x))/n\n",
    " \n",
    "##################################################################\n",
    "# Derivative of the Legendre polynomials\n",
    "def DLegendre(n,x):\n",
    "\tx=array(x)\n",
    "\tif (n==0):\n",
    "\t\treturn x*0\n",
    "\telif (n==1):\n",
    "\t\treturn x*0+1.0\n",
    "\telse:\n",
    "\t\treturn (n/(x**2-1.0))*(x*Legendre(n,x)-Legendre(n-1,x))\n",
    "##################################################################\n",
    "# Roots of the polynomial obtained using Newton-Raphson method\n",
    "def LegendreRoots(polyorder,tolerance=1e-20):\n",
    "\tif polyorder<2:\n",
    "\t\terr=1 # bad polyorder no roots can be found\n",
    "\telse:\n",
    "\t\troots=[]\n",
    "\t\t# The polynomials are alternately even and odd functions. So we evaluate only half the number of roots. \n",
    "\t\tfor i in range(1,int(polyorder)/2 +1):\n",
    "\t\t\tx=cos(pi*(i-0.25)/(polyorder+0.5))\n",
    "\t\t\terror=10*tolerance\n",
    "\t\t\titers=0\n",
    "\t\t\twhile (error>tolerance) and (iters<1000):\n",
    "\t\t\t\t\tdx=-Legendre(polyorder,x)/DLegendre(polyorder,x)\n",
    "\t\t\t\t\tx=x+dx\n",
    "\t\t\t\t\titers=iters+1\n",
    "\t\t\t\t\terror=abs(dx)\n",
    "\t\t\troots.append(x)\n",
    "\t\t# Use symmetry to get the other roots\n",
    "\t\troots=array(roots)\n",
    "\t\tif polyorder%2==0:\n",
    "\t\t\troots=concatenate( (-1.0*roots, roots[::-1]) )\n",
    "\t\telse:\n",
    "\t\t\troots=concatenate( (-1.0*roots, [0.0], roots[::-1]) )\n",
    "\t\terr=0 # successfully determined roots\n",
    "\treturn [roots, err]\n",
    "##################################################################\n",
    "# Weight coefficients\n",
    "def GaussLegendreWeights(polyorder):\n",
    "\tW=[]\n",
    "\t[xis,err]=LegendreRoots(polyorder)\n",
    "\tif err==0:\n",
    "\t\tW=2.0/( (1.0-xis**2)*(DLegendre(polyorder,xis)**2) )\n",
    "\t\terr=0\n",
    "\telse:\n",
    "\t\terr=1 # could not determine roots - so no weights\n",
    "\treturn [W, xis, err]\n",
    "##################################################################\n",
    "# The integral value \n",
    "# func \t\t: the integrand\n",
    "# a, b \t\t: lower and upper limits of the integral\n",
    "# polyorder \t: order of the Legendre polynomial to be used\n",
    "#\n",
    "def GaussLegendreQuadrature(func, polyorder, a, b):\n",
    "\t[Ws,xs, err]= GaussLegendreWeights(polyorder)\n",
    "\tif err==0:\n",
    "\t\tans=(b-a)*0.5*sum( Ws*func( (b-a)*0.5*xs+ (b+a)*0.5 ) )\n",
    "\telse: \n",
    "\t\t# (in case of error)\n",
    "\t\terr=1\n",
    "\t\tans=None\n",
    "\treturn [ans,err]\n",
    "##################################################################\n"
   ]
  },
  {
   "cell_type": "code",
   "execution_count": 20,
   "metadata": {},
   "outputs": [
    {
     "output_type": "error",
     "ename": "SyntaxError",
     "evalue": "invalid syntax (<ipython-input-20-c2ac0946e07d>, line 18)",
     "traceback": [
      "\u001b[0;36m  File \u001b[0;32m\"<ipython-input-20-c2ac0946e07d>\"\u001b[0;36m, line \u001b[0;32m18\u001b[0m\n\u001b[0;31m    if err == 0:\u001b[0m\n\u001b[0m               ^\u001b[0m\n\u001b[0;31mSyntaxError\u001b[0m\u001b[0;31m:\u001b[0m invalid syntax\n"
     ]
    }
   ],
   "source": [
    "# The integrand - change as required\n",
    "def func(x):\n",
    "\treturn exp(x)\n",
    "##################################################################\n",
    "# \n",
    " \n",
    "order=5\n",
    "[Ws,xs,err]=GaussLegendreWeights(order)\n",
    "if err==0:\n",
    "\tprint(\"Order    : \", order)\n",
    "\tprint(\"Roots    : \", xs)\n",
    "\tprint(\"Weights  : \", Ws)\n",
    "else:\n",
    "\tprint(\"Roots/Weights evaluation failed\"\n",
    " \n",
    "# Integrating the function\n",
    "[ans,err]=GaussLegendreQuadrature(func , order, -3,3)\n",
    "if err == 0:\n",
    "\tprint(\"Integral : \", ans)\n",
    "else:\n",
    "\tprint(\"Integral evaluation failed\")"
   ]
  }
 ]
}