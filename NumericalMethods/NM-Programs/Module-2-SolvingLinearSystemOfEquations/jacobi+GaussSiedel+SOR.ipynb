{
 "metadata": {
  "language_info": {
   "codemirror_mode": {
    "name": "ipython",
    "version": 3
   },
   "file_extension": ".py",
   "mimetype": "text/x-python",
   "name": "python",
   "nbconvert_exporter": "python",
   "pygments_lexer": "ipython3",
   "version": "3.7.3-final"
  },
  "orig_nbformat": 2,
  "kernelspec": {
   "name": "python3",
   "display_name": "Python 3.7.3 64-bit",
   "metadata": {
    "interpreter": {
     "hash": "e7370f93d1d0cde622a1f8e1c04877d8463912d04d973331ad4851f04de6915a"
    }
   }
  }
 },
 "nbformat": 4,
 "nbformat_minor": 2,
 "cells": [
  {
   "cell_type": "code",
   "execution_count": null,
   "metadata": {},
   "outputs": [],
   "source": []
  },
  {
   "cell_type": "code",
   "execution_count": 1,
   "metadata": {},
   "outputs": [],
   "source": [
    "import numpy as np\n",
    "import copy"
   ]
  },
  {
   "cell_type": "code",
   "execution_count": 2,
   "metadata": {},
   "outputs": [],
   "source": [
    "def JacobiMethod(a,x,B,N,E):\n",
    "    A = copy.copy(a)\n",
    "    X = copy.copy(x)\n",
    "    b = copy.copy(B)\n",
    "    n = copy.copy(N)\n",
    "    e = copy.copy(E)\n",
    "\n",
    "    print(\"\\n***** Jacobi Method *****\")\n",
    "    condition = True\n",
    "    count = 0\n",
    "    \n",
    "    accuracy = []\n",
    "\n",
    "    while condition:\n",
    "\n",
    "        X_new = np.zeros((n))\n",
    "        for i in range(n):\n",
    "            tmp = 0\n",
    "            for j in range(n):\n",
    "                if(i!=j):\n",
    "                    tmp += A[i][j]*X[j]\n",
    "            X_new[i] = (b[i] - tmp)/A[i][i]\n",
    "        \n",
    "        print(f'\\niteration = {count}',end=\"\\t\")\n",
    "\n",
    "        for i in range(n):\n",
    "            print(f'   X{i+1} = {X_new[i]:.20f}', end = \"\\t\")\n",
    "        print()\n",
    "        \n",
    "        accuracyReached = abs(X_new[i] - X[i])\n",
    "        for i in range(1,n):\n",
    "            accuracyReached = max(accuracyReached,abs(X_new[i] - X[i])) \n",
    "        \n",
    "        a = []\n",
    "        a.append((count+1))\n",
    "        a.append(accuracyReached)\n",
    "\n",
    "        accuracy.append(a)\n",
    "\n",
    "        count += 1\n",
    "        condition = False\n",
    "        for i in range(n):\n",
    "            X[i] = copy.copy(X_new[i])\n",
    "        if accuracyReached>e:\n",
    "            condition = True\n",
    "        \n",
    "\n",
    "    print(f'\\nSolution: Iteration = {count}')\n",
    "    for i in range(n):\n",
    "        print(f'x{i+1} = {X[i]}', end = \"\\t\")\n",
    "    print()\n",
    "    return accuracy"
   ]
  },
  {
   "cell_type": "code",
   "execution_count": 3,
   "metadata": {},
   "outputs": [],
   "source": [
    "def GaussSiedelMethod(a,x,B,N,E):\n",
    "    A = copy.copy(a)\n",
    "    X = copy.copy(x)\n",
    "    b = copy.copy(B)\n",
    "    n = copy.copy(N)\n",
    "    e = copy.copy(E)\n",
    "    \n",
    "    print(\"\\n***** Gauss-Siedel Method *****\")\n",
    "\n",
    "    condition = True\n",
    "    count = 0\n",
    "    \n",
    "    accuracy = []\n",
    "\n",
    "    while condition:\n",
    "        X_prev = copy.copy(X)\n",
    "        X_new = np.zeros((n))\n",
    "        for i in range(n):\n",
    "            \n",
    "            for j in range (i):\n",
    "                X[j] = X_new[j]\n",
    "            \n",
    "            tmp = 0\n",
    "            for j in range(n):\n",
    "                if(i!=j):\n",
    "                    tmp += A[i][j]*X[j]\n",
    "            X_new[i] = (b[i] - tmp)/A[i][i]\n",
    "            \n",
    "        \n",
    "        print(f'\\niteration = {count}',end=\"\\t\")\n",
    "        for i in range(n):\n",
    "            print(f'  X{i+1} = {X_new[i]:.20f}', end = \"\\t\")\n",
    "        print()\n",
    "        \n",
    "        accuracyReached = abs(X_new[i] - X_prev[i])\n",
    "        for i in range(1,n):\n",
    "            accuracyReached = max(accuracyReached,abs(X_new[i] - X_prev[i])) \n",
    "        \n",
    "        a = []\n",
    "        a.append((count+1))\n",
    "        a.append(accuracyReached)\n",
    "\n",
    "        accuracy.append(a)\n",
    "                \n",
    "        count += 1\n",
    "        condition = False\n",
    "        for i in range(n):\n",
    "            X[i] = copy.copy(X_new[i])\n",
    "        if accuracyReached>e:\n",
    "            condition = True\n",
    "\n",
    "    print(f'\\nSolution: Iteration = {count}')\n",
    "    for i in range(n):\n",
    "        print(f'x{i+1} = {X[i]}', end = \"\\t\")\n",
    "    print()\n",
    "    return accuracy"
   ]
  },
  {
   "cell_type": "code",
   "execution_count": 4,
   "metadata": {},
   "outputs": [],
   "source": [
    "def SOR(a,x,B,N,E,W = 1.0):\n",
    "    \n",
    "    A = copy.copy(a)\n",
    "    X = copy.copy(x)\n",
    "    b = copy.copy(B)\n",
    "    n = copy.copy(N)\n",
    "    e = copy.copy(E)\n",
    "    w = copy.copy(W)\n",
    "\n",
    "    accuracy = []\n",
    "    print(\"\\n***** Succesive Over Relaxation *****\")\n",
    "\n",
    "    condition = True\n",
    "    count = 0\n",
    "\n",
    "    while condition:\n",
    "        X_prev = copy.copy(X)\n",
    "        X_new = np.zeros((n))\n",
    "        for i in range(n):\n",
    "            for j in range (i):\n",
    "                X[j] = X_new[j]\n",
    "            \n",
    "            tmp = 0\n",
    "            n = len(A)\n",
    "            for j in range(n):\n",
    "                if(i!=j):\n",
    "                    tmp += A[i][j]*X[j]\n",
    "    \n",
    "            X_new[i] = (1-w)*X_prev[i] + w*((b[i] - tmp)/A[i][i])\n",
    "            \n",
    "        \n",
    "        print(f'\\niteration = {count}',end=\"\\t\")\n",
    "        for i in range(n):\n",
    "            print(f'  X{i+1} = {X_new[i]:.20f}', end = \"\\t\")\n",
    "        print()\n",
    "        accuracyReached = abs(X_new[i] - X_prev[i])\n",
    "        for i in range(1,n):\n",
    "            accuracyReached = max(accuracyReached,abs(X_new[i] - X_prev[i]))\n",
    "        \n",
    "             \n",
    "        a = []\n",
    "        a.append((count+1))\n",
    "        a.append(accuracyReached)\n",
    "\n",
    "        accuracy.append(a)\n",
    "        \n",
    "        count += 1\n",
    "        condition = False\n",
    "        for i in range(n):\n",
    "            X[i] = copy.copy(X_new[i])\n",
    "        if accuracyReached>e:\n",
    "            condition = True\n",
    "\n",
    "    print(f'\\nSolution: Iteration = {count}')\n",
    "    for i in range(n):\n",
    "        print(f'x{i+1} = {X[i]}', end = \"\\t\")\n",
    "    print()\n",
    "    return accuracy"
   ]
  },
  {
   "source": [
    "n = 3\n",
    "# A = np.array([[-10.,-8.,0.],\n",
    "#             [-8.,10.,-1.,],\n",
    "#             [0.,-1.,10.]\n",
    "#             ])\n",
    "\n",
    "# b = np.array([-6.,9.,28.])\n",
    "\n",
    "A = np.array([[3.,-1.,1.],\n",
    "            [-1.,3.,-1.],\n",
    "            [1.,-1.,3]\n",
    "            ])\n",
    "b = np.array([\n",
    "    [-1.],\n",
    "    [7.],\n",
    "    [-7.]\n",
    "])\n",
    "# initial Guesses\n",
    "X = np.array([0.,0.,0.])\n",
    "\n",
    "# Reading tolerable error\n",
    "e = 0.0001\n",
    "\n",
    "\n",
    "# Reading relaxation factor\n",
    "w = 9/10"
   ],
   "cell_type": "code",
   "metadata": {},
   "execution_count": 5,
   "outputs": []
  },
  {
   "source": [
    "# Input Section\n",
    "\n",
    "n = int(input(\"Enter Number of Variables: \"))\n",
    "\n",
    "A = np.zeros((n,n))\n",
    "print(\"Enter Co-efficient Matrix:\")\n",
    "for i in range(n):\n",
    "    for j in range(n):\n",
    "        A[i][j] = float(input(\">\"))\n",
    "\n",
    "b = np.zeros((n))\n",
    "print(\"Enter RHS: \")\n",
    "for i in range(n):\n",
    "    b[i] = float(input(\">\"))\n",
    "\n",
    "X = np.zeros((n))\n",
    "print(\"Enter Initial Guasses:\")\n",
    "for i in range(n):\n",
    "    b[i] = float(input(\">\"))\n",
    "e = "
   ],
   "cell_type": "markdown",
   "metadata": {}
  },
  {
   "cell_type": "code",
   "execution_count": 6,
   "metadata": {},
   "outputs": [
    {
     "output_type": "stream",
     "name": "stdout",
     "text": [
      "\n***** Jacobi Method *****\n\niteration = 0\t   X1 = -0.33333333333333331483\t   X2 = 2.33333333333333348136\t   X3 = -2.33333333333333348136\t\n\niteration = 1\t   X1 = 1.22222222222222232091\t   X2 = 1.44444444444444441977\t   X3 = -1.44444444444444441977\t\n\niteration = 2\t   X1 = 0.62962962962962965019\t   X2 = 2.25925925925925907833\t   X3 = -2.25925925925925907833\t\n\niteration = 3\t   X1 = 1.17283950617283938556\t   X2 = 1.79012345679012341293\t   X3 = -1.79012345679012341293\t\n\niteration = 4\t   X1 = 0.86008230452674894195\t   X2 = 2.12757201646090532421\t   X3 = -2.12757201646090532421\t\n\niteration = 5\t   X1 = 1.08504801097393688281\t   X2 = 1.91083676268861446523\t   X3 = -1.91083676268861446523\t\n\niteration = 6\t   X1 = 0.94055784179240964349\t   X2 = 2.05807041609510754654\t   X3 = -2.05807041609510754654\t\n\niteration = 7\t   X1 = 1.03871361073007162368\t   X2 = 1.96082914189910084701\t   X3 = -1.96082914189910084701\t\n\niteration = 8\t   X1 = 0.97388609459940056468\t   X2 = 2.02596148961032351821\t   X3 = -2.02596148961032351821\t\n\niteration = 9\t   X1 = 1.01730765974021575282\t   X2 = 1.98264153499635908950\t   X3 = -1.98264153499635908950\t\n\niteration = 10\t   X1 = 0.98842768999757268933\t   X2 = 2.01155537491461888777\t   X3 = -2.01155537491461888777\t\n\niteration = 11\t   X1 = 1.00770358327641251783\t   X2 = 1.99229077169431789684\t   X3 = -1.99229077169431789684\t\n\niteration = 12\t   X1 = 0.99486051446287859790\t   X2 = 2.00513760386069828101\t   X3 = -2.00513760386069828101\t\n\niteration = 13\t   X1 = 1.00342506924046559469\t   X2 = 1.99657430353406017964\t   X3 = -1.99657430353406017964\t\n\niteration = 14\t   X1 = 0.99771620235604008275\t   X2 = 2.00228358856880150896\t   X3 = -2.00228358856880150896\t\n\niteration = 15\t   X1 = 1.00152239237920093196\t   X2 = 1.99847753792907956161\t   X3 = -1.99847753792907956161\t\n\niteration = 16\t   X1 = 0.99898502528605304107\t   X2 = 2.00101495148337393815\t   X3 = -2.00101495148337393815\t\n\niteration = 17\t   X1 = 1.00067663432224929210\t   X2 = 1.99932335793422644166\t   X3 = -1.99932335793422644166\t\n\niteration = 18\t   X1 = 0.99954890528948425743\t   X2 = 2.00045109212934102416\t   X3 = -2.00045109212934102416\t\n\niteration = 19\t   X1 = 1.00030072808622727543\t   X2 = 1.99969927105338096673\t   X3 = -1.99969927105338096673\t\n\niteration = 20\t   X1 = 0.99979951403558731116\t   X2 = 2.00020048567761543623\t   X3 = -2.00020048567761543623\t\n\niteration = 21\t   X1 = 1.00013365711841029082\t   X2 = 1.99986634278599062498\t   X3 = -1.99986634278599062498\t\n\niteration = 22\t   X1 = 0.99991089519066045366\t   X2 = 2.00008910477747336998\t   X3 = -2.00008910477747336998\t\n\niteration = 23\t   X1 = 1.00005940318498232067\t   X2 = 1.99994059680439573157\t   X3 = -1.99994059680439573157\t\n\niteration = 24\t   X1 = 0.99996039786959711737\t   X2 = 2.00003960212686227038\t   X3 = -2.00003960212686227038\t\n\nSolution: Iteration = 25\nx1 = 0.9999603978695971\tx2 = 2.0000396021268623\tx3 = -2.0000396021268623\t\n"
     ]
    }
   ],
   "source": [
    "jacobi = JacobiMethod(A,X,b,n,e)\n",
    "jacobi_count = []\n",
    "jacobi_accuracy = []\n",
    "for i in jacobi:\n",
    "        jacobi_count.append(i[0])\n",
    "        jacobi_accuracy.append(i[1])\n"
   ]
  },
  {
   "cell_type": "code",
   "execution_count": 7,
   "metadata": {},
   "outputs": [
    {
     "output_type": "stream",
     "name": "stdout",
     "text": [
      "\n***** Gauss-Siedel Method *****\n\niteration = 0\t  X1 = -0.33333333333333331483\t  X2 = 2.22222222222222232091\t  X3 = -1.48148148148148162129\t\n\niteration = 1\t  X1 = 0.90123456790123468441\t  X2 = 2.13991769547325105805\t  X3 = -1.92043895747599435708\t\n\niteration = 2\t  X1 = 1.02011888431641506436\t  X2 = 2.03322664228014016174\t  X3 = -1.99563074734542489352\t\n\niteration = 3\t  X1 = 1.00961912987518842577\t  X2 = 2.00466279417658777007\t  X3 = -2.00165211189953362592\t\n\niteration = 4\t  X1 = 1.00210496869204046533\t  X2 = 2.00015095226416894647\t  X3 = -2.00065133880929080235\t\n\niteration = 5\t  X1 = 1.00026743035781984226\t  X2 = 1.99987203051617634664\t  X3 = -2.00013179994721435051\t\n\niteration = 6\t  X1 = 1.00000127682113038041\t  X2 = 1.99995649229130534330\t  X3 = -2.00001492817660819767\t\n\niteration = 7\t  X1 = 0.99999047348930447665\t  X2 = 1.99999184843756538932\t  X3 = -1.99999954168391291809\t\n\nSolution: Iteration = 8\nx1 = 0.9999904734893045\tx2 = 1.9999918484375654\tx3 = -1.999999541683913\t\n"
     ]
    }
   ],
   "source": [
    "gs = GaussSiedelMethod(A,X,b,n,e)\n",
    "\n",
    "gs_count = []\n",
    "gs_accuracy =[] \n",
    "for i in gs:\n",
    "    gs_count.append(i[0])\n",
    "    gs_accuracy.append(i[1])\n",
    "    "
   ]
  },
  {
   "cell_type": "code",
   "execution_count": 8,
   "metadata": {
    "tags": []
   },
   "outputs": [
    {
     "output_type": "stream",
     "name": "stdout",
     "text": [
      "\n***** Succesive Over Relaxation *****\n\niteration = 0\t  X1 = -0.29999999999999998890\t  X2 = 2.01000000000000023093\t  X3 = -1.40700000000000002842\t\n\niteration = 1\t  X1 = 0.69510000000000005116\t  X2 = 2.08742999999999989669\t  X3 = -1.82300100000000009359\t\n\niteration = 2\t  X1 = 0.94263929999999995779\t  X2 = 2.04463448999999997113\t  X3 = -1.95170154299999976111\t\n\niteration = 3\t  X1 = 0.99316473989999987104\t  X2 = 2.01690240807000042977\t  X3 = -1.98804885384899976408\t\n\niteration = 4\t  X1 = 1.00080185256570008967\t  X2 = 2.00551614042201009624\t  X3 = -1.99739059902800697444\t\n\niteration = 5\t  X1 = 1.00095220709157506356\t  X2 = 2.00162009646127136975\t  X3 = -1.99953869309189191661\t\n\niteration = 6\t  X1 = 1.00044285757510653667\t  X2 = 2.00043325899109136756\t  X3 = -1.99995674888439345374\t\n\niteration = 7\t  X1 = 1.00016128812015603344\t  X2 = 2.00010468766983828814\t  X3 = -2.00001265502353442471\t\n\niteration = 8\t  X1 = 1.00005133162002746161\t  X2 = 2.00002207174593138461\t  X3 = -2.00001004346458222116\t\n\nSolution: Iteration = 9\nx1 = 1.0000513316200275\tx2 = 2.0000220717459314\tx3 = -2.000010043464582\t\n"
     ]
    }
   ],
   "source": [
    "w = 0.9\n",
    "\n",
    "sor = SOR(A,X,b,n,e,w)\n",
    "sor_count = []\n",
    "sor_accuracy = []\n",
    "for i in sor:\n",
    "    sor_count.append(i[0])\n",
    "    sor_accuracy.append(i[1])\n"
   ]
  },
  {
   "cell_type": "code",
   "execution_count": 9,
   "metadata": {},
   "outputs": [
    {
     "output_type": "display_data",
     "data": {
      "text/plain": "<Figure size 432x288 with 1 Axes>",
      "image/svg+xml": "<?xml version=\"1.0\" encoding=\"utf-8\" standalone=\"no\"?>\n<!DOCTYPE svg PUBLIC \"-//W3C//DTD SVG 1.1//EN\"\n  \"http://www.w3.org/Graphics/SVG/1.1/DTD/svg11.dtd\">\n<!-- Created with matplotlib (https://matplotlib.org/) -->\n<svg height=\"277.314375pt\" version=\"1.1\" viewBox=\"0 0 385.78125 277.314375\" width=\"385.78125pt\" xmlns=\"http://www.w3.org/2000/svg\" xmlns:xlink=\"http://www.w3.org/1999/xlink\">\n <metadata>\n  <rdf:RDF xmlns:cc=\"http://creativecommons.org/ns#\" xmlns:dc=\"http://purl.org/dc/elements/1.1/\" xmlns:rdf=\"http://www.w3.org/1999/02/22-rdf-syntax-ns#\">\n   <cc:Work>\n    <dc:type rdf:resource=\"http://purl.org/dc/dcmitype/StillImage\"/>\n    <dc:date>2021-03-16T00:28:40.076544</dc:date>\n    <dc:format>image/svg+xml</dc:format>\n    <dc:creator>\n     <cc:Agent>\n      <dc:title>Matplotlib v3.3.4, https://matplotlib.org/</dc:title>\n     </cc:Agent>\n    </dc:creator>\n   </cc:Work>\n  </rdf:RDF>\n </metadata>\n <defs>\n  <style type=\"text/css\">*{stroke-linecap:butt;stroke-linejoin:round;}</style>\n </defs>\n <g id=\"figure_1\">\n  <g id=\"patch_1\">\n   <path d=\"M 0 277.314375 \nL 385.78125 277.314375 \nL 385.78125 0 \nL 0 0 \nz\n\" style=\"fill:none;\"/>\n  </g>\n  <g id=\"axes_1\">\n   <g id=\"patch_2\">\n    <path d=\"M 43.78125 239.758125 \nL 378.58125 239.758125 \nL 378.58125 22.318125 \nL 43.78125 22.318125 \nz\n\" style=\"fill:#ffffff;\"/>\n   </g>\n   <g id=\"matplotlib.axis_1\">\n    <g id=\"xtick_1\">\n     <g id=\"line2d_1\">\n      <defs>\n       <path d=\"M 0 0 \nL 0 3.5 \n\" id=\"mf1dd0ffa0f\" style=\"stroke:#000000;stroke-width:0.8;\"/>\n      </defs>\n      <g>\n       <use style=\"stroke:#000000;stroke-width:0.8;\" x=\"46.317614\" xlink:href=\"#mf1dd0ffa0f\" y=\"239.758125\"/>\n      </g>\n     </g>\n     <g id=\"text_1\">\n      <!-- 0 -->\n      <g transform=\"translate(43.136364 254.356562)scale(0.1 -0.1)\">\n       <defs>\n        <path d=\"M 31.78125 66.40625 \nQ 24.171875 66.40625 20.328125 58.90625 \nQ 16.5 51.421875 16.5 36.375 \nQ 16.5 21.390625 20.328125 13.890625 \nQ 24.171875 6.390625 31.78125 6.390625 \nQ 39.453125 6.390625 43.28125 13.890625 \nQ 47.125 21.390625 47.125 36.375 \nQ 47.125 51.421875 43.28125 58.90625 \nQ 39.453125 66.40625 31.78125 66.40625 \nz\nM 31.78125 74.21875 \nQ 44.046875 74.21875 50.515625 64.515625 \nQ 56.984375 54.828125 56.984375 36.375 \nQ 56.984375 17.96875 50.515625 8.265625 \nQ 44.046875 -1.421875 31.78125 -1.421875 \nQ 19.53125 -1.421875 13.0625 8.265625 \nQ 6.59375 17.96875 6.59375 36.375 \nQ 6.59375 54.828125 13.0625 64.515625 \nQ 19.53125 74.21875 31.78125 74.21875 \nz\n\" id=\"DejaVuSans-48\"/>\n       </defs>\n       <use xlink:href=\"#DejaVuSans-48\"/>\n      </g>\n     </g>\n    </g>\n    <g id=\"xtick_2\">\n     <g id=\"line2d_2\">\n      <g>\n       <use style=\"stroke:#000000;stroke-width:0.8;\" x=\"109.726705\" xlink:href=\"#mf1dd0ffa0f\" y=\"239.758125\"/>\n      </g>\n     </g>\n     <g id=\"text_2\">\n      <!-- 5 -->\n      <g transform=\"translate(106.545455 254.356562)scale(0.1 -0.1)\">\n       <defs>\n        <path d=\"M 10.796875 72.90625 \nL 49.515625 72.90625 \nL 49.515625 64.59375 \nL 19.828125 64.59375 \nL 19.828125 46.734375 \nQ 21.96875 47.46875 24.109375 47.828125 \nQ 26.265625 48.1875 28.421875 48.1875 \nQ 40.625 48.1875 47.75 41.5 \nQ 54.890625 34.8125 54.890625 23.390625 \nQ 54.890625 11.625 47.5625 5.09375 \nQ 40.234375 -1.421875 26.90625 -1.421875 \nQ 22.3125 -1.421875 17.546875 -0.640625 \nQ 12.796875 0.140625 7.71875 1.703125 \nL 7.71875 11.625 \nQ 12.109375 9.234375 16.796875 8.0625 \nQ 21.484375 6.890625 26.703125 6.890625 \nQ 35.15625 6.890625 40.078125 11.328125 \nQ 45.015625 15.765625 45.015625 23.390625 \nQ 45.015625 31 40.078125 35.4375 \nQ 35.15625 39.890625 26.703125 39.890625 \nQ 22.75 39.890625 18.8125 39.015625 \nQ 14.890625 38.140625 10.796875 36.28125 \nz\n\" id=\"DejaVuSans-53\"/>\n       </defs>\n       <use xlink:href=\"#DejaVuSans-53\"/>\n      </g>\n     </g>\n    </g>\n    <g id=\"xtick_3\">\n     <g id=\"line2d_3\">\n      <g>\n       <use style=\"stroke:#000000;stroke-width:0.8;\" x=\"173.135795\" xlink:href=\"#mf1dd0ffa0f\" y=\"239.758125\"/>\n      </g>\n     </g>\n     <g id=\"text_3\">\n      <!-- 10 -->\n      <g transform=\"translate(166.773295 254.356562)scale(0.1 -0.1)\">\n       <defs>\n        <path d=\"M 12.40625 8.296875 \nL 28.515625 8.296875 \nL 28.515625 63.921875 \nL 10.984375 60.40625 \nL 10.984375 69.390625 \nL 28.421875 72.90625 \nL 38.28125 72.90625 \nL 38.28125 8.296875 \nL 54.390625 8.296875 \nL 54.390625 0 \nL 12.40625 0 \nz\n\" id=\"DejaVuSans-49\"/>\n       </defs>\n       <use xlink:href=\"#DejaVuSans-49\"/>\n       <use x=\"63.623047\" xlink:href=\"#DejaVuSans-48\"/>\n      </g>\n     </g>\n    </g>\n    <g id=\"xtick_4\">\n     <g id=\"line2d_4\">\n      <g>\n       <use style=\"stroke:#000000;stroke-width:0.8;\" x=\"236.544886\" xlink:href=\"#mf1dd0ffa0f\" y=\"239.758125\"/>\n      </g>\n     </g>\n     <g id=\"text_4\">\n      <!-- 15 -->\n      <g transform=\"translate(230.182386 254.356562)scale(0.1 -0.1)\">\n       <use xlink:href=\"#DejaVuSans-49\"/>\n       <use x=\"63.623047\" xlink:href=\"#DejaVuSans-53\"/>\n      </g>\n     </g>\n    </g>\n    <g id=\"xtick_5\">\n     <g id=\"line2d_5\">\n      <g>\n       <use style=\"stroke:#000000;stroke-width:0.8;\" x=\"299.953977\" xlink:href=\"#mf1dd0ffa0f\" y=\"239.758125\"/>\n      </g>\n     </g>\n     <g id=\"text_5\">\n      <!-- 20 -->\n      <g transform=\"translate(293.591477 254.356562)scale(0.1 -0.1)\">\n       <defs>\n        <path d=\"M 19.1875 8.296875 \nL 53.609375 8.296875 \nL 53.609375 0 \nL 7.328125 0 \nL 7.328125 8.296875 \nQ 12.9375 14.109375 22.625 23.890625 \nQ 32.328125 33.6875 34.8125 36.53125 \nQ 39.546875 41.84375 41.421875 45.53125 \nQ 43.3125 49.21875 43.3125 52.78125 \nQ 43.3125 58.59375 39.234375 62.25 \nQ 35.15625 65.921875 28.609375 65.921875 \nQ 23.96875 65.921875 18.8125 64.3125 \nQ 13.671875 62.703125 7.8125 59.421875 \nL 7.8125 69.390625 \nQ 13.765625 71.78125 18.9375 73 \nQ 24.125 74.21875 28.421875 74.21875 \nQ 39.75 74.21875 46.484375 68.546875 \nQ 53.21875 62.890625 53.21875 53.421875 \nQ 53.21875 48.921875 51.53125 44.890625 \nQ 49.859375 40.875 45.40625 35.40625 \nQ 44.1875 33.984375 37.640625 27.21875 \nQ 31.109375 20.453125 19.1875 8.296875 \nz\n\" id=\"DejaVuSans-50\"/>\n       </defs>\n       <use xlink:href=\"#DejaVuSans-50\"/>\n       <use x=\"63.623047\" xlink:href=\"#DejaVuSans-48\"/>\n      </g>\n     </g>\n    </g>\n    <g id=\"xtick_6\">\n     <g id=\"line2d_6\">\n      <g>\n       <use style=\"stroke:#000000;stroke-width:0.8;\" x=\"363.363068\" xlink:href=\"#mf1dd0ffa0f\" y=\"239.758125\"/>\n      </g>\n     </g>\n     <g id=\"text_6\">\n      <!-- 25 -->\n      <g transform=\"translate(357.000568 254.356562)scale(0.1 -0.1)\">\n       <use xlink:href=\"#DejaVuSans-50\"/>\n       <use x=\"63.623047\" xlink:href=\"#DejaVuSans-53\"/>\n      </g>\n     </g>\n    </g>\n    <g id=\"text_7\">\n     <!-- Iteration -->\n     <g transform=\"translate(189.972656 268.034687)scale(0.1 -0.1)\">\n      <defs>\n       <path d=\"M 9.8125 72.90625 \nL 19.671875 72.90625 \nL 19.671875 0 \nL 9.8125 0 \nz\n\" id=\"DejaVuSans-73\"/>\n       <path d=\"M 18.3125 70.21875 \nL 18.3125 54.6875 \nL 36.8125 54.6875 \nL 36.8125 47.703125 \nL 18.3125 47.703125 \nL 18.3125 18.015625 \nQ 18.3125 11.328125 20.140625 9.421875 \nQ 21.96875 7.515625 27.59375 7.515625 \nL 36.8125 7.515625 \nL 36.8125 0 \nL 27.59375 0 \nQ 17.1875 0 13.234375 3.875 \nQ 9.28125 7.765625 9.28125 18.015625 \nL 9.28125 47.703125 \nL 2.6875 47.703125 \nL 2.6875 54.6875 \nL 9.28125 54.6875 \nL 9.28125 70.21875 \nz\n\" id=\"DejaVuSans-116\"/>\n       <path d=\"M 56.203125 29.59375 \nL 56.203125 25.203125 \nL 14.890625 25.203125 \nQ 15.484375 15.921875 20.484375 11.0625 \nQ 25.484375 6.203125 34.421875 6.203125 \nQ 39.59375 6.203125 44.453125 7.46875 \nQ 49.3125 8.734375 54.109375 11.28125 \nL 54.109375 2.78125 \nQ 49.265625 0.734375 44.1875 -0.34375 \nQ 39.109375 -1.421875 33.890625 -1.421875 \nQ 20.796875 -1.421875 13.15625 6.1875 \nQ 5.515625 13.8125 5.515625 26.8125 \nQ 5.515625 40.234375 12.765625 48.109375 \nQ 20.015625 56 32.328125 56 \nQ 43.359375 56 49.78125 48.890625 \nQ 56.203125 41.796875 56.203125 29.59375 \nz\nM 47.21875 32.234375 \nQ 47.125 39.59375 43.09375 43.984375 \nQ 39.0625 48.390625 32.421875 48.390625 \nQ 24.90625 48.390625 20.390625 44.140625 \nQ 15.875 39.890625 15.1875 32.171875 \nz\n\" id=\"DejaVuSans-101\"/>\n       <path d=\"M 41.109375 46.296875 \nQ 39.59375 47.171875 37.8125 47.578125 \nQ 36.03125 48 33.890625 48 \nQ 26.265625 48 22.1875 43.046875 \nQ 18.109375 38.09375 18.109375 28.8125 \nL 18.109375 0 \nL 9.078125 0 \nL 9.078125 54.6875 \nL 18.109375 54.6875 \nL 18.109375 46.1875 \nQ 20.953125 51.171875 25.484375 53.578125 \nQ 30.03125 56 36.53125 56 \nQ 37.453125 56 38.578125 55.875 \nQ 39.703125 55.765625 41.0625 55.515625 \nz\n\" id=\"DejaVuSans-114\"/>\n       <path d=\"M 34.28125 27.484375 \nQ 23.390625 27.484375 19.1875 25 \nQ 14.984375 22.515625 14.984375 16.5 \nQ 14.984375 11.71875 18.140625 8.90625 \nQ 21.296875 6.109375 26.703125 6.109375 \nQ 34.1875 6.109375 38.703125 11.40625 \nQ 43.21875 16.703125 43.21875 25.484375 \nL 43.21875 27.484375 \nz\nM 52.203125 31.203125 \nL 52.203125 0 \nL 43.21875 0 \nL 43.21875 8.296875 \nQ 40.140625 3.328125 35.546875 0.953125 \nQ 30.953125 -1.421875 24.3125 -1.421875 \nQ 15.921875 -1.421875 10.953125 3.296875 \nQ 6 8.015625 6 15.921875 \nQ 6 25.140625 12.171875 29.828125 \nQ 18.359375 34.515625 30.609375 34.515625 \nL 43.21875 34.515625 \nL 43.21875 35.40625 \nQ 43.21875 41.609375 39.140625 45 \nQ 35.0625 48.390625 27.6875 48.390625 \nQ 23 48.390625 18.546875 47.265625 \nQ 14.109375 46.140625 10.015625 43.890625 \nL 10.015625 52.203125 \nQ 14.9375 54.109375 19.578125 55.046875 \nQ 24.21875 56 28.609375 56 \nQ 40.484375 56 46.34375 49.84375 \nQ 52.203125 43.703125 52.203125 31.203125 \nz\n\" id=\"DejaVuSans-97\"/>\n       <path d=\"M 9.421875 54.6875 \nL 18.40625 54.6875 \nL 18.40625 0 \nL 9.421875 0 \nz\nM 9.421875 75.984375 \nL 18.40625 75.984375 \nL 18.40625 64.59375 \nL 9.421875 64.59375 \nz\n\" id=\"DejaVuSans-105\"/>\n       <path d=\"M 30.609375 48.390625 \nQ 23.390625 48.390625 19.1875 42.75 \nQ 14.984375 37.109375 14.984375 27.296875 \nQ 14.984375 17.484375 19.15625 11.84375 \nQ 23.34375 6.203125 30.609375 6.203125 \nQ 37.796875 6.203125 41.984375 11.859375 \nQ 46.1875 17.53125 46.1875 27.296875 \nQ 46.1875 37.015625 41.984375 42.703125 \nQ 37.796875 48.390625 30.609375 48.390625 \nz\nM 30.609375 56 \nQ 42.328125 56 49.015625 48.375 \nQ 55.71875 40.765625 55.71875 27.296875 \nQ 55.71875 13.875 49.015625 6.21875 \nQ 42.328125 -1.421875 30.609375 -1.421875 \nQ 18.84375 -1.421875 12.171875 6.21875 \nQ 5.515625 13.875 5.515625 27.296875 \nQ 5.515625 40.765625 12.171875 48.375 \nQ 18.84375 56 30.609375 56 \nz\n\" id=\"DejaVuSans-111\"/>\n       <path d=\"M 54.890625 33.015625 \nL 54.890625 0 \nL 45.90625 0 \nL 45.90625 32.71875 \nQ 45.90625 40.484375 42.875 44.328125 \nQ 39.84375 48.1875 33.796875 48.1875 \nQ 26.515625 48.1875 22.3125 43.546875 \nQ 18.109375 38.921875 18.109375 30.90625 \nL 18.109375 0 \nL 9.078125 0 \nL 9.078125 54.6875 \nL 18.109375 54.6875 \nL 18.109375 46.1875 \nQ 21.34375 51.125 25.703125 53.5625 \nQ 30.078125 56 35.796875 56 \nQ 45.21875 56 50.046875 50.171875 \nQ 54.890625 44.34375 54.890625 33.015625 \nz\n\" id=\"DejaVuSans-110\"/>\n      </defs>\n      <use xlink:href=\"#DejaVuSans-73\"/>\n      <use x=\"29.492188\" xlink:href=\"#DejaVuSans-116\"/>\n      <use x=\"68.701172\" xlink:href=\"#DejaVuSans-101\"/>\n      <use x=\"130.224609\" xlink:href=\"#DejaVuSans-114\"/>\n      <use x=\"171.337891\" xlink:href=\"#DejaVuSans-97\"/>\n      <use x=\"232.617188\" xlink:href=\"#DejaVuSans-116\"/>\n      <use x=\"271.826172\" xlink:href=\"#DejaVuSans-105\"/>\n      <use x=\"299.609375\" xlink:href=\"#DejaVuSans-111\"/>\n      <use x=\"360.791016\" xlink:href=\"#DejaVuSans-110\"/>\n     </g>\n    </g>\n   </g>\n   <g id=\"matplotlib.axis_2\">\n    <g id=\"ytick_1\">\n     <g id=\"line2d_7\">\n      <defs>\n       <path d=\"M 0 0 \nL -3.5 0 \n\" id=\"m2ef826a6a7\" style=\"stroke:#000000;stroke-width:0.8;\"/>\n      </defs>\n      <g>\n       <use style=\"stroke:#000000;stroke-width:0.8;\" x=\"43.78125\" xlink:href=\"#m2ef826a6a7\" y=\"229.877484\"/>\n      </g>\n     </g>\n     <g id=\"text_8\">\n      <!-- 0.0 -->\n      <g transform=\"translate(20.878125 233.676703)scale(0.1 -0.1)\">\n       <defs>\n        <path d=\"M 10.6875 12.40625 \nL 21 12.40625 \nL 21 0 \nL 10.6875 0 \nz\n\" id=\"DejaVuSans-46\"/>\n       </defs>\n       <use xlink:href=\"#DejaVuSans-48\"/>\n       <use x=\"63.623047\" xlink:href=\"#DejaVuSans-46\"/>\n       <use x=\"95.410156\" xlink:href=\"#DejaVuSans-48\"/>\n      </g>\n     </g>\n    </g>\n    <g id=\"ytick_2\">\n     <g id=\"line2d_8\">\n      <g>\n       <use style=\"stroke:#000000;stroke-width:0.8;\" x=\"43.78125\" xlink:href=\"#m2ef826a6a7\" y=\"187.518401\"/>\n      </g>\n     </g>\n     <g id=\"text_9\">\n      <!-- 0.5 -->\n      <g transform=\"translate(20.878125 191.317619)scale(0.1 -0.1)\">\n       <use xlink:href=\"#DejaVuSans-48\"/>\n       <use x=\"63.623047\" xlink:href=\"#DejaVuSans-46\"/>\n       <use x=\"95.410156\" xlink:href=\"#DejaVuSans-53\"/>\n      </g>\n     </g>\n    </g>\n    <g id=\"ytick_3\">\n     <g id=\"line2d_9\">\n      <g>\n       <use style=\"stroke:#000000;stroke-width:0.8;\" x=\"43.78125\" xlink:href=\"#m2ef826a6a7\" y=\"145.159317\"/>\n      </g>\n     </g>\n     <g id=\"text_10\">\n      <!-- 1.0 -->\n      <g transform=\"translate(20.878125 148.958536)scale(0.1 -0.1)\">\n       <use xlink:href=\"#DejaVuSans-49\"/>\n       <use x=\"63.623047\" xlink:href=\"#DejaVuSans-46\"/>\n       <use x=\"95.410156\" xlink:href=\"#DejaVuSans-48\"/>\n      </g>\n     </g>\n    </g>\n    <g id=\"ytick_4\">\n     <g id=\"line2d_10\">\n      <g>\n       <use style=\"stroke:#000000;stroke-width:0.8;\" x=\"43.78125\" xlink:href=\"#m2ef826a6a7\" y=\"102.800234\"/>\n      </g>\n     </g>\n     <g id=\"text_11\">\n      <!-- 1.5 -->\n      <g transform=\"translate(20.878125 106.599452)scale(0.1 -0.1)\">\n       <use xlink:href=\"#DejaVuSans-49\"/>\n       <use x=\"63.623047\" xlink:href=\"#DejaVuSans-46\"/>\n       <use x=\"95.410156\" xlink:href=\"#DejaVuSans-53\"/>\n      </g>\n     </g>\n    </g>\n    <g id=\"ytick_5\">\n     <g id=\"line2d_11\">\n      <g>\n       <use style=\"stroke:#000000;stroke-width:0.8;\" x=\"43.78125\" xlink:href=\"#m2ef826a6a7\" y=\"60.44115\"/>\n      </g>\n     </g>\n     <g id=\"text_12\">\n      <!-- 2.0 -->\n      <g transform=\"translate(20.878125 64.240369)scale(0.1 -0.1)\">\n       <use xlink:href=\"#DejaVuSans-50\"/>\n       <use x=\"63.623047\" xlink:href=\"#DejaVuSans-46\"/>\n       <use x=\"95.410156\" xlink:href=\"#DejaVuSans-48\"/>\n      </g>\n     </g>\n    </g>\n    <g id=\"text_13\">\n     <!-- Accuracy -->\n     <g transform=\"translate(14.798438 153.86625)rotate(-90)scale(0.1 -0.1)\">\n      <defs>\n       <path d=\"M 34.1875 63.1875 \nL 20.796875 26.90625 \nL 47.609375 26.90625 \nz\nM 28.609375 72.90625 \nL 39.796875 72.90625 \nL 67.578125 0 \nL 57.328125 0 \nL 50.6875 18.703125 \nL 17.828125 18.703125 \nL 11.1875 0 \nL 0.78125 0 \nz\n\" id=\"DejaVuSans-65\"/>\n       <path d=\"M 48.78125 52.59375 \nL 48.78125 44.1875 \nQ 44.96875 46.296875 41.140625 47.34375 \nQ 37.3125 48.390625 33.40625 48.390625 \nQ 24.65625 48.390625 19.8125 42.84375 \nQ 14.984375 37.3125 14.984375 27.296875 \nQ 14.984375 17.28125 19.8125 11.734375 \nQ 24.65625 6.203125 33.40625 6.203125 \nQ 37.3125 6.203125 41.140625 7.25 \nQ 44.96875 8.296875 48.78125 10.40625 \nL 48.78125 2.09375 \nQ 45.015625 0.34375 40.984375 -0.53125 \nQ 36.96875 -1.421875 32.421875 -1.421875 \nQ 20.0625 -1.421875 12.78125 6.34375 \nQ 5.515625 14.109375 5.515625 27.296875 \nQ 5.515625 40.671875 12.859375 48.328125 \nQ 20.21875 56 33.015625 56 \nQ 37.15625 56 41.109375 55.140625 \nQ 45.0625 54.296875 48.78125 52.59375 \nz\n\" id=\"DejaVuSans-99\"/>\n       <path d=\"M 8.5 21.578125 \nL 8.5 54.6875 \nL 17.484375 54.6875 \nL 17.484375 21.921875 \nQ 17.484375 14.15625 20.5 10.265625 \nQ 23.53125 6.390625 29.59375 6.390625 \nQ 36.859375 6.390625 41.078125 11.03125 \nQ 45.3125 15.671875 45.3125 23.6875 \nL 45.3125 54.6875 \nL 54.296875 54.6875 \nL 54.296875 0 \nL 45.3125 0 \nL 45.3125 8.40625 \nQ 42.046875 3.421875 37.71875 1 \nQ 33.40625 -1.421875 27.6875 -1.421875 \nQ 18.265625 -1.421875 13.375 4.4375 \nQ 8.5 10.296875 8.5 21.578125 \nz\nM 31.109375 56 \nz\n\" id=\"DejaVuSans-117\"/>\n       <path d=\"M 32.171875 -5.078125 \nQ 28.375 -14.84375 24.75 -17.8125 \nQ 21.140625 -20.796875 15.09375 -20.796875 \nL 7.90625 -20.796875 \nL 7.90625 -13.28125 \nL 13.1875 -13.28125 \nQ 16.890625 -13.28125 18.9375 -11.515625 \nQ 21 -9.765625 23.484375 -3.21875 \nL 25.09375 0.875 \nL 2.984375 54.6875 \nL 12.5 54.6875 \nL 29.59375 11.921875 \nL 46.6875 54.6875 \nL 56.203125 54.6875 \nz\n\" id=\"DejaVuSans-121\"/>\n      </defs>\n      <use xlink:href=\"#DejaVuSans-65\"/>\n      <use x=\"66.658203\" xlink:href=\"#DejaVuSans-99\"/>\n      <use x=\"121.638672\" xlink:href=\"#DejaVuSans-99\"/>\n      <use x=\"176.619141\" xlink:href=\"#DejaVuSans-117\"/>\n      <use x=\"239.998047\" xlink:href=\"#DejaVuSans-114\"/>\n      <use x=\"281.111328\" xlink:href=\"#DejaVuSans-97\"/>\n      <use x=\"342.390625\" xlink:href=\"#DejaVuSans-99\"/>\n      <use x=\"397.371094\" xlink:href=\"#DejaVuSans-121\"/>\n     </g>\n    </g>\n   </g>\n   <g id=\"line2d_12\">\n    <path clip-path=\"url(#p46d3a28ee7)\" d=\"M 58.999432 32.201761 \nL 71.68125 154.572447 \nL 84.363068 160.847867 \nL 97.044886 190.133159 \nL 109.726705 201.289461 \nL 122.408523 211.516071 \nL 135.090341 217.404119 \nL 147.772159 221.639381 \nL 160.453977 224.359591 \nL 173.135795 226.207497 \nL 185.817614 227.427956 \nL 198.499432 228.245422 \nL 211.18125 228.789124 \nL 223.863068 229.152017 \nL 236.544886 229.393804 \nL 249.226705 229.555042 \nL 261.908523 229.662519 \nL 274.590341 229.734175 \nL 287.272159 229.781944 \nL 299.953977 229.813791 \nL 312.635795 229.835022 \nL 325.317614 229.849176 \nL 337.999432 229.858612 \nL 350.68125 229.864903 \nL 363.363068 229.869096 \n\" style=\"fill:none;stroke:#ff0000;stroke-linecap:square;stroke-width:1.5;\"/>\n   </g>\n   <g id=\"line2d_13\">\n    <path clip-path=\"url(#p46d3a28ee7)\" d=\"M 58.999432 41.614891 \nL 71.68125 192.689811 \nL 84.363068 220.838814 \nL 97.044886 227.457607 \nL 109.726705 229.495249 \nL 122.408523 229.83347 \nL 135.090341 229.867583 \nL 147.772159 229.874489 \n\" style=\"fill:none;stroke:#008000;stroke-linecap:square;stroke-width:1.5;\"/>\n   </g>\n   <g id=\"line2d_14\">\n    <path clip-path=\"url(#p46d3a28ee7)\" d=\"M 58.999432 59.593969 \nL 71.68125 194.634642 \nL 84.363068 218.97421 \nL 97.044886 226.798206 \nL 109.726705 228.91286 \nL 122.408523 229.547418 \nL 135.090341 229.776937 \nL 147.772159 229.849648 \nL 160.453977 229.870485 \n\" style=\"fill:none;stroke:#0000ff;stroke-linecap:square;stroke-width:1.5;\"/>\n   </g>\n   <g id=\"patch_3\">\n    <path d=\"M 43.78125 239.758125 \nL 43.78125 22.318125 \n\" style=\"fill:none;stroke:#000000;stroke-linecap:square;stroke-linejoin:miter;stroke-width:0.8;\"/>\n   </g>\n   <g id=\"patch_4\">\n    <path d=\"M 378.58125 239.758125 \nL 378.58125 22.318125 \n\" style=\"fill:none;stroke:#000000;stroke-linecap:square;stroke-linejoin:miter;stroke-width:0.8;\"/>\n   </g>\n   <g id=\"patch_5\">\n    <path d=\"M 43.78125 239.758125 \nL 378.58125 239.758125 \n\" style=\"fill:none;stroke:#000000;stroke-linecap:square;stroke-linejoin:miter;stroke-width:0.8;\"/>\n   </g>\n   <g id=\"patch_6\">\n    <path d=\"M 43.78125 22.318125 \nL 378.58125 22.318125 \n\" style=\"fill:none;stroke:#000000;stroke-linecap:square;stroke-linejoin:miter;stroke-width:0.8;\"/>\n   </g>\n   <g id=\"text_14\">\n    <!-- Iteration vs Accuracy -->\n    <g transform=\"translate(147.846563 16.318125)scale(0.12 -0.12)\">\n     <defs>\n      <path id=\"DejaVuSans-32\"/>\n      <path d=\"M 2.984375 54.6875 \nL 12.5 54.6875 \nL 29.59375 8.796875 \nL 46.6875 54.6875 \nL 56.203125 54.6875 \nL 35.6875 0 \nL 23.484375 0 \nz\n\" id=\"DejaVuSans-118\"/>\n      <path d=\"M 44.28125 53.078125 \nL 44.28125 44.578125 \nQ 40.484375 46.53125 36.375 47.5 \nQ 32.28125 48.484375 27.875 48.484375 \nQ 21.1875 48.484375 17.84375 46.4375 \nQ 14.5 44.390625 14.5 40.28125 \nQ 14.5 37.15625 16.890625 35.375 \nQ 19.28125 33.59375 26.515625 31.984375 \nL 29.59375 31.296875 \nQ 39.15625 29.25 43.1875 25.515625 \nQ 47.21875 21.78125 47.21875 15.09375 \nQ 47.21875 7.46875 41.1875 3.015625 \nQ 35.15625 -1.421875 24.609375 -1.421875 \nQ 20.21875 -1.421875 15.453125 -0.5625 \nQ 10.6875 0.296875 5.421875 2 \nL 5.421875 11.28125 \nQ 10.40625 8.6875 15.234375 7.390625 \nQ 20.0625 6.109375 24.8125 6.109375 \nQ 31.15625 6.109375 34.5625 8.28125 \nQ 37.984375 10.453125 37.984375 14.40625 \nQ 37.984375 18.0625 35.515625 20.015625 \nQ 33.0625 21.96875 24.703125 23.78125 \nL 21.578125 24.515625 \nQ 13.234375 26.265625 9.515625 29.90625 \nQ 5.8125 33.546875 5.8125 39.890625 \nQ 5.8125 47.609375 11.28125 51.796875 \nQ 16.75 56 26.8125 56 \nQ 31.78125 56 36.171875 55.265625 \nQ 40.578125 54.546875 44.28125 53.078125 \nz\n\" id=\"DejaVuSans-115\"/>\n     </defs>\n     <use xlink:href=\"#DejaVuSans-73\"/>\n     <use x=\"29.492188\" xlink:href=\"#DejaVuSans-116\"/>\n     <use x=\"68.701172\" xlink:href=\"#DejaVuSans-101\"/>\n     <use x=\"130.224609\" xlink:href=\"#DejaVuSans-114\"/>\n     <use x=\"171.337891\" xlink:href=\"#DejaVuSans-97\"/>\n     <use x=\"232.617188\" xlink:href=\"#DejaVuSans-116\"/>\n     <use x=\"271.826172\" xlink:href=\"#DejaVuSans-105\"/>\n     <use x=\"299.609375\" xlink:href=\"#DejaVuSans-111\"/>\n     <use x=\"360.791016\" xlink:href=\"#DejaVuSans-110\"/>\n     <use x=\"424.169922\" xlink:href=\"#DejaVuSans-32\"/>\n     <use x=\"455.957031\" xlink:href=\"#DejaVuSans-118\"/>\n     <use x=\"515.136719\" xlink:href=\"#DejaVuSans-115\"/>\n     <use x=\"567.236328\" xlink:href=\"#DejaVuSans-32\"/>\n     <use x=\"599.023438\" xlink:href=\"#DejaVuSans-65\"/>\n     <use x=\"665.681641\" xlink:href=\"#DejaVuSans-99\"/>\n     <use x=\"720.662109\" xlink:href=\"#DejaVuSans-99\"/>\n     <use x=\"775.642578\" xlink:href=\"#DejaVuSans-117\"/>\n     <use x=\"839.021484\" xlink:href=\"#DejaVuSans-114\"/>\n     <use x=\"880.134766\" xlink:href=\"#DejaVuSans-97\"/>\n     <use x=\"941.414062\" xlink:href=\"#DejaVuSans-99\"/>\n     <use x=\"996.394531\" xlink:href=\"#DejaVuSans-121\"/>\n    </g>\n   </g>\n   <g id=\"legend_1\">\n    <g id=\"patch_7\">\n     <path d=\"M 274.78125 74.3525 \nL 371.58125 74.3525 \nQ 373.58125 74.3525 373.58125 72.3525 \nL 373.58125 29.318125 \nQ 373.58125 27.318125 371.58125 27.318125 \nL 274.78125 27.318125 \nQ 272.78125 27.318125 272.78125 29.318125 \nL 272.78125 72.3525 \nQ 272.78125 74.3525 274.78125 74.3525 \nz\n\" style=\"fill:#ffffff;opacity:0.8;stroke:#cccccc;stroke-linejoin:miter;\"/>\n    </g>\n    <g id=\"line2d_15\">\n     <path d=\"M 276.78125 35.416562 \nL 296.78125 35.416562 \n\" style=\"fill:none;stroke:#ff0000;stroke-linecap:square;stroke-width:1.5;\"/>\n    </g>\n    <g id=\"line2d_16\"/>\n    <g id=\"text_15\">\n     <!-- Jacobi -->\n     <g transform=\"translate(304.78125 38.916562)scale(0.1 -0.1)\">\n      <defs>\n       <path d=\"M 9.8125 72.90625 \nL 19.671875 72.90625 \nL 19.671875 5.078125 \nQ 19.671875 -8.109375 14.671875 -14.0625 \nQ 9.671875 -20.015625 -1.421875 -20.015625 \nL -5.171875 -20.015625 \nL -5.171875 -11.71875 \nL -2.09375 -11.71875 \nQ 4.4375 -11.71875 7.125 -8.046875 \nQ 9.8125 -4.390625 9.8125 5.078125 \nz\n\" id=\"DejaVuSans-74\"/>\n       <path d=\"M 48.6875 27.296875 \nQ 48.6875 37.203125 44.609375 42.84375 \nQ 40.53125 48.484375 33.40625 48.484375 \nQ 26.265625 48.484375 22.1875 42.84375 \nQ 18.109375 37.203125 18.109375 27.296875 \nQ 18.109375 17.390625 22.1875 11.75 \nQ 26.265625 6.109375 33.40625 6.109375 \nQ 40.53125 6.109375 44.609375 11.75 \nQ 48.6875 17.390625 48.6875 27.296875 \nz\nM 18.109375 46.390625 \nQ 20.953125 51.265625 25.265625 53.625 \nQ 29.59375 56 35.59375 56 \nQ 45.5625 56 51.78125 48.09375 \nQ 58.015625 40.1875 58.015625 27.296875 \nQ 58.015625 14.40625 51.78125 6.484375 \nQ 45.5625 -1.421875 35.59375 -1.421875 \nQ 29.59375 -1.421875 25.265625 0.953125 \nQ 20.953125 3.328125 18.109375 8.203125 \nL 18.109375 0 \nL 9.078125 0 \nL 9.078125 75.984375 \nL 18.109375 75.984375 \nz\n\" id=\"DejaVuSans-98\"/>\n      </defs>\n      <use xlink:href=\"#DejaVuSans-74\"/>\n      <use x=\"29.492188\" xlink:href=\"#DejaVuSans-97\"/>\n      <use x=\"90.771484\" xlink:href=\"#DejaVuSans-99\"/>\n      <use x=\"145.751953\" xlink:href=\"#DejaVuSans-111\"/>\n      <use x=\"206.933594\" xlink:href=\"#DejaVuSans-98\"/>\n      <use x=\"270.410156\" xlink:href=\"#DejaVuSans-105\"/>\n     </g>\n    </g>\n    <g id=\"line2d_17\">\n     <path d=\"M 276.78125 50.094687 \nL 296.78125 50.094687 \n\" style=\"fill:none;stroke:#008000;stroke-linecap:square;stroke-width:1.5;\"/>\n    </g>\n    <g id=\"line2d_18\"/>\n    <g id=\"text_16\">\n     <!-- Gauss-Siedel -->\n     <g transform=\"translate(304.78125 53.594687)scale(0.1 -0.1)\">\n      <defs>\n       <path d=\"M 59.515625 10.40625 \nL 59.515625 29.984375 \nL 43.40625 29.984375 \nL 43.40625 38.09375 \nL 69.28125 38.09375 \nL 69.28125 6.78125 \nQ 63.578125 2.734375 56.6875 0.65625 \nQ 49.8125 -1.421875 42 -1.421875 \nQ 24.90625 -1.421875 15.25 8.5625 \nQ 5.609375 18.5625 5.609375 36.375 \nQ 5.609375 54.25 15.25 64.234375 \nQ 24.90625 74.21875 42 74.21875 \nQ 49.125 74.21875 55.546875 72.453125 \nQ 61.96875 70.703125 67.390625 67.28125 \nL 67.390625 56.78125 \nQ 61.921875 61.421875 55.765625 63.765625 \nQ 49.609375 66.109375 42.828125 66.109375 \nQ 29.4375 66.109375 22.71875 58.640625 \nQ 16.015625 51.171875 16.015625 36.375 \nQ 16.015625 21.625 22.71875 14.15625 \nQ 29.4375 6.6875 42.828125 6.6875 \nQ 48.046875 6.6875 52.140625 7.59375 \nQ 56.25 8.5 59.515625 10.40625 \nz\n\" id=\"DejaVuSans-71\"/>\n       <path d=\"M 4.890625 31.390625 \nL 31.203125 31.390625 \nL 31.203125 23.390625 \nL 4.890625 23.390625 \nz\n\" id=\"DejaVuSans-45\"/>\n       <path d=\"M 53.515625 70.515625 \nL 53.515625 60.890625 \nQ 47.90625 63.578125 42.921875 64.890625 \nQ 37.9375 66.21875 33.296875 66.21875 \nQ 25.25 66.21875 20.875 63.09375 \nQ 16.5 59.96875 16.5 54.203125 \nQ 16.5 49.359375 19.40625 46.890625 \nQ 22.3125 44.4375 30.421875 42.921875 \nL 36.375 41.703125 \nQ 47.40625 39.59375 52.65625 34.296875 \nQ 57.90625 29 57.90625 20.125 \nQ 57.90625 9.515625 50.796875 4.046875 \nQ 43.703125 -1.421875 29.984375 -1.421875 \nQ 24.8125 -1.421875 18.96875 -0.25 \nQ 13.140625 0.921875 6.890625 3.21875 \nL 6.890625 13.375 \nQ 12.890625 10.015625 18.65625 8.296875 \nQ 24.421875 6.59375 29.984375 6.59375 \nQ 38.421875 6.59375 43.015625 9.90625 \nQ 47.609375 13.234375 47.609375 19.390625 \nQ 47.609375 24.75 44.3125 27.78125 \nQ 41.015625 30.8125 33.5 32.328125 \nL 27.484375 33.5 \nQ 16.453125 35.6875 11.515625 40.375 \nQ 6.59375 45.0625 6.59375 53.421875 \nQ 6.59375 63.09375 13.40625 68.65625 \nQ 20.21875 74.21875 32.171875 74.21875 \nQ 37.3125 74.21875 42.625 73.28125 \nQ 47.953125 72.359375 53.515625 70.515625 \nz\n\" id=\"DejaVuSans-83\"/>\n       <path d=\"M 45.40625 46.390625 \nL 45.40625 75.984375 \nL 54.390625 75.984375 \nL 54.390625 0 \nL 45.40625 0 \nL 45.40625 8.203125 \nQ 42.578125 3.328125 38.25 0.953125 \nQ 33.9375 -1.421875 27.875 -1.421875 \nQ 17.96875 -1.421875 11.734375 6.484375 \nQ 5.515625 14.40625 5.515625 27.296875 \nQ 5.515625 40.1875 11.734375 48.09375 \nQ 17.96875 56 27.875 56 \nQ 33.9375 56 38.25 53.625 \nQ 42.578125 51.265625 45.40625 46.390625 \nz\nM 14.796875 27.296875 \nQ 14.796875 17.390625 18.875 11.75 \nQ 22.953125 6.109375 30.078125 6.109375 \nQ 37.203125 6.109375 41.296875 11.75 \nQ 45.40625 17.390625 45.40625 27.296875 \nQ 45.40625 37.203125 41.296875 42.84375 \nQ 37.203125 48.484375 30.078125 48.484375 \nQ 22.953125 48.484375 18.875 42.84375 \nQ 14.796875 37.203125 14.796875 27.296875 \nz\n\" id=\"DejaVuSans-100\"/>\n       <path d=\"M 9.421875 75.984375 \nL 18.40625 75.984375 \nL 18.40625 0 \nL 9.421875 0 \nz\n\" id=\"DejaVuSans-108\"/>\n      </defs>\n      <use xlink:href=\"#DejaVuSans-71\"/>\n      <use x=\"77.490234\" xlink:href=\"#DejaVuSans-97\"/>\n      <use x=\"138.769531\" xlink:href=\"#DejaVuSans-117\"/>\n      <use x=\"202.148438\" xlink:href=\"#DejaVuSans-115\"/>\n      <use x=\"254.248047\" xlink:href=\"#DejaVuSans-115\"/>\n      <use x=\"306.347656\" xlink:href=\"#DejaVuSans-45\"/>\n      <use x=\"342.431641\" xlink:href=\"#DejaVuSans-83\"/>\n      <use x=\"405.908203\" xlink:href=\"#DejaVuSans-105\"/>\n      <use x=\"433.691406\" xlink:href=\"#DejaVuSans-101\"/>\n      <use x=\"495.214844\" xlink:href=\"#DejaVuSans-100\"/>\n      <use x=\"558.691406\" xlink:href=\"#DejaVuSans-101\"/>\n      <use x=\"620.214844\" xlink:href=\"#DejaVuSans-108\"/>\n     </g>\n    </g>\n    <g id=\"line2d_19\">\n     <path d=\"M 276.78125 64.772812 \nL 296.78125 64.772812 \n\" style=\"fill:none;stroke:#0000ff;stroke-linecap:square;stroke-width:1.5;\"/>\n    </g>\n    <g id=\"line2d_20\"/>\n    <g id=\"text_17\">\n     <!-- SOR -->\n     <g transform=\"translate(304.78125 68.272812)scale(0.1 -0.1)\">\n      <defs>\n       <path d=\"M 39.40625 66.21875 \nQ 28.65625 66.21875 22.328125 58.203125 \nQ 16.015625 50.203125 16.015625 36.375 \nQ 16.015625 22.609375 22.328125 14.59375 \nQ 28.65625 6.59375 39.40625 6.59375 \nQ 50.140625 6.59375 56.421875 14.59375 \nQ 62.703125 22.609375 62.703125 36.375 \nQ 62.703125 50.203125 56.421875 58.203125 \nQ 50.140625 66.21875 39.40625 66.21875 \nz\nM 39.40625 74.21875 \nQ 54.734375 74.21875 63.90625 63.9375 \nQ 73.09375 53.65625 73.09375 36.375 \nQ 73.09375 19.140625 63.90625 8.859375 \nQ 54.734375 -1.421875 39.40625 -1.421875 \nQ 24.03125 -1.421875 14.8125 8.828125 \nQ 5.609375 19.09375 5.609375 36.375 \nQ 5.609375 53.65625 14.8125 63.9375 \nQ 24.03125 74.21875 39.40625 74.21875 \nz\n\" id=\"DejaVuSans-79\"/>\n       <path d=\"M 44.390625 34.1875 \nQ 47.5625 33.109375 50.5625 29.59375 \nQ 53.5625 26.078125 56.59375 19.921875 \nL 66.609375 0 \nL 56 0 \nL 46.6875 18.703125 \nQ 43.0625 26.03125 39.671875 28.421875 \nQ 36.28125 30.8125 30.421875 30.8125 \nL 19.671875 30.8125 \nL 19.671875 0 \nL 9.8125 0 \nL 9.8125 72.90625 \nL 32.078125 72.90625 \nQ 44.578125 72.90625 50.734375 67.671875 \nQ 56.890625 62.453125 56.890625 51.90625 \nQ 56.890625 45.015625 53.6875 40.46875 \nQ 50.484375 35.9375 44.390625 34.1875 \nz\nM 19.671875 64.796875 \nL 19.671875 38.921875 \nL 32.078125 38.921875 \nQ 39.203125 38.921875 42.84375 42.21875 \nQ 46.484375 45.515625 46.484375 51.90625 \nQ 46.484375 58.296875 42.84375 61.546875 \nQ 39.203125 64.796875 32.078125 64.796875 \nz\n\" id=\"DejaVuSans-82\"/>\n      </defs>\n      <use xlink:href=\"#DejaVuSans-83\"/>\n      <use x=\"63.476562\" xlink:href=\"#DejaVuSans-79\"/>\n      <use x=\"142.1875\" xlink:href=\"#DejaVuSans-82\"/>\n     </g>\n    </g>\n   </g>\n  </g>\n </g>\n <defs>\n  <clipPath id=\"p46d3a28ee7\">\n   <rect height=\"217.44\" width=\"334.8\" x=\"43.78125\" y=\"22.318125\"/>\n  </clipPath>\n </defs>\n</svg>\n",
      "image/png": "[encoded data removed]"
     },
     "metadata": {
      "needs_background": "light"
     }
    }
   ],
   "source": [
    "import matplotlib.pyplot as plt\n",
    "plt.title(\"Iteration vs Accuracy\")\n",
    "plt.ylabel(\"Accuracy\")\n",
    "plt.xlabel(\"Iteration\")\n",
    "plt.plot(jacobi_count,jacobi_accuracy,color = 'red')\n",
    "plt.plot(gs_count,gs_accuracy,color = 'green')\n",
    "plt.plot(sor_count,sor_accuracy,color = 'blue')\n",
    "plt.legend([\"Jacobi\", \"Gauss-Siedel\", \"SOR\"], loc=\"upper right\")\n",
    "plt.show()"
   ]
  }
 ]
}