{
 "metadata": {
  "language_info": {
   "codemirror_mode": {
    "name": "ipython",
    "version": 3
   },
   "file_extension": ".py",
   "mimetype": "text/x-python",
   "name": "python",
   "nbconvert_exporter": "python",
   "pygments_lexer": "ipython3",
   "version": "3.8.5"
  },
  "orig_nbformat": 2,
  "kernelspec": {
   "name": "python385jvsc74a57bd031f2aee4e71d21fbe5cf8b01ff0e069b9275f58929596ceb00d14d90e3e16cd6",
   "display_name": "Python 3.8.5 64-bit ('usr')"
  }
 },
 "nbformat": 4,
 "nbformat_minor": 2,
 "cells": [
  {
   "cell_type": "code",
   "execution_count": 8,
   "metadata": {},
   "outputs": [],
   "source": [
    "import numpy as np"
   ]
  },
  {
   "cell_type": "code",
   "execution_count": 9,
   "metadata": {},
   "outputs": [],
   "source": [
    "def euler(x0,y0,xn,n,f):\n",
    "    h = (xn-x0)/n\n",
    "    print('\\n-----------SOLUTION-----------')\n",
    "    print('------------------------------')    \n",
    "    print('x0\\ty0\\tslope\\tyn')\n",
    "    print('------------------------------')\n",
    "    for i in range(n):\n",
    "        slope = f(x0, y0)\n",
    "        yn = y0 + h * slope\n",
    "        print('%.4f\\t%.4f\\t%0.4f\\t%.4f'% (x0,y0,slope,yn) )\n",
    "        print('------------------------------')\n",
    "        y0 = yn\n",
    "        x0 = x0+h\n",
    "    \n",
    "    print('\\nAt x=%.4f, y=%.4f' %(xn,yn))"
   ]
  },
  {
   "cell_type": "code",
   "execution_count": 10,
   "metadata": {},
   "outputs": [],
   "source": [
    "f = lambda x,y: (x+y)"
   ]
  },
  {
   "cell_type": "code",
   "execution_count": 11,
   "metadata": {},
   "outputs": [
    {
     "output_type": "stream",
     "name": "stdout",
     "text": [
      "\n-----------SOLUTION-----------\n------------------------------\nx0\ty0\tslope\tyn\n------------------------------\n0.0000\t1.0000\t1.0000\t1.1000\n------------------------------\n0.1000\t1.1000\t1.2000\t1.2200\n------------------------------\n0.2000\t1.2200\t1.4200\t1.3620\n------------------------------\n0.3000\t1.3620\t1.6620\t1.5282\n------------------------------\n0.4000\t1.5282\t1.9282\t1.7210\n------------------------------\n0.5000\t1.7210\t2.2210\t1.9431\n------------------------------\n0.6000\t1.9431\t2.5431\t2.1974\n------------------------------\n0.7000\t2.1974\t2.8974\t2.4872\n------------------------------\n0.8000\t2.4872\t3.2872\t2.8159\n------------------------------\n0.9000\t2.8159\t3.7159\t3.1875\n------------------------------\n\nAt x=1.0000, y=3.1875\n"
     ]
    }
   ],
   "source": [
    "a = 0 \n",
    "b = 1\n",
    "\n",
    "y0 = 1\n",
    "N = 10\n",
    "euler(a,b,y0,N,f)"
   ]
  },
  {
   "cell_type": "code",
   "execution_count": null,
   "metadata": {},
   "outputs": [],
   "source": []
  }
 ]
}