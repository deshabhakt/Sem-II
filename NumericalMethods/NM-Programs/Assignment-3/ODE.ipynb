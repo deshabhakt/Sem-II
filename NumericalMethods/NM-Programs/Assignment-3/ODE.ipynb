{
 "metadata": {
  "language_info": {
   "codemirror_mode": {
    "name": "ipython",
    "version": 3
   },
   "file_extension": ".py",
   "mimetype": "text/x-python",
   "name": "python",
   "nbconvert_exporter": "python",
   "pygments_lexer": "ipython3",
   "version": "3.8.5"
  },
  "orig_nbformat": 2,
  "kernelspec": {
   "name": "python385jvsc74a57bd031f2aee4e71d21fbe5cf8b01ff0e069b9275f58929596ceb00d14d90e3e16cd6",
   "display_name": "Python 3.8.5 64-bit ('usr')"
  }
 },
 "nbformat": 4,
 "nbformat_minor": 2,
 "cells": [
  {
   "cell_type": "code",
   "execution_count": 76,
   "metadata": {},
   "outputs": [],
   "source": [
    "import numpy as np"
   ]
  },
  {
   "cell_type": "code",
   "execution_count": 77,
   "metadata": {},
   "outputs": [],
   "source": [
    "def euler(x0,xn,y0,n,f):\n",
    "    h = (xn-x0)/n\n",
    "    print('x0\\t\\ty0\\t\\tyn\\n')\n",
    "    for i in range(n):\n",
    "        yn = y0 + h * f(x0, y0)\n",
    "        print(f'{x0:f}\\t{y0:f},\\t{yn:f}') \n",
    "        y0 = yn\n",
    "        x0 = x0+h\n",
    "    \n",
    "    print(f'\\nAt x = {xn}, y = {yn}')"
   ]
  },
  {
   "cell_type": "code",
   "execution_count": 78,
   "metadata": {},
   "outputs": [],
   "source": [
    "def modifiedEulerMethod(x0,xn,y0,n,f):\n",
    "    h = (xn-x0)/n\n",
    "    print('x0\\t\\ty0\\t\\tyn\\n')\n",
    "    \n",
    "    for i in range(n):\n",
    "        k = h*f(x0, y0)\n",
    "        yn = y0 + f(x0+(h/2), y0+(k/2))\n",
    "        print(f'{x0:f}\\t{y0:f},\\t{yn:f}') \n",
    "        y0 = yn\n",
    "        x0 = x0+h\n",
    "    print(f'\\nAt x = {xn}, y = {yn}')\n",
    "    "
   ]
  },
  {
   "cell_type": "code",
   "execution_count": 79,
   "metadata": {},
   "outputs": [],
   "source": [
    "def improvedEulerMethod(x0,xn,y0,n,f):\n",
    "    h = (xn-x0)/n\n",
    "    print('x0\\t\\ty0\\t\\tyn\\n')\n",
    "    \n",
    "    for i in range(n):\n",
    "        k = h*f(x0, y0)\n",
    "        multiplier = f(x0,y0) + f(x0+h,y0+k)\n",
    "        yn = y0 + (h/2)*multiplier\n",
    "        print(f'{x0:f}\\t{y0:f},\\t{yn:f}') \n",
    "        y0 = yn\n",
    "        x0 = x0+h\n",
    "    print(f'\\nAt x = {xn}, y = {yn}')\n",
    "    "
   ]
  },
  {
   "cell_type": "code",
   "execution_count": 80,
   "metadata": {},
   "outputs": [],
   "source": [
    "def rk4(x0,xn,y0,n,f):\n",
    "    h = (xn-x0)/n\n",
    "    print('x0\\t\\ty0\\t\\tyn\\n')\n",
    "    \n",
    "    for i in range(n):\n",
    "        k1 = f(x0,y0)\n",
    "        k2 = f(x0+(h/2),y0+(h*k1/2))\n",
    "        k3 = f(x0+(h/2),y0+(h*k2)/2)\n",
    "        k4 = f(x0+h,y0+hk3)\n",
    "        multiplier = k1 + 2*k2 + 2*k3 + k4\n",
    "        yn = y0 + (h/6)*multiplier\n",
    "        print(f'{x0:f}\\t{y0:f},\\t{yn:f}') \n",
    "        y0 = yn\n",
    "        x0 = x0+h\n",
    "    print(f'\\nAt x = {xn}, y = {yn}')\n",
    "    "
   ]
  },
  {
   "cell_type": "code",
   "execution_count": 81,
   "metadata": {},
   "outputs": [],
   "source": [
    "f = lambda x,y: (x+y)"
   ]
  },
  {
   "cell_type": "code",
   "execution_count": 82,
   "metadata": {},
   "outputs": [
    {
     "output_type": "stream",
     "name": "stdout",
     "text": [
      "x0\t\ty0\t\tyn\n\n0.000000\t1.000000,\t1.100000\n0.100000\t1.100000,\t1.220000\n0.200000\t1.220000,\t1.362000\n0.300000\t1.362000,\t1.528200\n0.400000\t1.528200,\t1.721020\n0.500000\t1.721020,\t1.943122\n0.600000\t1.943122,\t2.197434\n0.700000\t2.197434,\t2.487178\n0.800000\t2.487178,\t2.815895\n0.900000\t2.815895,\t3.187485\n\nAt x = 1, y = 3.1874849202\n"
     ]
    }
   ],
   "source": [
    "a = 0 \n",
    "b = 1\n",
    "\n",
    "y0 = 1\n",
    "N = 10\n",
    "euler(a,b,y0,N,f)"
   ]
  },
  {
   "cell_type": "code",
   "execution_count": 83,
   "metadata": {},
   "outputs": [
    {
     "output_type": "stream",
     "name": "stdout",
     "text": [
      "x0\t\ty0\t\tyn\n\n0.000000\t1.000000,\t2.100000\n0.100000\t2.100000,\t4.460000\n0.200000\t4.460000,\t9.403000\n0.300000\t9.403000,\t19.641150\n0.400000\t19.641150,\t40.734357\n0.500000\t40.734357,\t84.080433\n0.600000\t84.080433,\t173.044887\n0.700000\t173.044887,\t355.527019\n0.800000\t355.527019,\t729.720389\n0.900000\t729.720389,\t1496.921798\n\nAt x = 1, y = 1496.92179800808\n"
     ]
    }
   ],
   "source": [
    "modifiedEulerMethod(a,b,y0,N,f)"
   ]
  },
  {
   "cell_type": "code",
   "execution_count": null,
   "metadata": {},
   "outputs": [],
   "source": []
  }
 ]
}