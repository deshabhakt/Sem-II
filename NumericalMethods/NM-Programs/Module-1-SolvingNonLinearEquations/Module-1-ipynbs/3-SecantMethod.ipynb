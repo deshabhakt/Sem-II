{
 "metadata": {
  "language_info": {
   "codemirror_mode": {
    "name": "ipython",
    "version": 3
   },
   "file_extension": ".py",
   "mimetype": "text/x-python",
   "name": "python",
   "nbconvert_exporter": "python",
   "pygments_lexer": "ipython3",
   "version": "3.9.1-final"
  },
  "orig_nbformat": 2,
  "kernelspec": {
   "name": "python3",
   "display_name": "Python 3.9.1 64-bit",
   "metadata": {
    "interpreter": {
     "hash": "0666fee326dc6c7ef39c32ad6be1cd19b125cde6d4697bcb018259ae008181e2"
    }
   }
  }
 },
 "nbformat": 4,
 "nbformat_minor": 2,
 "cells": [
  {
   "cell_type": "code",
   "execution_count": 1,
   "metadata": {},
   "outputs": [],
   "source": [
    "import numpy as numpy\n",
    "import matplotlib.pyplot as plt\n",
    "import copy\n",
    "from prettytable import PrettyTable as ptbl\n",
    "from math import *\n",
    "\n",
    "MaxIterations = 1000"
   ]
  },
  {
   "cell_type": "code",
   "execution_count": 2,
   "metadata": {},
   "outputs": [],
   "source": [
    "def SecantMethod(f, a, b, e, N=MaxIterations):\n",
    "    \n",
    "    # Copy Input argument into local variable to avoid data over-writting\n",
    "    x0 = copy.copy(a)\n",
    "    x1 = copy.copy(b)\n",
    "    \n",
    "    print('\\n\\n*** SECANT METHOD IMPLEMENTATION ***')\n",
    "    \n",
    "    data =[]            # list for storing data to plot table and function plot\n",
    "    accuracy = []       # list for storing data to plot graph\n",
    "    \n",
    "    step = 1\n",
    "\n",
    "    while step <= N:\n",
    "        if f(x0) == f(x1):\n",
    "            print('Divide by zero error!') \n",
    "            break\n",
    "        \n",
    "        x2 = x1 - (x1-x0)*f(x1)/( f(x1) - f(x0) ) \n",
    "        \n",
    "        accuracyReached = abs(x2-x1)\n",
    "\n",
    "        # Adding iteration number and corresponding accuracy in accuracy-list which was created for plotting graph\n",
    "        accuracy.append([step,accuracyReached])\n",
    "\n",
    "        print(f'Iteration-{step:3}, a = {x0:.6f}   b ={x1:.6f}  c = {x2:.6f}  f(x2) = {f(x2):.6f}')\n",
    "        \n",
    "        # Adding data in data list which was created for plotting table and function plot\n",
    "        data.append([step,x0,x1,x2,f(x2)])\n",
    "\n",
    "        if(accuracyReached<e):\n",
    "            print(\"\\nFinal Root Found\")\n",
    "            print(f'Iteration-{step:3}, a = {x0:.6f}   b ={x1:.6f}  c = {x2:.6f}  f(x2) = {f(x2):.6f}')\n",
    "            print(f'Required root is: {x1:3.15f}')\n",
    "            break\n",
    "        \n",
    "        x0 = x1\n",
    "        x1 = x2\n",
    "\n",
    "        step = step + 1         # Incrementing step count for next iteration\n",
    "    \n",
    "    # Making table with prettytable module and adding data in it    \n",
    "    table = ptbl(['Iteration','x0','x1','x2','f(x2)'])\n",
    "    for dt in data:\n",
    "        table.add_row(dt)\n",
    "\n",
    "    if(step > N):\n",
    "        print('\\nNot Convergent.')   \n",
    "    return accuracy,table,data"
   ]
  },
  {
   "cell_type": "code",
   "execution_count": 4,
   "metadata": {},
   "outputs": [
    {
     "output_type": "stream",
     "name": "stdout",
     "text": [
      "\n\n*** SECANT METHOD IMPLEMENTATION ***\nIteration-  1, a = 4.000000   b =1.000000  c = 1.545455  f(x2) = -6.085650\nIteration-  2, a = 1.000000   b =1.545455  c = -37.210526  f(x2) = -54296.807115\nIteration-  3, a = 1.545455   b =-37.210526  c = 1.549799  f(x2) = -6.081328\nIteration-  4, a = -37.210526   b =1.549799  c = 1.554141  f(x2) = -6.076908\nIteration-  5, a = 1.549799   b =1.554141  c = 7.523858  f(x2) = 307.696928\nIteration-  6, a = 1.554141   b =7.523858  c = 1.669757  f(x2) = -5.920747\nIteration-  7, a = 7.523858   b =1.669757  c = 1.780276  f(x2) = -5.696390\nIteration-  8, a = 1.669757   b =1.780276  c = 4.586334  f(x2) = 49.402131\nIteration-  9, a = 1.780276   b =4.586334  c = 2.070382  f(x2) = -4.698311\nIteration- 10, a = 4.586334   b =2.070382  c = 2.288878  f(x2) = -3.486582\nIteration- 11, a = 2.070382   b =2.288878  c = 2.917569  f(x2) = 2.810545\nIteration- 12, a = 2.288878   b =2.917569  c = 2.636971  f(x2) = -0.570753\nIteration- 13, a = 2.917569   b =2.636971  c = 2.684335  f(x2) = -0.068921\nIteration- 14, a = 2.636971   b =2.684335  c = 2.690840  f(x2) = 0.002107\nIteration- 15, a = 2.684335   b =2.690840  c = 2.690647  f(x2) = -0.000007\n\nFinal Root Found\nIteration- 15, a = 2.684335   b =2.690840  c = 2.690647  f(x2) = -0.000007\nRequired root is: 2.690839716214587\n"
     ]
    },
    {
     "output_type": "execute_result",
     "data": {
      "text/plain": [
       "([[1, 0.5454545454545454],\n",
       "  [2, 38.755980861244055],\n",
       "  [3, 38.76032516399408],\n",
       "  [4, 0.004341703485701176],\n",
       "  [5, 5.969717075279009],\n",
       "  [6, 5.854100613055488],\n",
       "  [7, 0.11051879256805841],\n",
       "  [8, 2.806058047048011],\n",
       "  [9, 2.5159522451355496],\n",
       "  [10, 0.2184959081587503],\n",
       "  [11, 0.6286919462230434],\n",
       "  [12, 0.2805989300380132],\n",
       "  [13, 0.04736425869706151],\n",
       "  [14, 0.006504924779429544],\n",
       "  [15, 0.0001929424421014403]],\n",
       " <prettytable.prettytable.PrettyTable at 0x1de36b312b0>,\n",
       " [[1, 4.0, 1.0, 1.5454545454545454, -6.08564988730278],\n",
       "  [2, 1.0, 1.5454545454545454, -37.21052631578951, -54296.8071147399],\n",
       "  [3,\n",
       "   1.5454545454545454,\n",
       "   -37.21052631578951,\n",
       "   1.5497988482045741,\n",
       "   -6.081327553217612],\n",
       "  [4,\n",
       "   -37.21052631578951,\n",
       "   1.5497988482045741,\n",
       "   1.5541405516902753,\n",
       "   -6.076907891139738],\n",
       "  [5,\n",
       "   1.5497988482045741,\n",
       "   1.5541405516902753,\n",
       "   7.523857626969284,\n",
       "   307.6969276418985],\n",
       "  [6,\n",
       "   1.5541405516902753,\n",
       "   7.523857626969284,\n",
       "   1.669757013913796,\n",
       "   -5.92074666692881],\n",
       "  [7,\n",
       "   7.523857626969284,\n",
       "   1.669757013913796,\n",
       "   1.7802758064818545,\n",
       "   -5.696389892287321],\n",
       "  [8,\n",
       "   1.669757013913796,\n",
       "   1.7802758064818545,\n",
       "   4.586333853529865,\n",
       "   49.40213137478841],\n",
       "  [9,\n",
       "   1.7802758064818545,\n",
       "   4.586333853529865,\n",
       "   2.0703816083943156,\n",
       "   -4.698310642941843],\n",
       "  [10,\n",
       "   4.586333853529865,\n",
       "   2.0703816083943156,\n",
       "   2.288877516553066,\n",
       "   -3.486582163323119],\n",
       "  [11,\n",
       "   2.0703816083943156,\n",
       "   2.288877516553066,\n",
       "   2.9175694627761093,\n",
       "   2.810545397434961],\n",
       "  [12,\n",
       "   2.288877516553066,\n",
       "   2.9175694627761093,\n",
       "   2.636970532738096,\n",
       "   -0.570753046785855],\n",
       "  [13,\n",
       "   2.9175694627761093,\n",
       "   2.636970532738096,\n",
       "   2.6843347914351576,\n",
       "   -0.06892077060333435],\n",
       "  [14,\n",
       "   2.636970532738096,\n",
       "   2.6843347914351576,\n",
       "   2.690839716214587,\n",
       "   0.002106745722826986],\n",
       "  [15,\n",
       "   2.6843347914351576,\n",
       "   2.690839716214587,\n",
       "   2.6906467737724857,\n",
       "   -7.387256120594543e-06]])"
      ]
     },
     "metadata": {},
     "execution_count": 4
    }
   ],
   "source": [
    "# Defining Function\n",
    "def f(x):\n",
    "    q = (x**3) - 2*(x**2) -5\n",
    "    return q\n",
    "\n",
    "# Initial Guesses and accuracy\n",
    "x0 = 4.0\n",
    "x1 = 1.0\n",
    "\n",
    "e = 0.001\n",
    "SecantMethod(f,x0,x1,e)"
   ]
  },
  {
   "cell_type": "code",
   "execution_count": null,
   "metadata": {},
   "outputs": [],
   "source": [
    "s_acc,Secant_table,s_data = SecantMethod(f,x0,x1,e)"
   ]
  },
  {
   "cell_type": "code",
   "execution_count": null,
   "metadata": {},
   "outputs": [],
   "source": [
    "s_i = []\n",
    "s_a = []\n",
    "for i in s_acc:\n",
    "    s_i.append(i[0])\n",
    "    s_a.append(i[1])\n",
    "plt.title(\"Secant Method: Accuracy Vs Iterations\")\n",
    "plt.xlabel(\"Iterations\")\n",
    "plt.ylabel(\"Accuracy\")\n",
    "plt.plot(s_i,s_a,color = 'blue')\n",
    "plt.show()"
   ]
  },
  {
   "cell_type": "code",
   "execution_count": null,
   "metadata": {},
   "outputs": [],
   "source": [
    "print(Secant_table)"
   ]
  },
  {
   "source": [
    "## Function Plot"
   ],
   "cell_type": "markdown",
   "metadata": {}
  },
  {
   "cell_type": "code",
   "execution_count": null,
   "metadata": {},
   "outputs": [],
   "source": [
    "fig = plt.figure()\n",
    "ax = fig.add_subplot(1, 1, 1)\n",
    "\n",
    "# Move left y-axis and bottim x-axis to centre, passing through (0,0)\n",
    "# ax.spines['left'].set_position('center')  # To move y-axis to center\n",
    "ax.spines['bottom'].set_position(('data',0))    # To move x-axis to center\n",
    "\n",
    "# Eliminate upper and right axes\n",
    "ax.spines['right'].set_color('none')\n",
    "ax.spines['top'].set_color('none')\n",
    "\n",
    "# Show ticks in the left and lower axes only\n",
    "ax.xaxis.set_ticks_position('bottom')\n",
    "ax.yaxis.set_ticks_position('left')\n",
    "\n",
    "plt.title(\"Secant Method: x Vs f(x)\")\n",
    "plt.ylabel(\"f(x)\")\n",
    "\n",
    "# plt.plot(s_a,s_fa,color='indigo',linewidth=2)\n",
    "# plt.plot(s_b,s_fb,color='indigo',linewidth=2)\n",
    "plt.plot(s_data[:][1],s_data[:][-1],color='indigo',linewidth=2)\n",
    "plt.show()\n"
   ]
  }
 ]
}