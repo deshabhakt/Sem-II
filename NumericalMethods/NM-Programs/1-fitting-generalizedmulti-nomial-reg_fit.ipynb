{
 "metadata": {
  "language_info": {
   "codemirror_mode": {
    "name": "ipython",
    "version": 3
   },
   "file_extension": ".py",
   "mimetype": "text/x-python",
   "name": "python",
   "nbconvert_exporter": "python",
   "pygments_lexer": "ipython3",
   "version": "3.8.5"
  },
  "orig_nbformat": 2,
  "kernelspec": {
   "name": "python385jvsc74a57bd031f2aee4e71d21fbe5cf8b01ff0e069b9275f58929596ceb00d14d90e3e16cd6",
   "display_name": "Python 3.8.5 64-bit ('usr')"
  }
 },
 "nbformat": 4,
 "nbformat_minor": 2,
 "cells": [
  {
   "cell_type": "code",
   "execution_count": 1,
   "metadata": {},
   "outputs": [],
   "source": [
    "import matplotlib.pyplot as plt\n",
    "import pandas as pd\n",
    "import numpy as np\n",
    "import math\n",
    "import sympy as sp\n",
    "\n",
    "x = sp.Symbol('x', real=True)"
   ]
  },
  {
   "cell_type": "code",
   "execution_count": 2,
   "metadata": {},
   "outputs": [],
   "source": [
    "def printMatrix(V,name='A'):\n",
    "    print(f'Matrix {name} =\\n')\n",
    "    m = len(V)\n",
    "    n = len(V[0])\n",
    "    for i in range(m):\n",
    "        for j in range(n):\n",
    "            print(f'{V[i][j]:25.3f}',end='  ')\n",
    "        print()\n",
    "    print()\n"
   ]
  },
  {
   "cell_type": "code",
   "execution_count": 3,
   "metadata": {},
   "outputs": [],
   "source": [
    "def mulregfit(x,y,degree):\n",
    "    X_t = []\n",
    "    y_t = []\n",
    "    n = len(x)\n",
    "\n",
    "    X_t.append(n)\n",
    "    i = 1\n",
    "    while(True):\n",
    "        X_t.append(sum((x**i)))\n",
    "        if(i/2 == degree):\n",
    "            break\n",
    "        i += 1   \n",
    "    \n",
    "    print(len(X_t))\n",
    "    \n",
    "    y_t.append(sum(y))\n",
    "    for i in range(1,degree+1):        \n",
    "        y_t.append(sum((x**i)*y))\n",
    "    \n",
    "    A = np.zeros((degree+1,degree+1),dtype=float)\n",
    "    b = np.zeros((degree+1,1),dtype=float)\n",
    "\n",
    "    for i in range(degree+1):\n",
    "        k = i\n",
    "        for j in range(degree+1):\n",
    "            A[i,j] = X_t[k]\n",
    "            k +=1\n",
    "    \n",
    "    for i in range(degree+1):\n",
    "        b[i,0] = y_t[i]\n",
    "\n",
    "    coefficients = np.matmul(np.linalg.inv(A),b)\n",
    "\n",
    "    return coefficients[:,0],A,b"
   ]
  },
  {
   "source": [
    "def y_predict(a,p):\n",
    "    if isinstance(p, list):\n",
    "        ret = []\n",
    "        n = len(p)\n",
    "        for i in range(n):\n",
    "            temp = 0\n",
    "            for j in range(len(a)):\n",
    "                temp += a[j]*(p[i]**j)\n",
    "            ret.append(temp)\n",
    "        return ret\n",
    "\n",
    "    else:\n",
    "        ret = 0\n",
    "        for j in range(len(a)):\n",
    "            ret += a[j]*(p**j)\n",
    "        return ret"
   ],
   "cell_type": "code",
   "metadata": {},
   "execution_count": 4,
   "outputs": []
  },
  {
   "cell_type": "code",
   "execution_count": 18,
   "metadata": {},
   "outputs": [],
   "source": [
    "df = pd.read_csv('Salary_Data.csv')"
   ]
  },
  {
   "cell_type": "code",
   "execution_count": 19,
   "metadata": {},
   "outputs": [
    {
     "output_type": "execute_result",
     "data": {
      "text/plain": [
       "   YearsExperience   Salary\n",
       "0              1.1  39343.0\n",
       "1              1.3  46205.0\n",
       "2              1.5  37731.0\n",
       "3              2.0  43525.0\n",
       "4              2.2  39891.0"
      ],
      "text/html": "<div>\n<style scoped>\n    .dataframe tbody tr th:only-of-type {\n        vertical-align: middle;\n    }\n\n    .dataframe tbody tr th {\n        vertical-align: top;\n    }\n\n    .dataframe thead th {\n        text-align: right;\n    }\n</style>\n<table border=\"1\" class=\"dataframe\">\n  <thead>\n    <tr style=\"text-align: right;\">\n      <th></th>\n      <th>YearsExperience</th>\n      <th>Salary</th>\n    </tr>\n  </thead>\n  <tbody>\n    <tr>\n      <th>0</th>\n      <td>1.1</td>\n      <td>39343.0</td>\n    </tr>\n    <tr>\n      <th>1</th>\n      <td>1.3</td>\n      <td>46205.0</td>\n    </tr>\n    <tr>\n      <th>2</th>\n      <td>1.5</td>\n      <td>37731.0</td>\n    </tr>\n    <tr>\n      <th>3</th>\n      <td>2.0</td>\n      <td>43525.0</td>\n    </tr>\n    <tr>\n      <th>4</th>\n      <td>2.2</td>\n      <td>39891.0</td>\n    </tr>\n  </tbody>\n</table>\n</div>"
     },
     "metadata": {},
     "execution_count": 19
    }
   ],
   "source": [
    "df.head()"
   ]
  },
  {
   "cell_type": "code",
   "execution_count": 20,
   "metadata": {},
   "outputs": [],
   "source": [
    "x = df.iloc[:,0].values\n",
    "y = df.iloc[:,1].values"
   ]
  },
  {
   "cell_type": "code",
   "execution_count": 29,
   "metadata": {},
   "outputs": [],
   "source": [
    "degree = 10          # degreee of fit\n",
    "\n",
    "p =  4               # to be predicted"
   ]
  },
  {
   "cell_type": "code",
   "execution_count": 30,
   "metadata": {},
   "outputs": [
    {
     "output_type": "stream",
     "name": "stdout",
     "text": [
      "[ 1.1  1.3  1.5  2.   2.2  2.9  3.   3.2  3.2  3.7  3.9  4.   4.   4.1\n  4.5  4.9  5.1  5.3  5.9  6.   6.8  7.1  7.9  8.2  8.7  9.   9.5  9.6\n 10.3 10.5]\n[ 39343.  46205.  37731.  43525.  39891.  56642.  60150.  54445.  64445.\n  57189.  63218.  55794.  56957.  57081.  61111.  67938.  66029.  83088.\n  81363.  93940.  91738.  98273. 101302. 113812. 109431. 105582. 116969.\n 112635. 122391. 121872.]\n"
     ]
    }
   ],
   "source": [
    "print(x)\n",
    "print(y)"
   ]
  },
  {
   "cell_type": "code",
   "execution_count": 31,
   "metadata": {},
   "outputs": [
    {
     "output_type": "stream",
     "name": "stdout",
     "text": [
      "21\n"
     ]
    }
   ],
   "source": [
    "a,A,b = mulregfit(x,y,degree)"
   ]
  },
  {
   "cell_type": "code",
   "execution_count": 32,
   "metadata": {},
   "outputs": [
    {
     "output_type": "stream",
     "name": "stdout",
     "text": [
      "⎡      30.0             159.4             1080.5           8457.766          7\n",
      "⎢                                                                             \n",
      "⎢     159.4             1080.5           8457.766         72017.621        645\n",
      "⎢                                                                             \n",
      "⎢     1080.5           8457.766         72017.621        645033.57814      596\n",
      "⎢                                                                             \n",
      "⎢    8457.766         72017.621        645033.57814     5964562.19765    56346\n",
      "⎢                                                                             \n",
      "⎢   72017.621        645033.57814     5964562.19765    56346013.0528006  54047\n",
      "⎢                                                                             \n",
      "⎢  645033.57814     5964562.19765    56346013.0528006  540475743.904057  52443\n",
      "⎢                                                                             \n",
      "⎢ 5964562.19765    56346013.0528006  540475743.904057  5244312600.43165  51350\n",
      "⎢                                                                             \n",
      "⎢56346013.0528006  540475743.904057  5244312600.43165  51350468416.1569  50654\n",
      "⎢                                                                             \n",
      "⎢540475743.904057  5244312600.43165  51350468416.1569  506546581413.102  50279\n",
      "⎢                                                                             \n",
      "⎢5244312600.43165  51350468416.1569  506546581413.102  5027939998101.98  50171\n",
      "⎢                                                                             \n",
      "⎣51350468416.1569  506546581413.102  5027939998101.98  50171948352277.5  50294\n",
      "\n",
      "2017.621          645033.57814         5964562.19765        56346013.0528006  \n",
      "                                                                              \n",
      "033.57814        5964562.19765        56346013.0528006      540475743.904057  \n",
      "                                                                              \n",
      "4562.19765      56346013.0528006      540475743.904057      5244312600.43165  \n",
      "                                                                              \n",
      "013.0528006     540475743.904057      5244312600.43165      51350468416.1569  \n",
      "                                                                              \n",
      "5743.904057     5244312600.43165      51350468416.1569      506546581413.102  \n",
      "                                                                              \n",
      "12600.43165     51350468416.1569      506546581413.102      5027939998101.98  \n",
      "                                                                              \n",
      "468416.1569     506546581413.102      5027939998101.98      50171948352277.5  \n",
      "                                                                              \n",
      "6581413.102     5027939998101.98      50171948352277.5     502946668896563.0  \n",
      "                                                                              \n",
      "39998101.98     50171948352277.5     502946668896563.0    5.06200585175328e+15\n",
      "                                                                              \n",
      "948352277.5    502946668896563.0    5.06200585175328e+15  5.11277003112621e+16\n",
      "                                                                              \n",
      "6668896563.0  5.06200585175328e+15  5.11277003112621e+16  5.18022744274629e+17\n",
      "\n",
      "    540475743.904057      5244312600.43165      51350468416.1569  ⎤\n",
      "                                                                  ⎥\n",
      "    5244312600.43165      51350468416.1569      506546581413.102  ⎥\n",
      "                                                                  ⎥\n",
      "    51350468416.1569      506546581413.102      5027939998101.98  ⎥\n",
      "                                                                  ⎥\n",
      "    506546581413.102      5027939998101.98      50171948352277.5  ⎥\n",
      "                                                                  ⎥\n",
      "    5027939998101.98      50171948352277.5     502946668896563.0  ⎥\n",
      "                                                                  ⎥\n",
      "    50171948352277.5     502946668896563.0    5.06200585175328e+15⎥\n",
      "                                                                  ⎥\n",
      "   502946668896563.0    5.06200585175328e+15  5.11277003112621e+16⎥\n",
      "                                                                  ⎥\n",
      "  5.06200585175328e+15  5.11277003112621e+16  5.18022744274629e+17⎥\n",
      "                                                                  ⎥\n",
      "  5.11277003112621e+16  5.18022744274629e+17  5.26322573631072e+18⎥\n",
      "                                                                  ⎥\n",
      "  5.18022744274629e+17  5.26322573631072e+18  5.36090201694597e+19⎥\n",
      "                                                                  ⎥\n",
      "  5.26322573631072e+18  5.36090201694597e+19  5.47261942112101e+20⎦\n",
      "\n",
      "\n",
      "\n",
      "⎡     2280090.0      ⎤\n",
      "⎢                    ⎥\n",
      "⎢     14321961.0     ⎥\n",
      "⎢                    ⎥\n",
      "⎢    107818644.84    ⎥\n",
      "⎢                    ⎥\n",
      "⎢   897950961.396    ⎥\n",
      "⎢                    ⎥\n",
      "⎢  7931418140.6424   ⎥\n",
      "⎢                    ⎥\n",
      "⎢  72650308540.3926  ⎥\n",
      "⎢                    ⎥\n",
      "⎢  681638022448.127  ⎥\n",
      "⎢                    ⎥\n",
      "⎢  6504635075527.63  ⎥\n",
      "⎢                    ⎥\n",
      "⎢  62860861511397.5  ⎥\n",
      "⎢                    ⎥\n",
      "⎢ 613518895449256.0  ⎥\n",
      "⎢                    ⎥\n",
      "⎣6.03601612959584e+15⎦\n"
     ]
    }
   ],
   "source": [
    "sp.pprint(sp.Matrix(A))\n",
    "print(\"\\n\\n\")\n",
    "sp.pprint(sp.Matrix(b))"
   ]
  },
  {
   "cell_type": "code",
   "execution_count": 33,
   "metadata": {},
   "outputs": [
    {
     "output_type": "stream",
     "name": "stdout",
     "text": [
      "Matrix A =\n\n                   30.000                    159.400                   1080.500                   8457.766                  72017.621                 645033.578                5964562.198               56346013.053              540475743.904             5244312600.432            51350468416.157  \n                  159.400                   1080.500                   8457.766                  72017.621                 645033.578                5964562.198               56346013.053              540475743.904             5244312600.432            51350468416.157           506546581413.102  \n                 1080.500                   8457.766                  72017.621                 645033.578                5964562.198               56346013.053              540475743.904             5244312600.432            51350468416.157           506546581413.102          5027939998101.979  \n                 8457.766                  72017.621                 645033.578                5964562.198               56346013.053              540475743.904             5244312600.432            51350468416.157           506546581413.102          5027939998101.979         50171948352277.484  \n                72017.621                 645033.578                5964562.198               56346013.053              540475743.904             5244312600.432            51350468416.157           506546581413.102          5027939998101.979         50171948352277.484        502946668896562.750  \n               645033.578                5964562.198               56346013.053              540475743.904             5244312600.432            51350468416.157           506546581413.102          5027939998101.979         50171948352277.484        502946668896562.750       5062005851753275.000  \n              5964562.198               56346013.053              540475743.904             5244312600.432            51350468416.157           506546581413.102          5027939998101.979         50171948352277.484        502946668896562.750       5062005851753275.000      51127700311262128.000  \n             56346013.053              540475743.904             5244312600.432            51350468416.157           506546581413.102          5027939998101.979         50171948352277.484        502946668896562.750       5062005851753275.000      51127700311262128.000     518022744274628608.000  \n            540475743.904             5244312600.432            51350468416.157           506546581413.102          5027939998101.979         50171948352277.484        502946668896562.750       5062005851753275.000      51127700311262128.000     518022744274628608.000    5263225736310724608.000  \n           5244312600.432            51350468416.157           506546581413.102          5027939998101.979         50171948352277.484        502946668896562.750       5062005851753275.000      51127700311262128.000     518022744274628608.000    5263225736310724608.000   53609020169459736576.000  \n          51350468416.157           506546581413.102          5027939998101.979         50171948352277.484        502946668896562.750       5062005851753275.000      51127700311262128.000     518022744274628608.000    5263225736310724608.000   53609020169459736576.000  547261942112101335040.000  \n\nMatrix b =\n\n              2280090.000  \n             14321961.000  \n            107818644.840  \n            897950961.396  \n           7931418140.642  \n          72650308540.393  \n         681638022448.127  \n        6504635075527.635  \n       62860861511397.500  \n      613518895449255.500  \n     6036016129595843.000  \n\n"
     ]
    }
   ],
   "source": [
    "printMatrix(A,'A')\n",
    "printMatrix(b,'b')"
   ]
  },
  {
   "cell_type": "code",
   "execution_count": 34,
   "metadata": {},
   "outputs": [
    {
     "output_type": "stream",
     "name": "stdout",
     "text": [
      "[-1.19059253e+06  3.69372594e+06 -4.62245125e+06  3.14711494e+06\n -1.29632838e+06  3.40568117e+05 -5.83102080e+04  6.47701245e+03\n -4.49869507e+02  1.77485952e+01 -3.03558461e-01]\n"
     ]
    }
   ],
   "source": [
    "print(a)"
   ]
  },
  {
   "cell_type": "code",
   "execution_count": 35,
   "metadata": {},
   "outputs": [],
   "source": [
    "y_predicted = y_predict(a,x)"
   ]
  },
  {
   "cell_type": "code",
   "execution_count": 36,
   "metadata": {},
   "outputs": [
    {
     "output_type": "execute_result",
     "data": {
      "text/plain": [
       "[<matplotlib.lines.Line2D at 0x7f793f790820>]"
      ]
     },
     "metadata": {},
     "execution_count": 36
    },
    {
     "output_type": "display_data",
     "data": {
      "text/plain": "<Figure size 432x288 with 1 Axes>",
      "image/svg+xml": "<?xml version=\"1.0\" encoding=\"utf-8\" standalone=\"no\"?>\n<!DOCTYPE svg PUBLIC \"-//W3C//DTD SVG 1.1//EN\"\n  \"http://www.w3.org/Graphics/SVG/1.1/DTD/svg11.dtd\">\n<svg height=\"248.518125pt\" version=\"1.1\" viewBox=\"0 0 394.375 248.518125\" width=\"394.375pt\" xmlns=\"http://www.w3.org/2000/svg\" xmlns:xlink=\"http://www.w3.org/1999/xlink\">\n <metadata>\n  <rdf:RDF xmlns:cc=\"http://creativecommons.org/ns#\" xmlns:dc=\"http://purl.org/dc/elements/1.1/\" xmlns:rdf=\"http://www.w3.org/1999/02/22-rdf-syntax-ns#\">\n   <cc:Work>\n    <dc:type rdf:resource=\"http://purl.org/dc/dcmitype/StillImage\"/>\n    <dc:date>2021-05-05T21:16:44.186584</dc:date>\n    <dc:format>image/svg+xml</dc:format>\n    <dc:creator>\n     <cc:Agent>\n      <dc:title>Matplotlib v3.4.1, https://matplotlib.org/</dc:title>\n     </cc:Agent>\n    </dc:creator>\n   </cc:Work>\n  </rdf:RDF>\n </metadata>\n <defs>\n  <style type=\"text/css\">*{stroke-linecap:butt;stroke-linejoin:round;}</style>\n </defs>\n <g id=\"figure_1\">\n  <g id=\"patch_1\">\n   <path d=\"M 0 248.518125 \nL 394.375 248.518125 \nL 394.375 0 \nL 0 0 \nz\n\" style=\"fill:none;\"/>\n  </g>\n  <g id=\"axes_1\">\n   <g id=\"patch_2\">\n    <path d=\"M 52.375 224.64 \nL 387.175 224.64 \nL 387.175 7.2 \nL 52.375 7.2 \nz\n\" style=\"fill:#ffffff;\"/>\n   </g>\n   <g id=\"matplotlib.axis_1\">\n    <g id=\"xtick_1\">\n     <g id=\"line2d_1\">\n      <defs>\n       <path d=\"M 0 0 \nL 0 3.5 \n\" id=\"ma37e26a44d\" style=\"stroke:#000000;stroke-width:0.8;\"/>\n      </defs>\n      <g>\n       <use style=\"stroke:#000000;stroke-width:0.8;\" x=\"96.734381\" xlink:href=\"#ma37e26a44d\" y=\"224.64\"/>\n      </g>\n     </g>\n     <g id=\"text_1\">\n      <!-- 2 -->\n      <g transform=\"translate(93.553131 239.238437)scale(0.1 -0.1)\">\n       <defs>\n        <path d=\"M 1228 531 \nL 3431 531 \nL 3431 0 \nL 469 0 \nL 469 531 \nQ 828 903 1448 1529 \nQ 2069 2156 2228 2338 \nQ 2531 2678 2651 2914 \nQ 2772 3150 2772 3378 \nQ 2772 3750 2511 3984 \nQ 2250 4219 1831 4219 \nQ 1534 4219 1204 4116 \nQ 875 4013 500 3803 \nL 500 4441 \nQ 881 4594 1212 4672 \nQ 1544 4750 1819 4750 \nQ 2544 4750 2975 4387 \nQ 3406 4025 3406 3419 \nQ 3406 3131 3298 2873 \nQ 3191 2616 2906 2266 \nQ 2828 2175 2409 1742 \nQ 1991 1309 1228 531 \nz\n\" id=\"DejaVuSans-32\" transform=\"scale(0.015625)\"/>\n       </defs>\n       <use xlink:href=\"#DejaVuSans-32\"/>\n      </g>\n     </g>\n    </g>\n    <g id=\"xtick_2\">\n     <g id=\"line2d_2\">\n      <g>\n       <use style=\"stroke:#000000;stroke-width:0.8;\" x=\"161.492602\" xlink:href=\"#ma37e26a44d\" y=\"224.64\"/>\n      </g>\n     </g>\n     <g id=\"text_2\">\n      <!-- 4 -->\n      <g transform=\"translate(158.311352 239.238437)scale(0.1 -0.1)\">\n       <defs>\n        <path d=\"M 2419 4116 \nL 825 1625 \nL 2419 1625 \nL 2419 4116 \nz\nM 2253 4666 \nL 3047 4666 \nL 3047 1625 \nL 3713 1625 \nL 3713 1100 \nL 3047 1100 \nL 3047 0 \nL 2419 0 \nL 2419 1100 \nL 313 1100 \nL 313 1709 \nL 2253 4666 \nz\n\" id=\"DejaVuSans-34\" transform=\"scale(0.015625)\"/>\n       </defs>\n       <use xlink:href=\"#DejaVuSans-34\"/>\n      </g>\n     </g>\n    </g>\n    <g id=\"xtick_3\">\n     <g id=\"line2d_3\">\n      <g>\n       <use style=\"stroke:#000000;stroke-width:0.8;\" x=\"226.250822\" xlink:href=\"#ma37e26a44d\" y=\"224.64\"/>\n      </g>\n     </g>\n     <g id=\"text_3\">\n      <!-- 6 -->\n      <g transform=\"translate(223.069572 239.238437)scale(0.1 -0.1)\">\n       <defs>\n        <path d=\"M 2113 2584 \nQ 1688 2584 1439 2293 \nQ 1191 2003 1191 1497 \nQ 1191 994 1439 701 \nQ 1688 409 2113 409 \nQ 2538 409 2786 701 \nQ 3034 994 3034 1497 \nQ 3034 2003 2786 2293 \nQ 2538 2584 2113 2584 \nz\nM 3366 4563 \nL 3366 3988 \nQ 3128 4100 2886 4159 \nQ 2644 4219 2406 4219 \nQ 1781 4219 1451 3797 \nQ 1122 3375 1075 2522 \nQ 1259 2794 1537 2939 \nQ 1816 3084 2150 3084 \nQ 2853 3084 3261 2657 \nQ 3669 2231 3669 1497 \nQ 3669 778 3244 343 \nQ 2819 -91 2113 -91 \nQ 1303 -91 875 529 \nQ 447 1150 447 2328 \nQ 447 3434 972 4092 \nQ 1497 4750 2381 4750 \nQ 2619 4750 2861 4703 \nQ 3103 4656 3366 4563 \nz\n\" id=\"DejaVuSans-36\" transform=\"scale(0.015625)\"/>\n       </defs>\n       <use xlink:href=\"#DejaVuSans-36\"/>\n      </g>\n     </g>\n    </g>\n    <g id=\"xtick_4\">\n     <g id=\"line2d_4\">\n      <g>\n       <use style=\"stroke:#000000;stroke-width:0.8;\" x=\"291.009043\" xlink:href=\"#ma37e26a44d\" y=\"224.64\"/>\n      </g>\n     </g>\n     <g id=\"text_4\">\n      <!-- 8 -->\n      <g transform=\"translate(287.827793 239.238437)scale(0.1 -0.1)\">\n       <defs>\n        <path d=\"M 2034 2216 \nQ 1584 2216 1326 1975 \nQ 1069 1734 1069 1313 \nQ 1069 891 1326 650 \nQ 1584 409 2034 409 \nQ 2484 409 2743 651 \nQ 3003 894 3003 1313 \nQ 3003 1734 2745 1975 \nQ 2488 2216 2034 2216 \nz\nM 1403 2484 \nQ 997 2584 770 2862 \nQ 544 3141 544 3541 \nQ 544 4100 942 4425 \nQ 1341 4750 2034 4750 \nQ 2731 4750 3128 4425 \nQ 3525 4100 3525 3541 \nQ 3525 3141 3298 2862 \nQ 3072 2584 2669 2484 \nQ 3125 2378 3379 2068 \nQ 3634 1759 3634 1313 \nQ 3634 634 3220 271 \nQ 2806 -91 2034 -91 \nQ 1263 -91 848 271 \nQ 434 634 434 1313 \nQ 434 1759 690 2068 \nQ 947 2378 1403 2484 \nz\nM 1172 3481 \nQ 1172 3119 1398 2916 \nQ 1625 2713 2034 2713 \nQ 2441 2713 2670 2916 \nQ 2900 3119 2900 3481 \nQ 2900 3844 2670 4047 \nQ 2441 4250 2034 4250 \nQ 1625 4250 1398 4047 \nQ 1172 3844 1172 3481 \nz\n\" id=\"DejaVuSans-38\" transform=\"scale(0.015625)\"/>\n       </defs>\n       <use xlink:href=\"#DejaVuSans-38\"/>\n      </g>\n     </g>\n    </g>\n    <g id=\"xtick_5\">\n     <g id=\"line2d_5\">\n      <g>\n       <use style=\"stroke:#000000;stroke-width:0.8;\" x=\"355.767263\" xlink:href=\"#ma37e26a44d\" y=\"224.64\"/>\n      </g>\n     </g>\n     <g id=\"text_5\">\n      <!-- 10 -->\n      <g transform=\"translate(349.404763 239.238437)scale(0.1 -0.1)\">\n       <defs>\n        <path d=\"M 794 531 \nL 1825 531 \nL 1825 4091 \nL 703 3866 \nL 703 4441 \nL 1819 4666 \nL 2450 4666 \nL 2450 531 \nL 3481 531 \nL 3481 0 \nL 794 0 \nL 794 531 \nz\n\" id=\"DejaVuSans-31\" transform=\"scale(0.015625)\"/>\n        <path d=\"M 2034 4250 \nQ 1547 4250 1301 3770 \nQ 1056 3291 1056 2328 \nQ 1056 1369 1301 889 \nQ 1547 409 2034 409 \nQ 2525 409 2770 889 \nQ 3016 1369 3016 2328 \nQ 3016 3291 2770 3770 \nQ 2525 4250 2034 4250 \nz\nM 2034 4750 \nQ 2819 4750 3233 4129 \nQ 3647 3509 3647 2328 \nQ 3647 1150 3233 529 \nQ 2819 -91 2034 -91 \nQ 1250 -91 836 529 \nQ 422 1150 422 2328 \nQ 422 3509 836 4129 \nQ 1250 4750 2034 4750 \nz\n\" id=\"DejaVuSans-30\" transform=\"scale(0.015625)\"/>\n       </defs>\n       <use xlink:href=\"#DejaVuSans-31\"/>\n       <use x=\"63.623047\" xlink:href=\"#DejaVuSans-30\"/>\n      </g>\n     </g>\n    </g>\n   </g>\n   <g id=\"matplotlib.axis_2\">\n    <g id=\"ytick_1\">\n     <g id=\"line2d_6\">\n      <defs>\n       <path d=\"M 0 0 \nL -3.5 0 \n\" id=\"m0e9a4d975c\" style=\"stroke:#000000;stroke-width:0.8;\"/>\n      </defs>\n      <g>\n       <use style=\"stroke:#000000;stroke-width:0.8;\" x=\"52.375\" xlink:href=\"#m0e9a4d975c\" y=\"189.169276\"/>\n      </g>\n     </g>\n     <g id=\"text_6\">\n      <!-- 40000 -->\n      <g transform=\"translate(13.5625 192.968495)scale(0.1 -0.1)\">\n       <use xlink:href=\"#DejaVuSans-34\"/>\n       <use x=\"63.623047\" xlink:href=\"#DejaVuSans-30\"/>\n       <use x=\"127.246094\" xlink:href=\"#DejaVuSans-30\"/>\n       <use x=\"190.869141\" xlink:href=\"#DejaVuSans-30\"/>\n       <use x=\"254.492188\" xlink:href=\"#DejaVuSans-30\"/>\n      </g>\n     </g>\n    </g>\n    <g id=\"ytick_2\">\n     <g id=\"line2d_7\">\n      <g>\n       <use style=\"stroke:#000000;stroke-width:0.8;\" x=\"52.375\" xlink:href=\"#m0e9a4d975c\" y=\"149.55325\"/>\n      </g>\n     </g>\n     <g id=\"text_7\">\n      <!-- 60000 -->\n      <g transform=\"translate(13.5625 153.352469)scale(0.1 -0.1)\">\n       <use xlink:href=\"#DejaVuSans-36\"/>\n       <use x=\"63.623047\" xlink:href=\"#DejaVuSans-30\"/>\n       <use x=\"127.246094\" xlink:href=\"#DejaVuSans-30\"/>\n       <use x=\"190.869141\" xlink:href=\"#DejaVuSans-30\"/>\n       <use x=\"254.492188\" xlink:href=\"#DejaVuSans-30\"/>\n      </g>\n     </g>\n    </g>\n    <g id=\"ytick_3\">\n     <g id=\"line2d_8\">\n      <g>\n       <use style=\"stroke:#000000;stroke-width:0.8;\" x=\"52.375\" xlink:href=\"#m0e9a4d975c\" y=\"109.937224\"/>\n      </g>\n     </g>\n     <g id=\"text_8\">\n      <!-- 80000 -->\n      <g transform=\"translate(13.5625 113.736443)scale(0.1 -0.1)\">\n       <use xlink:href=\"#DejaVuSans-38\"/>\n       <use x=\"63.623047\" xlink:href=\"#DejaVuSans-30\"/>\n       <use x=\"127.246094\" xlink:href=\"#DejaVuSans-30\"/>\n       <use x=\"190.869141\" xlink:href=\"#DejaVuSans-30\"/>\n       <use x=\"254.492188\" xlink:href=\"#DejaVuSans-30\"/>\n      </g>\n     </g>\n    </g>\n    <g id=\"ytick_4\">\n     <g id=\"line2d_9\">\n      <g>\n       <use style=\"stroke:#000000;stroke-width:0.8;\" x=\"52.375\" xlink:href=\"#m0e9a4d975c\" y=\"70.321198\"/>\n      </g>\n     </g>\n     <g id=\"text_9\">\n      <!-- 100000 -->\n      <g transform=\"translate(7.2 74.120417)scale(0.1 -0.1)\">\n       <use xlink:href=\"#DejaVuSans-31\"/>\n       <use x=\"63.623047\" xlink:href=\"#DejaVuSans-30\"/>\n       <use x=\"127.246094\" xlink:href=\"#DejaVuSans-30\"/>\n       <use x=\"190.869141\" xlink:href=\"#DejaVuSans-30\"/>\n       <use x=\"254.492188\" xlink:href=\"#DejaVuSans-30\"/>\n       <use x=\"318.115234\" xlink:href=\"#DejaVuSans-30\"/>\n      </g>\n     </g>\n    </g>\n    <g id=\"ytick_5\">\n     <g id=\"line2d_10\">\n      <g>\n       <use style=\"stroke:#000000;stroke-width:0.8;\" x=\"52.375\" xlink:href=\"#m0e9a4d975c\" y=\"30.705172\"/>\n      </g>\n     </g>\n     <g id=\"text_10\">\n      <!-- 120000 -->\n      <g transform=\"translate(7.2 34.504391)scale(0.1 -0.1)\">\n       <use xlink:href=\"#DejaVuSans-31\"/>\n       <use x=\"63.623047\" xlink:href=\"#DejaVuSans-32\"/>\n       <use x=\"127.246094\" xlink:href=\"#DejaVuSans-30\"/>\n       <use x=\"190.869141\" xlink:href=\"#DejaVuSans-30\"/>\n       <use x=\"254.492188\" xlink:href=\"#DejaVuSans-30\"/>\n       <use x=\"318.115234\" xlink:href=\"#DejaVuSans-30\"/>\n      </g>\n     </g>\n    </g>\n   </g>\n   <g id=\"line2d_11\">\n    <path clip-path=\"url(#p5dad267aa0)\" d=\"M 67.593182 190.470662 \nL 74.069004 176.878404 \nL 80.544826 193.663714 \nL 96.734381 182.186951 \nL 103.210203 189.385183 \nL 125.87558 156.204781 \nL 129.113491 149.25613 \nL 135.589313 160.556601 \nL 135.589313 140.748588 \nL 151.778868 155.121282 \nL 158.254691 143.179031 \nL 161.492602 157.8845 \nL 161.492602 155.580828 \nL 164.730513 155.335209 \nL 177.682157 147.35258 \nL 190.633801 133.829649 \nL 197.109623 137.610999 \nL 203.585445 103.82051 \nL 223.012911 107.237392 \nL 226.250822 82.324854 \nL 252.15411 86.686579 \nL 261.867843 73.742042 \nL 287.771132 67.742195 \nL 297.484865 42.962371 \nL 313.67442 51.640261 \nL 323.388153 59.264365 \nL 339.577708 36.708981 \nL 342.815619 45.293774 \nL 365.480996 25.969076 \nL 371.956818 26.997112 \n\" style=\"fill:none;stroke:#ff0000;stroke-linecap:square;stroke-width:1.5;\"/>\n   </g>\n   <g id=\"line2d_12\">\n    <path clip-path=\"url(#p5dad267aa0)\" d=\"M 67.593182 214.756364 \nL 74.069004 206.428864 \nL 80.544826 208.715858 \nL 96.734381 205.582754 \nL 103.210203 197.246965 \nL 125.87558 165.946037 \nL 129.113491 163.432763 \nL 135.589313 160.30655 \nL 135.589313 160.30655 \nL 151.778868 159.854957 \nL 158.254691 160.284174 \nL 161.492602 160.188466 \nL 161.492602 160.188466 \nL 164.730513 159.770984 \nL 177.682157 153.867211 \nL 190.633801 140.985702 \nL 197.109623 132.716427 \nL 203.585445 123.972331 \nL 223.012911 100.527661 \nL 226.250822 97.559493 \nL 252.15411 83.86282 \nL 261.867843 80.625702 \nL 287.771132 65.840808 \nL 297.484865 58.584242 \nL 313.67442 49.741082 \nL 323.388153 47.806987 \nL 339.577708 45.181056 \nL 342.815619 43.452506 \nL 365.480996 17.083636 \nL 371.956818 23.538124 \n\" style=\"fill:none;stroke:#008000;stroke-linecap:square;stroke-width:1.5;\"/>\n   </g>\n   <g id=\"patch_3\">\n    <path d=\"M 52.375 224.64 \nL 52.375 7.2 \n\" style=\"fill:none;stroke:#000000;stroke-linecap:square;stroke-linejoin:miter;stroke-width:0.8;\"/>\n   </g>\n   <g id=\"patch_4\">\n    <path d=\"M 387.175 224.64 \nL 387.175 7.2 \n\" style=\"fill:none;stroke:#000000;stroke-linecap:square;stroke-linejoin:miter;stroke-width:0.8;\"/>\n   </g>\n   <g id=\"patch_5\">\n    <path d=\"M 52.375 224.64 \nL 387.175 224.64 \n\" style=\"fill:none;stroke:#000000;stroke-linecap:square;stroke-linejoin:miter;stroke-width:0.8;\"/>\n   </g>\n   <g id=\"patch_6\">\n    <path d=\"M 52.375 7.2 \nL 387.175 7.2 \n\" style=\"fill:none;stroke:#000000;stroke-linecap:square;stroke-linejoin:miter;stroke-width:0.8;\"/>\n   </g>\n  </g>\n </g>\n <defs>\n  <clipPath id=\"p5dad267aa0\">\n   <rect height=\"217.44\" width=\"334.8\" x=\"52.375\" y=\"7.2\"/>\n  </clipPath>\n </defs>\n</svg>\n",
      "image/png": "[encoded data removed]"
     },
     "metadata": {
      "needs_background": "light"
     }
    }
   ],
   "source": [
    "plt.plot(x,y,color='r')\n",
    "plt.plot(x,y_predicted,color='g')"
   ]
  }
 ]
}