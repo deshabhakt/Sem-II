{
 "metadata": {
  "language_info": {
   "codemirror_mode": {
    "name": "ipython",
    "version": 3
   },
   "file_extension": ".py",
   "mimetype": "text/x-python",
   "name": "python",
   "nbconvert_exporter": "python",
   "pygments_lexer": "ipython3",
   "version": "3.8.5"
  },
  "orig_nbformat": 2,
  "kernelspec": {
   "name": "python385jvsc74a57bd031f2aee4e71d21fbe5cf8b01ff0e069b9275f58929596ceb00d14d90e3e16cd6",
   "display_name": "Python 3.8.5 64-bit ('usr')"
  }
 },
 "nbformat": 4,
 "nbformat_minor": 2,
 "cells": [
  {
   "cell_type": "code",
   "execution_count": 39,
   "metadata": {},
   "outputs": [],
   "source": [
    "from numpy import *\n",
    "\n",
    "##################################################################\n",
    "# Recursive generation of the Legendre polynomial of order n\n",
    "def Legendre(n,x):\n",
    "\tx=array(x)\n",
    "\tif (n==0):\n",
    "\t\treturn x*0+1.0\n",
    "\telif (n==1):\n",
    "\t\treturn x\n",
    "\telse:\n",
    "\t\treturn ((2.0*n-1.0)*x*Legendre(n-1,x)-(n-1)*Legendre(n-2,x))/n\n",
    "\n",
    "##################################################################"
   ]
  },
  {
   "cell_type": "code",
   "execution_count": 40,
   "metadata": {},
   "outputs": [],
   "source": [
    "# Derivative of the Legendre polynomials\n",
    "def DLegendre(n,x):\n",
    "\tx=array(x)\n",
    "\tif (n==0):\n",
    "\t\treturn x*0\n",
    "\telif (n==1):\n",
    "\t\treturn x*0+1.0\n",
    "\telse:\n",
    "\t\treturn (n/(x**2-1.0))*(x*Legendre(n,x)-Legendre(n-1,x))"
   ]
  },
  {
   "cell_type": "code",
   "execution_count": 41,
   "metadata": {},
   "outputs": [],
   "source": [
    "def LegendreRoots(polyorder,tolerance=1e-20):\n",
    "    if polyorder<2:\n",
    "        err = 1\n",
    "    else:\n",
    "        roots = []\n",
    "        for i in range(1,int(polyorder/2) + 1):\n",
    "            x = cos(pi*(i-0.25)/(polyorder + 0.5))\n",
    "            error = 10*tolerance\n",
    "            iters = 0\n",
    "            while error>tolerance and iters<1000:\n",
    "                dx = -Legendre(polyorder,x)/DLegendre(polyorder,x)\n",
    "                x = x + dx\n",
    "                iters += 1\n",
    "                error = abs(dx)\n",
    "            roots.append(x)\n",
    "        roots = array(roots)\n",
    "        if polyorder%2==0:\n",
    "            roots = concatenate((-1.0*roots, roots[::-1]))\n",
    "        else:\n",
    "            roots = concatenate((-1.0*roots,[0,0],roots[::-1]))\n",
    "            err = 0\n",
    "        \n",
    "        return [roots,err]"
   ]
  },
  {
   "cell_type": "code",
   "execution_count": 42,
   "metadata": {},
   "outputs": [],
   "source": [
    "# Weight coefficients\n",
    "def GaussLegendreWeights(polyorder):\n",
    "\tW=[]\n",
    "\t[xis,err]=LegendreRoots(polyorder)\n",
    "\tif err==0:\n",
    "\t\tW=2.0/( (1.0-xis**2)*(DLegendre(polyorder,xis)**2) )\n",
    "\t\terr=0\n",
    "\telse:\n",
    "\t\terr=1 # could not determine roots - so no weights\n",
    "\treturn [W, xis, err]"
   ]
  },
  {
   "cell_type": "code",
   "execution_count": 43,
   "metadata": {},
   "outputs": [],
   "source": [
    "# The integral value\n",
    "# func \t\t: the integrand\n",
    "# a, b \t\t: lower and upper limits of the integral\n",
    "# polyorder \t: order of the Legendre polynomial to be used\n",
    "#\n",
    "def GaussLegendreQuadrature(func, polyorder, a, b):\n",
    "\t[Ws,xs, err]= GaussLegendreWeights(polyorder)\n",
    "\tif err==0:\n",
    "\t\tans=(b-a)*0.5*sum( Ws*func( (b-a)*0.5*xs+ (b+a)*0.5 ) )\n",
    "\telse:\n",
    "\t\t# (in case of error)\n",
    "\t\terr=1\n",
    "\t\tans=None\n",
    "\treturn [ans,err]"
   ]
  },
  {
   "cell_type": "code",
   "execution_count": 44,
   "metadata": {},
   "outputs": [
    {
     "output_type": "stream",
     "name": "stdout",
     "text": [
      "Order    :  5\n",
      "Roots    :  [-0.90617985 -0.53846931  0.          0.          0.53846931  0.90617985]\n",
      "Weights  :  [0.23692689 0.47862867 0.56888889 0.56888889 0.47862867 0.23692689]\n",
      "Integral :  21.74224438505223\n"
     ]
    }
   ],
   "source": [
    "# The integrand - change as required\n",
    "def func(x):\n",
    "\treturn exp(x)\n",
    "\n",
    "order=5\n",
    "[Ws,xs,err]=GaussLegendreWeights(order)\n",
    "if err==0:\n",
    "\tprint(\"Order    : \", order)\n",
    "\tprint(\"Roots    : \", xs)\n",
    "\tprint(\"Weights  : \", Ws)\n",
    "else:\n",
    "\tprint(\"Roots/Weights evaluation failed\")\n",
    "\n",
    "# Integrating the function\n",
    "[ans,err]=GaussLegendreQuadrature(func , order, -3,3)\n",
    "if err==0:\n",
    "\tprint(\"Integral : \", ans)\n",
    "else:\n",
    "\tprint(\"Integral evaluation failed\")"
   ]
  }
 ]
}