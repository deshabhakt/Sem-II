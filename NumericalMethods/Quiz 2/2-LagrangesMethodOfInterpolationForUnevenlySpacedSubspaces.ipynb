{
 "metadata": {
  "language_info": {
   "codemirror_mode": {
    "name": "ipython",
    "version": 3
   },
   "file_extension": ".py",
   "mimetype": "text/x-python",
   "name": "python",
   "nbconvert_exporter": "python",
   "pygments_lexer": "ipython3",
   "version": "3.8.5"
  },
  "orig_nbformat": 2,
  "kernelspec": {
   "name": "python3",
   "display_name": "Python 3",
   "language": "python"
  }
 },
 "nbformat": 4,
 "nbformat_minor": 2,
 "cells": [
  {
   "cell_type": "code",
   "execution_count": 11,
   "metadata": {},
   "outputs": [],
   "source": [
    "import numpy as np\n",
    "import copy\n",
    "import sympy as sp\n",
    "\n",
    "x = sp.Symbol('x', real=True)"
   ]
  },
  {
   "cell_type": "code",
   "execution_count": 12,
   "metadata": {},
   "outputs": [],
   "source": [
    "def LagrangeInterpolation(x,y,a):\n",
    "    n = len(x)\n",
    "    c_lst = []\n",
    "    term_details =[]\n",
    "    result = 0\n",
    "    for i in range(n):\n",
    "        numerator = 1\n",
    "        denominator = 1\n",
    "        c_lst_tmp = []\n",
    "        for j in range(n):\n",
    "            if(i!=j):\n",
    "                c_lst_tmp.append(x[j])\n",
    "                numerator = numerator*(a-x[j])\n",
    "                denominator = denominator*(x[i]-x[j])\n",
    "        \n",
    "        c_lst.append(c_lst_tmp)\n",
    "\n",
    "        result += (numerator/denominator)*(y[i])\n",
    "        term_details.append([(i+1),numerator,denominator,y[i]])\n",
    "    \n",
    "    return result, term_details,c_lst"
   ]
  },
  {
   "source": [
    "def calculate_numerator_expression(c_lst):\n",
    "    x = sp.Symbol('x',real=True)\n",
    "    \n",
    "    m = len(c_lst)\n",
    "    n = len(c_lst[0])\n",
    "    \n",
    "    expression_lst = []\n",
    "    lambdified_lst = []\n",
    "\n",
    "    if n==2:\n",
    "        for i in range(m):\n",
    "            a = c_lst[i][0]\n",
    "            b = c_lst[i][1]\n",
    "            expression = x**2 - (a+b)*x + a*b\n",
    "            expression_lst.append(expression)\n",
    "    elif n==3:\n",
    "        for i in range(m):\n",
    "            a = c_lst[i][0]\n",
    "            b = c_lst[i][1]\n",
    "            c = c_lst[i][2]\n",
    "            expression = x**3 - (a+b+c)*(x**2) + (a*b+b*c+a*c)*x - a*b*c\n",
    "            expression_lst.append(expression)\n",
    "    elif n==4:\n",
    "        for i in range(m):\n",
    "            a = c_lst[i][0]\n",
    "            b = c_lst[i][1]\n",
    "            c = c_lst[i][2]\n",
    "            d = c_lst[i][3]\n",
    "            expression = x**4 - (a+b+c+d)*x**3 + (a*b + b*c + b*d + a*c + a*d +c*d)*x**2 - (a*b*c + b*c*d + a*b*d + a*c*d)*x + a*b*c*d\n",
    "            expression_lst.append(expression)\n",
    "    \n",
    "    if len(expression_lst)!=0:\n",
    "        for expression in expression_lst:\n",
    "            lambdified_lst.append(sp.lambdify(x,expression)) \n",
    "    \n",
    "    return expression_lst,lambdified_lst"
   ],
   "cell_type": "code",
   "metadata": {},
   "execution_count": 13,
   "outputs": []
  },
  {
   "cell_type": "code",
   "execution_count": 14,
   "metadata": {},
   "outputs": [],
   "source": [
    "def print_lmultipliers(lmultipliers,x):\n",
    "    for multiplier in lmultipliers:\n",
    "        print()\n",
    "        print(f'Term = {multiplier[0]}')\n",
    "        print(f'Numerator = {multiplier[1]}')\n",
    "        print(f'Denominator = {multiplier[2]}')\n",
    "        print(f'f({x[multiplier[0]-1]}) = {multiplier[3]}')\n",
    "        print()\n"
   ]
  },
  {
   "cell_type": "code",
   "execution_count": 15,
   "metadata": {},
   "outputs": [],
   "source": [
    "# x = np.array([8,27,64,125])\n",
    "# y = np.array([2,3,4,5])\n",
    "\n",
    "x = np.array([1,2,7,8])\n",
    "y = np.array([4,5,5,4])\n",
    "\n",
    "# x = np.array([1,3,4,6,10])\n",
    "# y = np.array([0,18,48,180,900])\n",
    "p = 10\n",
    "\n",
    "result, terms,lst_for_coefficient_calculations_of_numerator_equations_in_each_term = LagrangeInterpolation(x,y,p)"
   ]
  },
  {
   "source": [
    "# f(p) or result"
   ],
   "cell_type": "markdown",
   "metadata": {}
  },
  {
   "cell_type": "code",
   "execution_count": 16,
   "metadata": {},
   "outputs": [
    {
     "output_type": "stream",
     "name": "stdout",
     "text": [
      "f10 = 1.0000000000000036\n"
     ]
    }
   ],
   "source": [
    "print(f'f{p} = {result}')"
   ]
  },
  {
   "source": [
    "# Finding numerator equations for each term"
   ],
   "cell_type": "markdown",
   "metadata": {}
  },
  {
   "cell_type": "code",
   "execution_count": 17,
   "metadata": {},
   "outputs": [],
   "source": [
    "numerator_equation_lst,lamdified_numerator_equation_lst = calculate_numerator_expression(lst_for_coefficient_calculations_of_numerator_equations_in_each_term)"
   ]
  },
  {
   "cell_type": "code",
   "execution_count": 18,
   "metadata": {},
   "outputs": [
    {
     "output_type": "execute_result",
     "data": {
      "text/plain": [
       "[x**3 - 17*x**2 + 86*x - 112,\n",
       " x**3 - 16*x**2 + 71*x - 56,\n",
       " x**3 - 11*x**2 + 26*x - 16,\n",
       " x**3 - 10*x**2 + 23*x - 14]"
      ]
     },
     "metadata": {},
     "execution_count": 18
    }
   ],
   "source": [
    "numerator_equation_lst"
   ]
  },
  {
   "cell_type": "code",
   "execution_count": 19,
   "metadata": {},
   "outputs": [
    {
     "output_type": "stream",
     "name": "stdout",
     "text": [
      "Term = 1    Numerator = 48\n\nTerm = 2    Numerator = 54\n\nTerm = 3    Numerator = 144\n\nTerm = 4    Numerator = 216\n\n"
     ]
    }
   ],
   "source": [
    "for i in range(len(lamdified_numerator_equation_lst)):\n",
    "    f = lamdified_numerator_equation_lst[i]\n",
    "    print(f'Term = {i+1}    Numerator = {f(p)}\\n')"
   ]
  },
  {
   "source": [
    "## The above terms should match with numerator terms in the below cells output"
   ],
   "cell_type": "markdown",
   "metadata": {}
  },
  {
   "source": [
    "# printing details of each term used in calculation"
   ],
   "cell_type": "markdown",
   "metadata": {}
  },
  {
   "cell_type": "code",
   "execution_count": 20,
   "metadata": {},
   "outputs": [
    {
     "output_type": "stream",
     "name": "stdout",
     "text": [
      "\nTerm = 1\nNumerator = 48\nDenominator = -42\nf(1) = 4\n\n\nTerm = 2\nNumerator = 54\nDenominator = 30\nf(2) = 5\n\n\nTerm = 3\nNumerator = 144\nDenominator = -30\nf(7) = 5\n\n\nTerm = 4\nNumerator = 216\nDenominator = 42\nf(8) = 4\n\n"
     ]
    }
   ],
   "source": [
    "print_lmultipliers(terms,x)"
   ]
  }
 ]
}