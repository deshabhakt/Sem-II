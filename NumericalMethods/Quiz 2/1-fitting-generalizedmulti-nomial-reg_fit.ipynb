{
 "metadata": {
  "language_info": {
   "codemirror_mode": {
    "name": "ipython",
    "version": 3
   },
   "file_extension": ".py",
   "mimetype": "text/x-python",
   "name": "python",
   "nbconvert_exporter": "python",
   "pygments_lexer": "ipython3",
   "version": "3.8.5"
  },
  "orig_nbformat": 2,
  "kernelspec": {
   "name": "python385jvsc74a57bd031f2aee4e71d21fbe5cf8b01ff0e069b9275f58929596ceb00d14d90e3e16cd6",
   "display_name": "Python 3.8.5 64-bit ('usr')"
  }
 },
 "nbformat": 4,
 "nbformat_minor": 2,
 "cells": [
  {
   "cell_type": "code",
   "execution_count": null,
   "metadata": {},
   "outputs": [],
   "source": [
    "import matplotlib.pyplot as plt\n",
    "import pandas as pd\n",
    "import numpy as np\n",
    "import math\n",
    "import sympy as sp\n",
    "\n",
    "x = sp.Symbol('x', real=True)"
   ]
  },
  {
   "cell_type": "code",
   "execution_count": null,
   "metadata": {},
   "outputs": [],
   "source": [
    "def printMatrix(V,name='A'):\n",
    "    print(f'Matrix {name} =\\n')\n",
    "    m = len(V)\n",
    "    n = len(V[0])\n",
    "    for i in range(m):\n",
    "        for j in range(n):\n",
    "            print(f'{V[i][j]:25.3f}',end='  ')\n",
    "        print()\n",
    "    print()\n"
   ]
  },
  {
   "cell_type": "code",
   "execution_count": null,
   "metadata": {},
   "outputs": [],
   "source": [
    "def mulregfit(x,y,degree):\n",
    "    X_t = []\n",
    "    y_t = []\n",
    "    n = len(x)\n",
    "\n",
    "    X_t.append(n)\n",
    "    i = 1\n",
    "    while(True):\n",
    "        X_t.append(sum((x**i)))\n",
    "        if(i/2 == degree):\n",
    "            break\n",
    "        i += 1   \n",
    "    \n",
    "    print(len(X_t))\n",
    "    \n",
    "    y_t.append(sum(y))\n",
    "    for i in range(1,degree+1):        \n",
    "        y_t.append(sum((x**i)*y))\n",
    "    \n",
    "    A = np.zeros((degree+1,degree+1),dtype=float)\n",
    "    b = np.zeros((degree+1,1),dtype=float)\n",
    "\n",
    "    for i in range(degree+1):\n",
    "        k = i\n",
    "        for j in range(degree+1):\n",
    "            A[i,j] = X_t[k]\n",
    "            k +=1\n",
    "    \n",
    "    for i in range(degree+1):\n",
    "        b[i,0] = y_t[i]\n",
    "\n",
    "    coefficients = np.matmul(np.linalg.inv(A),b)\n",
    "\n",
    "    return coefficients[:,0],A,b"
   ]
  },
  {
   "source": [
    "def y_predict(a,p):\n",
    "    if isinstance(p, list):\n",
    "        ret = []\n",
    "        n = len(p)\n",
    "        for i in range(n):\n",
    "            temp = 0\n",
    "            for j in range(len(a)):\n",
    "                temp += a[j]*(p[i]**j)\n",
    "            ret.append(temp)\n",
    "        return ret\n",
    "\n",
    "    else:\n",
    "        ret = 0\n",
    "        for j in range(len(a)):\n",
    "            ret += a[j]*(p**j)\n",
    "        return ret"
   ],
   "cell_type": "code",
   "metadata": {},
   "execution_count": null,
   "outputs": []
  },
  {
   "cell_type": "code",
   "execution_count": null,
   "metadata": {},
   "outputs": [],
   "source": [
    "x = []\n",
    "y = []"
   ]
  },
  {
   "cell_type": "code",
   "execution_count": null,
   "metadata": {},
   "outputs": [],
   "source": [
    "degree = 10          # degreee of fit\n",
    "\n",
    "p =  4               # to be predicted"
   ]
  },
  {
   "cell_type": "code",
   "execution_count": null,
   "metadata": {},
   "outputs": [],
   "source": [
    "a,A,b = mulregfit(x,y,degree)"
   ]
  },
  {
   "cell_type": "code",
   "execution_count": null,
   "metadata": {},
   "outputs": [],
   "source": [
    "printMatrix(A,'A')\n",
    "printMatrix(b,'b')"
   ]
  },
  {
   "cell_type": "code",
   "execution_count": null,
   "metadata": {},
   "outputs": [],
   "source": [
    "print(a)"
   ]
  },
  {
   "cell_type": "code",
   "execution_count": null,
   "metadata": {},
   "outputs": [],
   "source": [
    "y_predicted = y_predict(a,x)"
   ]
  },
  {
   "cell_type": "code",
   "execution_count": null,
   "metadata": {},
   "outputs": [],
   "source": [
    "plt.plot(x,y,color='r')\n",
    "plt.plot(x,y_predicted,color='g')"
   ]
  }
 ]
}