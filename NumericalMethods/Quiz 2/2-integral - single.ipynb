{
 "metadata": {
  "language_info": {
   "codemirror_mode": {
    "name": "ipython",
    "version": 3
   },
   "file_extension": ".py",
   "mimetype": "text/x-python",
   "name": "python",
   "nbconvert_exporter": "python",
   "pygments_lexer": "ipython3",
   "version": "3.8.5"
  },
  "orig_nbformat": 2,
  "kernelspec": {
   "name": "python3",
   "display_name": "Python 3",
   "language": "python"
  }
 },
 "nbformat": 4,
 "nbformat_minor": 2,
 "cells": [
  {
   "cell_type": "code",
   "execution_count": 1,
   "metadata": {},
   "outputs": [],
   "source": [
    "import numpy as np\n",
    "import math\n",
    "import sympy as sp\n",
    "\n",
    "x = sp.Symbol('x', real=True)"
   ]
  },
  {
   "cell_type": "code",
   "execution_count": 2,
   "metadata": {},
   "outputs": [],
   "source": [
    "def trapezoidalMethod(f,x0,xn,n):\n",
    "\n",
    "    # calculating step size\n",
    "    h = (xn - x0) / n\n",
    "    \n",
    "    # Finding sum \n",
    "    integration = f(x0) \n",
    "    print(f'y0\\t{integration}')\n",
    "    for i in range(1,n):\n",
    "        k = x0 + i*h\n",
    "        integration = integration + 2 * f(k)\n",
    "        print(f'y{i}\\t{f(k)}')\n",
    "\n",
    "    integration = integration + f(xn)\n",
    "    \n",
    "    print(f'y{n}\\t{f(xn)}')\n",
    "    \n",
    "    # Finding final integration value\n",
    "    integration = integration * h/2\n",
    "    print(f'\\nFinal Integration = {integration}')\n",
    "    \n",
    "    return integration"
   ]
  },
  {
   "cell_type": "code",
   "execution_count": 3,
   "metadata": {},
   "outputs": [],
   "source": [
    "def simpsons_1_3_method(f,x0,xn,n):\n",
    "    \n",
    "    # calculating step size\n",
    "    h = (xn - x0) / n\n",
    "\n",
    "    # Finding sum \n",
    "    integration = f(x0) \n",
    "    \n",
    "    print(f'y{0}\\t{integration}')\n",
    "\n",
    "    for i in range(1,n):\n",
    "        k = x0 + i*h\n",
    "        \n",
    "        if i%2 == 0:\n",
    "            integration = integration + 2 * f(k)\n",
    "        else:\n",
    "            integration = integration + 4 * f(k)\n",
    "        print(f'y{i}\\t{f(k)}')\n",
    "    \n",
    "    integration = integration + f(xn)\n",
    "        \n",
    "    print(f'y{n}\\t{f(xn)}')\n",
    "    \n",
    "    # Finding final integration value\n",
    "    integration = integration * h/3\n",
    "    print(f'\\nFinal Integration = {integration}')\n",
    "    \n",
    "    return integration"
   ]
  },
  {
   "cell_type": "code",
   "execution_count": 4,
   "metadata": {},
   "outputs": [],
   "source": [
    "def simpsons_3_8_method(f,x0,xn,n):\n",
    "    \n",
    "    if n%3 == 0:\n",
    "        # calculating step size\n",
    "        h = (xn - x0) / n\n",
    "        \n",
    "        # Finding sum \n",
    "        integration = f(x0)\n",
    "        \n",
    "        print(f'y{0}\\t{integration}')\n",
    "        \n",
    "        for i in range(1,n):\n",
    "            k = x0 + i*h\n",
    "            \n",
    "            if i%3 == 0:\n",
    "                integration = integration + 2 * f(k)\n",
    "                print(f'y{i}\\t{f(k)}')\n",
    "            else:\n",
    "                integration = integration + 3 * f(k)\n",
    "                print(f'y{i}\\t{f(k)}')\n",
    "\n",
    "        integration = integration + f(xn)\n",
    "        \n",
    "        print(f'y{n}\\t{f(xn)}')\n",
    "       \n",
    "       \n",
    "        # Finding final integration value\n",
    "        integration = integration * 3 * h / 8\n",
    "        print(f'\\nFinal Integration = {integration}')\n",
    "\n",
    "        return integration\n",
    "    \n",
    "    else:\n",
    "        print(\"n - not divisible by 3.\")\n",
    "        "
   ]
  },
  {
   "cell_type": "code",
   "execution_count": 5,
   "metadata": {},
   "outputs": [],
   "source": [
    "def trapezoidalerror(f,a,b,n):\n",
    "    \n",
    "    d2f = sp.lambdify(x,sp.diff(f,x,2))\n",
    "\n",
    "    mx = max(abs(d2f(a)),abs(d2f(b)))\n",
    "    \n",
    "    h = (b-a)/n\n",
    "    \n",
    "    error = -((b-a)/12)*(h**2)*mx\n",
    "    \n",
    "    return abs(error)"
   ]
  },
  {
   "cell_type": "code",
   "execution_count": 6,
   "metadata": {},
   "outputs": [],
   "source": [
    "def simpsons_1_3_error(F,a,b,n):\n",
    "    \n",
    "    d4f = sp.lambdify(x,sp.diff(F,x,4))\n",
    "    mx = max( abs(d4f(a)) , abs(d4f(b)) )\n",
    "    \n",
    "    h = (b-a)/n\n",
    "    \n",
    "    error = -((b-a)/180)*(h**4)*mx\n",
    "    \n",
    "    return abs(error)"
   ]
  },
  {
   "cell_type": "code",
   "execution_count": 7,
   "metadata": {},
   "outputs": [],
   "source": [
    "def simpsons_3_8_error(F,a,b,n):\n",
    "    \n",
    "    d4f = sp.lambdify(x,sp.diff(F,x,4))\n",
    "    mx = max( abs(d4f(a)), abs(d4f(b)) )\n",
    "    \n",
    "    h = (b-a)/n\n",
    "    \n",
    "    error = -((b-a)/80)*(h**4)*mx\n",
    "    \n",
    "    return abs(error)"
   ]
  },
  {
   "cell_type": "code",
   "execution_count": 8,
   "metadata": {},
   "outputs": [],
   "source": [
    "a =  1\n",
    "b =  1.6\n",
    "\n",
    "n =  6\n",
    "\n",
    "F = 2*x/((x**2)-4)       # Change only this\n",
    "\n",
    "f = sp.lambdify(x,F)\n",
    "\n",
    "# h = 0.25     \n",
    "# n = (b-a)/h"
   ]
  },
  {
   "source": [
    "trapezoidal_integration = trapezoidalMethod(f,a, b, n)"
   ],
   "cell_type": "code",
   "metadata": {},
   "execution_count": 9,
   "outputs": [
    {
     "output_type": "stream",
     "name": "stdout",
     "text": [
      "y0\t-0.6666666666666666\ny1\t-0.7885304659498208\ny2\t-0.9375\ny3\t-1.1255411255411258\ny4\t-1.3725490196078436\ny5\t-1.7142857142857142\ny6\t-2.222222222222223\n\nFinal Integration = -0.738285076982895\n"
     ]
    }
   ]
  },
  {
   "source": [
    "sims_1_3 = simpsons_1_3_method(f,a, b, n)"
   ],
   "cell_type": "code",
   "metadata": {},
   "execution_count": 10,
   "outputs": [
    {
     "output_type": "stream",
     "name": "stdout",
     "text": [
      "y0\t-0.6666666666666666\ny1\t-0.7885304659498208\ny2\t-0.9375\ny3\t-1.1255411255411258\ny4\t-1.3725490196078436\ny5\t-1.7142857142857142\ny6\t-2.222222222222223\n\nFinal Integration = -0.7340805383737075\n"
     ]
    }
   ]
  },
  {
   "source": [
    "sims_3_8 = simpsons_3_8_method(f,a,b,n)"
   ],
   "cell_type": "code",
   "metadata": {},
   "execution_count": 11,
   "outputs": [
    {
     "output_type": "stream",
     "name": "stdout",
     "text": [
      "y0\t-0.6666666666666666\ny1\t-0.7885304659498208\ny2\t-0.9375\ny3\t-1.1255411255411258\ny4\t-1.3725490196078436\ny5\t-1.7142857142857142\ny6\t-2.222222222222223\n\nFinal Integration = -0.734196252731298\n"
     ]
    }
   ]
  },
  {
   "cell_type": "code",
   "execution_count": 12,
   "metadata": {},
   "outputs": [
    {
     "output_type": "stream",
     "name": "stdout",
     "text": [
      "Trapezoidal Method error(using formula) = 0.015603566529492479\n"
     ]
    }
   ],
   "source": [
    "trapErrorUsingFormula = trapezoidalerror(F,a,b,n)\n",
    "print(f'Trapezoidal Method error(using formula) = {trapErrorUsingFormula}')"
   ]
  },
  {
   "cell_type": "code",
   "execution_count": 13,
   "metadata": {},
   "outputs": [
    {
     "output_type": "stream",
     "name": "stdout",
     "text": [
      "Simpsons 1/3 method error using formula = 0.000781236769462652\n"
     ]
    }
   ],
   "source": [
    "simps_1_3_error_using_formula = simpsons_1_3_error(F,a,b,n)\n",
    "print(f'Simpsons 1/3 method error using formula = {simps_1_3_error_using_formula}')"
   ]
  },
  {
   "cell_type": "code",
   "execution_count": 14,
   "metadata": {},
   "outputs": [
    {
     "output_type": "stream",
     "name": "stdout",
     "text": [
      "Simpsons 3/8 method error using formula = 0.0017577827312909669\n"
     ]
    }
   ],
   "source": [
    "simps_3_8_error_using_formula = simpsons_3_8_error(F,a,b,n)\n",
    "print(f'Simpsons 3/8 method error using formula = {simps_3_8_error_using_formula}')"
   ]
  },
  {
   "source": [
    "exact = "
   ],
   "cell_type": "markdown",
   "metadata": {}
  },
  {
   "source": [
    "print(abs(trapezoidal_integration-exact))\n",
    "print(abs(sims_1_3-exact))\n",
    "print(abs(sims_3_8-exact))"
   ],
   "cell_type": "markdown",
   "metadata": {}
  },
  {
   "cell_type": "code",
   "execution_count": 15,
   "metadata": {},
   "outputs": [],
   "source": [
    "symbolic = sp.Integral(F,(x,a,b))"
   ]
  },
  {
   "cell_type": "code",
   "execution_count": 16,
   "metadata": {},
   "outputs": [
    {
     "output_type": "execute_result",
     "data": {
      "text/plain": [
       "Integral(2*x/(x**2 - 4), (x, 1, 1.6))"
      ],
      "text/latex": "$\\displaystyle \\int\\limits_{1}^{1.6} \\frac{2 x}{x^{2} - 4}\\, dx$"
     },
     "metadata": {},
     "execution_count": 16
    }
   ],
   "source": [
    "symbolic"
   ]
  }
 ]
}